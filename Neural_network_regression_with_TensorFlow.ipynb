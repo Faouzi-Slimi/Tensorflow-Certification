{
  "cells": [
    {
      "cell_type": "markdown",
      "metadata": {
        "id": "view-in-github",
        "colab_type": "text"
      },
      "source": [
        "<a href=\"https://colab.research.google.com/github/Faouzi-Slimi/Tensorflow-Certification/blob/main/Neural_network_regression_with_TensorFlow.ipynb\" target=\"_parent\"><img src=\"https://colab.research.google.com/assets/colab-badge.svg\" alt=\"Open In Colab\"/></a>"
      ]
    },
    {
      "cell_type": "markdown",
      "metadata": {
        "id": "Eb35dYJa8sx5"
      },
      "source": [
        "### Introduction to Regression with Neural Networks in TeensorFlow\n",
        "\n"
      ]
    },
    {
      "cell_type": "code",
      "execution_count": null,
      "metadata": {
        "colab": {
          "base_uri": "https://localhost:8080/"
        },
        "id": "UGz8rkI086yN",
        "outputId": "f23c40c2-8fba-4bb7-f7d6-f44c09f84c26"
      },
      "outputs": [
        {
          "name": "stdout",
          "output_type": "stream",
          "text": [
            "2.8.2\n"
          ]
        }
      ],
      "source": [
        "# Import Tensorflow\n",
        "\n",
        "import tensorflow as tf\n",
        "\n",
        "print(tf.__version__)"
      ]
    },
    {
      "cell_type": "markdown",
      "metadata": {
        "id": "KBrez9OC9LQp"
      },
      "source": [
        "## Creating data to view and fit"
      ]
    },
    {
      "cell_type": "code",
      "execution_count": null,
      "metadata": {
        "colab": {
          "base_uri": "https://localhost:8080/",
          "height": 286
        },
        "id": "B6W-0ooq9Fuw",
        "outputId": "1edfbdc2-6676-4cba-a7bd-21597277da99"
      },
      "outputs": [
        {
          "data": {
            "text/plain": [
              "<matplotlib.collections.PathCollection at 0x7fddf8afca10>"
            ]
          },
          "execution_count": 2,
          "metadata": {},
          "output_type": "execute_result"
        },
        {
          "data": {
            "image/png": "[encoded data removed]",
            "text/plain": [
              "<Figure size 432x288 with 1 Axes>"
            ]
          },
          "metadata": {},
          "output_type": "display_data"
        }
      ],
      "source": [
        "import numpy as np\n",
        "import matplotlib.pyplot as plt\n",
        "\n",
        "# create feature\n",
        "x = np.array([-7.0,-4.0,-1.0,2.0,5.0,8.0,11.0,14.0])\n",
        "\n",
        "# Create labels\n",
        "\n",
        "y = np.array(x+10)\n",
        "# Visualize it\n",
        "\n",
        "plt.scatter(x,y)"
      ]
    },
    {
      "cell_type": "markdown",
      "metadata": {
        "id": "zADp1GLM-L4p"
      },
      "source": [
        "#Input and Output shape"
      ]
    },
    {
      "cell_type": "code",
      "execution_count": null,
      "metadata": {
        "colab": {
          "base_uri": "https://localhost:8080/"
        },
        "id": "nYF6GAsi-K_4",
        "outputId": "dbb4d3b8-dbe7-4b09-988b-cfc92c167074"
      },
      "outputs": [
        {
          "data": {
            "text/plain": [
              "((8,), (8,))"
            ]
          },
          "execution_count": 3,
          "metadata": {},
          "output_type": "execute_result"
        }
      ],
      "source": [
        "input_shape = x.shape\n",
        "output_shape = y.shape\n",
        "\n",
        "input_shape , output_shape\n"
      ]
    },
    {
      "cell_type": "code",
      "execution_count": null,
      "metadata": {
        "colab": {
          "base_uri": "https://localhost:8080/"
        },
        "id": "0Dv5fVKW-1S3",
        "outputId": "6820e300-7172-407e-f78c-11fdf9b2d394"
      },
      "outputs": [
        {
          "data": {
            "text/plain": [
              "(TensorShape([8]), TensorShape([8]))"
            ]
          },
          "execution_count": 4,
          "metadata": {},
          "output_type": "execute_result"
        }
      ],
      "source": [
        "# Turn Numpy arry to tensors\n",
        "\n",
        "x = tf.constant(x)\n",
        "y = tf.constant(y)\n",
        "\n",
        "x.shape , y.shape"
      ]
    },
    {
      "cell_type": "markdown",
      "metadata": {
        "id": "6T5kPA_N_N8f"
      },
      "source": [
        "## Steps in modelling with tensorflow\n"
      ]
    },
    {
      "cell_type": "code",
      "execution_count": null,
      "metadata": {
        "colab": {
          "base_uri": "https://localhost:8080/"
        },
        "id": "ftkgpmOt_JLa",
        "outputId": "2c8eb72f-4d52-44dd-b4bd-4d69f098c03c"
      },
      "outputs": [
        {
          "name": "stdout",
          "output_type": "stream",
          "text": [
            "Epoch 1/5\n",
            "1/1 [==============================] - 1s 539ms/step - loss: 11.5048 - mae: 11.5048\n",
            "Epoch 2/5\n",
            "1/1 [==============================] - 0s 15ms/step - loss: 11.3723 - mae: 11.3723\n",
            "Epoch 3/5\n",
            "1/1 [==============================] - 0s 17ms/step - loss: 11.2398 - mae: 11.2398\n",
            "Epoch 4/5\n",
            "1/1 [==============================] - 0s 10ms/step - loss: 11.1073 - mae: 11.1073\n",
            "Epoch 5/5\n",
            "1/1 [==============================] - 0s 6ms/step - loss: 10.9748 - mae: 10.9748\n"
          ]
        },
        {
          "data": {
            "text/plain": [
              "<keras.callbacks.History at 0x7fddf4823350>"
            ]
          },
          "execution_count": 5,
          "metadata": {},
          "output_type": "execute_result"
        }
      ],
      "source": [
        "# set random seed\n",
        "\n",
        "tf.random.set_seed(42)\n",
        "# Turn x and y to float32\n",
        "\n",
        "x = tf.cast(x,dtype=tf.float32)\n",
        "y = tf.cast(y,dtype = tf.float32)\n",
        "\n",
        "#1 create model using Sequential API\n",
        "model = tf.keras.Sequential([\n",
        "                             tf.keras.layers.Dense(1)\n",
        "])\n",
        "\n",
        "# 2 Compile the model\n",
        "\n",
        "model.compile(loss = tf.keras.losses.mae,\n",
        "              optimizer = tf.keras.optimizers.SGD(),\n",
        "              metrics = [\"mae\"])\n",
        "#3 Fit the model\n",
        "\n",
        "model.fit(np.expand_dims(x,1),y,epochs=5)"
      ]
    },
    {
      "cell_type": "code",
      "execution_count": null,
      "metadata": {
        "id": "U0M1UhujC8oq"
      },
      "outputs": [],
      "source": [
        "# Try to make prodiction using our model\n",
        "\n",
        "y_pred = model.predict([17.0])"
      ]
    },
    {
      "cell_type": "markdown",
      "metadata": {
        "id": "60FtoAAcDUva"
      },
      "source": [
        "## Improving our model"
      ]
    },
    {
      "cell_type": "code",
      "execution_count": null,
      "metadata": {
        "colab": {
          "base_uri": "https://localhost:8080/"
        },
        "id": "PS1BZfq8DS9H",
        "outputId": "4ff39ebf-34e5-4c6b-f889-662a071b875c"
      },
      "outputs": [
        {
          "name": "stdout",
          "output_type": "stream",
          "text": [
            "Epoch 1/100\n",
            "1/1 [==============================] - 0s 304ms/step - loss: 11.2219 - mae: 11.2219\n",
            "Epoch 2/100\n",
            "1/1 [==============================] - 0s 8ms/step - loss: 11.0894 - mae: 11.0894\n",
            "Epoch 3/100\n",
            "1/1 [==============================] - 0s 6ms/step - loss: 10.9569 - mae: 10.9569\n",
            "Epoch 4/100\n",
            "1/1 [==============================] - 0s 18ms/step - loss: 10.8244 - mae: 10.8244\n",
            "Epoch 5/100\n",
            "1/1 [==============================] - 0s 7ms/step - loss: 10.6919 - mae: 10.6919\n",
            "Epoch 6/100\n",
            "1/1 [==============================] - 0s 12ms/step - loss: 10.5594 - mae: 10.5594\n",
            "Epoch 7/100\n",
            "1/1 [==============================] - 0s 20ms/step - loss: 10.4269 - mae: 10.4269\n",
            "Epoch 8/100\n",
            "1/1 [==============================] - 0s 17ms/step - loss: 10.2944 - mae: 10.2944\n",
            "Epoch 9/100\n",
            "1/1 [==============================] - 0s 24ms/step - loss: 10.1619 - mae: 10.1619\n",
            "Epoch 10/100\n",
            "1/1 [==============================] - 0s 15ms/step - loss: 10.0294 - mae: 10.0294\n",
            "Epoch 11/100\n",
            "1/1 [==============================] - 0s 19ms/step - loss: 9.8969 - mae: 9.8969\n",
            "Epoch 12/100\n",
            "1/1 [==============================] - 0s 16ms/step - loss: 9.7644 - mae: 9.7644\n",
            "Epoch 13/100\n",
            "1/1 [==============================] - 0s 20ms/step - loss: 9.6319 - mae: 9.6319\n",
            "Epoch 14/100\n",
            "1/1 [==============================] - 0s 28ms/step - loss: 9.4994 - mae: 9.4994\n",
            "Epoch 15/100\n",
            "1/1 [==============================] - 0s 10ms/step - loss: 9.3669 - mae: 9.3669\n",
            "Epoch 16/100\n",
            "1/1 [==============================] - 0s 10ms/step - loss: 9.2344 - mae: 9.2344\n",
            "Epoch 17/100\n",
            "1/1 [==============================] - 0s 15ms/step - loss: 9.1019 - mae: 9.1019\n",
            "Epoch 18/100\n",
            "1/1 [==============================] - 0s 9ms/step - loss: 8.9694 - mae: 8.9694\n",
            "Epoch 19/100\n",
            "1/1 [==============================] - 0s 8ms/step - loss: 8.8369 - mae: 8.8369\n",
            "Epoch 20/100\n",
            "1/1 [==============================] - 0s 7ms/step - loss: 8.7044 - mae: 8.7044\n",
            "Epoch 21/100\n",
            "1/1 [==============================] - 0s 8ms/step - loss: 8.5719 - mae: 8.5719\n",
            "Epoch 22/100\n",
            "1/1 [==============================] - 0s 6ms/step - loss: 8.4394 - mae: 8.4394\n",
            "Epoch 23/100\n",
            "1/1 [==============================] - 0s 8ms/step - loss: 8.3069 - mae: 8.3069\n",
            "Epoch 24/100\n",
            "1/1 [==============================] - 0s 57ms/step - loss: 8.1744 - mae: 8.1744\n",
            "Epoch 25/100\n",
            "1/1 [==============================] - 0s 13ms/step - loss: 8.0419 - mae: 8.0419\n",
            "Epoch 26/100\n",
            "1/1 [==============================] - 0s 8ms/step - loss: 7.9094 - mae: 7.9094\n",
            "Epoch 27/100\n",
            "1/1 [==============================] - 0s 12ms/step - loss: 7.7769 - mae: 7.7769\n",
            "Epoch 28/100\n",
            "1/1 [==============================] - 0s 11ms/step - loss: 7.6444 - mae: 7.6444\n",
            "Epoch 29/100\n",
            "1/1 [==============================] - 0s 12ms/step - loss: 7.5119 - mae: 7.5119\n",
            "Epoch 30/100\n",
            "1/1 [==============================] - 0s 10ms/step - loss: 7.3794 - mae: 7.3794\n",
            "Epoch 31/100\n",
            "1/1 [==============================] - 0s 12ms/step - loss: 7.2750 - mae: 7.2750\n",
            "Epoch 32/100\n",
            "1/1 [==============================] - 0s 11ms/step - loss: 7.2694 - mae: 7.2694\n",
            "Epoch 33/100\n",
            "1/1 [==============================] - 0s 13ms/step - loss: 7.2638 - mae: 7.2638\n",
            "Epoch 34/100\n",
            "1/1 [==============================] - 0s 13ms/step - loss: 7.2581 - mae: 7.2581\n",
            "Epoch 35/100\n",
            "1/1 [==============================] - 0s 19ms/step - loss: 7.2525 - mae: 7.2525\n",
            "Epoch 36/100\n",
            "1/1 [==============================] - 0s 9ms/step - loss: 7.2469 - mae: 7.2469\n",
            "Epoch 37/100\n",
            "1/1 [==============================] - 0s 10ms/step - loss: 7.2412 - mae: 7.2412\n",
            "Epoch 38/100\n",
            "1/1 [==============================] - 0s 9ms/step - loss: 7.2356 - mae: 7.2356\n",
            "Epoch 39/100\n",
            "1/1 [==============================] - 0s 8ms/step - loss: 7.2300 - mae: 7.2300\n",
            "Epoch 40/100\n",
            "1/1 [==============================] - 0s 9ms/step - loss: 7.2244 - mae: 7.2244\n",
            "Epoch 41/100\n",
            "1/1 [==============================] - 0s 16ms/step - loss: 7.2188 - mae: 7.2188\n",
            "Epoch 42/100\n",
            "1/1 [==============================] - 0s 9ms/step - loss: 7.2131 - mae: 7.2131\n",
            "Epoch 43/100\n",
            "1/1 [==============================] - 0s 16ms/step - loss: 7.2075 - mae: 7.2075\n",
            "Epoch 44/100\n",
            "1/1 [==============================] - 0s 12ms/step - loss: 7.2019 - mae: 7.2019\n",
            "Epoch 45/100\n",
            "1/1 [==============================] - 0s 16ms/step - loss: 7.1962 - mae: 7.1962\n",
            "Epoch 46/100\n",
            "1/1 [==============================] - 0s 10ms/step - loss: 7.1906 - mae: 7.1906\n",
            "Epoch 47/100\n",
            "1/1 [==============================] - 0s 10ms/step - loss: 7.1850 - mae: 7.1850\n",
            "Epoch 48/100\n",
            "1/1 [==============================] - 0s 8ms/step - loss: 7.1794 - mae: 7.1794\n",
            "Epoch 49/100\n",
            "1/1 [==============================] - 0s 12ms/step - loss: 7.1737 - mae: 7.1737\n",
            "Epoch 50/100\n",
            "1/1 [==============================] - 0s 14ms/step - loss: 7.1681 - mae: 7.1681\n",
            "Epoch 51/100\n",
            "1/1 [==============================] - 0s 8ms/step - loss: 7.1625 - mae: 7.1625\n",
            "Epoch 52/100\n",
            "1/1 [==============================] - 0s 8ms/step - loss: 7.1569 - mae: 7.1569\n",
            "Epoch 53/100\n",
            "1/1 [==============================] - 0s 9ms/step - loss: 7.1512 - mae: 7.1512\n",
            "Epoch 54/100\n",
            "1/1 [==============================] - 0s 9ms/step - loss: 7.1456 - mae: 7.1456\n",
            "Epoch 55/100\n",
            "1/1 [==============================] - 0s 12ms/step - loss: 7.1400 - mae: 7.1400\n",
            "Epoch 56/100\n",
            "1/1 [==============================] - 0s 7ms/step - loss: 7.1344 - mae: 7.1344\n",
            "Epoch 57/100\n",
            "1/1 [==============================] - 0s 7ms/step - loss: 7.1287 - mae: 7.1287\n",
            "Epoch 58/100\n",
            "1/1 [==============================] - 0s 6ms/step - loss: 7.1231 - mae: 7.1231\n",
            "Epoch 59/100\n",
            "1/1 [==============================] - 0s 7ms/step - loss: 7.1175 - mae: 7.1175\n",
            "Epoch 60/100\n",
            "1/1 [==============================] - 0s 6ms/step - loss: 7.1119 - mae: 7.1119\n",
            "Epoch 61/100\n",
            "1/1 [==============================] - 0s 10ms/step - loss: 7.1062 - mae: 7.1062\n",
            "Epoch 62/100\n",
            "1/1 [==============================] - 0s 7ms/step - loss: 7.1006 - mae: 7.1006\n",
            "Epoch 63/100\n",
            "1/1 [==============================] - 0s 13ms/step - loss: 7.0950 - mae: 7.0950\n",
            "Epoch 64/100\n",
            "1/1 [==============================] - 0s 16ms/step - loss: 7.0894 - mae: 7.0894\n",
            "Epoch 65/100\n",
            "1/1 [==============================] - 0s 18ms/step - loss: 7.0838 - mae: 7.0838\n",
            "Epoch 66/100\n",
            "1/1 [==============================] - 0s 16ms/step - loss: 7.0781 - mae: 7.0781\n",
            "Epoch 67/100\n",
            "1/1 [==============================] - 0s 12ms/step - loss: 7.0725 - mae: 7.0725\n",
            "Epoch 68/100\n",
            "1/1 [==============================] - 0s 11ms/step - loss: 7.0669 - mae: 7.0669\n",
            "Epoch 69/100\n",
            "1/1 [==============================] - 0s 11ms/step - loss: 7.0613 - mae: 7.0613\n",
            "Epoch 70/100\n",
            "1/1 [==============================] - 0s 11ms/step - loss: 7.0556 - mae: 7.0556\n",
            "Epoch 71/100\n",
            "1/1 [==============================] - 0s 7ms/step - loss: 7.0500 - mae: 7.0500\n",
            "Epoch 72/100\n",
            "1/1 [==============================] - 0s 8ms/step - loss: 7.0444 - mae: 7.0444\n",
            "Epoch 73/100\n",
            "1/1 [==============================] - 0s 8ms/step - loss: 7.0388 - mae: 7.0388\n",
            "Epoch 74/100\n",
            "1/1 [==============================] - 0s 8ms/step - loss: 7.0331 - mae: 7.0331\n",
            "Epoch 75/100\n",
            "1/1 [==============================] - 0s 11ms/step - loss: 7.0275 - mae: 7.0275\n",
            "Epoch 76/100\n",
            "1/1 [==============================] - 0s 9ms/step - loss: 7.0219 - mae: 7.0219\n",
            "Epoch 77/100\n",
            "1/1 [==============================] - 0s 7ms/step - loss: 7.0163 - mae: 7.0163\n",
            "Epoch 78/100\n",
            "1/1 [==============================] - 0s 11ms/step - loss: 7.0106 - mae: 7.0106\n",
            "Epoch 79/100\n",
            "1/1 [==============================] - 0s 10ms/step - loss: 7.0050 - mae: 7.0050\n",
            "Epoch 80/100\n",
            "1/1 [==============================] - 0s 8ms/step - loss: 6.9994 - mae: 6.9994\n",
            "Epoch 81/100\n",
            "1/1 [==============================] - 0s 37ms/step - loss: 6.9938 - mae: 6.9938\n",
            "Epoch 82/100\n",
            "1/1 [==============================] - 0s 7ms/step - loss: 6.9881 - mae: 6.9881\n",
            "Epoch 83/100\n",
            "1/1 [==============================] - 0s 7ms/step - loss: 6.9825 - mae: 6.9825\n",
            "Epoch 84/100\n",
            "1/1 [==============================] - 0s 8ms/step - loss: 6.9769 - mae: 6.9769\n",
            "Epoch 85/100\n",
            "1/1 [==============================] - 0s 10ms/step - loss: 6.9713 - mae: 6.9713\n",
            "Epoch 86/100\n",
            "1/1 [==============================] - 0s 8ms/step - loss: 6.9656 - mae: 6.9656\n",
            "Epoch 87/100\n",
            "1/1 [==============================] - 0s 8ms/step - loss: 6.9600 - mae: 6.9600\n",
            "Epoch 88/100\n",
            "1/1 [==============================] - 0s 9ms/step - loss: 6.9544 - mae: 6.9544\n",
            "Epoch 89/100\n",
            "1/1 [==============================] - 0s 12ms/step - loss: 6.9488 - mae: 6.9488\n",
            "Epoch 90/100\n",
            "1/1 [==============================] - 0s 19ms/step - loss: 6.9431 - mae: 6.9431\n",
            "Epoch 91/100\n",
            "1/1 [==============================] - 0s 11ms/step - loss: 6.9375 - mae: 6.9375\n",
            "Epoch 92/100\n",
            "1/1 [==============================] - 0s 11ms/step - loss: 6.9319 - mae: 6.9319\n",
            "Epoch 93/100\n",
            "1/1 [==============================] - 0s 8ms/step - loss: 6.9263 - mae: 6.9263\n",
            "Epoch 94/100\n",
            "1/1 [==============================] - 0s 8ms/step - loss: 6.9206 - mae: 6.9206\n",
            "Epoch 95/100\n",
            "1/1 [==============================] - 0s 8ms/step - loss: 6.9150 - mae: 6.9150\n",
            "Epoch 96/100\n",
            "1/1 [==============================] - 0s 14ms/step - loss: 6.9094 - mae: 6.9094\n",
            "Epoch 97/100\n",
            "1/1 [==============================] - 0s 11ms/step - loss: 6.9038 - mae: 6.9038\n",
            "Epoch 98/100\n",
            "1/1 [==============================] - 0s 11ms/step - loss: 6.8981 - mae: 6.8981\n",
            "Epoch 99/100\n",
            "1/1 [==============================] - 0s 11ms/step - loss: 6.8925 - mae: 6.8925\n",
            "Epoch 100/100\n",
            "1/1 [==============================] - 0s 10ms/step - loss: 6.8869 - mae: 6.8869\n"
          ]
        },
        {
          "data": {
            "text/plain": [
              "<keras.callbacks.History at 0x7fddf47ec250>"
            ]
          },
          "execution_count": 7,
          "metadata": {},
          "output_type": "execute_result"
        }
      ],
      "source": [
        "##### Let's rebuild our model\n",
        "\n",
        "# #1. Createthe model\n",
        "model1 = tf.keras.Sequential([\n",
        "                              tf.keras.layers.Dense(1)\n",
        "])\n",
        "\n",
        "#2. Compile the Model \n",
        "\n",
        "model1.compile(loss = tf.keras.losses.mae,\n",
        "               optimizer = tf.keras.optimizers.SGD(),\n",
        "               metrics = [\"mae\"])\n",
        "\n",
        "# 3 fit the mode( train for langer)\n",
        "model1.fit(tf.expand_dims(x,1),y,epochs=100)"
      ]
    },
    {
      "cell_type": "code",
      "execution_count": null,
      "metadata": {
        "id": "uIONpvKgDZdj"
      },
      "outputs": [],
      "source": [
        ""
      ]
    },
    {
      "cell_type": "code",
      "execution_count": null,
      "metadata": {
        "colab": {
          "base_uri": "https://localhost:8080/"
        },
        "id": "4JhxsQ86GsZD",
        "outputId": "a4184daa-a77e-4b84-b3aa-77cf179b4bf8"
      },
      "outputs": [
        {
          "data": {
            "text/plain": [
              "array([[29.739855]], dtype=float32)"
            ]
          },
          "execution_count": 8,
          "metadata": {},
          "output_type": "execute_result"
        }
      ],
      "source": [
        "# predict\n",
        "\n",
        "y_pred1 = model1.predict([17.0])\n",
        "y_pred1"
      ]
    },
    {
      "cell_type": "code",
      "execution_count": null,
      "metadata": {
        "colab": {
          "base_uri": "https://localhost:8080/"
        },
        "id": "c_lHITvyHL1H",
        "outputId": "ac33ffc1-245d-4f17-8beb-dd70988dddba"
      },
      "outputs": [
        {
          "name": "stdout",
          "output_type": "stream",
          "text": [
            "Epoch 1/100\n",
            "1/1 [==============================] - 1s 904ms/step - loss: 12.3193 - mae: 12.3193\n",
            "Epoch 2/100\n",
            "1/1 [==============================] - 0s 18ms/step - loss: 11.7804 - mae: 11.7804\n",
            "Epoch 3/100\n",
            "1/1 [==============================] - 0s 14ms/step - loss: 11.2324 - mae: 11.2324\n",
            "Epoch 4/100\n",
            "1/1 [==============================] - 0s 8ms/step - loss: 10.6601 - mae: 10.6601\n",
            "Epoch 5/100\n",
            "1/1 [==============================] - 0s 14ms/step - loss: 10.0632 - mae: 10.0632\n",
            "Epoch 6/100\n",
            "1/1 [==============================] - 0s 11ms/step - loss: 9.4503 - mae: 9.4503\n",
            "Epoch 7/100\n",
            "1/1 [==============================] - 0s 7ms/step - loss: 8.7991 - mae: 8.7991\n",
            "Epoch 8/100\n",
            "1/1 [==============================] - 0s 8ms/step - loss: 8.1072 - mae: 8.1072\n",
            "Epoch 9/100\n",
            "1/1 [==============================] - 0s 7ms/step - loss: 7.3691 - mae: 7.3691\n",
            "Epoch 10/100\n",
            "1/1 [==============================] - 0s 7ms/step - loss: 6.5758 - mae: 6.5758\n",
            "Epoch 11/100\n",
            "1/1 [==============================] - 0s 7ms/step - loss: 5.7205 - mae: 5.7205\n",
            "Epoch 12/100\n",
            "1/1 [==============================] - 0s 6ms/step - loss: 4.7947 - mae: 4.7947\n",
            "Epoch 13/100\n",
            "1/1 [==============================] - 0s 7ms/step - loss: 4.3581 - mae: 4.3581\n",
            "Epoch 14/100\n",
            "1/1 [==============================] - 0s 8ms/step - loss: 4.3134 - mae: 4.3134\n",
            "Epoch 15/100\n",
            "1/1 [==============================] - 0s 8ms/step - loss: 4.2550 - mae: 4.2550\n",
            "Epoch 16/100\n",
            "1/1 [==============================] - 0s 10ms/step - loss: 4.2442 - mae: 4.2442\n",
            "Epoch 17/100\n",
            "1/1 [==============================] - 0s 8ms/step - loss: 4.1520 - mae: 4.1520\n",
            "Epoch 18/100\n",
            "1/1 [==============================] - 0s 8ms/step - loss: 4.1739 - mae: 4.1739\n",
            "Epoch 19/100\n",
            "1/1 [==============================] - 0s 8ms/step - loss: 4.0681 - mae: 4.0681\n",
            "Epoch 20/100\n",
            "1/1 [==============================] - 0s 8ms/step - loss: 4.0807 - mae: 4.0807\n",
            "Epoch 21/100\n",
            "1/1 [==============================] - 0s 7ms/step - loss: 3.9954 - mae: 3.9954\n",
            "Epoch 22/100\n",
            "1/1 [==============================] - 0s 12ms/step - loss: 3.9739 - mae: 3.9739\n",
            "Epoch 23/100\n",
            "1/1 [==============================] - 0s 8ms/step - loss: 3.9208 - mae: 3.9208\n",
            "Epoch 24/100\n",
            "1/1 [==============================] - 0s 20ms/step - loss: 3.9047 - mae: 3.9047\n",
            "Epoch 25/100\n",
            "1/1 [==============================] - 0s 35ms/step - loss: 3.9267 - mae: 3.9267\n",
            "Epoch 26/100\n",
            "1/1 [==============================] - 0s 8ms/step - loss: 3.8797 - mae: 3.8797\n",
            "Epoch 27/100\n",
            "1/1 [==============================] - 0s 8ms/step - loss: 3.9341 - mae: 3.9341\n",
            "Epoch 28/100\n",
            "1/1 [==============================] - 0s 7ms/step - loss: 3.8678 - mae: 3.8678\n",
            "Epoch 29/100\n",
            "1/1 [==============================] - 0s 7ms/step - loss: 3.9274 - mae: 3.9274\n",
            "Epoch 30/100\n",
            "1/1 [==============================] - 0s 8ms/step - loss: 3.8751 - mae: 3.8751\n",
            "Epoch 31/100\n",
            "1/1 [==============================] - 0s 7ms/step - loss: 3.9080 - mae: 3.9080\n",
            "Epoch 32/100\n",
            "1/1 [==============================] - 0s 8ms/step - loss: 3.8893 - mae: 3.8893\n",
            "Epoch 33/100\n",
            "1/1 [==============================] - 0s 7ms/step - loss: 3.8834 - mae: 3.8834\n",
            "Epoch 34/100\n",
            "1/1 [==============================] - 0s 7ms/step - loss: 3.8969 - mae: 3.8969\n",
            "Epoch 35/100\n",
            "1/1 [==============================] - 0s 9ms/step - loss: 3.8581 - mae: 3.8581\n",
            "Epoch 36/100\n",
            "1/1 [==============================] - 0s 8ms/step - loss: 3.9046 - mae: 3.9046\n",
            "Epoch 37/100\n",
            "1/1 [==============================] - 0s 7ms/step - loss: 3.8386 - mae: 3.8386\n",
            "Epoch 38/100\n",
            "1/1 [==============================] - 0s 8ms/step - loss: 3.9054 - mae: 3.9054\n",
            "Epoch 39/100\n",
            "1/1 [==============================] - 0s 8ms/step - loss: 3.8482 - mae: 3.8482\n",
            "Epoch 40/100\n",
            "1/1 [==============================] - 0s 7ms/step - loss: 3.8862 - mae: 3.8862\n",
            "Epoch 41/100\n",
            "1/1 [==============================] - 0s 15ms/step - loss: 3.8605 - mae: 3.8605\n",
            "Epoch 42/100\n",
            "1/1 [==============================] - 0s 15ms/step - loss: 3.8608 - mae: 3.8608\n",
            "Epoch 43/100\n",
            "1/1 [==============================] - 0s 11ms/step - loss: 3.8683 - mae: 3.8683\n",
            "Epoch 44/100\n",
            "1/1 [==============================] - 0s 13ms/step - loss: 3.8352 - mae: 3.8352\n",
            "Epoch 45/100\n",
            "1/1 [==============================] - 0s 15ms/step - loss: 3.8762 - mae: 3.8762\n",
            "Epoch 46/100\n",
            "1/1 [==============================] - 0s 11ms/step - loss: 3.8106 - mae: 3.8106\n",
            "Epoch 47/100\n",
            "1/1 [==============================] - 0s 14ms/step - loss: 3.8821 - mae: 3.8821\n",
            "Epoch 48/100\n",
            "1/1 [==============================] - 0s 15ms/step - loss: 3.8234 - mae: 3.8234\n",
            "Epoch 49/100\n",
            "1/1 [==============================] - 0s 14ms/step - loss: 3.8626 - mae: 3.8626\n",
            "Epoch 50/100\n",
            "1/1 [==============================] - 0s 61ms/step - loss: 3.8328 - mae: 3.8328\n",
            "Epoch 51/100\n",
            "1/1 [==============================] - 0s 69ms/step - loss: 3.8369 - mae: 3.8369\n",
            "Epoch 52/100\n",
            "1/1 [==============================] - 0s 44ms/step - loss: 3.8408 - mae: 3.8408\n",
            "Epoch 53/100\n",
            "1/1 [==============================] - 0s 38ms/step - loss: 3.8111 - mae: 3.8111\n",
            "Epoch 54/100\n",
            "1/1 [==============================] - 0s 16ms/step - loss: 3.8489 - mae: 3.8489\n",
            "Epoch 55/100\n",
            "1/1 [==============================] - 0s 9ms/step - loss: 3.7850 - mae: 3.7850\n",
            "Epoch 56/100\n",
            "1/1 [==============================] - 0s 9ms/step - loss: 3.8585 - mae: 3.8585\n",
            "Epoch 57/100\n",
            "1/1 [==============================] - 0s 10ms/step - loss: 3.7982 - mae: 3.7982\n",
            "Epoch 58/100\n",
            "1/1 [==============================] - 0s 15ms/step - loss: 3.8377 - mae: 3.8377\n",
            "Epoch 59/100\n",
            "1/1 [==============================] - 0s 16ms/step - loss: 3.8062 - mae: 3.8062\n",
            "Epoch 60/100\n",
            "1/1 [==============================] - 0s 14ms/step - loss: 3.8117 - mae: 3.8117\n",
            "Epoch 61/100\n",
            "1/1 [==============================] - 0s 7ms/step - loss: 3.8144 - mae: 3.8144\n",
            "Epoch 62/100\n",
            "1/1 [==============================] - 0s 8ms/step - loss: 3.7856 - mae: 3.7856\n",
            "Epoch 63/100\n",
            "1/1 [==============================] - 0s 17ms/step - loss: 3.8227 - mae: 3.8227\n",
            "Epoch 64/100\n",
            "1/1 [==============================] - 0s 16ms/step - loss: 3.7593 - mae: 3.7593\n",
            "Epoch 65/100\n",
            "1/1 [==============================] - 0s 20ms/step - loss: 3.8352 - mae: 3.8352\n",
            "Epoch 66/100\n",
            "1/1 [==============================] - 0s 16ms/step - loss: 3.7725 - mae: 3.7725\n",
            "Epoch 67/100\n",
            "1/1 [==============================] - 0s 15ms/step - loss: 3.8115 - mae: 3.8115\n",
            "Epoch 68/100\n",
            "1/1 [==============================] - 0s 8ms/step - loss: 3.7807 - mae: 3.7807\n",
            "Epoch 69/100\n",
            "1/1 [==============================] - 0s 6ms/step - loss: 3.7853 - mae: 3.7853\n",
            "Epoch 70/100\n",
            "1/1 [==============================] - 0s 9ms/step - loss: 3.7891 - mae: 3.7891\n",
            "Epoch 71/100\n",
            "1/1 [==============================] - 0s 25ms/step - loss: 3.7588 - mae: 3.7588\n",
            "Epoch 72/100\n",
            "1/1 [==============================] - 0s 13ms/step - loss: 3.7975 - mae: 3.7975\n",
            "Epoch 73/100\n",
            "1/1 [==============================] - 0s 16ms/step - loss: 3.7337 - mae: 3.7337\n",
            "Epoch 74/100\n",
            "1/1 [==============================] - 0s 14ms/step - loss: 3.8105 - mae: 3.8105\n",
            "Epoch 75/100\n",
            "1/1 [==============================] - 0s 12ms/step - loss: 3.7478 - mae: 3.7478\n",
            "Epoch 76/100\n",
            "1/1 [==============================] - 0s 11ms/step - loss: 3.7840 - mae: 3.7840\n",
            "Epoch 77/100\n",
            "1/1 [==============================] - 0s 18ms/step - loss: 3.7563 - mae: 3.7563\n",
            "Epoch 78/100\n",
            "1/1 [==============================] - 0s 14ms/step - loss: 3.7575 - mae: 3.7575\n",
            "Epoch 79/100\n",
            "1/1 [==============================] - 0s 15ms/step - loss: 3.7648 - mae: 3.7648\n",
            "Epoch 80/100\n",
            "1/1 [==============================] - 0s 13ms/step - loss: 3.7307 - mae: 3.7307\n",
            "Epoch 81/100\n",
            "1/1 [==============================] - 0s 14ms/step - loss: 3.7735 - mae: 3.7735\n",
            "Epoch 82/100\n",
            "1/1 [==============================] - 0s 10ms/step - loss: 3.7125 - mae: 3.7125\n",
            "Epoch 83/100\n",
            "1/1 [==============================] - 0s 13ms/step - loss: 3.7820 - mae: 3.7820\n",
            "Epoch 84/100\n",
            "1/1 [==============================] - 0s 10ms/step - loss: 3.7242 - mae: 3.7242\n",
            "Epoch 85/100\n",
            "1/1 [==============================] - 0s 36ms/step - loss: 3.7552 - mae: 3.7552\n",
            "Epoch 86/100\n",
            "1/1 [==============================] - 0s 19ms/step - loss: 3.7329 - mae: 3.7329\n",
            "Epoch 87/100\n",
            "1/1 [==============================] - 0s 12ms/step - loss: 3.7284 - mae: 3.7284\n",
            "Epoch 88/100\n",
            "1/1 [==============================] - 0s 15ms/step - loss: 3.7416 - mae: 3.7416\n",
            "Epoch 89/100\n",
            "1/1 [==============================] - 0s 21ms/step - loss: 3.7013 - mae: 3.7013\n",
            "Epoch 90/100\n",
            "1/1 [==============================] - 0s 43ms/step - loss: 3.7505 - mae: 3.7505\n",
            "Epoch 91/100\n",
            "1/1 [==============================] - 0s 27ms/step - loss: 3.6921 - mae: 3.6921\n",
            "Epoch 92/100\n",
            "1/1 [==============================] - 0s 14ms/step - loss: 3.7522 - mae: 3.7522\n",
            "Epoch 93/100\n",
            "1/1 [==============================] - 0s 10ms/step - loss: 3.7016 - mae: 3.7016\n",
            "Epoch 94/100\n",
            "1/1 [==============================] - 0s 7ms/step - loss: 3.7251 - mae: 3.7251\n",
            "Epoch 95/100\n",
            "1/1 [==============================] - 0s 7ms/step - loss: 3.7105 - mae: 3.7105\n",
            "Epoch 96/100\n",
            "1/1 [==============================] - 0s 39ms/step - loss: 3.6979 - mae: 3.6979\n",
            "Epoch 97/100\n",
            "1/1 [==============================] - 0s 7ms/step - loss: 3.7194 - mae: 3.7194\n",
            "Epoch 98/100\n",
            "1/1 [==============================] - 0s 7ms/step - loss: 3.6705 - mae: 3.6705\n",
            "Epoch 99/100\n",
            "1/1 [==============================] - 0s 9ms/step - loss: 3.7299 - mae: 3.7299\n",
            "Epoch 100/100\n",
            "1/1 [==============================] - 0s 6ms/step - loss: 3.6711 - mae: 3.6711\n"
          ]
        },
        {
          "data": {
            "text/plain": [
              "array([[31.223137]], dtype=float32)"
            ]
          },
          "execution_count": 9,
          "metadata": {},
          "output_type": "execute_result"
        }
      ],
      "source": [
        "## Let's try to add Hidden layers\n",
        "\n",
        "#1 . Create the model\n",
        "\n",
        "\n",
        "model2 = tf.keras.Sequential([\n",
        "                                     tf.keras.layers.Dense(100,activation=\"relu\"),\n",
        "                                     tf.keras.layers.Dense(1)\n",
        "])\n",
        "\n",
        "\n",
        "#2 . compile the model\n",
        "\n",
        "model2.compile(loss = tf.keras.losses.mae,\n",
        "              optimizer = tf.keras.optimizers.SGD(),\n",
        "              metrics = [\"mae\"])\n",
        "\n",
        "\n",
        "#3. fit the model\n",
        "\n",
        "model2.fit(tf.expand_dims(x,1),y,epochs=100)\n",
        "\n",
        "## predict\n",
        "\n",
        "model2.predict([17.0])"
      ]
    },
    {
      "cell_type": "markdown",
      "metadata": {
        "id": "AjgZ0QHsKHjB"
      },
      "source": [
        "## Evaluating a model\n",
        "\n",
        "![image.png](data:image/png;base64,iVBORw0KGgoAAAANSUhEUgAABAAAAAHoCAYAAADXMp3LAAAgAElEQVR4nOyd91dbV7bHv+oSiF4FoghEL6YbG1zAxiWJy9iJ7TiTmWTNH/XWem/eysukOY4ncY1r3CsYDJjeq+lNIFDX+4G1T+69EsUpk+LzWcvLtqR777mn7LPP3vvsIwPgBYfD4XA4HA6Hw+FwOJw/NfLfugAcDofD4XA4HA6Hw+Fwfn24AYDD4XA4HA6Hw+FwOJw3AG4A4HA4HA6Hw+FwOBwO5w2AGwA4HA6Hw+FwOBwOh8N5A+AGAA6Hw+FwOBwOh8PhcN4AuAGAw+FwOBwOh8PhcDicNwBuAOBwOBwOh8PhcDgcDucNgBsAOBwOh8PhcDgcDofDeQPgBgAOh8PhcDgcDofD4XDeALgBgMPhcDgcDofD4XA4nDcAbgDgcDgcDofD4XA4HA7nDYAbADgcDofD4XA4HA6Hw3kD4AYADofD4XA4HA6Hw+Fw3gC4AYDD4XA4HA6Hw+FwOJw3AG4A4HA4HA6Hw+FwOBwO5w2AGwA4HA6Hw+FwOBwOh8N5A+AGAA6Hw+FwOBwOh8PhcN4AuAGAw+FwOBwOh8PhcDicNwBuAOBwOBwOh8PhcDgcDucNgBsAOBwOh8PhcDgcDofDeQPgBgAOh8PhcDgcDofD4XDeALgBgMPhcDgcDofD4XA4nDcAbgDgcDgcDofD4XA4HA7nDUD5Oj+WyWSQyWTweDyiz7xer89vpHi9XtHv6Lf03WY+53A4nD8KfxY5Jn0PuVwu+s7r9YrmBA6H8/tGJpNBLpczvUw6xv/oMovDWQ9ap0jXL79l/xeWRTg+hfhbR3E4P5WfFQFAk4bwb4VCwf4IP1MqlZDL5aKBx+FwOH9GhDJOKOv+iLJPqJiQHPd4PFAoFNBqtWzxL5T7HA7n94VU9tBiQrqo4AsMzpuA0Ojl8Xg25cj8tVEqlVAqlSJHq9DArlAoRAZ4Dufn8FoRAMDa3nq5XA65XA6VSgWVSgWlUgmFQsE6r9PphMvlgsvlYoNNOug4HA7njw4ZPWnhTB42+r/b7f6ti7hphIoIeSX0ej1MJhNSUlKg0WgwOzuLnp4ejIyMwGaz/cYl5nA4ayGXy6FQKBAbG4ukpCTodDrRgsJqtWJkZARjY2N8LHP+lMhkMoSEhCAhIQFxcXHMoC2TyeB2uzE/P4+enh4sLi7C5XL9R8umVqthMBiQkJAArVYr0h+sVit6e3sxPT3NI+44vwibMgCsF8pKC3+dTofY2FjExcUhPDwcer0eGo0GbrcbNpsNi4uLmJmZwejoKKanp+FwONYNP/ujeck4HA4HAIt48hfSBwA2m40ZAaQhiL9HhEZevV6PnTt34r333kN2djYAYHl5GQ8fPsSXX36J5ubm37KoHA5nDcj4KJPJUFhYiNOnTyM1NRVWqxUA4HK5MDMzgwsXLuDKlSuw2+2/e9nE4WwWMsIrFApERETg4MGD2L9/P5TK1WUQrWPu3LmDTz/9FC0tLf/R+ZnKVlJSguPHjyMyMlIUMT0wMIDPPvsM9+/f/0PoDZzfP68dAUCKrNvthtfrhdFoREZGBsxmM8xmM5KTkxESEgK9Xg+1Wg23242VlRUsLy9jZmYG/f396OrqQmdnJ1pbW2G1WpnlTfgMDofD+aOhVqthNBqRn5+PwMBA0VYoh8OBtrY2dHZ2suin3/skTsZYiu7KyMjAyZMncerUKdH36enpmJ6exuTkJGZmZuBwOH7jknM4HH94PB5ER0ejoKAA6enp7HOn04nBwUE8fPjwNywdh/PrQYtptVoNk8mEXbt2+Wxbe/XqFYKDg3+TcikUCsTExKCoqAipqami34SGhuLq1atsK/XvXXfg/P7ZlAFAujdGrVZDr9ejsLAQ+/fvR1lZGeLj42EwGNg+UGmCDQpZsVqtmJiYQHt7O+7du4d79+6hr68PFouFGQF4x+ZwOH8khAlSMzMz8dFHH6G4uBgWi4XJs/n5eXzxxRcYHR2F2+2Gy+X6Q8g6MtDK5XLk5OQgPz9f9L3X60VkZCQqKyvx7NkzjI2N/UYl5XA4G+H1etlWAOFnHo+Hfc4XGJw/G8J8F7RNmXLZ0PdCByd99p9kvRxp/nIKcTg/h3UNANJJQKFQQKVSISkpCQcPHsS+fftQVlaG8PBwv9e73W42uCgfQHBwMIKDg2EymZCXl4eCggJ8++23uHfvHiwWC88LwPnT8GfJAv9n55dSduk+ISEhyMjIgNFoFH0/NzeHsLAwAH+cbL5CZUSr1SIqKgqRkZHse1pMAEBiYiJ7v/XuJ9wWQffY6Brh835N1uoLfEHE+TPJ8/XkD19gcP7seDweuFwuuN1utgXg97D1WDo3ChHKnz+DDOL89qxrAPCXvCozMxPHjh3DX//6V5hMJpZAQ5qZUqgYEtKkWImJiTh58iRCQkKgVCpx8+ZNWCyW136J34Ny9mdSDn4L3oT6+z30U46YX2rCF96H8p4IEX4mPd5no74v7TfC47v+E9BznE4n5ubmMDs7i+joaNE2BplMhvHxcczPz7/2fdfj57TPT5Epb8L4fBNk7S+Nvzr7o8lzYXl/aQPAf9JI92vyRxsbr9MH/R3Z/Ud5z9dho+PFAYjmLpq/hIvv38IQsN7inz7nJwBwfknWNAAIw01kMhm0Wi1SU1Nx+vRpHD9+nC3+hR2SwsiEA0jaqYUJpchIsGvXLuh0OshkMty+fRvz8/O/Wqbs1xXwm/39n1GQ/if5M9afvzNcf0/8msrOZu79Wytb0m1KP4e15JzwWdLfrvV/f1A5/cnWXxPpe7W3t6O+vh4GgwFarRZKpRJ2ux1jY2N49OgRBgcHoVKp4HQ6173f6z5/PdaqD6kB+3Wu/Snl+KPwR32X31JebNY490fi11jk/Jp18Wu1/0ae1f9kv/M3T2xmQbsZ/Bmdfw1+63n9lzAs/5ZlX+/Zf1RZw/l9smEEACWcCA0NxbFjx3D69GkkJiaKfkN7XymJhcvlwtLSElZWVqBSqRAUFASNRiP6PfDjIAwODkZNTQ2A1QzZ165dYxa6jSzv6+2LWcui9rqLf+m/N7LUrVUO6b02us/PFWQbCfzNhuL+nGs3w0+tx59677W8rz+nHV63DMJomJ9y/euU63Un+5+iHLxunfq77ueU6ad6s4T9+Of2YTKGrmfBFy7gN+s1k8rBzcqNX0oRo+c7nU60t7fju+++g9frRXFxMbRaLWZnZ3H79m3cvHkTExMTPkcUbeR5+qnyZT0ji7/f+rvHRvd9XaX5l5ZRP2f8vO6c5W+eknrF1nre67z3L/VOG/GfWIxK//1blEVYBn/jRihv1pLJpLv9XO//6/Svn8ovqS9spONt9pm/1Ltt1Pc3Iwdf954/5bqNnieUF7+mfifF39pA+r3wc6ET85c2ivycuv0ldDZuLOBshF8DgFQo6vV61NTU4OjRo4iNjfW7MJfL5Xj16hVaW1vR29uL4eFhLC8vQ6/XIzg4GKmpqcjMzER6ejrbcyPE4XAgNzcXVVVV6O3tRXd395pncEoHMEUerIXX62UJP8hQsdnJQfhb6bOEyUL8oVQq/R73RXkR6P38lUWhUIiMIGuVV5gRVCr4qJxklFkLEoBUVuG5qBtdS3X0OhEb0jrdzPUkqDd7fJp0sSWclKTGJaon6f0UCgXkcvnPTtYmbSNhuahP/tT32Og8WOHkJu3Ha9X5ZtuU8npIx5S0bYm1+udG+LuPsE6kJ4jQc5RK5Ybn+Eoz6v6Udqa+Kcz4L0XYjkJjgbBOhPXhT5GRKvKbUSKE/f2nIqznqakpXLp0CX19fcjPz0dAQADGxsbQ2NiIgYEB0XOpnYRbFoT/34wcpd9TOwrvu5l+Sn10s3KUEP5eOm7Xex6162b6trAfCJ9J/xZG00nbULqNZL37C8fAWnON8HN/Y8Hr9bL+LX03mi82887+MlhL5RHdT/ge9LdCoVgzuoSguX6jNv8pSOfxjeTLRv3vlyqfdFuQv/YU1qP0uevNB1KEfZT6xEZjEFh7nt3s86R6ylq/VSgUm9YTqD9S2fyNv81sudqsvrZZhM8VfgaI9To6jWutMslkMtZHpXrdemNWJpNtav5cj83o5oB4vL4u0vG41hiQQt+53W6/+stmy7KevBfeQzoGNuojr/PdRnouh7MWGyYBdLlcyMnJweHDh1FQUCD6ngaK2+1GW1sbzp8/j5s3b2J0dBTj4+Ow2WzQ6/XQarWIi4tDeXk5jh07hoqKCuj1epGCo1KpEBUVhd27d6OpqQm9vb3rWg+Fk5lGo4FarYZWq4VOp4NKpQKwej718vIyXC4XnE7npo+movKoVCofZYTuRZNfQEAAdDodAgICoNFo4HQ6YbVasbKyArvd7ve4L6/XC7VajYCAAKjVauh0Ouh0OrjdblitVtjtdtjtdjgcjnUFPPBjYkZh2b1eLysn/YaeodfroVKpYLPZsLKygpWVFTgcDrhcLp8JhhY19G50tKPT6WRHOzocDjidztea9PzVRWBgoKgNSdFbXl7GysoKXC4XHA6HSCFfD6oXf5mOnU4ne0d6ZkBAAAICAiCXy2G327G8vAybzQaHw+Fj7HodaLJVqVQ+fdnr9Yreyd+1NBErlUo2adO1wvdY69lKpdKnH9OCy263+yhTVEaVSsXam9qEwr2lfdTfREN9R6lU+iyuaBFF/W6j+qN3kE5yHo8Hbrdb9A5CZUCpVCIgIAAqlYq1r0wmY33f4XCwdxBe+7rQs8iwSe+81vtQnQrb3ePxsPEuLYvQoEJ/q9VqaDQaqFQq6HQ6aLVaeDwe2O122Gw2Ufv8XIVUuHAHVmVga2sruru7RX1J+hxp/xMuRJxOJ1wuF8vCHBAQgMDAQAQGBkKpVMLhcLCx70+OUnmEMlin00Gj0cDtdrNrHQ6HSI76qwu5XM7aT2pkoXLSNVTvJDNUKhVcLpeorDQ/bGSgFPZrYd+mEyLod2q1mo1/mpNJ7q71DKHcIdlKclwul8NmszH5Tfdaz9CpVCqhVqtFMkio4G8ki9brD/TeTqdzzYWb9H00Gg2rf2m//ylz0mYRjkWlUonAwEA2BqXyRToG/b3XL7X4p34iLItwrqa6WV5e3tT7bfQbGn8ki2iO0Gg0UCqV7LnUvzbqrxtB7a9UKtn4I1nhcrnYu9GzqF9uNAYpG7zUEEtlpbFJelpgYCB0Oh2T1zabTdTv1tJXX/ddpbJBOE/QWJPJZGxMC8u1srLC5mgaB3Qt8KPBWqvVsvGk0+kAgPVdoe7zU9tMLpcz3ZzqT61Ws/ai/iGUPa/7LOEaQaFQsDFA8lmtVsNqtbK+QYn/pNf+HOiZ1A4BAQHwer2wWq2w2Wxs7WGz2eD1epns+6XkE40Nks8kS4XylMPxx7o5ABQKBcLDw1FaWorCwkI4nU6oVCqRpYzOtv7yyy9x4cIF9Pb2iu6xsrKCpaUlTE9PY2RkBHNzc3A4HKiurhYJX5pQCwoKUFxcjHv37jGPkhCpNzU2NhY5OTlITU2F0WhEREQEtFotAGBhYQGTk5MYHR1FT08Purq6MDk5ueHg0+l0SE5ORkJCArNOAqtJsMbHx9HZ2Qmn0wmz2YyioiJkZWUhNDQUer0edrsdExMT6OjowPPnzzEwMMCsjFRmhUKBrKwsFBUVwWQysSgJt9uNmZkZDA8Po6WlBa2trVhcXPQRWlS3Op0OSUlJMBqN0Gg0bNJzuVwYHBxEV1cXZDIZTCYTiouLkZGRgfj4eGg0GszNzWFhYQGdnZ2or69Hd3e3qHw00SYlJSE/Px9msxnx8fFQq9Ww2WywWCzo6+tDW1sbmpqasLCw4LcPrbWwJeu1Vqtl909ISEBkZCRCQ0OhVCphs9kwPz+P0dFRDAwMoLOzE2NjY1hZWVn3HHWlUomoqCiYTCaEhYWJhDy98+TkJIKCgrBlyxbk5eUhNTUVoaGhAFYnwcnJSbS3t6OpqYkZs2jBIuyLG01aSqUSaWlpSEpKEvUlr9eLlZUVjIyMYHBwEHa73afOyDgSHx+PlJQUqNVq9hubzYbBwUEMDw+za/0922g0IjU1FWq1WlQPNpsNnZ2dGB8fFyn+Xq8XAQEByMzMRE5ODhISEhAdHY3g4GAEBgZiaWkJU1NTePXqFTo7O9Ha2oqxsTEfxV2hUCAuLg6pqakIDg5mi3Va4CwvL6O1tRXz8/N+vX3CBVdcXBxSUlJE24hooqNyrKysMNlAihGdNJKSkgKj0YjQ0FDIZDIsLy+zPtXR0YGuri5MTEz41J9Q+VqrjeVyOSIjI5GamspOQ8nKykJgYKDPvSiPSmVlJZaWlti7ulwuzMzMYGBgANPT02tO2h6PB2q1GsnJyTCbzUhJSUFcXBzCwsKYAZH67vDwMHp6etDe3o6pqSmfviUt20aKMhEZGYmkpCSm5Hg8HrYInpqawtDQEFtkaLVaGAwG1nepPh0OB0ZHR9Hb2wu73Q6z2YzCwkJkZWUhMjISarUadrsdU1NT6O7uRn19PYaGhthCnsY+ja2CggJkZmYiODgYWq0WbrebyY3m5ma0t7fDYrGI5KjwvbRaLeLj45GQkAC9Xg+32y0q5+DgIKxWKwIDA5GVlYXCwkKkpKQgJCSElXVubo7J3JaWlg3rXK1Ww2AwICEhQXTmtMvlwvT0NPr6+jA/P4+wsDBkZGQgMTERkZGR0Ov1mJqaQn19Pbq6ukTGEeqP9P/o6GhkZGSwuTEqKooZABwOB6ampjA8PIze3l709PRgaGjI79yoUqkQFxeH9PR00TxDBiF694mJCb8GPbqfTqeDwWBAcnIy6z/CMvf19aG/vx8rKyvsOjIweb1eJCQkIDU1Fenp6UhKSkJcXBw0Gg0cDgesVivGxsbQ19eHzs5O9Pf3Y2Fhgcm2n6JsrxedFhkZCbPZjMzMTCQkJCA2NhZBQUEAVh0Pk5OTGBoaQnt7Ozo6OjA9Pe3zvtI6AtbekrKeHPJ4PAgMDERBQQGysrJgMpkQEhICrVYLl8uFubk59Pf3o7OzEy9fvoTVavV7r41knbQ8AQEBMBqNSE9PR2ZmJhITE5nDh8YE9a/u7m709vb6JEfd6DnCOklOTkZaWhpSU1ORkJDA9DOLxYKlpSW8evUKPT09aGtrw+joKJaXl1nfkb6TUqlEUFAQzGYzwsLCmB7q9Xpht9vR1dWF0dFReL1eGAwG5OXlISsrC4mJiQgKCoLH44HNZsPMzAx6e3tZBNTy8rLfehXWrVCerqW/REdHIzk5WXRqjEwmw9TUFDo6OmCxWBAeHo7i4mLk5uYiOTkZgYGBzBDZ19eHlpYWNDY2ssTawufGxMSgsLCQyRYajzabDaOjo2hvb0dDQwPGx8dFdSg1ykn/T2X1er0wmUxIT0+HyWRCfHw8IiIioNFomJFhYmICAwMDTDdfL4GsNGJO+DktfiMiIpCfn4+0tDQkJCQgICAAer0eCwsLTG9/8eIFRkZGmIz3N7aEBtn1yuLxeBAUFITc3Fykp6cjJSUF0dHRCAoKgtfrZQlzh4aG0NXVhcbGRqysrDCZIpQBQv1LWBZhmfy1gVwuh0qlQkxMDNLS0liEdldXF7q6utgY8Fd3HM6aBgCvd/WszOzsbGzfvh2RkZF+vak9PT346quv8O9//xuDg4Oi8CtS9oHVDmyxWHD9+nUoFAqEhYWhsrISAJi31WazYWRkBCMjI36FJA12Mkxs3boVxcXFKCgoQFpaGhITE6HRaESCaHJyEpOTk2htbUVDQwPq6+vR2NiI2dnZNStFp9OhrKwMb7/9NrRaLVvoORwOPHjwAHK5HKGhoTh58iQqKyuRlJSEoKAgJhhmZmbQ0dGBJ0+e4P79+7hz5w6WlpYArB6VVV5ejpqaGlRUVCApKYl5eAAwYdXc3IxHjx7h+vXrGBwcBCAO0VcoFAgKCsL27dtx8OBBBAYGsvpeXFzEnTt3WOTF/v37sXv3biQlJbEJhYRwb28vHjx4gCtXrqCurg4WiwVutxtRUVHYt28fKisrUVRUhKSkJHb8l9frxdLSElOw7969i3v37qGtrc2nDwkRThh6vR5paWkoKSlBeXk58vLy2ESk1WqZJd7hcGBychJdXV1obm5GQ0MDXrx4gY6ODr8CjazbSUlJePfdd5GRkcGeLZfLMTAwgO+++w7Dw8MoKyvDkSNHkJWVxSYMqueZmRlmAPjhhx/w5MkTzMzMsHdYy6MjLYtKpUJmZiYOHTqE6Ohodh1FGly7dg3nzp3D5OSk33qKiopCTU0NqqurERAQIPICXrlyBd98842PAYCeERsbi4MHD6KqqgparZZdGxgYiLq6OszPz2N4eFjkjSstLUVxcTFKSkpQUFAAk8nELPc0cdlsNszNzeHly5eora3Fs2fP8OjRIywtLbGFmUKhQEREBPbt24ctW7aw9iQD1dzcHL788kvcu3dP5BkiYyD9Ozg4GFVVVdi/fz9CQkKY58Pj8TB5IowW0mg0CA8PR3V1NSoqKlBQUIDk5GR20ojQgzo4OMjkwpMnT9DQ0IDFxUVRHa7VxmTE0mg0KCsrw9GjR5GYmAiVSoXw8HBERUX5KHt6vR47duxAeno6lpeX2XdutxsNDQ04f/48FhYW1jQAJCYmoqysDCUlJcjNzUVWVhaioqIQGBgoCo+1WCwYHBxk/beurg719fVYXFwUlWezIbn0HiqVCsnJyTh+/DgKCwvhdrvZAm1hYQG3b9/GxYsXmQFAJpMhPz8f7733HsLDw9l9PB4Prl27BpVKhZCQEJw4cQJbt26FyWRCREQEe+709DR6e3vx9OlT3L59G3fv3mXKbHx8PMrLy7F3715UVlYyIwMp8vPz85icnERbWxvu3buH77//HiMjIwDEW6/Ic1NUVISjR48iNDSU9VOS95cuXYLT6cTu3btx8OBBFBQUIDExkSWuJY9Wf38/2tvbUVdXh0ePHqG+vt6vF408fDk5OTh69CiioqKYcc/pdKK2thYXLlxAVFQU9uzZg7179yImJgZRUVEwGo3o7OzEf//3f2N0dNTHu0xza3FxMbZt28bmxuTkZOadpbZfXFzE2NgYOjo60NLSgkePHqGurg4zMzPsfhStYTAYcOjQIeTn5zMDLLDqdRseHsb58+dx+/ZtkQFA2NeUSiViY2PxzjvvYNeuXWyeJi/h2NgYzpw5g+7ubtH7eDweBAcHo7S0FLt27UJ+fj5ycnIQGxvL2ptkitVqRX9/P1paWtDQ0IDa2lo8f/58wyi6jfq9sP3IaFxeXo7i4mIUFhYiNjYWAQEBrG5JvoyMjKC5uRnPnj1jZaEFwOsYJNaa56h8JSUl2Lp1K7Zt24acnBykpaUxbyCwql/RQvzGjRu4e/cuq3vh/dczQtD3tABJSkrC1q1bUV5eji1btiAzM5MZxIAfPdVLS0ts4fXkyRPU1taiv79f9A5rGT3oN9HR0SgpKUFlZSVKSkpgNpsREhKCoKAg1j8dDgeWlpaYnlBXV4cnT56gu7vb771dLhdiYmLw9ttvY8eOHbDZbGxumZiYwFdffYXFxUVkZ2ejpqYGO3bsQFZWFmJiYljEpdPpxOLiInp6elBXV4dnz57h+fPnaG9v92k/mtc2anfS7ZKSknDy5EmYzWbR71taWnDt2jXY7XaUl5fjrbfeQnZ2NgwGA6t3h8OBoaEhNDY24ocffsDt27fR09MDYNXwuHPnTuzcuRO7d++G2WxGbGwsq2/St9rb2/HkyRPcvn0bDQ0NojHvzwggjPJLSEhAaWkpSkpKsGXLFjZPUZQBAKYD9Pb2or29HY2NjWhsbERDQwPTlaV9QbpIJ303NjYWBQUF2L59O8rKypCdnY2IiAims9BivKenB8+ePcOTJ08wPT3N5PxaBht//UY472dlZaGyshLFxcUoLi5GXFwciwag9YLNZsPU1BSamprw7NkzPH36FN3d3euuP4TlEb4vlVUozzweD9LT05mOGBoaCoVCga6uLly9ehV3795lTlcOR8q6BgCFQoGcnBwUFhYy6zZ9J5fLMTk5icuXL+PixYsYGxtjk/Fag4esqw8ePEBMTAyzXL98+RLDw8MYGRlhniHyoNC1wKpwJC/M4cOHUVVVhczMTOj1epFxQngdKU7Z2dnYsWMHOjo68P333+Pq1atob2/3scbTos1kMmH37t0IDg5mSqXNZoNOp2Me2b1794rqhYiIiEBpaSkyMzNRXFyMoKAgXLt2DQkJCThy5AjeeecdZGZmihR3IiQkBHq9Hunp6Wzx8tlnn6G9vZ0ZXaguVSoVzGYzduzYwbyPADA/Pw+NRoOMjAzk5OSgpKQEYWFhojrSarXQarUoLCxEamoqcnNzcebMGdy5cwdyuRzvvfceTpw4gYyMDLYwFtZrUFAQMjIykJSUhJKSEmRlZeGTTz7Bixcv1lww0QKNjAtvvfUWiouLER0dLZochG2h1WqRmJiIxMREbN++HUNDQ7h37x7Onz+PBw8esMWG1CoaHh6OwsJCVFRUiBSdvr4+JpwrKyuRl5cn2kIBrCq10dHRrB0LCwvxxRdf4MKFC5iZmRGF+K5nKQbAwqMNBgMqKipY6DctnFZWVvD8+XNMTk6K6o3qKzs7GwcOHEBVVRX0er3Iw76yssIME3QN/a1UKpGeno633noL1dXVzDBCns3u7m42Kcjlcuj1emzfvh0ffvghKioqmLdQOq5ofOj1esTHx6OwsBDV1dU4c+YMLl++jJGREbhcLsjlciwsLEClUqGgoACRkZEij7fFYsHo6Ci6u7sxOjrKIgSonej9U1NTsWfPHhw4cICNNbrPkydP2OKLypadnY13330XBw8eRHp6Ogs3JmjckHHTbDajsrIS27Ztw9dff41r166xyVm4YJX2Za93dZtNcHAwTCYTSkpK2POEv5P2q5SUFKSkpIj2X9IC5t69e6J+TDkolEolW6BWV1cjISEB4eHhfmUeLQBDQkKQkZGB6upqNDc34+rVq7hx4zk/NlsAACAASURBVAb6+vqYJ9yfJ1KKUPnyeDyIiYnBtm3bsGPHDtZeHo8Hc3NzGBsbw82bN9l1FEG0c+dOJCQksG1G5JU1Go0wm82oqakRecEJigbKzMxEQUEBQkND8f333yMmJgZHjx7F0aNHkZGR4SODZTIZwsLCmPc8Pz8fycnJOHv2LFpaWpihisqu0WhgMpmwfft2GAwGZuiiLWQrKytISkrCwYMHkZ2dzRY5BG0fyM3NRWpqKioqKrBt2zacPXsWt27dwuzsrI9SJ5fLYTQaUVFRgZSUFBbuS4Yhi8WCuLg4ZqAkjzt51sLCwnw8/wBgNptx5MgR1NTUoLCwkIX/S5HL5QgJCUFwcDCbQ6qqqnDt2jVcv34ddXV1zJhH3s7AwECUlJSIoj+USiUmJyfx6tUr1NXVMe89vaewTcxmMw4dOoQ9e/aItjgoFAo8fvwYbrdbFLrv9XqRkZGBvXv34tixYygoKEBQUJCPvKYxotVqERoairy8PFRVVaGurg5nz57Fo0eP8OrVq00tuqWLDfIUAoDRaMS+fftw5MgRFBUVIT4+3q/8J/mSkZEBs9mMsrIyNDc34+zZs7hz5w5GR0d9woA3Y4QTvi/J4B07duD06dOorKxEaGgoM54LCQgIQEZGBtLS0pCWloYtW7Ywrym9M7XneuUgr39BQQGOHDmC/fv3IzU11SfaiaCtfTExMSgoKMDu3btx69YtfPvtt2hoaNhwC4tSqURJSQneeust7NmzB6mpqaJ5RPgcehbN2Xv27MHVq1dx4cIFn35J76vX67FlyxZUV1czea5SqdDb24u+vj4YjUa88847qKysRHh4uE+/I2NvaWkpcnNzUV1djTt37uDLL79EbW2tzzYU2u60ntGDDABRUVEoLi7G1q1b2bW02NXr9dDr9SgrK0NaWppoHiCdiaJ+8vPzYTKZ8OWXX2J0dBR79uzBRx99hLKyMhZpKa3L+Ph4REVFoaioCPn5+Thz5gyuX7+OpaWlNRfMtGVh27ZtOHr0KHbs2MF0b3/b4ShKMyIigrXBy5cvceHCBdy8eZMZa6mupPOU17saUZSZmYnDhw/jwIEDyMzMRFBQkM+8KJPJEB4ejpKSEmRkZKC0tBStra2Ij48XGWfW2rYnvI9Go0F0dDR2796Nt99+m407tVotyrdE7xgQEIDQ0FCkpKSgsrISL168wLVr13DlyhWMjo76jAGpTik12EvXV+ToOn78OHJycuByuaBUKrF161YkJiZCJpPh0qVLa0aJct5s1s0BEBUVhbS0NBiNRtHn1AH7+/tx//59dHd3ixJ5+LMQUsd2uVyYnZ3FxYsX0dPTA51Ox0JfLRYLVlZWfDyCpCSoVCoUFhbigw8+wLFjxxAaGuojjITPFw5IuVyO+Ph4GAwGxMXFITQ0FJ9++ilGRkbYnjHp+9E9aLJWKpUoLy9HUVERtFqt38U/QZPDjh07YLVaERQUBIPBgJMnTyIlJcVnX7QQKndaWhpOnTqFxcVFzM7OirZEkEJIglHo2QkJCcGOHTuwbds2REZGiiYuqYBRKBQICQlBVVUVUwpDQ0Nx4sQJZGZm+pRN6v0mJf/o0aOYnJzE7OwsxsbGRG0oTJBGXukPPvgAFRUVrMzSZ0jbAQALTY+KikJ0dDTkcjnu3r0rCoMVKnC0yBEmYImLi8Phw4ehUqlY6N9a0P7iHTt2AADGx8dx6dIlv2X1Bxm8ent7MTExwTzjwmsSEhKQlpaGpqYm0TYA2oaRmpoKs9kMnU7n40EwmUxITExES0uLaPFMExqFztOWGII8ZdPT0wDA2v/jjz/Gnj17fLYL+IPKGBcXh7i4OBZuevbsWVgsFng8HoyMjDBDg7CeZTIZgoODkZmZiaSkJExOTor2kFM7qtVqpKWlwWw2MyOUsFzz8/MsjBwAUlJScPDgQbz//vtISEjw2z7+lEeDwYCDBw8iODgYdrsdd+7cYSHjwogEf4tlUsZpv+FmkSoclH9C+Ay32w2lUomysjJ88MEHOHLkCFPaNlJW5HI5yw1QVVWF5ORkhIeH48svv0R7e/u67Sv9jvodtSE9W5j00F+ZhHJCeB+ZTIaKigoUFhYiODh4TTlKMjckJAQ7d+6Ew+GAXq9HREQEPvzwQyQnJ/so5VIPERmRTp8+DYfDgenpab9eQeBHBZ3aJiAggIXX0nYLf9cIPUZqtRpRUVF45513mPJ7+fJlFrkgrBsqo7DutFot82AZDAaYTCbR+3g8HlitVlgsFiwuLoqiRbKzs/HBBx/gww8/RGxsLKtzqVwU9mlqu4iICJSVlSEhIQHx8fGw2Wzo6emB0+mEWq3G8PAw2trasLKygsDAQNE7k6ElLi4OMzMzfhcJ5DVOSUkBAB+5S1st1Go1C4+NjY3F6dOn8d577yE5OdmvkVgKRQgmJSUhNjaWGcO++eYbLC4urrnwEuob0nwVtFg5duwYPvroIxQWFm5YDmF5EhMTERMTw6L0Ll26hJWVFZ++uhnIIKnX67Fr1y784x//QHV1tU+uFWoD6eIwLS0NBoMBy8vLPoZ9us6fbKAxsW3bNvz1r39lEYVUZ+vJE1psZ2VlITo6GuHh4fjf//1f1NXV+Y12ojrPy8vDxx9/jHfeeQehoaGi6M616ob0xKysLAQEBLAtgE+fPvWbb0fazh6PB2FhYaipqUFAQADy8/PZXCy8RrpICwgIYJ5uuo+/6JPN7MkW5tag9iMjV1paGuLj49m+fWH7CrflUGSNyWTCsWPH4HA4MD4+jrfeegtvvfWW3+cKDe9qtRphYWHYv38/vF4vJiYmUFtbK8ohQe9FBpjy8nJ8/PHHOHTokI9zSzi+qHz0N21ljYmJQXx8PIKDg3Hu3DmMjo76lJF0eblcjtTUVLz33ns4deoUk5P+2kd4bUhICMrLy5GZmQm73e5X1/FnoKHyRkVF4dChQ/jwww9RUFDAogrX65dUXtKVjEYjvF4vzp07xyIRhEaitWQBlUuYnDE/Px8HDhxAdnY2gB/lqkwmw65du9DX14fm5ma0trauWT7Om4vP6kc4MI1Go18rN4WZv3z5Er29vdBoNGsm8ZD+n5J/jY2NYWRkhHVo8soKkXo08/Pz8be//Q2HDh1iSQSF3l0aiMLySg0JXq8XWVlZOHnyJJaXl/HJJ5/47P8lD5lU4RcmBtwIYRlKS0thNBqhVquRkJDAEqFstMgiJaimpgZtbW3MACA0tEjLSZNgaGioaPHrr1wEvU9OTg7Cw8MREhLCFlD+3ks4adKiJTY2Fm+99Rb6+/tx/vx51pb0G2D1uMe3334bH330EbKyskRtJmxLaRmFSonX62XHRlI73bhxQ3StcL+5cEFJBouYmBi/3lN/0LsWFBTg7bffRl9fH16+fOm3j63FyMgIGhoasHPnTiQlJYkWugaDAampqQgKChLVmcvlQmRkJFMehQnKgNVxFBoaivT0dNTW1mJqakrUDzQaDeLj49mWD7Ieu91uFmpHBoDs7GwcO3YMlZWVohBO4ViihIFCpVFo1MvLy8OJEycwODiImzdvwuVyweVyoaGhAc+fPxf1J1JOMjMzkZKSgmfPnvnkEKDooJSUFCQnJ7PtC/Td6Ogo6urqMDQ0BGA16qa6uhoHDhxAdHS0yGugUCiwvLzMtnCEhYWJ9iDLZKvh7du3b8fExASmpqZw//79NdtX6rmT5ob4KVDYsDTLeV5eHj788EP2Xq+bwIjkQUpKCt5//32WIGp4eHjTiw4h/mT8WmOBktlJf0+Len8G3LXweDwoLi5GTEwMgFVvrHTxT2Uhw5+wfWk7SkdHB3p7e5m8EWbvluYHIIXb6/WuadwRbr0g4wHJvO3bt7OcGRQZQVC9CBU+qltSFIXPpO8UCgUsFgump6dF82V8fDw+/PBDvPfee4iNjRUd6SY12vrrN7TwTUxMxF/+8hcsLS3hf/7nf9hpPHNzc2hoaEBdXR327Nnjk5STcj309/fDarX6bAUwGo1sb7oQt9uNgYEBPHr0CP39/WwMBAcH4/jx4zh9+jTMZrPPSQYULUARExSpJ0ShUKCyshIej4fJJX+spbMIF9MlJSU4fvy4KBGydAzabDbI5XK/7UbOg4WFBQwODuLhw4d+y+IPf0bL0tJSthCXGnip/6+lp1AyO2H70XOovFKdwuPxID8/H6dPn8aRI0dY0lEab7T102q1wul0sqScQgOUQqFAbGwsDh06BIvFgsnJSb/GOK/XC7PZjA8//BBHjx5FZGSkj9yjyC+73c62QwoNtV7van6oI0eOwG63Y2ZmBi0tLaLn0Jwo1D1o3ikvL2eLQ2leC6m8E/aTkJAQHDp0CCsrK5ifn2fbAaRGHn9GH2m/8+eUCggIWNNgSlGFNPapLxoMBhw/fhxOp9PHmbcWJCd0Oh0qKirQ0dHBtpFIn6lQKLB9+3Z8/PHHqKmp8YkWFsqc9eYsjUaDwsJC5jj5+uuvmY4ifJ6wbd99913Ex8ezPk99da2IYKqf0NBQ0TXAj+OGyi2E2nb//v34+9//jtzcXL/6KiXHBoDAwEA2NoX6enp6Ok6fPg2LxYILFy6IjMP+TgYT6hvC58lkMkRHRyMmJsavzuz1ehEfHw+j0cgiiH/KnM/588JmTOniWaVSwWg0wmAwiDoNhasODw+jtbUVExMTm8ruKuygtE9JuKfIX+ckQeZ2u9meqCNHjrBFjRBhZnoKvRJmpiWBQBNVcnIy3n//fVitVpw5c4ZtOaCjfWhhLfVcCoWF3W7HwsICbDYby0qr1WpFHh2lUomYmBimuAozOM/OzsJut7PwRQrXFA5wl8uFlJQUVFdXo7GxUbT3nRYewgzXwrqjxbnVamXeIvJWUgZY4bNiYmKY50j4jouLi6yclIFZWE5SNvLz87F9+3bU1taKJnZaYO3atQunTp1CSUmJKPyZFA6Hw4GVlRXmQaas4ML9jHQ/tVrNQknn5ubQ0tLCFGK6t9RjTkq9sM8sLS1hZWUFbrebZXGlRFnC+gwMDMTOnTvR0tKCvr4+tiD2N1lLcblcaGtrQ2trKwwGA6t36hspKSmIiIhg+7/pXrTVhLZ3SBW1qKgobNmyBbdv38bc3BwzKrndbhgMBpjNZpa3gZ5HCY46OzvhcDgQGxuLHTt2oLi4mFmWqd9QtM7g4CBLhJaUlISsrCy2x448bgEBASgqKsKBAwcwPDyMrq4upnjX19cjNzcXJpNJVP9msxlbtmwRhfxR3xW+Q3R0NPuO5MSLFy9QV1fHkk/Gx8ejoqICOTk5LFkg9YWuri48fPgQjY2NzABYXl7OkppRVIZarUZeXh7y8vLw4sULlg9gLa8hKRtCr7JWq4VGo2ELEqGS4PWu7kW0Wq2ixZvT6URfXx/m5uZEoXq5ubl4//33cfjwYURERPgomzRmFhcXsbKyAoVCgcDAQHbSh3Bsk8fk1KlTWFpawqeffuo3caf0fekd/XnNpH3SX/1I7yWVoU6nk2WEXllZgUqlQnBwMPNu0W8p70t4eLjP1onFxUVYrVa2RYxOrJAqc2azGXv37mX7MGlRIRzHQuh+9Cw6jYTmGaVSyepaKqNocbRt2zYcO3YMY2NjogWIUHYL60d4mgSVTTg/yuVyLC4uivbJRkZG4i9/+QtOnDiBpKQkkezyen/MCE3Zyr1eryj7NynVVF8xMTE4ceIElpaW8K9//Qv9/f3weFaT9L148UJkKARWdQWKZKqtrWUJOam/KpVKJCQkID09HQEBAaIFl0KhQGtrKxobG2G1WgGsRhTs27cPp0+fRmpqKmsfMrZNT0+jtbUVL1++xPT0NHQ6HVJSUpCfn89yQZBcUigUKCwsxOHDhzE1NYW2trYNDXbSPpuRkYE9e/YgNzcXTqeTza3kzJienkZXVxeGhoZEUVsRERHstyRfysvLsW/fPgwPD7OkixshNeBkZ2fjxIkTqKqq8omKoDEhzEzv9Xp99Athfxcu/On/ZISkCKfIyEi899572L9/Pzv5gJ5HRpzGxkb09PRgZmYGUVFRyMvLQ35+PqKjo0X6SHBwMPbv349Xr17hzJkzzIhLJCcn48SJEzh27Bibv8hQR86jlpYWNDc3w2KxIDIykm1tiIuLY6f/UNlramowODiI8fFxUTLGtfQm4fij+qTM+MvLy5DL5UxGCT2u1KcjIyOxb98+DA4OYm5uDuPj437loL++Rvgz3pABkMpFuhnllaCkd9LxHxgYiOzsbNbOJHcpO77X62WnsEi3kHi9XuY1r6+vx+DgIKs3as+8vDy8//77ePvtt30W/5QLgk4PomhA6o+ka9H7u91u5OXl4dSpU5ibm8P58+d9Tq4ICgpCVVUVjh49irS0NJ96AsByilESbVoH0B+SDdKIl7XWIgCwfft2pr8Kf+vxeLCwsIDW1la0tbWxcZ2amorCwkKkpaUxOUvyfevWrZiamsL4+DgzTK4VaSg1ngjLZrPZsLS0JDJmUJkoATvf/89ZC5HJXNixhHt0aKALBdfk5CQGBweZABFa+vwNnrUUSGD9sBeFQgG9Xo+tW7eiurraZ/FPXqapqSk8evQITU1NzCsQGxuLbdu2oby8nEUZCAV1fn4+ampq8Pz5c1HWZmGoqr93kMlkWFxcRENDA54+fYre3l7ExMSgqKgIpaWliIuLW9PTIpevHsHU3t6Oe/fuoa+vj2Wj3bZtG7KysnzC9kJCQlgoamdnp4/HaK0FClnJHzx4gNraWlgsFsjlcpSUlKC6ulqUqMxfWZ1OJ3vH8fFxOJ1ObNmyBTt37kRiYiKbZKksFGKYkpLCFkRUNpPJhD179jAPijDMjZTTrq4u1NbWorOzk+03TktLQ2VlJRITE0XPkclW93Xt3r0bdXV1aGlpYdZTWtCRIF3LAj00NIQHDx6gp6cHi4uLLAy2rKyM9TOh0E1ISEBOTg4iIiKY0rKeAkdldbvdGBoaQmdnJ7s31ZtOp4PRaERMTAw6OztF11NmcuqTwmfR4oSyewuVWqVSibi4OCQmJjJjGL3HzMwMRkZGMDY2BmA1bL6oqAiJiYksPwEZivr7+3HlyhXcvHkTU1NTsNlsiIqKQnV1NQ4fPozc3FxWRxQdUFpayhI9kYLy8uVL9Pf3s5BR4TtQWPCrV69ExiB6f2p3qk/6vru7G93d3SyrtMFgQHZ2tmgvuUwmw9jYGL755ht88803LOIoMjIS/f39+Oijj5Cfnw/gx6gfp9OJ4OBgBAcHi/aK+2tb8tY3NTXB4/EgOjoaGo0GOTk5qKqqQnx8vOj3S0tLePz4MZ4/fy66t9PpRH9/PwYHB9lngYGBKCwsRE1NDaKiotg9SL7KZDLMzs6yxG3z8/MICAhAdHQ0tm3bhtLSUrYvUajwZmZmYvfu3Xj69Cnq6+s33Pfrz0u13u+lnmbpQoMgA8bS0hKamprw+PFjDA8PIzIyElu2bGF7GIUKutQQbbfb0dPTg7t376Krq4vlTtm6dSsyMzN95iP6PjExkXnmhIZof+9B0BzY1NSEp0+fYnh4mG2Byc7ORklJiSjJJ5U3JCQEFRUVePz4Mbq7u0UGHqEMXAuaC2ZnZ7G4uAin04mpqSmmFNM+6QMHDjBZQdDcaLVaWQI2OhY3JCQEW7duxc6dO1louvDaxMREto9+aGgIbrcbY2NjGBgYYCeoCImNjUVGRgZCQ0NFxjxaXKSkpLCEt8I5g7YKDQ8Ps2uMRiOqqqpQXl4uKhPlDrl9+zbOnz+Pp0+fwuVyQavVIiQkBDU1Ncw7J4wCCQsLQ3V1NTo6OtDX1+ezHWMtyHCdm5uL0tJSUZ4d2p7T1taGS5cu4YcffsDs7CzkcjkMBgP27duHo0ePMplH80BoaCiKi4vx+PFjn61y60G/IYPG7t272ak1Qr1ELpdjZmYGjx8/RnNzM2ZnZ6FUKhEfH49t27YhLy+PeSX9eUnpXkLnjN1uR0FBAfbv34+4uDj2HXlTR0ZG8O233+K7777D+Pg4lpaWoNVqkZWVhRMnTuDw4cMseonaPjMzE9XV1ax/Cbc/paens7whwnJ5PB6MjY3h8uXLLGmxXL6akDkyMhLvvvsuTp06xeQujX2DwYA9e/agrq4OP/zwg889he0tRS5fzXX18OFDdHd3M490RkYGKioqRAkXpeOnsrISdXV1mJ2d9VmEbSZizJ83Wmj8pER9FHWTkZGBqqoqpKWl+TgxhH8rFAr09fXh4cOH7ESB5ORk7NixAzk5OaKcWvTspKQkZGdn486dO1hYWGBedp1Oh9LSUuzcuZNFBwr1Ujo56/Hjx2hqasLi4iKCgoKY44E8/sI2oLxBu3btQkNDAzo6OkR1kpKSgqqqKuTl5fnUKRnlurq68OTJE3R0dMDj8SA8PBzJycnYtWsXUlNTfeqV7k0Gb2n7GAwGlvhTqH8Dq+Pg4cOH+Oqrr9DW1obx8XF4PB4kJiaiuLgYJ0+exM6dO5k+SP2uqKgIFRUVaGlpwdjYGHM4bpS0VPj88fFxTExMICMjQ2SsJ/1EaGjcjJzhvFn4bAEg6zyFaQYHB/sktlKpVFheXmbH7GzGCyplPYOA8HO73c4SAfnbk+52u9HR0YHz58/j0qVLaGtrY8dFUTbwkZERtuClQU7Wv9TUVJSWljLhLhykNKCE1liZbDVL7OXLl/H111/j6dOnWFxchF6vR25uLv72t7/h6NGjLCurELLM37t3D1999RUuXryIxcVFaDQaGAwGfPDBB/j73//OrJpUBko8Qt5jYaj4WvXn8XgwOzuLq1ev4pNPPmHKktvtRllZGVZWVtjeOmkorcvlwtLSEm7fvo0vvvgCDx48wMLCAhwOB7KysjA0NIQTJ06IjqYjAxF5tHU6HbNMKxQKFBUVYdeuXdDr9aJnURKpu3fv4rvvvsOLFy9YmFlYWBiMRiMOHz6Mo0ePsoR9QiEaEhKCkpISPHr0CLW1taxeaPIR1pOQpqYmfPHFFzh37hympqawtLQEnU6H6upqfPDBB3j77bd9EpMFBAQgKioKUVFRPl6LtSAPwqtXr9DR0YHZ2VlERkaKJpi4uDifLRd6vR7JycmIjIz0274UdREbG8vCoWlxodfrkZSUBIPBwPZNUkTL4OAgOjs7mbdtcXERz58/h9PpRGxsLKKjoxEfH4+pqSmcO3cOn332mWgCBoBXr16xrN7knSeZkZ6ejoyMDHYk5vLyMl6+fIn6+npUVlaKvPNer5dFFDQ1NcFisbCJS6vVIjk5GUajUXT8qEKhQG9vL+rr69Hf38+MPnSUpvDecrkcs7OzaGpqEnlfFxYW8O9//xt6vR6zs7Ms0mFiYgI9PT1obW1lR2UB/scZeSNXVlbQ3t4uyvx87Ngx5OTkiAwAtNitq6vDP//5T3bcnzBUlzydZETYtWsX4uPj/W51am9vx7///W9cvXqVZZunyIPt27fj2LFjeOeddxASEiJajMtkMuTk5GDHjh0YGhrC+Pi4v24rgq6T5q+g70jpkC5+/SlShFwux9TUFG7cuIFPP/0Uz549w9LSEtRqNQoKCpgHULq3k9rV6XTi3r17OHPmDK5cuYLZ2Vm27eXdd99l24yojFR/oaGhiI2NFe2jFHpN/EELz5s3b+Krr75CXV0dM6BFR0cjMzMTJ0+exIEDB2AymVgZqd0NBgOKiorQ0NDA9mLSgkEYhiysa2DVMNTT08OOhKX9olarlZ0MExcXh71796KkpMRnDzh5S69du4avv/4az549g9e7utWOcpuMjIxg//79MBgMonnO7XYjJSUFu3fvZsY2h8OBjo4O1NfXIzY2lnm1gFVDZkZGBkwmk0+otV6vZ8cRCvuxy+VCe3s7Xr58yQzwoaGhKC8vR35+Pux2O4tkkcvlmJ+fx40bN/Bf//VfePz4sU9ffPXqFTQaDf7xj3+wrYt0bVZWFoqLi/HDDz9s2gBA7TE9PY0nT55gfHwc0dHRiIuLg0KhwOzsLD7//HN88803ovngxYsXmJqaYrl06LQI4danjIwMPH782Ofs+LWM+RRqnZ6ejuLiYmYUpGuEhtELFy7g/PnzaGlpYc4QSip34sQJHDhwgHnWpc8kGSRcABqNRnZKB/Cj4UqhUKC/vx9ffPEF/u///o9l9ydGR0cxMzMDr9eL48ePM1lE9zaZTMjOzsbz589ZtJXRaMT27duRmpoKp9Mp8rCPjo7i3Llz+OSTT0Tydnp6Gj09PZifn0dQUBDeffddUQQWJS4sKChAQ0MD5ubmRO8tlV2Ex+NBS0sLzpw5g3PnzmFsbIxF3iQnJ6O2tpadYELOFJLVZMAtKChAY2Oj6DSQ9fRdoQFG+G/qAxSV+fTpU3z22We4du0ay/JuMBgwMDCADz74AIWFhWs6454/f44zZ87g4sWLGBgYgNPpRHh4OF6+fIm//e1vqKioYJFPFMETHR3Njj6dnZ1l9ZWVlYW9e/cypxe9B+kbLS0tLBlqa2srHA4HdDodQkJC8OLFCxw/fhw7d+4UbeEgw1JWVhZKS0tFR8u6XC7k5uairKxMdCww1c/s7CyePn2Kb775Bg8fPkRfXx+A1aiBmJgYtLe348SJE9iyZYtIl5QamoX1plarUVxcjMrKSmb4pLZWKpW4f/8+/vnPf+LixYuiep6amkJrayvLt1FeXs7qVCaTITIyEmVlZbh9+zbGxsbYmFqrf5CuIIwaa25uxoULF9hpRHa7HRqNBhaLBbdu3cKNGzd+8nY/zp8fkQFA6F2iDJZqtdpHQCoUCqbcA6+38H8dvN7VvXPJycnIysqCRqNhApYG4OTkJC5evIivvvoKnZ2dIqE3OzuLW7duYW5uDm63G0eOHBEtEsjLvGXLFty/f58pWGSN9vdedrsdjx49wtmzZ/HgwQPmgVxaWkJtbS0iIiJYAiKhMkblbW5uxrlz53Dt2jU26dntdgwMDOD69evIyMiAwWBgApjqXq/XIzw8b6jv/wAAIABJREFUHIGBgWvmSiDkcjlcLheePXuGr776Co8ePRLtY6utrUVUVBQSExOxZ88en3dUKpXo7OzEd999h1u3bsFqtTKh097ejnPnzrHwdGmIc3BwMKKjoxEYGMjCkg0GA7Kystj+M5rQqF6eP3+Of/3rX7h9+7ZICZ+bm8PCwgIWFxfZAiczM1OkRFKiuNzcXGbNpvAuEpjC6BWPx4OhoSFcuHAB586dEyktKysrePz4McLDw5GYmMiSFArrmIxir2v0slgs6O3txcDAANLT01k7AauJZZKSkhAVFcUU4bi4OGRkZLBoAeo/Qq+mTLa6B4zOCKcze0NCQljovLCcy8vLrAxEX18fPv/8c1y5cgWRkZEwGAxITEzE3NwcHj16hK6uLp936e/vx+3bt1FQUIADBw6wz+VyOcLCwhAeHo6AgAB2OgHtv+zu7kZBQQEru0KhYEpgeHg4C0n3er0sAWl0dLSPgWpwcBB9fX0ipUq655XeOyIiAgUFBWhra8Pw8DDsdjtcLhdGRkZw5swZln18ZmYGs7OzsFqtLCRdiNAYIFWYpYmd6EgpKeS1XllZYWNYGgJO70LKjzDiib4bHBzEmTNn8Nlnn2F0dJSNbdrrev36dVgsFuj1ehw9elTkXQNWoz6Ki4tx586dTRkAfmlIQaQs7UKvnMPhwIsXLxAcHMxO/xAuRsiw19raim+//RZXr15lpzbY7Xb09fXh+++/Z2eFSw2OISEhiIqKgl6vZ+dOb2RInZmZwbVr1/D555/j2bNncDqdTBGbmJgQbes4deoUIiIiROM0MDAQOTk5yMjI8EmKKW1/KodMJkNzczO+/PJL3Lhxg0XgUB8gY19ycjIyMzPZFjOhMWZ+fh5Xr17Fp59+irq6OtF7LS8v4/79+2zbybvvviva/kURdHTkIUV0DQwMoK6uDmVlZUhOThaVOzY2FqmpqSLjCrBqyE1PTxflIyHjWVNTEzo6OpguERERgcLCQqSkpIjCneVyOTvGjgwZUqampnDt2jXk5OTg8OHDTHehOjUajUhNTUVvb6/f3BT+2t7hcDBjY1hYGMvLEhYWhomJCdy7d8+vMbijo4PJyC1btrDPhTJSmldiI68fedVzcnKg0+lYO9O4GB4exrfffovPP/+cvSNdS3WztLQEjUaDY8eOsahIIdQfqX8qFApkZmYiLy8POp1OpH/JZDI0NDTg8uXLPot/em5DQwOuXr2KoqIi5j2leTg0NBTZ2dlISUlBU1MTgNX+XFBQwIx0ZLxWKBR4+fIlvv/+e59j9oR1fu3aNWRkZGD79u0ivTUwMBBmsxmJiYnMgy30+Ap1CjKSdXd344svvvC7TYEiYSwWC2QyGQ4cOMD0DiIyMhLp6ekwGAxs/Ky1KF8P4ckBXq8XAwMD+Pbbb3H58mXMzc0x2T42NoarV6+ypKXCI1VpzE1NTeHy5cv47rvvWDg/sKorX79+nel1ZrOZXSuTydiiXaiXAmCnrFD0IP2h0xTOnj2LTz/9VHTMMW33oiNjtVot9uzZI4pWUyqVMJlMKCgowN27d5l8iI2NhdlsFjnYhHp2fX09Pv30U1y/fp3p1wDYtqkzZ87AbrdDLpdjy5YtrI8JjQDS9gkICEB2djby8vJEfZ+2vty6dQuPHz/2mWcBsKNk8/LyRBGKVKcJCQlISEhYd81BkI4j/M3U1BQuXrwIi8WC7u5utu2ora0NN2/eZFF+HI4/fCIAyJIm9ERI/wZ+DLcRXufPO/RzjQORkZEwm83M4i0sg9VqxaNHj3D58mW2+Bcil8thtVpx7949REZGoqCggIUN0SAOCwtDdnY2jEYjGhsbRaGDQk8OsGp9XFhYwLNnz9gxNsK6UalU7MzbiooKUcIjOlaqrq4OT58+xcLCgkiwq1QqDA8Po76+Htu2bRMJYODHI3V0Oh2zYPuzWgvrprGxEXV1dSxKQyjgyBtFR9MR9Juuri48ffqUbRsQtmVPTw8aGxtx8OBBtqinfkMTBe1NpCMVaf+3NPFKf38/rl+/jidPnjDFWqgI04LnypUrSElJYYtneh6FWuXm5jLvjlDpk/Y/r9fLzgYfHBwUvZdcLsfS0hJevHiB5uZmlJWVscUnlUmn0yEgIIDtU9+MIYAE8MDAAPr7+308yUFBQTAajYiLi2N7+ePi4tjZyjTZULgy7WHzeDzM2x8fH4+ZmRm43W5ERESIxgywOqFaLBa0tbVhZGSEvbfVaoXVahWF7dI+djrmjrL82mw2WK1W5vXu6OhATU2NaIyo1WoEBQWJ9qbSNoCGhgZ2ogEpSqGhoews4v7+fvauBoOBRRII63Fubo4dGyqsd6k8AsDuc+zYMcTFxeHZs2eYmJjA5OQkpqenMTMzs2ZGeOF4EfaR9dqZ+oK/RKFCuSo0TEmfRQtGs9mM1NRUkXJCBoS6ujpcvnyZeYGlfdDj8aC2thZXr15FWloasrOzRWOYDC8k89bzStF91/OQC8uwEeT5nZ2dRW1tLRobG0WJ+Og+3d3daGxsRHV1NVNkaczZbDZ2zvvCwoKPEWhoaAjPnz9npx8It39RHhNp4rS1PIAOhwOtra24cuUKnj9/zsoBiEP4X7x4gdDQUOTk5GDv3r0igxFtdaHTLIReX2oPqfdsenoaV69exdmzZ/Hq1Su/danT6WAymVhmfWGZaOF64cIFNDY2+vQxmUzG+lJ4eDjS09MRGxsrWgypVCokJSUhLi6O9dfh4WE0NzdjZmaGGQCA1bmRkpImJSWxKC6ZTIbExETRCQoy2WoOFxrLwjEYFhYGk8kkinyiPjMzMwO73c5C/IV1DIAZiZeWlkQLMTIaUU6RR48erZn/QlqPtL93cXFRtMgNCQmBXC6Hw+FAWFgYk8kkIxcXF9HU1ISuri5kZWWJtj4olUqWJG+zeDweZuymo9+EixaFQoGGhgZcunQJnZ2doqSpVAfAqvE/KSkJ6enpyM3N9ckVIrwfsDoXpKenIy0tjc2F9Fyr1Yr5+XnmIZUmthSeEiLdx+31rp4MkJmZCZPJJDIAmEwmH+MInYSkVCqZQYX6AMkPm83GDEtCeUd/KNKuq6uLRSdKxz29v8PhwP3793HhwgW2RUHa35aXl3Hr1i0YjUa29VF4GpNGo0FCQgLi4uIwMDCwYWi38N7Ssgnnlvb2djx8+BAzMzM+uvqrV6/Q3NyMkZERZoik91Kr1RgYGMDjx4/R19cnct7Q+7S1taG3t9dH/6RjI0luyuVyFhVA8pnq2+12Y2lpCQ8ePMClS5cwNTXlU88ymQwLCwu4e/cukpKSkJOTA6PRKHqXuLg45OTkIDY2FsPDw5DJZMxAERQUJJov3G43BgcHcevWLdy+fRtLS0s+6w+ZTIaRkRGmS5rNZqajk0HX3xwXExOD5ORk9lt6Jm23sVgsiI2NRUxMjMjhRH1Go9FgZWWFbX+g74DVbY4mkwnBwcFYWFjYlH4hnC/lcjlGR0dx5coVNDY2IioqCjKZDH19fRgaGtqUoZPz5uI3BwDtyxYeySdUaGnBKlSihIryZpTlzRIVFYXk5GS2EBAKyNnZWbaPyZ/1TahU9vb2oq2tDZmZmSKFiwSZMCRO+D4ul0uUJGx2dhYjIyOYn58XLThISbFYLJiYmMDy8jLbS0UKz/j4OAuLEyY2orIuLS3h1atXmJ+f99l64C/RFCFdbACrXtepqSkWBi+dvMgrMD39/+x96VNbV5r+IyGQAAkQiH0xmwEbjAFvgLd4SWJ3YiedVMa9V3fXVM3UfJvvM/9Dz/Zlqj9MV7r7N0lncRI7jtvBdrxgG9tgEJvYESCQxCpWISH9Pmje43OP7hUCk7XvU0UB0r33LPec97z7O82EeDq8l5aWWCwf9Y0n4OSO6XQ6JfdqtVp2SBCzoNVqmSVPLJkSExPD4thIky62Rf+Pj4+jo6MDo6OjEiWARhPKBZCXl8cINLnU8gwC/54mJyfhcrkU18v09DQmJyexsrISlrWahGPysthMyUVj0el0WFhYwODgIBwOB3Odp7VRWFiI3Nxc9Pb2wu/3o6SkBAUFBWweNzY2YLPZMD09jYqKCnZYUqmf4uJi2Gw2rK2tYdeuXSgsLAyzKLrdbvT29kq08TyodGVGRgZjXKicD2XSn5ubw9zcHPR6PVJSUph7Pr8GDQZDGAM3ODiI9vZ2nDt3jmWQpnnLz89HcXExnj17xiybJDCJmJycREdHB7Nc076fmppCX1+fZJ3RQVlaWorc3FycPHkSDocDY2NjmJiYgNPpxNDQEAYHB2G327G4uCiJfeXnLlplppIgTM+Q+56nAQCQmpoKi8USllTO7/djdHQUjx49wsTEBEtYKiqUiC61tbXh4cOHKCgoCGNe4uPjWWky3lISqe9ydEYcg9y9ImJjY+HxeBgdFc+MjY0NliV8YWFBYski5nx8fBxOp1PCVNO9y8vLcLvdmJ+fZ6EjdA2VCVNi/Pn/iYF79uwZOjo62FoHpGVYidYMDg7CarXiwIEDzNpNz01KSmLVJ3jPA6J5dJ1Wq8XKygqePHmC27dvs70qKmkoRC8zMxMmk4lZSem58/PzePjwIbq6uiSKJv43CZUDAwNoaWlhCdv4uTAajcjIyEBycjJTPI+NjaG3txc1NTWSNklxVVxczBQAubm52LdvHxPo+TkeGRmB1WplaxkIKQDIzVYUhnJycvDqq6/i0KFDkvAZfl6oHJtYVUSrDeXSycjIgMFgkCiK5UBzxisCaN7T0tKQm5vLSpfFx8ezdba4uIjp6WnMzc2xtuQMI5Sojt5tNEhISGCJmek+WjsulwtdXV0sEaGcsEn8zOPHj9HS0oLS0lKJG7Uc9Ho90tLSkJycHNbfYDDIShXzsen8WqWknpTElO8LlZqj2u2BQAAWiyVMMULvuaSkBJcuXZJUmRD5TuIFKEad+qnVamGxWCRecaLwTNjY2EB/fz+ePHnCQn147zu+X8vLy3j8+DG6u7sZX8IrG9PT05GZmQm9Xs+8zyJBPHf4zzWaUHLGyclJibccP0bibyYnJyWeJwS32808pnj+h2i72+1mpbHFEnmiAoCSW4v8VVxcHFNS8IYFvr/8/FmtVrS3tyM1NRUGg0HizZeWlsa8myhpckZGhmzFj97eXrS0tGB+fl5CF8Tz1e12My+mw4cPh8kD/FlPeV74/B/0rI2NDVgsFpw4cYKFfvHrjqcZZWVljBaIPDCVwqXk10pnE/WJP4dpv83NzcHj8TCPTb/fL8kvEi3/ouJvC2EeAMREeb1eeDyeMDd/OkSSkpJgsViicl3ZDogZMplMSEtLg8FgYEwOMV8ulws2my0spo9XBpAASALC9PQ0y2BOGykxMRFmsxnx8fES91055nVpaYnVCBc3FVnoyI1YvJ/yJlDYAE+A6d6FhQVJVk9+TCIDzjM5PEiI5wmKePgGg0HWlngvZeJfW1sL00ITMVpaWpJkSecPSCqXCIQIXFpaGlJTU8Myc6+trbHkZ/SZCGqPatePjo4yqx7fXlJSkqRWPE9k+bXr9XqxtLQksUiIlpKVlRXMz89jeXkZycnJksOYzzAcrfBPTD4ddl1dXUhOTpZYtysqKlBSUoIHDx4gJSUF+/btg9lsZgex1+tlSW3i4uIYk6PRhOqc7927F83NzfD7/aioqAhz56V4W979H3h+4FGc5OnTp7F//37k5uYiNTVVYq2nsJ/5+XksLS2x8jO8JYreuXhAr66uoqOjA729vcjJyWHrm2IXKyoqkJ6ejomJCZjN5rAxULxdX18fOjs7Je3p9Xr09/fj5s2bKCgoQElJCdvfFHdLCovS0lKWHXtpaQlOpxNdXV1oaWnB7du3MTg4yCo8iIyD3MEs976V1jEv5In38fOYlJQkUTyRMkOr1WJ8fBw9PT0srEnOsgKEaMPQ0BB6e3uxurrKnkd7lWpkGwyGTRUAfP+VoNQPpTmi6gWUlV4EnT980jxicum7paUlCX2j+d3Y2GCVAQhiFRE5ZYZcCMns7CyGhoawuLjIXKB5Jo6epdPpMDc3h56eHraG6TlUJcNkMkkSZcnNGxBabwMDA+jp6QmLEaf2aM+SUoEXdkjZNzg4yBJSicpAGi8l97PZbJifnw8rKZWYmIi0tDQkJCQwBcDExAQePHiAAwcOsORT5P5cVFSEPXv2oLm5GcvLy8jJyUF1dTUyMzNZ4rxAIICVlRW0tbVJ3Llpj/J0kZ/ryspKlJWVMaUX78LNzyV//tC6IO+0pKQkJmRE4xrLz1d6ejoOHTqEo0ePoqKiAoWFhRLrP3mneDweVtGFkgDSXhU9f7YCo9HIeC56f0CIttrtdgwMDLC8TEpjIUVVf38/O994iH3S6/UwmUwShS69D4PBgEOHDoUl9uUNRjRm4tvEGGfKPk/02mg0ynrnJCYm4uDBgyxpHL/fiaZptaGs/2L1FeqD0WhkHnXid3xblEvBZrMxbwKRx+XXxcTEBEZGRiRCM11rNBqRkpLCPOg2g9g3ESsrK4xu8n3hvco8Ho+EpvO0mzL/86DvyXJPa1eETqeTKIxSUlJYknAC/T05OYn+/n5miRdBba6vr2NkZAR9fX04ePCgREgGnvPmwHNlklwZRKqkMzIyIqus4eeUEk4PDQ2x3Cn83PPjiImJgdlsRlJSkkSmCAaDzEMqOztbsj74NUnyBxnwxHOHKslQWU6lvkcC35aSxZ+fU1URoIIgmwMAeO5uOzs7i9zcXMnGJ81Xbm4uEhMTWcKsaBhiOaFM7ntiKvR6vWzJOgDMGilCzrK7uLiIqakpeDweplHkBRZy7aayOdRH0ZWOf7Y4XtqIPp8vrKboZsIiP3+iFVKcl2hAGaDFueDboKSAfPvUZ3KHIiZR7AeVdhHBM6jAc62x6L1A5ZzIG0KujyJmZ2cxNTXFav+KrufEpMhp9ukdkMVOPMzFMdD88N+TN0i070DUznu9XvT29sJms7GEMMQ0FBUVoaSkBCkpKcjMzER5eTkrmQWEEtf19vbiyZMnqKmpQUNDAxt/Xl4ei7E1GAwoLy9HcnIy1tfXmWVqYmICnZ2dcLlcYes5NTUVp06dwhtvvIH6+vqwcn1yoNAQsR44rwEX57S/vx9WqxV1dXXMOyYuLo7F2OXm5sLpdLKSYXzsfzAYynjb2dkpqcBASh2Xy4Vr164hMzMTly5dQl5enqKQRQoBk8kEi8XCFCjZ2dn4+OOP0dnZyeKttwrR6sDPM9FO0dWQZ2b5Mp1y65IYND7BpRxjqtGEKpXw1/KMMzEeW3FDFscY6TNRSCYQg0P7UE55TOtI/IwX8GnsYtv8vNO4RSgxWHKfLS4ushKqSopF4Lnw43Q6WR4PeiYxgHSW8eOhe3laxuekENvhn2swGGAymcL2Cf/u5c4S/jzSaEIeFWRBIiGdZxj5cmc0J11dXRgeHmbu6ARKApuamorl5WXmPksuu0BoDTgcDnR2drI8IUQjExMTw5Q1BLFEYjTg55mSuCYkJGxKw/l3TELAhQsX8Nprr+HgwYPIzs7etC9LS0vsvdOzCJG8aZTAlzPmn0O5KKiqwGagUEZR+Q+E76n4+HgYDIawc49oCIUzRAtxDuLj45kCAAid40rzyieQ3Q6SkpKQnp6OuLg4LC8vK9KBjY0NzM/PM8NSJF4BACs3t7q6ysbB8z+UiHerhjI5/o+nm/w1PF2lM4bfw/zY5MCfT0rKDp7nIiUyubSLvNHi4mKYp6HSuTEzM4PJyUlJ+VCCVqtl/D+VDxQVREBICUaGCb7PcmeoRhMyKJGyjE80Sb/pM602lESS1jjv3k/Xb4Um8f0h/prKXfMKALHPfN9FiHtW/M1fo0IFD9kcALRxqMQElfsCnh/UOTk5KCsrQ3JyMquPLAdxcfICZVxcHGJjY7G2tiYRRHmGSNxsdA31UU7YoPtE5pvGJrrX88RV7LNc/yNtJt71XCTA/FjkhBOlz/jDI5pNLdcOD57Blhsfr/RQYsRF5l0UApWUQfz/chp4uT4R+HURqYSRXHv0vdKz5RRTotKFP2C3epjTPDqdTgwODmJmZiasyoDFYmH1tPPy8hAXF8fuczgccDgcsNvtGBwcZC6m1AdK4KfValFUVCRJ1hMMBjE+Po6uri7Mzc0xaxUQctc/f/48/v7v/x4NDQ3skOfXGs9M0I/Yd2qL5kVcN1qtFgsLC7BarRgdHWUZ2oEQY15ZWYn8/Hz09vaisLAQ5eXlzFpEa5EyhvOWFL5fQ0ND+PDDDxEIBHD69GkWcy2GI/CgZKcVFRXIyMiAyWTC73//e0ncNN+WEmjfAJBllmmd8z/iHIn3yLUn5wkkt8/5NkWlKn99NJ4s4nO3cp24D8U9KGeFlRu7SEflnh2pn9G0qwSdTofY2FjmUsnvA/5/kXaKINpBfVdSmFFZVLkzlT9XlFyY6fmRPufnmD8XefrO7z++L8FgkHmXnDp1itETUujl5+ezRKK5ubksIS7NeWxsLOx2O3p6eiRC6GYl8bxeL/MY4cdGNMvv9zPPPGLK+XF6vV7m4bcZQ8zvi7S0NLzzzjusxCAJvuIZT9Y3al9MQCmeqVs5PwDlcsly+zrSnqa1E0374r7h543cjH0+H+Op+Ofya4q+49deIBCQeETS5zx9E98fKTh4Gkp8IJVxJQ80PkTH7/czIZ03zMjRCeoDv4bEORX3vxxfKD57KzRHCeLeFUHfibyQEv2U49/EM4/no6M11vAJEcV1w/eJ3p2S0o/eHb2TSDyvOE65dulacZ3y9CnS+Pg2gsEgK7VN65LWHb+OeHrK0wB+H4jnitwZJ37P3yP2V4knUKGCB1MAiATD5/PBbrezhGH8d1QW5MCBA9i7d6/kGjmGmWfiaSPk5OSgvr4eWVlZGBoawvDwMFwuF1ZWViQC5urqKmOGxDaSk5Mlsa1KTKNGo2G1gsmqym8UShxDzMV2tPNy2IzJiIQXCav4Jje6EkNCc+jz+bCysgKv1ytRvJBVhcIxlJ5J74NipcxmMxOM+ffEZ1b/usa/Ewe4z+eDzWZDT0+PJNlRIBBAVlYW9u/fj927dzPXOqq4YbfbMTw8jPHxcfT19WFycpKFVQAh91Qqk5iens5cbbVaLVZXV2Gz2TA4OCipIBETE4OGhga88847OH78ODus6DBcX19nsdhUzomqUaSlpbHYTYKS0EHjW1pawpMnT9DW1sZKeq6uriI+Ph7FxcWorKzE8PAwKioqJPkPALCkWl1dXSw0hT/giVZQjfbW1lYcOXIElZWVKCoqwq5du1jMvBiioNGELO/Z2dk4d+4c7HY7HA4HS14ULaMs0lB+Tnh6IzLK4jxRiII4l7zVhVxqxXng209ISJDUdOb7RSEp0Xo6RHq3PxSI5xUAZmWnHBjiWcgze5RDw2g0SjzA6J2urKww99tIc8krkSP1dX19ndFW0apN60SMB5cT/OPi4pCUlASj0ciewTPvJHjzcDqdsFqtGBkZQUVFBTSa554ZlGRuZWUFRUVFkmSkQMjrqbOzEzabTfI5MdNiW8Rod3d3o7u7m7k38/uIaBYJC5SXhKyh1D+r1RqWv0fpHZD17+zZs/jFL36BgwcPStbGxsYGC5dzOp1YWFhg91gsFpYfgFc4bFXhRuMHQmeHWAEICL2rlJQUpKamIjY2dtNzSq/Xh4WgiW1Rf9fW1rCysiJrUebDuniDAj2DlDIbGxvMBZr3PNzY2MDc3Bz6+vqYtxovTPGgihF0rUhXiR5SYmY6V6mdjY0NzM7OslJ0BDm6FhMTA5PJxLxRaE0pCcbx8fEwGo1hHgparZZ5Sn4bwtfX0Sb/bimxHYXnAVKrdkpKiuQ+ORlBowkZE1JTU2U9PIgm0JohpRP/HI1Gwzz6EhMTmVcRfUf9ontojxqNRhZKyn8nen+SDMI/j+ji+Pg4Ojs74XA4GD3iBX3aN7ziXqTvbW1tLC8MryiL9n2I+5I3nvJ0X4UKEYpJAIPBIItt8ng8kkOcFtiePXtw/Phx9PT0sCydkQRxasNgMKCxsRG//e1vUVZWhoGBAYyNjbHkJb29vXj27Bmmp6fh8XgwOzuLlZUVSQkNACwMQa/XS4iCyBRrtVqkpKQw10R+0wPP694Tg8ePQYzF5zX4IsSxyzHmvPuW3DX0/VY0+nLgDyjRjV/UxPPPFw86uRAAOeIkp0kGwOLKyL2UJ06JiYnIzs6GyWSC0+mUPSB4YpiVlYWCgoKw5DQkXPLWJDktuZymVGnu5BQw9E5ELexWoNVqmfXr2LFjSEpKQjAYclcuLi7G6dOnkZWVxVzCgFBCx+HhYXaw2e12DA0NoaKigh282dnZOHnyJFOsUFtAKHSit7eXZc4nxMfHo7GxEY2NjZLYTDoArVYr7t+/j/b2dmY9SUpKYqXHDh8+zJh/fo4iYWBgAFarFadPn5YI+VqtltW43rNnD1JSUiR9crlcsFqtslUU+D0PhGIy33vvPTx8+BB79uxBfn4+cnNzkZOTg/T0dJSWlmLXrl3MfZF+/H4/MjIycOzYMTx8+BDT09OSdoDI+5DX6CtB1PCLz6VwJbnYyWAwlOQqJycHRqMRS0tLYQc8PVur1SIrKwu5ubmyVT7W1tYwPz8fVu5QCdS3nVACiLRHCUphEnJ0Sq6/L0I76b6UlBSYzWa2PngXX9EKo9PpJDGhPMNHghQxkjxdE/smhokoWXMoKSftSz72OSUlBVlZWUhJSWExvaKCg5jV5ORkls1b9F6hXBm81w31Z3BwED09PaxkH+399PR07N27F8FgEMXFxZLEYcFgEMPDw8z9Xzyr19bWmAKAX3MbGxvo6+vDp59+ivHxceYtwL9nOtdXVlawurqKYDDkpk45GDSaUHJEpRhnfnz0HtLS0vDSSy/h8OHDYd8tLy/jyZMnePToETo7O5lbeUJCAoqKilBdXY2jR4+yvAqiciVa0BzRuETodDrk5eWhqKgIer01tDnmAAAgAElEQVSeVYsRn0FKElobYiy13DojJRNv5QdC72Z5eRmtra24fPkyE9J4YZms6LT+SXCndUd8m9vthtfrRWxsLFZWVsI8XzSaUJgXVTkgoZP/ISWuRqNhlWoAMNdxyqPD5xWRowlabSiRcUFBAfNc4b21ROE1GAwpxdPT08ME2GAwiKWlJczPz8Pr9SomZ9wKlO7lFc6iRVk8LzdTEIlj5D/naQjlupCj02lpacjLy4PBYGBrR67P5E0sZvantba+vs5yufj9fiwvL7PcL2IIaHZ2Nsxmc1jVBnF+6GzMz8+XGBnkPEPIS2VxcTFM+avT6TA+Po4vvvgCra2t7HqRrpN3CpWKjYmJYWENMTExmJ2dZeESomxCz4l0Zmo0GqaoAsDCuJTWrQoVBMXgFY0mFBvY3d0Nq9WKY8eOhcUamkwmnD17FpOTk+xgFplbcTPodDrU19fj4sWLOHz4MBISEpgrs1YbSuz32WefYWFhATMzM5ienobdbofH40FKSorkeWlpaWhsbERbWxusVmuYME3P3NjYQFVVFaqrq1kSJr5Po6OjLNurqFETD2siIJHmLRKUBGjxeznFQ7TghQC5e3nFgJwgEql/chpHuo/Aa2kp3tPhcGDfvn0SF/NAIIDy8nIcOnQIExMTkqSD/AHm9/sZQ0XZ7/n+uN1u2O32sOzaIsEW+xlp/uS0sC96eNN7nZiYQE9PD1wuF0uyp9PpkJuby+K/qYa13++H0+lEf38/E0jpf0raBTxPUEX5LAiBQAB2ux39/f1hSYgyMzOxa9cuSfJEGqfNZsMf//hHVmOW8loEg0HEx8ejsrIScXFxLAkYjU2JueUP1J6eHrS3tyMvL48pMHw+H1Mm8HHFdPD19/ejr69PEvtOz1V6p2TJ1+l0LP4zPT0dFRUVOHbsGI4ePcqSdNGBHh8fj+zsbKSnp7ODW2SglMAzR6KAwQtzSoIfYXp6Gm63O4wRJoGqsbERDx48gM1mk1VUUW6G2tpaHD16lCUw4tf0wsICq1YSrYAc6Tq5MSnRSj6efrP2lD6Plo6KiDROOSZVr9ejuroa+/fvx4MHDxiDJ47X6/WitLQU+/btQ0ZGhoQRDAQCmJ+fx+zsLBNMIikwRAWkqOCiez0eD6amprCwsCDJeREIhLKpHzlyBG1tbXj8+DHbnzydJwZx9+7dqKurk2Tqp99zc3OSijA0JqpI0dHRgcbGRkaHYmJikJqaiv3798NisUiUlGTB6+rqQl9fX1hYAYCw2Guaa4oNdzqdePToUdj+4ueHkv2RYl/0KJATjETQ93l5ecjNzQ07c9bX19Ha2orf//73uHfvHhOEeMH35MmTyMrKYoLkdhUAxMOsrq5icnISs7OzkqzksbGxyMnJQVVVFUpLS/H06VPZ8VA89eHDh1FXV7ep5x0Qosuzs7OSs4a+p8TMlHxNbv4IycnJMBgMLF5ebq+trq5iZmZGkryTQIkbR0dHMTQ0FDHXAeXCWVpawvLysmw4mjhese+7d+/GkSNH0NHRgYGBAVmPLTprSWnNn390BrjdbkxNTUmSS78IoqFrkUKDtvt8aoP2bCAQYDmceCFTowl5DxcUFKC+vh6tra2w2+1hYZNEjyjhcVVVVVjYIpVDpZwqVAqU8kbx79Hn82Hv3r04fPgw7HY7S6QtzgvlLyPvQCUekadzLpdLNtcY0aXFxUU8e/ZMljchEF0kJaToycPzO5F4a7lzg/Z1amoqkpOTEQgEMDMzg/n5+bDSnCpU8FBMAkgEr7+/H48fP0Z5eTmysrIkVrnY2Fjs27cPP//5zxETE4MPP/yQJdbgYx35uNdDhw7hF7/4BV566SVJiTHaAPn5+UhISGCbd3p6msU8U6kNIg6JiYk4ceIEKyXkdrsZ007txcXFYc+ePThz5oykrBg9w+PxoLe3V1JrWS67Nj9HSvi6N9hWiLpINKK5bidAhJ0OBZ/Px7L3+3w+JpzSWistLcWrr76K3t5e9PT0MCYRAGOkzGYzTp06hYaGhjCrRSAQYG7xxDjwmlclLfi3QQyJEFM5wLGxMZSWljKmMSYmhjFZ1MfY2FhJRl0ArH799PQ00tPT2UGYnp4uGRcxwDabDUNDQ6wdAMwSRJYLXrCJjY1FV1cXbt26xSo08HkDvF4vc6OLZMnkQXTA7/fDZrPhyZMnqK+vZ6EOOp0OpaWlyMzMRHJyMovl9Pl8mJubYyWuaH3xz+WTgyUmJiIrKwsZGRnw+/3o7+9nCYbcbjdiY2PR3NzMvBp++tOfMi8M4HlW3oSEBOh0uqiSaonjlNtT1E+TyQSDwSBZl7wwBoSSm46OjsLhcKCsrExyTUpKChoaGnDixAk4nU4sLS1hfX2dzQlZmXbv3o0zZ86gtraW0WxeWTI+Ps4sqdEqxaJ5z3L37BSN2Ur722mTfy4fW3z48GE4nU64XC5WP5toFCnvSkpK8Morr2D//v3s/KH3u76+jrGxMYyOjkoUAEr9VFKc8OMPBAKslKLL5UJlZSXzHKO9WV9fj97eXkxMTGBoaIi5SVO/qfzoqVOnWPgQb1UlgdvhcCAuLi4sw7TD4UBbWxvGx8clwqHBYEB1dTXKy8slnoM6nQ4zMzNoa2vDwMBAGIOu1+vhcrkwOTnJLMK8x1hVVRXq6+thtVpZgkTx3cXGxqKhoQGNjY3wer3o6+vD4OAgRkdHJVVrolkHcXFxsFgssFgsEoujRqNh5d9u377NSpLyIJok7vVo2lfqj8/nY/tWLEum0+lQW1uLkydPYmpqCi6Xi53DGs1zC2FhYSFefvll1NXVsQSxohBE6wsI0fqxsTGMjY1J6txT2EFNTQ1qa2sxMTEhoZX8GM1mM15++WVUVFTA5XKhp6cHg4ODmJ6eDnOPn5ycxNTUFFvPxIcmJCTg8OHDOHjwIIaGhhTnymg04pVXXkF1dTXjC4aGhjAxMcGErki0gda+0WjE8ePH0dfXh7m5OSwuLkpyPNA+q6mpwfnz51nOGn4eV1ZWMDIyAofDsWnIyU5jp/k6Aq/EcDqdGB4exuLiIquuQOdcRkYGjh8/jra2NkxOTjLaRHuevHL279+PkydPoqysDBqNRqJMmJ6eRl9fH+PNqQQiTx9orLGxsSgtLcUrr7yCgYEB3Lt3T2IVJx4jKSkJx48fx4kTJ1h5WTobiT8S547Kd6+urkq8PEh5euzYMTx69IiVPpXb3xUVFTh//jySk5MZ/SOjFa/IiEZJJOZKMZvNOHbsGI4fP86SXFqtVjQ1NaGnpwerq6uScEEVKghMASAueooB7uvrw927d9HY2Ijc3NwwC4her8fBgweRlJSEvLw83Lx5ExMTE3A4HKzMjMFgQHp6Ompra/H666/j+PHjMJvNskTR7XazDMMAWNma4eFh1NTUsHZp0+Tl5eHSpUvw+Xz48ssv2X0UL3vs2DG8+eabePXVV8NcjAKBAGZnZ/Hs2TMm6BBzJzJhShauSJZzXqNIz46WMPPunPx4RY2mKICJViIlawdP9Pg+is+OpCXn45roWXJVE+x2OyvXSMIWHaIJCQl4+eWXsbi4iA8++AADAwOYmJgAAKbVPHfuHH72s5+htrZW0k9yVaf62yQgkwut3HxTu5Eyt4rCEv0mF8OtvEe+XX6+x8bGMDw8jPr6etmstnT96uoqRkdH2foEQm6yg4ODGBkZQUlJCcsyDEjXiVarZQqu8fFx+P1+SZwaZWAWkx0Bz11/CfxeLSkpweuvv476+vqweZBbT7zHRzAYxMjICFpbW+FwOJjSgtYCKRUIMTExGB8fR0dHB9P8i2syLS0N+/btw+7du5Gbm4u8vDwkJSUhJiYGt27dwv/+7/8yJoSsgc3NzTh48CAWFxfDEhqKYTrRgpQT6+vrYdZ7iousrKxEcXExRkdH2bj1ej10Oh3W19eZl0ZPTw9aW1uRnp7OxkLPLy4uxs9//nPodDo0NTWhq6sLQGh9Go1G1NbW4uLFizh//ryEKaUxjY6OorW1le2zaBSENCe0dsRr5JRqcpYHnq5GssTyimi+H/x9Sv2Ve95WaDDfdkxMDLKysvDmm29iY2MDH374IRMKAoEAkpOTkZ+fj7feegsXL15EXl4eE4RIueL3+9HR0YGOjg72HSmZ5Vw+lRQAfN/o9+joqKSEFj++3Nxc/PSnP4VOp8NHH32E9vZ2dvYFg0FUVVXhwoULePPNNyVlRen5dDb29/eHxd3S+Hp7e2G1WlFZWSlx9ScBVVwrk5OTaG9vlxWaicFvbW3F8ePHUVBQwL7b2NhAQUEB3nrrLczOzuLq1asSpT0QsvwfP34cv/71r1lOk7GxMaZcbm1thdVqlW1baZ6pKoccnSNrthxoD1ZVVYW9S5GH2kyxFQyGQhlWV1fR09MDm82GPXv2SLzpNjY2UFRUhJ/97GeIjY3FlStXMDg4yHJ8GI1GlJWV4Z133sGPf/xjZnwRDQVEZ4hW8LkXjh49KumXz+dDTU0N/u7v/g6rq6u4efNmmGXTYrHg/Pnz+OUvf4m6ujqm3Ozs7ERXVxc6OzvZ2e3z+TA4OIjW1lZUVVUhLS2N9W9jYwN79+7FpUuXsLy8jDt37oQpgdLS0nDu3Dn8+te/xoEDB+B2u+FwONDT04Oenh7cvXsXg4ODkkzxvLs8vQutNlQ6tq6uju3TK1eusNKiwWAQ6enpqK6uxqVLl3DmzJkwz1KNRgOXyyURYKNBJJ6Mx2aGKP782oxP5T+X+16ODwZCJQkpn1FWVpbE84C8bn/1q19Bq9WiubkZg4ODCAQCrDLCiRMncOnSJZw6dUoS9kqKq5GRETx58kSyX8fGxjAwMIDZ2VkYjUbJuPR6PY4fP461tTUYjUY8ffqUzX1cXBxMJhNee+01/PrXv5aU/xPnQJy/2dlZtu8OHjzI1khMTAzS09Nx9uxZjIyM4M9//jMcDofkXq1Wi7q6Orzzzjv4yU9+gpSUFCbf9PT0oLu7G83NzZiammJngZzXIX/G8mG5SUlJuHDhAi5duoSXXnqJ8banT59GUVER/vCHP6C5uVkV/FXIQjYJIP1Ni6y7uxvXr19Hfn4+cnJyJKEAtGkrKiqQlpaG2tpaVm98eXkZCQkJSEpKwu7du1FVVYXi4mJmBeYtU36/HysrK7h37x6am5uxsLDA2hgfH8e9e/dQVVWF3bt3s41KBGffvn34zW9+g9LSUrS2tmJ2dhbBYBAlJSU4deoUDh8+jKysLEmiErKudnd3M+ECALPEKRFYpY0kMrXbhSh88n/LxTWJljmRQYykmJAbz3YJBa8A4MvFELF69uwZWlpakJaWxhhFYjQsFgvefPNN5Ofno6WlhWV6z83NRVVVFY4fP47y8nJWR5Vn0GdmZvDkyRMMDAxI3NPo4ObnQxQiNhuLEuSeE61ViTA/P8/qdBcUFIQxytTf8fFxCdMChPYluUIePXpUVoFAB6rb7YbNZpO1mFECK5/PJxFEAoEAKisr8dprr+Hzzz/H1NQUW0eFhYV4/fXXcfr0aWbdowOTZxzlFBJ826Ojo7BarSgrK2PvVU7o0Wq1GBgYQG9vL4uxFWE2m3H69GlcuHABJSUljJ4YjUaYzWYsLCzg6tWrEppSX1+Puro6mEwm5rpJSk+n04nZ2VmmMIlWGUBjFOs005waDAbs378fP/7xj5nroNlshtlsxurqKp4+fcrqSQ8NDaGlpQUHDhyQKM1onmpqahAbG4uCggI8efIE8/PzMJlMyMnJQWNjI44cOcJcj6lvlCW7vb0dDx8+xNzc3JbHp/SelBQASnuJV05uNp9y92yVxop0dDPmmmcGg8FQzevz588jISEB9+/fx9jYGGJiYhiNOnr0KHJzc7G2tiZh0AwGA+x2O1pbWzE6OhrGYIox93LjVqIxsbGxcDqdePDgAWpqarB//36JMi8uLg4VFRX4+c9/jszMTNy/f59ZMi0WC44ePYrGxkaWjJQfc2xsLPr7+9Hc3MxC+8R1Ehsbi/n5eVitVhw9ehS7d+9m88wrWGkOFxcX0dHREZaLhK6JiYmBx+PB06dP0dbWhsLCQvYdhbXU1NTgl7/8JVJTU3H37l3mTk7fvfbaa3jppZdgMpmg1WphNpuxd+9ezM3N4fLly8wlezOQ4oYvA8mPKSEhAQ0NDXj99dfx4MEDxnMYjUYUFhbizTffRENDA3Nr5kG0kucZNjs/SKnd39+Pzs5OnDx5UlIFRqMJWUErKirws5/9DPn5+Xj69CkmJydhMBhQUFCAI0eOoKGhARaLRXbdAc95DN6Dc2xsDE+fPsWZM2ewf/9+yTtOSUnBSy+9BI1Gg6ysLPT398PpdEKr1SI7OxuHDx/GuXPnUFtbyxJqZmdn4+jRo2hvb8d7770n8W6bmJhAc3MzGhoakJmZKVGWxMXF4dixY9BoNMjJycHDhw/h9XpZNanGxka88cYbOHjwIOLi4mA0GpGXl4dDhw7Bbrez85CUNry3i5wLtkajQXV1NX75y18iPz8fg4ODcLlc0Gq12LNnD44dO4b6+nqYzWYJfaGcBx0dHeju7t6S9V9JmUrYjDeh9pX4OiXhX7xGTgAFwstXEo3gPYRJONZqtaivr0d8fDwqKirQ2tqKhYUFVur45MmTOHr0KPMCJOh0Ong8HnR3d7OSvNQnCiHq6upCXl5e2LhTUlJw7tw5WCwW3LlzB1arFV6vF+np6SgrK8OpU6ewf/9+Fn8v8tpy5xIpcB8+fIjy8nJmMCA6n5ubi3feeQdGoxEPHz7E0NAQ1tfXkZqaioKCApw5cwZnz55FQUEBNjY2UFNTg7179+Kll17CrVu34HQ6MTU1xdoWywSL75U8I4FQHrZXX30VBw4ckHhMkWJieHiYecCoUCEiqgKWdrsd7733HsxmM37yk58gKysLwHNCodGErKrZ2dnIzs5GY2OjJI6L3MWIyPJuPvSj0+nQ0dGBjz76CB0dHRIi7Ha7cePGDVRUVCAnJ0diyaeMrYcOHWIVCTweD+Li4pCRkQGLxRKWu4CsdAMDA/jiiy/Q1tYmGQsRsEjCvkhIxRhbHtEKnvS9HINLc8YTSrm44miYCX4MclpQQCrUReqn0rjoXRMxa2trw+XLl7Fr1y7U1dWFuZzn5eUhLy8PjY2NcLlc8Hq9SE5ORk5ODlMY8Yef3+/H3Nwcbt26haamJibciX3iNcs0Z8RMKYFnhAlKVuFo51u8Z2lpCV1dXejv70dWVpZsLeVAIMCEXz75UyAQwMTEBGw2GztQ5cZOHjy9vb3sczpEgVAoAXnq8Bl7KTfDb3/7W+zbtw9DQ0MIBAIs9v/gwYPIzc2VMAxKgqQcI6LVapkXQF1dHUpLSxXjYu12O9ra2pjbp9xcU5JQSjpEY9BoNKivr0dcXByqq6sxOjqK9fV1JCcn48CBA6ivr4fRaJTsgbm5OfT29sJutzNPoGiUPDzzMD09jYmJCSwtLUk8GgKBAPLy8vCLX/wCR44cYd4HqampGBoawu9+9zsWLzk+Po6mpiZUVVUhKyuLeQlQfxISEnDo0CGUlZXhwoULWFlZQWxsLGOuRK8OsrzYbDbcuHEDLS0tYTkhlMYl0pZo1/tmXkTRQGmfKikBNrN08fdHA3peXFwciouLYbFYUFdXB7fbDa1WC4vFgoyMDImrN9GKYDCIyclJNDU1obm5WeKGySsA5Pomp5AX4ff7MT8/j6amJhQXFyM/Pz8sASEAFBcX41e/+hXztCKFBq0raoP6RXlKbty4gUePHoVVPyBsbGxgZmYG7e3t6O/vl03QSs+mnAGPHj3C2NgYC1Xh26b/Ozs78eWXX6KkpASVlZUSTzdy8c/Pz8f58+cxNTUFn8+H5ORklJSUoLi4WBLbTmf/2toa1tbWWH4BJfBrneKcyTrHg2LpDQYDGhoamEdPeno6qqqqUFtbywRY0YtFVJJuRQHncDhw584dNDQ0MIsfPzexsbGorq5GWVkZzp8/j9nZWej1eqSnpyMjIyOMfxB5B5HvoXdy//59NDU1ITMzk1UbIGRlZeGNN95AVVUVRkZGMDMzw6yjZWVlyMnJkaxzej8JCQlYWlrC3NwcW/Pr6+t49OgRbt68icLCQmRmZrL3T+GA586dw+7du3HhwgXMzc1Bp9MhOTkZZWVlEqURKbKA0DqgZMT8fIqGAR5arRZJSUk4ceIEampq4HQ6sbi4CJ1OB4vFgpycHMk8EjQaDQYHB/HFF18wrx+ig5FoIc8/bkfJKfccEUqKWvE7ufvl+EGn04m//vWvqKysxIULF8KekZiYiMbGRlRWVmJqagoejwcGg4HRTT5nAvA8f9SzZ8/w17/+FZ2dnex7Eo67urrw5ZdfoqysjFX3oXFT2M65c+dw8OBBuN1uLC0tMWUQyQ5y46SwJyr7ys+nzWbD9evXcfDgQRw9elRyv16vR01NDfLz83HmzBmMj49jZWUFycnJKCwsRHFxMatWRh5/BoOBhSjwCim5fok8OV0TExOD8vJy1NTUwGKxhL2vXbt24fDhw7hz546qAFAhi00VALT4xsbG8Kc//QmJiYm4ePEiUlJSmMaJX6zBYJC58m72TDr0yUL8P//zP7hx44YkYQot9sHBQXz66acoLi7GiRMnJNmYgeebt7y8nLVDscr8c6gkzdjYGD799FNcv35dknGblBH8c3mGTM46I1q6eAaP/ieGIlpmmARXuld8Jl0j1/ZmbfBazkhWumghdz9P2ImpvHnzJoqKipCRkYH8/HzJAUxMotlsZpZlfr7E5wcCATQ3N+Mvf/kLurq6JEwVMUX8/NB30YxXJLR8P3mrwXbnjBidvr4+9Pf3My252D6V4hwdHQ2zKHu9XgwPD2NycpIlsuPvDwZDVTy6u7uxsLAge6BPTU2x/BcpKSkSy47JZEJdXR2qq6tZ0hqDwYCUlBQJEykmqxTnXG6OgsFQCR0qIVVSUhJ2DYV32Gw29Pb2KgqrWq0WTqcT9+7dw6FDh/DKK68woYZowuHDh1FbWwun0wmv14vExESYTCYW88wriux2Ox48eMAUDlsNBdBqtXC73bBarThy5AhjSPn5T0lJwaFDhyT3JSYmori4GLGxsRLPqw8++AC5ubloaGhAfHy8RKgOBAJITExEWVmZZG7FtUn7z+Vy4cqVK2hqatpyTCDfLi+48XMkJ/iJijNRsI1GqcL/ze9BalNOMSHXriicK0FJAUj/Z2ZmIj09XVIajRemiJZR6bLPP/8co6OjbF3yghbNZ6SQJKW5ofbcbjeuXLmCkpISXLhwAUajMUy40+l0KCoqChsPP290j8fjQVNTEz777DNMTU3JKvd4hn1wcBB9fX3MEiw3n1ptqPpJZ2cnE/j459DfWq0WKysruHnzJsvEToI09VGr1aKwsJDtLbm5oWtJoCBFsegJpXQv9Y9oaGNjI7O484aHhoYGFkpEtEWMz+eVAPz+3IrgzxsmrFYrrl69iuzsbJSVlbHQNP6dGwwGFBcXo7i4GEDoPYmKIbKey/EXJADRfIyOjuLKlSvYvXs3fvSjH7Fyqvz6Ki8vR2VlZVj/5WjN5OQkrl27hocPH4ZVKJqensa1a9dQWFiIixcvsvVMPAW1xfN6Img+vF4v2x/37t2TGKbEEEpxzvk2jUajRFkcKczQ5XLhxo0buHXrFltvWzH8KPUnWoWAGKYl8qVytI9vWzy75c5y3lO2q6sLn3zyCbKzs3HkyBFZfstoNIa9L3Hvk9fm2NgYLl++jPv378vyvE6nE7du3UJlZSXefvttSV4ofi2bzWZZwZiew1vUxbGLSu+YmBg8fvwYV65cQV5eHgoKCiT7MhAIIDMzU5ILhW+HHyf9PHnyBNevX0dfXx+bU6Xk3/y4eAWAyWQKC2Hk93JiYqJsuU8VKoAoFAC0MYPBIKxWK9599134/X5cvHgRGRkZEk0ZsDmh4wkZEelHjx7hvffew9WrVyVZRfkN6fV60dLSgj//+c8IBAI4ceKERGjSaDRhWW2p7iz/PLKuffLJJ7h8+TJGR0clmk3RYkwbkncTFomxklKAvuOF+c3miGeMeOZMLA3Ft8OPke9LJAsZ/3zxXpGwRYKcAoLmiLf+aTQaOJ1OXLlyBSaTCT/+8Y+Z4Ef3i26JYh+IMM7Pz+PRo0f43//9X9y/f1/CiNOhzgtJogZVLo5ZaWw8aL3yfdmOEoD65nA4MDAwgPn5eUkiOpqLmZkZlgxOLhmd0+nE0NAQ9u3bh8TExLC+ULWBxcVFxMbGSpJ40dppaWlBbW0tS74pzgtZO3gEAgGWWIa05bzHB737SFhfX0dXVxe6u7tx6tQp6PV6iTBF7up9fX2w2WwsnlocYzAYcnUm7yGz2Yz6+nqJBZysY7zLIL82aH2Mjo7ir3/9a9TWcTkEg0HMzc2hpaUFNTU1yM7ORnx8/KYWHaPRiOzsbCQnJ7O2/X4/mpubmeXu6NGjjGGnvst58IgWR7/fj+npaXz66af4+OOPWbIiOSFMCdR/3ntGtOCKDJ3obSMKnZHmhL6To2t8Rmklxpja5vsn/h1prAQqYcWvPd7FX6fTMYGfpzvBYCiB7uXLl9HV1SWhcfxvkX7T/SRkiqFMIog+dnZ24v3332dJ0ETlPPVTZGyJHtJcLyws4ObNm/joo4+Y++xmcDqdLNaZaLr4Tvi8JZHOFFJ82mw2XL58GRaLBa+99hrz5BPfn5wQxo/R7/fjwYMH+Pjjj9HS0sKU/ZutgWAwZAiYnZ3FnTt3sG/fPpw9e5aVlSNQzK2cB9fKygoASCyK/PuOVqCj+4DnmdCbmppgsVjw05/+lCWSpTGLfAbtFeq30+nE2NgYEhISmNJRPCv5MmK8Z8ZHH30Eg8GAAwcOSBQd0ZynRJdmZmZw9epVfPzxx+jv75fwVTQ3z549wwcffICUlBScPn06TEGuNHfiGl9cXMT169dx+fJliSccfa9Eg+h8o/wPouJm3+8AACAASURBVPKE92bl75+dncWVK1fw8ccfs9CZSHSK77fIq8jxkNEYHvgzQO65SmcGfw2vlBH5Qv4zmqtbt26xsJvDhw9L3gEQHjogQqvVwuv1Ynx8HJcvX8b169fZ/PHPAUJrc3BwEB999BFSUlJw9uxZxj+J5yLfZ/qO6Mva2hpKS0sl1nkg3OuM3sXs7Cw+//xzpKSk4K233kJRURHbU3K8If1Na4D64fV60d3djY8++gh3796VlIal3zS/9EzeGEjXra+vw+Vywe12Izs7m13PKz7tdntUIU8q/jaxJbPDxsYGmpubMT8/j6GhIbz88ss4efIkO9zEBDK86ysRWj6T6sTEBG7fvo2rV69KtKUEkaFcWFjA5cuXMTU1hampKZw4cQJFRUUSbawYe8gfLH6/H52dnbh8+TI+//xzWK1WST8BKeNJm4g2cFxcnKxLqlxsfjAYirGmQzQ+Pp65XkdiemmeqW4sMYtyiQm12lDCwrW1tbAkTSLRlwMxW2JWUbIW0HuSE4Spj+vr65IDjphzOjB5JjwQCJWA++///m84nU68/fbbqK6ulmRzFTPp8oKE3+/HwsICrl+/jg8//BB37txh7lNyDCAJkbxCgl9/SiAPAuo7jZHGxysaohEoRFBfvF4vBgYGMDQ0hNzcXMlc6fV6TE5OYmhoKGxf0Dqfnp6GzWaDy+WSlAELBkMeBiMjIxgcHGSMKM8Y0l5sb2/Hn/70J8THx+P8+fPMyhGJoVtdXcXt27exsrKCI0eOID8/X1J7WmTC5NqOiYnBwsICHj16hFOnTqG+vl6ytslLx2q1MqGBV+rwc+nz+RhTTAc8KQGUxiIq6fr7+/H+++/j/fffx8DAwLYUO8Dz5KlPnz7FX/7yF6SmpuLEiROMEZDrC40tNzcXZrMZTqeT9XF5eRmXL1/G/Pw8Jicn8corryAzM1OyDuWeRxa6jY0NPH78GF988YWE5tF14lwogWeUac3zNMfr9YYpqUSrCr9GNlMs0nzRniAaxXv28M8SBVtecUj7l+idRiONUad+yjHGTqcTra2t0Ov1OHDggKRiBr//eRrj8Xhw584dXLlyBXfu3IHT6QyzqNK9fr9fQkMj1c0WQYw6td3U1ISlpSVMTEzg6NGjqKqqCqvGw48NeF6aDwAGBgbw2Wef4erVq3j69KlszXn+/VAfiaHu6+tDRkYG9Hp9WFt2ux3d3d2Ynp5WPFP4/QgALS0tAELehxcuXMD+/fsl7QPhgiedkzExMZiamkJTUxPzeiGhLpq9Te+GeB5KmscbHpTi6IGQd9Xdu3eRmJiII0eOIC0tjfEDtE7EUqdK4IVI+r+/vx9/+MMfsLi4iEuXLrFkg+S9KPIJa2tr2NjYwNzcHN5//3309/fj7NmzLJSL9jNvGRXp+NzcHK5evQqXy4W33noLFy5cYB5hSrQNeE7f1tfXmSv15cuX0dnZyfY1LyRpNBqsra3hxo0b8Pl8GBsbwyuvvIKSkhJJ8kw5+P1+ttesVitu3LiBTz75BM+ePQtTqMkJ/3R2Pn36FNPT09i7dy9ycnJYiI84LvpZX1/H1NQUrl69ij/96U/o6OgIqzoQjdKJ59943owX7DZbw3wiWl65KLc2+L7xinefz4f19XVGg4kHFQ0ftG7cbjfef/99zM/P4+2332YZ6al9uWSnPB1fXV1FW1sbPvroI3zxxRfo7+9nz+ffF+3LxcVFfPXVV/B6vVhaWsKPfvQjFm6n0+kU96bP58PTp0+Z8iAjIwMpKSnwer2IiYlhHniiEo32rM1mw+9//3u4XC5cvHgRjY2N7B7iCcUx8nyd1+vFnTt38MEHH+DGjRtwOBxsXBsbGyyEkd47nan82uUTDD979gx3797Frl27YDQa2TuPj49Hf38/Hjx4gIGBAcW1ouJvGxEVAHKHMhByTSXrZV9fH6qqqpCbm4v8/HwkJiaGHQS8O/jS0hLsdjt6e3vx+PFjfPXVV2EHgRL8fj88Hg+++uorlmH1yJEjrNyQ6Hqn1WqxurqK2dlZTE5Ooq2tDTdv3sSDBw+Ya6OcAEduYyMjI5idnWXaN5PJBIfDAY/HI2Ge+T5TaUEqi0MEITk5GePj45ibmwvLEE4IBJ6XdrLZbMy1Ly4uDvPz86xsDoEEH7vdHsbcTExMsHhPfpx0ANBcjo+PM08JGo/H42FJ0MT3QeMhRlMk1IFAKG6SDg9RiePz+VjG1ImJCZw6dQpVVVUs3k9sT6PRYHV1FXa7HYODg3j48CFu3bqF9vZ2yVyI2vLl5WVMTk5iZGREooVeW1uD2+2OaOGl2FoqO0dug8SMLCwshJWi244SAAiFtty+fRtJSUmIi4tjn+v1ejQ3N7N1IJbgCgRCtV6fPXuGtrY2LC4usvccHx8Pl8uFR48eYXx8PMxrhO4HQuv17t27CAaDcLlcOHz4MHbv3i0p30WYmZnB3NwcHj9+jPfff18ixFB2ZL1ej+npacn8ys1NIBBKlDQ0NITu7m7U1NSwhFnEMA4ODqKzs5O9ZyWrGT1/amoKn332GSYnJ3H+/HkcOnSIhZzICcorKytwOBzo7u7GzZs3ce3aNeYRxGMzBk7u/a+srODOnTvQaDSYmZnBwYMHkZmZGeaOR7ksent7JUIX/56WlpZw7do1uN1uDAwM4ODBgygvL2f5UOTmg+hXR0cH7t+/j1u3bsHtdkclWMo9j5jAtbU1TE1NYWBggCVnAgCPxwO32y3Zk8SoORwOeL1eyZobGxvD3NycYow/KfsmJiaQlJTEBBj6nOgT30f+99LSEtv/q6urks/FfhLk1sjS0hIePHgAu92OkZERnDx5EiaTCXq9njGZfr8fXq8X8/PzcDgcePLkCW7evInW1lasra0xOi4y+AsLC8zKRdekpKTAbrdLlH7RCA4bG6E68Q8ePIDD4YDNZsOJEydQXl6OjIwMZGRkhN2n0YQspOPj4+js7MTt27fR1NSE4eFhifImGkXy8PAwbt++jfj4eJjNZuh0OnYe+f1+PHz4EFardUtlNYPBIB4/fgyHw4GRkRGcPXsWVVVVyM/Pl2SIF9+Xw+FAX18fWlpacO3aNdhsNqZ82g6dXlxcxLVr1xAIBDA5OYm6ujrk5+eH0chgMIiZmRlMTk7iyy+/xLVr11BQUIDY2FgUFhayPB1erxczMzOMRm6nT5Sn4d1338X8/DxOnTqF6upq5OTksPJm/PWUff/GjRt4//33sbq6CovFgvz8fBgMBvaeZmdnMT8/HyaYA89rv1+/fh3T09MYHR1FfX09CgsLkZ+fL0uLgNC5MTg4yDKeNzU1wel0KiY7o3bX19dx69YtTExMoK+vDydOnEBlZSWysrKQlJQku18pr01nZyfu3buHL7/8Eg6HgynZAEjWtdwaCgQC6OvrY4mvT506hbq6OmRmZkp4W1JqjI2Nsbj0mzdvMpfuzfhZORAPtbq6ysZNz9LpdFhcXJSlm/weXVtbw+TkJPr6+iQ0Jy4uTpH3ofewtraGmZkZjIyMsHVBPIXT6ZSEUBBo7SwsLODTTz/FxMQEurq6cODAAVRUVCArKyvMUxh4XtZybGwMz549w4MHD3Dz5k3MzMyEKZtFb9RgMGRga25uxtLSEoaHh5lBMCcnJ0xBtLq6ytr57LPPcOvWLezbtw9VVVWIiYlh9DYhIQFut1ui/OQNUevr6xgeHsb/+3//D6Ojo+ju7sbevXtRUVER5v4PPPdsIP61vb0dd+/exa1btyTJDWlMgUCoMtn4+LjEszU2Nhbj4+OszDqhv78ff/nLX6DRaHDmzBmWEHN0dBSffPIJvvrqq217M6r44UMDYMumLtL2UqI9iv0qLy9Hbm4uEhISEBcXxwRn0iguLCxgeHiYlYAZHh5mdazlBHElkJbPbDajtLSUJb2hw4ws9V6vF06nE+Pj46zkzNjYGNOQKgluCQkJqKysxN69e5k1gw7d+fl5PHnyBHa7XVZQiI2NRVFREQ4ePMisBrxQ2tHRwZhnOeTm5qKuro5lVKV219fX0dvbi97eXibYJyQkoKqqipVgojmkA7+9vZ0lcBMVAHFxcSgtLUVVVRVLAEfXrK2twWq1orOzk2kUaXz07rOyslBdXc1KNfFMgs1mY3XW5Rh80uAbDAbk5OQwQlxcXCypk76+vo7l5WXG0HV0dGBwcBALCwuKVjIaX05ODmpra1miHurj2toaBgYG0NnZCY/HI/v+DQYDSktLUVtby+Ku6T14PB48fvxYVlDcKrRaLYxGIyoqKpgnBO/yNTAwgNbWVszPz8sqjTQaDQoKCnDgwAGkp6dLmA2Px4POzk709/dHtOTRc+Lj49mc1dTUoKysDAkJCTAYDBJhrKurC48fP4bNZkNWVhYOHToEs9ks0c5PTk7iyZMnjFGhORYVg5Q855/+6Z/w9ttvszAAEhzfffdd/Nu//VtYjelIIBfd/Px87NmzB/v370dxcTHMZjOjST6fD6urqxgfH2dVQPr6+lgpqq0y5EpzGhcXx2hJTU0NqqurkZmZyeZ0eXkZS0tLGBgYwJMnT9De3s4OeNEKodGE4nqTkpJQUlKC6upqVFRUID09HcnJydDr9fD5fFhbW8Pc3ByGh4dhtVrR1dWFqakprK2thSmRtorY2Fjk5OSgpqYGeXl5kj6Sda+jo4Nl9Nbr9aioqEBtba0kQzEpH3k6KvZLp9Nh165dOHLkCCtVSdak1dVVWK1W9PT0hJUdI/B0lIRroqOUe4L6mZGRgd/+9rf4h3/4BxQUFEgEC6vViv/6r//CzZs3WfJIUpDxa355eRnDw8Ow2WwYGBjAzMwMU3oQ7SAEAqGKEGVlZdi7d29YIkqPx4P29nYMDAywOunRvjdySTeZTCgtLcXevXtRVlaGgoIClvcCCDHfs7OzGBsbY+WoBgcH4fV62TqJlr7RebJ7924WjsRbCv1+PwYGBtDV1cWq7UQLOlP1ej1KSkpQUVGBffv2oaCggClNSQlDyoy+vj50d3cz7yle+KNnUt+iBdHqgoIClhulpKSEJfOisqlUYpPKlxUVFaG6uloSp0vhEB0dHYpnULRzo9WGEtXROVBZWYmioiJJv2ZmZpiCsbOzEy6XC0lJSaipqUFpaakk78jy8jKsVitzkVaai9jYWJZ4jwSg3NxcJCYmsnOMki6S8E+Go6WlJQlPEmnOiY4mJiaitLQUlZWVKCsrQ3Z2NtLT01kySVKqjIyMsLCx0dFReDwe2ZKsgUAABw4cwL/8y7/gzTffZN+RB8C7776L//zP/8TU1BRKS0vR0NCAvXv3Ij09HYmJifB6vVhbW4PT6URvby9aWlrQ09PDjEPbeac8f5Wfn4/a2tqwSg9UCrKzs5MZfeg7GpvFYsH+/fslIZbA86TCra2tsryZVquFyWRie0wMo6Nz3eVyyZ7H4jlVVlaG2tpa7NmzBxaLBQaDgdHx9fV15uFIoYBk4KL3Fc0cEr1LS0tDVVUVDh06hIqKCphMJlZdyOv1YnR0FO3t7Whra2M8ZElJCSthTuEVgUAAU1NTePz4MaanpxU9fnU6HfR6PSwWC6qrq1FdXY3S0lIYjUamHKazikKk2traMDAwAI/Hg5WVlTD6SnS0vLwc1dXVkrKuxIM9ffoUw8PDEp4qISEBhYWFqKmpYeeX1WplNEgsK6hCBWFbCoCwh2g0SE1NhcViQWpqKkwmExISEqDT6eD3+1mJP7ISuVwuJpQoxTXxh7QoqIv/JyUlIS0tDWazWeKBsLKygoWFBSwsLGB6epoRFnKnURoLbUQqaQc815AS8VISSOhwJDckcQzr6+thDAkPnU7HtHgEYsbIXZQn+nq9njG4vNVws37SwUpEktqhH7p3s37yJf+obXIfi5aB1Ov1SE1NhdlshtFoZHF3Xq8Xy8vLzCOBL+PGrwE5RQ4RaAqj4L/frH/EdPJKLHqHFBaiZL3YDiiGlPYL8NxbYjN3YDpwKY6TPuPdALdC/CmLbnp6OrN0khV6bm4OLpdLkkmZhBeaIxKwqf403zbv4eDz+WAymfCTn/wE//zP/4w9e/awde7z+dDR0YF///d/xyeffMK8C6IBbymgTNRpaWlISkpiB+rGxgYWFxcxMzMDt9sta9XYCVBfNBoNTCYTMjMzYTabER8fzyy2y8vLmJmZYblPog0rMZlMsFgsSEpKYsyOz+eD1+vF4uIiZmdnMTMzo+httF3QvieXTj7sg98bNH7aRyI9J2t+JEUeZTXncxrQ3BDTLxfGQApGfv9SfwCwfeX3+xnz+Jvf/Ab/+I//iLy8PAkt7erqwn/8x3/g6tWrrKqDyWRi5wwxV6urq5iZmWHeQRR+QmPm3ydZtKh//LzQ2MS9H+36F2khlcI0m81ISkpi742Es7m5OeaxRXO0FYWDCFL+0xog12FSQG0H/JjI6EBnBZ1fpACgdc/vaTn+AYg8p5G8uuLj45GRkYHU1FQYjUYmQC8tLWFmZgZOp5PxN6S8EM/naGj7VmEymRgfRO7QNC9ut5uFFgFg/AllPSc6xfMNSuOnsVDfjUYjLBYL4794Awy9k7m5OYlCYTOvOdHtm5CYmMjoudlsZopPr9fL+IT5+fmIVk/atwcOHMC//uu/4o033mDfEe/zxz/+Eb/73e9YFvq0tDRkZGTAaDQiMTGR0e/5+XnmGRft2KIZM0+/aK7pmSIfSPdS/ynTPNEgnq+LxPvQM5R4H3qnkfaxSIeTk5PZOUUyAc3dwsICm7+thqOJynG6nxK0Eh0ir8/p6Wm4XC5JOeWYmBimKOOfRx5dkWQEmmuar7S0NKSmpiIxMRHx8fGIi4tjSkFal+RlQHMgJ/PQmUk8PT9Geu/83uTfr16vZ/kMeA850XtChQrC1lIPy4A2IwloNpuNfScK2nxcJ38YRhL++d8E8f/FxUUsLy+zElp8+9QH/nMlqzT/Pe+KqyRoyjESgUAo86zoYhrtoUAKE9F1TO5esmjTYRdJaSJ3L8XwKz0/mn4SIrW3WV8o5MLlcoW9G1IwiIeOyFBv1j8lyPWNV9REum+7B71cX+lg2urziJnfzMofLdbX1+F0OuFyuSTzR4ekeJDwByr1RxyDVqtFYmIiEhIS2Fo1GAw4duwY3nrrLUnpJnrfAwMDaG9vlzw/mvnm+0eZ72dmZpiASs+RE3R26n0S+H1INIqnd8TcidnkI4H2OD1P3Btyz6Tf1Ketgr+Xp0+b7XeeFm51bqPZg+L1wHOGiASsSMpjfh3Q37ygxl9PlrmVlRXMzc1hfX1d1oLGM6T8Gcc/l35TtRt+fsWzhH92tHkB+L4vLy9jdXUVDocj7Cyms5F/7las/nKKgpWVFZZzJBK2sh5F5e3k5CRLbCUmgKV1J56fL9KmiLW1NYyPjzM3XYJcEjFah5GwU3RneXmZ9Y3ojNKYaR9Hk+RRhPjel5aWWLs8LaL9AISvq83Gq8T7LS8vw+v1wuFwhLXF5wdRWp9y60L8nt4HGREoJHBxcVHiEcl709C9vMCsxDdu1j5Pv7aDjY0Ntge3s+a3QneVnkHtejwe2TJ3pNgVlWBb3ZviO3a73Zienpa0x9MGHhsbG2HK/2h4fPE5Pp8PLpeLtcsL97RGeN5DSf4g5e/GxkaYskyJN+A/Iz5a7J8q/KtQwrYVAHJCuihwiQs92o2+1cOQNo4IsoRv98DfTAgXiZ3S/0rPl4MoxEejKafrt9PeTgk8W3mfcvOjlHhFVN5EwnaEnEjvfSfX6Hb6sRnE9fkiQh4PufmO9h2I0GhCNesbGhpQXV2N5eVl+Hw+5OTk4MyZMzh06JCkAkAwGMTQ0BCePXuGyclJyXM2G5eSQo4XwGif8MnR5AS+nYYcjZLLNiyHSAKieLjLPfNFlVVbnXclZeVm920FSvfK/c8zUErfk+DIj4H3bKLvyXNBiRmjtkgY4ZUC4joT/yYayHs8KI0rGtA9kc7G7eJF98iL3C8Kt/Q8fk/vRB+VoMRvkGFjK2f2TvZTbn1/E8w/r3D8JtqWU+yLe1eJ7m3GJ4k8CH0mx0tGa5TYife72Zre6udfVz/EdpWu24qb/1YghkTwgrUS5Pj3re5NJTmDH2ck3n4zXjOSbCFeq0JFtNi2AuD7sNB2gknZTGMsd92LtCt3cOyEIPp1CTbbaUtuXqM9MLc6ju2M+9tY29tVXkSzPncC0a5vOYYqOTkZ58+fx8WLF1l4jMlkYgnxeKF8bW0Nzc3NuH//Pjwez5beX7RMiShQf90Cw4tCiSlVgpIiZKfxojTlRZQTvKCsxBxFq8iLZC2WU76Q9VwpLwdvreGFf7kqA2IfSWFA46OQFZGxfZF534lnbPfenVgzmz1f6brvyv7+JvshN99Kc7RTPMxW6FQ07chZZaN5v9GsFbm9LyoSNnv+N8FbfRNKhJ0+ByPNi9znLzKP4prj381WhOavizYp8btbMWy8aP9UqBDxwiEA31fsNNHeaYIW6bnf5nM2Q7QC6Xb7820SwK/zoI8kzEdqd6uulTuNSIerRhNym87OzkZWVhays7MRHx8vO9ZAIIDY2FjY7XbcvXsX7e3tW3YNjISdUKLtZJtbBb8GNttjO6mQ/LrxIkos0bV+M0QShuSUQiLzKMdUKvVLvJZ3QeX7IX7OK0T4v6ONkd0JGrWTdE5pzr/La/L7CiUFmIjN9tx36d1Es7e3sp6UBEU5RTDtu63Ox4vm0fg2Ea0SXQ5yvMBWFfjbVUJ8k8aQ7eK7IguoUEH4m1UA7JRV8eu69/uKb3PMX7fV59vS8n8Ta3W7z96sTb1ej9zcXEnWdLn7AoEAnE4nmpqa8OjRIywvL39tgsL3cV9u1UrxTa7Vb5OxeRHFDi/I85Z73vrOC+L8ddEo5OTikXkhn1cMULiA2G9SclCSTzlPjp1eG18nzfy66fG3vbe/S+ffVvfGTinld/K8iqafW+m3KJiL55GoEOD3Z7Rn4Ha9rb4t/mKn2t+Jvb7TZ8F3nR58F85yFX+7+JtVAKhQoWL7iNZ1LTExEXv27EFWVhZLBscLP5Q4y2634/Lly/jss8/Q1dUFQD34VOws5BhU+oxPGsonLyP3e7pWSYEVqU3xXuB5AkLRA4FXQshZcr/r4SoqVHxfoNFownLB0P6iUqxAuNJAhQoVKn4IUBUAKlSo2DKUGCLRZZrq/Q4PDyMhIQHJycnQ6XTw+XysxKPNZsO9e/fw+eefY2RkRM1aq2LHoWQdovKqbrcbNpsN09PT8Pl80Gq1SEhIQF9fH2ZnZ5klfythB+J1tCdEjwA5F3leIbBdV2QVKlQoY3l5GaOjo7BarZKSohsbG3A4HKxcs7rvVKhQ8UOEBoBK3VSoULFjEGOcMzMzUV5ejt27dyM3Nxcmkwk+nw/z8/MYHR3F4OAghoeHMTs7u+1qAypUbBfx8fEoKipCSUkJDAYDvF4v805ZWlrC2NgY3G43y/5Pdcc3W6tylnve84X3gBHdksUfEk7E/8V7VahQsTliY2NhMpmwd+9emM1m6HTPbWEbGxsYHx+H3W7H3NyceiapUKHiBwlVAaBChYodg1JogFarhclkgslkYmX/1tbWMDc3h9XVVSYYqcyWim8DVJ0iGAxVo+CF9Li4OOh0OuYt4Pf7sba2JqntLFrzeU8Y0W1fp9NBp9NBq9UywYP3LBBLmokhCGIJP1UBoELF1hETE8PqtIv7j99zqkeaChUqfoj4mwoBULUdP3Sob/i7ADklQCAQwMLCAjweD/tMtHqqwr+Kbws+nw8+n4/9TwopEtbl4vF5iLH84uc8xFwClHAw0jNUIV+Fip0Fn99DCd/1zPIqVKhQsV384BUAGpnfRO5Vlur7Bw3k3qFG8q0GQWgQVN/zt4BvMsO4ChU7DZHh5zPz81nB+Yz+SsoB0ZpPz5MrOUjtkCVShLpvVKjYeajnlQoVKv5W8YNXAADPxUP+f5Wsf/+gEf4Oynwb+RoVKlSo2B5I+CeISf5IiOchWu/5e8TP+XAB8Rlq9n8VKlSoUKFCxU7hb0IBEIRUMFRZqO8n6D3K5PP+v98hu78q+KtQoeJFIJeZnz5XEuhF4V0pu7/4Q3HGStUF+OtUl2QVKlSoUKFCxYviB68AUN3Af1hQfo9B9q36rlWoULEdiHkp+L/55GByQr+S8E6eAyTIUxiAKPzz4QEqVKhQoUKFChVfF37wCgAVKlSoUKHiRSBa36P5m/4X3fd5pYB4D5/tn/9fhQoVKlSoUKFip6AqAFSoUKFChQoBoqu/CN6Nn/+fF9pF5QBl/CcFAFn9lYR+VfhXoUKFChUqVOw0vvcKgO92ciT5nPWb3vJ/we4aylwgjC3SU77b86FChQoV3w/IWd9FgZ9P/CcqAMS8ATExMYiJiWHXxcTEsO/53/QsXolAz1JrkqtQoUKFChUqXhTfewXAd1HQDTFroZ8t9U/MVKgBE/41/EUa5XHLJYrShDr1nZwrFSpUqPguQxTolRL/RaoCICb+Iy8A4LlQLyoCRI8ANQmgChUqVKhQoWIn8L1XAEihATSa/xOavylhl7fwawBtDKDRhKrRBwJb6wf3GASJAfw/KxKCALTQaLWhy/4/e+/ZJElynek+7h4qtSotWquZHoXBQJNLLpbXbM1o+2/vl2skjUYul7sECAzE6NZdXVqljswQ7veDR2RlVVcPRi4wQDxjOZVdmeER4RHdFu/xc95jNGAfHIUQZ973Bvt+Ng+cDyz8WXHhxIRCyGzeTfrHOaSCgoI/Sy4K+HlRfjHVf371/2KN/0VXfynlzFww/zkv/vPf5X8uKCgoKCgoKPg6fCcDAPkK+9mzkAShmClnYbK3+rxQvjDO136UktKOqgEhQXogHAwCYzQQAfHLe/tDfermP5MSjAIkSAcjpRX2IgFjXwas4BcOzJcNSACNSZOve6Z/ggjsCWYv4YByMRIQMegYSO08/F8NCBUUFPy5cLGefz4AkP9uh0rYTgAAIABJREFU/mf+Phf1nzfuxRIBrTVpmr4k/i8eSxEEKCgoKCgoKPg6fCcDAPlKd44QEqkcjFT2wQqDEAaTxuj0vPgXZyN8c0iB6wc0mgu4fpk0NQgdMx0PGPZPSNKIc+GHL7NzrcH1KJfrVGo1lOOidUqaREThgPGwR5okNgCgFMrzcB0HTEqaxKRxzCwR4Q8FHr6TGFw/oFxv4ZfLSCUxaUQ0GTAa9InCMX+GJ11QUPBHJK/hv1irn/+cX9G/GBzIRf18ACAX//OCf37lP//e/DhFIKCgoKCgoKDgq/CdDACcW/lHgRMg/TLS9TBCIEyK0AlJFKKjEHRCllP/zUnBWURBgeNTbi1y950fUW8volEk4x6HW0949PFv0eMh2iRZSf+X8QQQYBTSK9Nev8b1W3doLSyRpAkn+zvsPnvA9NmUNJ2AE+DUmiyvb7K6toYAdl9scfDiCdGwD2n857USLrKVfyMpNzts3nmD5c1rVCtlJoMT9p4/5Nnjz4jCKZDyZ3PeBQUFfxQuCvLLmM8OSNP0pZr9i/X8uZC/OPbFUoB828veFxQUFBQUFBR8Gf6EAwC5kR5Y8XbhgUc4IHxwKpiVW5RvvYPsXAEgSMeoaZ/h3mO6D34L4yOMntgxjF0OF6/MBZjf7+c4LhuytP8KmAq91n3C+/8D78ZbDGNBubeFNv9E8mgLPbIZAMZM/8D55sv0MkvpF+A20MEqJ8vvsvrm3zG9epdpouk/+A3D0f9HtHMI4xSqN0je/hu87/8VauMqruNQefB7/H//f4k++T8wOrFBAJG+1FXgc7kka+BzOw0IMTMvzCsxvmnfaiEERrggfRA+vfoNKrf+O+4bP4VGFXH0BCH+mWhvBE4IyRBM9PKJfK2DOBtuvtfDF9rD3K33RfpEvGp8kf03/8n5cS7JexHm5et57hhyP4l8lM87IgB9aVrN/J7/jMJOBX9hvEqEX9a6Lyf/93HeJ+BV6fuXeQfkmQBFO8CCgoKCgoKCb4M/0QDAvMC4/FODsKrC9Vm+epNbP/gZ7updkiiilA5xp12OH1f51eFzksGeFaZzW5+XS/Mjfwm0ASlAuuCUmDpVQqdGaECpMon0rVAV6guY0pnz7w2ZUJegfGK/xtSrEzpVIpMSO2XwSnbfAOUWtRtvULnyGgPlE3gujc07xJs3mTz7gHjcAxNfcs5f4rCYm6HPeyA1c6fw5fb2xRHCBmCEAyog8WqEbo2RLOM6FbRXwzjBeV+EbxJz6dsvVmVxYduLQYDP+fqF31/sEPGqcebCApcMdj5ocGY8+Ycxn3uAf/i4Cgr+dHlVmv1lq/q5YL/oDzA/Rv49KeU5P4GL370YYC3Ef0FBQUFBQcE3yct9i/5keNVDTyb8pALpQLlOe/UKjVYHjUQGZWSpgqo0qS9vsrC6CeWq3cZk279SjnyJgIDAGvSJbCydr6wLDHK2impmRoRf5CFOzL3m9m8MaI0w2nYXEBJtRFbbn5scpvh6ip+GuMkYJx6j0ikOKXJein9eGynBWeZB/l5mr/xQyFbFXjXGzHTvzKZvdkbftA43WUaH0aTGZN0PJBhhvRP0FwlBXJzzL8/FXJUvs8EXWSG/5I7IfpdnAJxhLv3T559j/onMxvxiBz/3+gLTV0iYgu8aF4X3ZSv4l63uz39nXuxfZD5TIPcTyH//qm0KCgoKCgoKCr4uf6IZAJ+TEC0ERjqgKuB0YO1d+us/YLtygxNZRwtJoKd4coLfKiPXt+DpU4i2IA2xrvx/SI7Mr8vOBwvy3AODESpbgc4krpGkwiURJWIEifCIhSARGoQGY5B8vtgTCISUVrfOxJXtAKCNQuOSCJ9YaLT0SVBZfr2BsEv04jN0u0FrYQXPdTndfcRw9zl6MkZobVeMv4genpeC5uxamHPJ/HL2+/mk8fwbAgFSonPfASGyecvGvPQ4zs+3tFtwPtwgMEYw8zMQdo9THEICSqKEED4GF0wWDDg7sdnYM/Gcr7bNnSXoL6BYz1SvmW1nzn368l6z93O3lzFz3xIXVtSzqcjbOua5K+LcWPPzc+6T2U/xinyX+W+Kc3+6PO1/1n0jC7QIzCsDXEXaf8GfGxfFv9b6nNlfjlIKOC/w5939540BL4r9i4aCBQUFBQUFBQXfNH+iAYBXIObklHKhXMe7eofS8jXGqsKIgNQIYgSBcvBqmubKFYbtRfqn239g6PwB7NJP574jrODJV8lzJSclRiiMyX4KaTME5Nz3/pD+FtkDIcxE1lmruzyzwGYXCOXa3+dlAuMR/Yef8pmRrF65jpSKg8ef0H32GMIQ8XklCJc8a+bHkZ+v4ZKU2AuJFPNhE4SwgYx8zrI5yCWzbZP4qsMRc+/Jzv3CzM1Uqw0uGKFIhYPGAeEghLLjmPkNLjtHeTb2LMthprwvOTZ7TsaIi799aR8XvzEvtGfTmM/Pxf2d29geJwKEOau5PxP/r17ZvziUufiFL6XSL2QSzIIAX2aMgoLvBpeJ8/lV/jRNz9Xrzwv+y2r7L8sSmB9/3jPg81oIFhQUFBQUFBR8Hb5bAQBglqysNdQbrK1tUC0FjI0GnWCMQJOCst+sNVu0l1YItwPieAIm+WL7EHNiJxOyZpamqZklt+eZAIhsZffsQW8mls+lxYsz0SbOj49yEY6D0SbPtbelDkLOreNmRyjm3vhN0AIO9hn1xzx88Nh+NjyF4TGkCcoYNAb9klicT+HOzQdtS0WMwWht5xqdHYE+U6/m4kgiyxOQWeZCti+VBUPIpHyqsZ4I5kydzj3vnlk0vsqr4WzofH61MWij5+Ze2+wDc3GDbGQhSYW0gYKs7MGIbI86ta98HftcFkR2/102j7Njffl48+v3cvGEyLIUzPkhZ8Ef+94oJ7v3bNmDya/NS9kKZ/uflaFcPNb51cXs7Wz6Z50iLmbBiCyoZTNS8vlCZ1kWJs0CCsXaf8GfBxcF+8UV/8vE+qsMAy9L6b8YJCgoKCgoKCgo+L/BdywAoED4IDxwm7B8B3flDm5tCdHvU+ptMYpTRsrHX16F6gJJYwPnytuY3T0Y/96KWZPMNIrALtKftQhU2eq7D6pkX5UGNNoE1TqO4wKacThGj0bWgV87IAJSFBqJMRqTpghtkNqQ6hTQVmQJK6wRAXhl8KoQ1KC5gFdvIqSDmU5IwyEM+jDW4NTRwiUxuTi2DvszIzw06KkNAkwTSEJAQpIFPIQgwZrlEdTAC+y2ubhPtZ2JUgXqbWStjeN66CgmmYxh0IXhCSbsQTLGllGkWU6CxSDQQlkxqALwahDUodxANJqUymXQKWk8ZTroQ+8UwpEVjq4Djl25x2hIJphoaI9fxxdE81x5iMhSz4UhEYZECvsSwgYh8iCLyNpFGgHCBScAvwpeFVNvY2p1fD9ASkEcxyThCLpHMDiGSQ/SyM4xGpQP5Tr4NXstdWrPIQ4hHGRzb4NMeZhIS4+8XaXdbzkLkKR2Psc9iLK5kBJwwanYfbgVqDUQ9RalUgVpBMl0ynTYxfSPYdK328YhwsQI0mzf0p6rV4VSDRzfzlWaQhRBkto5D8rgl8D1EPHEBozCHiae2ushXHvOpQY0FqDexPUCPEeh44hw0Mvuj1OIR5CMESZCoF8R8Cgo+O4wL/y11rMV//n3+ffyLIA0tX8HczNAY8y59/OBAynluc+AcxkFhQFgQUFBQUFBwTfNn34A4Fx2dSbmhAPNRZpr13ArLYz0EDpldLhDd2cPaotMmm2SSg3cMrWlDdrr1zjYfgTRONdnZ7uYz2oXEi0cjFeCaofy2jU6mzdZWFqjVKrOhNt4PGI4GrJ31GP4fBtcnyTVICXCqnO7QmtMJvrPquPzzAG3s0zryh1qq1epLazglWokRpBEE+LxgFG/y/MX+xBqUIo0e/DEGNIksZkCANNTqCzgry+xuLJBvbmAki79wz362w8Z7IUkcQxOlebmDRZW16nVqmit2d7d42hvH1mts3zlBo3FVdxqE8cNUDqFaMrkZJ/jZ59xuvWAycmuFZFZRoA4m7izVWu/RLC6SefqXWqLG1QbLVzPQxtNOg2JRwOGp8e8ePqI6ekxlXqF9Y1Nmu0FppMJBy+e0H3xiGnvEK0vy9gwL720YPY6cyXIAwDY45KOFbO1FpWNWzTXr1HprBJUajiuB0CaxKTRhPBol+6Tj+htPSAZnGRZAQl4AeW1TZau3cGr1DDRFBOFjE4O2H30CfRjSJNzFfggwPGg3mL1zpsEzSWMG1DRIaZ3yM5nv6O7P8lKSyRIDyoNvM3bLKxfo9JexivXqZSquEKSTiOSUZdxd5/e3lMOnz8kOtlDphqts7IAIW2gp73I6t03qdUaOEYzHQzYevGCqD+gsr7B2sYVyrUmnhcQ9084efIRR08+IRwajHTBLSPayyzfvk95aQO/2iLwfTzloOMp0XhAODjhdOcp3ecPSLsHqMhgTEpy6bUrKPjukIvwXOxfDABcJP8sF/VwPhNgPqPgYuvAz22vWlBQUFBQUFDwDfGnHwAAZsXKIku5dz3Ki0usrK3h+T5xHJHGEd3jA3jwKSyOmNy6g656SAG1RpNkZY2DWhWODpk592cZ4nb9WyCkg5YuyitTai6y9to7rN5+g/rqVaq1Jko6tu5ZGJI0Jo4TjvtjPl16wmkI0vFIEo0UtgbU5KmhuTA2WBEqHJobN7j19g9ZvfMmstbGK9eRjkcqlK3zTqbE05CFqyc82j1homqkRpBqgzaQJImto9fZKrjrs7B2lfvf+yELy+u4jsfOo894HI8YHGwBCXg+qxub3H7jHRaXl0EI6g8f8fjJUxaXV7l66w5BvY1WPgaJ0hoTRzjpdQbrK2x/2uDx735J72gbjEBmkRRjwOQlDKUqa7fuc/X1d1m6ehdZbuIHJaSyhonKpJBMmY4GLC0tcbC7TTnwuX3nDqvrmwwHfT4LXB70Dpn0smuVp8hfel/Yn8LMV6dna8950MVk10CArNa59tqbXHnj+7TWryNLVVzPz7wVwKQJJk0gukZ/pc2LepkXDz6kf3IIOgStqdebvP7GW7QWV0mjCcRTjne2mPZOOOmfzrI8Zs4FRkCS0lhc4a13f0C5tYjxypSiPoMXjzndekh3VhLh4LQ6LN9+kyv332N58waOV0K4Aa5ycYS0AatohIlD+gdX2Vpo8fSDX9HbfW7Fg9Gzkotqq8O9N95meW0T4ohxt4tfb3PS73Pn3utsXr2GUi6O4xKeHvIoPOXk+UNMOkGW6jQ3rnP9/jts3nsLWW0jvRKu69r8Cp1ikinxZExvY43depmdT37L4CAiiiZnf28LCr5DzBv0AecCAPOvVxn25av786n/l333Vd0DinKAgoKCgoKCgm+TLxUAuOzB5FtfrZiVIkub+i988BZg/T5q6TqRU8GZDKiNtmjs/Ae9J7+C+HX8o+vIGgi3zLi2Qbz6Jiz8Do52gBhECqRg8vpnBaIE3gK6cw3x3s9x3/4pg9Yy3aCO63oopZBS2ZQBoxFSEi9G+I1jqqMJSbXNMEpxpEIZjdEGbaRdlkaBqIC/Ahv3cX/696i3fsiBW2KsFX65gusH6MzYTUpDohPChYjS5hg9iRmXyqhE4Ogk8xfM3dcdkE0O/SvsVe4SVa/gOC775Zi++yGJKgMBOC32nHWC6n261U1GIqB753uwNoBmg26zCcolFtbIMIlTonCCiifUb96h1nmLilyl+6t/hME+SdTLPBCErQVvXYM3fkrpR/8PyeYttqVHjEepXMVxPdIkwVMKB0M8GRPVf4i6PaA3GfO4UeE4KJPqUw4qBwy8DzAymzsjLpGSudy3NekSiTQgjUGaFGESmz2gtT02twytTcrv/TfqP/pvxAsrbLlVhPLwpMQx9oF9imBiDMRTnNJdSu13Kdf/nf77/wK7n0Cs2OtJHqVrLJZexy0LTBITqVukSwewcwyToywLILX3rdOE8gq9tZ9wuPJjvGqNyEia41368QsOxylQBiqwdBvv+39D5d3/Qn/xGolSBFLgYZDiLLNBlwyJSYlbb+Mtf59m/Tanv/gnePJbYGpbIGqfobfCs8pdToJrUHaZBAlh86eI1DBcXuG5IwhESmASJmGVY/ERQ10FFtEbPyT4q/9BevM+e+Uawi3ZYIE0uMJgdIoRkqicQO0N2s17TII1+r/8R8zBU3scZvLt/vtQUPAtcFH8Ay85+edcFO65+P+8FoA5F7MFCgoKCgoKCgq+bS4NAFysPZx/iLm4gjH/81tDkK0CZ+nR7RXqq9dRzVXioM60u8tkf4to9wEMn0O3Tm/nCa2lNWRrEb9WxW0PaK5epbv9AfTDs5R8QVbLLWxqe2OJ6jt/zeo7/5Vp+wpDp0Qoq+hYMx5MGfX7EEegFNVGnVa9jmyWkN4IlGvTz7O0Ap3MmQUibA34whqN935O562/5dQpEYuASLlEY82klzAYj+34gUu5UaNWayE8gzudYNKYKI0RJs0c7HPjOAnGIxJVhqqJ57ZxHJehrDERHkgXe6k9hlQI/QW00+LElIhrLl7LZQAcDkNOB0PG0ynS8ymV65RUlbIqk2ifShnW7/+Ywf5z+r/ZycS/a7Ma/AB56y2u/eDnqPXXORElInwm2iHpGobhmGgcIqSkVg5oVutUW8tQi0iHPYYqIUojlNNkIEpMzXnH+YuVIHMXD4zMrPmsp78w1mRQAKQTIALVwr/1Flfe+zt05zoHToVerBj0poQnB9aTwBhotnEWl6l5VRZch/qiz8Zbkqh/zMnwwNa7Hw349PEBw6XvUWu0aVQ80sihsXKdUXuFZL93ZvwoJDhlWLyKt3KHUWmFtLVCv3dKt/uMw6fbJMMQCGDxGsEbP2Hje3+LWLzBoduBSUja7zI+OiQcjUBrRKlMe2WZSr2K9CrUg5jFe+9iwgGPR104eg5MbbmD8emqBqm3ANJlKgW6pBDK5Tgo00sj3GhEKRkTjxUHIw0TDa0V2nfeoX7tTcLSImPhE44N43DKycEuZtSj1KhTW1imVK7QCOqsrnpcx2CGJzwY92B89FK5TUHBd4F5gT9fBvBlmPcFuMh8ZkAeBHjV94qSgIKCgoKCgoJvkksDAGcPHLlDvK3vzg2LpBRobUjTxK40/oG2bl+L2dJvVgLg+wRr6ywvL+F7LhrNYNCjt7tL2OvZDSZT0p0djjcPCWpNpOdQq1ZYX1/HPO3QnxxhomQutVxYQzS3QvvqFW7du4uq+ozMhDRVoEMODw7g8QPY34fJGDyP4coy42tXWews4Lnumed69nCndYqUgtTxQcdQrXLl/htcu/8aQ1cyMZo4jYjTlMPdfXj6GLonMJ1Arcx4c53pxibNVgdHuTjC+t5JQTb+nFu7yOaI82mlttpBY7MdjL2UQpyZzhuNjkJ6p0ccbT2HnR3o9tB+idGVmyS37lEqW+ND1xE0WnWubK7zybMmSXcEJgahCJZXuPfmGyxeu8qBVITaoOMpo+GA0dYLeL4FoyEG6C90GG5usLq+TlAuEXgOUieYNO9+IDJjwrl7Mr8NODvls3vEzAzncuN/20AhM0hE47ebXFlbplX2SFzJOIlIw5hwaxs++Qj2tu0+l9dIXn8Tc/MaKnCoVauU0hbixnXM7iKng1OYhLD3gsPdF1TKVUTg4QcBK6trxIuLHJ08JtaJDSpJCa4LCx1WlhcJfHufpEnK8d4eo4N9SGLwAqo3rvP6m/cpLS5w4rmIaMJ4NGDw4GN4+An0+9b0v1rl+PYdxBtvUVVllHJoNeq07twmPXjAs/AYJgkolTUNsPeDAjzXtVOoU6a9Q/q9E+L+Ce50iOxuM+weQTxFra+zsb5OqdlkqMqE04TuySGDzz6Fxw+hd0TYbhHee5Pl195koVQlDkMarmSx3WA78BkPv5xgKij4U+Ci4H6pqwvnBfyrvp9nAlz8fH7b+TEu8wcoxH9BQUFBQUHBN00WABBz7enyB46sbl35GFXGuFV0ZwO/s4LjOCSTEVHvGHp7MDqBJBODttCdC5LtK2F1al4/L2yKfnUDrr6L7txAG0EtPmV6+oSjnY+htwuMYLILL35Dcn0d1tcIaaD8Ds7ybZyl25gXW2Cis2MUJXDr0N7Ev/FDkrV3GLt1nDSkFR5QOd3l6Jf/QvrhLyEaWAd114HHTfTeO6Rv/RVq7S7CLWNkQGIkRgikzNrdpQZUHRbv49/9GYNgma6sUp52WdUhJw9/w9H7/45+9si6zhthjQ5XNuH1H9H8/s9RnWukWqMwKGNQeQZA/oA4M7uzQlgLMHn7vVlrNpG1vVMIJA4ClYzxey+IP/if8Jt/g+4BjIe23OLFXeLJ3+K9+SOSaotRdYORcEkXb+K210hOD8Ao8JaJr76HuvkTTkSD0AR401PKo0OmH/4no9/9BxxsWwNG6YJ00dfvEX/vb2m9+TPGfhuMQqJwcHGVl92auZO/xJjLxOSZCaAhawWI9SMwQmJM3kpP4QlDdHrI0afv01g7ZUkJxM5zjn/1C3j2yDr4CwV7DTj9PY7+Of6d79ELGoy8BeTqLUoLK5w+fwpmALsfkr5YxtlYZFqroL0aweJV1NIN4k8/gGSY3bcSpA/tDeiskwqFP+pRGR1zcLAFhzs282RhE/fWT4iv/JjECOSgRyscMfnoP+E//gEOntnMEAR4Phxd4zg5wX/rZ6S1EkN/BbnkYTYP4NkLG0SaRIBEGYlrHJRxcfBwowHucI/Bs98yfPA+o6MdZDSAeIIZ9MFXyOYCUW0R7dZJnRJqtEu89T78+h9g9wlMuvBcwvGvkPFfUbp+nfB0h/7hM/pbD0mjsTXE1BLDtxQcLCj4lpmv9Z/nMoE+/z7PFlBKAecz5y4GDi6aA+Y/X7XvgoKCgoKCgoKvw1kGQLYqPFteVcqKO+lDY4H2jTdZuvUOfnMF31GYKGRwtMPJ0w84ef4xyfFziK07vOXrP7iYvNVdLuS0gIUNqmu3MG6ASSbosE90vM1k96kVJVLaYMTpNsP9p8TDt4mCRRwcKvUlWitXOam3MYcDIDdec+0+FtZprN8mCVqEJqAST3HGPXZ/86+k7/8zjA8g7tv5kQpGHoxGHHk13MYq9bVVxqmLShOMAEdJWwduUqi0YOUGsrlOXFlgknp4qWa4/Rl7//kP6E9/ZdveJSN7WVQZdsaksWYraLHydgs/8HGVNbxTUswtgueBDJi54Unbp11fyOYQUiKEJJYB0ikjTcxw+yFHH/wb7HxoRbpJrFDfMeigxGlniZV7LSK3ZD0X6guUmx1CYcsKWNjEX7lJVO5AsEA8TVBxTP/R7zj89T/C1sdAYlveSd+2uHsy5gDFtNyhevM9lAQhFFI4OMK1x3su3/9VhnJngabZOyERUmZ3om1/N+gNGHz6IRz2qT55SFnEdF88hOefwXRgj084MK3A+JRuu8mVK7eI/AYRLtWghl9rQuDbDJDDZ6S7j4hHP4BqByNdSkGVysI61BdgdAyMwfgQlPEWVnBrLZAKPR6Q9E6YHO7B6QE4BrW6QXn5KiOnhqcUZXpMnn1E74N/h+0PYLKXTYOEqbRi/dNFJlfvIxdWmAqDcTVeZwN/YY1pbxeiBBAoqVBCIYSPFD41X3P62RN2fvXPTB6/D3FImo6yv3Ae+DVi6TCVHlp6aAQuMctByrNKBN4Akr5tffj4hN3wkPDZDcRkSHi0Q9Q7QIcj0Akmcy0oZEzBd5VXifDPE+evyhq47P18ucG8wWAh/gsKCgoKCgq+DWYBgLOHjWzVWFrTPbdR5+7b73Dj7Z8QLFwh9Wo4mZM7ax2i9TrPGorHvxvR3d/GmrJlfeW/qcd+mbn/NxuU1tdZ6LQJKjXCXo90NOHg6AjCvOZZWyGHhNMeB90+nUWFciW+77K6usJ4dZWd7jbEcVanDSQTWs0mzWaDcTzBIEmiMXvbOxw9eASDoW0Dp7NWbVrbfPxxCA8fstt5hNu+hletosMUY8BxnGyB3kCtxuLiAtVKmcQvw9gwmKa8ePac0dYOJMJmCuR+B1rb4zs+IfrkE/aWX+PK3TdIHYWXjDKhe1YjbwVzngKfZQZcnH6TrTZpgxSglKQ/GLL7YgeOuxCbzHTP2KBFFMP+Pif7+3RuJqgsU6RUKlGplDkWWSCk1aTTbOBKSSIVSRpxeNLl6PEzODoFPFsCkR9vqmEawfMtegufwvI9glYLIV10OP0KvePFS38SZL4Vjm+v22QCh8dwGjN8vs/QA4igsYh0FvFNRGIkMRVw6iTjiNPRlFLLxfMCHMe16fOuC2ECkykcHbO3t8dC5yalkoMblGm3mqyurbLbfQHhEFwPVpZZXFigVCqBhuE4ZP9gH05PgCmUGqytrlFvtkiEwAjBeDLlsDuwgZildWppGYBUCLSQTPxV8Et0+3064zF+tWT9FWpV2u02u0+VHVsppBQYnYLUGJ2we7jH8w8/zjIFjM1ASLProzIvjNGYaDrBMZokSfGVw+rmNWrJTzhslJme7DAZDZiEKUwSuh98AvEY4iEwsX83ZskpRXuzgr885n0DLqvxz83/cnNBIcSs28B8eUBBQUFBQUFBwTeJA2TJ/3ktuWNXxIUP9auot/4G8+O/5/niFULpEcoAdIpwU1SQsFTaJAhWqcQB3cm/wbgLyYDZeuxX9gbI6iSFB7IEqgJLd/CuvcW4vkms6mg5ZTKaEPYjEG2oO3YFXPrWcG8C3dMhKgVdLmP8BarL95Ebz+HZFvS2s7IFH6oLTJobhEETVV/EHU9QkwHJ89/BwSeQnoAZW1fzPDOBzFzv8GN4voi8cxO/UmJkElJjENLBGAcoQW0D1b6Bdhs4QlI3QwbHT5lufwCj56BHoCe2NMFIex30yGZiHD+E7Q/xV9uUOivEaGKdGcyJ+RVyiUAgjcgc8ec+yjIEhLTt+0p6StUo0vAIei9gcghpD/Q0ywBwwAQQ7sNgFxmP0AJiFZC6JXBL2X1ShvrNUP4ZAAAgAElEQVQ61NeJpY8rNJV0wPjgIex/YssxknE2bgQyAjG1c5mU4eBTxPFDyq03qfgVpmODTk1WkvJVycohjAFSELbbA2kEMgHfh/VruKvr1OtNfEcgdEKkDf0YpqMIagucqgqxVjSUS+L4JCqw86JDYAhHDxg8+4DalTuU6zeYpiVEcxVn/R4834ZwBOUVgtW7OM0NjKpQSQeo3hbqxW+hu20PN2hiGmuIyiJTWWWKAFlGrt6gUa7gRT0CItJ4am0rnICRrJKUF5HNNSZaM0glkhKO38Itt0EGQAzSQyJx0oiSHKOShOjgE3jxGxg9g3QAOrIvkZXumAROd5jsPKSychMV1Imkx1HtKubeIsHGuwRhl8qwS797zGBvB54/hN3HNpDAFGSa3XcCbfKAYEHBXw7zBn+Xka/856J/fptXmQcWFBQUFBQUFHxdLpgA5u5qCowDtRXKV95h0r7NqaoycMqMhIfRGoHBQWOEZKENrRtvsf30McRTSEdYt7J8RfurHNp8mzcH/BosXaWycp2JV2McS0raiuzyxjXGvsI3E1wlSBBMEgOVDlRqTIFRkqJUgF/q4C9ehcYSnD5mVgZQahIFDabSJ3A8pBmjxz3k6BjSIZgwE+jT7PBEtu0IJscw2IPwBJFMIOspnzvUgwduHRO0wSmjDKg4hNExZngIcQ/SCUInCB2j8/OWMcQDCE8w3V1U2CWQS2gpuXxhaLb2Pd974MJXBMJoHB0TmIggDXGjIXEyyvrcR1YAGhdECMkQGQ8RaYQ2glgoEhyMUPbctARVxng1kB7CpKhkhBifIMYnyHiA1lOMju18pakV4ca1gaLwCIb7uMkNPFkmys5DSslXtZDLky60zkpShAbHhcCDKzfo3H6H1pXX8FuruJUmfhDYcg0p6Y1Djrp9EuXjVppE8ZThZEzJaBKUzcwgBSIYHsLuU3qnh1RWr+JJF7/SoLy0Ac1lONyH6gK1pU3cSodEK0gikpMdwt1HMD6197YqEakSxquSyBIkI5xync71e/jqDsrEKKERwiCkIkUw1Q4RPpFxIYqYTCNcI3HdMo5ftQEwQhAKYQQOBtfEOPEIOTrMHPq7CB2CSRFGZy0rsZGj00OOH3xI0rlJ5ep9RFAjLVWQNZfSssbREYRdKr0DVq4dEF3dYPCwRffB++jjrSzjI/t7Yr7yPwIFBd9ZLtb5z3Mx1X/+fWEAWFBQUFBQUPBtciEAMNdsTQgoBzRqZQLPYYoGnVpbACkRGNtzXQp8R+JWAioljxFfd/U2x2QeAAbSKQQei0uL1AOXk+kYxQQXTXuxw/XGW3jxVfw0RJGQIJng0Hfr9PwFuqToaIKTThA6otmo01nocLzlZcEKA0qiRJYNoTWJTlGpJk3zVOY5OZ0/zGltf6UNJCnGCKRSiOSi9Db2PEyK1impMXYTzZmTv7adFKQQeTO7s821IdaGRANCopR6xeqQueRdzlkadm6Wl2LN8ji3QjV3D2R2+tpuaN2rZz4Rcy+jMTo7N61tY4i5tG+TzZ/I+9jn1xVb2mGkgxb2nIUQCHlp6OILY88xyzxJhsAIXJfFGze4/sOf0bn+BtqvMyYgxmDiCTpOSRD4QrHcaRJJn0QGjLWExKDT1Ha6SFPQqTVJRMDpKaPdPfprXSolCHyPdqtJeaHDeK8B9RqdVgsv8BjFEYPBgOPjEyYnXVtuoUqARhg7rjEpjgCpNWk0ISYmicdIHaGUQEhFYgRTPCJZZmo8pNY42oaN0vw4Z3dAlt2TVXZESco0Tu29ay7co+izzAkj4MU2vfffpzdxaNy8RyBdMAlJFKOI8ExMuRJQChaptANYKHFQkzz/XcTR/gt7DQoNU/AXTC7u0zQ95/4/n+o//91C9BcUFBQUFBR825wPAMy1/ENI8EpIr4QWLsZkzvFmLqPc2BXuFIUb1FFeOVsh1QhjzjwFvyoCm87vNmHlPu7q68hyGykdDILULeFUSvjOIh4JjtDITOh4SCrCI00VcSxIUk0ky4hA4nQi/I3X4ckHcPzMih0B0iRgEmKTkggQjsQ4cmZGf+5kTD5PytZpOz5KuYjUIDQIrbOS90xY6QTXJLjYY0TaFnFGZE7xWYBBozNdlq2aSmFXrx0PIxWpIUsPzVaVZhruvCO+yQ9xFiiwvgDaGDv+7Hzs9cKkmX+CAJMZQBog1YgkgeyhNck93YWw84K2ZRQmtqNJF+1UoNTEBHWME0BiQGtriIjMSgdcW9pR7iDKiySyTKwVQliTQj0rIM/8DL7EjSRMitEa43hAADhw5V1K3/t7Rrd+xqRUx9Mx6bjP6GSL4eE20eDEZl6UW6j6IsHCBl5rFSGC7MFdolRmTkia+WRMob8NT98nXVtGX71FUt9gOHUZLx/BsYGFJYLWBvVqHbp9JgdPCHc+hsELm20hXTDgKAdHgmtsvb0aDTl69HtGxy/Q4QmOmeBI6ypukExTSKWLlg7KgGMMrjAMx0cke59YQ8wsOCOEQeaGlETodGyDajrOuivosw4gZgpEEGsYxPDxEez/htGz15BLm/jNJVSjhVtv4lRqTL0Gw7TKkaxTXyrju0uU0zJ6/I8QHiKiXhEDKPiLxRhDkiSkaYpSCinlLABwmVFgQUFBQUFBQcG3jQNz0urcgqCAOCWMEkRqMDJPLbcKW2T/2VR1jzDSTOOs1jdbff1aib+5SHV9qHQQ63cpLV1Hu2W0kWgDsREcj6f0dYqyqtqKUCHRCBISEjRG2t7nMS5aKsr1Ferrt+gvrDI8ztzVo4hpOCJJYkQ8AQFBKaBUqdCVwgrkWTqzyAIlytaElyvQaBIEJTsn2ibin610a4gmxOEYoxOEMCjHoVarM6k36SvX1sjrC5kTAis0SyWa7Q5+qUwUJyQ6OcuymG3wcgDg/ETO/zE7/pnIzvcl7Kq0sK3zELaFlTRWhJtsXlMMiclqvI2GUZ/hsE/NGAwS6ZZoLa4y6Swx3MkMAE2czYe0xoHKs6+lDeqdVUyaMh0PrNGgEJg8u4JsDr/gjWRMboBobJkCPnh1ajfeonbjHfqlVVIkXtxlvL/Hwce/hucPbDo/EspNKC/Ba++x+noNU/HxlUJKB6mcuXmLbSbAtA87D+hv3aaztMGkvsiwLGD5LoQpbq2MU2rgKxc5GTLYecJw74ktf5CeNRVMUqIotquEKqGkJDKZMtl9xujDX8D4GExWVkM+h9JmnsQxJAmkSXavRZCGEIW2bGbWIcJmGRgTWS8G8ut3cWKzfZgBIo4w4TZ0PyXZ+ZjT1josXEF01nA6G/hLm7grV1HNBZRTRguPWiugefs9xKNPMFtHWQBKnJlhFhT8hTEv9PMAQCH8CwoKCgoKCv5YnM8AyB/SDXYlv9fj5OQEOQnRgWN1IXZVWQphxZoWTMZTTg8PmQ76zL70TWFSaNS5sr5Kq15j6Pjo1OG02yPdewHDUyvEpLCCyBgrMCEzNHTA8ZCLSyy2G/gKpI5pddrolWU+267BVMB4jBkOSZIUOe4jhEPZU2ysrxEtdjgeH4IWWbdEcSZkXQfabdbX16lWKkyMQUqFkCJzgLaBCcZjuv0+q6lGGTBG0263KG1u8PRJjeFJf2aaNrNiEDaY4rTbrK6sEHgOURzOUuWN1nMC7kzkv5w8b86/vSDG7G4vbpULR3H2mThzGTB56ypj4LRL7/iEThzjJDFCGDrNOvXbt3h6+BHHz47stiYrOVAKXA93c5PN2zcp1ypIE2OiOKs6uPhg/CXKAYyZm7rsGCslOs0GpSBgKBXTxBAOxpx++DH88hfWuV6Hdj9qAt4EGuskrxk810MagxECmQvvWfeF7D446RHt7TEYDCi3pzjCsLrUwXi38E2KlJIkTQknU/aPjjEnXXuvCrJuDxHdbpfaeAwepMbgOg6lSpV+aqA/sGZ98/Mild2344Dn2yyS0QDMBIizacuCFQZEZvBnf55lnIjMAvSi47hUWdaJUwVZARVAbwiD55itI+LgOXGlDTdfhx//NYvtJq40uNJQqVdp1mucmrMUZyEuiTUUFPwFMd8VoKCgoKCgoKDgj4Xz8q+0XSEUAka7xE//E29lidrabaaiRiirKKORWqN0THu6hzj8mPDxL+H0edbHPluJ/qpP/HknAhxwmrByF3fjdVKnRDkasTQ+IH36Eae//hfr5J+nZBuTBQPy08oNBKvoG/fw3vlrnM4G2q+ja2t4V3+As9snefoQBgdw9AxvsIdoLDIRDqPyIuWbP8A5OIZuDKMTTDLMxL9rjdZqG3D7Zzi3fsK4ssZIBygFjnJJU51lQcTQ3yM+fEIyOAavxJAqxm3j3PwxZv8IPvzfMBlA3LfnrkrglmHlNSpv/A3J2ut0hY9jhE3plpylbc/mLW/hqGZtp8SsnCD/jpjVoiKlrbcX4kJgICsLmAsCSCmRQuJKiSMlRhs773oEJ49gexm3f5tUpIRODYIlgtf/O75YgPL/hJ2nmGhg2/J5Ady4T/N7f4tz/Xv0nQaejvGJEWlkW9bNdzf4AreRmDsvKa1Yt4EaF7wq2q8QCdeWq0iNM+1xuv8A+luQTqwxoXSsgHbL0KhSL/mkjkSkMgsqZOI5b9MoUnu9pIK9D5kevUa8sk7iVpGdTXR1gSSNSByXpLuDc/Qp7H9m0/PTrFVeFsSJ954SH72gVOmgtSJyPOrX7rK/+xT2P4XJaaags3lRFWiuwK03WNjcJA6H9J4/hKMXMNyzbTFNVl4iFEI4s0CPnN0OGok5K7cAEAE4ZXRjBdHZoLp8nVK9zeBon8lnH8Hpng3K5UGE8T5cWcXrfB8tXERQJ/WrGK8EyiF3cizEf0FBQUFBQUFBQcEfnwsZAJmoy7OcwxPSh79ir1RiTaRUNu6hlMIlhWSKmY4Idz/l5Df/Sv/p7yE8tbXgX7n1X460JmuqBJ0NgvXbUF8m9Wu4o1PKw0PM01/Do1/aNnPpZO4c9FwWgmPTrL0qpKeM1jZpLV8lliXGTgN/6Rb1tRec7O1DdAyHW5xuPaC6cBNdCpg6ASbo0HnrbxhFKcMP/hdMelYAugFU23DzPTrv/Jy0c4tuBIIYpIPRKWmaIoUgRUP/EL33lNHpAUF1kWmpg+M38TdeZ+n7IdtCEj36HYwcwAW3Aqu3cF/7K1qv/4SosYGOJ7h6QmBiK5Jnwi1fpbep1kabWVupM/FvZtd4ZgSYGfaJfGn/MqUthNW7xiC0nmVZGKPBc4HYitOdTxntPaVSX2aCQnstxqKEvP1fqJeW6W8/gOGxFYXtZUobNwluvMnEbzIyJYwJkULjQtZlYr70P19xf4WKFPmp2eMyJq9pz7IvtGQcQ03bQVUyoeakxIsVDisJTGN7D6kA6gtw5xZXbl4jcBVDnWYGgCazSMgCC8ZkZQ1jiCWcPKW785jq1TdJWi0SzyF1a0idkuhT9PiYaO8R+mQLXInUKZrE3kuRhp2ndHeeUFm9iXAcUgyqscDm62+wHz4jejqF0cjOv3Sg0sa7+z1W3/wJy6trkIacbG6y++EvGH3at+04o8jaT2jQqbZSf6bEjR0rs5vUxoDwbWChtEBw5S3W3/lraldex3Uc4t0H7Huw+/GvYHySBTBKUDd4TopKpghXERlDmsA4znZMntFRRAAKCgoKCgoKCgoK/thckgFgDdtQAlINg5Dxh5/xcBzAjSm018FREE/gZA8e/B948hF0u2croxlf2wPAUfhLi6yvreL7HlobpnHK6eEx3d0DCCe2/tnMLzPmK9jZGNqxQu3ohJOdXUq3J9TrJYQQNBoNlpaWOanWoF+C/oCDB484Xdxm4WqZsozxpabWqrH6/XeIFiTj/WcMoylpUMVfvkrp2rtE7TZdUjASg7ICPBdaQthgBgqOT3ny4BGrS/eRFYmnJH464cbGCte99xiulUmPtgjjFN1cpbJ2C7l2l6kvOJ6OEfn5CUjPpf+fu3pn/5/Vmc6tHF+c4zxT4/Mu1Lx+y4aRWaYBGLvKe3jMi9/9nlJlk+pGDaHAU4JyJWD11g2qV5qYSZepkMSlBlG5yVgapvEUI7y51H0xE/JfGDNXNiCyIIgxZ3nnYchgMKAVRZiSRilJtVKmefceS/Tp7j5mNOgiSnXq19+mc+8HqMUFJhhMEpMkMRg9M+56aRINEE5IX+xwcHhErbIOQiKlxFG2tV5vMGR3/xCGY/v3KjeQJPNbCKcMPnvEk6XXuf7aWwREODKks77KTfdHjJYdBkf7JFGCF1QIVm5TvXofOis4yiAdRXl1hWR/gdEjdXZv5H4IeUvOS26Bl3wn0NTKAZvLHfxmBYDy+jLrzjscNFwOd54y7B9Baw116z1Ka6uooESiNXES0Ts9JRoOIZ0POHytfw0KCgoKCgoKCgoKCr4BLgkAgEDbvu26a83pTocwfAbP/wPqbVt3nCYwOIWTbRgd2VRwYiCZjfPFHvfnV6jzWnMXjAt+m+raHapLm8TKQ8Vj3PAQsft72P8AoiMwA1uykLccy+uetbFp+nJq67t7Kbz4BHHyAkWMLzSRX6e8fhun/T7J4TMYHcCz3xB3Fii1AkRjkVSV6Lk11FITp3ELZzqmkkzQQlButAkaC4TaY9wfkxhriOh6JRQxSGOd100IYmpd1T/6J0btCle+/3Nc5ZCqBgOnidpcx1l+Dz06xUtinCCgUm/hVNoMIok/6OEIQeAKXDRpGuPMp+lnQk8akAgcA44BlQvhbI4lBmlSVN6VwCSoPOtDSDgnvO3YCo1PgkqnCB0RmBRPCNAJpGO7GhwP4KN/JWRK84d/R3XtGr7nI0sBJTcgcJeQ6ZSyAKMcwkQzOOjRG/fQTp9ao06pUkKGIdlJWFO7mQGgmd0tQogsxHO2mu2YNOuyYFAzjwpNygTChHT3AenBEyqVDkZIhkELrv6IZOEe8viAcjjC9wOai2vUl9YIhc8kNEjH9hFwAaHTTMbOd1aIrene5BR2HxBuf0pn9SpOpYUwKRKDHw8YHj1hvPOxvcd0aN33ZWT/zpipzWR5+C9Mq+A2DOXOClO3TlxZJd6ooDv3cCdjZKxxvQCv3iH1yhgV4BNSNWNO9p4y2n4M/VNII3DKQIIyqe2QMe/2LwQoiTHSBtAMtiSBBPSE7uE2pyfHrGzcJ1IlQqfCxFti3H6TuHtCGg7wKzVK7XWcUgMnmVCNTtHdfcInv4CTp6A0QuchqUL8FxQUFBQUFBQUFPyxuTQAAIBJIEv1Jx1CpCB8BgeZ+Vheb68TK4JI+PIrfOcd6gW2bl0rz6YXt9epr93Cry0QKx+R9JCjQ+Kdj+HwAaRThAiRJrHt7bhwCDrO/Aw8GxDYf0K0/wzVaJN6AX6rjm+gvXaFg63fQu8Yelvw23/mhTSsv/tf0YvXCGUT7XeQlQDX93AEmGTCJJmQDPscbz8mHPT4/9l77ze5jvPO91N1QueenjzIORMASZAgJVrJSmvLXq+f3b9zn72+Xl3JkpNsiRIjEkEQGRgAg8kznU+quj/UOd2ne3owAEVIIH2+fIaD6a5Tp3K9+a1O7qI8tQcbHyFCpCXi1Gtdw8iGLVgR1D/4R55KzZ4z7xHkp+ja46icC2WbcBJsqXDCDs2gjbeywcbiU1rra8zNTDN76AiSiE4UYqtEABCPoTKCDxuBjTTMV9pSILGrVxFShdg6wo79wPvWE1s13LYQuFrhEiEIyaGwiAVFBIaBFBgm9ovfsqy62GcuUjt4mjBfo4mJTSCEhNBDeWt0mnUe3psHD6y9B3GrBXJuCa8VEKi4Tq1S7Uq1SNMXDAgNWiFViKUUjgBLCJOiMgyAAKI24Z2rPK5MMVeoIacO0C6MEVb2w0wO65AkrxRFC8Kgw/21ZbxOG23lyJckeWlha4nExEKIROz/rsFYmwQmhkB3ExbuEmw+pVwdR8s8TuQh/C6NJ7dRy/fNXiJCx6khE798Ha5BK4Dr/8ZdG/a+8SOs3aeI3CpheQY9VUTaNhrwNHSCCCvwkH6XoN1h7fFd5j9+n+Xrl6C5YfajjkBHSEyWDAuBSoVWSLI+CCERKjJCiciHToPg4R0uf/gBi3KGypHXUcUpOrUS4VQecdjCsiDyfcKgA14Tu7tOsLHI+o3fs3Lj91BfMPszY/0zZMiQIUOGDBkyZHhlMFIA0CfYUwy61hBFEKVMiY3Dec9P22hHX4TcT5sHx0HckqB0joMzVsV2HBq+YiPsQrtN9HiBpeU1468dBYnie2cDY8eFZpul+SfoySOUK4IwUlh+QLlSYbNcxeu2QLnQ9PEvX+deNAYnNKXZwxRKZXJaGEZJKEK/jddusPR4Hn31MrRbdE9Jovw4eUug6y38IDLaYpmkjwshFPBkmZUPLrHSLlI9cp5czSZXKkIoiYRGERKEXdr1VVbv3YUvbkEQ8hiL6vRupPKpN1t4QUjPzx3A92m0Wrj1Jo7t0Gh16Hi+mbd4uD3fp9lqg9vED0Ka7Q5+EMaCgUFtexLl3gtCNpptrM0GfqeD12jS9Xw0iRl7/FyoodEm/OI28+sR8/dXYWY/ojZJPueiVYjXbqI3VmBxAR48gZm9iP1HsCybSCmiyJjaEwSpCR2cWZW8LwlwGCnaXR+r1cYWEr/eoN3pEAUhWGXAAy/Cu3mXB+41OFOkMpfDlnksS2Nh4iZ0opDWxipPP/8MNjdh10HKew+QK4Jue3h+gNZpoVXKn15r446yvs7i8iqlXRHFSp6w0WFlbZ2l1TUIlYlroToIwrguHcf2i10Bmh1a127wRasEp6C67wCliXFsQEoLjUBFGkspQi+ktbpE895Vwlt/gHs3IRAg82Zf2g5Eikarg7O+gSsUutmg3fVS7iOpsdWp1ItawsNHPOVDnjYkpWOnKU67ps2RQAsBKsIPQ9pexMKjBbpfXIbbn8FaHMgyNU2ZECBDhgwZMmTIkCFDhj8/trcAAHr+9L3o46L/8UAZE5DuyxH5fUZEoEFbEHbB9hAbT1i79Gu4e40WOaLWOmrpDizfBG8VY3WgUIYVHXBxNrUqY52gI+hqQMJnv2Bl/Qv8sXHqlo3wm7D6ABk2jRm7bkPUgmANPnoC8x/R3XeM4uwuZKmKAqLAw2/X6dTX0AuP4d4tiAJoXaP+cA9tx6XdXiRavoPw6kZLHnmmhXoZwjY8rEPjDvUHv6O4+wjW9Ax2LofWijDoolqbdNYW4cFdWFgAxyYKrvF08X1Qiu7KA/yl28ZFgwC8ZXj0MRvBEl5lAtuyaK8+wXv6eZyZIQJ/FfXwY1a7i7SKZaSU+PVVwqdfgOqC8hEi5betWqAd1KMrLL4fQGEcpTSF9lO6jz9HBE208mJrEWnG2u+AtwCtOizdgXIFPT5OJ+8ajbznQbtlUtu1BMxOUq5VsByB8Jq4fhPRqUO7GQuX1CCP2vtHBLprLBwaj9Gf/wv1lfsErkuuuUi0eMdEqFebpl1eCOshXNqEpat4B47iTu3CyhVQKqLtdQnbTRrLC/DgDnTaMLmL5tQsiwUHt72M9+g62l83461DwIrT8cVWMQizFYKAvA4YFx6N1jL1x7fwFx+AVzcWKXFofNFjjbVxE4m0sSSo+3BzGVav0dh3CDE9h12u4uYLCCEJgxARePiNTRpLj4ke3oSVhxBsQNCK36FAN2H1C+qf/gN+qYotNPhtWov3ob1iLBB0bEWSDKzyTXaDcBWaAdxehbXPaD06jr1rH3Z5DCwb23EgClGdBv76Et2Ht+Hh59BahrBp3EJ08CIJHDNkyJAhQ4YMGTJkyPCS8Uop54wbuoXCMRHJnSK4RePLjwACw6R3NyHqxjnMJaBi8UQ/BF7SqUQwEAlpNKNuGdxSnGbQPIvqgNcAr4URKsTp42TetCFfhVIVUR4zjE/gEbY20K26ecbvmJe4BZMaEGnaGsb1hn6vjTpplXSMFYNTMvVXJ6BUNoyk34XWBjTXodM0rhauycuOcDHBFn3D2AdNwwTbJchVwHL7g6l88JoQdOLAjnnzLidvymhtTL79FkQdpDbB7lRs0YF0zDjYeTNmVj4ezK4RbHgt4wYgRJzebxxKU4jxWWrlIkF7g+aj+9DYpB8bIrYasByYOg7f/V/sfvsnjLuSYtRBbC5x67f/l/X3/8G4FKgkyKPx+pciDl4vZCzxkeCUIT9utOtaG2FL2Db9CrsYhluCzPXntFiFsQmsUhWBRvldVLsB9TXoNMxMuYXYeiP29febZq6ToJM95t8Gqwi5vfD6D5l772fs3nOQMdemPn+LO7/532x88kuoP4zbkvwMuTYgEdJGJdkrnIL5yZWgWIFSBdt1CQMfWg2zRjp1M8dh14yx7sfgMHVU4nXhxIK8ELx4XWofK84MoJMsEEnsQIj3iAN2AfIVKFShWEEWSjj5PFHgEdbXTTtaG2YtRl2seK4UxEEZX5kjJkOGDBkyZMiQIUOG/9LYwQLgTwOR5KFPayK1Aj8w2QZEwpRHxq8/GrJIwNgfjNI29oUBwjDOQWSYJR1gmFFtgrBFAX2D5ZhV19qYbbc60IrQqy0CyzYMYNg1WnMiUz4KoevFTbIA39SrVNx2sbVRCgi0qau9CnLTlFVxYDnVNW2QwpjE+6H5DtuMScywk6Sl84OU3zymbTq2fEikD55v0s4pDCctol45hTZx98Aw9b0xU0ZQ0Auw2EVHZk60sBC2RalSYdex00zuO0Ft7gCVcpH6ygJXPnFZ+OK60fyrMGbcJYxVqZ09y/SJE4T5HMrJoSOLtY3brK+tmzYPuf8Pzq82bUNAGEHHN/VGUTwvXvywNL+T1JBamfR4QQuaIZG1acZXh6aPUdcIXNDQjTXpKKNVV7GrhBBmSG0LpIPGAilhapLpo0eYnpwAFdJodFjfrLOxvGIyVgyu+sHOxVAqWRiRcSkIPegoYxVgNQilZfoQds0a0V5cnZGMJKtXJXMXqr6ViE76EvQND5L/4m4liRN6ayrZB14I3SZs+ii7iSelGa8gWaeJO8n3cTwAACAASURBVMrQLGXMf4YMGTJkyJAhQ4YMrwxeCQFAGib9WxBHeosMg6MTPX7MiJEw672nUv832CIM0CquKzIR+Xu2Acl7AlN/nzMCPMNQiq7R9CphfPjRsQl6GDNVMcOoQxB+XHfy/VBwxB5TFRnGTCtTvzJh9UzR5NlY862SQAcCiOtX8TglARCU3xc29KDiOhJBQMyExyH8eswd/XYOut0nWuowNg1vm/I6jAUHCoSDlnmCwgRjx95m31t/Sdupseb5BGMnmKicpDn3GY0nD8Brm7Y7ecoHjjF37lvYtT0o6ZJvL2O1VvDufwQL140Zuepr/nv2HYmAoherIB5H6oPti91DenOarCsdgQjMWIQSItnvsFapOaO/TnR6jQiQBahMIiZ3URyfoaMsVGma6tELVA69ju+UsVWAbC7SeXgFlm7Hdfn99TWC+de99sZCnEiZdgoJKmlrsmaVGR8dkLYqSHh384rQWLfoIObskzUR97OXFSC1NEW/NYmrghnCwKwbZfXboVV/H5D8ROnICBkyZMiQIUOGDBkyZHiF8EoIAAa1hAmzFe3IQeghRir513CYtr54IGbuttQ7rLlMtQHvme3Y8qTepnjv86R0EuXe36bmVN+25aji4Ilag/YReMNPDlWZMIzPQjrWQwTEkepH9SvJZS/zeJ7F7bog6JYIcrsIc5rQhbB4nELlKHrxIVFzk1A4OLU5KrN7UeOTBI4LgY8VdAmefE779u9NjAcVInqxJRS9QIex40c/4KRCa99oo5/Zn1joku7IcCy/LeM1qrqccbco7yZ/4i+YPHqOlizhuWMUZg8SWDZaQ8VbxXt6m+a9j6E+D1ELIcLR47gFydpI5mqEKYQe6Fmf8WdIOJLaR+nyI2pNPZsegDAWGg0MAlsHb3B1Z8x/hgwZMmTIkCFDhgyvHl4JAcDXHYni9MWYnq8uPFpacfvHMV6j27R9nXH5MIJ6g42r19jI7WX8XIVSbYqcjMi5DrXpKYrjOSy/Qygcuk6VwC6ChCAMaHe7bDx8zOrlq/DkqWGyU77sohfdIf3erVYfLxexfbxlgWVj1aocOrCPucOHaIkCbVkgtCw8bRMpzeJ6k6Vbt/GeLMYuK4Pt/nPj1WhFhgwZMmTIkCFDhgwZ/pT4RgkAtmYBeF4YXehWRvP5nhzQwr7Qk6P+/eWhdi6yA15QlJFYMETaxCRYvA4fdGm0F6mdOMfYrn1YhQqFnEOuNI5rTaGRdDwPz2uhum18r0v99lVWL/0H3LsEzSXjbkDikqAQAzOjR/zrefr1/B9vW1hjVOSWZKxaYbI2xlipQA6XvBKE/gZhENJcfsK9T36Dd+0/ofEI6MaWHoMt3mmkReyfv127kzU3YLU/rOYfeux5jR8GWzlccvRqz7T/GTJkyJAhQ4YMGTK82nhFBQCjTPKfzVaMNvt/0bdtr1Xe3uj5j2H8B+tP/36+Ho+u9bnHYgTHlpjXP+vZ9HgJ5aPw0bSh3YEn64TtxzxZuErn8FmKu49iV6fRToVIODjaxwpaiM4menOexqMb1G9/CsuPoF1HBO3Y5H/QueN5x2XrOD5DTPBCHGvKvl4pGo06j+cfUo9cIuESKch1V9GbT2ncvYx38zJsLoEfZxToxXAYfFkqAsEQc64HePlnNXGL1f5zYqD720rPtn6xNdRf/9uM+c+QIUOGDBkyZMiQ4dXFKyoAeDF8dcb0GV4UfYYvZmVVBPUW3q17PF0JYHIFxubArYCwAWXSFzZXYPMRrD2A+mKcmUFtYSBflbm14pZFKgLPI3i0wB3vIxhbgMK4CdjXWYP6E1i9D82GySwhBELHgfE0JuMF7Bgd/1Xpd4YMGTJkyJAhQ4YMGb45eHWckrdgmAV6MYbpRS0AnufZL+9i8OLteL76R7f8ZY/F9m91QLgg8iBzJn+8VQCZB8s1uejRhtkPu0DXRKkPGnFGhIBRQQpfdFxexjwl8fcjLBOjwCmbH3KAa75VHug4PV/UNn+L0Jjyxwy/6BkSbJ2rYSuOr7oPaTx//aNLbiegeEUPkwzfcDzPet7OaiXDy0HmEpQhQ4YMGTK8mniFBQDPQEZZvJIQCCQSkGjimARC0ksw3zOjjx+IUyiKODXd8/v0/5mRcPE9sYBMrcUknoTuxS0YdBX5co4jGb7myM6sl4ZnuWely6R/kyo34ALzPP5F2RzuiD/GJS9DhgwZMmTI8HLxjXAByPAqQaekSmmGXw8XIwms97Vh/Aews5F+n+F/RmS+DBkyfGXIdlmGDBkyZMiQIcOzkdFLGb4yiAE9WyqcoOj9z2BAW674KvIX/OkRWzXo7cI3JkH8zOdboxtk2y5Dhq8Kz+sCsJOlwKg6dfqDbNs+F/4YN7QMGTJkyJAhw8tFRtJk+JMizS5/E4zhh/sznGbvy6WIzJAhw1eJkSbpz7j9tjVhf9nBOTJkyJAhQ4YMGV4y5M5FMmT46vBNYPrTSPdnVJ++Kf3MkOGbAr3lH8/GSGeftGdPhgwZMmTIkCHD1wiZBUCGPwte5YX3IrG+kn6MekameqkHyomX3PdXdWQzpPG8KSEzfLUQJi/HNt8Z7Dgjr/IBNgJCiJe2zkaNWWYokSFDhgwZMry6+FoFAcwI5m8O9CtKQI/yE34W0hYAYqhPQohekEMZV651EvHgZQcGfAUHN0MPQmSq4z8L4rAdUsebkdGuO3roGbQxl0s+l9oIEdRQmVcZL0MI8CwjiEwI8Goho58yZMiQIUOCr5UAILu4Mvwp8GV99oc1YGa9pnSN+mUSwl8DDuS/ILablews+zNAJPY3IhbG6a17liHRnBS9jCWaQaseIQQiqeMlTOdXybBrrf8kQqdhQUqGVwfZmZMhQ4YMGRJ8PbgGQT/3uk4ZXGcX2tcXr+jK29Is2dcJCgRabW301mjhor9ejSQAkucECCHRA4kP/piBSLMt37QIC19jpKfDSq0HDSgF+pXdAl9LmGA2RitvAvyJ/t6TAiw7VuHHe0UDYdS/Q5LtGT+j+3+k1P6AlCSmPELTe/5FmKuBeU/fbQniNvaFiC+GAcGBAKw41E/S3hFn2JeGEGZ8hTD1qsS+SRjZidZfyxwvX2eMXF+9D/WAhHvL0kvXktFXGTJkyPCNxatvASAwRJclU8SLMLScUplU++uKV3TaBpl/8yOEIcaF7tPQw8uuR18JDMNnW2bNilifqBREKiaSNUKoPqPxlbT4FR3Q/8qQmHXg2P3zK9IQRsjIpIlU2Rn2R0NghloAWggiYhcjK743bAtcx/yIeC92A/BDsx8jBWEIGDHfwEZPXuBIcCxzF2kBkUaHIURGEPC82voBfis5J2TsXJC8Mz4nxKBs4rmhe0IPCXb8I6Tpd5g6h6Ivw5ongk0R122b35re2UYYQRTFFgdqcByzpf5SsWV9WbIvoEnoJ2XmP9kzyUMqsX3RiYWLRMbrOvnJkCFDhgzfDLyyAoCeVlWDlBJpO+ZvpbBibUMYBHGZ7GLK8NVBCoHSuufYL6WMBQBGv6jSGrSYie8RXhqcXI79hw4zs3sX+WIRCWysrvDo3gNWV1YIQy8ORJbhGwsNlusyPTvDoaNHyBXyaK3x210W5h/x9PETgiB4qcHZ/qsgHWpTaSMESFSbhXKFA0cOs+/wIUq1GjgW2g9prW2wNP+IR/cfsray0q9Mb2WKc+USc3v2sGf/PvL5PCoIaG02ePRwnqcLC6DVC/G25lgRCCGxpE1tYpzx8XGCIGB1ZZVWo4HWql/jl1gflrQojVXZe+gA03Nz2LaN3+mytrzC/P0H1NfXh8bueZEw85KZmTn2HtjP2HgNx7bptjs8fbzAk0ePaDfjPuitj2Z4eRgcYoGQFuVqhenpaQSC9dVVGvVNIt9HxHecVma7WFKgpdW/zxKhNZnsJkOGDBm+aXhlBQC9y6aQQ47XKIzXsFwHGSlkGNLZrOOvrYPn9xQ2z8KLBSTaPla7Tr5Pm9SR9itN16JTzzwPYrPPkU9s41WZlpS8SPQ6eA4mdKAzW/7slxgc3Z2IBTFAsg9/t92zw/1/dsv/GIJFo43mxLWhUCByHQRgaw1+gOp0wQ+RyrgFqCQYmBTgWASVEpNvv86x975FaWKcYqR5+tnnrP/8Fyyurva0MUJ8Kdp+qKNDZsrDX/f+P2pVjVpTo2bk2WWGmdg/ZbCpPw9hmo4jP2LPCgGWIBKa4rHDHP3bv2L84H66vodaXCX85T8z//QpkZ9o2kS8Dv4U47XdqfSsHf2nw4CnF4Prd7u2pCya0VLEmnWJPHKYgxff5tDr59h79AiOY4Ft4XR9rI7Ho6vX2fynX7NW34BYmLwFlkDVqoxdOMfRH36PiYkJwrUNNu49pP4v/8bC2jIiiGKNvUarZ2vVEyshbUt0uUDlzCmOv32BPfv3oXyfG59e4vPf/QG1tIb0g3g8+vtrx90oACmIpCacGmf2O+9y6u23KBXydFbXuH35Ko9bdWg3oeMbYUl6wNnhGhGxVjmXo3DsIHt/8D2mjx6iUiziLSzBb37L47VlVKsBSCQjzKWeA2JEK7Y/v9L76BkHYfLViD4/X5sGsf09tfP9vf09v0Mbhs/aUW9LrCbzNvbhAxy68CYnz75Gwc1x6+pnXPvt+9TvPUB2fVS8XhACigUoFHruHFYYojtdlO8bq44RbxueJSHi80VvLZcJEDJkyJDh1cGrKQBINDhSQLVC+Y2zHP3Ot6iM1xDdLqpe5/6Hn9D63QcQhGgV7VBdn5xImPbtL6PYDK73rz5Dm0jGtUh/GpcUIsUW6Pi5wWtvZ6Y41c4tbRxF+iWmfcqYrQ5T7c+4dUX8307tShj65HWJnKH/KtErIVKfbFevFKn3pkzgxdDv/vOD36TfrdMfaAaI5NTHL0Z4CNBSGrPtiXEmLrxBbXqagm2D59NaXuH+R5dgbR1UiELHZsMYU1jHglKOJ4d3Y791ktzMFLPdiE7Qpfv7cfN9AMRLdlshwDbynoHODPh2jma8Re8daZJz1GiPeonYscyowGIvrNX+EtTh9uvly9WZ7sfWtouto9A7U+IxigM+IjRYgGtBzuHp7ikenT/O0rmTtDsdxu4+oXHpEhHCpIOQ2zD/LyjMG34s3f2+oEIM7YvR8yy3eelzNeVLtjt51siz0qdLXKXoCyuH50enC7sShILXjjH79/+dsR/+gMdTEzySGi2MBc9MoJhC0sGneeUTsEecEsn9YwmCaoH5I7soXTzF1PQU+YUlfCtk89MS2AKtRD8eQHpDj1qDAuOvoCKYm8D52x+S+8lf0qqUcFFUDk1hNdeIfvMh+Hqkq1H/3yJeerp/zklh6regPVXh8amDFC6eolYooBYWWW0ssVHLw6PeYA60dcv5OgxphCvkLRZ3TXDv7EGenj/JZKlM+XaV7t1bdAu5uI9JuAHBi/gzpO+mPobvlKFbSCS/t56ByefpGl7keHi+0zJdavjmGd5f6WfTgsOBCre2QyR0BkaAPNyGgSYoqBaxvvMWlb/7azh6FOnmGDu+n1LkU3+6jPCS80pAzmH69XOUDx/Gz+coRwq9tsaTy1dpzj+OXQcGe7zdmAyM9XZrKpMIZMiQIcOfFa+mAADocbCuy4F9+3nv3W8zvXuOoFHHX11FL61w/4OPjZnaDqrUhEB6FjuzPcxNlb7ADHGR3IYyfkfvW0Btufp38rbUscBAoxktntD0SYcUaa9SpqJbm70jRhdLXfAipuToD3HSy57fbaqmnca3T5gN9jKZn52aPkq0MByYb1io8EJICPmuD4Ui3774DmfefAMbQU5pbl++wvrNu2wuLg7OaV8FMsCs9Als0Q8oqLcS9l8KiZtC78+tkb4VGFPPLZ3ckYUe8czWf49i9HfyF90yv19iLEa35svX+WyBRbI7++tPkAg5NIbjHwFpYkBEShFFEVEYEUZhLCuIzxA99OyXklqlW/rsb/tVD0iSnlnHCzfly65tnW5bXzip+1/sDCFhaoKT77zDm9/9Hq3xcR7YFtgS34LNxiYukqIQ1P0ua81G/3XDQ5KSfPb2lUh/qc08KhWfQUMTN8TbDXRBAhPjHDp5gkKhQE5rpNbsO3KYx3t387BYwOr4hKF6hjxB91jlgfMmuYuEQEjZa2b/0Nn+ZNxumPtCvfjOSVucJQ8KEFKmzqDUrZk+ckbWm64qnXFhsFXpPZieuJ3O08H+f/nYK4NvHf5Gjngi+a4PxTYzsGMfYrVDKn3lyHoERsBcKnLo+DHm9uzBFgKtFLsO7Gfj6BGWKhVko0OkQtAChOT1s+d4/ac/wXccao7Dyhdf8MvFZW4/fNRfUyPmYoDGSQLkjBAMZ/x+hgwZMrw6eHUFAEbMDbagk3fYzFtYriCyBcoCLwmwpgzTo3cwhU6w8yXUZ2fNX4PkxlAD+wShTpMVovdk/4JMm9uPrIk+QSfQKSFCH6pH7u3Iag8TswPEqBhRLN32wQeEsAZ9UlMl9EANzzm6I6ZqlPKjP2ZiS7le2RGvHBDWPOO7kRCpn7xDd7yCNzNBCFhIokdjhAU3Lip7s6HTjJvGMH5oongmtY6Dvck4IBdqJAHda9go6m7H4Y3H64VMXNMjvHUG++OVHrltDMmf0/R/y7c7mkGMZlZHC4xeBpnZf5OI955OMVMynuOeCEzHC0ibmH8R4GvwtSLUGqVVLD2T/TRzMYMihKnty3bjWUsmEWJsneuEw0zOscF6nldENPDAHzkNw6xq8nukIFXQE7zh2ORPn2L/xbexpiYIbInldfE2uizdv8fanXs0g4iG7dK6eQd95z74wdY12GOkBQiIEERCooSFFjKe7X6Qz8FIIFs5/y3DoTBuRBsNSp0Ax7FwhcDb7KAbXQhVbLWTtisbHIvB0zg9Dpi2aePCHSFNYEQEOsWkDgoOUlVs7cVgf6z4HVpteUbp+OZK7u90LS+wJgZv0O3a9DwiYwYX8JfA8NG83VsHz8Ttz7NYZTD6vkxVuqVXYochTDdUA5FCtDrY7S4528WVENVbiHYXEUb9+ygOkulVS3RmxunmHIqOi16uIgo5Y/ERCkSU0B16y+vS42LuZd1fj6SEF+m2ZsiQIUOGPxteTQFAQlFIQGoe2RF38rCa18h2hGtpNqQmMXtPNJ87agFgwB1gO0Zl2MB/K9GZXG4xAdjj/hJqTw+XNmz9QHom3a9mqKQpkSbUzI0uemX6vweJQGnoVa3ZzpYgzbSqkeT0EAsuJFJKtJKxSEL3a073JaZytxvRNJGqE3eFFH04zPgnv7cyH0mvUmSYSKJoD4sktm3FwDsHCJP02ssJbhUEFMFBMIbkUV7SclNzI435b4Q2D2kJ2kIhCWPiPRQaJeL1ah6KtWRJujHNtoEstqMjt0xsf/7Nn/Foqe20Y4PE9ehx0YwSWw2XB2LBBr0sa/3uDj6vRz09kiocKic0fdNwsaX0VuxwGKSI04T53rZcr1N9fWti8SN6PUq0c3HqCEy0+EALPGEhhKQtBCUpUb0i2vyoZD8Yja3URls36hwZ1bNRDIke/jL+MDlhRKq87jFsvYFJnS59B59U77fdZc9kHnfAgJY9VZHQ/Z7JUX1E9K1rci7d40dYPbQPXbCJVIjbrLP0wSXW/p9fws37NBA00ThhCKur4Bl/HEsYgU2/DRqEEXz6QuBbNr50sIWNwgJhkcyzOStTp3K6kenrIf3Z4iqLH1xiT2mM2vQ0roYnH33O6hcPod4hVAyMeYLUcMR3XyyQGJhDC7AJsfCReFoiMQIMc07EgU1Tq6cvVk69LZVBsA8FIkILhYhjx4MRdAVC9+4Jekzf9qvBBEMURkCaetHwM6Nr2GYNpt15kuGI+/jCplfbCXC2ac/gvhpu684Wcltpgv7TvYwyvTOJgTEbKGwJaLaYv3zNBCI9dhzLcVn47Avmr1wjXFlFRKqf3SLvMJ+3oAiNomSfBO1o6paOhZV9t8Z037Y7sZObRcQCzizQaYYMGTK8Wng1BQAJErNp2demgmHI+1HaY97gWSbHos98iziqO1oTpVNwbaOFHFlrwjyIhNhImIOECe5TfH1zPZ0itnS/Hj1csfmd9tYeReBvGaeYqRRCIrXqMxAJUSpjQlo/ixwbVbWpE6mQmlgrlR63wS49oyJjHirBmD6rntt0mpg1VWlEyhN5iJxDxv3V8bzKWACgorBfx1B7+sSu7vXLzFV/nHtWJKK3qIjQJrWYhlArwmRcpUBokbKEHSLZRN9seMvaFMKkV0oEJwiE0HFay1Q53S/fe1Ga+koxFkLElgUJfRhrkXuCgO3425RP6ZdB4ofca5CIPxX0okwn49xnShPG+znf2as/zUWNKpTmtlLfiMFyPaYgMVdW8VjFDIIaXtvJkzJOi6UUWiTP9Jumem1MYOYkaVXiNqCHXDfSDUyCvo2KH7LdaA3wrPHfUso4VknqfDMH5xZedLCi0btuR8ZlRHe07q+PbYWtA30Xff9h0Z+PZB2l3S62PQdLRSYmJyiWSiilCcOQ+mad+atX4eNPYKNtTPalxLfi9HWODUGI2m6AE1P6eO2kjv+kQK/tQsTCIa22JhRIc02OhHqD+3/4A4+bdWZnZxF+wML1LwgfPwLLMoHXNIO2YKllkdxliQBAJWe9GFhc/XM2bifJmh9oWv8sol8cIc35arqkMfKtXgK5oc2V3BWptbPDHpfSPGOOVYVOruFtHpOif4cNFxleS+YMTvpHf9+ZP57ZrsGKGdjrz/Pki5Tdsa5kXwgRy0DjQVIjLIV06h+dDo1r1/j30OPywc8pWA7Lt+8RXr4W319D+0gaS5EQRcSQrj/Zj8+QofTolFQMJylk70zNhAAZMmTI8OrguQUAf/p0VWm21/wkJpGG2e5rO7c1/xeAbaNVhLakiXKbyxlzSN+HZguCyJi4IeJIt/GjMYHX1wiJfp3J+2yJLhSRbs60I4rQnTZ0vZ7/by+nc/J82uSX1D+lAMvpp96Jc1hrrdBRtJUDSHJHK20k9HkXnS8gbRswOapVqwleYJRB0kLH9sjmSW2YGVIaYssy/UvGIe+iy+V4DDVKRehWGzod871t9XIKp4e895djGWohVCA1ulJEFnKG/oxCtOdBp2vmAGEYMqVjc8G+tsGYlMo4B3dsumgLKJaQuRzSMi4KqtuFZgMCZfosRG8CRUyI9Lk/SJE3/bmxrXiOzBxEtk1kWURK4SlBt5df20JpacoNc2BCI5QRcgAoIfAFdCVGM+NYRI4xuxRWrFHxutDu9OuRMcOW+FSmG5qsv1g4hlZoS5gIzvm8md0oAt+Hbgf8qN82GDRp6flrppjF1OiMihKuwURbl5b5yxKQc8HNISyJDkJ0twueH69PaYjHXryK+J0i/dkQEhlMut8J46E1A9xVwnQkfthDghKtMXvcsiCKTD2FPORzpn+dLnS68fmWrOnIzHNSl22jSiWk46LCAB0EZh/4YV+YoFIOQwIQCq1C0CrmvzWBVvjQD6DhWCaXupszBLjW0O1Cqx1z8jERHUUDU9gbht5gSRPRG0BotC3NenCdHvGuPR9aHQhDVOrM7DPd8ZwkzMXwWrBtMy7Jd45lvlDRtlKCRPDZS62ZvCfpg5WcERHasaBUQjp2z0JGdT0zFqEG2zLTEUaxnCmuz5bxXAmoVhDVClHOQeccIr/D6uJTmH8Yn5OOOd+SfOga8+9n3W06Ec6ZeTUuHdq4ocWBAnU+j86bewAVQacNbd/8bcn4fUPv8Dz4/AbBvXs8KpYgCKHRMuelkhjlq7HTiuLxwu6fqdoWROUStpsze0UpsybDIL4/IBL9ALEmhWkiwIyZ+iGBj07uJzS4NrpcQrgOOtJmzQceRL65LqVFoOP88bFFwcB51a+2xxCCNnMJUMqhS+X4bFYQReh2CzqBec7q3y8J/WGyraQsvlLN147d+1zbFhTy2K5LFClz17Q75j5I3G92yNjQn3/Tfp30bxhW7LYXrycrvmqUTvpN7x4auMYTZl7GxEaoBstY5i7SaCOkKuTNWaGUoTGSM8KKzTTSKfsS2uPBPDx5zEahwIYW0OqCF4K2ULbsafexBJFroy2J1oIQAbZN13XMO20jFOjNb+9Oin9LiYrfj9BQKWPnc0jLfK7bbWi2++eEtOL2pq0iBkQOGTJkyJDhJWJHAcCwVP3PIcXVWqCQEJteRkrGhoeWYWYsoFKEyTEoFQ215AXmwve6UCzCrlkKe3eTHx8DKfDqTdrLq7CwCIsrRhiQolESAYDW9FO8CQyxWSrA1CTMzVCenqJaqZr72/PZXFuju7AIi4vQaGKofUM0C2kZDUq5DLUqVrGEJS18P4R63bS3kIOJcRirYuUc8kFAtLyCt7CIbnbNgEgrZrpsKOVhZgq5a47q5CT5YgGtFKHn0VpZpft4AVZWodkh0bwrpbAx0b4jDVEi1EhS31VKMD2Ju2uWsclJnEKeMIwIPJ/68irRkwVYWokv9D5Jk4QzUwLDkCZMaa0KczPYM9PUxmvkcg5B16Ozvknj6RI8eQobdfBMXnQRRob1F7pPMyfESi4PE2MwO01pZpZyrYabcwmjkGa9TmNxCRaWYH0T2t147A0Bn2hFB7S8ydwqbRiasTKMV6GYg8MHCceqNC2jKQ5QNCpFOLDHlA8UMjREt+p0jPCh3QYiLBQiMoKUQEJdKNZtYKwAE1Xkvv2MT0yQKxYBTXt9nY0nC/D0KWzGghtISaAYbG8SjbuYh4kazE4jpqep1sawpSTyAoJGk9bSiqlzdd0ENlQ6VtBpVKT7mrGBkI4pRk3Qn8NqxRCiUQT1BrRbZr3MTmHt2UVtYgI356K6Pq2lVZpPl+DpEtSbhnnoVR8H7izkYWrC1IvGDgN0u020tgHNLjIWgkQJ1Sji/lbL2NUq0nEJwwDVbMFmHVotQxyXC1Abg1IJrJhgbrUMY+3YMDuNs283xfEaUgqCRovWyjr6yaJZ1x0PlDRCJlfC5ATs2cPYaxI3twAAIABJREFU3Bz5YhGhNWGnS2NxGe/eA1jbhK6HTsz5ExN/FEIopNBoHRKi8C1BKxYgMV6BPbtwZ6epTU1hFQr4nkd7fYPO0rJZxxsNVNfHxkFEoRHcxRYCEYowmSfLNoR6TkKtBLumzP6tVrEtiY4UrUbL7LeFJVjdMGssjNAqFgZaVrxvJdTGsMbGUI6DDkOz1+sN866xKoxXsYtFiioi3NigvbgEjQY61MZSaOD8NvVLRF/2ZMUCPUuaM6w2hr17F9XZafLlEsKW+L5Pe6Nu1vDiCqxvoludWDAaMyGWgPEx81MpwZH9tGcnWXclNRS2iqhJi6dTU3Bov2HKI4XwAkSrjdrYhI7fX+8wgskzYkiBItQRvtQ0LcGaDeRt2D2LPHCQ6ngNGe+P1voa3tNFWFyGjSa0PUD3XBh0EAt5J6ZhbAykY9Z4sQXLK9BqIrXGQvR96m0rzjJSMGtybobS1CTlUglLg9fpsvp0AR7OGyGADV0REQkTiQQ0kVa9MzuVbKEvTHEtqFRgZprcnjnKU5O4OZco8Gk3GzRXV+H+AwgCImnTlhYucqsQID6/Td3xfFvC1F8umvrn5qiOT+C4ObRSBF2PxvIy3qPHsLZm7sPQHBo6Yaa1NsLG8TEzbm4sNG80oNU07xwfg12z1GZnKFcqRGFIZ7PBRnI3rK0bRvh5kDCsOmbCx8fM/eMa0km0u+iNOrrZhED1ivZgS3OfTI2D45p4E35k2ruxaYQ+uRxUyzBWMQJcpY0gqNkEFEzWYNcc1elpcqUCQkOn3ujfnWvrRiCQlqWGOs6iVDVndy4PWkI1gM2GOQ9dx7QrZ8HcJJ1aEd+WaMuiIy28YpHu3j1w+qSpP4zAD7AaTaKNTXNOJkJZoc3ZHI/92K45ymNVHNcl8H3qGxs0nizC40XYaJhxsCRCKaTWvYCPOl7vmQAgQ4YMGV4udhQA/NnNtnRfS6Fjc0Zj2plK/ac1hclJzvzoexw8dgzaHs3lNe7cusPy5gYHThznxBvnyU/W0MU80rKwgpCo3WXp5h3uffgx85ev4q2to6IQGaseI03s3inBthGuQ742xvF3LnLkrTcoTE+SKxaxbcuYYoYRoRew+XSR+SvXuHvpEhsPHxF6PjoMjSmr61KbmeHsO29z8PARxqo1FheX+M/fvc/T5WXOnD/P6fPnKE2NIyxJPgy59Yc/8PGv/5m17qJpkGUIQXfXHCcuvsXh189SnpzAKhWxLAsLUEGA7np0FxZ5dP0Lbn78KYsP5hExY6qiqKf8lZaNdhx0PsfskUMcOn+OfadOUJmZQuZzaNtCRJooCFFdj+b8E+5dusKDK1dZffwYCCCKerIYGwgcB4oFJo8d5fg7b7P35HFkuUg+n8e2LVQUQqtD2Gjz6PoNbn30KYt37kKrbeiYMOoTUrYFjgPFPNPHjnDy4gV2HT1MvlzGLhVxbButFV6ng2o0Wb8/z4NLV7l79RqttXWTKlIa5iMxse7HL4h/LAFhSG3fPl77/ncRB/bypJynMDuH8gPyscZidnaOyk9+yni9Ta0bklcaf2WVe7dv88mHH0Cj3VMA+75PXil0pFBBwNjYGM4773L8yFEO7dtPdWwMJ58DrQmbLdorK9y+fIWrv/sDm08WEB1vwN8XiJn/2G+zXGLPm+c5dP4sEwf244xVcBwHO9Zuya4PrTYrdx9w44OPmL95k2izYTTAUThkrjGkwu1p7iT5aoUzF99h/+lT1KYmaa9vcP3jT5hfeMyuE0c5cPY0td1zlCplXNtBhBHRRgNveY0bH37M5x99wubSksm1HgtFUBpKRc6/8y7Hz50lb0ss32fl0SM+/LffsDz/GPzQCMx0rPW0LNxymRPnznPuwgXGp6epb9Z5+MUX3Pr0Exbu3kV1I+xqldNvXeDQ8eNMT8+yvlnnw08+YWFxkSMnjnPs/GtU5qYRxQKulMhQEWzUeXrzDvc/vsy9y1cJVlegOs7c2VOcuPAGuw4fpjQ5iWXZOEKgPB/d6vDg0yvceP/3LNy6Q9TtEso4HKBSoASWEEbIEEUmNofSyEjBrt2cPfcah8+/xtjUJPlyGSuXM25JrQ7dzTqPr9/g9seXePrFHayuRwSIyAjHIp2K4GHF+yNfZO/Zkxx86xy1A7uoTI6Tc12cnIMOIiIvoL2xSXN+gbsfXeLJtc9pb24SBUFfGyokVrnMa2+8yWsXLuBWymxs1rl1/QafX/uMmV27uPDet5nZvxfHkrihz9Ldu3zwr//KvavXQJqI+OlllTCFvfYKKxZiSgqzM5y+8Cb7z5xi6sB+ZCmPdG0iNGEUIrshQbPN0t0H3Pn4EncuXUI127Flhdm8UwcOcOxb30Ic2Etjepzg0D7jttNukwtC9s7OMP3976GOn6HSDigqjW62uH3lKjcuXyHwgtg1YhszBozLWaSinvZTCpiZmaXxne9w/tQZThw/jnBspG0bwZ/vU19c5PbHn3Lro09pPnwMYYQKg74gOV/g2NsXOXrmNQpuHlfarD9Z4IN/+ifW795BC0WQbFFzUCOnpjj6+usce+sNpvfvhZyLa9sIrVFBSGt9g5X5eT6/e4f5qIMKfIy7lUKFYZ+JTrnQGYGVgHyB8twcpy++w5HzZynPTiNLRTSKKAgI/C7dbpfPPvucz65dg0LRCOjC0GjZtSaKUhZhPe28MGd4Ic/Yof0cf/M8B86cpjxWQ+YLWI6LBYRdD9Vqs/7oEQ+vXOX25StsLiyaBiZWcJYFuTyHTpzkyPnzTO/biwhC7l27yp3bt3BrVY68fpZdhw9SqlZwc7F1XrtLt95k/sZNrvzHb1m+fQfZ8VFR9Gzrj+QwtC1wXU6cPs3Rt97AqVaoFou0F5e4/vs/8MWly0RBGLu4CZSKiQfbYe7QId74/neZ2b2b9kYdf6POF5cuc+ODD8APcXM5Zg8f5vDbb7Hv8CHCeosH129w78EDZKXIoXNn2Hv0MLlKGcdxkFJi+SGdepM7l65w/fe/Z+3OXcOk+2HKAs9h18lTnH77ApPTs7jCYXN1nUvvv8/8hx9RnpzizPf/guLh/awUXXL792P5IcK20V2PWrXGt979NvrEaZxOl4rSOO0uS1/c5NJvf8tm66mZW9cFx6Z24iivfesdDpw+QaFcRuZzxt0yigg8j3CjwdMbt7n74SUe37qN325DGMTWcv3IIhnznyFDhgwvHz0BQJrseeYBPKQleelWAQM8SRyUTCuiMDCmlmAU2+NjTJ4/y76LbxG2OnTWN9HHDjHRqHP63DkOnzyBLuRoq4hAheCHdNsdivv3MrlvD4VqhRv//h90VldNeu7EhE9iLv+8i3tgH+d+8F3e+MvvM3P0MKFrY8mY+Y+Jfq/bpdxsMnfqOLtOH+fSr/+Fu7//ADBMNJbEK+aonjrOnrfeYmJqBntxkT15m0qjwfl3L3LizGkiSyIFlD2flSePwXb60nbXwjq4n4s/+2+c/It3mD6wj5ybA8syQemIfbCDENXusvv1c1QPHeSjX/8ri1euoROz9SQfkQRci8lzp7jw059w+K03qcxMU66UjbZYCCKtiZQRAgQnN5g5dYzKvjl+/4tf4d25a5YEscJGADmH2oXXOf/jH3LyrTcp1cawCjkcy0IK438owwgdKaZOHGNi/34u/eqfefjxJaJmM2V6HWsJx6vse/sN3vjh99l39hS16Slc20EK02cEKK1QHY/ua6eZPnkce26GK//+H0SPn0Cs7U7M6vu8b2KObCwqJvbt5a0f/yW5Y4d5JDWPIp9NFeFrTWjD1PQEx2feYzaSTCkoKVAra9i//jWfXr8am4kqotCkfYsQNLRGTU6w55232TsxxZnjJ5iq1UBKQqUIooju5iYFbz+FwwewJsb54P/+ks7tewxw6YnJsdQwO8Wx777Ha9//LvtOHqc0VsXK542pstJYUiLDCKKI6TMnGTtygPy//YbPf/M79PqGMdMYMEke3sOiZ7Yb5HOUjx5k13tvM7l3D621dVrjZcrrqxw5+xp7TxzFKRexLJtIR0R+QHe9znikKR85iDM9we9//kuCpWViiZ5hOIt5aiePcPB736bo2LjdLu61z8hdu4a6e8/ErOhZIJm2+IUchYP7OPgX77Dn4EGWlpboOvDw4X3UgwcAhMU85aOH2PPu2+w7dJj1RpP16RoTa2ucOfsax86eQbsOvjA+4n7Xo7VZZ9+BvVQO7qdZdHly7SqT587w1k9/xJm3L1CaGEc5DqGGMAjodLrQ8Ti9fw+l3bO8/4//H4+vXDVCjkQDGgQESvUYOE9A07EoHD/M0ckJ3vzWuxx97QzatlBSEgmMAKDjobpdZk6fZPbEMT76+T/x8NJV/LV1JBJbmWwCveVrSygX2P+973Dxxz9g32vHsatFCjkX17KwzSYmUhqv66PrLWaPHePGb9/nw1//C2pxid7m6AZEk2OMHzvIgW+/jV2rUdys481OEe2d48Dhw5x+5yKVqQkcpSh1u+TyOa5+8gm9IGUwwFQJIQfjKsTB9arnz/Lmd7/D8bfepDA9SXVyEqdSMjFfhCaKQkSoCbyAsdMnGD96CGdqnLsff0rn4UOj5Sy6TB/cx1s//h7l107xmIiHOuCxDvDCiMiWTE9PsWduD7PaYiISlEOF2qijtOLunbsEjWY/td2o2y9xiVAaJSVdyyIcq7L34puM5YucOnacWq2GtGwirQh8n7DboXjsIJXDB3DHa1z5xa/pzD/u1xkpKOYoHj/M/h/8BYV8gaqTY/7KVXKXPoI7N42rWrL8lUIc3MvZH/2AE9+6yPTBA5TGxnCKBWwhcaQFKiLwA+bW13Hv3qHz6D721BSeNgIoWxiBlLHAkX3zdFuCY1M+cZRv/9Vfcerb71KamUbkXcjnYkMgjRBG8F46eQxx9CBrtkCXi4QatNIm1WWUchGB2EXCuNzMXXiDCz/+AUfffJ2x2RmK+cKA60kYRqjAZ2rtKNOnjpLbt4vL//oftK7fNHefirNnWAJrdpqZt86z78xposAnmBvHOnWE8dkZjp09w9j0FMIy6y6MIvxmi4ofMnn6BPnpST74h39k+fOb4OlerIVtEVtM4dqU9u9h98UL5OemmalU2bx1lyfz83D9OrQ7fdmHiAW1BRd3zxyzF9/gyIkTtFfW8JdWWaqvw6VPodXBF2DPTTP9zhvsPX+O5uoawe5pnJVT5McqHDt7htrUJJbrooURuIRdj6LnM3bkIKXZKT75+S9ZvnRlsN22hbtnFzMXXufA4cPkpM3ig3luzN+FqzbFyRrnvvUOsxffYDFnsagjloTAF4KGhPJElaPvvkVZaca0oAaMh5qPfv4Lbl65wqZ+avaGazF27jTf+tufcfTtNxmfncG1rPg4kGhhBGjSC9hz+hS1/XsJf/Er7n16GeoeUvfdAJ7TKSNDhgwZMvyRsCGl7Bv6rYd+J9pSE0BN/OmEAD1uNbZxE0kU+vi6kNAt2FydKLJatlDVKq0Jl+DgJCLSfD5W404euqpNRykirdBWhKhISoUq+6pnmMlJVrwW87/5nTHp9pUxAbZtY+73+mlm/8dfY793kc+mJ/hYR3RlhK0ErraQyljYRQWNLhSYHt9Nft8Ek7U8d/0WXL6B9hV02nQsuDlRQuwaR5VzLNg1ln/8DpYluTE9yS08bMCWkrH1De63m6z5oTEdHCvA+TPM/fefkv/+e9ycrHAjinCDOnYrQAUhvpRYhQKW7SBLEn1kF86un7J7aoyNvI33/gcxQYUxayy5cP4M5b//Gc13L/JxqUBkC6pRk7znY/kBHUvg5V2ULXHHbaziLnJTP2ZaRjz6Px4sr0GiVbYlnD9N4X/9DZvvXOBK3hiJ6qgJXoQdGdNWkcuhHBtv/zSzE9/hQNFlvdth7f0PjFZBayjljFn+T39A7W9+ytrB3TwqOeS1TyHwsBodQj8gyrnYxQIyZyFnKkTjZ6jummR3Nc/8r/4VHjyCIEJHsblhbKvZyzEea8GeOJrLwsOJWrSkzbqM6EiNECaVW0tFbCjFvBSMA5NKY9NhXvhoK16PWqHDENty8BU0NfgH96P27uaJ69JyHSw6eEFIKC2UJZG1HBYucrpEufoj9km4+b//Ee4+jP1+Y3N0FcLR/ZR/9hMm//rHLO7bzaoGV0VYXgOv08X3PGzXgZyLytkEeyqUZy5Q21VjspJn5df/YUzdu2FKCJAwP6nwc0m8Atfi1niRYM8YetwmKJQJKudBa+6NVXmYd2n7bVSkkZaFchRMuthCUpo5TKFkMRt0ePTzX8HCSo+IxxFcr9jkZkpUbJtKU7I0VmC9mOv5LJPMlcD0v+hwb7zAF1MlVmeKLFFgfqLAWtHpH1yu5FatiLt7gvtVh7Vimeb33kKriNulIvfdgCAyGvUAje9G+JM5ChM5yrNVdBG4eAr70H5Wz53mD5UCkR3gRV08rQktCCuCXCnHWM2lNvVdplx4HLTho2umDZYAqSDw8ZWi02pTt6BRK2H/4B2kgutTU9zKKTzfI9ICXIcIhchHWHkbt1pjvHaB3TNjrP5DGe/X/45qdYg8DVj9mBVz0/Cj71P8u5+xdvo4K6FHIBWu3yLf8rC7HiJfwMvn8XIO+YkCznuvUz04y0TJYfH//BwePe2dpbiKWyXJ+ESe7mSJ5SK0yyfg3FHWp6f4z0KOLh0qfshe7bNYX+VRsxEzlX2xWnInCA1a2qa9jgBXwBuvMfM//wfue+9yo5AnQKNtDXSML7E2aTIjWxLaGvJVpmpnmdo9Rfvgbu794ldw5QvI2yxYEddokbearEWKDQEtS9DBpO7bBFZExBOtqAqYiiJcPJaEoiX7goktiTgSYYWOsDVYWlDfbBC4Ft1DuxGHdtNxbNYcF+iCNvEaAickcgSqWqA2fQg3L5gOPR7+vz+HtQ0T80QAOYvr1Rzl2QrFfJ5xy2J53GG5KHrBGo0big2H9jP593+D+1c/4PbUOHfi8RQiwIoUuchYXylHEu4apz5+hvzJA2jbZhNBwQ+oOba5Q4M47aGILYlUCG+cZfp//h3OD7/H1fEyncAn0CERIUhQUYRj2zg5m+jgNNHkOxTCiFBKlG3htdrGskIQ3wP/P3vv/SXXceV5fiKeTVNZleUdCh4gAIIG9BRJUS1q1NLM9M7OzJmzf+PunDm9o+6RWrabEkmRBAgQhAcKBVMO5TIr/TMRsT/Ee5lZIKVeI83+UvecBKoqM9+LF/be7733e6UFKgMfxsrw9uvM/uf/Be/iBW4HHkZCqDuIVpuo1yH2PXQhsDwPkwFi9Bj+kSnmxis8kMCjp5YzIVXgaJbLHsWZCsvjAbGSdF49jbp4nE65zJ4foFWXVBuE56IcgxhxkXj402VGKx9yxFXs/u9d9K174EpE+mdI6jKeBwKXx6NF/OlR9OwoS6UR2C6wFzgo10a0mDxlK496CByeVHyuTxVpzJRQoounCmyOBLbvs713peCip0vcKxuSoERv7BTGnMR3XXYKRaRIMDrCc12Uo0lDjSj4lMemKYff44g0bHc6cPveoKpI4PG46DM9XiKeKlGQgu2mx+qIhFCw42hWdI+aTFhzDW0kbeHQky5tkdIGnpFSSjUj2jBqYD5NeJbGdHNgtiTgpZOM/qcfE//gXa6MFPF0Qph0cTsRymh6nocpBAS+xFscg5HXqBZgQ/XoffUNuhshdFYCeSji81AO5VAO5VD+evKdKQC5ATCI4Buwz0ppy8IJYwmF+rmYQ1wBf1kwwBz8SVgmYOv1zb239tXDkPguEZDIAL9YxPcDnu03Wbl/G3Z2IE1hbpby4gJjQiKlIHVdzlw4T+HJBnu37tJ+8ORgEyYneeUHH3Lqg/epjRapC6gJw66K2V/btMqzdGG8yuTUBGOVMkUpCXyf82+8Butb3N5r01p+hC0oL0mkoCchTiJS32NsYR4RuES+SxL3iHo9VLdNubZDq9ftE/ywsMjFH/2QI2+/SToxRqsg2W202Vl+SPv+Mmw+s+HA4+OMXXyJYzPzFLyAcdfh5dcvMbZd49NHq0Sr6zb/MFFw9jgv//RvOfu3P2I78Nh2Bbu7u3SerNJ6sAIbGzYn/vgSs2fOMD8+wYjvMSEcXn/nbYKVdZZ//xns79tQzcVp5l67xInz52gGPkng0m3UWX/yOGvjNkxMUn3xImNLRxgplzk5Pskx+R6FzR1+/XSN6MmaBV96Md67L/L6Rz9k5MxJnvmGXRHT3qtTu30fHj61uZTFAhw/ysmXXmGyOoEvJFNzM8x/8AF3durc3NwhTjtkAQ0D/qh8emkDKqW3t8O/XL+Gae9hPI/qkUXCkREcxxJe1Zv73H/0FNoRpThlMtH423vsPF6xBFnZTBWA57h0DaRSYopFcCXNJGZtZ4va6lObBzpaJZibY2pslJIQBMIwXalw6Y03MLcecP/pRtY+bcOmKyWqr17i7R/+EG9xkaeOodfr0ak3eXz7Dqw8skRgpSKcOs7k+bOMT0/h+4KZ40eZ+fBDru40efT7TyDpWmCGnJn+ef+LyDYCQ+pKUs+lm0RoAf6ETVHZx/BkY5XG40dW8R8dJZyaYnKkQkm6GA3Hp6d45bXXiG49YHunZudcFszSNTYvPnYkqSNJpUTlBHXD0Rk5QYeUxELQxdBF08PYdX9gzzHEUpC6Dh2j6QJudQzhO+x2Wjx6/JB0fcNOgrlZKtNThEEASMJQcuKVlzj20nl0wUdXSqx129x/8BC2tiyfyOwco+MTVN2AMgInDDj36iu0r9/iwe1lS7SXEa1hbLURZQxaSJxSgfL4OKHjUEtSVtdW6a2vWyLCQghTU4wvzDPquBSNoBR6nDh/jtFGlz88XmPv08v2ulLavP8wpPraa1z8yU/wz58jKvrsdmI2t7bYW34Ad+7Z9hQK8MJZ5s6eZb5SZdoPmDm6xHt/8wOurm3zsPkvlkfBA9C0VdrvYx34+ME4fhCiAp+GNOx02pR1gmk12NrdodFsDs2fAfs6xpJg2uGUNu/46ALnvv99Lr71JvXApyuhbQz1bouNWg2ztWm5NMYqBIuLTMzMUHAdSolmcnaa7334IV6twb3VdUBT39rg46+voHq7UC4Rzi5QmZjCDXzSXsRGvc6D7W2o1SkqzXSkKO232VlfhSQmJ2MTWYO/dXrlHkoDqVIkAIUQ47n0HId7a6uotTW7nxbLeHMzVCsj1v6LFRMT47z6+muky49Y//IyqK4FXoUg0ZqeACkMPWHoamU5LySDnG7PZ/LVV3nng/doVCpsO5JEQFcrdut7dNfWoVaHMCCcmmL26FHKE+OEpQIqjm30hQYnJ1xMYrtPaw3Sh7kZzrz/AefffJPIc6mrhDaa/bjL5u4ObG9Zvo9CAWd2lqPzi4zOTuOlim67ayM8VDKoiGOw+XOpBt3DufQyb/7437D40kW2PEnXd9lr1Fm/c4fOnTtQ27Mg7/wso6dOsji3QKVcYNIPeeOdd6hs7vHVTt2uEYUlMHQkkRQYo0i0RhdDEIJeELBRr7OxvAyNfSiXkTMzzI6PM+IHFFPDVBjy0muXiG/e4caTNWj1hgIbhwCs4TmQRZnFQtAVhtTYvccRIuPQGcx3u/YPbqORzL6nFSGG5KCGZXmJHEFLJSgMuuDjByEiCFje2mL/0SM7BmFIMDXD5OQkRc9HpopKGHLuxYuo+4/4em3TcnXkHBtA4kgiAZ4UJI7lpEEYdLvFlTu30E7MfqWAt3CE6uQcInAR0mGrtc/99fU+P1FFGaZqLdz792h2OrbpM9NMvH6JkxfO442OsKNiOp0O+4+fsHX7LuzuwPQ08uxpTh5ZYnZqkrnxJS4VSozX23yzXWfv3jKpMBY7FID5NiHtoRzKoRzKofxl5U+mAPRNASktMzCA76GL1rOslUJ1exaVz8Mnh1l5/1JiDv5iDbismv1zzPxCCKSxDqbA9RC9mN7aFk+vfQNfXbVkaL0eHFui9d47TL7xGkFGzNfWKeOnjjG+tDgAALKQ0MlLr3DunbfoeS5KG8JIMZJ0efjVVbh8FR48sgz+U+PsvPsW4y9fpFCtMlIoMO4GvPzyy6Q3H3D16ZplRvc9jBCkxmSEeZIACFJDc2ONxvoGu882ifcbhM9q6PvLEPdgtMzi229y/t13MZVROlFK2Isxq5u0f/MxXLlmCaRcFyoj1Ldq1H74Q8onT6F9gUoNZ956jdrKI679/JeWvMx3qFRGma2M4daaVEKfVBji3X22Pv4UPvvCAiflIizMsv3jH7H0zts4fkjsSMbnZjl6/gWe3b1Pq9mwClq1ypHjx6hMTtB0DY7WNNc2aP/qd/D5F5aAbHqW2uoGlR99xOTJUyT1DZpPNyk6LqOjo2yxZvWi82c5//7bjJ84SqIU5UiT9Lps3rgHP/sFLD+2Bq/rwoljrCWC8ddeR1QqaMehPD/LC++8xf7qOg+vXcd0Y4zSmcdPDCIAVDbpHz5B/8M/QbUMC3M0f/oTRk+VcIXETxWtZ3vwm4/hyTrtWNFOlSVs2m9lRIvZhHQc3NAHDJ5WeInNddx+9IjaJ5/CyooFLkpFoosXEX/zA/zqqGWydl2qC3Mcf/E8D69/g1rdsMpcGsPp87z04XtMHVti33Xwog5Jq83a55fh4z/A3XtZeH0BThxnJ1XMvv0WDg4SydixJc688wZrd++RtJ6QxWd+W+PNLR6TWyEC4TgIbfCVJtQJnoF7t27R+PxzWF62VQcKIb033sD54D2c8ghaSJQUTJ84xvGL59l+8AC2a/Ye0kY26LwcVRZJZOvSD3n+v2NTsTnZOZl7tvcMxTAZbBiuUXZvEp0uYj9h79ZN0s8+g4ePMrBqgca7bzH25hsUPBchNE4hoCgLBFLw7Ok6y1euwNfXYW3NgmsvvUj7+x8wv3QUIT2M61KcqHLy4ovUrlxn99ZdOwaOT/ZYGKVwXUHZCArtLl6UsP1gmd6Xl23fNZu5rV+VAAAgAElEQVT22keX2HvjNWbeuETJ9/GkoKMSxk8f59Qbl/hi5THqWQZkpin++dNc+vB95s+cZFUl6EaXQrtJ6+ub8JvfwL0Hds8JArhzn42/6XDknXdIPY+GgdkzJ7n04fvUHz5i75tv+gzpwoAyhthopBSEBtwoIm40aG6ss7uxwe5+g95ek/aN29boGGK6F9kYDerlGVAJjIxx+v13een776GLIUII3FThtVo07t3DfP4FPHliq1dUKkQXXqD53vcYnZvHNQ7S9wjnpnn5g+9Re/KE7WtXYXkFlfTgsjUiex/9iMnRcSojRdI4pbu9Cx9/Ag9W6HQjHiUaWj27D7U6kCqEETiAElnZvOfnnJC2DKQxBEZjlMFJUh7euYu6fMWuuziBMCR57RLx+29TWVoAE2N8xeKZ02xfOM/6nTuW3E5nRJhZyVaTAUWpyiqiBC50Uwh8gpde5Nz33qYwPUXblXhK40YRrfVndD/7HG7fhd09u/aOLPL40qucvHiB8vQUibGYMyYH+bLovXZs7++5TLz1Ohc+eJdgtEyMIYwSpFasXb9lSyfev2fPzVIRtbTE+ptvUj5/AREEhNIhNhZEtDXfjc3Tz/tvaZEX3n6DuXNnUUISxClpq03rwX06v/iVvX7Us+dLtcL+hx8y9zcVnMmARAi86ignL73M3qMnPPr8S0uoKB1bdUNa6jjHGDwNrjDs3ltm4/Mv4c4d2N0FR6AvXKD7/Q+YOHkS4QiU6zEyM8OJl19m+doNuisWCBou23pw9DNj3RhENl5aK5TWWbEZOTD8h9nx+2kldki11ihtSXgPlPk0GqTAcVykAZQmEIJCqtlevsv+51/ArcEai86fo/nhB4xfOIeDQUnBzLEl2hfO8/DLKzTr++RVFeyts3K10kEYgWsEaWpgp0bt48/gypewMEPytz8mnFog1Zqy66H3m/DJH+H2Hej0aCSKRieGrboF+wGmJjly6iRj01P0pIOMDLUna+z84tfwxRWo12BmGn3pEuajH1LxCpi0SbK7T1E6lAoFdrM0qf4O/i305VAO5VAO5VD+0jIEAFhFrV9qB7KQzax83mQVjh8jnJ+lUCigez3219Zh+ZFlme/0BuV9OJhO8K1Ugv+XIjLvgnj+jSw0wHNdXG2sMa00xW7Mg3/+jPQffgU372RKcwJf3oAnG2jHpXDhBSLXozFeJGqPoY7OwlQZtlsWSbhwGvH2JbYXZzHVUTqdNuXdBq3PvoD/9vdw+4EtO6cFlEO4v0rnR7uUPvwAWR1ltV6j06ijQhcKHrSwIZWORHmO9fpIKLU7FBsd9n/ze/Y++SPx2hp0evSUyhh4E3jxBZw3X2bzyDSFkTJyv0m4skrrf/wW/vuvYGM3Cz0W4Ndh55c8TqDyXyro6UmiUDC2MIF8/UW4dsUCAELS3a3xzR8+5ch+nWp1nCnPY/vyFfj5P8HK036ZQa7fQ/U0+yNj+G++RlQs4EiJWZxGHpmGzVWop1Au4oxV6HgQu4JKN0I8WYcvr8PXD62xvboHK2u0ay146y222z3u3L5H6/Eqe42GHdeREPfVC8g3LrI2UaTseYzV27S+uEX6s1/BJ19Cw7KC47nwrE2vDeva5dRH36c7VuaZ0HgXTiHvvmAV2WbXKhpCDCrHiYxVPDGwugPb+zZ8+/xpRt54h+ljAkcbSvgEO21uX70HV2/YnA+DVbZyY6dSBBwiKVGBB56gmBqqSUK88oSNf/wn+MdfWlbwJFPCbz2iHWmm/td/S1wI6YwXaToOamkWNV2F1Q1wDVQKcPEUjYsnWXMVohdRqNXZ+fwK6f/x93DrQUa0l0UL3FuFGBrFKtVLL7NT9OhUKzT3jhOeO0mytYVutMAohtkGD8TcZKkRCoMREkdICloxGkW0l1do/Nefwe//aCsMGG3HYWWHjgmY/OmPMKUiO6KHmKxgTi7aSh3bNXKqfKUhNRItJEbYeARl1MADmhNV9MFFiwoYJEpIUuFghIPAGUqYlmgsm7UKfdJOh6lY0/vmLvz9L+Cff2+94lKCdx2ebCOdEjPvvU1XdWm6YKKYsNVFf/wF+u//waaQdCKb3nJ/nXS3RfAf/g7/5HFaBR+tDWppHjE/A/fuZh5DA1pZYkwp8QyMJpp5Ldi7eovOP/wCPv08qzqg7Hc++xq+vsVevU7l3TfoVSpsj4VoH8Sr5yjc/Ibufg06KSxWUeePo04v0pqu0GruU2i2EV9cQ/3X/wGfX7YTPFU2jHxlA3Yb1MIC4ZuvsTtSpAWUTi0Rnj4Gq4+skWFAuC5dCQ1pDZmyNpQbbXa//ob6r/8Z/c0d6CU8S5Rl5m+3yZLBra1vhuaQ0DYc2pFwYgHz9qusjY9YQzpKKHZ71H7/Ga1f/BruPrAVWXTGkn/1Ls2Hz5A/+RHBKy/RHAlpa03lhRPMvXqR7YfLNgpoq25L/J1cIjz3ChMXFBOJxusmhFt1rl9/AJevZ1UAMuNM5UaSnTcqL/U2fK7kFTKkRDoOnhAEqcbpdOk9ekr8334Gn122bU6Vnf+3H9PsRBz9j/+ecKRMx4nZLDj0lmYtS/rqdnZmWBDAycwfZRRRH/zKqp5MjKLeuEh06TybowUQgrF2h87NB8Q//7Vde1u7trGOC5W7mG/uUP/oQ+Z++iOScpGG74JRCIMtKelZYIrAhdNH4Y0LbByboiAUfpQy1u6ydf0mnf/zZ3Dzri03p5TdU7xv6N3boPvvEo598C4dY6g5trMszqMPcJW4L5zCe/VFNqereMWQkVqL6NYyjb//R/jsj5bBXuusQoAH9YR1GVL4u59iqmMIZSidOsrIqxfgwX0LABiBg7D9YxQFpQh6EU6jxdovfgf//eew1wCT2nl3+zH79S5H/st/xDl+lJbnsu14dI8ukS7Mw92H1igXBzWLHH/UuUtEKBAKIRVC2JRE6yOQcGD/GTLsTV59Ia/DIBBGZqz3+WxLAI1wXTwjCDQEUUTQ2GP9Z7+Bn//aVnGJs8owXy/TqLVRQQE5N4vyHNaimN7iDHpmAh4+tOmCif28NAKJg5Q+0rgEiaDX07YaQKNr9ZInO4xdeJ3xSwlNIZhFMrXToPb1PZLPvrSVMlI9iErRBiZKUA7pTFZoF32kdCjGBufxJnzxDdxcsXlzT2qwWieqJySvvMxWErH3+CnN+yvUtrftuCdJH4c+lEM5lEM5lL++9AGAvB58H4FFZAe5Q/HYMV744Hscf+sNdKlI4Lk4iWJ/c5Nn129w/9PPqN9bBhMdAAFy+UsCun2H4HfUG3YdF6G0Jb1KU3Y3Nrh/+Su4czerSZ6RBqYKbt3iybVrjB2Zw5uegmIB47uUxsbwxsZItltWmTtzmsUzp9CBTw9ItObJ8kMe/PZ31vPSS63haLCK7v0HrJqUWq9NcaLK9toaPFnDWVnL6jPn/Q1O4BMXfOJel8T3uHfzFk9+8zv48qtMOXStAuM6EARUTp1k4dRJUtehlyR4vR5rt++x9+VV2LXGfFaz0NZSXlmFq9fY/vBdgmqFQIAIA6aPLBLOTNO79wgwJM+esf7pp6zfugHVcbwkJVl5BCtDecEmtrPl5m2Wv7mBf/Yk5fk5Ekfij5QYm5qkEQRAx5IhKoUQoIwmcByOz8wSnz7L7l7D8gXsd2B9n51/+B/89sGyBQXWN6HRtuNacKE6xtGzpxmfn2VDCrTSdHZrLF++ClevZ+W7HKuAKWC/DTdusXbqGHNvv4aLIdQGv1xm8fQpHoyNwWYt87xlc54hpSM3OJPUjmWicJTG0QYXg4/BT7Utn9aLGcR5ZldwMkAgC9FOtUZLAb6DasY8un2b2uUrNtQ6VoNyfk+esvf5F5iLZ5l/63VwHRJjKIxWKE1UaZPN98V5Jk+fxB8dwZRCZKtDe2eHlWtfw70s9JzMw4eyaRu37/Hk1m0mT52gPD1BTymK42McOXGcR1dv0m11MEIfXEvPLzZH9iN7ZRiQqhSD5sHt23S++iozfjKPZqpg5Qnbl7/Cf+VFFi9egCRFOZJgpGzBxPzaxmR2fWbwDDIOsvDVzDjrt20oZLZPUigRQg7Cj8HmRktrzAnfR0QRvU6LlZu32Lt23XpgTRai7Ei4eYdH175m7OxJ3JlJEhSO77PzYIU7V67adY4cGLh7Nbh8hXunTvD60iLu6ChRu4cTFghHRjL+irTfFvu/7D9LfbfG1198SfTFZWtc9WL6yKYj4f59nv3yl3SqJV54/XWCMMQkDhML8xw/c5pb125ApwnTUyycOkFYHaVnFKnR1La2WL/2NermXYjTgcIep3bvub/M6v37jL/5qk3pQDNWLrFw/BjrNyZtiS4Dnh+ghSC1w0KkNO1n61z5l4/Rf/gEtmqAY8uzakCpPgGpeW5f7r9GyhROn2L6yCL+1CT7zQYjfsjjGzdZ/s1vrDc4HYrmMNi+/uRTbhZDwiMLlOQ42nUYdR2OnTrJ+sICO0+eQteAtClNIklxjcE3Bk8pgtiSvtoSbKk1/E0WrZC1NU9xO9jw3Htr55qQEq86htrfRzSbLN+6SfTVVdjeJXPx2ns8XEH98XO2336dhWNH8aSDFpJydQxvZITEJXPLY/tM2JQJnR/AeQ1314XZGRbPniYcG0UrRRontLd2uPWHT1C/+xfYqQ/WvEosgHPzFjsFl5XTxzj+4XsIZUv26U6EFMJeF8DzmDh1koXjx1CuJAkCApmwde8Bl3/7W/j6G2h2B/2FjTrhylfcH63gLs0ztrQAjpsXZBgY0VLASJEjJ08yu7hATQC9iLTT5dH1G3QuX7V8CAq7toyw++r9hzQuX2X77deZDWyFlGCkzMnz57kx/SlmedV64vP1HwT0MJSlZPPWHbaufAWra4BrAThhLKfP5Ss8uHies4sLCNcjSlO8YpHCyAjJkOf/T0qW3iKFsCmIwv5svze0H31L07HgjsnGVQqbRin6kTFk56tBCIlTGSGq1QkRrD1cYfvLK/B0DYRj91YpbGnVz79g+ZXzvDg5jpYeThgQlEqURkdpFwKIO/11JLDcFFI4ZFBAlqKRAa2OhCTFTVVWks9GVUil8BJFEqcWTEgy8uD8eZUCDB2jSaXAxaa9nZxbRJ09T7PRI9rcspVxHj/j6T/+E09v3rZgz+6ejcDpxgiVl080fXD+UA7lUA7lUP660gcAcq+/yZQdW8M9pHziOG/89Mecff9ddHWMXmhL9kilKMxNcWzpCNNjY3xlfs7GzdtWyVQDT+JfI5pL5ErScAoA1qDr14hWit2NTXi4YpFu6QxAA1dYA2xtg92NZ0xOTSNcl0RI3EIBPyzYPM+wwOT8PKPj4xgMviPZb7V48NVVGxYXJdaIyOsFxhbJ5+Ej2ttbtNE2vDFWqG5iDdaxolXAjEEaQ8Fx6GpNbW2NJ9e+huWH9kDWpn/AkiRQHWVidobSaIU6hkglyCRmTyeWBCwMKKbWWI0RKEeSFjyYqdLqdogl9BB4hSJeIWRsfILNUtGGz7da0G7YXH/fIxkbtXXU35wiRCCBjkltjnvokXbb7LXaVKSDIyXCcSgVixaoAGg06OzVKPRipC9IEUwdP0rpb3/Es4UFdh+uEO/usb2/b/M0V5ah3smMlZyYSsPYGNWJCYSyoZOtTpdmt03LlXDyGJyQVFLrWYmkIJEiK49XpNXtEnoeJawHxy+ElKtVWu5jUDBURC1T/IY8b30rNIs6kbJvIOgD6S5DM1vm3zF9Rc+kKS6SUDg0tnZ4cm/ZRstok3E65Iq7hrV1aqtrTL9yERkW0drg+T6F8ogFAAQU5ueZW1hEej4pglgpdtptTKkIl16m2E0QWV13ISTtgg+VEmBodDsUxARgCHyfsfFxgmKRbp5bP/TMg44ZWnAGlFJ4joMwhp21DdYfPIRaxvuQ153WAtIOPF1ld2OThXNnbKUM18UNAmsc57iJzis+2/DknE8kr/QxWPBDbck/q/XgZfRgDKGf+6qSlIJ08IRkZ3OTZ8vLg9BVnVfCkHZ9ra6xt7XF0sIMUjoktX32nj2jvb5hP6dUtq9Ju853dulsbNJptQgmJpCOxPFcwjC0ofxRahvuuNbrqhSOcKAXsfzNDaIvL9u87URl4EnuNTTQM3DnHs0/fkHrxEkqY1U6ukNYLDC3sMCtSgV2mlCtMn/0KGGpSFsrtDHstlvUBXD+DE6U4KYKXxk6nkT5LgQukefxrFajUCkDEum5jE9P4VXHSLJ54HsuQhscbfCFJG3uc/vLr9BfXYNmK0tJMWSLabCOnjf+c8NICCiXmF9aolwdI5ECD0Fvt87TW3dg5bHlUVHR0MGhQQl7v2tf8+it1zm38B44ErfsUJgYZ3p+jp1iEaJOdi9puWmw3AMaYW3MvG250f8ddlpOVfAtySIDjNE25ztVtHf22H6yatsGGZN8Dhgo2Nllb2OTI2dPYxzNaFhk3/cJwoDEc60hnfWZzip3aKMHhmGaQqlEOD9PdXIStxDSTVMcEnYfP0V9c8PO5fxZ8nun2s6/h49Z/eYGo2dP489M4Tl2/Zoc2AcIA+aOHGFscoKukASeT29rj9tfXbOgV7trwdDhsn5S2LSJK19x96ULXJyZxBR8hOfhOA6e62b6gwPjVUYnJ/CLRXAkvTQl6XXYlwZOH4ejCxQThWMgdiWxBIOGsQqdJCbVCi0yjMCRFCvZXpjvGVrjCHAQtHb3WH/4CJ5t2XSXdpwBANnnt3fprK3T2t9n1PdtOpPvZXuSh0yH9qA/IwaDNoOXzP72J9MfzeCVZwVone912Wekkz2PwvV9UmNIO112V9fh2bN+BQryFA7HgVabaGOTdqdDuTKGVxoB38MvFsDPgPhsUufpJSpL1eiDTM+1UyL6XSaztAHZXzfk4XJZu7P2N1p0tnYwnR64IdqRTJ48xsi/+1vq8/NsPnrMVr1Gd3/fcj08WcnSbrL7agAb0aEyUPhglZ5DOZRDOZRD+WvId5IAWoNAw1gR7wdvIf79D7g3O8W+UjSkNQgxDo52OVaaoviDd5hq1tjY3YadGvSSvj7yP6WsiwCEIRYar+BTaEdUU0FjpwG11sDbajIjJRHQU7DbodRICPHoCoc9R9L2fSLXs9ctl0hmJmkXPMK4i7vdorD1zBKtbexBTx/kP0iB2IFOApv1wcPbREH70oB0kULgpSkTSuFHsT3sHz627U2UVSjzQ1orCAPiSpmGK9iSmlRrwnLAyJuvUjh1HDdN8Yy23i8hkdIhcgTdoo83VUX3egjXY7vVwDgGZyQz2HNGvKAAI0V48QU4d5aJMycZr1atwms0nSSm1qjT6XVhokqnGNBLEhvaKIUN284jLLZ32P7mJqNnTjB16hgawzPfQ710Duf0USbabaL9BoXdPXaertK5k4XUP9uDVmwVDUdAtUKvXMTF2kRKOgTTM5z6yY8x3/8Az5EIDDpNcKWDkJKOADNaIRgfJdGGjjIY1yUOC4hSyXqr9MGyT33KodxAELKv0LkGvOz/0BhCZazho7LPH3AaDkqJOUbjG4OLYCIxdGsdJrcb7DSjgRdSQ1Y4Gpo9qLcJepqg4oJ0iaVLFPh2lRZ8xEQVMTZKE4nsJUhlKB4/xsnqOKrRJNCmz6ashSByXXqhjy4VkZUSjSjC14pS6CMrRZJSgNFZWOmfU7dyT5c2hEjCFKLdJoXNPbqtyEbAKAZhy1rBfhu31sDvxTiOtFErWWWCfqREtiYG1HFZCroRFgga7l8xaF/mS+//a9Oaje3//ohKpBaEWlBODNF+G3YbNow/Sgf56iLzPO43Key3GEs1qScx3YhWvYVTb6OUyLzpOXDjQKuH22gTdCNUHKO0xvccTODZdRXlkRguDpIwLKDTmNFOj9a9h2zfX7Hht3k1jlxSAA3rNbj3FG99BzM+RSoEiefjVidgtAqFdRgpEU2N0yzY6hkdofEX51j46Uf4P3gfJ6vNjhCWD0EKjOtAZQRRKhFFEZGGrgNxpUBS9PsRSr6QBEZTVJYBPNhtUL7/lNaTLdt/qRlEF+RjlwOxQ1hG3/vvSxgtIabGaIUuQhjK2sD6NuHtFeLtps15TzNPOtlebYQ1hp9sET94TO+Vl5Ez47Q0lEsFnImqJTisdcA4gIM04Bjrxcz/t2NHFmFAzhJxcJ4bYwlvD/zNtl9j0BhCwI8V8V6LiZ0Wu63IRlvlcwlsmkirS2G3RrHVoVAI0a4kcgTadfsAlW2HOHAvIbPweQUELnJmgt74KC3XoZgoRvc67D9cZ311B5Rj52V+/ggsAKc0RApuPyR9ssbYxDiBdNBpipYM2OdHQuTUGLpUJAYKCthtUby/SnujDl1lvb4HekRB4EG9jVhZRdVbyOoY+A7CSByRPZ/nQrVCc2yEOPCJtCHG4IyPMPvR9xh79RyetMwkWimkcDBS0pPQLfiUFuZJsQSfLUfQ8110KQTf7gVGaIxJ8bWiqDSy3qa8uUej3rFReWm2qETONppCrYHo9hCOIHZd2p4gKWR7UifmefmOGWKxQAFKZtEx4rtIIzl4LiCRxsnM3CxdySoFWRsNWRgNRQllDSONHrXdFvVmtr/255ex86uXwt4+stVGVsdp+w67nqAbBhYAAbt2svmcj2K/afkftegXWAo0BFoSactJhIZQa1oqc3KkQ3Mc7O9r27Su3iI6cRpx1KUeeDSKLu6rL6DOHKHcbOG2mrRrezQerNC5fQ/uPIAn69COANFfr3lvP9/vh0DAoRzKoRzKX16+DQD0w9IcmJ5m4YXTuOOj1NOEhiNoOJnKYgSulLRSzfj0BMcvnOP+p5/T3dr9n7Rjf/smxtgyZNKATFJknA4OOmEGngydoddZuKgxNv8zARKReYwcoBDiFAJEGJA6As+A6XWt0pXmHsGDTXGUQmT2pcr/qMlSnmVmXFpEXxiDB7hpStpqWW9SOhSimgMWUoDnolyHRNp64soRBIWQqVMnGfN9W7FQCDwhkUojsUpK06TU4g5xLyLpxXiZkhsWCtaT0EuhGOIuHGHpe29x9Htv4Zw+hh4pE1bKuGGIDDySNKHVaVFvtWimKSYIiHsRJk7wAs+a0CqD9Vstdv/4R3ZHCyx4H1E9eRzHdZFhQCjHcZXCRBFuo8mpF86SnL9A+8RZ1n73KTu37qNqdRjxoVhASYFxXbR0EKFDISyyMDVDwXXBFQhH4kjR98BpIWmmMfV2Bx3FpEaTGEOKwfH9zNuiGJb+8OVeGTEYV0s4aT0iNjSSIQ1lyOLRJlPsM20qm2dSa3wDShvcfM707zPkec+ULJHNTSEs07XOa3X7HriuJdXDluUKgpDxkQrh0aN4QuAKget4SClR2tA1hq4UdI0m6naI2m2k1ri+T1AqIUPfKnHOvxJy2feAWo+XayBNNU6SP4/tF2Uy49jYZxdKY+IE47k2vNnNStcNhVbnIdCIgWIqhsP+hxTD/Pdhpm4hRP81rHXnv0kEUoNIM1At96RpgzRZ2LXWkKaIJMHRGolDqhQitiXWlM4+o7MGaDvfHKVxUo3qRZCmtkKKMwSqZd5vATieh0hjVBxhOl0bRZClnIgspNbkc09n3+/akGmNBeFwXaTn4YQhKgytkeVbEkKTRCgB4/NzjC4dJVQGz3FxfW9gpxsbSdNFU4961Hsd0iRBuxK3XIRCkEVn2D4SUtjsD2VQ7S66nbc7N6Izm3Oo57/Tc5d7HMMApxBiXGmdydqQNtuk9YYFYZRGaHMw40Mb2yepottoEEU9CtJBCdsfXr6PDY96vm6lY+fGgTULEsNw+s+fbfvQO8bYfdVHgDJ4w95xPdQhWCPcRDEmjhFhADIDYA4sNXPgDjkA0QcIpMArFhGBjxYCYQx0e5hGq99fjs6exTCYP5gsCmGP1l6NKaVxHQ/Tv37WiMC3c8e1KUs6VehO1/L5xGnGlTCo0W6XZcadoDWq06XbahEojXR9jDaofI1JYataBAHadew+5vsEgc/kRJWi6+A4Ho7rI6REZeewdiQNlVDvtkjbHZTWluVfCqTvW+PXDAZUGG3D1VOF0wdWbXSdzr3V+STN1jxYgkslhY3Gy/v7T4no/0OeCmLEd0BIwxEwBg5UxUAgjEAgEcKC1X3wd7BVIIxGKoWb2PB7G6ZvI4gGiBqDdJNU2/6TgiTjFupfd3iWZWtQPB/mku9/DM44aexL64wjI9szZfZ5+9x2TVKrE395mU8nxlj8Nx8hjy4SVEYouz7u5DihSqh0u4hOh/D4cbyLL5HcWmb5nz/h8dXrWcqR7UuZQfECQR4bdiiHciiHcih/HfnuCAABuBJZHaNSqSClRBuNzjbqXPnLxXNcysUS5ZERuqkavPn/xw4urJJlScsYINb9kATdP/BAk2plQztzZSH36GffdaTTB961sURo9pch4rchzfE5XfO5tmXt0Rqd5TEKIdHGEMexZVHPlZuBVUreoZ6UuMbgKI00GtmLabd2UXGKL2wFL1fbZxEIIqNoS0PkyjxIAoFEt9roOO73Q3DsCK/85CNOfvA9/PkZOoWANobe9i5dpVBKoR0QvkulEBKWQzpCZOHXCtd1kbkSVXYBafPcP/6ENUcSv/s2s4sLiDCwHjBH4ktBISjguQEyLHJ2fIbTlUmu+b/i7hef95UnV0qczAgXSYrqtNlvdekkaabnZDmL2NDKWEDiOKSuawGbVKGiBN1qW4XpX7F183JPuQ0vMoUv77u+h+67rtMP67SKlsoMLrKcTzMcfpyPr2BglAqrWCmtbDhwbgjnyiuiH6bqCiCOadfr9JIUL0nxM28KWIgjFoKuFMRCIoUhFALHGGJliGp1m3vuin99nfbt9cFz9x1Bw0qpOTjzDQYjBDp/O197/VBSM1iPuWKZR8ocSO/JFlieiy3kwXXdV7xN/zsHWtLHE54DFfoRNjpbkzleaNNK+tVGlDrg7c7vZ8O2Da7jgNJoY9MR+h2UR06AjVLoX/tghwsGoEbfQswUdT3kcdrC5vkAACAASURBVMvtS2GMXR9CWqVca7yMpyLeq9HsJfTaPdwMELUAjm1zagyJ55I4AiHBSTSml5DWGogosXxmIqvMkBkpRkCSJHaPUkPg2XfMm+E/9bdFQz/lxRUSaUS/O1PBoCRaHoI9bHANejCbNnkOtR0Hmaft9G+a5WhnvnU5PJeG9tWMreD/saexv7/nQHH+pDl6lVtyw2HX2Zp/bnk894zf8bchcMtgieRSk5WQy+dg9p0DTyLI+sTYcPPsWjwHkuVGXd4TytjzMP1zYfD5WzozwIVAOtKmPGHQeigSzBgc8nsYC7YnCZ1Wi163h+e4Fug0ufEHkTG0HINypM0oShQmSi1vRxRl6TLD3SX7z2YONDDviHy/td+TTtafWqEzRv583v3J8P/hvSMDAy03atafOaiSp0D10THZb1+eNo8wGKMwSnEgzSk7N7QxGKX7e5DtHAfI9sl++WMzuI/JcB9t0yK+Xc6V/vlyYArkczYHVIf3zWydyeG9tt+lQxPZDyxB4R8+Y1VIRt59i+ljR9GuZyvaCGF1E89ntDrOaHGU8sQs0+UKQmlWr93AdLqkqcqiAAZ75qEcyqEcyqH89eQgAJAfCAJwJNpzaXsuwnXpKEUkBArHcpxlB6YWktQVqNBDeU7mQcqRbTPwkPw15PlLZx4Wg0FKgRz2NgKQKQ9CgVGAQonc6LCHnaXIcaxzXymiJCJJYwLfsyi161ivgSv74Zf2TBX9Az5XVCHzBqKx4eGZ2isscZk0As8IfA1umqHtJsv7H9aec2BCWeO+6EicKCWoN9j9/WfU7z7AjRPKOgMB7B1JVEpiwAlCXOngaE1dQ9xqUVvbtORtkyPo918j/bsPeTI1gWcETtRF7bdYvXKN/QeP0L0eqe8QlwJGz5wgOH8aZ34GPwyJU4fAzQzjPMUhSWCvDc0Ytn7O9he30MePUVlaZGR+BjMzAVPjiOlJ6p7Lvic54gdMvfcmM2nM3Z0NePgA0oRACKTnIjF4cYJ4us7Kbz8m3ashkwRfadwMIFDasjIL13qWXARNbXBTTXd7B/XwEUIrjDkYATAwBcTAkwcwZNCJzD8i8jJaIv85UzsPGPWDMnT91BMz8D5lFzz4c26LYsErZXIAKwsRTzVaGxJtCZMKxSJhr87mN7d4dv0meqfGaKpxjTUm7ToQaCQaG63jZGXM2lGC3q2hn2ziSA+dpP3n+K5lZa8EQuZkUraUlDvkcdXDBvWwcWLMwLM0bNxrA2mCTBMcnWK0Swoo17U5zDmvRt+4s+sG1wXfRboSITRCpwidolU6APYk1kMsDI6wEQuusYUdtB4MlH5O4bceOPpj5WTt7oN8z4nIvi+zUqnGWM9i/2IM+kFoa6y6bpanG/h2fQiBY0QfIFDCth/XgVIREYYYx6ZWKB2TJDFpElmwUGtIFG6qCDyXSrdL7f5DVj+5jLe5g5PlSHswADmUxvF9jOOihaCmDL0oobdXwzx+ahvhOCgB0nFxpYtDilIakfMmZIjKAeM5yzXOt608tN3k6wUJiUL1YkSqcZHgOMhCiDtSIglcG0HUd5qagVHlOhD4eJUyTiFAyWxuK0Xai4ZACfuM0hikNra92kYVDAj/ct//0DLP2/x8XvTQ/M9BPftMQznc+bP1DTIL84BCioGBLRBIk8MSQ+CWyK6XzSO7mAYgUqoSkjTGNQqFRvouXrFgI4IcBy3y+qV5v0kQjuVTKI9SKo9kIDNIy94z+HiiLEGnUjZKyhE4YQGvVATXy+a9k+2B2fPm6VFSEBZCisUCeRUVKTJ6AYE969IEpRJSoSmUCkStFjx+wvonX9BZXYcoJsBGLjmZ8auMQQmB6/lIYXlOaqkibrZIH65ATH9/lcIZvPIZd2BJD6N29mw12Z6eOwfsHpVziPwZEZaXR6YKN0vfcoVEuA7ayypcPA9cCmErM3i+LROcja9JY3QSDTki8nKogHCQUiCE3b370y+bD6AzHYF88mS3yufmEJ9INidzz73VPzQiJ0dk8DeMBZ0N2pLCilyHkgPsg0yzE9lciFO79noS2o9gs0Hvyh1qRxdRS4sUFuYozExhJquosREiR7JXcHFLY5RGXmem12Kv1aDx9S3IaH+kGayHQzmUQzmUQ/nrybcBgPwA1woa+2w3GgiVkgiRkSpZZbZ/rBpDZAztqEez17GKSZTnQj9vgP9l5NuelOxWWK/0AT/Hdx3sfU3BoIXpe1py75uU0gIAvR7NVoueSvHckGIQQKHASLlMs1BAxl17PzMwkETmsXYcD4y0tZ2NsgpGHlLn2NBU6/nIyXeM7fMcMDngANMQRfSiiEQIHNej7Hq4W3s0n67R+uSP0O5QV9mBbrIDXmZsv1E64BQQebissWO1tMixl16kvDBHt+jTbnaQjS63P/8jnV/+Dm7ft8pP6IIn6Nw7CvGHTI9/wORICeM5mTImsnzmLF9QK+gllgF4dZPd2/fYnZuBmQmYGYcjs4QXzzP90osQBtSkYGp0hKMXLhCcPEH0aBk6bZIkwVUpxnEIXAfR6bJ14yZcu24NxT6Zmx48n9JZiKyBrISXtc5SW3rPDPWvGTJWhuer4EBoqBDgYEGbvtfJDH0rf/7M+6czwiVrT5rM+z+ILhEZUDX0C2T1wPvKaG54Svtep92m2+tREjaL1NMa3Wiyf+Mm3FumGatBqKgQGfGlGKSs5GtSOpa1vRfjaI0nBCrz+n57sQ13SeaRxBq/ov958+3v5PWu+15MmfWyGIS0JglJHKPiGOG6OEAxDCkUCvQc5yB4mOfyFouMVir4vt+PQEmSmCiOvg1iiNz4og9KHPzA0OBm4zSYE308j4Me5vz7g3ESUgxCgs3QBYY+nzaaSEcw4nqY8QkeVyrE9RZ9w3J4zB3HhuNXq4yNjREUCuy3msRpSqvTsqSdsQVQWu02Y2lKsTwCccyz+j71G7dseVKVZIZ/7pHNXqkehPKTGSk6Q0iEzEgv871MDh45X2vfZScPum7o7QFAhAE6Xer1fUbjhMDYfW+8WmVudpaHhYJds0l68Lo5AFAoMDc7Q6lUppUkKK2Iopj9/X2Io6F25EaVyfAXkx8NHByU5+bKvyYHnjlb38+vlwOXH4AMBwzT4Q7qG4uDi/fJLB1ApbT29+l0u4SZp7pcLDI1PgHFIuidP9FWCX7I5OISczNz1ourDa7rcoCoMUnodDs4cYQ2RYSUjI6OMj83z9boqK1QoVVGrZGBJ0JkZUYlM9VxJkpl9rRCZeMmc9ATA72ePbPSBKV8AsdBxAlb9+4TffbF4KzI25TvWUpZcCIL5++PnQDKfr+/cjZ98VzI+8HOJj9ks/11GCz57u777j4VoDVxHJMmqfWRCIHruBTD0HrC+975/J7SnrFhiB8EOI5Lqg1R1CMe3q+Gz46hvbI/F3KwaQhU/Naj/ikZfn/YsB6elMaenSaPkpAW0NFK2wgoOTQ/McNboB0/KaAZQXOD5PEGe1MV9hbmLDnxzCQcmcM7fYKlF84wMlImkC7FYsiJFy9Q+/IajRt3sgihA1DWoRzKoRzKofwVpQ8A9FWi3BWVKHi2zbOVR4y9chGnOoZrsvIw2ob2uQY8bWjt7PL41h2Sja3M6FCDQ+v/q/Rj1gbIuj0nxXcc4CbLz2NgPP0pr0723kAXE31vTP9sbHcwm5t09xuMjY2hPRe/UuHEi+e5f3uZ7q37mFRloc0G4To4nkdQKnDh4itUJybZ3Nxia3OdTn2P/XYjq9Oek9ANH8jDhuVzHee6kCTUt7aZ63QI5BhSCPxikamjS+xPVGF7yxId5Qm5udJdcGF6BkplG0K5vTNA7oXAHx2jOlbFdV1cx0UBqysrdP7lY7hyxcaSa2NDxT3A0dB4LfO4ZIqYkP1gBRzHEn75PgQhVCpWwajX4ME9eGig6MNomd7VKzz5T/+BIx+8T+AEpL2Yku8xPTHBU+HAzi71nR2CKMEJXKR0KE2OU1yYp3PzFtSzMlLPK9cjZTi6ZA2bWt2+co9p7lwzDOniZvDlfN5o+ga7NpZDwDjS1lPPy+Ll/SxEpvBls8lk6R3ZZQ/kqOf/5wrvgfEfhPhbb7s1tHGFHYONZ+xv71DRNkxUeD6TS0d4MDsDV65BIx4sFYPtGxeoVmFx3vbH7p4trRYlg24bMpS+tWT7S2/YrBN9sGvwoeeNIRst0PeqHtAas49HEUmng04SmyrguTiVEUbnZqlVx7ISZ3kbhB20iSrjC3MI3yWKekilSTo9VKN5IB9bkIfoks1R2+Z+/+cTYOip8vJeQoiDqQh6SC0dxPIOxnXoPv0fDQf+boTlGRGFkMXzL7B18UXu7+5DlKDSjGdACDu3fA9OHOPYq68wOjGByjykSbfHzvqmLfWmgN0aO2vrzL9w2lYuEFCdm2Xn6BG6N+/YsR52gmYUDVRHYX7OrtV6w14vL0XYNwrsehjuhz9XnmvYMHj+Hcj6sNHg2doaM80WweQ4KVCammDpwjnWrt8g2v7621Mpu2fh/DmOnTlDGsU2uqMT02k02H22ZQ3VvM3GZJ50kX0955mQ/WcZ8Ek+P9v/FLoxbKjbfVoKx97nOx960F/P95kZfr4hrDEHgbTONnBfQi+CjU3atToTSYrUhkQKJo8f5ciF8zxd3bDlbYeaiMDu8yeOc+z8C0wuzLElBAqD47r2rEozQKgXsb2+CfV95OQYcarwK2WWzr/A2q3bbO/tgurZfssHRkrwHNwzp1k4e5rA823+fhZJkCo1GO96nXathuj1IPIwaUp5fJzJpSOsXbkKWzsZwd1Q1wugFMDCPIQFu1c1mtDtkae9HOhzMRjnQbrHcGeYwbTOSoYenAP/N8UYSBWdZpO426MoJKlS+IWAyaVFwqlxelvPBrxA+XkwNcnM0SXcQkCUxAgMSa9Hp9G0ukD/OeQBIENkkVZDCg95GsPgQ/Tn10F1aBg4zd7P5+Rz+7hh0F9GG7TKnBWO5aBRksH9IQM6sz51sCC858H4mC3xapQ96+/fs1F8xQAKPsmZkyz/b/+Zi69dstwTQuP6HuVyGREEmHYnbyXiT4HRh3Ioh3Ioh/J/sfeebXIcV57vL9KWbwe0RcMbgha0IilKI81Iq5F297n75t4vus+MZiQNNRIlip4ESRAejfbelDeZGXFfRGZWVnU1PECAzD+fZqO6IiPDnIg4Ls55ZOhRAKDCe8qokDlsEHx6CevICUZefYlaMUfZtXGlwpGKTCA5vNeg/vV19j78Cla2oePrvK6RLJR42YNu6V0eVMRWyP1Q2m0uzmMTPZTgtkRveZAYQrvnqzDyjRBKW8wUOg3SrUXMhVXcqWmqrkNruID92ou4S4s0tta0kCK1hUXlXfxSDv/Cy4z8v/8fx46dpLC8xuSt2+x8+SVf/u1v+GvrAJgoHThMqX1CRNy8SIgzBLQ8/NsLsLDM8MQhAsdEFDJMvvEKa6vL1BYWYLfaDS4cMVSzRxj+n7/l5Pnz1DY2uH3xIp25Bbi9BFvbWI6L5WZpS4HyIe/DcLXF+k4F6lE8h1Bg9RVMHaF04jSHhkbxAxkaDww6Cj3WHU+ndzp/hvyZE+TGx1C7FRb+9hFcvAQNCc02VNo6HdCrFzDffgvhGHjCJ3AFjmtpS+DGLp2bizivt8mXCniWQkweYvq9t7ixuQ5//QjqftfCI4B8Fl6/wOnf/ZbDo2OsXrrCxrff0bh+C1bXNCPZb2WMFTHRFRFD+4y3O3gdDykEDQPqeZvmUA5G8ppJbfugQsECQPqACYahryUIod3uDS3QawVB7PMRyliiS5sCHc2eAMNQGEJh+j7aq0HA/Cre9UWGX29ht3wd2PDoLLNvv83i1dvwzRXdtzAwH64Bw0V49w3Ov/cuxVyO1es3WLn4LcG1Odjcw291EIPujPauQO3eixZEtbOMiK3sAxEaMQ0V9dZACbNLS6CDja2sY25sI0oldnMZ9saKGC+dgcsn4OvvwPd0ecuAiSK8fpbGmUm2gibDu01ylQbWxi5sl7vMtwyVk8LQd5BFV0cTDNyE9LwYYQ+VMJBCB2AMRLJMtBai8kb0KBgghMKIF25oeZd6DXmGoGYZrORcpi+cR6z9HHa34eJlAlvofpohFz8+gvmLdxn76Vt0SiXMjmKsYyJXdmhcn4dKQ79icQ3v+jzmmw38sYCyEAzNznDmp2/z9Y1bsLGt948gbKOFpoe33+TcL36OXSywN7fA3hdfU7tyHba3w1Sm4dYjBJ4QWIYZzl1C4SPotSjSL9cmlGrhFRb2aqjrt5HL66hiEd82uWUpWq8/j7X8Ju3aLqxshKnn0MJmKQfnz1L89XuIs8eRlonVbmM1O1QWVmnNr0DDj9sTKQCSyhkleoPvJdQcg8j2AOjMEtobJBLWuoqGQRV1V3qiHX2klDzPDNPUx1WgtAt/s6Ojpd9aJHfuHORyrBWzcGYW55fvwNYqfPOdVgJ44TrJZ/T1qn9+C/HmS6wEHjUM7JZHzhRaQOuESoN6h8qtRfKL6xw6cYKW8FmwJPKl41hbb8DWMsyvhAFvtdUf14ZjM5T+9ZeI115kJ+PSsgUZGdBB0Y68TTo+bGwjb82jdiu444domRZqdITZd95mZXkV9f5fYbPWPatMwDbguTNM/O/fMDt7hMr1Oba+uczezXnk0grs1GCoGw8lcjgwCNOHRp4KiXlLLlIRC9oyHPsDJ7yrs9Q3OnRGhLUtOhvbjJw9TUsoOkMZgpdPIa+fgYWbsFcLlcRAIQMvn6L46nM0Cg5Gp8Fo4MHuLnJtTWckiYhOaVowhPYO1HJ3H9FGrVLdPxhCYQql8wrE1wYizZI+V2QYgDK+ehh6U2kdqNDni6/wmx2CVgfyOYKMRTCUp3FoCEpZHZxYEacwxuvov89OwqmjjB0/zvTUDLXdMnN//RC+/BoqATQaOi1s4xK89RbGqxdouzYNW5BxLALH0or1FClSpEjxRJFQAIhYWR5buVpt+OobvrYtxtpNRt9+nXrg6vuBnYDm5jY7X19h5Q//TfWby9qFM3LBT3BSDyb491pjtGVUu13K/rgCWm2s2e4oNoFKxnkOG9RTpSK6F6dCd+1IOy6jaPZeAFevc+vbS0y89Dy+obN7TR8+xHu//R8sWA5LX3xDbWkNx7JpjhQ59OYFjvzkDTKnjtM5dJgjR2dR01N8u7KCNMzYEoFSBIEftlf2G1l7hyGQ0O6grlzjypdf8dq5EziugyMl5vAQP/n5z7hRaVL98jsaaxt0pISMS3Z2hvH33uX5f/0VQzNTtHd2OHn6JFc+/Jjb27+H1W1aHQ8vCLCVwO/45AJ44chR1KtvcH2njlpZ120YLcHkIWZ/8c9MnTlLu9bEcy3Mlofn+d27zwa4J4/x3v/5X5ReOkdDSErlBs8NjXDFyrBw5ZpmbIdKcPYYQ8dP4lqmjkRtmzSlT6VW1Uxwo8nyxW8Inj/D2KF3yYWUdPz5cxzq+FwPTLxr8zRqdXwBjA5TfOE8Z371S0789G0yrsvskVmap89w8d/+g4WtbWi1MQ2dK9zoNzcmx9/UXhe1eh1fKZRpUfc9hg6Pcebtt9hq+Rjrm2RMC9c06bTbLC0tQa0FIXMaWVM0fUHs6olB5HbZfXfkAkrofq1dMmXgh+tNwvYuzSvX2F1ZZ+bl52kGbWRTce7FF5n4X/+bteJh1i9dQbbaYJsEYyXG3n6dM//8M4698BwZx+L0+bMsTEzwbes/2NupJCxEyaHov4MZ3XlWROnzVLy+DqDb0MomRMiSGnpM9B3isEzHg7l5lm7dwp2ZgEIGP+dy5tVXmGx0WMoXWbk1h+91cI9MMfremxz+xXs0C1nqlskh16G1uMr6/IIOOqnQAkR05xviNR7dle3+LTnpXW1ldF1DKR2sT8v6BjqGR1S+K/hFedxlGHyr91qEViYGUsbKhJYh2O50mHn9AsMdyebEEdpzi1SqFVqmIDM9weg7r3P6d79Cjh9G+AFGK0B4kpvfXWX54rd6nxXA6gaVq9fZWFmlWMjiF12MQHHy7FkK//pbbroF1r+7il1r6NzzI0MMvfwCL/6Pf2bq1VfwMw7OSy9Rn5jhq3bA8u5uPC6BlGEQu3AvVVrRd9eI6YlR7SoCwjFvtuD2PDcvX+GFsyeRbgaZtci4Fj/5za/YKQ2z+vdPqC2totoeZrGAc/4MU7/6OcMvv0AHRdP3UFKys7XNza+/pbO5rYUts7t+ROhJI1UYDT7pSj2AuntbzUB6jsTK6HyJ3bNhv/I2MQBRO+LzqM+CqwAZXv0R4dUwvc7QCtftHXa//Za1V57n0NkzSATKsTh14SVmTIvFib+ye/0W7d1dhGOjZqYovXGBmffepnR8lqoMaAUeXth2LbyF55sfIG/OsXzlKoU3L2BmHK0AL+V48WfvcEQZbH/0BVs35nRWg1wWNT3J4Z+/w/TP38VzbNqWgS9UmPtEe+DFLv0tqFy5yrVL3zExdQinUADLYvL4Mf7p17/migfbX3yDbDQJDBOyGdxTxzj2y3c59eufURodxjx+Av/Eaa785e98vb0D1OLx9jwPKfV1DBHPRw/V7ZsUvR1EmRPuMH+90xjGLAlgYYml+QXG3n6dTqWq06pOHeadf/0Vt1o+1UtXaTWbtEtZss+d4vzvfkN+Ypz1Thu/7eN32qzcvk19cbHr7x4EsXeCVBJDJvZb6P6O/p3Yp1FSG20iGuphvvR4RPQno3pjbXNiT/d8qpUKvuchBLQ6bUZHhnn5jdf5bqfC7qVrTBouw/k8fqvF7fVV/KCBcfo4L/+f33Lk1CmGMgWCvRpT+RLfdhTB4hoN30NZEk4f4+TUNAUJ5U6HZieg4XvUmk2tXDCNOLXuXeMxpEiRIkWKh0YiBoACITAwEqmxAmg14euv2W6U2Z67AcdnIZfXyoEbt7VV99oc1GvxgfJotu+IKVdd5l11v+p5i5b8ESoMuqRIpH6KAun0CXuhFUvbJrWl0jS0CkBKGfL4AtbXkV9d5OaFlzj6059gSR8zk2FkfJzJX/6SM7PH2VlYxhImYuIQw8+fxZw4jGXasLtHRQqWvvyKq5cuIasV/erQRdkUOl5AHO29RyjpG0WlYHOTzhdfcPncSV786U8wHJusZXFo9igzv/sdjZPn2Lw5R9vzMPI5pp4/T+H8WdTwMKrtMZLNMXZ4nFXHjauX6xsszc0zff40mVIBgcAZHeH8e++QxaB8ax4RSDJT44y8cJaJt15lt1jQUcRDftb3vFCBIaADZiAZzuYZyRdxDRhyCoy++ip5YTN09BibG5tkDo1RfOMVsi+/RNN2MG0bqx2weus2m7fmuuNw9QprH32EOHOc/MwUpmVRKJY4+uqrHLPz1C7fYmd9g6YBuckJpl55mcKxWRq+j+H5HCoWaQ8NkzHNmNlRRN4kvbxVPOSRF0ynQ3NlhcrmJiMz0wghsAt5zly4wCk3j1peY8jNkLUsdjY32Xr/fVr1Za0EUwoVBNrDQxFGbg+F0dBbpfvOcL0pqe+VCn2/tMugyW6Zq1f57sN/4I4NMVIs0haQy2aZffsnnCqNsn72DLWdHQzHpnh0htELL5I7cUQb19o+eTtDa3gUSxg67ZoIXeXDe74qOQ6JdajXiAotbRGPKRJ96EPYTyN+FuLb5EEUr0HAyjKLV68x+eLz5C0bx7XIZbJMvvIKJ3IlNhYXqbdbFKYnyb18nsrQMOuWRa4T0GhUmLtylcqNGzq3uWlAIUto1woN6iqM0dEfW0F1xz5aeyrpEEvfvPUz3von6l88GnHZcP4CGe5L2nvCkAG2gGI+z4k3XoexSWo359nb28V3bYpHj5B5/jTtfJGKUliGgZ11mLv0FTe/+hJWlkBYkMvouBzz83z9j494buYw7lAWx3VxAnj+zdc5MXqI5XPf0d7apWMa5GZnGD9/juGTx+mYJm2pGHZcskNDuJbVzXYQBKgwlWgU30QrgaI72Xcwm/ZRTnLIcF0ol2l8/DGXj05x/t23cITOXDFy6DAzb/+Ec2MT7C2t4Dda5MdGyZ05iXXuFOWsQ63j05EB1XqdG59/Tv2rr6Be11bJ+GVRyrXuXMZnx12bHRZS0O8jHp0pyTpjd+pBAktIW/1t6BFupKbL6HtTGFhGuE954XWeVhu++Za5z05RmJwkm8kiDYNMLsf0889zMl9k7/YCtc1NTNfFnZ0hc/YUcvIw25UqHQOEZeigiErFLvA4IdXWqvDlV9x45Tyv/OynuEohBbj5POdefw1GD1OeX6bdaOKUipTOnMQ4c4LqUJEdoO15mI4ZhhcUYUaM8BqAoWBpidVPPkOdOsbR06cxFbhuhpPPn2fcdCifOUdlbYNAGIhSgfHzZyicO4knTKg1OZTNI0dHmbedfbQlVK/zV//3Kv4XRC700V7QnRN174GKpYKdHbzLV1i+cYuTL79A4AtMYTB5ZJbp3/6GxpnnqJT3MMaGyZ85jn3yGGuugzJNrKzN1qXrXPvuMmxshqlriMfLMgxMFQUfTVxT6FlvovtZgaFEzx7bc+UnpOUorV/EG2ltHt09WCnwfepra5S3txmeHkd4PhKYPnWS0q8EW1NHmHbyzI6OUd3cov7n/2L11jVUq82Im2V6ZAzTsPEwOXPhFYaFzdaVG6xub+GPFhl78RwTLzyPN1TEsk2Er1hbXGJjZUXH8IiyK6VIkSJFiieCWAGg+RUt+BhCIH1fa2a9MJjb5i5cugHDQ/GddMoV2NnTrnFR8J5EfQl5/f629liBLUAJbAmOVFhKR6tVQiGTp74EAoUbQFYKXAWOlNhx1Oq+eiMrnhI4QBaFrQJyKsBFR86WWTd04RXw6Tdsjv4n05bD+AvnEENFljIOjaEc/pkjyEAS+BLTsqi7WVzLptBoke8EdJaW+PaDD1j98ivt8mcAniQTCAqY5KWgIxUZddBoqTjvMsKALy5Szmdo2jbjL75Iu5CnPmwj8zm8x5ZUJgAAIABJREFUk7N0Wu8ggwBhWZRzOTw3gyEM8h0Ps95k6fOvWPjgH7Cxo6tfWGXrk6+YPX2a7JkTSNfmVsmg9cJp5PFpcvUGZsejmMtxeGwM37Vpei08BbYysKVOSWgJiPKoNW4vcvGLi5yamcQ8NsNO3qSRyVCbOkTnZ29iNRoYjoMxMoS0bXLKpLRdR6xssv3RRbgyp+8VttpQEfD+B9RGRrF+9QucmSkahTzVXBb/nQt0Lpyn2WrjGYJGLsu6k6FqO2SEINvxqdyY4+YHf2Hpyy+gUQcZxB4kojvCvYgsyOUqXPyW5ulTTA4NUcs4NF0L+/wJ1KkjOK02LgbZloe4eh11/QrML4NU5ANFXgYUVEBG6vRahoyC9EV3OYNuC5SPE3gMBR4lJckoSSsIcA2Dqu+Bj2bWbizAv/8XtWyB2V/9AjGUp1bKUBsq0pgo0X73BbxWGzNUVuxlMtQsk5IvKQWK5tIa1z7+TFv1Wi2iAHdKyTjeVp/oAxjkpKIYSIpSYUvt0W3GEdCj6PsJRlUpcgqyviRjKPJSkUeEFtmwrARWd+Dvn1E7eoKpX/8LVcukXCyyUyjgzU7Q9l7Dl5KmZWFZJsKAXCApNtt4315j6/2/weVreq+QAgId5DInAwpKkVcBvvRwlI+J1CnUhOjuVwlFhoXObqC3GW2J00x16EEgItFB724OkJWQCUAGAlMa6FCGYfBFZYI0yEsDR1h0PJ9atY5tGDp//ckZ2kcnKL92lpbXwXBsqpal030KA0dBodakc/s69T+8D599qffejh/enQ6gswV//DNbrs2L//M3jBydpWbbbBVzdA4X8S+cwWt1CISgncuyns1RN0wKEjKeT215jet//wfLV67qKxkCkDo7SU7p+cpKiS8VZpgXPs5sMWC32gdF1wrf8vQfPvqCWiaLLJbIv3SesmGwMlwkKOXxj00RtDtYgaJtO7QyGRzLwggCSpUqhUqF9kefUv/9n+DqLWKBKL7yZZJVgmwAri8xJThKB80MQsWPVvztb3XXqp/sle6rJaW++hboc0WEirquYkF0aSk6t5TAVmArvWbsMHNGOz7fwqt0UpFRgowSZDFBGXq9g47r8t08/OcHyPEjDL37E6qOYKeYY7uUQ06P4r/2HIHXwZCSgptB5PMEHZ/11RVahmB0bIxh28WttrAD9PUCNwONDtSa8Pk3BGOHMIojuKdPsJdzWR+y2CzkMI5PITwP4fngOnQKRWzLwatWaeztsRd0KI2NMFMcxl3fxUbo9oswI1AtgL99SSU/iv1bG/P4EapDBTbzGbxSjs7LZ+l02gRKYjsOuxmXluNgAQWp2NtaZ+GTT7n++Rc6FkAIWykKQlCQkFMCGSrYInqIvEBiQVdJkD6u8snIABeFDzgY1HvUfsRzr6khnNcg3K8CAz6/RG38AwIzS+74LLv5HNtjOdTIMP7Lz2krvmlScWyyhiAvFYVqEzm/xK2//IPgq+/03oDUcXWEgEAx5MGobyCUSV6ZOBh9i0uEzTRAChwpKARQ9KEoTQrKwlEGyCjQr4mhTLLKICsFOQkNqbCVAsvS19IUmr9otuHqNWrfXubI0SPIjM12zqFzYgpj+jDZd16nrUzqviI7t0Rx4RarS7dRV29y7aMvGT48ReHEMbYzDo1chsbUKPX3XsNuNclmHOxiHs91yXmSUrVJ+/Yiix9+RvXWos6Q0PFjz7J7Uy+mSJEiRYqHgdX/h64iIITv6zvupgHluo7qHplO/UC7aguBkN3s1v2s1YPpdcNDOdCuqJZtYbsOvmUiTaHvjUUnhQGYBpZp4joOruNgmTrgzv7TJHHY+wFCKjKOSybrYhkCGfiYhoEXNTxQUG8SfPQJX9iCo0Gb8ddeppXNUCllcAolhG0TILBaHo12B6ft0/Q6LM8vMv/nD9j89DMdgR50ULww3U3GccllMjQsOxQ01D7eMxpBEcVnaLXhi6/4wjbZaDQYe+1VxOgo1sgQZj6LYdnYQo9bs9Wm3WhiNFrUqhW+/vAjrv7bf9L5/Este5oWdDy8by7x2fuHeS6fwTl+hFYpj8qNUcxmcQ0TW0qsjsfu9i6rC/Pc3FojPz3J8ydO4LY8PAgjhIcNX1/n6n+9z1XDZ/o3/8LI+XMwOoSfncC2bcZsWyuYajXa9QZya4eVxTU2//tDFj76VN/nNoVmgjserG9R/eP7fCR9zv7qF2ROHkMVcpjDJchkMCwLU0o6UrJXb1KtN8nUGqzfXmT+j39i7Y9/htXlbvCrO9FlKN9IqTMvcPUqtz75BHtmiuyFl2i6Dq2cfqdC0Gp5eM02jY11gmI+9hwxlMQ2DXIZlywBdSCII/GrXotkaC10DMjaJvmMi932EIQ55iPzoWGAm4X5Ra7//j/ZlQGHfvoWmROzUMjQmRzBdGws20b4Aa12B6/TQdXqNCo1bly7yfz7H7D1wYfaY8c0Ub7OOS0GLZV4TBQikDimQSGTQdg2Fal0f0RCAZAcVcPAMgwyjkPOdcmaPk6YIUNG5YSho2cvLnP5j++z52Y49MZrZE4epW1CM2NjWlZ4hTzAqFQxWi3sSp1rly6z8vs/0bz4TZgaLDTRhrmyDaVwTIN81qXlmCgVEAR+QiBQXQtY6F1hGAau6yJsvf5lEOgxMXVmCUGUz1uPlBACy7LIZXMEGEjTiu/XaguoiWXbuJZDYXiUrcoua5UyC4uLGI7N0RdfIDc9hT8+hDB1qjbpe1Cu4bY8CrUmW1evM/cff6L88eewu6uHVum2aaFGwOo6W//xBz4y4dy//AJreopmIYc9NoTlOgjLwjFMvHaHWrNNq96iUm8iby9w/fd/ZPtP/wXLK90pFAa2rfdRI/QoUIYRejpEY3Z3tW5USt/XDp1CvECvkY8/5fNSnpFGjaFXXyTIZzDcLIHr4JoWjmXTbns0my2cZotMp423usrCx5+y8Je/wc05fR+95Wk6iq6tKR180rYsXMtOKLi6Kum7uxgnvhfoMygIsCwLN+NihWkSe8r2DIeI32MYBq7jYjtOeK2H7j4ZeiGZpoljOziOi23ZmELo4GtRzAHXgeu3uPT7P7CmAsbefBX36AyeIWjZWjFmmAb4Ps16k83tXVavXmfnm2/h6FFmxico5fLI7bK2AFsOUVpInXvTg8+/5LN8luP/z++wnj+H59qIQgankCdjmmSEFh5bzRY7c4vMffsd9XIZd3Kc0dFhhrLZMCuLvsqgIuWgElCu0/jLh/wDwcl//SXDL56jlc9glEYh42A4DqaS+IFPrd2hUW9Co8Ha8hpbf/2QxX/7d5hb1HEyXC20BkGAZZpkXZccJg3DQAbdMyieiuQ+G+qJbMvAMTSNxIH2khMY/zP0kogUCQpt7FjdpPrBP/gin+dc8Te0sy5BMQcZF+lamJaF6HgE7Ra5eotSvYGxusat//pvVv76d1jf1AqSSBFqGiAlrmlRzGSRtotlmBgqui6WaFN8jQwMqbCVIGs7FDI5XNsJlRTRfmwgFFjCJOtmyGZcbMuMaa87RiEtrK6z8cknuCdnmfnJayjXpp6xyNkuluHQloJOpYHaKWMNlbRHz+I6y3/+M//umJz9za+wThxDjpUQ04exXZecZUGnTdBu4VXr1CtV/IVFbr//F1Y//Eh7QvgyNh6kSJEiRYongx4PgP0CQK9FD9/vPSsjoS+0fNy3pf9OiCoKAuo7uyxdv0mlWkFUqrCxTXljqzeYW6vN5tIyc99+R67RplRrsbu5pT0V+jumlLb+tdvsbm4yf+065uY6u4vLNCrVMKd4QkizbajW4G8fslDZYWFthZGXXsAYGcbPVxCGhQIsL0C2fVqb22xf/Bb18ec6SNP6OvEdbwDPY3djg/nrN9jazFPb2WZva1sHZxqgPYmU/rGFqVqDjz9labfM0vIqw69d4NDEOJlCQR/sEXPX8ZGtNnsra6x+8hl8+BFcvwW2RZwm0DJhZxf5wQd8165hvfc2U6+8iOk4CNOkGQSIjkd7b4+95RU2v/4attepvvIiaxJo+8jlZeqVqh7XgqXbuL4Of/gjK40qKxvvMnXyJCKTwbKsMEo3iFaLTqvF8teX4MNP4LOvdRCwrBPeC1S6TsuC1VXkH//Ela11eOctJp47R7FQxMxkkELgK/CCAFpt2nsVdq/fxP/7R/DZF7C2GTJbRjieOubCgaHvIoueMLQC4rMvuJrN4nptRk+dwirksBQEHQ8qNeq7ZbYvX8HfK+vn/YDK9g7y5hzb9RplT9FeWaHTag0g8PB9QUBtc5v5q9dpb++Rb3s01tZpNRqa/vwwYrSUmqbn5tj6v/+Xrc1VzNcvMHH6BM5IEcMwMUIaMDwfZEBlbY2ti5cIPvsCvr6sg0V2dNAwgcJUWh+0b/1GwkqnQ3Vnl5W521R2djE2d2itruJHwcQSQrSOZC+g47Gzts7cd5fJOQ6u51NZXsFrtRK0TJhHugWXL7MqA1a3Nxl+8zWGpyZQWZ1aSyF02rVGg0alzO7X38KfP4AvvtVKyUyY+lESz9ne5hbz129Qrlap7e2xs7aB3w5Tb0UW/agZCmh32Fhe5uZ3l5EZGzY2qe2VdXqzKEVXkmBMk+rODqu35tj0OuD7uEsbVPZ2u3MlBH61yvLcHEbWYqNVp3H5Cvz978jA5/bWNodfeQWrmMdyHK1oUBJqTarlCt99/R38/SP47CLsVbWg4AW6zckJ831YWaX1+//g4uYGxptvMHriOEOHD2OZZhzFXUpFs9FkZ2eP9ctXUZ9fhE+/1FG7rVDRFOhUfHsbG8xfvkJ7qECuE9bfaOi9Qx64cvYhmmYTdJyO6Byp1+HDf7C7u8Xu6hLixecZm5nBcB0wTAIlMIKAVr2JrDcoz82z/fEn8PkXsLKu4wlEEfPjNavibCnLN27RKBWxKzX2NjeRza63S2wdvpeGK02jzb0yK7du0alUya5tESyvUK9Wu+dfsjohwA+obu+wPHeb8uY2w5kc26trtOr17vj5Ac3tHdbmbpPJ5dkzLXYWFghqNU1zyTvirRZ8dZHtVo3tzTXyb7zO2PQU0rWR4XqXXgd/t8z2jVv4H30C167Cyy9za3gUhkcx17cpb++EZ2Ji3BxHe/N9+CG3G1X4+buUXn6R0ZFhZLVOW0k6nodqtWnvlbn9xUV9lsiA9huvsTE8xO3dGsatBcp7eyFZqu6+QADlXeTfPuBGbQcWXmP4xecYHh4Cx0aYpr4C7gcIz6NVLrO5sID38efw8Rdw7WboVSA0nUpJu1ZnZ2UN6bpkGi38udvh2tMBC1W0FxHSnFJQrrC5uAQoXAT1+WUqOzs6JWokEO+7ExYpllTXk8C1YWODzvvv802jCm++xsj5s+RyWaRjaVKUAUG7TaNa48a1G7Q+/xI+/BRWN/Ua8oKYdBEGNJqszt3WitO1LbJLa5R3tsP2iAQ9qjgeQataZXNlBWkY7K1vsTp3W2cXiOhLBgSVCmsLCwTKp5R12Zu7TXV3D3xfj5FpdM9GAVz6jsV/y7HWqnP8pfOIfAYwaXsK1fIQlQbyu8vsrm+EqUSB5VXaf/gj35R3sd59m/EzZ8hlsyjb0SoU6aN8D1GtsXHtOuV/fAKffKkzEkXDnAr/KVKkSPFEMcBuMWgvFgmGQXQ9AJRmwAz054M8AB4YBjqq+8Rh7KNHcLMZLD+AZovqyirByrqOgGyZMFyAMydwS0VcqbA6Pu2tHepz81BvhcJBdJCjg4WNjWBPT5EfH0O5Dl69jre2hbeyrq3QsYdBqKVXAWRsOHoETh4nOz1JdmQYO5shkBKz7dHerVBfWce7eRuWV7XHRDJ9kQBGR7BmZyiNDmPZFr7n0dzYpLm8phn9Pku1AIShAwR1080pzUhMTsKJ4wwdO0JmbAQrkwGlkIFPUGsSbO1SWVzGm1+Ezc3u/UwpupGdrdBds5iDk8fJnz9DafwwbiZDEPi0qjWa65vUV9ZQy8vQacLkBM7UJLlAwW6Z1uY2rfVNnTlBCH0n27FgqAjHjmIfPUJ2/DDZQh7LNvE9D2pNGptbVG/cglvzUKnrtnl+19UYpcfeNLTSopiDo0cwjs4yNDmJO1TCcl2kUnjtNt5OmebaBu35ZW3V3CsTW9xDpU50d3dQtIrIfhtEUfsFmuEbKcGJYwydPEFhYhwzmyHoeATbO/jrW1QXl2kvLMPmDuSzWLPTGBNjmIUc2UDBToXq0ireplZcRaQIaIE568KRSdyZKbKOix0oVL3F3soK/npI5xFZmKEEbdswMgxHZ3CPHSE7cYhMIY9ph+m+Wm3au3tUVtfxbi9opUyjpb1aQoHZUMRpl5KGJk14YbDC4RLm7AzO5GEs18FstQl2dqmtrKG2dzUzm4Rp6JRQJ4+TPXxIu7QrhWo02L11G7Z3uymwtAlUD3w2C4cPwfGjlGanyRwaxc1kEELgtdt0dveorq7RmZuHhSXtviwMbUGKJ1DAUAGmpyhMjOPmsnieh7e1Q3NpRacV84L43r5EaAvr8BDG7BFKh8aQloFoNpGb2zQXl7RiJ+mVY+qAlYyPUzx2FJXLIhTYjSbNhWWaGxv6Drdtwegw2RPHESNDNGWA2t6G+Xnd/6NHEKdOUpyaIFcsYjoOQcfD29mjtrJK+9Y8LC7rNHfC1PuCVGGEe/RVFjO0CEZ7w3AJjsxgHZtleGYKp1TEt0wsBKrt0djZo7G6jje/oAXpWqN7xUiF9eWymEePkB8/TJBxsAKJUa5Sub1AsL3Tzc/eTy99iI2W6DUX+4gJwrSiFmRcGD8Ex2ZxjkyTHRslk8tiGiZBu02wV6G1vkVtaRluL+jUn36Y1sDvU0SYQgcXnT1CfmKcjGlidnw65TJ7i0uwvaPpPQxueE8QhPQ0iTk7Qzbj4jTbsFOmurKGt7G5b7/GEDoWxbFZcocOkc1ksBA098pU5m7rtKS+r9fIsaNkJ8axQ2HJq1ap37gV0qnfS3Om0GnVxkbh9ElKx4/ijo7gOA5KSr1Pr23QvL2g6aa8BxPjmLOzFB0Hs+3R2atQXViC3XJ3A4rONxPdptkZOHmc0WNHyAwVsUwDr9GkU6noveTWPCyt6Oemp7CmJig6LmalTmNlncb6llbwBOFZa1mh8B7uc1Pjeo1PT+EMl7AzGb0eOx28coXGxha1hSXdh909HQA1uubhSZ1GdmoS98g09lARy5eo3TK11XWC1TUdJDM5gUKAY8LMBObRI2QzWX0lpNWmNr8Ia5uIMBvKftXWAAo3DU27lgGlIswewT55nNLkOEYui2VbKN+nU63SWNugdXse5he1kiXygknorshnYfww5tFZssUibqeDWalR39ikvrwKrVZYVHTPrIwD0+NkpybJFYrYlk2rXKG6tEywtQ2Npk4nOjNFdmqKTC6LZRj4rSaVhSWC1Q2MVhsIr2Ql12QhCyePUTx5nPzEYXK5PEIKGpUacnOb9sIyldsLyL29bgA/y9Rn5LGjZI8eoTgxjshnMU0TfJ+g0aCxuk51bl6v42pdr19fxkaOVAeQIkWKFE8Od9x3I3mVuJCRYOh61bYiPJzu3TZ0j62yjFjrH7uP2nZ4kCYYJBEyr1EE5YjD93VdEdOsjQGhcOk6+tlOW5dzhHaP9ALwfO0eqMI+RYNhJQ5/V+ezJ6eFbloe7JR1mq4oNE/HI0o5FEeBjgKWBYFmaGImyUAEASoRSyHmmRNWKwHaqmca+jlTaMXEcBEKeS0UBYHO8b0b5gwPlBZKlIyHhrBlEEb3tkSXyRwqQSGn/16rd3OFBzpYHYGv267Qzxlm90pIBDtsm5Ka8Rse0gK8bWkrabUB5ZoWSiNGQB4QBbhn/MPxy+d0na6ry7Q7sL0HlRqoRDCtpLX3HkgvyWwp0PRnGaB8zVSNjmjGL5DaG6Na11czPBkGuDP0fBCEqQLRtIKhaU2qHuNUrGiItQ9Ku86aoYOOChUists+CXrMHVsrpmxTK1uGilrxoqS2ku6W9ThHXJ6vmc9oqfQr7Xr7H/7dtnX/A08/bwmdmUApfXcz6AbVip8xQpoA4owHQoRKGB2dPbKqxevLcTS9BZ6mlyi3tDB0X/bKmrENlKbvUACMhi2Of2VZelx8P05rh2vH3gFCSiyh3bF9lL4TbYdj7YX31COhJfB7BTyR+G2YCStj+MdYMRp6JEQR6iO3XNsm9pawDN3PfA4KBT2mzaZet82W3od8GQZrFLGSNUoP1hPUUClNL9HcI2F0SI+hbeq2tDpawVhvhEKItiQaoXu8gu4Vhzjaf0JoD+SjtdZFihQByFAgHh2GfF7TT8fTSsFKTbddESsrRNjvnr0i2kcNLXQQSP05CnDo+3E6SJm4snZXOLbeA7yOXuOmiN3d8XxNz8n1FLXDCvegjqfLmmY3fkIQXp9x3HCfCunUCL1AggDo27eis89Ar/l8To9XJqvrrdW1cq3Z0TQdxszRrv7h+Wja4T4dxOtGEe4nkeLWMsM0dll9priu3t/qDb3+Gu3uPmcoPSY+2p/QtvX69H30dQztvYNCv98ywn5Yer6HSpDN6P55vo4pVK6E54iI6dQQoQIpqsd19Bh1wjSwTngGdLzwuk40EZGru9J9M8I1Hc1HSFOahVAHknfPfg2679H1LIHmAYp5Lczb4RhXq/rcDLMjxV5KiXHv0kqXRnvWX0jveq6075oinMvIky/cgzFN/RPFmhEhnUI3TWS0ZymFIWUcLDOI2mMRjkuglSZDJX1t0bD1Ob1X1r8Voet+qIwzw3k1hVZORLyIbYUeP00dU6fe0LSYzNSSHI8UKVKkSPFEcB8KgORh2mW8k+gXJh5J6yJLbJQrNnKJSx6o0cET5dGO3OQizkZ1I+33BAYyEj8icSiFkoQRKgu6Ao3oWuDN0KIRKR+iYYnybvtK/w4jPcfCf9KyDF3mPb4DJ3qF4L4Z0rMgkFHANYNQSRJacKK+IfQB7cluACOp7w1HdUB0HztkOEyhO231jWWkVJGEwpDqjoNUmvmIvhehMigiHiNk+szEOEdjESkmgmQdBwjrcX0k6os8A6J2JsbeJ3FF5d7VUklBFkJFS6jLiWJNxO8mbH90h1HSVYBE80GiXXGlXUYwfmlEw4YgCiKmudHIOtsddkgw7KaZGI/EvKD0+ojGVkVt1Y1IKgBUX1O6grzoCu4mCZpA01LU57AvBolumWZ3zUbcswxiITLyGuoq10IXXzPxE3U2et5X3Zzk0bsZNCYG3YCE0drsjrkhVbwGfCPssWF03WAjV98gFJ6SUcIjD6h4DzG7brSRJT2a44hRj+pVdNdT9J2ZoOHomkEUbC8U/pNzf0f5O1oPZjhfltFdc5F0H6CFqni9SZ2pArr32qOAetFeFdOS7NnkH4pp79+Doz3HFN09EbSnkp8YCwgVSH17c9yoSDATibaq7p33+1AGxjAIhWLRncOAcDwUOnvOoLMinFfC52SCPgj7b1pEaWHjPod0Fwln3TUS0p4pusKsQXcv8mW4PqIOqi6tQldDJgElezJz+PH5lFAEW6K7hyXPRj+xp5j0LkAVnTUqnpKecYzWtRWut0gLESnPoj3LT7yvf4OK+hzRacQPRGdoeJ6K8KUKuntrrPVInLvhs3daX9FrukeJ0d0PTaN3rUWI2hSortV/X8V0acU0u30JgsQGHWY3wtDXPeLzN3w2muSoLwnlapweMyKC+AqUVnhEaUuj46bnLIr2fAQ6ZoHYf96pZD/o0o0R0U74TiW6e1o0Fg+8eaRIkSJFiofFXXmhPjb6/it4QMT1RoxP/8uigz5ZJmpsJHSRKB8xGP0v2Ve3il8cWQS65ZPMf+LZZAUxk0/3Z78E3/dYsm0D3jsIIv4fccrCnnpFl2mLGNA+QVgkrSNEzD7dwzx6LkJSeOknjLivEcOQnJv+9qneZ3rGqh99Yxf1LRYgDmhHMg/8fWIfTYvE70gg7r9f2k+XSSXPvr6p/X2N6UIcTOf7Giq6v5N02f+eJB0m5Y/EK/SjET1Erqb9c9hbdf8a6z4P++gxWn8h/Qwc40Hz29edyIMg+d7o8YPfTc8YJnl0Fb8j8UxUWTJgY/JFybcl3zVonvvrTPbFSMxbssHxHqIG1HkHJIMa9tQdd7ZHqBi4PyX7GM3BQWNxp6b0fR74WM976GtvogaZaG9PG0T3+R563bcQErT3AOhvm0qOSVQk4Z4N+8c+amJPgWRbk0Sp29qj2Eo8EguNcd8P2Iv60beX93Qp+jq5l/Qr0eK9JPGOg/o4qA371nhiH40eiuoepEDoeZ/o/XcPXfTTSPRu1R2vOGjkHfak/leL5JQn6C55LvSjf70NrJguHYhk2d5nulfX6PajZ/iSY9Z3NiQnJtGWvhlOtCfZrkTJ/r7000E8FvS2LWqf5M5j0Yd72kdSpEiRIsV9425n3veCgYzJU/uOO0lG9/h49NijKDfgMYMHvZ7RP0p3a8DDjuo+KSBRj+op0WVY76FZjxx3Hpd7WlT3UuigMn1/72PR7nvke3tjJJ69X4oRCIxQEOp3cTigdfcyf9/LHA9ow4D33+MUPVY8rnc9TL1PYg/XMSqiNyR/P8JXPGCtj2onfFQ9S+4R/e3Zt6feZ70P3s/B++jd2jNov+OAsnd/9/21epBc24/7ac+Dr7E7nUH61O/T+NxHqx4ej2r9P5F9JEWKFCl+hOj34n8qkNzo7+XAvSseSSWPCfdzoj3g6RdZpp7sENzvoB8s9A8q8XRB3eHTk8XDv/vhalA9K/cgJL67l9d931xfv8SRwEFNe5JNflzv+r6H/c4Q+628jwHfxxgMUoE+yXd/f9i/3w9qz6DxeHQK/DvjUQuhj66ufo7p6V69KVKkSJHi+4UA7QyXxNNwdDyMVeJJQoT/1218mlt6J/Szmw9DEQ9rrt3/7ju15okYhwfyU9+PWfreBIP7Xz29vfl++/ZUrqK+gX8yLPZTPSJ3xeNuvUhMyt3232dRJHp1+NDkAAAgAElEQVQ4Dww9NgddJrtXwfpBce8nyN2o5PvkTg5+90GtfvQ0/6D9f7yrTyT+rw44ax5FC1IPgBQpUqR4PLCifzytrOaTaNf9HjL7ne8exOE6eWg+ht7dN/cY9Sh5qf5B2vawfbmzFWiQ6+qjevNAHGgculcHz0fHvgyyVe2vMVnq3lfP9+3DcG99SxS+p4KPD1F7e+5n36kd97WR3ddo3OXZPrp7ghv949+z70y1gxw3vg9X5Ad99kHaKsL/ouc1Wd59T30cc3VvpHav++j9PnOXau5axZ1Pl0fr+dNLqQLVY1JQD7RoH5/g3zsqB581TxsvmSJFihQpungqrwA8C1AH/PvBania8PTp2VXf7x8zfshj8UPsU4ynqXNPU1seAvezFn4gXb4n3M94PFvj8vSdTT9GPJu0kyJFihQpkojtVk+jB8BBxtfH4V53v078Dzde39cNzzvhcTuFPhyenMvlo6z/0c/zvV8BeLTvfRJ4/HvQo3MdeLJtfTBb8IM/+2zgXp3Hk84ZvSHmkuXuvv8/zIg+ydkQ99Cju+2nBz95P+14NPV8f/vZk3zvYLu6euLtuDsGt1R/epzv+/57niJFihQ/HDwTVyMf/T2wg9zWnvqhSPEEkd4/fIaxb2d7Uo7PTyGeiV3+0WP/Li/oT34nEt/of/0ohwoYfCr+WMciRYoUKVKk+CHjR3oFYBBbk7I6KVKkSJEiRXoapkiRIkWKFD9cWHcv8qzjIBe1e3H2vFu5FD9kPHychxTfD0RiwpLePVFYtES5x4rHSzX3vEv9SIm3GwSv3x0+Gajs3oK7/dhx/yfiUxCpM0WKFClSpEgxED9iBcCgz1H59NZZCo07UsCP1LX66cbdIuirvnKPcq0/Oefph8kTMLCyh67k6cT+7gzu4A+s248FD64ESEc3RYoUKVKkeJrwI70CcD943FbCFM8kUrL4geBRCutP9tZ0GrkkxeNCur2lSJEiRYoUP1w8tTbMx58BAIQIQ0Cp/bUKYYR/fyqHJ8VjhKYLhVIgBAwgD10u/J1SyONBtD5h8Bo9GEYYCV2hkHFdyTp61/fjEHceP1XcKZJ71H95h6e7Y/LDpeB7WaPReKl9FwJ+nBg0ZkKEFKXuNEbhSIab5p2oL0WKFClSpEjx/eGpvgJwsENtXxqnsGCXvxckZIf7FB7ip+4o/KV49tEvFPZ9myjXpSGRIAoRfcmD0liKe8H9jW2YBG2AajOa70jB86zb0PclOYj/KPbvXSJRRHWvP+gxkf21/SAw6JoEIoz3H9MBiFDRJxBItT8uwI8NB/X+7qoigRAGxKqUp9a+kCJFihQpUvyo8VQrAA5CUuAXIvq834rXb+HvF/j2Cxa9ioNkHYPLp3iWIPonl8FKgB5hf8DnFE8G97ve9Px0xb7oc6/l/9meQ5HY/A4eHbVPcan3SQGqa/mPlCF3VoQ924jEUBFqQGTYT8MwulZtqUVbIQwMoQjkD3MsHgb3Th8qlvmjc/mHSlspUqRIkSLFs4qnVkU/iE3f11CBjmIwKMV38t/hjwg/D+xwMgmyGf7I8EeFDKTcz1ineHbQL/wlBaGB5VT0K/yHhaYLBchw8UQ0kuKxon/uBl/bCQV+Qq2gEU7UoEUbfvUsIRLWIygpk35QiZKJ/ib3x6SXQEy3oWvAD3Bj6zncon1d0LvHgx6HIPFDeCXgBzgmd8NBx6hxoKeT6KFBASgRLqxEhCGhumSmeiYliR/feKdIkSJFihTfB55aD4A+79X4R4V3NeMvjPCnP7i3Anw0cxeWEbLrF7uP1VCABSIDZg4MSyCkAZ6JbCv8lvdD5JF/VEhaPOHgGBBdN/EQAnDByIPlGJjKxJAGQVvSaXjI2Df2qdWnPdOI5sIwtEQh5WDJvXuf3QDDQBhaCSCEwjAFUiqkr4uISBB5hqZLCIEhjO7+ZxgoKdkv3UcPoPc+C4xQ+JUKLeRGQq88SCP67KOnWyZ6LEwgB/mSgZNxMA0T5QvaDZ9OzaNTDxC+eOaUQ48Cou83hKsp3DO7V0hU33UAEf8/vvcfKZ4scEwQAUhfr7lAJq+hJN+UIkWKFClSpHgSeGoVAP04yGovTLAdG8syybgZstkstm0jpaTVbNFqtvE8H+lLpBcQSP9AVsOyDKanpzj53ElGx0ZRPtTLDRbmFrl5/Sae7z3GHqZ4vBCxG7RhGLEgJaW88zUAdPnR0RHOvXSGsUNjGMrAa3msLa9z+dJl2qqDDPZ7EqR4eEQKG/1jhBbGu491VDbnZpmaPMz4xDj1ZoPl5WXKexX8jv+MBCmLhCst/Bum0fVaUSoMXpdErwJACMhls0xPTzE2Nka93mB9bYO93T18FSCV/MHLXgIwDDAcg9HDw5x57jQnz5wgV8hiWw5BR7K5vsPi3BLXL99gb6uMfCZo43FDYBDtl13lppKKQAZxGY1ILRVeoxOQL+aZmZ7i0PAIrUaD1eVVtnf3wmf7VfwpUqRIkSJFiieFp1oB0OuKHTIYpupaF7JgH4Pp00McnhmhOJYjk3cwTRMB+K2A5m6H6kadzYVdlm9uIzeBDt2rAYlrBH5GkjmrmP3tELOnprBbGWpLLbw/N7i5eFV7FARx6xCqP5hYLw7mq5OuvCFT1X/PvF8gvUNddyuxv2z0rwO8IQY8IhIFH0ReuJOtR4iEEJOUXxLB9wbVk0QvOxn1LhKQtMlXuWCWIFd0MCwtSPntgE6lg1dV4O93G1aGQjkKY9Zj5tfDnD5/HNkEaibGR4pL898QdCT4vfaz0BE9bttB7O7BvVP7+nqncT+YhT64lvujmMHlH58TrwFIHU4sq3BKgkzexjQNZGASNBWdSoBXD8I73Im5MyXKbKNKUHoly9mfT3P+7Hka222ufzHExY8usXF7G1qA7ArY2vPjoPvOg9fOvj4nJ12QENC73kdChB4I8RyLAbtI5OUUrtGMIjNq4eQtpAjAN2lXA5p7bb2f9Vv+AVxQwzD2SpZXfnaGE6ePs7O9y+XPHL75oEpn0dOWbq1V6Tb6KdAI3N02fGfKi7tkgDIhKELxecmZn47z3IUphoez2BkH18xhBg7DewWcb0zWmqvs7O1ER058/St5JUDtW80Hz+LB7X8w3IvNfD+lqr6guNFX4Vwn9vX4RBOAoVAZhTts4Ob1nTgRCLwaNPYCVJuIkLutMUFlgCGYfLfAK2+fYvLQOEE94KsPBeW/7NFe0cWF0G9USg6YzWQvBq+1e9nz7pazoL/OB4HoWTJdF8QfezDJFClSpEjx9OKpVgAAmlsJLVkqcuF0gUMwe2GY2QtTHD47RGHCwRkRYAUYhsAwBKJtEpQVRmWSvYUmty9usnBpg/WrO7Cnum6e0d1QB7zRKv5sBf94GbuusDyJWZIEtupyRzHz1MtC9DNng1np8DklQsZsf6mI0YyuUD5aW1T3fT2tH8RPJ7oYTsMDiQf9zp7xO/uh7sySDXJR3V+nflu/XQoLyMChMyOcev4ko4dHsG2bzaUtrn9+k41r20RGLSNBGhiADd5QE3+min+siqqamOUsjAR4th8qhZIDpkiKfv197pMRe9odfTNozASDaeHgcTnYzfZehf87q7h633vPdDHogX7CEjJek9ZhOPHSLCfOHmNouES90mDl2hpzXy5TadSRXa1ct9ECrCk48k9jjP9zDnO0RWnX5bnSabYr22wsbXcHUw1WQPW2VSQ+3s8KSCoxdSej+9D7u36AeGdDZljw4jvnGJ0ZQrgKWjYbc3t8/Y/LtHfa+wlDABaYR2D2nw4x8dMizmGfoZrNqcIM65sb1LdW9XWKHmJPzrjq1jWgWY8Lg+j+XpUAov9rC8jB+KsOz//2BDNvjKGGauxZDQJTYsscGVnEHSmidnxa2QYqSfiQGIZ+wTLUMBBFvpc9ir/elj08+k+cQePSuxeoni4YXR1UWEGf0iiU5UWiW8YYnHvrNCeem0EJD68asH59jyuf3aK+20T5fVphAXhgzMLxXx9m/I0sKqgzao9ywp3h9vwC9c0yhtfVG/TvX11SFvsUqYPGYvBI3Vn4T76vv+4HQmIyxKD3Px16tRQpUqRIkQJ4yhUAsSAstFuhZYHlWkwdn+SVf3qBU28cp3AsS8sp07artEUVaXSQwsfEwjEyuLkCObvEiUKJlyYcNk/X+Pajq3z76bdsLq1hGN3I0Eh9v1iFrrVwABOhkt/sZ917ig3uWfdp1Vtynyv6XUfpCeEuvMy9RhIfVELFJqlejjtZ3UGeEQe/ITEjEUNrwrHp47z75k85cfo4+VyeG9/dxNuQVOZrtNptHdSvv7rw52n18I91Uo8Qgn7L1hNC/zsNGC2N8OK5l/jpL95lenqS9dUNPje/YvdmjepKY38dCpBQzGeYPDRFKTuEahs4ymGk6DI6PJqQb5P00rXJD65U3N9Yq0H7R/SOpHB2F1GlA4V8iVdffp2X3zqPNAIsmeGrv1/m9jfLbG5t7m9qGBclnxGMj05QypWQnsJQJiNDo4wMjbBkbdGmPaCfzyK67RbR+AqgDSNHs7z3zrs89+ZRqvltOsqj3WpT8+p0qhVsWSXHEEsLq2xtbHdjJETrPvwv8gS4/xY9efmvT3cRC/c9e9jdGiRhuDjMGxfe5J2fvwHCo7JV5xvnKstXtqhtNnu1gwndUSEHE6OTiJpF1swhOzA2dIiR4VHW7LL2mJL7Kf9ex2jALv+9oeecIlrZz+o6SpEiRYoUPwY8xQqA8Gg3FNJUYAMZGHnJ5vy/HOX025M4pQAvV8Y0FJkgh9V2aZdbBL6HYQkMy8RwLbych+/u0iagNFbg9ZOnkIfKfPz7DVp7gXahDaNiKykIpE+gfKQICFAEQnUNeInfQmkGpt9u1teDfdhnGej9sufPPWzEA3CR/VnPkkL6PmvyIBN1KPF0hUEBIhRhorbehQvrVnMnP4A7WBuF/tAvgB80FJFipmecQ0t+JbNJubDGbsmlnctTzm/SdGsEpoq8wbuOCNG7BQTCwzd8fOEjDDBEIne69lbvfo5/DWYHB/9bhU+Ifd8N6ucgUthfrp+5vnfiicdAiDjdJtxZQaXC8rG0QZI2BhCJiGRwNbizoQW36uxSzq+zW1zBLQbsVLeo5rZpOy0CQ2rPIJl4PvzpVAMa6x1EOUOuNETQFNR229TKzUFNiUc/KUr2LtVIFOz3nuntcy/2qwyEUN2vBrRE2z1D+gqzTnScKtXsBlvFAoHtkfFKtLIVpB3GJTHoBjZM1B3UBPU1D3/bYmisRKvVpryxTW2rTtDx7rAJDFiP4edwOcY+Ll26OtimKnTHD6DlxIj3FTjY+2kwLcftiaz/WSieMJh6YQhR8PFUC7+h8MqS6x8vsHhtjZxVpGSNUr5dx19HX/UaUL3qpYzwb919IOqH6ikxYN2J7vddRfP+vsXviMnl4LUX1dZtQa+/gL6Xrw526UlMYXR1AgM6bp1adpvt/BK+2aLR6lB3KwTmHeLhSPCr0FjzmRwrgm/i2iU2dmo0ym2CIDo7e9vR2+qwzaqPDhMfE8fT/gbE34mQ7vbvur0qo9A9Quzf47T74aDB6iuWaPu+Ev1KkhQpUqRIkeJ7xFOtABBCoIxAC/9ZsM/Dc789weE38+wUVjBtUCrAaDqoHYfmsqS6WafTbmLY4A6bZKcdMlM2ygwgB6awKJaGOPazQ6ysj3P9g1VoAl70VgMpAyQBgQqQIryJHHEZRlIPIGKeKmK9ZE8PBrHEA5jBmLkRfYVVnOCgn1nqPtqtVdGVRXpkWEN/kglB60AGZeB7RE89mi/rMpP9Xgy9mpIu53YQyx7zV3HxJMOVYGlFr6zYbcz+Ovf9SQAmlO0Ntt1l8hmTrJtj21mjbtfwRUCk3OipNFIAGOAbHp7hYwoDSyS46FAD1K/gUDDQa+Aggb6XVkS//Jn4Rn9hJNjNg4X7Hgn2wD/Fn/vmQsVEpTtjGEbYr27wuP1iiYgF0m69YSA/1e2DEtrj5kAhLxREmtb/z957fkeSXAe+v4h0leUL3qMBtHfT43tG1JCiRIk62qOz/+g7562edilRoihpyOF40x7daHhvypusNBHvQ2YZ9PTI7K5EfcA9B10NVGaYGzcirr9Qtg84sXeRdpdTu0zNOsMzOmip+s+9Kve0jgKef7VBtpDn8kqG9pnP+rfbrK9txxvVBKJY4olfe1VQGGAodkXWfcr4Pn2J1wosvW0ynEQNOfhyuCya7I9CoIVACd2PA/JNRdU64sQx8O0uWTFKy6gQyW6/v3NrqUEraJ0o1r7ZYSQ7hXU5Q+WsydrXm+yvHxJ21CsS9qvCv0jmNRjkoLLba7RkvI7eh9p69bVkx4g+yvQwqf0b5KQfeKI3HAsYg8ySQE50UQWDoNYl8iTbX+7z5K8OCNagbNax7Dr4EtnueXmI1+6rnv/GebH9dVnxxRA9vXogJ//0N1pfBB1oV15Rqgy80gbC7fn9PNxnj9aSxKcQxzX11lHoV6pj9makB/0n52XXCqhZpxzZO3TNJoENDbNKIP3h4Z1fCgfaR/D0sw0cmWdsZIJWt87Tr9Y52D0Bf6jv/lBjfPTwKwUIEd+75zHRo41Xxe0fooUBXobxqhNFh0i0HaJ33mr1/ba0ZkD5r+knQbLs9dIn3l7+meG2Xj/MC7iAC7iAC7iA/0z4L6wAYHBf+2BPS/7wg/e5fe8KUbaFZzUJZJdOt8ne+hFrn+9w+BioxM9jABlwr8L8HYdrd65QSo8ipCDohizMLmD/qICsfMrqlxuxAkDEgkqUhAHEF7kYjEXGQrDsX/UJ86rUa4TgHwaBiIXpHg8jQAgJeiCkC6UTWVQnjNEPtJQIHsPMalyySSTCW5JnQIBUiVDBa6wcPzTW4bJ5CISEHtemXxFght95VQmgtXqlz3hxhQApxRAPO4SUHk51zK32LI7qdWN/rSLg3BD6eO5be/QAVyIeCH2Nxiuy0KAhBnTZ+84EqWTCTJ5/p0dHw3N/XfnBHg9sCNkXvHvM76sMcI+lRSchKz8w7dfjIkHUq2tGvA4k3i5xHLCBUqB6SfbOuXoMEN5P4tjD26tahVfmPaCm8+18b0C9H5n0oRRRUgJQJHk+YgJK1hIxYL410ITtr0/Yrv49o5O/IWoKqtsdOGJI4WckSfk0QsbvRzp6ZRB6QCP6h/D9/Xn0lR7JbIUYEggE/QWOz5DeW0NaDH3+VyliTZNSKk58mNBvH0cqWb8okacioAHrX++xfbLH2EQBr+1R3e7GOPgejfed5/tzkFImQnkU40jEkpOOdFxSsL/Wry78v7Ahk0f7SyyGBNXeu6q3P/6dElOCi17Ij5mFkcIItulgSgMhBAcHBzx49JxgL3mnDUETeotgCCOmJaHjKgm9YQ/v4d5oxeC3V5UFgzUn2VfJxDUMZeLrI0X0q5PEQqhIvG/Uv/N+iTuXCY5jBY4QAt3Lq6HFOY+R88fyeYE1PhbjKgBSSIQcJK7EBiLidB09vYICHQJ1ePbpJs92NxkpukQdTW3Lg1O+Txr9sqwDlEo5wF2v7CCJQmNQBbSnNBjOGvAKll5zHvXONyElAkmsAIz7Uwqi6IdUkq+haQHSkPE+0fE5EuNU0zsp+nRzIfxfwAVcwAVcwH8R+K+rABDJ9WkDOZh/e5TFt8cxcxGB8HGiFOkwx+l3bR7/YpfKA2CPQb1nBVjQeQnPH3ZJ/WmZyR8tki05pGyXgptn8oN5qqcNtrd26LTCvoAYKU2kNZGICFAE0osTD7ZBZzWprIm0JFIKgo5Pu6KgmYw7qXnct5wKMahb3hdoNNrUcYKzLLgZB8s2QUPX69KqhOgWA34jYMDIDAmd2ojHiWJQ41pAT6qQaUhnTWzbRCtotzy6ZWIFicmgFngP5UPta+I2takHQlUa0iUTJ2UjpcT3A1qNbjzWaID3Xlb2fkOaONu6Ps/wIkDbxAkWNeBCpmCSclOx3qfr02l0iZrEbrlKn4/PJRH6fkhDktRAx4rHjgvSDRF2SIRHhATLR2c8wnySzC8cwks0hHMNWim0johEhE+AbwREdtyVyivSWQfDEhiGxGt7eDUVe5cMryMxQyh7SoCh4SoDlBnF/Vog85DN2himkQj7mkbVI6oP0UPAD/hJ99h0PehHJ0x1bKaK/56cADoCldJYRUinbQwztnj53ZBWJUI3kuUzGOCp39PAaT3Ge7K2vecNkFlNOmtjWkZcorPt4dU1dIfwrWK5RffWzQZSIFJg2hopI7TyQYQYKQUZHzK6v2Y6SvZCbw1DoAzU4Ux6cR+J4bJHF1qF9OXMV2K/44QQ8ewUicfDcLwPvfnFL+hoqA0DtKVjmtVAFtJFE9t2MAxJFCpa9TZBlf5+lCruUqHidns4EBCkIUgFeNKnKwNM6eGlOniZNuTicUU6wUU3GXpETH9dCM/g0KzFYxuiGYmRlLxL5tA/QwChUakQuwBuOoU0JEIIuh2fVi2A1hC+zhlOhzZNci7p4cyavb8lFl4rA5msg2mZBEFAp+UT1ImrNPSgbwr+F9QvPXqzErylQYyAGBH4lo8tLJSWVKo1amfJs26C54B+lZdIRoNGe7hIpiOiROgUsRJX9Ura9frVSTtotKEwEKgeXZoJrfRoTeiY1pM+IivCyEI6ncI0TaIgotPyCKsaPOK1gXNn9nl0JHemleA4ApWCVNEgnXFBQhgEeB0fv65j2ujdU1Gideydl1Y8Xu2CtkIiERGh4jvH8fHdZnymRvT0sxihQAfJXH3gADiCsuwM9sW5CoCJ1kfH+NPJnaQjUK4mVdA4bnz+CSSdlke7FsXjNhjs8b7idShUL8GrFmqwn4d4A22DVVCkMw7SkPjdgE4zuWt6+0P12k7OzZ53QO+uDWMcqUJEpmhjWyZogYoUjXoTVUmesRjcJ7zmnr2AC7iAC7iAC/hPhn9dATDMAPV+/4++tYYsf0gQ8zD/Xon8VYlnnhHqgEw4wv4XVR79P7tUPkkY3x7j3wNJzKQ24Vlnn2JY5IM/v4uVgb3jTXQjRUNWEekhy44wQRiEWhMSEYgA3+xAESjA4sokIxMlnEwsJPlNn9phnaOtE2rbXWiCwERHPWZkyNTSY0By4EzB6EyW0mSJTDFDKuWgVUS37dE87XC6U+N0p4mqMmBGenMTYLiQHhPkp12stE3YlVTKTVplHwzIzElm5icpjeRIuRZCSzr1gPJBnaOtUxr7foybYRhmSnrMtASKMLpgMzY7Sn4sh5MIA17Hp3pS53SvTHm/HStBRmFsIkPGzCB8iVfrcrpbJazFEmtMPmpgpbOBcRiZSTM6VSI/miGbz6DRtFotOhWP6n6V6l6D9jHQpk+DEtGvQvVaGTgJHcnMOjDaRYxBcdpFOF0i0SLSGmW1SU9LJu+5hHWNDCRGaNAut2keRqhyPEYJaBURqRCQRMKnKVqQBaZh9soYY5MlUlkHxzHxml2qJw1Odk6p7HhQpW8tg9dsox6uXTAmYHQmRXEyR2mkiOs6qEgReBG1covTgwqnOy3UKecF1lc20MBjYCgbgSKmR3Oo3wyYkzA2l2d0skiukMWyDcIgIOj6NM86nO7UOdttoavJe8P0mFjFE2NoX3lEHjIzMDZTpDheIlNIYzkWYRTRrLdpnrSp7Nep7rViZtkHaQgiS2PkIT+fIsx7FJcFmWwspamoiybAyQrGL+exzDZGaCBCA+1D+aBO+ySKFQspsKchN+VgmTaGbxM1NGfHZYJmnFm/NF3CyEl8o4v2BeGZprHXIayEfWXaOc8VAeQgO2eSK2WxTAdLOnQbIWc7FbyzLjpUfcUHY5CfMxmdHaEwliedSeOYFt12jNfacYPKXo36vodqgJHIYlhgjEB2zkbnfdJzJqqgaNEhkF0UTaKRkJGbeWqlJiYWjkqh6gL/WNM4aqK6EeTBmYb8aAYnkyIIIvxqRPOgQ1hWiXdHMr+eYGPGc0yPx2fUyPQo6UIWaZloDV7Lo1FpUj2oUd9r0j1J9iV6SEqNiUOmITdl4044WBkLFWhODiv4VSALY5MGEzPjcVWOlE0Uajp1j7P9CoebJ7R3gW7sGaMVKD0s/Q4vS+L94IAsQnHRxsv5lJYF5qSkm/IRoUkQatLpPHPLpzQJMEMLI0ghfIvyYRX/JF67wrxLbtwFO8KILFRDUttt06x0UGGSjySKBhs5DdkZi/xEFtuxkR2DTtmjdlynXQ1BgZmCzLRDaszASptEXU35sEG3GuN7ZNZgYmaMUqlEKpUi8iPaNY+zgzIn22c0jzh3/g3ved0TTHv3ZgEKs4LxuXHyY3my+QymZdL1unQaPrWTBqd7FWp7HtR0QnjxnrFGIDUpEEVNdt5EZCMCfAIVEhBilCLGr2fJTgTgSyxSdGsR3llI46QNbQ1pyMwLsqUshmEhMOnUutT3moSVnmZV0M+62tsvo1CalhSm8+RGsmRzGVKpFCqCdr1No9zkbL9K5aBDeNYjM31OIYlIaGsug1u0UVaECqFyUsc7jb+bWHAZny1RGCngZCw6HY922aOyX+d0u0onuWsEMvHg6pWISX4cYApKMylGZosUx4uk02mEEAReSL3cpLxf4Wy3gn8cK3CEEEh6ioQL4f8CLuACLuACfn/wb/MA+H3dVBqwYXlxjCtLV8EzEJaJ0gH7x3t8+tVDtp43BvG/eui9YQjB34fffvGEbvGU/EiW3fUTGtsh5d0O7XrynAIVxRYDQ8augSqMGCmOcv/+HWanFlhZukw67yJtgTAEuq2J2oqd53t8/dvveP7wJUErQggVu0NqHQc0So0wIV1yuHp7mdvv3GB2ZQbDNTFcA1PGEcAqjFBtQW2/xdNv1njwxWOODk9Q3V6WQkBAJpXixpXLvP+Tt5lZmOXsuMGjh6ts7myRH8ty6951ZuYncBwTwxIIJYk8TdSWvHi0zucff8nm6jaBF8ZWm1fQJgwwHChNFLj51nXuvnuLsdlRhA2GZaKFJvwl1OwAACAASURBVIoU3WZA7bjJs0fPefjoAbOLM3z4wQeMFcbw6h5rT9b5uPFbTjpltJ8wqj23SVcwsTDBWz96k5Vbl8gUHMy0wDANNJowitAtTVAP2Fvd57svHrHxfJtOw0ej+54GfeEzcdvt/0FBLpfl/rvvsfL+HEGuRlRqYqYg8jUtv0PWzfH+W/cxVrLIjo0ZGeiuZn9zn4//5hOOz2qxskFCEIYg4hCQKFDk3BzXby8zU5rl7XvvkC24CFMhDRCBQeRr9tb2efDpI559+5x2uUPoh4mDxlC8uYjp3HRh5cYSd9+/xeK1OaysJJWykYaMrVuBRIeC2kmTl4+3efDlE/bWDvE7XQiGNXTiFbwMbw3df8SwJemSy5XbK9x46xqzS1O4WRsjJRMXco0K45rzJ5tV1h7u8PzBGoe7hwSq03ePHvZwFQmDXBh3uHxnhTfvv8HE/DipjIN0JNIwiKKIwI8IG4raUZPVb17w8ItH1M5qRH5ERMTC7Dw/+vl98pdsgmwNSh6mcug0PaSWLMwtcsm9jlFPY0YWIpKEHcUXv/mSz//pa/yOwnEM7t6+yTs/eYtSoURQVxxvnfLbf/6EtSebTE/M8NM//SkTi+MEMoRQsLd6yO/+7nM2qxvfV3oKIILSSJ6f/tFPWLpyKVYsSIvD7SP+8Rcfs3a8Hgt7tsHYXIlb713n6t3LFKeKmK6BbVnxURNodEegOrD1dIdvPvmGl49eEHgBUQh4sDA3x4c/f4/RywXqxhlyPCIIu2jLAwnz0wvM/fwyeAIjNHF0mvaRx7Mv1vj6k29pdKu4eYM337zLrTduMj0/S7vVYef5Pp/96kt2qvtEMhzM0wRhwuhknqt3V7h+9wqTi+PYGRvDsVAGaKVRvibqKvx6wO7TmL63Vnfwuj4Imbg/RwgJ2bTLm3fucf3ta0zNTdKqd/jq82/Y2dni0socV2+uMDpRws2mQMqYlrqSbtPnxcN1Pv31F+yuHUAoiYgQ6vXVRlQS146G5cV57v/Zu+SWbPx0A1XyEL6B1/KQwmBpcYmV9FWst1MYfgozTOE3FV988jVf/vM3YMP7b93njfduYboSfMHh5im/+dtPaZW3Yi3eMG1IyOdd3rz7Jm99eI/RkVE6lQ7rTzb56pOveV5ZB6CQLfDWm2+wfGeBqblJaqcNvv70AfsH+yxfX2Dp+gIjE0Uy2QymNFGhRnU0fivg+XdrfPrxl2yv7QMSFX5f5SkFyBQUxjLcvHedO+/dYnx2HCMtMU0zvq/QqA4EnmZv/ZDvPn3E+uMtmtU23VYLFFy7fJV7H92ieClDx6ljjEHUUoRWiCktluZWWPqz6xhdG0PZWKQ43a3w6PNnPKw/od1u4mQN7r/3Prfu3SLlZjCwWH20xie//B2HlcOkJuFA+LcdydhUiWtvXObaG1cYXxxF2hLbsQZnTCAIvYjacYPt5/s8+OIJ+5uHdNtdIhnF90GiuM6mbd5/+z433riG6RhEIXz39SPWXqyzcm2R229eI1NKkUo7GI5JGAVELehWfZ5/u85n//Qlh9unqO4536a+l93E1Bi33rnO7XdvkhlzsV0by7ZirxkflK9pVzw2nmzy3acP2V8/xG93CYMQ+W+smHMBF3ABF3ABF/AfBX0FwCvO2ed/ORfaGbu1x1bF2Nw3HCf5by0H969CwljJMRhbHsEas4lMjYhsLE9y+vSYrS8acUxh4roZKwF6ApA67yoZQfQdfFs9xnKOaZ4S5wvoxI+Sjj8D5cfJyaSiLRv4+S5jd9Is2JPMzSwyMjKKMAURAaEKYoHEVywsjyKmb9Bx6rz8aouoZ12PROz2aQLjcO3HC9z/6V2mL4+TK+QwDIs4S/HAl7ZV6yBmbW5dWoSpLr/9xRnN7XDgRijBMz2i8Q7iShex3Mac6jAx4pBtz1MYKXL56jzZXBphaDQRge/TacWC4srCJH7pGp3/1WTnwdH5UIAkW762IX/T5o0fX+bGu8uMTLnYaY3lWji2g2GasTAQKEbaGcRyB3WtyshkgeJVA1cqjFMLt26h3DAWzHtJzSxQWcXcmyO880c3uPbWHGNTRUwjdveMdBS7bhqguoowCEhdm8W6DPpXEU8/W48t0QHny/aJIYGa+HsjGzF/e4x3/uQ2DfOMk2iXavuMVreJQuNmM0yOj1EwxnF1DjtKIXyD1Dcun336VdyOil2lo0AT+AGGBD8VUbye4s7CCvMTC8zMFbFdE0UYM5NhhN/tMjWXRc5cI8p1+e4fHxMd6UGYRs/imli+5t8Z5d4fX+HG3SXyuRx2yuxPR2mFlJJIR5gNH/fyAukl+OofQp5/swt1Yrfb12SY/56DQCKkRwXF0o/HefdPbrB4cx7DMUjZLoZhYBiSMOwSRQFRoLAW8mSuL2Eu+DT+/oTTh+r7ijcLdArkBNz62Qr3fnSHqaVR3KwTu75bBlpApCRBAJ1agH3FJXfzBqlLgq9/9ZD9FyfgQWbO5sr9BeZujXMa7XHa3aPVadMJPYRpMDKTZ2xxhrwcxVYuRmQRNjW7p3vILwS0IUpFMOmRuhqRHZUEZwaN0EQU4r1UV2cUFh3Gb2c4C0+Qgcny2DRrmwU2n3HeXbnnGm9AehmW/miEfElAV2NEgrxM0TTOYqtwBkp3XG7/eJnbH16mNFEkk0ljWiZSSCSJNTtUdP2ApaVJ5OxNgkyTF99tx2ELDmSmUtx4/zLzdyfYb29y6O/SCNt4KiDSbQrTU0wtzWLpFI5O4YgMje0OjbMaj76Jh91xIoLRNvaSIH/VgVqA3RKIrEYbGiJ9jiYyV+HuTxe5+8E1xqbGSeVdDMvAsGyElEQqIgwDwigk6goy12ZJXVHw9x5Pv9pClwc0oSV0zA5qvI17OyS9EqDqPrO5NPnaHPPzsywtT5HJpkFqfBXgBwHNegtTm1xbnsUrNPD+Z4ujtXJ8pvZ9/WPK7oUA9T1qNBRms1x7b4XZN8Y47u5y0Nmm7bfxIg9hCvJTOUZnJigwgqtz5PQI9cM2Wwcb8Hl8F9hzGudGhMyF0DEwAoXOKKIoHJwvvavGhCDdQU91cG8oCjMGxr6JXdOogh97OXXAs1sw1cW8EmCtdHEbEfOFIqWGxaXlRaZnp0hnXUzLIFIhXb9LvVLHlCbXlufxRpq0/rrJyXo9Do8Yvt9MUA5kLxvc++MbXH1zmdG5LE4a3LyDISXCMEBrom5E6EcsXx0nc/kOpU/SfPvbhxw/aYELI5ey3P7wGhPXSxx39zjpHNEI6kQECAvy8y5TV6dJkcXExcblYO2Ew+MjzCcCKhBkIsS0h3tZkcsJDCVJlSNI95JvqEGIlgH5Oxa3Plrk9nsrjE4VcNImlmPi2A5CGqgwIgojWk0fvSC5cX2B9DWTT/8u4MVn2/E97tM/k4KUj5gKsK5FGPmItJNicWIU+1bAyuVLrFybxbAl2lAEyqcTKPxqBys0uLqwQCtfp/mLFtXtZtxuNFhrZxGu/2yaN368zORsESNtYBgmhjTo5RPQWpNqaZxLi8gxhfr7kJdfbgEQoc+FAVzABVzABVzABfxngwnfD3X8wbtJChBxHGgS5hvHM2v5f1ej3XM/t8GdhPScS5gLMFIWZjOF0TDwXgjEEWgPhDJfqSU/NJah2DsZSVTLoItG+iq29sMgZlIQW5mEpNFsxnHNYwHGiCI0FFs84WU1wo98MBTSFBjSRNgCYUkyt4pc6yxQa1Y4/KIehzgKjbaBLEx/kGLl5xNE8zU23H2kZ6I8gdcMaLebGDa4WQfHcjHTKYxLFpfS49T9FR7+zSrN7SRrtwBfw6m9z2Fhg4Y8ICpFdFIdTMMitBUv5Ld0yz5h5CMNMIw4aZpwwBZpRt/LcM1bou41qD1vx0yOJnZtdIFluPbf5ln4gxHauWMa4ij2+u5oVEOhVWzFNg0D27EILwWUJg2UrPHS+poRNU12ZIymW6Up6jGlhUn7ErLvwM2/nGXmbYeys8pp8JKoLum2oNluEoguqZyN4zpYrokxbpC+n+NWepmOaLD+u5NY6B2OE+7RTm/5bairDhu1J6R3A3zbo23XCY0AbUUY0qChajTqbaTawIxSOEEG0bE4rJzQUI24HQ1SmQhl4HW6mHZAVAgw8gobg6rYpdzawa/7aKEQpsAwAKEQGUH28hgr4SxntTIvP92LQy+S+NFejou5P0xz+y+WSC0H7Mnn7HclqqFpt1q0G22kIUgVbayMRKQ06bE8kz9KcTe9REfW2PmyATUS1/wB/X8vMiDBC2MwdV+w9PMSYqXJM/kFyteIlk3Q1HhtD2wfJyNwbJuUlUVMGkx/lONKOEe79Zz2bhjjv6fEcIEpWPlZkUt/NkF3osyauQ+BAE+glcaPfKQlkIaBaVsYjomVcZj6qMDlcIkz74zujmLP3+Dx8Vec5It4ZhPPrIOUCCdOjHbo73HSOEWGFk6UwQxddMtgq7GJZ8SVQ0IL6ukjzvJbmEWfyLNpZ5p4bmzpPDvw+GT1V9xYWEZMh2TMAjpM4c5JrBkIDjmff8MCJiC1EnFaegmzI3RPwTsUfPfsKYdnZQDMq3Dtz+eYuJ+lOrpPgwNUWxF0A9qNDsoHN5PGyhooM0JkJZl7BW6wQsuss/1lFTw4DvZZPX7I3qogcJtEVkhoBhgyQhhdTjubVOt7iNDC1A42Lp19xVFtC08lbk0mVNInVPLHFPMuDdWknj6jbTZRhOdcmuUluPuXcyz/YZF29oAt65gw0oS+IvKBSKBNBVYElsI0TJyii/2mxa3cEp7VZv0fTgYx1BICCfXcIcelNFWxQZSOCK53SUXQdPZYVScEZwF+5CPMOK5e2iZSGDgZl4kPM1xpLdBoN2m88PtxJgOnjF62fvoC5VFnj6fHDzjeytGiRtupxwKXFZ+fZf+QqneGEVi4QY5sUMI/URw0N/sx8FX3kOOCS1jwMB2XWq5L22zEncrYI0gNhal1HKhlDznKr6FzdYKspJEt00k3+gqAlhlSyxxTHjVoGftEOUV408fVkkbqkJY6oXPcIRIhpitAgpGJU8666QzTf1jgWnOJWuMB/qYe5HExE/q8DFf/YpFLP53Ey1XZ4izOs9DUBGFIGEYYholtGhgShBORupTjkjNCRY1w3KhAB3Za6zw7esheyqEuy2hbgaUJRUiEz2F3k+PmFkbkIFUKU6c5O2hw2N6lm8SVKRPq2SPqhX2idB1bp2imjmhTHeSLSUK05GW48ZcLLHxYoubuUpe7RGGEChSEAqEMpJQoGSIMkHkDJ52nOOZyK7NMgzqH/1w9F9bUNaDsHlAey9N26yhfEV2KyM5BI7XHg84x3aqPj4e2NdpUWI6DlXKwsylmfzLK9c4y3/7tU7ztQalNsjB732b2j1282UM2jCOCQOPVA1rVDjqATD6N7UowFalijqkPitziGvV2k5O1s77y5kL+v4ALuIALuIDfF3wvBCBmrF5RASQZ0kU/G3ASe616LsD63Of/FUgSaU2MTzI2Oo6UsVu40hGnp2ds727Fyeck5wSe10E/o3Oo4oR856xI9IVqRJL1Oil1JgDTMMFQhFHE/sE+m9ublKtdpAVT01mWV5bJWDkc6ZB1c7xxexa95fDL1X+ge6b67Y6uOHz00UdcvblAkGly2GxwXD5ke22fjdUatQPAhcUrcO/ebUYLk0jLJJ/N88H7H6K2LL44fIBq069TLWSsjFFhbB3OZrIgBJFWrG28YH1znXpD4ziwtDLO4uwijm1jCINcJs8792bpbkk+3v6kXwUBCaTgR/fv8sEHb9JJ1emIBkhNoLtsbG+xtbFLvQopG8bHcixdusTU1CTFUpEg7BKFUZIYKnbH1yqOgewJBYUrJj/56EPeeOsqxljAQXOLWqvC9osjnj3Zo7odz49ZuHEnz/Vb1xgrjDOaGmXu1jKZcgnr9AtWv9kcXuQYhknBBNWEB48fsR29QOY0xUt5JhbGKJRypB2X09Mya6ubVM5aqJbACTIYnkNrt0ut1um3q5TCMIwkxj0uhyelwBAGJ8fHvHz5kqOzOkEE07NpLl9bIpvKkjJS2KbNytIMwV2T8lqTSrs2sJ53YPbNIj/76U/Izzu0rAphFNJutll9vMqTx2X8s3hNUqNw+908y1dWSOkctk5z58ZdrHKef9j7hKNGdRAT+8ObAcI4BvbHH73PlbsLVPQplmlweHrMxrM9Nh5X4hjYPEwvwVtvXmdmIoVtO5TMUd59dwR20vxu68uBFTICMQr33rnM+x+9SWEmhec2aaiAer3Owd4RW5t7NNpgpWF+rsSlhUvk7AK2cBkfG2fyw2XUmeQ39U+p7Cp++9lvSK1LspMOY4sFJuemyGZyNBttDg72ONw6pnnaxgozWKGL7KbYWt0bJDfTJKUjY0uxSqp7yF4ZvgZsbm1SPHKZnBhB2ALXTbO4sMjOzBEbJ3vnk0JakBsXXFq8hOu6hGGIQnJ4fMLayxdxDowC3L27wv3791FTPg1ZodlqcrR/yOqTF+xtADUoLMD1e/Os3Fwi5+bIkmPq5iJOLcvx7v+H9wKOj9p88ulvES/aGCMhy3cWyY8UwIAoijguH7L+eJOgrSA0MFUKdWDRWdd0vH6Wv3j+iWeW1nHojO4lD02SIloj8NEfvsU7H15HFVu0jAaRAW2vxcbWFtvrR7SbcVjQ+FyKxStzTOQmsW2HFGlmri+Rr08hDz5l7ZvNuG0PKNK3iEahQiBIu2kEccLTjY2XbGwe0eyAm4WFhRIzs3Ok7Rym1kwUx3jrjVG8l/Dl3ndEHZ0kSRgUZjt3Wxmwe1Dnk89+g1gPcccsxpaLTM9P4qZSdFod9g6P2NvYp3MakvJdXK+AqNtsbGz3Bfw48Vui7E6qL/RKxfU++udN8qOUIooiVBSh9asl4eJn4gSgsQeIFJJ0OhPnVeh22N7cZWNji04AThYuXZpgZnaGtJEmQjFWGOXteyWaz0O+3X888FAxgBzcf/8uH374DirtURdnhGFAtVXl4OSA/f0TqjUYKcLKyiJzMzNkLJd0Js3E0jyZPyhSPqrx8otTNjar8Nt/xFiNMEY1i9fnmJ6bQSIJ/C6nx8dsrm7QbSikdpCRS2svoLut6fborrcuGiIVoXSMG9kr95CcG1YJPvroPu++f5OGdUzXiBAmeH6LtZcv2dup0q5D2oXJmTwz89OUcqO4SNJGjnffWCZfn+KfTj5lf+2QoOMNctkkfIFSCiEFruuSslM0ag1W11fZ2d2l2obMCMxdGmN+coGMaWAKTSFX5K0336K26vF0/3l8pkiYWrJ4+97bzE7NoLOKs3qFw9Mznjx9xvZ3AQSQX4DLNyZZWllkpDjOeGaS8fcW8HYi/nH/n/CbQ14kF3ABF3ABF3ABvwcwYWBJif//Su3jXpZrGaGzEU7RwrZswm5IuxGgWkCQJDcbSp7ca/d/C4ZcK9N5h3TOBkOBMOMY6LMWjXKnb93XuifB61ca6cWIDzFhvXLvw7McchoQAgxDIrXAVCaGktjYbK3u8fif1zncCGLLs4TKfJP0jyvceG+USIUERofCyAjT18fJzWTolhtJxnXIOjmswKZzEGIV0mS7U2w9qbD6dzU6G8ThCMDWFkwZVUbvT6OsCKsgkaOCieujZJ9b1F8E/XXpKWOkNpHKxNAmpkrx4tsNnnyyxclzHSeNMqB98wT7xzmu3LuEsEBFPtkJg5FLadIli3Y5iFGWh4k7KebfnEJnQoQUGKENbUHlZYPVf9qlsg5UoWXD2WSD9vXnyHdN5m5OxFZvqZGauFyiSEoHRvSTiy2+PcP8vSkCI6R95hE0LMqrHs9+vUf1KXCSrMcoPD2oU5RlMjfzVMwKSgrGb5aY255i9dlmknxsCPTAKkhAnAH+Kzh73oVxmPuDMyZLs2RLo2TNDOV6h5MHTY6+1tAAgnos9DXjOfasaxEBli0xEFjKQihBykyx/+KI1c+2ef6wHrtu+1Cfb2N+dMCdD69hZkywIqy8YGy5QHEmTWW9NsimvwBzb01SWMyQHrfpNJvQNSk/O2Ht78v43xELUhZ4Lqy26pRkg8lrs8i0pmu1GLteYP72DCf7VVRL9y2wP+jJY0LKdKFj0twNwUyTdrP4q2XWflHBf0jM8KbhYAZ2ozPG789h5kN80cIdyTO+VCIz49Da6vYteiMrNpc/XCA1bhJ0I0RokdGj7Hx3xpOP96hs0c/g3VmpUPxoisk3Fsg4WfKpAoW5Sa5du8K3335Fsxqw+49hnGRx0eedP7FZmM6QN0cIA0Fn54DNjxs0XyZrFtXjcZSJaSLR4AkRl2cUic+t0AKpEr1nF8qbmpOXZ4wvjyBdibIjcnNp8gtZeMaAvuLoHArTGcbmRjAdE4GBFaRo7wWUX6pYmM6BqR3aJz4ZN4VrFKnteBx+WWfvY+LM6B7UJmC1usNoeoz0bJYInzDdZvJ6kcmFEbbWy7ALL9t1cEBcgqkRzdRYAUWEI10qOx5rvw7p7hIfwCpAdkBWiBWFSQUBicQURowHLUBpTGkMDuoiTNzJMXt3DJkRdKMQM3CRoUH5wRnPPj6ivp3gwoLKtEdwe5exj6YxR2183aWmzpi4XmTl3UUOTvdp7fl9pWIcmaUR2sCKbExlY/gm61+u8s0nR9R2BnTRfqNC8WezlK5n0AI6skN6ssTElXGsbwwiP4QgQiOGPAAEUguUUHHyx23Y9Fqxt9GVLvcsh0vTOfJmHhXV6eyesP5xSLAGhB2E38H0k1KAvXKwxFb+ODenTgz9A6mtr3N+5bJTOq7M0qtw8GosjgBM08DQAkOZmIENvuTl56s8+HSL+g79ezR8+5iRP5mkuJRCC/BEh8zkCFNXJpFfPUYd0/eUm7iT5uoHC9ijgjBlYHoOTtug+u0hzz87ofUSCOGgCO2lLfJ/PMLU9VlSUY4giJianebalRu8/O5j2ISNShwOYF6ByXxEZiFHIHxkZNLZKrP+Dwr/BPC7EHXjM6oxODcAhDBi5UlfKanjfCa9Kj05uPTOOItvjqFTPoZlYAYOQVlx8KTFk99UaWwBdSjbcHq5TvSmSfHtSfSIwjOqGCbM3i1x5eUcp6eHBO14X8cg4+IzCGzlYnYtVMVk84sjvv7tbqzk7EDdhe5bp8z86TLWhINyQrQVkhnLMrU0xtrqc4LdmPYnFifJjKfxaGHjoNqCnW8P2f7bAFbjc7A+BrunxyzZl1FtyVHlBH1mE3ZCZFI+4ML6fwEXcAEXcAG/T+h7APSYFT3M2PTcQzNx3Nvs1TFG54qk0xmULzjcPGb/yRGt3QjdpC9xDOfM+t+66HohAAYIOwQrIkRhYCCUSdgS+L3Sc/Ho+b7w3/s5/50gDpPuu46KobQBAFpjGAJTGtihg9W1CU4VL3+5z+Evg0HmfAlqDZ5UdyhlcszcHEM7Po2gTFjq4kyaMUOQlCo62jnl819/zdTaJBPTU7QaHV58dkbnM2LmKVF48C08lbtkswUuvTVNmGvj5wSpBQNn1oCXQd87ojcPQ1sYKoXqSk632jz7xR4nvwljhj2Mn21uwOPWJtPjM6Rnc4R0qetjzAkfZwza28TM7wiM3cuQuSxpObXYZbSZZu2LPR79zSaVbxngQABbsP2siz5+TD7tUlzMoM0AaYApzLimdo/KUlBYgcJ1m3apgpXWWF2X1jY8/+U+1V8xKJsniRnKY3jsvKQ4UiC9nKFpVggjTXrFJL8gqdfVoMRUMqhepWoCHX/XjvumBmrJwWnkyYajpMMs6bZH5mACnh3FSphzbQ3oUAswTI3UGlvbyMAgOpOs//qAl788gzMGMaib8LhcZjx9xuV7WbStqQdn6NEuqSkB+QSHDuSuQ+lummi0S2AKVGiw9/CIR/9zneanCW30clxkoPEreBiuMVmYJnU5RZ0q9nyOqdtjON8YdGphUhO+twOSWto9JViyMU8Oynz+62+Z3pyiWBxBapPnXx7gf85AgDaAU3hhnDBW2ufKh7OQ8fBDsKcEmXmb1lE3nssEjN/JYywHdMfq6Iak0B1j+9sDnv2PPSqfM7BYSmi9gAcHL8l5oyxcS7Pd2iE43mHv4AArdKAcwGGybhKiioPdzZNRRbqBxq0WsTYP4akf4324DF3v/BC9X+PEjRBbX2Uo+6UM/W0orzXgfQNj1MI3u8hJA3fBggwxTfTOwTSkpx0yExmELQm74J+E1F92YTfZPwE8f7KBFwXMLE9gWTbbT3fZ+OI0Fv57ZQjPoFqH58V1cn+axhmXZAomfrtOcSrNVqoc01S1fyxhV0qkoxEio0smKpItK8z1VbqrOp6vjmuk9xP7Z+JPAxNDmEgtMWKXAAwxpACYgrE3XZwVTVhsga+RNYftz094/Fe71L+hX1YOA3gOGw89irV1rD83yS46eOk4Edvo7RzjO0ValeO+UN87Xy3bwmzbuH6Bk2d1nv71AbXfJWPQ8flXPoInaodsrkRpMU/H7CAyKaxpgSzpmCZ6grWmv9c1cUiS7g4Uf+QAG0TZxfWKZNUIvm/iVKqYGzsEj+mXsQt69E5MF0LrGKU63vNSKUQvyVyP1Hrn1NAUlBAoEScl1KjzlU8FSCmwTBPLkAjfwvVzHD4r8+x/bFH/nIFnkA0nZXjKBtn/nqM0Z9PVHUTKw540MEYF6lj3q22UbtoY812aRhUjdBDtFLu/2+XpX+/SWmWgyDKg9hi+qzwn9bMss7Mm9cCjelTn9LiMFUFQjvc9TpwLJlXNkw6zeGYb4du4ZyNY6+v463yvOk1v7DEfYCKEMXQbq0E2fYjPjDdt3OWAhn2M46SxyhlWf/OSR7/Yo/GU+PxL1sbbh2+flpGna9z9+TWs0Q5Ns0wmM0LxskXpkkOr6sVrr0EIkxBNCKRNh3w4wvaDfVb/epfOV5zz/Csfw3bmmJG/KEE6hIKP8EKysynsMZNgN4w9yjLQTXUwDA/HcDB9Gw5t2Cc+BxPaO65oVqsbNGcD/ruFpQAAIABJREFUWhWfymGTw60zvGY3wVOPcF5bv+YCLuACLuACLuA/FAYKgCH3fZFcijqJDb1ya4l3fnKPq2+voO0Q23DQgaR1p8PBlSO++/gBGw82aDXaqIQR/z/OcZO8bJpmUgdYxVY8DUEQEPi9ZEL/hrZ+YDAaBjXAe88lfdjp2OtAaM3G1jpPniSx2z3+JfF4aL2AtZdrlJYy5ExNFChc1yWXz4NZSRKzgXcMq9V9Vt19KBALdadx39IWcRZrAA/qG7C5scnM7dHYgg5ks1nyuTwn0uszLlLGlk13xMbvKFQIz1+8YPvJSRwPbgxNtAvlF4qt7S1GFwoIJchlCmQzWXK5HBWzDBGkR2BpcRlbpKCr8cIutdNTvvzqc04fRIMyVL2kSEnG8p0HPt9e/4Z3Z9/AsCWYmkhFCCGwTIsOARiwuLDIzMwsUkq00nhel52dXfZ2quCCjSCUGtUT4LJQP4T9gwMm5ybIOBmkoRgdGWFmZpbu2i5BRzNczezcon9v3Yd9XPqi8euJ4xXakkJip22i0Adts3ewz8NHL4n2k2eHHVH24fnacyavlsjl87huiqgmKBQKpNL7eC0gDZcW5pidnsXAxPcCvI7H1uYWB5vNPjNt2GBogW/FHh2He1CtVChU8ihbI7XB/Pw8ExMTbL3cf2XOPTvpkM9LAJ1D2KiesvH0NI7dV8TW8y5xbG5PuImgvQObG1vM3CuSycZhJtlMltHRMY7NOE9CbkKysnyZfC4PQqNExNHZIZ9++Sk7j6rxMIb3joaz5z5/9b9+w8hDCOsQHoFfhvC4h/B4/n06/pdX7LVrqPVgn/R+lFaDtW3A9m6bvcM98jN5UlYeO5dlYnyCwlia2m47Hq8FjMPk5CTZXAbHhVq7we5uhd293QEf34Hqeofq/gsefP0iHn8l+dHEVuleDHQH1l/WmN47YHS0iG3ZWJZJJpNBpkHVGCgf6J3Rw9R73r389SUhh2DofOu/A2RH4crKVYr5Ikr5KK3Z29vlt59+xcmTZGJDuVQwYrx989UeLHi8MXGLdCaLIQxmpmZZWbrM5pfJIprxvomiEGmBMkNajQZPnz/hcK0V47VnsY3idjef1pjY2iQ3dxNLuhiGSTaTI5vN0Q56dShft9xDSq5X8CB6deFRaK04F632uufF4B78d99kSZ4ChBhqA2KdS1wGzkyZdLtdGh3FoycPOHmZJAvsJs8HwBmsP24y9fYOhdmbcQieFOTzBfK5AmdU45KFUyYLC4vksjm0EYfJHRzu88WXn1F9Ep3PkxIBHdj7rsX/G3zM2DgELagfQ3TMQBk9tOf6ITND6PohPPcf6Ev9YhALQOyOD4ADU1M2i/OXSFkuvvJpN9ocbJ/y6eff0XlC/+7s99EBDuHrL/axlhW3/vAqpm1ipgymJqdYXlphd+3rgQJACoLAB0cjDcFZ5ZTHzx5zspFoQ5KQNCRQgSdPNynedlgszGAYBkLE4Spu2qVFA0Jod1r4gU9aOIRBSDaT4/bNuxiVNNtf79M+buM3NRzDo3/e51F6P17LJoMwuD6RXPgBXMAFXMAFXMDvBxIFwNBl1BP8k/rg0zezvPHfVrj01hi+W8G3PDraQCgJecl8aQwzf5tO1IpjsgMQvZq8/yf3W/KuVhodJcK/iMtLITWGFSeYGvTxiqnlNW19/6mkbFzvGRnzK0qFGAhMYdOtKxoHXixQQyzwDjfShtaZT7cZYI1YZJw0wWknLl9kMcgg3Ca2aBvEjMAM5N6QFJ1RUsLF1x7doEOj26BjQ2h38VWXUEcoKZG2RFjyXN9Ka5TWSExkAGE1pHPSjZmNnsVuyOqLB83jFl6tSzGbRhoGwhEYqcTXNQW5URc7Z2FlTfzAJyXSrG/scvo0ihUgg2IFMQTEjNkpbHzXYe7qCUu35zGlReDFGdREj5lMQWmyQLrkosyAQHoEEWg7YOFWHrlkkVVFfBUQEqJMRdupwWiAYSjCwEMIhZQaN5uiMJrHcAz8bjhkAX6F6IaFHX2eXDSx+0fsFs3rmdoh8lAonJRJ0FLIwKR13CWsDNFF770k4WHnDJpnLcQ4WCkTYXkxrntCbQGyoymEE+GHbSIVEckOqVGDS/fzpBq52JVfGUgkXbuJl2ogSwrpWvjEsaRRHFBMOpeOLebeMBbOubfEH4kQQIvYwlwApiBzB0bdEg4pIh3SjtpUvRa+DV3Tox34aCFBSKQpcFwzpnEgO+FSnMojHZGE0Jhsr+2y9aA6SHoYDQ1DJfvhayh/yXnlQM+iP7S/hSY5A4iluSSb/r8miMQC3+APmjgMgHQyfwnRAZy8KHNpwSM7WcBMKbJjDuNzRWob7Xjvu1C6BKMzeVwnRUqZVMoNjtZOqOxXBwJyL2dAjXgfToJ9CcZv53CMFAJJ4Ae0gzZl6eGUoB00CAnABC010jIxTM4ptaQGqUVfXhEIhDYR2gQVDBRQPfwOnRMCjdAaVPKJRunkkDYhPWpjlyy8IMTWNqoFB8/POHmoYhz12u7hsZcYcRtWvzpj+U6TUnGE/5+99/qOJMnOPH9m5iIkAkBCJxKpVWVlqRZs3RySc+bs7Jzdl/1PZ8/MkkM2m62qqrtLZlVmVipoLQKhXZnZPph7RACZNWxympwX3DoooKI83M3Nron73Xu/q0WKLCVUZgJEdcxLLiTa5OuUCekep3R383UqZrSm5tFSnELvpEvSianXGngS/FAShJ6bW+m5QS4gkTeAdljwUCg8BNJtbla6lLXi5w26YxFY61Awi8QiMOP5/OOPL3TNjACIoujJmWsEaGtJM4snyxg0zYM+za2+2x8K8sTiOwnQxJUP7WvKnlv/vVCiSvl1AUwtNKheqmJ8i5I+aUtwvNridE2PdLIYC/JnHIP5HRyMe+9TRtf74+1Wbq0s1ksjkVaB1d8OAOBsfmMM1igHdAuJMdY9YxIaC5N4DQ9bAjMAFQUcPjtl8HysL8bndgFM7MHa13ss31tifmUO41m8hsfE8gSqni8lAjzpYTOLMh6BCDk5OOZw9Xi0j43rdAbxPjT3Wyyni4iKwkrwSh5+XrqTBNp7XTo7fS5dmUBrUMIye7tOdfItFm5O0dnvcnpyylFzn8N97SKDTsb6eCxiRAz//SdDmhdyIRdyIRdyIX8WeY0EcGgvGKABs98PqH8/4ejSMwZERHLgNnMkCp/J0iKlt8tc3p/j5e4a2UEO9o8fZP41koe0DvoDkiTBsz7apHjSpzIRUq6FRMLVwxZ5ON0/x0E4fja0MAr9l+P/04DNUBaCzOX4qXYV0QebgcjGQIPCE94ViIGP1L6LWPAF0mPkXcjzNKmAug5X7k+xcHuG6flLlMsVVOCD1egkptdtO4bqKQslS5RFSFVCK0Nizpx8yax1zkTrEyQ+WVsTtqvuUG0ZGaVFWwdA20P0FarmYz3IfE3mZaNQ95IhCxKsbwmzMrR95GEF0QGbMiTgcve0I4MnA3sA5lTiZQEeHtYlYKJF3u4SmEqKqaRk/gAdZSjhc++DG9y+fx2RSgIVYrBkVqNFRiz6EGTIsiGUkqTXR+HjhT4yBO1lDrAaz/h4Ewgw5nkxhb1vcWRdxgFa1pizB8Oxw5oDDDQCQWjLqLiC360gB7mhpseeY4EYZBdET6G0cqzhXkrqxUSFzpXBlhNMOCCVMVZZSpPw4Ec3SB8IgqyKRzBUbK00qUzQXkZY88mUAKvJ0OA7T9jQoyrIDZjxTsil8KzXQFyFaw+mWLw1y9R8g3q5QuA7ws0oi2n1WvSyAVklxYSKfmIoSYlBkxI5vfFA11KoZRjl0hhE18ceSrwjlyaMBaFH3meppQMLXR6Lqx1vxw7CRdNzYEAVxj4CK6QLLbbeaLwMzrgrch/ye4xl9gCu/JYUamRUJMAxNJ92iO7HyBlDGnYIZjRzNxpsf73HoGVgEmbv1agvhnhCUOpXsXs+zWdtot1Rn6NwY7AEk3dg+cEMSysL1Cdq+KGP5/kYLehGXQ57u5gwpn6pQkJEX/fQymBkrlNjeu0Z8KzLHTcWlFUoGyBN6XUA4NywF6lCwuJAAGERQrvrKiAahrSWIOoSFVdRnRIcVJ2Bnube8/y21oBNGKY7ZIegW5akkyCwxF4bUxtgy+NzRyKkQokQP6vhdTP89gQM9iFxemFlPvIG6IPqS7wEpDZ4Hkjfghyve3der98854UF3/p4xvGkONBEIYwCo8/O9wJ0ct2EQWJtvog7xXn98WO6JqUD6qSVedq7PbMp2fyexkikLRFoD7/n4bXrEHVeB8lyr7fo+diewJYExmhsYMhU7tYPwZ+U2Kom8zQhNbIWpFvibIlcBDKPBNJop/f5HiuMS5HRRUcUuiSLrpHYfIOQKDxCPBM4q/18CsAY1ujS69yHwkqUVENOHEKQDUFaTUmDDK9bwh77eLs158EvwKACRRJj43sK7S3oH2XYZUWqNGklIm5E6MqoLT4+Hj5YRZiW8bohqhXCwPGWSHOGnsDpe18itIexAqTBBoz2ewPNtZTtLw9Zvr5EaV6S+QPSMMFrCK5dmyKLGkStWXqnl2nutNh9csTWlycMCp6LYr/M95Jxvb0AAS7kQi7kQi7k30teBwCKXUhBbcaFbNeqNaK0D97Zzcrm/56cnOTWzZs8mX3J7t4xbzh5/8slDy9vtVt0e10qTCEQKKWYnppm5tIMzWArz6m15x4z7vH8E55/5uBih6HCAMYax+o8nhteeCPyA3qWWbIsO+sBQoy88AngwY2HS3zwV+9w9eEytp7hl31k4CF84QinDOgs4jQ6oZu1MUFKOtCOy0u40FHGDuOj9ucM1eReqHHPxjnJsow0cy4hqSRKuaoHACiXp6tUkbcpMAbSOMHG5MR13xK6aCAeQDSIXBtk3pfj1yjyGvMKLdw7hZWAen0S3/oo4xH6JYSUpDYjJSUWPRL6RLZLFhkG8QDfGjw8hvxS4+P3z4gLEx4BONZa55V6k56Oe57yD4roXrAYYzBFOPcbAlAy7dJVwOZ9rVw4bWEE++D5vut/gSNPlDA53aA0PYGvqwQiwFM+1hpiG5OqhNhGdOM2UdzHGI2XpgjjIT11xmt+VsbmhABVgZUHi7z/Hx6yfH+RynyADAxB6CGlRShLqjMSndFNe3TSDpmniXoRJV1FKeUAEwv4EIS+09H89bI0pd8fOOO/SBdBDFn5DWaoYwU7PRR6bl+bunb8g3zM/pSqIyNAYQQuDPW9+GAAW+spO7u7LNydxfM9GhMNVlYEmzPHbK4eQB2uLF9henoarTXtqMXe3i7bOyfOcBhbDxoLAe//5dvc+eE1qkshYd3HKylkIJBSoURAYmJa6RK9tE1iIwJCuid9ZyyLHAA4p9Nn7PocMBmGVL/xpc9+t+jnM30cQLlcwlMuTEdrzaAf0ev2h0ZgkSY1xJMKfTeQRBBFAywGKZ0+B2GAH+SOeutsZ/enG4NMZ2RZdqZ9Z9ZUCzrLHKO+dQzuRXWWf1bs2Z/xrijSqdwS8D/RHcGw4o0p+s2cUcbXn2fc2ju0V0UeCTMOGhT9UFRjsBZtDHp8DMcHOTeutdZYXCSV8jwYmy/4UKlU8IPANcNYoiih2+kOS7ueJfg9d/8zH7x5DbSQp0TkhrgdU843rb3jrzy2jw5TIgAUhKUQpUZzMY5jet3euQiPfI0oGpKDrYMOdHs9tNGovK/9IHBpJuPNtzYny5X5umGGzxsOafFbg9Ymf6Ib+0IHqQOx4xr9+qNDupN/z8Of3mN+eQG/5BF6JQJRQqQK2fAR8xK7LDG3FZtXD/j61895/tkqg3SUj1GMxp+4dV3IhVzIhVzIhfzZxIMx06DYzHNPVrnuE1RLziOVH+xHQLx1uZRYkJawUqJcKefhoXbs0PGvkMIbk0LvJKV33EOmUwhpEb5hcqHG5FLdeTEpvAw4EqjhSXLsyUX0Yh4BOqyVPh7tUJxnhMyjAwQI5Y4eRYg4o017/MBvDFjrwkS1NWRGk9psRERWgsbDgLf/5i5X310irHmYANIopbffoXPaI4sTpLSEFUU4pfCrASmubJYQObGdGKUAWDE60IrczScL3KXov6HFM+oSYyx2CGS4w5worgekEQgjsMZghEaEClkRQ0bx10a06Ie8frbwBVa59o5H1hfXSqnyPyVCCpJTzfbBPtFpio0glGXAcSIYYUgYoFWCkSkKH1/4eGhUxzA4TB0wUYAzxel7qERjbczTEJRUKOU5/cyNIaXkWaOI12+R9w4WhXAsXwyt3fFrx/raarBG5F7E/P6FESwKw8j9IaVHmqb0+zGHB3tkx/uU0zrKOiJF5SkSHROZCKO062/lcu3TpIc8NaSnGSIbGWycmQt2NFYKZu5UefdvbnPn+8sQCGQgiAcpp7st4tbAATm+RVYk4VRIqVEmFhEq9yQrqRAFAmNAWoWwMvc2g8EZ+WdUZWgJ2rzLLHo8mua80SuG3YMSHkK4MG4hJFIoxDAqYGzAzgEHxXAU4fPgKmecGeME2IGDjRPap10qQYmwXmFisUZlPoQ5qF6GxlKDUq1ENrD0dnscrDWJjxlFinhAGW7+8Arv/NV96itlEjnAGEv/OKLX7tNrD8hSiypL1LTBm5QE5RCrBdrm6QmFb3BsXiLACokVApN7o0U+51+T1/owZ8wX0nFvFKBXMRzG0SQKHD+CFhmmiBA4j6WK8fu6H4MC4SOEDyikVShyO64wjI1BWEYlZLWBN2AXhTgsVYwZ7ePg279OrLXDe7rSft/SgLx9Rpthn6HEkEfgzJ4xNqfcYOSdZCVGC6wegRbCuveweWiCgFH1nGG4e2FkM1zHtdHueglSWrDGrfm5SAEKi7AaQQYkGJLRvndmO8zf+ZyOuOUif/YYoKkkqDwEpJg2Jt9LX5Oxta9Q4HFwbxxkddk80kVE4MAdLQ16xF461N1h818DGyQCBUYijcK3HsqOvPrF+cStRflSNQ6Qjy+P+QXWajcowoA1GKOdrhR7eQZswfo/QnL6lHvvWSZm69QnNdWqxfM9Sj74oY9VGs9X3PzBCl4Y0I17rD7ZcITJYxujOf9aF3IhF3IhF3Ih/8aSRwAUBvtZD0FPp7SyPnUqGGFG4XJAcZAwwnlq23GHftoHD0TC/5pYhnmLvUNobbeRfReyp7MYU0mYvz9F9TOPXjPLT1bFSQe+zehhApbu1KlN1Wget2kd9Ug6uPzLmPwAADo/MCAUyko8wrOHEjizY7vicCFC+Bgr0MKQiPwA5gMLMPejBpM/COiFJwysxAwMzdU2Lz5ap7XZJU76GJUR1BST1+osvT/H1LUJKlWF7Uu0Jc+/PttRLr/XIIxBWVDDPOlzbc0PdUo4RnCsiyjQOssRDCCCQauPHqTYRGO0xQsVU5cnqC1Iupt5TG2BFBXWngdUYeEazCzNYD1BllmUp9BYdKEzBtJMO6+4gbKqkkWKlx9/w+bjPfTAEGSV3LAsgA/r6p4bjbDg5Rm9NoLTgza2JyEpDvLFoV6M3rv4OH++sGKYO+4I4twBf4htjBuQYwdh95EH1v0I66Osh7Su+14T4Q7PkhCswliX/2u0QQrQFvQAktTFWMsgQCUhg2bKNx+tcvKkTaVbRxiXbiORw8O0AYSSLmTeCAJxhO5qmrunyL7MvVhFM5yhYQoQxAe5Apd/UGXqu5r+9C46Ueiex9Fai9WPNzh+cUI6yLDlDDORMX97hoV3Zli8N0epVIHMdZ4sOjaBLDKgQWiwyuD5AaVaBVEeUxc8rHHhAEI5kGB8fNzZ3w5DlS0WjXUV7rQELRHWQ57J587n+jg4NWa0SitQViIRjs09r8M+tAiKORpDc63PwdYJlybqqCkPPRWjrhjoQO2WQMyAKQtMS9HaSDh+1nfe/4I0sQrV9+HKX8+i7qX0ygP63T6DrZSTxx1WP9ugcxyRJhpRhXDFsvydOWZvTTExOUGt2mAQ5f3DWVXWxgUNZ0Jg8ld3AIAZ6ulwvsBZrj8hsFIgpEBI6ewwKd33Ihh0By69CQHSElQDyo2ym9eFkVRElozPDx9kDUrVSZRXwWYCm0IWaXRB7GdzIzc3/j0EPgq/qEIgOJtSNdxfPKTwHNAjQFjtELV/Ts4Zti7iBDdXxhBuMX79+Hdy4NkmKTrW2MziSQ8/DJC+fHM/SNcXKvAQKucL0II4MiQDMyqPawGrcx4T93BlPTzrDe8nC8/0OPmjsHkfaYxJEKRu3AESiHoddDxA2QqShFJFUG8EjnByuIadBTfFqCtyHNgpWxGhZKwZGsbWun3GWpMb09YFgo2PV9EfY2umAzgsxVC79Su/PIXeICZOLZmVWCEJahWqk/UhrwgiB4zO3BAIoDIFtfo0SpRQNsSkEt3TmMGoPVZYjHApL9oYMlOAVXk7x9eOM3qgEUIjpYcS4IkcaNSMSBKfwe4utD59QWO5wqWrDSaWKlRmfSYWK1Sny6gKhLUK5eoUMz+os3g4w/reBjon9xwCM+dw5wu5kAu5kAu5kH9rGZIAvolRut+FdrdNkk4gpDkLDwwNI0tiEnpRj06/k5M0ieHB4X9JLNhjeLm6ycrxDAuX5/GUR6lc4s7tu3Tet3yy9ZTBSYROs+HRzgrcYa8IWZQu3PrmrWX+5r/8FcvXrnB0eMLpUYeNtU2++PgLjp6dDr0Gmc6ccWI568H4tmbaAjpxRFEC5yEtakrXlnxWVq5QKpXwax7pIGX95QZ//OVnHP4SZ0QUh6cQWOvSLh/z3csf4AcBWc8ZXEqps88dOz3Y8219k0vBFmNihyGdpggHUEAPTk40zeYJ89EMZb9G4AVcXlrmzu27PF1fJT3O0yKK6A+cR6U2De89fJ+VK1fp6y5aZ4Se54y4wh6N4bR9Sn9QpYyH5/kI5THoxWw/P83L8LXPhg0Ur5wyIrMa8469ngPwhhj4sTxfIQUy9/gLnCdQSYXMPVBF3vCZO4ji7mOdWni3xvr2Tf1NfugtCOyGnn8DDKDb6xLFEV45xJMhSnk0T1ocPhpArz/yDo7n2Q5D6hmRZQ2NaDE8mL/RqyTh8uUJbt26TbVaRQSQpgk7+3t89OtPOPqNdSWtcqOGMuzt7NIKT5i6NkGjOpWHRDtSr+JZvUGP/qBHQJmyV8IvV1iYXWR+do69owM3dlk+S3JPqa98gjAkCAIkjrE7jROyLHPpFS5pemg0SCmHlUCKcXOdWXT+GCg1Pnjnx2f8/xe6lMLu9oBXr15RunqT2bk5ymXJ8vIVhBRUrnpUqhWEFAwGA9bW1lhbcznsxTwnhLce3OTmrZsgMjJj6Pf7fPbZIx7/oolddWOOwen1OuyYLt9rXGFqZoqgFDKwjnVPqSInOx/LM6o3CuUX4uwoD7GPocsTxlNxivVB5mknDKDVyej1ukTdBjVRoV6usrRwmfr0CzrH6YjfonhAYUBNwcqVGaanZwjKoUsFMJZ2t01aGGKSYePPYZffPib5BdaSQ0H/Qv/oG+515ln/3LZkIIoj4mSAZyS+71EpVZmoNSDYH5VyLPrBg3pNMTHRwPeD3OtsiJOYftQfAQAwHC8B+T6VR2SN0BoYB0Q4u4+K4Qvkn2XQap0yiAZDvahX6ywuLFJrrNM90iM0KF/YpJB4UlEulSmXK2hj6fX76CzDWI0pgJYCjKCImIAifOy83o1eiiGpo8xD/kWOxGiT3zcHnprNJv1+nyxtoGzA1MQUSwuXKdW/Ijo0+fdFvpbl3Ds+MAHXrl7l0vSlHAK3xElMs3WCjkZtcf1hxs4E5s0pM4XY1/taCJe2U3ApCCWwmXU6MID+kaa/3WH3WQemgGkQK3DrbcXD9x/QCH0qQlIuV7h2/RrPpl9yuNE6010XciEXciEXciH/3jKMADizEeUHYg7hZK0F71wlnPFJtUAoi0AirPNeVGyD9Miy9XiX3n6ak9z8a7e1fEscN/D6cPIS9p4dc/nyFZCQklCdq/Hg57fpdSL++LefQTv3cha3GX8XH6buhLz9H29x+fvT+GHK1eU5buvrTHxR5vmTp8PLlfCGXmIpBFIJzqSe2rH7Dw/Defi9AKyrWCCVHJb7mp6ZZHK6jlAarMQkmt21PQ4/cX1Mysjj0wOmwPMClOchZZ5LOp4/mUuR2yilgLxElCwo988PQd5uIWT+I/Jc/9wjXtQRP4bmTgv5nkSUDZmKqSxUuP/jm5iB5avfPEUXlbhyr6c/C/d/do0rby8yiAdkMoUsN7KtGBFb9eBkq8ngZIbabAkjNJVGjat3l3jyxSrJBqPST+OnowmQN2Bxfpo0SjnY6jj2+j7DeE8hZO7FOvfO4/ogwKQWkxZx6wY8jQgMNtCj2TB+m/y7UjI8kLo+V0iphgd53qR7QuSluySect5MaSVKQmaAU+js9zBdKE0HoKBS9Vi5scjB/Cv4ihEz93h7JmDyXsClmUscHzY5LapUxGD1uLHjOtEWfwpAQbVRpdqoYj2FkB42hb1XRxx9amGDkee5IBDrQ+D7+IGPQaOkRXqFe9U9qXtkOdlvMXGjRFZKQQ6Yvz3FjQ+W2Ns5gA5oEje984gcUzasPJjj/oP7SC052W1xstdkf/OATrOLjjNHLqnBZqB1nvcuDEYZTGDAN2OA0TnwqzDQhBh5vIs47vFrCqNlD3ZXj7n5nRUkAkLNzI0JyotXoZ4RhiVsIuicDNh+tY/ZYURUZoAA6lM1VCDIrKbkBQxaEU8/a2I/y8dSjeml7zyh5bCMp5wXeAhynENwirQOkxms58qa4VsylQzXDmvt6H2KdaoYojyUvZj/QyLEDOIj6B1G+Fc9rJdghGHh3jQ3v3OVzw9eOICyqHJQpPuEMHnN563v3KQ+HRBFXaT2STuW9m7PVXjIu9utU86QEjnHwWue97H2Fj+iyGkSwn3vTwUCinvl3VGskW59lDkA9S33ynlbom5Klgh8fLS1+BOK6RsNwseCeNuOrs2jamrzJWaXJlG+IIsTVFol62Tn37O5AAAgAElEQVSkHT0cb2tdXyjlgCuRe9yHqQUwioYo3mPYful4RDzfPdhIENqBqgeGfjOGxEWf+WHG7PVJFm5O8WL9yJHLFLioAIMhaRjuvHeNO3fuYlPY2drnYPOAo+0Teu2+09XARSRgcq4CaZCBwqsojJeO5hdj3WkZkQtKhfIcx4lLK3NRUUUZydO9iLSVYdoWTyoGtsP8nSlW3l7k2d42ZmAd8WMxnnlEytTVkJtvX2FypkqWJaisRHKa0txqO10dtkegpO9SiPDyNXtsMx/fy/PviGIjH/KZWFKTl2g0YEOLrEB50sevKFqdCLuBIy7cAEKwf4DnO5r5uSbzD1YQBkI/oFIru0otXsuta9+uwRdyIRdyIRdyIf+m4sGYnZR7KIebeAd2f3vCVv2Qez+5QXipTFz2UCZwPzZEHFXY+HCLzY/3nTHrUufOOub+ZLGjX+NekW3Y/mOLa1cGXLraYBB06dFH3PRZ/s919r0pNj9vwh5DduqhN30KuALLP2tQ+VHG7vwThBGU4hpBp8azw8fsd/aHLVDkod0mD/uzBmt1HsL4bai9S+S06KFX2NjRoSsTManoYaSPFAqVKSpmArxd59Eo2puH0i/eK3Hv9luEQUiWJnjSd34Ofe7UULBMG8BKhLWuIsKb+j0/6BghMIghK7q0AmnUyMPcgv2vTji52+TyO4sMTJumPMS/J1kpT3A8VWLzWeQMcB+CBbj5bo2V71/CrgxITYoWjsHfWA1GoFJJioEBtNf69NZjlq9UEVoRmx4zd2q8/YMVPj3ZcN7nwuMogDIE9+Hdn97i3r272Miy9nidra/22Pr6eFgz3oqR16p43eJsJ4Es95ynPRfaKwFtY0SQUbqkEA07KktWDLIZ/S6iPBxPgMjz3dUoBeA82FD8h83LieWlM4Xx8GxATAI96L2MGTxPCKcDmNSUqoa7b69gDgyft9cwq7keG4Ye+fAd+Iv/9DZXr11jf+uA7acH7H99wsE3TeKWY/geGUujsPDiwB6LmC4xUpWQwkdlAQ09i2QN4zECAHKG/5l7gju3blOtlchMjJQ+Ik/zKMAJvQN7z4+Yuz9J0FBEQRs5a1j6YZnLB2W2fzsYGSE+EID/Flz/v6e4/t4EJV1DnFxj69E+H/63PsdHp64NETAAHYOwisxqUplSmg6pzpc4LNjmx6MiirHDrWdaWJd+ARic/g+Nl2LsJHACnXXo7SREtyPSUh+udgm1xhcllPRIO5LTrZjWZvb6eAvoixY9c4qHpGSqVHSNGanY9/XZZwlgAd69t8TC9CI2gZg4V1yLHsvRR4FOIIu1K79qBUZqwklFdTGks5s54Gy8RGlGzhMBFleGz+QcAtbKYYUOAHbh5Gmb9EZKcBl66gR5zWf5pzNst3Y5/Kjn7h8xLBfKMlz/2TTTt0JieYqvQ/ykwsmrDidPRwCA1UX6jgONxZAZ/xxYd84edz50nc85sLZIZvkXimX4TLc2F1FS9rXrhmtOCq2jlKglqF+ukkmLnkyZfrfC1FaZvUHflXYrqrssw+IHE9RnS2RxRNqTqE6VwW6MPho9qsi0Ajms0GELZR2CNeciWPL2i5yfREoFViF1ACKFBPo7cLzaJXkAfkOTlNoEKxE3fzzH8ckRzSeMIk8kUIHGX8DiX9e4/nCGCjWWNqdY+3SCT/7HIzrd7nBeSw0mMWgNmWdQZY/SJY/gkh2VCiz6TTLay8jnWo5HFlwObl81kEG6C91vupSvBOhqD3FJQAArP56h2Wly+EV/BPIqYBJYgWs/n2TqjkeStRGZghZ01yLaz6Oh3pGrmSf8nH9C5vwaY/06rgV5/w+reVrHW5GRp/N13PMvvzPN1N0aU1cmWJxa5OCbYz75+8/pPDND3UEDJxAfQtI3lCoQ6T5d0yIV0esA94VcyIVcyIVcyL+zDKsADL3LxSHBABH0VuFX//A169Ezbv5wGdHQBF4JUp/WXp/jz3usf3hAtM6I9R7+1eT/Z8Tm9+vA2mctvOWP+NHs9wnLCmskgfW5cf0mN/6fu+zeO+D0ZYeTzRb9foSRlspcyPTNKrP36kzfrGHLCUnaBWuRacLTp1/w+88+c0RewNDKH/bHuZB68e37dsEuPySTww77sT/oEUUDtK6hU0MlrPPWnQfo73o8bb0C5REnMaoOV9+/zMMf3eHSfI2INmmkkXmMqDHmjOdyFIZZHHDH3mNcznvailBH61j5hRCj8PoEDr+ED698xH+8/pd4NR+pJF4pZOXqFZYvrXC626Lf6SElhFMe9aUylbmQNIjHyLMYhijbIuzSQGfT8vXjJ8w9nGD5xmVEJpjQE/z0Rz/lun/M1qcHbL3aJc1iKlMl6lcq3PnRDS4/XGCy0aAkQy5fuswj8ZTjVx/RKUoMnhuU86+Mxh3sOwn9QZ8kSzCpol6v897D95k6XeLVZ5v41md6cookitlc3eZw+3iYk2q0wRozSrUY91p+i4w7psF5eIfjaOFk3fLo6y+YvlWjSgXpCWYn5pj/6XWW7SbPPn1F97CLQJCVY2bfmuDW965x7/271CZqzF2a4+ZCyiPzDa3VT4itM7SFGTcwzraz2+8SxQNqNiBLNaGqce/WA5LvCp4kzzjdbqGUojznM3mrygc/eZsry/P0Ok2Qhor2SYQmy9KRHXcKTx7vU31PcHfmOjU5gUBy69YtZv7zFV7N7LD//ITeoIcupSzdmeX69y4ze6eBKsOl8iWmLs3T2R4Qp9EILPCANrQ6baIkJoojrLVcvXqNxo8Xmeg+obl9SqNeZ3pyip2tLdZXN0i16+MhRmYMZ8oijh/Ci3XGh+QQXr56yez9CSanpgjCAM9YlAkw2tJsNllbXeP0uHUGaCDXse6gS0aGJwPiJGa6McUPv/sjXrR32fn6kEGvjwwNM7cmWfnJPPffv4msWEQmSdLUEUYWYeFFGyUQQ6fbdmXgrCWNUy4vLPOXP/4PPPVe0D3tUxMNfC+k34x5sf6C+HQAl50OFGkV1lqEFI7VvuiOY/js8w1mH9S5M3GTzNeUbZWHbz/ksneHZwuvOHh5SP+4h/FSZm5OcOWdOa5+5zJ2ImFgumSZJm63efToEavf7I7WE+3WmsLzat8wWcf5Cs6i0YwRztthGs2fLONBKuPrHq+nTgzFAglsrZ/wanWVyrW7hLJE2VS4ce0ml/7PBZ7UXnL4rElsBtSu+iy/P8vVDxYwtQRCTRB6HD05Yn193eV7nzfoi33mDTjEm9fu0Yduf8k/Uzj9O4Gvnuyz8P4aNyauEJoAz/N49+13uebf59Xv99h4sUscp1SnKjSuV7n38+vM3GwQUCKwIVeuX+HwZYtuv+sISjwgg2QA7W6LqD9AK41ILJcXLvOzH/2cb8Qrus0e0/VZAhHSPR3w/OUzsm6WR6QY0jQlVGroWbfjr9OEzx69pH495M7d28RZimdCvvPu97hX+w7fXFllf+2Q3mkfWTbM3Klz+YNpZu5MQKAxKsNTimb7hMdfP2Zrc98BuLkYY3JejGJgGenQm4ZfnN33tR7NFzLAh9v3bvP2X92lNOPT8CeJpzPm7DKPao/Z3zomSmPsTMLVd+ZZuXINaT10YuhHfdrdNu1OezQ3LuRCLuRCLuRC/jfJmTKAw7NIcfgsclvXYb2bsvFylcklCALnkWvugn6CqzcccbaO8Z9LTN7KU3jx2w6NqWe8/eO7lCslEJagrghLJSqVKyS3MvqnEb1eD+tBZarMxEIJfwoSOSCxFk9NEHohO68O+fo3Lzj+Ahd2n3eAtRZPeC5kEIXIEZFhKazz7bO4GsdWofDwpI+0yrmcleuX003N/voJy/eWsJkiNRmVhYC7P7lBrVGjtx8RRQOm5hvceuc6c3enGYRtIisR2rGrS+TZ8G4DGIG0EomHo04bi6A418ZhOOnwn7yms/RHhkyIG78BbP0aPp9/wnt/+Q6legklfRqTDSqzNa5eX0HqPM7Tt8T0Oezsc3i8iwkNYTmAnF/AWu0OXWXrvIgJHH0KT669YqYxT708gSlpyotVHv71NLMr0yxuTzOIBlQbVWZWpplZmcafUJRkSN2bIPZSsr4mGaSjd32DQ2/4d2HgxRDvQ/ewhxr4pCZCa015IeDOz1e4dHUCmfksXFqkd9In+ruIw4Nj56AzYLUd1swuOOVHfSs4U6sa54UXNk+yEHL4W2ej3G624eUfI67e3ObhX97HsyHlqRLV+gQP/NvM3J7kePcYnWV4dcncrUtMLzcIfB+bQbVcJ5Vd4n6MTg1KClfp4U0dYlz/H24kbD/fZfbGFJ70QBqCWcOdn63gTwqaO44PY3pxkuX7iyzcmUGXB0iUi+7JY3yHucslhjntT361x9LCIjPX5wllCSsN07fr1Kbv0HynS7fXRZYFc1dmmF6pE9s+sY7on8ScHqzz9SdP2F0/GoGQEjiF1m6brJOSNTXCt6A0S29PI9Vd+kcRk/VJZuqXePx5lZPuMSe7RV11izQCaQQeEmnF+WEqBsvJKew+i2i+02G6NofneSAFyoaQKDoHLXZWd1zKxXhufABEsP/yiOZGi6v3lsCCCQxXHi5QDetMXa0x6EWElYArd5e4/N4cZiImlgPQAmEdo7kjwGQUXp2nBh1vN+kd9SgvetjMkgYDrnxnjsp8SO9kQM2bJLRljl912GvvEHcGeYUGgdAWmf/tS88ZwkX/xsAz+Op3z5hZmGFyuY6SHgKYuTlBpXGPk+0FBq0+0rdMLtWYWq5B2aA9D4kkTTWPP3nO139YHXlhh+kO0oVio3LdySnVh0b52BjkoIw0EpWvUcLm8+0NgQP/U8nvL/L1zq3QakgC+sbrDU5v1uHFF6+4en+Z8kIZlCackCzdu0S1UuLkYZvUxJQXfaoLIbJskbIM2jJoxjz74iW7r1pOLzKgzDAffkhkOlxHRn3xWiRRvr+4aCPlKoII6Zj5s7wrEzCP4MmHr1i4tEQw5SM9TTAVcPm9KeqzDZZ2Z+n1BlQnKlxamaI2X8KWNUROJ3Zf7vHk8yd0t/ujPVcCHWgf9DExyJrCygyvIbj6vSUm5qt0TnrMNxYo2RqrjzbZO96m2W2NQDVNPooKT3iI4nOANiR/hOfzr1iZu0JpKkB5woHKD2rU5qocbh/SbXfxK4rGcpXGlQqpFxOlA2xq0F3L0z98w+NP1l0EVxGVgetrlae6yCIC4Hw/nxt/Ydxe7uV7qkS6/RycQ6TVw7OSmelJfOXjI7n902WCRXj5bI1+ElFbKrH08BIzSxN4gYeIIetoDleP6R7oUSrNt7XjQi7kQi7kQi7k31iGAMBrHvsxo4kEOAW7Cc0g96rkbMlEjMJv/4ybmePyEpjMDg0XvoJndotSu869H9+kcknRMgdkQYqZy2DOYshITYqVlp7ySfCRWuLpAD8rQ7vC/vqAr/5hm41/6DjjvzBiLAghCWWIbwI8GyLRCDHCSc54qvJUcs94+DYkIKQkygQ2xs/CUbs34NVv91m5fIvr782gg4RB6RTxlmHxbo04CrBZnXqpQhjE7CfrRIME6SnKIsCnhDIZHt4Zg1cYhbIlPBtirIe02dkwx/NiwcfHJ8AzAZ4J8Skh8IYeH1LcAb4D3/zXfcLeJnd+cJ3GfJm+6NMXPUAhlcJqAT0YtCI2N3Z5svU109fq3HtwlyDwMdox1HlSQZYN88l5Bs//7pAZf50HP74NjYReuY2upCSzEXVjqFiBkimGNi0SQlsi7ldoNzt8+U+P+fx3j4iLfE9zxnY4M07D3ij0dQv2vjqkee+Y6ZtV+qJN5qfYaUv1bkCofTBdvH1L6YUHX7s2eyh86+djHQyNNVsY/q+FHOBAoRwYktZDGgcsKaFcPHCRD/sMvvxvq4SqztX3lxhM9el4baKVAVzRTGLR2qIUGNGmKXuUswYV6rTWIj7/xVd8/tHX9E4zZG6UfysAkAKbsP37Pa4tLTH1vRqJ36M33SdtpMzf8plL5yGTVMMatVKZdtbk9PQYv6So+nUUAdYYPBWOOjoBjqH3S3hROuDS/7HE9M2QQdAmC1L0lMbcMZSMRaDosEtME6VdfzZPWjz+5Qu+/vgptomrJmIVVrs8595qysGTQ2ZmJ5FSk1SbRBzh/8gwq8uEJkXYLmFkCR8pB0pm4Buf0ASEJkAKiU/ieCXPH75tTszQhug5DFYF3tWQrBYjhKAsypSYYGP9kM7qwM2RcYUzQA8OP4W1uU2WJmfwpiw6jMiWLKU5zbUf1NFpHU+G1CplIq9Df9AjbiXUSxPUwipZ3yKtj6ekK4lWjFkG+4+POXzriOuNRdJSj6jRJp1OEUs+E/j4DKh0SkShR+kzHzYBDZ4VhNbDtwrfKgI8VKGwxdJ2Cju/TPmyssq7f3OfxnJG7B+T1CNMTSOuacrGVbDISDkRp/imRFnXCboTbHy8wfO/20Y/YwRc5OnqEg8vZ2uXhAhSsEP6mVEkzZiuBjYgMCV8E+Tggc+ba8+Nk37aM/cogrCUCPBESGBDQlsisD7K5oUKx73B4wBDCu1P4eXcOhN/U6U0KzlV25iSxty1BHcMgRRYm9CzPUJdpmJqyCOf3Q/3efXrbdhlVCECkAKkVfm7BWjjoYxbGwp50zaqbAnPlPFsiGd9AuHjjwO3FmjC9q8ynlf3efevJ5HTmmNvHz2RkjVS1FswAQgb0zd9Ehvi6xAvrtDcbvH5Pz3m+WcvXGUH40DEAgDYf9pk7/Exix9MYoKM0/Iu2UqCt6yYsyVKIkKdCip9QeWzkOZWrndaEpoA3/hIFIEM8IQPJnfTx8Ax7P4y4nl9lXs/u4WYgabcJa1nZPUUcyOjRIZF0BEd+jZA6YCSruP1Q7Z+v82rXxzCKxhiS3lHKqkICMlshmd8POsgpW8Vk68XOqRkSygEPgFK5+PThS//+BWm0eG74QMmFivosia6PiBYjrn+kwm0ruN7HqGvMCpC9Kt4bY+dPx6w84cDBxwWe+2FXMiFXMiFXMj/JvFe/+hcQcDCS2TJCf4YqyPPMERVWkmeYflnadiQ+7mIRsgPO51vLL+NH/Oq+w13vneDpXvzyIpF+gIvlHihI2ezwkJmsGlKFgl0pjk4OGHr6T4vPt7k6HOXgz3ciPODYJxFJCZBBCA0ZCYlybLXwwbHDAgjDJlJscIiAwnSOg6AgiAsgs5jwz/9+tf0wocs3ZyFaka5USUoBQhPIjQoLTjc3ueLLx/RiwfcvfMWU5dnsH1DZjLXt2Ml7TQZVmlkIDDKkpmUzJzLTT73O9XuGukLZCDRZGQmHd23eC8P+uvw0f/3lGcHT7n57jLTSw0IQHk+xkKaGNoHHY7WT9hcb5EB4azC9wKUUi7fGJuTFI71XRniVfjl//iCjf5z7vzgKrPXpgirAUFZuNx06WERiEiiBwmt5oDezh4vPlzl61+tMljFGZ3m9aH5VslTVF48OoLlX/Nu9S7hnER7honJOiW/TJiWEX1F0s3wq57zJvVAozHSeZ9tYtAmG/X1sOPO9XWWkGQpVhikL7DSkOiUYcWN4gAv4OhZzH//73/gYTzNre9cZ3KugaoLwtBDep472GYWnRiSQcSgF/P02Te8+P0mL35z4gxec46PYNiYsciQ/Gf/Wcov/vFj3vd3WLq/RHWxStnzafgTSOEjtIJEcLR7wItnL9hv7nD7/k0e3nwPeoY4jUbkh+OM8zE8/tU2TbXH/Z/eYOZ2A7/uUaqUCErOF2i0A/bSQURvkHK83mLj412e/W6X5AAXiZLhwtQ9oA7RAfz2w98TNVosvzeHV3NzvVQNKdsQL/Ggq7GBRgYM1yxtU4zIwHOAS2YyMp2d65qxWPEMOISd7R2uDua4dLXKIOkjEkvnpM3OzjZpm1GEwvk0ghP4w8dbmKku9354jepCiaBeohaWkJ4rH2kywaCf8OL5czY21qmGNR6+9S7zlxY5aXeI0/hsNEmuJ90t+Pj3XzCYOuLGB9cIqiW8sqTkhSgChFYEnofxNV6oXN9pSNIYg8YLJNIXJCYh1cnr61kLvvrVBrtmgwc/u838lTmCCY+g7FEq+QgFGIPJDFmUEHUjdjcOWP9il6e/3qD7Mh+78TKw+Zqa4ojUrDQkaUKapWf1dHwSSzBoDBmutqn7npVj1/2J24yxbh4atFubPUfqlur07LuP/y50+Ri+/O06J2qb93/yFos3p5FlgRd6BL6HtYIstQy6Eb3I0DrpsPbJBl/+/St6m7i1o/D2Ajbvi4wE6YNRkGYpWTrSRykEejztTLn9RaNB5pz34hx6le/DZgc+/OUTdvRLbnx/iSv3FwgqAapk8ZTnqmZYMH1DOhjQbXY5ebXG8w83efXHPZcKZxwIjtBD8On4+YDf/O7XvF2/yeUHcwSBh6pISp5PSYTIWGCTDEKL8uWw7dlw7hXtNo6otUhdyNuebMGv/+kZa9Ez7vzoBgvXFyhPliGw+L7AKs9VBckgjRN67YjdnSPWP9nm1e+26D/XDsA/V51Bk5GJFKuM25OL5xfXvEH3NG6tkD55+dnMVS8o4wgzD+CTX63Tqmzz8Cd3Wbi2gFdT1PwSdVXFCIHNDFmaEHV6NJtNNv5wyMvfbHP4PBmWG3aPHeNnuZALuZALuZAL+XeUNwAAb9iSxg+442GvMGZb/Pk2stGZegyEKMAGAWzB7t9p9tefc/3hLit3LzM1NUlQ8lA+SF+QWYNODVkck/UyTnZarH61xfaXMWzhwgXHUxZygyE6TFj7dIv+YUSY1ol24Hj7yHnh3vSKBuLDjM2vdshOoOLXae/3Od1tjVIoJNCH9ofw684jHnxviflrM9QmMpTy0caQ9hMG7QHba1s8/rTtnrXzEr3s4Sch/b2E/vFgZHRo6O7FvPh4g9PVAaLtM9jVNPdOR8BDMT6FkZZAe6fL6ucbHK83qZTKHKwd0z+OR+Xmiu8UpGI9ODmCkydbeFe2mJqBcrlCpi3xIObk0GCfuev4ACYnp1C+wmoHCulIoxMzjPodGlkR8BxenfQ52n3CzQfzzF2eIaz5KM9DCAVCYgaQ9DIO145Z/3KLg68S2B/TifyXRGLfEB8s8oG12GF6Axvw4u/79LqfcfuDa0xNTpEEPSQxIumgO4rTtR67L/aHdZ+TE9j8fJfs1OLFJVS3wv76AToaa8SYTpBCcgoHL4/4mm/YbOzSPupysnmKSezZ8cmrXfAVPOqcsL92ws0H12nM1ilVQpQnkZ7AZpClKZ1mj93nR6w+OmLwFEdINlZ3naH9IIYfndGDFGjC6cfwT71N3trucO3BNYJySOClzjiPNP3TAdvre3z91Q52ANneKnKziuyHdDdTeke9kd4U71F49X6h2d16zv2/qHH5xhLViTrSd+zz1oLJoHfaZ29tn1eP9ul9gQMx+ozdcyz6pw2dz+C36TfcOzzh+r0VAj9ABREi6SMSRXScsfb5Ns3dtntHH043ejz97Sv2Gy3oBnQ2U9qH3bOh5EUH5cAXFraeHPPFPz5her0KErzogO52wvrjbddGBXltsdE9cp4J1uCTvz3lYO9zbr63zOzSHErFGARZYkkGmuPDJk+ePOd0A4KpiPB4le58Rnu3x/FGMy+lOqYneah+8zP4MN2mc5ywcmcFEUp8lUAmSfoZ2d4uR5/36Bzn4TERtLe6vPh0nc5+n6gfc/C8SdxOHTN70X6d9/MOHP8D/GrnObffOWLp+iK1yQphELhqKMaSpSlxP+J4u8n6o132Hxnn7e4xWieLuR7D6UaXlx9tcPTsFK9dob+a0Wv2Xw/nt3m/pnC82uGbj9bYq7cIbZXWXpfeUf/cXHsD7Dce+mNAd+DwVZPHHz6j1tilc9pj79khWW/ES/LafmYZVWzYhq1fZHT3v+TWOwssXp8nKJWQnnRDrg1xlNI7GrD+5SZrf+i6/WXA2XmRz43WZo/nH62z32hCK6DzPGPQGZx5/Jk/Emiud3j2u1V2S8f4aUh3v0f3ZOCM3vNVQjZg/W8T9rbXuL/RZfn6El4pL3Wa8x7oviDuJWx+s8uzPx4QfYOLaMl1+EzZ23xtOvkDfJS85N5um8vXlijXSyibItIeumeIdjUHn7VpHbXd9/qw9/SIJ/IF1UoZn4Ctx7tE7fTs0GU43V6FzTbsbL7i/nunrNxZwSspVA6oWws6hUGUsLd6zNajXU6/MHDAaK8ax0X6btzlh6tkfkrDHHP8pEXUjs/27zgQG8HJqzZPf7PKXr2FOA05Xm0TtxIHbBV6sQYv/i6jufc1D77TY2phChW4fQvpygRmJuF0v8mrzzfZ+GPionFixs5P/0Ik60Iu5EIu5EIu5M8o/7IdaDxU8t9Rzjy2+A8Ph8pPQGNecmluksnpCcr1MsJTaGOIopR+q0/3pEdrv0v3IHPs9cWh4/wBtATeBIQN8Euey/uNFINWSv904Db/ccmZ+71JKE1AEIRI4WMS6J8OiFp6tOEXxkUZ/BmYWiwxNTtNWArJtCbppnSOuzT3OySn7tpwEiphyRnSsaXbHJC183aXQDWgPK0IggCRKkxk6Tdj4nb25hDDsrtnqRagPIVSPulA0z9OSDsaq3NDvQhNLwMN9yxiRgz5BdnjOFt/BVb+ryof/Je3mb48yWQ2A6sBn/y/j/jtf/0j2QmIVIxKlRWap9wzvGlozJapTpaoTFRQnkeWaOJORvtoQO8oIm7GzsgYByv+BN05Yy8UPwEwBdV5QWOmTn2ygpSSQSdl0EroHPXpH6ajcmZ1CKeg9P+z995vdhznveenqvvkMDljgMEgAwQYxSxRDKIsUZIVLFvX9+7/sn/J7vPc9a7Xtmz5ai1RskWJFEWJSSRBgCRA5DQ5njn5dHftD9XV3efMGWBAAiQA9ZcPMeecrq7w1ltVb6qqbALp2dCyqZea2ngS8EWEqRIgi5DpsUimk1iJBG7To7beoLHWQhlhsLOyKSAP6QHIDaboHSiSzaYBUA5USnXWl2AIe58AACAASURBVMuUFmo4K2gDRYcyu9V2iDYYb2oOrCEYGM/SO1gklU6hPEW93KC0WGFtoUzTP8hM9kI+k0F6FqoBjY0m9dVmJIpGhBWwdFusAegZtikO9pDMpbASFp7nUSvXKS9VKS/WaC4TRuNIibnaMbRYEPJlFpKDMDBaoNifw05aCM+iWmpSWq5QWizTXFG6T2xI9EK6R5BMJMG1cWuK6nqDZskfm23UUiFtCpDuE9g5fW2c5SZwq1BZreFt6GrpszcUKtqR5jrPpM4jPwKDowPke/MoAa2qR7XUYG2xRHm5rvsvDYWeFIlkArflUl9v6tscQr0wzNvSfZYahr6RAtmeNNlcFs+D0kqZjYUKtYUmrQ0P1dT1SBQhW0ySzCRxHY9m2aG+2sKraqNSm+HMjO8senwM2fQOFsgX89rr7XrUNmpU1quUFstUl9BjpHNuNEjr+THZK7GTFlYrCTWL2mpDK2Oqy/yehEQ/pIspLEvvx3YbHhvLFZyS8qN+pG8g3szpwqeV8uelVK8kk89gJWxN31KT+lozHDsRg5mJfgvq4t+EQQasfugdyVDsL5DKpgBBs96ivlGnvFSjslDHXTW0iBiHTBWzkOoTJIsWti0RLRtVlVTWajQrbmQ+iIyjNFh9kC4mSFoJbGXTqjqUV2o4FQVeRzmmznm9zvQOZcj2psjlM9iWRavepFlx2ViusjZX02tNg9CAFUHgoTb8nAV7EPrGCvT0F/U2r7pLo1RnY7FMeaFOvaR0fn6/ZwtJpKXPXWhWWtRWmngVEP6tDgHv2X7dAzonKQzkSedSJFI2rquolGpU1uqsL1RoGb5z2muM9I1maUgNWCSLCZAeCZWiteFSXanj1rzNc6/0ad0PqYJFMpHCchI4FZfKah2n7CCw9FhX6Hk6B6khKA5lKfZpnpBC4jUVtfUapYUy6/NVnDWfJ7yAO9k058SIESNGjBhfIO5oE7RoO8K5Y8k0gpkRWJNADi24mhBDF61YrBN6dFx8oUH6+UVCAm3CmAg/vDwow9/+YJKCL2BG9x0aYSRywI8QoIyibBNenSQj9fW9D8F5CtFQ1M48zVVf5pAm49GVkbyNF076Vy6Z/Ez7zDuGdgJwpfY4WorcYJr+kT6GJ4bYfXA3+WKBs6fO8u6b71O/3NjMMSkYejLH0//jKww/3EMjUaWn1c/G8Rav/9ObnHl1JvR+GEQNOX6oMhZQQBseJEEEQuAVNjTZFOa+HUTiPIWnaWWiEmx0P/gHuQXlGaHYI1RAncj3Dr4IYn2FF/YHhF46/1q2oF872xDlJ1OvPKH3yd9nTjnSHF+wDG+fAEtIlPI2GQA2KVqCkA7G4GNoX43QIeqtM4pedFx0M2SY9ptBm0Hzu2l/jdDraK4Pc0H4g0m11d7/bMa86Yukn68g5BMD03/RucAo0KYtnokQMaG4kbLM+DI8YGhlvPyAFLZP5w5BPtqH5tq8rJ9n069rk7APTJSD4RGzR9gf+xKJFzEs6e0gtI8XM4c0CM4MCNpvxryJEvH35osm4B9S6UUHlQzTGGWKXCQf03dmzAZzahdYtM9LhraRuc1C+OytQt4xZZstaJGtJsLfe9I+fHQfCHQYvemVgJ6GJlEe6JhLBMHRnuH7pt/NXGvmihThAYrGKAltfBzewOHzR3T+bUbyjs7Z/poXBIcbXje0iPJMZCBLFJ4xBBgeMfNUjvCgTsN/rUg+nVEEGHpEoqpShPwv0HxnDMPRqB0zR5i1rnOt8fzpUUnfAIBWqqPGFpM25dPalFvzy2qru0mMJoiI7AmLbJcL5hnzPZiz/QnK8IWItMX8ZuYP5XeEUGFdzfW9WfQ4VBEamysMBfo6RWWMKtGZ+I4Vv2LEiBEjxj2MLlsA7jAIFThD2pZLI5gb4dB4qFdp0/WCl9qUNRnmbdJAKKwYodUIDkY48ivRVoeoUBYNc49eSx/VZYzwAlpIMDcQtAklkfLsyHMjxKhIWiMoqY7fAZSibZ+hEWSM4BkRqhEqUK5yfTkefuYh7nvsEPmhLA4tenZnyIwleOsPb1NajHi9izC6q8jRpw4xMjWEclpIbJwSLFxdZPbynBbcjPAV7cioAGqE8jKhItcpH3nhb58tGCWS2vSbUeo3OpIYY4vqSG8E+Oi2lLb8RdgPRuGIGpYCYbKjaiLyPKq4lgkVZUM7o4xEt0EE11duc19plP7me5QfTRs6hWe74/mmRqiw34yxyigenWG6JpIkQmeFh0BG+DZiowx41f/JGM2gvZ86eSYqyG+SuTtoZfKO8kfUEBBRlNSmk1MjZRIps+633+TbYWsI6NthnAizi1geTflGMawRRgpE+8wgusUpFXnmgFLaDCqE/uuZ6BzTd8aQ0SQc74ZnzJy3lSEr2h8mL6PsdkTwdD05xnR9lN8i6UXbwIsQ07/2Lbg+MDoOkx106uAF5au7bUMawvFq+KBKO83N/5Fx3RZVoVS7AdfUJUqLDgIEur2B4UPYPMdHjH9tz036Gu3jJDquI69JhL+rRW1uQ3QNFOh5qdwlL0XYZ+Ydu+N5pJWb1tLogcLGoNU52Zt5w8M3mEQGkvkYnSu3LN9/R4hAzgDajWZtfRPJICoXGEdDOdIOw38+D+qqRJX/GDFixIgR48vDHW0AiAo1XQVEI5AbRWPLjCL/R6QJk72E4HoiBYGAGy730pcz9C9tRUUFBNFdVjAQbpAM4YAS7cmMLwehQm9YR/2Dfd1mf7AvMEl09KNA5+upLgqKn14aR3gg7wuUkniWCzYsssxqfpnW7gqziVkaooJVtJma6MObOsDVM/OUliskkkl6xnNMHBliYDKPk61jiwS5Vi+Vaw0ufXCN+rwX2lv8PaiqTYjyha/odoKoAcek6/hskm5xBngXGKXBJ7qjy1SdZXXSS/nKqPA0UU31Apk+9DYa8S5QQLwwrfDlTBB4SviidbtAKfy4ZYUCzwuNRZ31M6ehBQWFFFDq+up/myzdwbttiQJGEh2EDRgRhP+aiD4z9SdUFKNRBJ0wepsSHfmoiGAf+dkJx1FQdeGPSn9ARe/ybksYZGfaZFTP6AD2KxGtf5f6Bu3sNtD9cSa86/CXoa8i4Ks2xbkjqYgkC+a9TXlr/gn4TXmaJz3djW5HPcx41LT2Al5VoKOWjPJ8vb6LRr8ICLQd85JRere8Hrbj5A6FjkaKcmr00DvV9a3wddVFqQzqI/XYEWjeUtEBoIJ/wy4Q4RzriXAwd+vvgI/DH9tSRfkpGF+mFOEX1cHzii35MMoqwcF2BlEDS8d8aub84C/CP2rDHwttlY5U1FWbjQB+HS2TT4QUCjN3dIwRZZrltRUl0OPFsE/buOk0hLS10cQRhPaeNr70IgRQepOHiBA26HXTv4Z/hAgqYeJClHlPKT0YjcGi8wBdImuxIakwxpXufBsjRowYMWJ8kdhC5LyLIMIPW8qpbRdNtz0BjHNFkyIghjTKHSD8vaFaqw4EJzaJMKH+EFW+o2m1oy/8xQveCZUPhT6xuE0Gxnh5RMQY4VdV+IGFiuAwc3N+WthKvy4ilN+kisrHFp7tai9hGjKPS576wUPsODqIsh2yMovVtHGrUF6s09oAy7aw+yA1Birt4DbBa0JtucXxlz/i1C9n9YF9foipVFLXW3WKx9IXz1VErRKBftRmC2ij62YbyfUg/HJ0es8XvCMqoOkUEf4glPTz9UL6KRXkFA0A76yP+cEIg8JvlzYAGHE12p6om88oOV4HASydLhAm29yB12l7+99N9No0eIyRQQSP23dIewHt2l8Vmw1PQf7dR6iIKG2BkWgr7zr6VvdA3RCmrlJTUxkeitC2Q+Hyidc17/YX2ghPd/p2/z18O+TjIL0Qek5RwtePdJ3D0R+m78bjQrQ1RpcRzGLCV2y9IEhAc5LCExHDkwppLTpo0ckXahMdwrqpKKMLk7fhCjOrdpt3o63spF80HjuqxX825UlvJTNjy5wdEB073fqwCy8EdI/WiZANO7DlaIyOBd+Dbz53ULe9DVEu2u6qHWmGVKJN+Td1jJrBNs+um+cpUx+B8A2hAiEELh5esPVIz1PtOW89S3e74EEFNI/cMCS8aMXbatrxc5irMHNZYJpA6hER2lb8KAoRKPyhWWHz6IiEekQqHdLWnCYRrhHetlaoGDFixIgR44uBBfzvX3YlbhVCj9aWKWgXF8JfDQLhQxE6L4IHqi296Hynoy7R+nRXJUTbbwRijupMeF2ojs9bibKdadoUDSFRUgUyk7OimK3NkEgJ+vp7ySVzZGWBYqaXseEJpnZMMzg0SL4nq69ddEBVJStza7z32geceXUJ5givPfILUxE6GiVhq5rfWKHvFJOvl1a0fYqqsl2J0xUq8u/1VYbgudqcbmvVtvMYMhV9GPn62QTJzZy/RSKIaBih6r9ZXfiMlfjMcnBYj7DvojUzn7aKqd5uBTtHdnsJ26Bi1xy6ZqXCH7biq+2XGLZdtyLMt9sOo63y37LuW/ZddCQa7bJdlQvRyTvdRlFHfsH/2+LgbeB6xodoPaL1ib7Xnf9vRc1uGzqWlK16YOs2iM1fIy+a8SiMhbkt9+2V0O0NEx0RLiDhw+utsWFO5m+noVRtyc7to/F6eW7+GP4UNWpeL78YMWLEiBHji8fnEsdvnHVnEV/sInhTXpmbzrm7z2F773bm0q5Ydn7u/vbNpY2K01umlOh7twXB6fy9U0n2PzTNvqN7GNjRTzKfIJVOgxB4noKmwGm4lBerzJ6Z4+wHZ7lw/CKVWa99D2VX7aM7HTs5p9NYcjP07mb8+Oy53Sbc0lHYzQzx2eil35L+7+0q9q3HjeeLbn3ZjXSd6uPWCI1Pbds3PkOto3W6/pNbMyuZUOYvZ2aN1EOIDqPebSgj8vnzlXIz8/bnG0dfKK5rbYrSTwYjOMrv13l1mwXrzyYqQOF97lD3TrVeGxfUDSMfbuW83rlSh/ldfyVtM17Qrvx3Gq3vUI6KESNGjBj3OG6zAaC73/uLxOdR1beX6zZzDirR/q65DKkT3XLsFElF5N/w1Grfh2wOhWOzfKiimSAI9i0IkFLgKVcbAJL+/73Qu18wMNVPtj+NSAmkbYESyKaNWxaUZyssnF5k41IrPLQusv9WCoHndQqFW9MxfGIo1OkR3B626v/bwxcdZQfh7KaUrRLeygp8vnHXTnfjJ2vnUw82M9Xnxlae3/YUnUVvpfxznTSbU6qIatSRfhvKVff63IjztmPu2xomVoSt6v0F4MbbNW5BGWwxf32unEwu1+nUTYc33IEGgK2c6Sp8vHmlCXfri8/JO9o7L4JtIMI/kC+MObmpzLrWva1u25gnb1WvXX+V3l6u0cMZo9s87gKTUowYMWLEuMdxmw0AnUXciwaAm21bSBcjwHfbZbhVjlHBSOALGRBcAdUplG/P4yAQQh9pF4R3m2245hTlDOFVR8YwAOG1eVX0ScjRkH9fBpRCq1eqqwHA/G2vYVjvkErh85tXaDvbv7Xn9m7H5/Ncio5vnQaA2ye03nhMbWdG2f6s017e7YkA2MoA0InPYgAI/97L3sTOdn72Nn4Win0RZsJbgC2MVO0tjh6VF24R+Ty8o9ca0cUr//lp1dUAsM33zN/PW4tbtQZBuwHgVtUvRowYMWLE+Ky4jQaAz4tbI3zdvIeuSwZEkt1puGWe2C4uGANzHpc59bjzbupO3eYe1EjMyQGbBbdYjLt7sD1zWIwY28XWHLWd9eV2pWGLdDFuBT5fn8eIESNGjBhfPu7QawA7A/m+qDK3cKHcybhlMobq8tVXeB0V0iJ6J7pJp9rfuVcFH7Hp073ZznsT0Tnl3uXRGF8OvhiO2k4pMW/fToiOz92V/xgxYsSIEePOhrxxki8Dt9Z6vr3cuqS4G+So2yp3dD0nP/o4Uo3wBPt7FbHX/25H3Gcxbg9uzFnbmaRvlGY7/Bvz+O2E2uJzvCbEiBEjRoy7CfeWxtbmmP08uwg7wvi+BCp1nhQA0Uu91GZZUW1+M3zwWbdPtBeylTHAKP9tVxjepdj+lhG4l4bOvY/OcWFwo77c+prKLwZxWPHN4Ysep937pzNa6Mb7x8N8osdvxj0eI0aMGDFixLjVuEMjAD4vBO2C2efJBy2BfYHRfZtVFdE9gcFtlBBDz/7WCA0Tm40G9y5isfzuQmd/bTFH3NHs+5cSZnyr2ni7aXX9/jAH7X2WfP9y5tEYMWLEiBEjxheNe8sAoKIfboXvJKL5f4H63uaiuu3P3/7bt64um4VSEfnv1pd+JyMW0O8udLOadZkj/nIY+A7GreqE292Zt8s/f/dHUsWIESNGjBgx7lzcW1sAtoHt3F0dXtkD0lccvLtSKLtV3dt59FEUd0c4/M3cWS6E2dJA2ztRv5wxDSn/293HG/cy2j2z4f3kUSifJ1SQRil1W++0vz4im3428Wp0O1P02o27Bzcz/raf/gsMhfrCcP05WwDS8Kr/nej3m6TzvYyYFjFixIgRI0Z33KG3AHw+iA65MLr+dxcGokKXACH80AiB1FIVAoWnPLy7Ssi8lZ60zlPUo/nfTTTZJgQoT7dbIDG6oiCiLKJ5TaHuSRLcvehmsGq/uEsIgRAgxOYgqC/bCKCLN95lSWCGDP8JcLcoN0qp0LC6zfRRY8jmPMz98/faTvnrK//GBBkYI0Vk5boJ+v4lIDo2zJx9s4iNCDFixIgR417EPWUAaFNPtdOPG63bwQLv/yOEQgrtZREKUKL9DIBYDqD7fuo7mzA3K8Dp9KF3WLOJQgJCCpQSeJ53Q/6K8UXD8GI4YMM+2tynQkTH/p0i7Hv+34jXP6ivVny10enLrufN4ebp2h6dYfqru6HkLwNCqGB9M7RwTYSSCVy7y/jii8LNGgGE8M9wEL7xe1MUUYwYMWLEiHF34u43AAiQbd7ZqEckFO4Db22Hs1YprfAbdcECLBQCLXAqAa4C5d1+eTsa6Evk75cX6Br1+l9P0I7W/O4QkTq9ZVHBsD30GpRyEQpsCZYAhQcCXAmuF6gp5u3bXfUYPrp5PLcW8CPeQAkIL/SeKjMviDuk+4xC51dGGGUkcnKBt9W7dza2bWQxc7IAhIpEdfkUaN+D8yViq4MAb3Yu7B6pYiAB6c8/UoIlQVqaji3HzENKr1xfOk3uTHTjPbPVS3asX0aWCNwDAm30Nd+5ce/G3RAjRowYMe5U3IUGAOFb8rUAb9vgOAQGgExKC0aegmYTXEe/ZenNkzqsW7UrawqtANgSenuSDPQWSKeSKGHRbClW18usrK7rcm5bq9rRzcfe7fcvFlttn+j8fOeKPlLKTYqj522lTWmhUAhBIZ9keKBANp3C9cB1YaNcY2lljVrr7tyXffchumdfYllh+L5SCs/zjXaqu/IlpVb+EwlBOpPCtm1qtQbVaksrTXeE5qTrIK3QW5nLp0mnU7SaLWq1Gp6r8IAt2faOQfsZC9Gx53nedcZdqHwJCam0RTqdBgWNRpNms4Xrgrijdt7cCmtENyNAqIxKAX39FhPjwwwNDZJKpWi1HEobDRaXSiwsrFGp1nFd93PW425HO/0sy2pT/jvpEz3ZJdoD2Ywgm83gulCvOTgOuK6H4zlBmmiJBLncSXwZI0aMGDFibMZdZwAQvnfeeO5sCwb7U/QWcwwO9tLTU8CyLZSCSqXOyso6a6sV1tYrVKot3CBsVIReJaU9LKkkHDq4l6effJgdE2N4ymJxqcRb73zAG396B9dr4t4moTsatCy6/Ga+39m4s2toPGfRbd9mm0h33c9DCLAsweSOEb75/FNMT++iUXeo1Fp8eOI0r7z6Os5GlZZ7Z7f93kDEIyoVUqqIYK/Hs/L8Azs7ukMI3e/ZjMXevVMcO3aEfD7L+fOXOHHiFPPzq7jul61URwpXimQCJiaGOXbsMCMjw2xsVPnww4+5cOEKjUZrW1ucvlxElTCwLW0AMBEMjktkG02HAq3dsvT3pzly5AD79u5BKcnp02f55JMzrK1VuLPU3FvdEaEn2pKQSMDhgzt47LFjHDm8j8nJcTLpLJVak7X1OqdOXeK137/FiZOncV33tq1TdwfCLRGWJfScbwxPCkDiulFfvoeIXIgkBYyOFjhyZB9TU5N4nuTUJxc4deoi5XIliPpSHSXe+ebvGDFixIgRQ+PuMAAICcrz9+ZDwoJ0AnoL8MB98MhDw+zdO8zOnYNYlsKyJJ5ycV2LhfkqM7M1PvpkgXffv8zHpxUNB1xPe9GMAG1JyKZg/+4y33rO4eh9SZpOgbMXUqytZnnnnSY1XRm/UtFl/iZD4INNnLTtSdBysH+pnjLJBAoPbwtJX0Q+qS3CR28WYZ5Ku9m6PAlSBN7WTvPF9utwvXD87WLrUiWmX1IJmBj3GB3tpVDIYFmSlZUqly6ts7KqaDTDvcXKp6YQYEnF+PBVXnymxOOPSkrlHCvrGaSc540/1VgrqcCqIEw8udDnBGwtGrbX8noRIFu3rVv48Q36P8Ii3fPd3oYT0XYkmQk/Ng83u2bbuzjCYTezJ9evTdKGiXGL0bEcxUICO5GjVIKZayXmF9aoVkFKvX/H1MsSipQNR/a5/G//fRd/9eJhMinJx59k+F+/qPHz/yixsOTSdLSS8FkV6zavoFF2lfKHe3SLgTFjqrY3BQobSAiYGIb/9oMRvvedKXp7ktRbU/z6Nxb/1z+ucuKj1e1PNRHc6JVNXk0h2mYVEQkxNz3ebWd09NDMdBKmpyTDQz1k0hmUkpQ3Gpy9MM9qCRotfLOuzk2gDQa5LLzw1QI/+Ztd3H90Fx453n43yz/9yyqv/aHC+ga4mwZKZKyprVsvgrGzdRu2okuYUzjnm6tQlck7OCh06zVhc57tWruUkPTD/h9/GP7734/y1ad7KRYWyWZqWDKF66ao1Hs5tHeSjfWznD/XoF7vnv/1VqjoTLKdFaTbeA5oqkLOCNt2cwNKIHVWpsbdJsStpjih1/N8FnZNWgwPF0jYeVpugo2yy4ULsyyvNINtE6CNhrbQtC4W4DvfHOP7f72b3VM9pNIjvPGnAv/n/1zl7XfXwjmio9zO70JsrqigvTntoz/8vPVKsUWb21bt2AQRI0aMGDGujzvYABBZBv1wf+Hvf8yk4djhBC987QBPPbqDQ/uL9PRK0rkmWI5/KIAHTopWfYBqtcCVGXjggQXeeOsyf3z7AhcvLwf7aI1AKwSkEhVymTXy2WUaLY9MysW2mxi9bnP9oov8NhfeIAqh43Vh6mPES+k/Eh2KeIQ0QU0+x6LfIad0FQT9f7Y+afpG4tDWiO65/zwHWXcPwtWdbElI2HDo4A6ef+5Rpqd3kEqn+ejji/ziF2/z7rtXaLZcPM+oICFtLQnplEc+s0I+s4TrZqk3BalECyE87VXyEwctifZxULvIb1H26aC71+Wt7jJvN2JdJxQ5kllgYNqUWkHgDdtacQkVqGg+XYR180zbRIKD2254YnmXZmhFXg/vw4eneO65o+zY0UexOMLly2VefvltSm98QK3aQHkRk4QQWBYUcnDkYIZnntrJ9D4bqmtk7u9nbe0Qf37vCpdmlgNz0Q1xHc3aVL3NaBcZ3+EVk529KZAoLAENF3bvgGef3sOhPSlcZ5lkdpja0wd5+90znDm7Sq1+47p2sNi2mtTGF5ErMPVvyq+/mXU2qT1I0W7YSafg8UcP8cxXv0JPoUgmXeTjTy7yf//TyywtLyEAT3lByUZv7+uFJx7bxTNPjdLTXwc3RcLayYUL05w4eYlqFTzVQcs2o2onL+s6R/l1u9NNdzpu7vSAKqrjwRYQHd866ZlKwdFD8JMf38d3vnWAQr5Ewl5FORLPlQiVoZjdSyGbxm2t4DoqXNe6lNPWtx0TQOdq1tm2tpa3fVcBf4jgmwra81nWJt19Xda9zroYo0/Ap36PKx3R98Rjh/jq0/dT7BmmWrM5fWaen/37b1hevta1LxseDA/CV5/ax5OPDmPJRTJ9wwixmz9/cIFPTl2iUm175ebadZ13btZYF+0sQ/+765aiGDFixIjxZeGONABEr3qK+lpsGwYH0jz2lYP8zV8/yVceGGd0wEOyjOuVKK3VgBpCukhhgbBRpBF2nrHxXp7tvY/9hxW7937Mf7z8Km+9+wmJRKiYOI4vBJnTAyMyZXggUDeBLrp0b3MB7pS0/GyNgG38buFJ12yWECC4rlCnuoFrZCtEJb+Or50Cy43v5f4MtIik/yye1+0I8VJCMgnj42M8+OADHD12kFwuTzZ7kuPHZzhxYoFqrY4SCuM5Dk7VBl+ojhp52r06obJk1JGo8tGevg1ddMSterFdCek0QN0ctn7zZvKLCvmR943Qfh2l4Yae/y4al8DfxmHBxMQ4Dz34IHv3jjEwsINTpxY4cWKGdPoUiEbkPX1miGUpEglIpgq4XpJW2aFedXCcLJadwrZTAHSPnO5ipblOki2bpDYrSmFj/XHvTz02kEjZKBJUazrmuKkcXFeQTOVIJKDRvP6WhU6lz5S0Zf060ra/p9rS6eci8l1tSimE9pQmE7B79xSPPfYoA339FAv9pLP9/PqVt5HWEp5n4nREoJQrBXYCUqkijpuivFrD8Rq0nBSJRA47IRAyOhJCJTC0NF2vs/TBb90MMd1Th2MzOgvo4tqNIyGVbjyWglT+uTYiUojnQbEIL3zjSZ75+qMkkw3qjXU2Si1WlleZn12i2cySKyo+/KTO8eMfs1HuXu/rVaBz1u5qJNgGbqXnedOBfd3IGrBcZPYRIHTwAMkkTE/v5rFHH6V/YJy1ksJKnOO13/8ZR12LxIa1I5USSCtNs2Xph6UWzVaadCpPIplEiKaeKMwCYYw/kTlAKdV1jrve/N4tXbf6dUNUbtgOT8eIESNGjL9s3JEGAK2Ea2VQoL1+SRv6i/DC04q/+1GRZ552SCVmkbIFysJ1C5TKeVbXqzSaDRIJST6foKfHIptaodGYG3rxHwAAIABJREFUw1Mu9x8cYHqywEBxB63ap1y46NJo6jBU4YHwGghVxhIVLDJYCizlYSktpAq8TYKxMlKUqfx2G+lDRuSIoP2Y0w7cMHEXZwi+0iB84wFB2PE262Hy6kgf1Ss2C8rXUy1uvPl0q6oZQ4tJtB3hR4Ru5S0h0TyUsiBnnSYnJ8mKCkkKpMR5EswiRSPoh6BcFXqUbAEWNQQVLECSQtCMCHTeJh7QZ0brFB0q8mbluP0pRj3sFMzbVYyQQqFX1qSMaqR+mg426uwp473sTvWwNjrFdeIUlJbA9Sn2vpFAhXXZyvCwqcXmLni/RIswPD7NZXIcJ89lMiyQ8KoIdwah1rEAT4CnfBHf8/BcqDXg8rUKFy7XmNzRi+ekuTpT5szZZZZXqiFdO9la+m3ruEIk5FcRvqdCykTNP4JQYQ4DxQWewN8qonnEU3o+cID5RYezF2rsnprCFlmk18/ly9eYmSnRaBB4ervzSSd1u6NdmTeUDq+aCzyrgtAI6od4K9VZqp+jGTd+5gkBST4gqfpJMoStRpDqAlLMt+lQgpC+toBaGS5c2ODyFY+dk2N4FLh0bY1Pz69S2lD6gNdgrOk6CaUQShAaJ7r5RM0oCs+T2TyjiU0KsHlLKEOfjlB34St+myhuNETaOia0UYUmX5RuO/6ad2AXPH4Udg2t4LqKan2A2dkEv3j5Aq/+foWWu0Kxr8HyqsP5S00c198WEWxBipQfrF1mnG5WMdsMG8EPkQDz6OSloq00NNA/KkQYGeWvnMIc0hFZQ8O4j2jZcvNBnlE7gCLsmy7zqJlqbCAtPiQn82TFJA2RJsk8Ngv61Ui3CCRCaEPbaklx9vw6Bw9M0t+3E2WNcvnKGpcur1KtRmbITgOECsz2wZRB0Fr/iQo4i0gSzGqhP4Uc1M5FkXz8vEyCMM8tTTkxYsSIESNGgDvSANB5365SkErAow9L/ub7X+HBo0W85mU8JZEW1Os2n56vcPZijUuX16jU6ti2YnQ0ydRUgv37s2RSNraVxmuVGOyd5Jmnpjl/YYmfLr/P7By46FsAhPDw3AbQQuAgkUjlBcK+5dfJLK0udF4qsDUiUpQReIXQCrbxHijPiKVaJJTYKFw694cGOQk/N+ELwb7kroQRcEPhIJBTgnqa+AGvTVSIihJC1y4QeAMXjAqVwRDXOdU7EMg7/ERGiBME1zFq4Uz4B7qhvfKbC/Pb0i5ud3ZF0G9CC9a2KGEzj63yQAWLJSQVhHJ1O30XnIgIV+EVXA7QRJBECBdwEGiPtIoeDCUIQ+xDKd+ownQqwUYd9LXmgFJiU4NDxcZQ0lPht80iY1iB6BOBaFeLRBhxItql+kgWEoItKX5LI0p9WII56V0R5Sbj0RMq2n4VtNnwu/Iv5DLRFO1mBuWXADYlEiyQVFXw0kivhVCVoL8FEhFEckhcz6NcgY9PVfjP37yB5zTJpROc/OgKr752irm5NZIJcAzPBR0pwmvAPeWPM63cCr9dKhKGHlX+RfC/CGigFUjDJz5PSAFKopSj1TSlzzi5MgO/e/XPJC2HkcEi65VlXvn9p5w9e5lmMyzHUNLMTaa/u5lyOrvWjHEiPGH2X4Ono7B9mkpNDm1TMeM/YgQwqonAv3VFhcY3iwUsdQ2Lls8Hywgq7eNW4fOAAg82SvDWmx/Sk3O478g0rijw1p8v8867H7G2pq++k8hAyTe0kESC0EWUBpHSVBic3jlnSN/a4RkLNKEybfJsU3yFzwcos1steLRpyuqitEbrFo4iyGdgepdkdEhgswYqjdca4PQn1/jVrxb4/XFIAMnEIsKKKMWYSloBTcPK6BtL9GaT6AvhvBzQAZCRE1OjdPTJQtuhvD5/KEEwL5mcoudfiLCXO8ghIv/7s6LPGAHNvc65K6ycFO2GVj1PLJDgKglhkxBFLNaRoooltJEwzEYCHpkELC3Da6+/i21V2Ld3DGmt8qe3LvD+B59QKrX8Pm43imsjfNtM7tNIgNAcqdnJ8yOBNrfdUEXzcleubV9HfVrrssP1QynhT2B/0SdBxogRI0aM6+CmDADbvsP5VsEXOi0BBw4WeOk7z3Hs2CSZzBKwTrNZZblU4/U/fMhvflfjveNQKuvr/5B6/+ShQ/DYY/DC8xNM7TyEkIJypUpf/w6ef+FFZhcsfvnLd2lU9fWBKHCcVls1QsEQP1G7AOgZ7W+bjTKKgBR+eLIw3hHlewTxlQrpR0JI3C2uNjNKq0JpD4QvvBoPhBbt9bvmqrQ278X1auorhtKPqWwTr1To1d02P3QKv8b9JwkOeBTCF06VFvTC8+S2z3OblB7pXwHn09ZTHp7ysDwvbEO0SlHB3RdmPS9qOGlHIgHKiai8Ruj2bwfUniajHkUE8jayaEVVSss3IHj+s9CjGAqd2sLgKQiP+46qMd21jKiyE/KM/i6lMX54gRIX5iu1goo5xd3D3UQQo9hHSwlheF4bGwylfMODr2Eb9V4g/NPh3VCQjpYUPbxL6TsZA0OQEYhDwga/eS7MzcLPf36eD945TzoFC4swMw+VRkTxD7QboZVBNF2QMhhPQpk2STyltHFgCwh/fJvxhPIi9fWNH8JELHh46O1IGyV47bVZLnw6S7EApQpcnYPlDX0uhfaw6nEityz9xgjNN+Ge7ajSIWWo/EuB5gVPj38hxKbxbwwG+PQ0/eGZsGj/b+gtj9ZFBe+1mnD8wwYLc+8zPPg+LQ9mFmBhGVqO6V4BWGj/abexEPK2ibQQQqA8D9fb4h4BYwQURuH3+dNEgARt08q/lBIptcFA+T5tpWQ7Xa4XqaQUCKXXg1BLJpWC4eERCoUi0rbAVczNXeGD4+9w+Qr0JqDlX0nqueHBdCLaAUQ3lIktq7AlRMgX0TlBCBNzFOSs/0ptfFYKhDlPxTTJjKsu/W7MH+FaK3Vefr9a0o+YQYXWhbYpT/h1bc/U3JShSRIZh5GJRZgbRFRIy3feWePKxT8xPKiNgjNzsLCk+U6ZxihDizBixrRD+LQQUhtOPRWeixBGXkRn6sjWmRt2iR6IQmgLmzZ26rnZ8xcsfcWmBVxn4YoRI0aMGH+xuKEB4Fac0L59hCKdv7aRsmGwD557Os0zT2UpFqsor0HNKVJvjPHybz/mH/+5xkefwEJJv5NJ6EVcALPLcOJTWN4o87c/zHLsyCSumyCX6OPRJ8Y4e3GOt997n9XzrvYISA/Pa4CqImXV35e5RCoJbMCuKZfhwSTJhIWQFuulGrPzsLSir7VSYut9uQJ9orzwFAkb+nthZBh6ewTpVAawKJebzM43WFyBpgMt1xd2O+THZEIrnpb0AuHc8UNizX73gX4YGkqSzug7xFdW6szNw8aGFjoc18OJeK6FJLqNHYEiYblI4ZJMwEAfDA9DIZ9BSptazWFxqcb8IlSq+n3L8hUFX+FutfReZdcXnk0TLKPsC304Xy4HgwPQ3wf5fBKURbncYGXVYXERNsq+rmsU8kCoNNK4eRYSyfLzzmQgm4TeHijmIZ1oIrwKeBbZZJW+nhLDg2Db2kDiuZr29YamvTkV3oS0CuWhWlVsSmSTcK0GO3fC6FiKhK2wpEWl3GBhwWNlGVquwvF0X4a8ILQHJyIMW7gkpU6Uz2neGBlMkkzauI5LoymYX6ozt+Dv/9a6ZBA2Dqb9EQE5YuAwwmag+Bv7i1AkE26w1WZ0GIYGIZlMYFlJWo5icbHK3DyUq4D0+7SDvyUeUnokLM2btqXr5roEV+xJqU/ZHhiA/n5BOp3EcTzW15vMLcDaqk5r9o8rfF6SkE9rz3guAz2FOqlUC2gBVdKJJoPFMqP94LXAxcPxx069ocPFTQTy8hKsr+o8m44fMi01fwmhD61L2FpBDejqKwbplD6cbngQcrk0jgOljTpz84olf8wKEcZLpJKQy3kMDsHAQJJUIkWr6bG0VGF2DqoNXX7TCeloPHuuB2sbUKnornKU3+d+OtuCdEqRSvrjzvCWn8aL2CVbjj8ninAcCQmNBtQbnq+2hupIwgojcvr7YHwcensSWNKi1VJslBrMzcHikq92S90OxwNh6fknnQRL6XmopyDIpDwEVZRaJZlao7/XYWQAmv5c7bqKZguqNT1WPMBpQP0aXJ71+yDga11eOHo83xTg87Olx9Cgz2eFfAGFpFJpsLpeZX4RVtf9+krf+OOBIukbUptIqUgmNZ2Vb8zThgxNw2xa8/HgAGSyKRwXSuUac3OKxSUXN5J+a/ulr1wrF0vqeT2X0XPX2BAMD1ZIp6ogLJS0WK+VWS6vQwIyBcgIAj5vNMF1dH0TSReEG8ztjqMN43oaNiH5HgKl09v6jB0z7hxXv+O5+pBT29Zzg5ShUUj4Y1spyGagfwAGBiSZTJqWoyht1JiZ9VhcCsdxy42qvmZmMv962P4cJJW+BWJkBAYGk6RSKb0Fotpibq7B3CLUmwSRD66nkFL3STqp8xjshWy6iRQNoIYQgnSqxEBvmaFeXw8Xmu8aTYd6PTQAVmtw6Zo2OCml6ep50Tk0emWnHwWmNJ/09cHoCPT1KtJpC0SCWs1heanJ0pIez45vsNFGxzBXfDol/T4R5qACv56O45LNwOgYDAxkSCZsWk2HcrnG8jKslaDqHw7adglNbAOIESNGjBgR3NAA8IV5+3VpAMbniFDgNGHvNDzx6BiTE9BqzeLhoUSG375+hv/5z+/z1rt6obRtvQg3vdAL5bkwtwj/9r/WSSXfpbenSE8xz8WrHzC79DEzc+cQvtLleuApV+8FFA6oBo7TwLIaTE7CoSPw0CPHmBgfJZW0kNKmUvGYXShx4sQF3nnvKqUNqLd0uaYtCj+SwdLCyWAfHNqfYd/ecXZN9lHMJ0imsnieRa3msrjqcOrsEsdPXuXM2XUteErTH7pdmSzs3Jnl0MExBvp7KJcdLpyfYebaEvksHD44wIEDUwwO9pDLp/A8wdpqjZnZDd7/4AIff7LM+oYv3PhdrIKDjXxxzC9rzzQ8eGycfXtG6O/Lks1mkcKmVneZmStz/uIKH5+6yKUrdXbsgPuOTpHPDdCo21ybWeP4h+dYXXdouaFhxxKhsnXkiM3Bg6PsnOyjry9FLldAYFOttlhdcbl8pcTZs0t8cuoaq+tRjyJt3iSlwgB5gaZ3Pg9HDveze1Ix2LPOgf0DZDMWyq2DY5PLwKGDYziizvqGhfIytFo2M7NrnDx1jbl57W1VgNPSUpsUQm8ZUA2GB2FoFB5/8igT40Nk0jaWZVGrwcpKlZMnL/Hn9y8xN682RRF4KgxtlWjBvbcHDh/Is3/fKDvG8owM95JJJ3GaLSp1yeKKw/nLq5z46Cqfnl2h3jKitAqtRFu4kJRxUUW85UppwTafg0MHExzZP8runYMUCmnSqTS2ncR1LeYWS1ybWeXchWVOfTrP+cub5wV9WwJMjCc5et80w0N5ms0a8/PrnDx5lZVV2LcXjhwZYdfUACMjfaTTGVzXo1xWzM9XOXV6hvc/uMLyUmj4smxIp+HokX4mxxL0FjbYt2+MTMYCHHBqpJOC/XtHaDkui6tVHJWl2cqxsAQnT15mdq5MKgHDw4KDB6fYuWsYhcPqeo3LV0ucOj1Dad0jkYDhIcme6XF27RwlnZLMXLvKmU9nqFdh/74e7j82xa6dPWTSKZRIUm9ILlxc4b3jl3jvg6usrGsyp9Owd4/ggQem2LNvmN6eDJl0AeXZrK81+PTMCu9/cJEzF5ZolkILgJD+taRpeODYJKOjeZIJD2SRufk6H568wMJ8GUvC2EiaI4d30tubQMqKcUqC7+X2fEuoJS3A0hoTaVyVolyBT05d4dy5eWp1zSGWiByYOQqHDgyxb+8I4+M9FAsJknaCet2lUnGZm6tw+vQSH564xGpJ6XnP0cpNTx88dP8EowN1+vIr7JocJZkQKNWg2VynUIBHHhmh0Fum3uxBygHqNYvZ+SrHT5xhcVUbSffvK7B3up+BvhxCZVhd8zh7ZoGz52ZoNbV2I3ACo2NCasPqkYNp9u0ZZ+eOQXp7sqTTWcCm3nBZK9W5dHWRM+dn+eiTRZZXtXHFxbdYoUPBUinYtSvF3j2jjA73I7wWFy5e4Nz5CnYCjhwe48jBHYwMZclkMyiZoFJzuXx1jRMnZvjg+EVKJWi2QqOwCpc501GB31tKPf6/8vAIfcU6E6MO+/cOkMsJ8Jq0PItsIc+R++/Hs2eo1SwcN0+zmeTKtTKfnr5Mw4VDB1Ls37eTTK6Ih0256nDyowtcuLhCo6ENr8Fa6xtJJ3ckOXpsL6Oj/dTrVWbnSpw9u8alSyvUGh65FOyaTLF7aowdO0bxnCZnz5zm4sUK6RTcd2SYg4cmGRkuaFoom0rV4fLlFd7/8CofnrjGRkWvNW5gOZQYM2LggVcw1A+H92fYv3eMiR2D9A8USaWTOC1tzJufL3PmwirvH7/IzFyZut6xh+dqY8/Rw8PsnLDozc6xY2IQKT08r45S0FOUfOWRvfT2LVFrZBGil7UNi5mZEh9/fJHVMuRTcN/RUXZMZsnlBIlED+uriuPHL3Pl2jJOK+xDExVjJzTfHT6c48D+UXZM9NHbkySRSIJK0qh7rK61uHp1nU/PzPHJqTkWl01EjQjWMqSeNw7uzTG1a4S+/iJCwMVL5/n0TIlMBu4/NsbBA1OMDPWQzSRpNT1aLTh3fp4PP5rl+ImrrK4bA5lvYIjM+zFixIgRI8YdeQZA4JFGe58OHhxh9/QBfYqvTOM6Fc6cPcUrv3mPs59qb5WvmwF64RPK34fqGwGWl+B3v53BVv9AT0+Bk6c2uDQDM7OwtKjfMwqa9F2OruuhEOzaNcX3BybYs+8g+w8cIpfLBJ7BlpvA85J8fOoyo798g1d+9w4zcyUaDcfXySQCTytHadg7PcDXnrqfp588wsH9O8hlJOm0QmDjeRYtB6r1BIurHm++c5qXf/0H3nnnONVa5IRoIJ1OcezoA/ztj19k//49XL26xNtvf8CVS+cYG+nhsUePMrVrlGTKwrb1nt1GQ9Fs2Dx84hL/8cs3+P3rH7K4vIHbipwm5ru5hIKhQcGD9+/jG88/wqMPH2BivAfbMjcsSFxXUKkKltc83nz7A97446vs37+Db33rm/T3j7O21uTtt05ybfanrJVm2zyUyYTNwECSRx87yLe+9QRHDk+Qz1tk0i6WTCJEAqUktVqCjQ3FJ6fm+N2rb/P7P7zDtZlllKvApcOxoQJji/K9qj09WZ5//kW+/c2DZOw5Cql50qkmjZbCcWsUe/r46lf3cP8jAzScIkplaLUsjh//lMXVf2Fufi6Ijqj7J68Jf3/w0NAwL3zjQXbvPcSDD3+FTDaBJbUn0nETuI7FpUsr/Oa3H/Cr//wT584vUKvVMfeDS9OfQhuGxkbyvPDcY3z9aw9wYN8YPQVBwpb6bAo8Gk6KlptmbqnOhycv8V+vvMmbb51kcWlNb+3YIiS7bWT5A8sYyCwbpqcLfO2rD/Ds1x5k/55hBnqTWFIhpYWUFq5n0WjCRsXlyrUN3nzrE/7rlfc4cfIcDd917W91xXVh7959/PjHP+LIkT2Uy+t8dPIsmezrrK+v8u1vfY0nnjhIPq+9/9IYV5wULSfBuXMLvP6Hj/jVy3/k8pUlqrUqtToMDmX46tPP8O1vPkQmsUght0E2vQZinWq1QTrTx6OPPc7RBxLUnTQtL0PLyfHxqQVKpZ9xde4jBDAxMcpLL/0Vzz73OEK4XLyywO9efZ9rM7+itL6OZcH4+A6ee+5ZXnj+a/QUM7z353d580/vIJA8+sgx7r9/D/msh2VLhMjQaEG1KnjwkRmGf/FHfvvb39Nq1Hng2G6+89LXePTRAwwNZ0gkwZZplCtxXZvFJZcHj1/kl//5Jq+98Q6rpQ19lqRPy4H+PC9+43mee/YhpHSwEn289oePmF/4N+bm9XHv09N7+OGP/prdu0ewrTrBvvZgu5Z/DaZl4XkmUDuDZWWZWyjz//7Tf3Du3H8F+5I9IJ9NcPjQTp5/9hEef+wA01P9pFMCy2oihARl02pKGg2LixfX+cMbJ3j5P9/g/KUZak29fWpkZJhvfes7PP7wCElxlb7cMoo6LTeF23To7xvkr775El/7ej9NtwelijTqKf701kmuzqywuLpEMgkPPnCM7770BAf2T4HKcP7cMj/72StcvbZMo1XXW7KUi2UpLAv2Tvfz7Nfu56tP3s++PWPkc0kyKT8kX9gIYVNrKErlBucuLvDGmyd47fXjnDk/T63aCoxyliWwbcX+A4f4/vee5ysP34/nNHnttVd5988fMjY+wVNPPsLuXYNk0wppWShh03QE9abF6U+XeOWVd3jllXe4cuVqYAQIzmlRkTHpTwMtB0ZGBvj2t7/L449OkZBz5FPLuN4q1VoNR2UZHRvlxRf28fTTaZpOFtcrUqvZvPHHk/wf8//AQmODY/c/wI9++BKj4xMIK8X5C3M0/+HfOHvuj5tmBIGO1jl48BA/+cnf8MADR1gvrfLhh+f45S/fYmHhTWqNCqkkHDlyH3/1zWd5/PFHqNcq/P7V33Ly5EeMj4/yxOMPsXPnEJmMQFoSpWxaLag3JA99PMev//Ntfvvau8zOLeAh/YgKw+x6LkwlYXpXPy88+whff/ooe6aGyBdTeguKJUEkcFqCRlMyt9DgrXdP89rr7/POn4+zuFQhYevx8N3vfZOvPDhM2rpMIT2LZa1TrgBIhoZH+MYLk3z1mTyO14Onciyvwht//ICZmZ+yWt4glYInn3yMrz97lKGhHL09o3z80SzVyr8zN79Kw/HPnLD0uUHplMX07mFeeP4RnnrqiB4vaUkq6WpZQiXwPItmM8HaWpOz5xb4wxvHef2N45w5dw1XSfBcPE+PwWwWHnroEV78xtNM7d6JZUn+9OYbvPnmm+zcNcmzX3+ayR3DJGyFLUEpG8dRlMsup88u8ev/eptXfvcuFy/PBetLHAEQI0aMGDGiuOkzAKJbAm56D/h2y8H3iEqYHIfD+3sY6nPoKwjqzQxlp48/H5/lrT/D8qofBuhppdUDc4wYLaWDHT0F9Sq89yHMzkEqtcHyGpRr2jujPEia0EYhETKD03RwnFWGBxRffzpHOltkZKSPRF8DrJYOTXBa0HRotVxG+zyGe3eTTSzws5+/z+VZE7rsYaHDKQ9Nw9//3STffnGK0eEGhcI8JLJgJ31XrD7x36m2mBx1mRpVjA+OI91PefeDCs0WwcnXwmnQn7vEvh3nOLinxUh+mf70Cq5TYKC/l6ldApkt6RhcE0pRq+F6HtMTGQaKu5DeLL/6r3XWWgSGBYGOpCjm4ZvPZvnhX+/gsYdTDPQvkEyva2uLlQaRBM/ScYYO7ByxOLq3wNBgg/37P8Wyy8zaSc7kV0jJMi3/WAXL74/RYYfvfmeEH/5gP4cO2BSLFWw7hbBscPV1jtg2uAqn1WTneIX905OMDy/wrz9b4vSFreWa4AwkIJmpMr0XHn5yGNwWVEu0Nko0ahVQFvl0nt7BPsjYul1uDrw8njtHT8Hfh+871Zsth1q9gkeLTMbjkQfhoYcmGRsfID+04Qtbnu6kZgvluuwetxkfGiOT2MU//+scn54NT5G2hU9OCbsn4fvf7eP73xvg4H5FJr2i49095ceDh3Gmu8Yb7N+VYM+O3Yz2L/Hr36wyswD1pgoHz3XCjk20QSoBe3bDT368g+99Z5rRIYd0coFMJqFjka2k/t/xY/ibTe6btjkyPcy+XXv4x3++zOt/dIItGTqMG/K5eSbGrrFvyqVWmSMjZulJCwQjPPFEgdFpD6QLqg7Kj61vuriOYtcITO8YoTe/g9/8dpUPPoTldUglakzvzvD4EyNgu1DeoFVr0Gps4Kk6qWSD3YNJyA2BnQMnCXIMKRV9PeFlmanELP3FS+wa3YFlubi1VfrzJZKiBvgn1svL7Bi+xtG9V8nkm6TdC+wetclkB9k9laU42gThgtcEd4Hm+ir1nMvEQJ6RfJ6hNKyuwXPPFXjppQEGR12wy2B5oNb05vamy9hAhn270gz0jFIrJ/n1q1rxl2gWsuwyvb0z7JwYwJJVPDFKb88CydQq/q4FhgdbPHg0z8HDOUhGDqJAQLMONEG0UNV1avUKSA9H9YM1zEBvntEhFylCJTRrw8OHW/z9T8Z5/oUxxkYbpJJzkEz5newzl+uhWoKpCYu9u8co5sf4+S9meOd9aCko5jY4sF/y4JMT0GigSms0a01abh3lORTziqGJHkikwcqC20OrUWR5rUAur/vCUpC1LzPaM8TeMYGn+qmubFDMlEnIujb00dCHN7bg2BH42x+O8b2XdjEx2iSTnodkRv9vYrulhHoLr1Fn/06H+w/sZnpHjZ/++ypvvlPDtsFxNU2EBxnrNLvH9nJouhfVXIPqAkf3FBmfGGLnpEeitwrS0/tOnAZevUqzZbFruMjusZ2krfP8y0+vcHVeG6SDaKXIv4b4roJi0eHwwSL3PTqux8faEo2qQ7NRQQK9WcHIYAIrnQOZBJGiVuthebFILl0lZcFQ7yWmxi8zOuEh7BzN+hK9xWUSUvvbo8fXCaHnn3z6CrvHF5jeN0ptcYbla1cpZNaxLX3apCUglz7LxPAk+yfzCK9C1lvj4cN5Rsb62bnT0AJNi1YNr1qi2bKYHCwwOTRBUp3i579cYGFFh+iZ8hP+XHTsMPzgu328+EI/hw54SDmn+04mIJHSC7XTgpbH7gmLw/t6OHpwN/9P4SL/8XIFT8FAX53DBwQPPN4LbhXWVqlXVnG8Eqgy/b0ek9M7wM6CzII3yNpKlsX5q+RzbtDWQvIaE71ppsYz5ItNFq6tk0yW8ZQXGP9Tto54euCYy49+MM43vzHO5ISLLeexEraeQ6UdzuENh0a5xt5Jl2MHJ9i9c4N//OdrHP+ohZThlp20DUM9Fzk4NcX+vR7JpKI/WeEq6yWtAAAgAElEQVS+qT4mdgyzZy+QL/tzpwNOE6+8RjnTYHJ4gMmRCZLWp/z0Z3OUytBoqYDHBNczEMeIESNGjL8UbMsAYJR+fdiRfxK4MofK3fqTZgVaKEkltAFgelcf+YyrT3xWBWbnFafOVFheAfyFMypLaRlYizmuAtfRD1ue3g4AOmLAJYi6iwjOEkhQqbYQAgoFRX+fTSZXp1b7iNkPF6hWSqSTNvl8jkwmh5Dae79rYhfffvEYV6+uM/vyeV03CZkkjAzA91+a5G++t5+h/hJe6xJri1CuwMzsOisrS2TTktGxQYaGRshm0/RkJM99dQfrpcdZWX+LD05or5+F1jNt5rG9M6xevYSUil1jDfL5PKnEGpX1WRY/XcBp1slmkhSKOVKZNC4uTaeXwwdG+NaLx1hc3OBPb87T9CMoLKG3MDz/EPy3Hz/CYw8PYInLeA1FvdHEbTVYX6tT3miBSFDsKTIw1MeuccFIb45ms4xbfQ9HrpFP7SQh1nCbG4FOaku93//ZZxL85MdHOXjAImGdprzmsr7W4srlJVbXVlBei56+AtPT4xQKWXIpi33Tw/ztDx+kvFGm/L9Os7Cit3sYl5rwQxeCbkRf/Xb2wh95/+1lcnaVXGKNTMIjm0pgWzaNWoW5pRlqjkXDTeM4vTSaOU6fWqRSXtD85Pn7pqWk1qiTSLbIZT36+hKkMzbN5lmufPwG5Y0SlhT09fZQ7MmhEDiuxUDvLl54dh+zc+usrBxnraT5zxLaJjExAT/83i5+9IP7GB1eQ3jrVEsui2cWmJtbYmlpA0smGBwssGNnP729efLJAb5y/xDp5CM0m3X+9f+7QL3ZNgC2HF1SaM/R+Cj83Y8m+dFfH2HXRINWYw5aLqVynVq1wsZ6Fc8VFIsF+vrypNIW0ksyWMzz0ouTWNZjVGu/5413wjlAy+hLCO8iknVwLtJfrPLUowUy6QLF4gzN2U9ZXl6kUi4hLUk2lyFfyJNIJRBIhvqH+fZfTVPsTbJRfpXl97Xcf/XKh7z1h2X6iovkMx6ZlCKVdLBtG8etMTs7S6UuaDgJXJWh6ezg449cSuvzWGijhy0haS+QkFewaJGUVZJWGVtqC5VEGwOT8hqNyinc6gz9hRrFrCSbq+Cpj7n60TIba+tkMgkKhQSptEJiY6ksR/dZDPz9IdZKy+zZV2Sw7wrl+RMsLy7gOg3SaRga6kXKFK5TxGvlePBYgW88d5jzF9/g4lUv2MWho1nmsWQRW5TwLJdkYg3LqgQRvavLZ/nk5G9w/n/23utNjuNK+/xFRGaWb2/RALrhDUEYggSdSEoQ/WhGI83M962udv+zb5/dnWecZkZelCjRg6CDa3igAXSjAbR35StNxF5EZlY1SI6/2Z0+fIrd6KrKjAx7zHveU8+SdRdj71fsS9RNTFgj40X09hfJ5DyQEcKMEEUrLC+6LM5fJ4rnjQMc3gc/+fGT/PCtcXp6l/D9eRaXN6isN1heLFPe2KBUyjIyOkDfwChudpDhwTyvfX83fhCxsvolN6ehWmlw+9YH9Bavk3cb9ORD8lmN4zhIpalXHzC/OEUzdPGjLEE0SqPZx50796nXa3afE+CpdbLOHJ7w0DTxZIgja2Dsfq7idIn9B+F//HgHf/6D3YwNr5Dx7oIvqK8ZapWASrmKIaJUKlIsFcnlPApKMjYwwJ+9eRAhBNXqh9yeahJGls3faHBEA1fOUF0zmGCeHSMBE9s8CsV1/OYSs5eWqNVrZDOSUlfGphfJAlHUz7ahLt5+fR+3b06xulpNS/R929JUQLWywc0bn9LXdQNPLZHPRnieIeMZoEbQqLG2Mk29JfFDh9AUqTcHuT+9jt+MEBoU80juoQgwpoikjDAr6dm6eTdI1sQq0sxCK4MI5/HkAq6qQly1QQrw1AZZ5wHVdVB6mdGBgG3DinxhjWZziYeXVmg0muSzilJRkcsYEHlENMC+nb386Zv7mZ6e56OzdTQx1wf2vDmyH/63vxjlT17fTldplqAxiyMjWmuCajmkWm6iXE3/QAk3k8OIIjkny9PH8tSqT7CwuMSFSwGryw+Yuv0BPYVJMk6NUk5TygP4CAGNeoXllTs0W4IgzBCZ7Syt9jEzPUPg1+2zGtsfBTeHZwweCleGSFVP+REcBY0mPHUcfvI/9/Pq6VG6CrMYv0GoQ+rNiPJGnXqljqsEXaUCmVweN5Oh4Drs2tHPj/7sCJHWlKsfcX+2PR7SgA5m8OQ0xq9Sr60x2O0z9lQBodaor37Cyu016vUmuVyGnpKH40g86eDrfo4fHmTtrf3cvn2L9z/elNW3JVuyJVuyJVsC/DsQAInxn7y01oRhAv/9L/YqxxFcpWBgcIj+/kGUckAYgsBn7tECs7PTNBpsZvnl8drbbaK1RPEJ4yDZYz4DIMmHjmxZro5raAOPHi0wOXmFS5fKzD20zonDh+HUqQnGdowhZIFcLs+evbt49jnDZ+ce8XC+CcpC0ffvL/Lc8y8zPDyKoxaotVwWFh7yyZkZzp2H+/dtNOHEiWXefttn+47duJ6DlC6nTj3HhauGqbvvUa21Iycmdr5YEiGJ6+VpNiMW5ue4eP4yk5cC1lchl4WnnoITJ8fZPr4d4bgEusDxE/uZvOZz+dpvmVuOrOsjA/vH4dXXvsex4ycwzIGBRtOnUVvh/LnrXL0Kjx5a6Oj4Ljj21BiHDu2jpzuDa0Ii4RNhmbHBGs9RPDZCwtNPd/HW22+yd9842ewGlY1FFuYX+OSTST47C3fvWqfOzvElXnzxLq++epLhkTHy+S52jG/n1ddKPJjP8pvfX9rERJcy28fiupbw8MMP7vPo3n0Gu+HkEXj25Hb6ukcgW2Dh3iwfn73L9TuwUYnJryKLFFmMnUUGq6x6rhdXbrApEK1WxMbGMrduT3Hu3CKz92Okx0F48cVRdu/ZCZTIZDz27NnDM894fHVhkfnJOTzHpph4Ljz99Divv/42o6MGyQzlcp3VlUXe/8N1PvkElhYtkeHA4CpvvDHD8y8cp7t3DDfTy779/Zw+XeD2/d/x2VczhKFBR9+2Ftt40IFBePW1I7z55isMDno0mjOELRtRn7p9j6++XGXuITQbMDoCTz+d4eTJo6jMAEbkkKqLF144zczDLuaW3ufudMU600RMHqbj+SkciqVBBFmUzDEzPceli19x83rIwqJtzc4JOH68wPGnjoIqIlWB4ZFRXnxxH7enKtyeOketDh98cIVbV68wMgDPPAUvPD+B5+bJZnMsr1T56qsrTF6BpTU72ZoteDCX49GjhnWapfuKgjgSphOmwbhfkiiclCpmdTdI6ZB1s1RrARcvXOT8uUfMzth19eRROPnUCMMjO3Adh2y+m917h0AE+EGDu3ceMHnxHJMXfdbXLWHc88/BsePPUOzqJe9mUJkBnnnmFB9/vsH88iSNmGjRaNuPOtLgmBiBZQncVOz4nLqj+Yd/eI+hfkt8llTMJHFsahjfAd87PcLo9iEczxAEIWvVdb788j7Xrz+iFdMP5PNw5MndPH3qO7ieotZYIQgi7t+f5Y/vLnD1sp2LQ0NlTj69yOtvKMZ29OF4Lrt2j/H884NcvFxhavoGS4vwzjvXOf/FdYZ74bsvujz/zJN4rkCqLA/mHvKHD6aZmoaGb52P1TosLMLqSjxbpU2hUlKlaQ1aRzG3QbLmobcPvv/qcV5/40XGtruI6D6NWkS9UuHKlXtcmaxw716yp8CxYyWeeuoouWIvSI/BoR28/N2d3J/LMbf0HtX5Mq2Y5A/sPNZRTDKoXDw3y8LCGufOXeTixQoLC3YuHD0Kp05tp39wAuG6FAp97N6zk2dOlbk5dYaHc9XU2fJNkvFgfh5+/evP+PyMdX6fehpOnnySXK5IFMLC/BJfnpvi6nWLYAuNJfebnvUolx9b7Zuo7vlWIzAhONV20WLi6ijJ2ZqIjhH7WmukMUjl4DgeC0sbnDt3kfPn6iwuQakAR5+EUyeH6B+YQLouhWIf+w+McOrZiGu332dpNUzTXfpK8NJL+zl9+iWKXU2MWadWXyUKyly6cINLFzTz89ZxvHsvnHpuPzvG94EQZHNdnDy5ne/edXg0/1ump+GXv7zCha+gpwAvv+Dw9FOHyBcKVBsBS0urnDl7l9tTCTktLC67rK5n2djo7DuFUopIt9DJPhGvu0R27oDXXnuRF186hufZdtcbNZr1dS6ev8LkBcPCfJLeBSeeKrFn/366e/swStHXP8Ibb45z/1GOf/75+8zN++kQhRGWkDZlvRQEEWysrvPVuYtMTtaZn4fuLjj+JJx6Zg9d3cMYV1GpCfbseYLjxxe4PvUVC4tf55/Zki3Zki3Zkv/e4sDXowKd54SjwFEGR0YMDUQMDzl4GZdGQ7O8EjG/AHWfFMLWlv+c2zkyNseuWHLJ5SRCaKTMEoQuC0s+y6s6zfnXJAV22nXS07JFHSzoidHfiZLtxGRabqQIVwoECm3yBKGL38jy0dlVfvHLMrfvWHiv0bD7Jqy31vnRn41TzLdwvBX6e0oc2pdh+6jk4bxFhyogbAlm7q1RyucYHuqlWtvLh2fX+bt/hun7tuRX4MP0PHjFZX78w5309xr6upo0GmWOH8zx1U7BpeuWf1g6IIWDYxRKZ5Eij9YutabHHz+6yC9/E3D9eowC1nBlCmphgz/py1IsgSsqjA347Bs39PdEzMVs3sUcvHASnn8qT9FdIuNEaN3H7GKLM59V+Pmv4N40rK1ZB83wMFyaeshbb/Tx6iu7cIRls9dGInAxRqVKkwPsGIWXn+3m5BMCpVeplA3Lq918dPY+P/053L4D6+t2WO4twPwqFEpLvH56FKIyijkO74XnTvbwxRcwu5CQWpEqrcnARhHUa3DlMty9CcO9Fl558EA329QouEXK1QaXrtzlDx/DWjkmqBLQbEKtYaNjTgzT97wMkXZA5zAojMzz+cU7/Oaddc5fgJVV298TV2G5vMRf/GgHY6MKJWqUshscmBBMbBNcmgSMnb8H98DLz5XYNRbS3+2wtpphbV3x/pl5/vF38NVXVhnMZizBWcuAm1vju69AoVAmDCocPgBPHx/gxs17rG1AWpVyM8IYMLavNOyfgFdfGuTgHkWjNo9SWZrBEF981eKdd+t8+qntgyCwhsnknRaL1XVe/s5uCnmfrtwK+UzIS88Nc+niILP3rQPAjUtpCsDoyNbt1iWCoES5kuW3v7vJ7/8Q8mgO1jesw6C/Dy7frhGpJkePDCNkiGuW2NaT57kTQ3xxFq7fgus34M4U5DI2a+bw4RLdXUVQY5RrDS5ff8g7760xt2jncqSh5Teo1y3XgRBxZQgpUcbWkJdGYleoLZkljF2zrrJFxxARgXYJowHOXVrnb366zOUrsLhgn/HqXagHAW+/MUh3UWBMFVsPoZ9aq8SHn87x69/6TF62sP5SEaYeQosWzz4jKRVqKHeOibFeDu3t5ssvbMWLmJYfQ1JeTiKwxrAULkK0ENKylK+X46ogykb+E0U/60J/N/QNQ7a0nVxpiEbTx81OMHN1nY8+XODmjfRWNkLabHJ76iHKGcX1eqk38vzx4wf89FcLTM9Y504hD3fnId9T5/s5zWBfhZzrsHssx5EDw3x29gYbG/DFl5ZgbtsgjI4GPPFkkW6vG8/pYbUs+Pyrac5+SYo+suPVrnog4r3TVQ7S2H0vjAxGCGIgGoUMHH/C4/QL/ewYqtCoSsKohN/K8ulnN/nFLyvcuQPzi/Z8GhyAL69W+MvmBi9/ZztChhj/HqN9GV58JsflyW4q5TK1uj3TVFzNJM6Wxw+zVJq9/PHTe/zTP1e4ddvu3Ri7x67X13nrzQIDA5qsWmGgK+CJA0V2bi8wPVP9xiPRCDsGfmjTXT790q6LXTuhp0/yxOE8sq+HiDyLq1k+Pz/Nux+ENOLSlVpDve5Tb1inhYg7x5EKg0Jq+0rKYaZNiLkmEmZ/jAQcpHDBWHp9lSgHMbGu67gIkQEK+FGOcrPEe2fu8o//XOfGTajGJSqvTMFGo8pbb/TQ44Ij1+zZeKCf4aEcyyuVlOn+8D546dltjI8alAio1HJEPMFHn13hn36m+eq85Uco5KF0FuYrNf7ix8P09XUjtIvnFdg1sYuBgUHOnVviozPQXYLhARgbCzl6LEteDWGEy+JKnjOf3+Xs5xZBoo0t++sHAc2GTYFJIIFKOSgihLFlaYWQuHHIpJCDZ0/kePlUNyOlJZSSaNPNeqXEJ59U+dnPDdeu22oCKq58cmKqwg/eXOP0KyMIWcMwzXCpyPeeK3B9MsPqkk/LZgGipEBKD4FAqQxhmGNxxePjsxv88y/qTN2FjQ07PtemoBlVefV7h+jOK3pyGnSFQ7u7GB/tZm1lHV9/c9BjS7ZkS7ZkS/57SooA6LSFE31HCmv89HbDyeNdvPT8YYYGCniZDEEouTO9wLmL9zl/cYGllXaEzcp/7qhJArueJ3BcMHH2YqQ9Gg1FvS6IdEKoZK0OC/tP6hN3xoLj6N7XQv6bWypFwj0gyWezNEMX4Q5y68YGv3rnFr/5Q1IpwCpNK5fBj9bZseM2r7y4l0wmJIjK9PdGbBvOIKjHcD64c7vC3/3tbzg7PsyOHdtZXa/z8dnrXLxqozjJYFy5BZlflhkavMKbrx2gJ9OkkImYGHOYGMty6brNj7VM4Q4uDqVsgSDKUmtmuDw5zy9+fYsPPo3LrwXWiH3/E1Bqkf17F3nySBFFgB8sMdir6esVSKyCPdgPJ492s3enICvXcITL0obgj+/d46//8QbXbkErqXIgYL0Odx/Aevky/T2S774wStQAR0S0QokQTqo0eQ4cPuhx5GAXpewqxayk1uzi8pUV/vHnN3n/TLuSN0ClBQ8XobfrPnu293LyRJFMtkpY0OwZz7N7PMPSasuWljKdJQCt1qq1wfdhrQUN16Zsb5ShFZSAbhAl/LCX9XKJuYUKqxsx1D+ZHiaGGMcl0VzHAxy0cWkFksW1Br977za/ftenXLEGngC+moRKPWT72BRvvHqcrmII4Rp9JZ+hPkVXAcp1yCqbt/zU0S56SzUQWSJf8unZGf76727yxaW4fB7WGeEJ+P37oOQMe3fv4cnjBTxnnZ1jwzz91Dh//OAyi0tNlIIoqXHVkQ+QGMADfXDoQIG9Ey6N6gLGKOotxeUrC/yff32Ojz/1aQXtcnyOguUPYX7lNqF2eeP0ExRzVWTUYMdoH0ePjPHlubssLFgDUUmQQiGMRgoNUmDcXj7+9Dp/89PrXJi0ab1JWbq5ZZiZhTC4wE/+R50Xn3uSrBfSbDU5sn+YY0cOcvfeDdbWbZtyOVhelzRbBaAIopeWX2RlY5C5xTUezlsHoiZB9Qg8afsgMfcdYVEzUljD2m4kcfk+YR0AGbdOLmdo+jBzL+SdP07zq9/5NJttGPBXlwBWGBp8xHdfGkeJClpH1P0+btxc4ze/n+aDT9vRxrUqPHgHiqXr7N61jXw2g9HzOAJGhzIM9CqWliKCeLxsbW9ASoSUbUPN2DQSv2odBjI25Oy8t+XtCh4cOwEnnnmC7v5xlJtHBoabt8v8w08/4+zZOaIQ3HjJBCFcvPSIRvUX7Nq1jXxxiMXlkDOf3ePmVHtPLvuwdgUG373DxPZBRp/dTjZTI+saxka7GB2WXLupqcRGNBpWNiR1P0/e9OGIIZpBg5U1eDhnDTETj1WcqY8X5wxJBK5UyHhX19rWVk+cigM98OxT4xzcWyCjlpBOiXpzgA+/uMX/9TcX+PSzON0rJgxdqcLUNFRrV8CEvPLyMYq5Js1WyP7dBU4eH+fq9UVq9VaaXiCFoZTXmChDK+zi8mSTn/32Lr9+L05513aP/ew8NFpVhoYf8OZrPbheiyhcZahfMDyUx1Gd5R4fI+oQikhHtvRoYPccbxHWyzmCIAMmh9bd1JqSxbV+7j9aoOmn2U+WQV/bOYlQCCFQ0hI2SqNs/cjOzbUDGCDS/0kQDkp6SCQCkea7CxJ9wKGr5KD9HCLs4/zVMv/0q3v85o/2/SiyRv1n56AZ1BkameP0y4fxXB/XLzM06DHYn6cVVsi7Njp+9Ik+njgwQC5TR4cGHRU5e26N//XX1/j0c+sgCjXINXvt2j88xNef8dIL+4nCJtP365y/tMHGepWWD9VW7EQzUG8qQp3FyB5CU6LakCwsu8w8COwySlMyBErakoiJD1lJhZIOgqQOZOIMsnvoiaPDHNyTpZRZB/KsVbo4c2aG//V/T3Lxkk1tSEqLLm7A7DyUy3fp65Y8f2o/xizQ2wd7tsPRQ8NM3akwu2jbnfGyCFyUiHAzHqaR5dqNeX7+22neeb+9/ygBZ74AIRbo7b3PSy8cJlvSFNwG24ZyjA6WuCLXaen2mG/JlmzJlmzJlqQOgE7bOGGhdh0YGPB4/dVn+eEPXubUyX3osIZGEYSCZ5oRTz+3xm9+e5Z33v2cmZml/7KGbcYP2JJWUYpjs68EomhStbHzSUSHE+DbnRFJ2oAUFnEgpEQbg+MqPAyrlXWuX5vkyuUNWyc4jqJoYxW127fhxvVHnHhykK7uMVzpUSiW6O7pI++u4cdw6PkFWF2Cy5cXKHUtoFyLnBgaBOEWbF36CExoPfv3Z5ZptcZB2jSAYqmHUncfkodo4rrfcUhH5iWq1qLVbDE5eYHLkz6VWhsSrDUQwdQUTN25zaGDI0iZo1goUCp1USp1I1gHYGgIxif2k8l0Eeo6Wmump2f48MPLXLkMrahtWAEEsdPkwgX46MNL7N5WZ/toN0IIgsBHKYnjukBAJgv79h1g+/YxlGPHq1LZYHr6DvUaTIxDYEpp5NUQUXRtZGZ6epp9e8YYKvbieTAwMMiOHTuZvDFNVA+JEth7oqHFmp15XPERxHgR2ymCCNCbZkinIdIBEEEA/f1FavUaQma5M3WLixdXmVuwayX5sDYWKn379irPPLVEb3c/2WyObE5SLHWRzUGlCV3dMDExwfDITgwZgppPuVzm4YMZKhULvZfSiY0DyIgWMrJpDUvLC6yv9KMcjTaS4eERhodHUDem/0WopxAwOirZv/8gvb39dHe7rK9tsLJS4ZOP3+f8eWMNt7ivjLEOKhPBxfPw3ug19o479J7Yhed10dPdzZ49+9g5foOlpSWaGhzHGiBBGOA4iiCMuHLlAu/+/iw3b9o2BMHmFdtowJkzMNh3k327B5nYNQEtGB4Z4eDBg3R/dIf5NZuPnEu/F7EJ12PM5pWeTgmTTgttwBiNNgaJiVEjHeMvrNEaRREGjXAdGhtVbt+c4/LkLcobdp/QxhrErRbcuwtTt6/x/DMDdJe0rcseVLh2bZLJS8tUq6l/gRC7xu/cCZidvcvE9l24nkM+n6VQKFIolpBqHaL2/NORTp8loZBMp3nyMm2HiqNstPQ7z+X48Y9f4NjRIQp5gd+qcffuDL/+5UX+8G5kofaxo9cAfgtmZ2F5Hs6ff0Q29wiUdfgNDYBUWcAHrYlCWFuF2dlpmsf6yfb24TgOxWIXXV3dGNbs6OiE/d46gwQhggBBuGkCmHRs7J9Vx/PphG+GeKy0Tud4/4DDnr376enpw7CAQDMzc5v3/vgHLl6w8PgwPjaEsHYwAi5dgt8N3mDnjjxHj+1HCEFfXx/79jv0D0zz4NED67wQEMb1KKUjWVtc4vLkba5dWbR8n/HzIaEZwcwM3L17g0p5O8VcF0plKBa7KBa68DzSUqhfW6JGpyVBER1bVrpfxePe/jOYNvlmuvdom8aWkB4m518S/f9X5fH1EItU9vthGPeFFCzMP+DC+atcvTKXEldqY/k66hHcuwdTU9c4dWKMUrYbKR1KpQKlrh4kC4BFkO3es5f+gUHwqhi/yYMHd3j/va/4/GyDWtOi3ZL5UW/A/Rn46d9f47NPrhFF9mxdXrMpEa5juTYTNKLjWA+UIEKKEClCBJGdax1IKYuxaZfEFSSIMpOW0oTYyUJ8To7vpqvUg6CKNhHTM7d5990PuHgR6s3NEXdjwDEwOQl//OMU24Yd9uw5hHAc+gcGOXjoEAOfrTG7aPNflOPQbDUxJgMZj7WHy1w4/znXrzYsmaRoP2OjAbdvwY3rl3nmqZ2U3B6kNBSLJYqlLovwSPe/LQzAlmzJlmzJlsQOANNh6iTBABNZuOorz2b5yY/6efp4BSHOYChjUGgpyTuK0uFR8t4uKhvTrK8sUau3o6j/0aMm0VMkEAUGExgcoXAQKBORcQQ5T6KkJoggrSXcwQDwbaZ/2y0QP3Ns5JjY6SGEwZgAlESZLioVwfy8Q7lqjW4/asNTjbaH7+ISrK9Ltm3L4WU9XMcnm1E4HrRCq1SEBmoaclUodsH+fbBrTy/5/BCOVyIK6vh+jXp1ERM2GOwDoVsQ2LJxSkZI2WYLFhKMCTGEID380GV5QzO/kqXSsO8HsQYisZGsemihsGvrisHBIspROK4mm41TPYCBAejtVXgZjd90aAU5bt2NmLxmo1cRsaIe92cYWoW2UrZK9Z1TFXaO7USIPL4fIYRGKWu4FfIwtq3AQF8GR5Qx4QYZ6bJvZ4m//MFOWkGWiB60jqyTQxo8tUpvV52R0SwRATqqY4RDV3eOgYEuchlJs2kbJLQdd5MYgrFBgWwbF9pAZCQRDkp4RDJLJLJoakR0kHQlOnenlSoCkBJjuqjVCiwsFFlasn2XGhlxX2tjc5lXlwR7xovgZHFVk2Jeks9Ytvm+bhjo88hnI6KwThD5ZDw4emQbha5+an5PmtRitMFVZTynTKkQMDJcpBXU8CT4foNMJkdXl0fGs9D9thegvQISRM/wUJYdYyUyng8oWmGe2/c2mLxh2KhZAzjoeJ7EQJQSrt6CG1NrHNw/QE+PRKkK/f2S0ZG8LVIQWuUVFGEoyLg9+I0Brl6f59wlqDTsWguNva7AKsrK2HSOC5Mw+6DF0EAAug9AdS0AACAASURBVIWixvBQnr7ePM70hjWgDUAGE0mESVx4DhovdQom471pLNlsUBphjR1MlO4hyUeDQGB0AWSOelUwN19hbQOUG3McYBseRFCpw+q6Q7XuMTxagFAyv5xhbkGxvGqfVRA/d0xcV6nB0qqh1pL0ZLM2n9r1yGWzOMo62gzEnBPxQ3dwmSTtTPxbySir2GDfNgKvv7aX77wwTtbbINRFVjdKvHdmip//LmJ+DQLZRjSl6zmyxluhCXv64PATsHPnGJlsD4gMYdig3lhjfX2eUh4ymTJRtAEMxvwKPq7b3m+TaKrlKVGAgzEeBg9jXLQJ7JqLA9Q63q/kpivotJwhQm3a03u6I/r7XJQ0YDI0miWm7q3y5QWYX4s5KTqMOhHZZiytW6TO6ekGu/dEOKqGIyps35ZjaCBvP28sIVsUZhF0gSqytj7P/dnQlpUT7f1CGPt7vQFrax7lsmFkyMXNeLiuwXFtUZM0Va7TEIsPH2Oi9JHb81bZ3hACg0Qbx/YdHeMmOhxBGoSxqBa7tgwaHaeRfIukF9PpK3EdJKCBxIiMIgmiAMJjZbXBg4eaarXtFE8vFUG1CisrivVywOCARrka19UxoaF1KgyNwMCgi3QCEIq673H3fpMbUz4h9hwLOwx1IaxxPTkFl6biFBEZG9visW41gHGQOEg8BBmMzoDJYky9w61i56fuWF/puBiB0QKJAm2L6eQyMDIEfX0S5YChSK3mcWtqmckrlhywc3wEdsyDCNYr8NVFeOaZFrsmXKBKMWuY2NHFQH8eWEEIm0QUBpF1AFBidX2DmftN1tYTfoD2M0sBGzVYWDFUG4JBIZHK4LoGzzVpWdwtBMCWbMmWbMmWJLKJBDBhi03Aw8P98J1nuzl6oIbSl5CiihBVbP6zwpMujqyxd2KIl1+cYHLyCnfutsvZbI7i/wcapqFRa+A3WwidhUjjKcVATxe9PSUctWEh9im0sY1x3Hxf+0SWJT52ARhheQWELesjUiVKAyFIgRA5fF9RrxdptdqwYhlrDYni12xAo54hCh2EVDhKI0SIjtoRBQfYuw2ePlnkhRd3s29vNzu2j9Dd1Us2k0VJaLUarK4usLZyj2K2Qj4radYrCGOdHVq30kPcxF4IgQajCKI81QZUG102pxbSlAcBIK3zolLLUG94GDJIJZFSo1SElFZBLeYluUyE4xiaZCnXcqxulGgFgAIdKnTaz4ZIW2Xd92F11TpCwjCL8jLELpx22SQPXKeO4/hI0aTVlOQ8h1dfOQ5kMcJDqAxCOkk8BmMqGF3B6DKRlqxt1JAqTz6fo1TM4CptyQUTIyt+Zpm2MLWdUqVMG0GIQgmPUHhExrVjG4/vZjhAh1PMhHGErEjg99FoDNDyO69rPyeFNazqNajXsugwC9LFccBzoxiCDoUs5LIaJX2iyBJM9fbmOf29p3iFAhE5HOXiSYkwIVrXQTTQuoEfNggjn0hrIt1CSpdCXuE50DQdjd+0AqwDoFiAQl6jZMM6asIcj5YUc0uSVqQJsTEz606xinGymNdr8GihSrVeobc/i5A1stmIUpdN1aEFStrUD+sEgHLVY3k1S7lqOcUTojodw2kkmtDY6Hi1DssrISZq4ak6XjYg60YUCq51tMSGsRCeXcMxhscYMNpJxyEZ93T+J3MBMHHtcTAIoePJozd1lMYBkwfjEPot6vU1mi2FNlE6TwR2nIMIGs0svu+ByKEN1GqKej2f7hnJXhgZ6wBo+lBvOLRChZEOwnGRSiGV3BSpFULEYOz2XCSZ07FXwcSVL5KSbju2wQ/eLvHdl/fQ092i1ahRbxb49MsFfvbrB1y+mTyjsFH1+JqOtND73TvhhWcHefbUbg7u72d4uJtisZuMlyEyAfVGmaXVOZr1JQpuFeU0oVnGmC4EAUZ/A9NdnEdtUBgcDBkMHpqgnarRYaQkbeqMflsyV2XTNuLP5XK2EkQ240CUodlyWV7x0rmmTAdPaJw6IaUmAmpNWC1LjG6hnDKlQh/5jKSrKMnIeFoYEOQxpoAw4IdVmq0CQdCxtwiJEZaYMAig0cjSbErCEFxP4jgGpYStoNjukI5VaRNTTBwz3uS0MtI66I3EGIk2CmPcTcZrpyTEiZ1cOImTIJk36WQU7SkvReIyaDvmvunsNsYBkQehCaMqLb9IGCoibWeSLXobIUzcF82s5RIJQ5QTxX1hR8RxLIFjoQtbFtTxqDabPJhrsLqRJaKWnmNpn8QtViIm8kQQGIk2Udx/0SanpTEKTMybYbzU+QT1NORh56W9geg4OMRj/9lJCrm8TYvM50IcV4IusV4JWVgWtILYOa83j48xdu9q+rC4AvNLino9xMuHODTxnAy5nO1/YcDoyDodyEDg0Wxl8P0CYVS1xr9pI/GUsg7bZuDR8mOvlNS2rx2dNHsTQfKWbMmWbMmW/PeWNgfAY7ViHAcGh2BkZJxsthdj1mwURxAz/icahKRY7GF0m6C/f5BrN/9r0gAcZQ37tdVVyuUNjPbAWGKekZFtbBsdw/U2MMG/dqXY+E+VRtHxvG1N+2vKTgf8L9LhN5Ya3PRxotSyibQmDKNNCsBgH7zx5kv8+Z+d4sDBHrKZDRzHQcXECUKAcjLk8lm2b+vGRCugV2m2bNsNETqKNjXARgdjQ83EllH8c1P7YgeHzaCI4pdlehbCKjeJE0UplZZ6FBhbD3tT8mjHZTugqglDNBiMttdvs5ZbsU4GDylUHG2RVltCxBhTB4MDOCAkWps4Cm0QIiIMfcIwQiiBH2TR2kJVU9b5DsX1a4pxPNwy/pkYFiJ+85uCI52GmFUmTfocQhoSZTN5f5OYBI4bklpuxvISRHF0XTmglGPH0IDWFqqKI5DKsdE+o9BGILSNi9rxjoiigCBoYYho+s3Y+GxDdb8JZpzAoD0vi+NYVjyhJEIY/FYD32/nuW7i8zDt/rUGTjNGVthqIFJKstlsmoMuRBwuNJrIaHy/hR80Sadvsg47GijsqOP70Go1ieKEZqv8C6RU6XgIYauSCLF51Cz6Y/OYtV1//zZXpBRJPr2IySXtetE6Skuedir1Ju6bKGq/LxNrPTUxOozFuP06gkjbNa2TzcUYdNSGt9vIoUZ35B932ECbrCIRtzuXg5dfHufNt15m5/gIQiwRhiFXr07yzm8vcfOGwXMtmkekF032LZjYnecvf3yat988wciwRy5bwXXAUcqONS7dGY+u3i50OALBOooaG+VOBvOOfSpprmgTtCajIxJ0wzfJv/D3hOxTYM8ppdyYsV0QBAHNZoMw7LhO5zyLbyiw+4bfahGGEXgSKR2U49o1mc7lZB+IF62JwOh2JlrHbRJHZxiGNoWkg0bfztdkD/6mB3vMW9VucIIBStvT8VbqnEwuYSP139Z5/z75pqskKSj2rIsRAx3OBR2nMiQGuO0He1bFU9yu5bjdGU/Y6ioxE2EY+FSrFZpNG0ZvP5vtA/u95NwT1gEWtzbZR4WMx8Jgz6GOtj/efybpXdN23nY+rX2upO8FUlmD276cdkWkwKfVatnUps57JPeJh9doaDWh1azH61rFT2XnX/uuyQDYfjY6RCdnPF93LuiI9Dy090ldP5vH9L+6YtOWbMmWbMmW/H9S2hwAySFHHElSUCxBqcvD8zRRzNQkO7zlBptTpzxDd1eGQiGTRrvsJ/5jooHAAAE8WIT782VORMPkvQjlVti2rcDEhEM+Z0m1OpELVunv1PosIaBEk3EtDF0IS6oWBLHhamLFXwC4aFwwDpFRNjpgRKq8x2rPpra20ZMCdMwuLgyesl73UgZOv1Tgxz/o5/CBJvn8EgZNpWK4fmOZBw/KNJt1HBnR0+0yMZ5jbESTy0qb6y8FjrQR4pjLLCEqjp0yCqRCC5NWREgbKUij4+1vWui0EsKy9gsbkSaCoBURBCLOJ9Zkc4ZC0UJYtQZEh4PBxHqZtMZsvgDFkofjCuKM3U1GWaKw6ihEGIHrSVbWDZ9+cZUHj+qEkYemCymkjUCbiCCso1SA6xqkzCBkBkSNSm2Dy9fXqTdIIf6JTblJv4n1RB0rhtbf4CSqZEz8aGLYZdtIS6dP6jCgPcmERCPtrBLtqHQiaVktIEITEQIBQgYIsdk4ElIglCCbdWi2AhYWq1y5fp+HCyHNIEkBSJTbkChqACGZjIdSEmM0frTERrXC/fvNlIhwcwfYtif2SBRpgiCK546NTLquwHE6v/u4FmtfSoHnOSjlAg4YhY7s/pAgmBMYscFCWR0Fnqtw4t3GOidM+nuiMEfY0o2ZjIPnOUgZEWhDGEbWIdAhUkqUcrEEXd++48QmfEq5ZuegICXzSAgAjWRTTUkiElSAiRfTNzkSkv0gFIbE5RcBWgi0lCn3Wvqcpu046LSlRMwy/o0WsfmXfxfYyL/rwPOnBH/1w72cfNIjq+pEYTcP5lr8/DeX+OU7NsWjEx2EMWmK0GAffP/lbv70rR4mdm7YJ9eGpcUmN24tMj9fp9FsUixBX7/HxI4uRvo9XC9E4th91Pbo141HqRBKxetNI02EMFEaZU+cNZ3r1xpOsQtHJONkUqeL/awkikK0bqFkC8dxcF1t0SiPtUPEVR4SBIrjJCSzCiEkUWQIA43WIt3jNHbwEueiJskoT34HjE6RQ+nf0/61bU7dH+k51TlndfyMXx96Ed+/ffokFLfxPkNCets+uyMdEYQBoHEVuDL+qSzRY6fxKCFdnyrGilunm4wRInFrE2dDahTTRk0ZgzYmRruZtrPLtJ/TYJ3J9pwVKEBqIDTIKEJpWwpCmghHChwlQUTttZJqHdgRkKbD+Ffpe4k/OYXHKw+h3Pg6scMiLmlg26kxxn5J63a6jkh7NJmLInWMh2GsO0TWOWdMhHIEmYyDcqwjra19dHR2fEnpgHIF0hGgpNV3opAwDDo+ZgMQUeyZ0EqhhSQ07bSTdM3E44ARKJsbiNQRyhiUaJMb/9e4hbZkS7ZkS7bk/w/iPP6HJIqXQJgb9VV0lEWIEGHa5nWiBgkTYKIGfqtGy68C/3HDPxETK1IYeDAHU/fmqbZ2g6NoRQ2UG3DixChPHL7O0idBzAMQt78jTJY6BmIjt68bvvvKDnZsH+H+g2UezVdZWFxneTFgYQ16tO2SKIZaaqPiyJVqw+lFR30Ba+G0840NRKFVyRxrv+ICu8fhhVO9PLE/IOstEDShXPE5d2GeX//uNjP3fWrVGo6C/l7Yt1vx2qs7OHF8iL6SS7VmzRgVl3CD2AGgrZJgrVcFsg3OdxxrmKZNTREMihRULAQmihBak3Fs7uLaqqZea9nnJyKTlWzf0cfYdrjzwN44UToMJEEYvCwcesJj1+4dCKmJdIijJEa3qy/Y6G6LKLT4WeXkqTQEX1y8z4cfr9BoAiKTRs5MPIiRjvD9yHJLCAdwMWSoVgLKtchGM6W04/It0Y0odRAkkM/EAAREhwJNonTTVtYTAyX2pFjlUqKlSmH/qW8gnneJvWLVzQhEgDEtDKHNlQdqdfD9lm2CkjhennJtgzOf3eLMZy38UFmHTtxeISxrfRRGRIEmDGz6h3QyBEZRqfv4flwdg+Qh2g8jYyu4WqlSq9UxuoSJNFI6DAz20defw5hGe2zTSd7uqmwOBgcHyGVzcXKuxG/5VMs1dOJ8MNaoMQakI8jlc/T0dFMsCJw1s0kfTiwtiV0rXSUY6O9FKY8oatAKI1otn2qlSpAyqFvlGyRCKusAI+qI1j4mjzmG2ltEMmJt9bhtvAQQVx5JLyJs+bnEmSDjryYMApGwBkVoBFqCFm2XQme0NiGXk6KjCkF8n03RQmP3m6SsG+kcthG/RKSAZgiH9sGf/+AwLzzTTc59gCvHWFgo8u57i3z06Qb1VptxP5mvifGfceHYEfj+d7eza0eFrmKDekMwtxTx6dk7/P4Pt7g306TlQ6lk648/98wg33txG089OUqmlKMxZxvtKPFYJLWz/4U1BImRRYkT5DEfzqZ/mgTBJVISs6RL6jWN3/LxWw081SSX62ZgsJtiSaA6vMKbHAGxQZTPQV9vF66bResKrXpAsxlQqdZoxYSKdr3r2FckYqdeh/HfKfFeqAUJo2w6kCZO2m4D7dJfOn529FeH4ZuglUzyLyHbzomOLc9g93w/CPGDFlHkk3UFuYxLxpFpqlvnbW11E8hmXBzHVtOJtCEIQ/wgQuuOldLRj7ZsozVQtTHtvkjgR3HfGZJ+iMkF45c9v6BRAb9eQ0QhhIKc5zI40E+hsIYxG+2eiee+iO+tQ9sb9r4xwF2q9jxLjWS7H6Z7YuyF6YTQp4MHMYdCW8uxjyRIyELBRvDLZWi2WkRRiIkCCsU8/f19uE5HdSLRHstkb5IODA7D0PAgbsaNnUvCliFstjrmkk2o0PHiiJCECLvHtI8toL0WjDEWUSgE0miE1sh4MzdsXgNbsiVbsiVb8t9bvsYBkOSWRqElt5udvU+9VqSQ78DAxydacjCWN9aZmXnA8tI6GdeSUP1nJYmWLC3C1aurTN+7zXPPPYGsR2SyvTzxxE5Of9/j/vxX3J5aBh3ESlNntMLqHo5jI/8vfucE//v/8Vfs3r2Th3MrrKy2uHzlBr/42e9YWHsYG/KGMAzjaEHqY//mNop2WxP4ewoDVoogtPeemOhmfHwCz8tQyEvKlRYXLl7g7/5+lvc/ikkTTRyJV/BwNmJs2zRHDvegPBdTtXB9pdS3d1jqhOjIIf2G/nz8AVJYu4IWsLgIjx49oF7bgXLyKMdl1+69PP/8s8wt3+D+wxYtP0DG0AkpbQ70wUMFXnzxBcbHRwiCR2g0ruvaNIrYWKnXYX5+jkolx2Cvhb7n83lKxQLr6yvMzUGkW22lLFGg4va5LkQ6pNkMiXQjjnbFn9FfU8c39U3nPzZVjRBiU05xqqzRjiZ1IHk7Lth2GnyrCEjzR4U1eYw2KKtns74OS0tLVKoVXLcHhEMul8NxJPNzsLoRbcpnlx3Q1oxr54rfiqj7PjpWLiPzWAM6H95YA2F5OWRpcZEw7ENrm1aza9c+Dh9e5MKlz1lee+zBYqMz1LBvXx/79h2kUPDQcarH+voa8wtzKUN2FEUIBJmMi9ER2UyevXsOcvDgIvNLkzTDhAgtHQKUgv5+2H9ggNFt23ELGYLKBlHYZGV5ifX1BimqW1iocadF7yiF61qegE7Hn2kP86bI5L8mX0sK+ZaBFt/wu/imN/m2XeSxdzs/lFrBpv1WbEx2OhYcF7YPw1tvP80r33uF3v4G9Y27bGxs8PnnF/jNry9w47pFVSVcetafYTsq1JBTsHfPPnbt2o1y7P7XqLf49MwX/O3fL3PlmuVnkMKifTwPwtYSu7e3OHKgn4yUSKliXhG5ORUjNsgS8kWBjFM6ZPoMyTr7lyQ5b5L5ArCxDsvLi/h+Bi8P+Vye8fE9HDz0JPdmJ6nWQJj4e7TJ7Lq6YP+BPDt2TFAq5mnUIPJbzC9ssLy0aPecJJPF0J5U39o4Nu0H37ov/Bvm3r9VBFg+i465I7Dke5VqhSgySMclXygxODRMT+8c9QU2nQ9CQqkLhoZGyeeLdsEYaDSbVCrlNG3nm9bNtz1v+vfk0EnXYGJk23PDGFhehrW1NRv9DiX5fD6eh4IvLn5lOWbiqhsCO39dF3p6ehgZ3o6QHkvLK5QrFYLQx/eDtJ3atFNzbMqIjNNF3E0M/YlICZ5Ku7L9PFLEqYAapWwe/+oKrKws0Wptx5GaQr7Izp0Fdu/Zz+17N9sogMRIj9dNTzccOTLM7j17cd0MiBbNVpPFxXUqlXJ6T6OTFBlr0Cc6xuPz6tvmWSed4Td9b0u2ZEu2ZEv+e0vsAGgfdyZWErWxDoALl2ocO+Jw6EA3jqyjZFwFAAejPVp6iOlZzdnPH/LgUSch339E2spMAqNshnDtFnxxfpVduwT5XAbMGr05zZ+9NkbYWOZv/2GOhw9IS+4ZQ8ySb1+FDLz1ag8/+audnDy8ihAbDB4axs3tJ2gt8ivRAOIgulQYo1FCEAlbS1kKlcboUp1GtF/WvlNIaRmbpbBwSmN5jRjoK9LbnUWIAGNcWoHL/Qd1Ll6GtaZ98pjrGQEc6IaR0R48rwBaopwsQiaFijpEJhFQiUxSBL7tsBfJV2SbaExKhJAY4abR6vlluHazyrOnJNtGPJTeYHt/lh+9OUEhF/GzX37FzH3L+u9KW8bwyBPwp2/v47kT3TSqy7jKJ8TmlhsjLBIBy958++4GD+ZajG0r4USavj6XF57bw5Wr95matsRd0I6yukB/Dzz7LBw+dIhqNeTylbvMzEasrNtUjrSc0zdJooDFITPfhzDQCB2AaZGRTfLZFrmMLZuIbkdoE0UyMbyFsCX5lFA4QqGETPtbPHbL1JGQpB0oGaNHVBo1XtuA2dkG66uCkcECSkX0dilOPX2IG7fO8+4HlpE9dVfEv48PwunvDbB39y5mZx9x9fpD7j+CtTKEbZ5I2rF2k0YMo8jWXp+6t8ZGVeJmQpQM2DZY5/VXRrg26fDhJyHa6BSpgAETwZNH4M3v7+DwgT7qzRbGuFSaRWYfTnNvWhOE1onlhyGRDnGVS9NfxZEOJ09s483XenjwAK7ftsqwjtOHpbD1wE+dhNdPjzEyBLpVJ6KLpTXJ3ZkNNip2s0qinn5gaIUhoQ5BtHC9kGK+ST5roc5E7QWVMMunxkpsrFpuCdmOsNN25glpo/NIW/JMxkq4/oaJZqP6AiFVvA8Iu2d0OpY67h8llURkfG+RcGV8feUmCADbZknCw5JIEr1/43QPP/rBDsZGWjQbNSr1DBcnH/D//M0FznxBTOzYNswExCBvu+akhP7+PKW8QpkGjszRamqu3Vjl3AVY9e0epQAZggmhuwijw9vI53OgQ5QDjqtiWHS7jVqDH1hSPCEicAMyXgPXaVikUkf/GEgj5TYnW7THy8i0n5PLL63C7IMq9YagkDVEwQr7JoZ483tDzE7D5WvQDKwTMoW7Kzh2EH74xm4O7MkTBE2CqMBGJcu9ewusrNhdKDESReIsEQJHShwp0/1ad7S9fSbI9tjGpBJCisS2TtfkZrGOyXSOptdy0n1HinhuJc5HgUUHxHuNExuZy6uwvuGA8MDUKWRrPHm4n317sjyca6IENmtMgtCwawecONbNQD/QatAMsmxUBEtLVYJ4Q9ZxYEAq1V4TsbNHxIStbWdJ2+iUIk41kwo35rwxsSEdRvDgETx41KDp58lUq4SRz8RED6dfHuTGTbh4OZ4XMfJGSOgpwRvf7+bV08dxvRzT99e4dmOJy1dnmLxaTZ0WUQQt3xBGgogAJ+OTyzdw3LJF6Kn2hJNC23752rqLf4oQJQSuA2saHi7CwzmD38qQyYUIs8GBPT38yevbmZ+7ydXr7Yo5wthAgCvh6CF46/s7ObingI58TNDFyrrPzalpFpaa7ZkhFK7j2rQDKWJeg3ZiwibgQjKvEvIDaWyKhBQYIVK0wxYJ4JZsyZZsyZYksgkBkBArgVWUmk04c7ZFf880Qhzh8ME+G2EWOcLIGrJ37wf8+ne3OPP5LGvrPMZ0/O+VdqQrDe45MLcI73+8xP69C5x6apysqiJ0jdEelx+/OUwpc5gPP7nD1estqjWbnyclZDKwa5c1XN54dYRjh1qI4DxSerSCUWZn73L18mcsLKzae8nYc56WQzIpdD5FNXbmCpu0yURGE2mDiiNdGMt+LzQEfpkorCKFZbeXqkDfwD527lphbqVdrq8Rwd4d8PxLPRw5egLPc/CbGoH9XhBGm07/JBcWY5EHNgoee2A6jIRNxmlaRzvJhbSlpZI0ivUqnP2ywbGjjxgbGgC9jggWmRj1+OHrfXQXRpm8NMfCnDU8xnfC88+O8cKzPQz3bxD5DXRMWJTU606g260AbtwKuHZrhSef3IEMXMKozPaxDKdPH2Zx7RpXb1jnAtoa5MU8vPwS/Onbxzh29BjNhuLc+W189OkdPvj0AbXE4LUaEI8THCUKkwQC30bHQl9johD8Kv09DocPjHDpyir1OniujW4aA82WjfakkH4jrBEee6eENjbvWUKkZTu82ra74/6OicO0waAsRFwYGiHcvBVy7doSEzu3U+pXFHKaJ58Y5/U3XNZq5zl3IUi5CTIe9PbAd14Q/OQnz7N/3wQzM7NcvrqLD8/M8eHH07R8O++0kXET2pM0Sa1ZWoGrN8rcmV5jfHyQRnWRQjHDE/vgL/70STLOdc5dbKZ94Cg4egTeeqPIS8/1UshVyGU8wqibWzN1Ll1+xMN5G2F2FQSRQZsQYwKMriBFSCHX4PlT8PBhD0Kus7xiESFCQD4PRw7AX/35MCee9JBig4huQopcv/2QS5cfUqtblvr/l703f7LjuO49P5lVddfeFzQajZ0ESILgJpGUKFISJVmLZUtPlt578+P84BlPzMREzF8zv8xEzIwj/PzCsmVKFiXLEklRIgmSIAkQ+76jG70vd7+3qjLnh6zt3r7daBAA2SDri7jou1TlevJUniXPMTEMoFZt0Wi5+CjwyvQUHfbvG2TPLpiZNV4pmSz42qHR8Gg1Yo8NpRRKGddqs9TbaSZWgqog9psfrZf1LLs64BcqOJqzlkU7dI83Z6dV9OoWtEsHFn8dtNn1VETPCugtwssvwV99fwc7xpdRrkLTz9wSvPfhJGcvGFf3UMGHIEojKgNW5/lGAdNqrKC9Cg4eeGCJfraOP83OPUfQN81asIQRoHdvg5deeIi9e/aBBr/RxNd5ND6eciNPcAtTX72hUdoIsHhlBvoljx/YxoVrU1wLjhbZjqGHasWk0zNKuCAwogpoWYCvdcyvSnD85A2+8uUtjA4OImmQkVN85RmHpYV9aHWB65PQapi5L+Rg1wT8Dz8Z5etfGSBrraD8IloMc/V6mWMnJllZMevY88IUdGYNC7OwEEojtVEqGnYsIs8r4+1gjiqogs2NtgAAIABJREFUICWFrxJp+CLF4uq5bqMtHSuwTUwCEdFCyGdEpJ0L7g/Wx80puH6ziefaYHnknBJPHBji+3/xBKXyB5w6Y+hnsB92TMB3v53nkYcdfFWiVstSrWe5NdNiarpMK0jo4Pnh2XZDQCF/D/tljpUFsQyiBoXytUaoYO0ERwYQZnxn5+D02Vmu35zmuWd6aDZKFLI1Xniuh9nZvdjWZU6eMX0rFAz9fe878F9/up1nn8mQyWSpNR7hw2Pj1CpznDkdH7tpNqBa93C1xFMKT9UYGBLsf2SE46enWVwhUppb0qZa8ag1zDMHNL7vmzP4gQZUIqI1PbcIJ04tcO3aMgf3STKyxHCvzze/1k9pZR+WvMCFK4b2pTAeiAf2w49/2MfTj2dp1mcQ9haWyg7XJi1Onl1gejaa+kCBbGK8EAbVDRU/OnLUiGgKadaHCRTo42vzDA7XfIoUKVKkSJHEqhgA4dZSKSMwTU/Bq7++yvzMVb71Tdg6Brl8DtfPcuHSCu99CG+/BzduGUGhPVZXm676E8EP8gl/cBh2bX2b7Vvq7N87hKuzCKuf8Ykxfvqzr/DYwWUuXK5z+eoi1WoZ2/bZPpHn4YeL7N+XZ2TQo+CUsFhEKZ9qZYU//vFdXvvDWRYWTF2ebzacVhhK/RMgjEGglIrSls3OlFlcXEDrfhoNECLLl770PEvlIazsGWbnFfVGhbEtNt946SF+8J39DA0ptJ6l3hRISwdjcVfuFV0gsG3bWAEDS4/bgqNH4PcTh3l0t+SJx7bR9G1y+V62TfTzs58+wTe+3mRlqYltwcigYHTEJZ+t0KgvG6tiMHSR9TNotlJw7Rq889ZNnn3K5rnnDmLbDn29fbz88ncZGP0Wh96f5dSpqzRqVcZGenjskX6+9c29PLKvh2KhiOP00du7k6VSgXc/vBmdVzd74e60poO6W02YnYaVlSVarV1QruI4Rb72wjfxrGd5/c1z2FYPu3btoVqp8tahw5w4dYlslL/bbMZiTZmOLP2rdlmd5BOezZQm2Jg0ugTOnoW33/qYA48U2O6N4ziCgcEJ/vIvn6Mw+AL7D53l+rVZ0NDX6/Psl7by/HO7OXhwJ71Fi97eIYZHFTPzR3jv8C18v9bWhFV2xmCwLlyAt956jz07FKOjO2k0PHL5Qf7yh19i596/5tD715ieWaDVqrJ1a5bnvjzI818epJBroPAoVWqUSzMceucSR46coRlY/5NRzo3rrYUmj/Yz7N4zwX/+L0+y9xGXcxerTE8vAHUe3tPL88/08sKzebLWNL6nadSrzM8v8t6htzh5smrSroXKNg/m5xssLS0CfTSbIO0iTz31PK7aQc/AcVpuP7sfeppSucW7777DiZNnKQSD4nseylckDP+fdLmvPd/Bd12/XkMIXK8JsfDXfs++/QX+5qd/wXPPb8XhKo1GE8v2qFZr5PM9fPvbB2i0JlAiixYZtLAhSvgGs7PXOHrkXUorMDl1g6Wl7ewY68N1PfKFEb7xjW9Tc7fx+p9OMXmrgmNrHntokK9/dRff/94BBodaNFuT+DrMmqKiPtoQHXeZn2uwsjwP4z0oVzA4OMS3vv19sv1lDh+5hZPtY8uWUarVCm/+8XWuXF2JMnZ4vm+Ef22ylGitIytvowEffdjgsb3vsHf704yNbcO2c2zbtpv/9JNnGd9d4djJFa5fv4XUDXZO9PDU40VefH6QkcElXLeK8usszs/y/nsfc+SjBcomlE10TMWywsdkPEO6429ybjtmLrr3TmhMr3FtZKHuqDhUBrsuXL8GJ46fZuqlXWh/iIwNg8M7+NGPn2dgy0scO3aBpaUFtm3t4dlnBnn+GZvB/hVsywXqTE1OcvL4R9yaIvLe8oN4MrJt0YT/rf2cb+uGMAFkpBQR32wpOHnc591Db7N97EnyxSLIQfoGRvmbnz7KlolpPvp4hoWlGr09Ljt3SL7x4j4ef2QIoVv4vovSGSqVKjMzMzQSxw/rdViYr1MtL5GZ2ILSMDwyyve+/9dY2WucPV+lr3+MnmI/y0sLvPWn31OeCs7hC4EXppIIjolpraPnZLMBH3ywyNuPvsFY/wF6ercg7Bxbxsb5m58+yfjOOY6eWGB6dgHHbrB9m8NXnx3lwMM5CoUFpPBBVqhVKhw69EfOnl6iEVYXtD8+8hePYrdHTffBbv8q1QGkSJEiRYokVisAhMbXRovf1OC7cH0GFl6HE+dgfBwy2QZNt8GtGbh4GbNhkkb4j41pdyP8x/cqbSx/5Rr8/k3oGzjNz37yAtvH89iWopir0lsU9BdtHttfYKUkaDbz2Lamvz/D4GCWbMY4wLpugYzdh69zHH3vLK/+7hInTkMzsHL4XqAAsLMgHLSwUCJwo5Ohu2cshBsXVdNUKWzjomkZ91TXF1gZE0jx3CU4fmaZL325l2KPg7RqjAxpvvlSgYmte5iZM9G1x8eHePKJPezYVsTSi7TqntH2a+NwmjyHaQRfiRYWEKbPA4G16mEfCsAmyLiDiYJv8igLaQfnSMERgSLAgt+8Bv2DR/mvf1Pkob0jZHJZeopZBvM5tu4cBLLmQgeoLnLj8immbpxjy7Bg2/g2slnJct1HYXIrZzACb9OFdz6EPb+7zsDIQca2DpDLtcjkWrz0lQy7dvQw89JWapUafb1Fdu4YYWwsSz5vvB+EdJhdrnPx+hxzi9Al4xjxdiemP6Wh4cLlG3D5RovnWkV8tYSQDUZHBN/9Zg8P796D5+fYseMhpmfqLCxe4Nx5IuFTaQulrCDXdXCmP5wLHacETLp9axzjiisygI2QNr5vzur7wFQF/ngIdj10jf/8swmGh3oZ6IVeSnz7Rcmje8aYuuXg+T79vQ57dw8zOppFiBK1WgbPd7g5Oc+Fi9eo1ppIy4xJV2ty+Feaox6/ew22b5/mB3+xh8Fei56cYjhfo6+YYffEIItLEq0GGR4usnVLjr4+gecJKrUWyCIfHD/Nb/9whjMXTbmWNPoR2zIiplkTDr7SOI4km7N5+mA/OyZgcsqitKJwMoMM9GUY7LewLR/LGaCliiyXPV575yRvvFOlXE9E5w4sXzcm4eLlEl//Wi9KCNBlhvrLfONrOXbt2Eu17jCxYzvTszaN6kWuXTpr1rcCyKKxjZdCEHk/9ByJBTsHky9cojC8QIsw33ib809wDMRGBCkszfdWYLXtmIPQaye8BhPUEsKUhzH9mExrFkJnECiUshDSIYxi0ZuHg48O8dTj4+QdH+G38H2HanmegV6Xr78wxrNfyiOtESy7YCzYWGhyaLIoneXDjxSzt45xcrHGseM+R47Ps+/h3Ti2BdSZGGvxo+8NsHv7BHOLVSwp2bt7G08c2MNAn0bKOtpTKO2gtW0ERmGj8aK10WzBuYtw/mKFR/fl8LwGgjL79hbZNjHCs8/k0WIAyxpkcdnnxuUPuHJ1JVAmWSglUNocWDD8VUTHGVwFM4vw6h9g2/YFfvzXj9NT7CXn+NhOhW99Lctj+wZYWgShPIYGCmzbWqCnqLBkL64aYqWsePPdKX772gILQfyLbOJEhrQyILKGTkQm4LlEru6hQlATWsnDkJYOkAlaK9fST8Z0p2PX+TjgXnSGCET4ksYCHNJJ0ARfG4F9egU+OAoffjzND783iudr8vkq4/kFvvdyhi8dHKdcLtDbm2H3zkFsq4rApeENUirb/Om9M7x3pGXi6knIyTgeghR2QLcChEWQRLZt5UR/FKAtEA6KjBkPYTKIuF68ls9OwW9fK7N95yJff3EcITwGelyG+xv0vtzH0wcdlparZB2PifEigwNFcllNyxU0/Rznzt/gD69/wOmzC9F6lNIcv7tyHS5cbjGxQyKlomAv8theh62jE1y9XqFY3Ekht53z56aYvPwe16fmAl4v8JTJH6QxgYR8IWgFzxvXhzOX4N9fr7Bl6xLffGknhYymkK+TL8B3X85z8MAwK8sOtuUyPJhjfEsP+azGa3k0WxblcpH/eOMIv3ttyXgjhCMoiOcakx4XTEai8CxTGy1p42kolMBkNLCC/YtvMjloMxXrRBBKkSJFihRfMKxSACQ3wj5mU9FyoVaGlYtw+kp87tFXQQ52ASjRYdW6O8t/+KRT2sfVoDy4OgX/8ps6pcZRfvrXz/DInmEKmVsI1SBvexSGfbaPaaJTpcJC+Q6+b9PyC7S8fm7NCd5+9yK/fPUYb7/r4geCcZ4wmq7GsrJg57F0DiyFkgIdRnXXsSuxcfcNUnBZOWw7i5XJIG0LJWw8oAVcn4bfvTHHzt3X+c7L+ykWmxScefbvsXn0IRt0L57fh23nUHqBmenT1Gsl+nr76R8Yw1cOUprgRWHMJ/NQlwg7C07OpDsSMhDw2zcIoeCEMJtZaZnrsTJGAaAFlg0tP3Y/nCnBb/7YpMEp/vJ7B3l0/zBFt4pT9ZDSHEnwfUm9LpibbXD842PcuHqdr3zJYXzbLpA2rueZ8bIcpOXi+cZN/NYK/Po1RaZ4gp/81dPs3WWRy61QyDUZfbyGOGjO+mq/hOvVcf0snp+n6TU5eeYqr/zqCH/440maLoG7ezf6SVpNjMDkapiag3cOT/LEwSt85csjaH8RRy8y2GexeyKP0hl8NUXW1mzfpunrgeUlsw6EyAZjlw36ZPLmJesPxxlh1oWWOaRdBLuAtHJmMyeMkG4Lcy70+gz8y68n0faH/OB7j7FvrwJ9nfGBEtuGJeJpiecrBC1QdbSCemuAVquXD48t8fNfvM+bf5qkVI4F004FgA7HRAg8pVAtuHgN/vmV6zjWIN//1j4G+yr4zXMUnQaP7FLIvdqYcN0FPM/Bq2bwVB9Li5L3P57mF7+6yJETgWCgiSy2thV6pTrYSGrVCtPLJZruVXbt2spwn2B4Xx0hPLAFuuXTaOXwdR9Nd4Bb8xlee/M6//pvNzh9GXwJvm8j8IJzxXBrDg69N8vjj97k5W/uB1Elm1lkcMBiYtxCiybN1kVymS3s2WExPAAztwIFhV3EsgtImkjptZ0pD9c1ZJFWAWyJsHJmQ02QmixcXyIW2Gzp4Nh5hJ1HKo1lW1Fe73ACIs6oQ2HKwZI5bDuP5WeNohHdpgCwRAZb5nGkhSfzSCsbqSD7e2B81KM3VyJvg5QuvuWTz9gMDWTZu9sc8pZi1pxl1gKhQYl+PNVPy+9jab7B4ICFkHDmPPz6P84yvm2MF56bIJdpkHeWGO7zeXx/DkUOhY1t52g0p1laWKSyMsPW0UEGx8aZm8vhK2naqBtojAt9vQmnz8E779/gyccf4vH9GTx3kVxukWHbYtdEHl/34HqaC5dcto9bOJjni68EQjoImUHimOBxworOsLsaah58fAb++ys3cHKX+O7Le+jNl5BS0Z+Dwd0auSdIy6CXUCqL18pQdx3mlm3eeHuSf3rlJh+dCPiqsHAsH2mFPDOLcIpGIJM5zGMzdP7veNIFSkrLymHbBbAL2LZnjnGt90iMNLtEniMSTDwZywEng62yCKtlag35DGaxCWUCxSog78C1KXj1dycpFjN89dlRhnMz2OIGWwaajA+DZWl85eP7c7h+DtfLsFSC1968wq9/f41zV4iP84VrWoCQGbBzWEIjpQOE59LDsTCErgMFgCUdLCuf4IE2tpMJnqVmj2EBR0/DP/z8DK7fy9ee20NffgGLm2zpU4wNKCMD+z6oZZRyaDb7Qfdw6VKV3/z2MG+9fZpG0xwbUwEf9nw4eRb+fOgW+x5+mB3bLPLOPMWcZMsgPLLbwvdLeK0yuqYZH4kjAGpshJVB2BJhZ5CONvuAYBx8ZY4YHTkDzi8v4FuDvPzibnLZFQQ1BnsUw30Ky5ZBAA6F8nN4bg+tVp6FxQyvv3WTn79ykY/PBnFLwmmNntMOtp0FJ48lnTggLKEBIOYtUoNEYgkb7CzScRG2JkpbEjG3dWgwRYoUKVJ8YdDlCEA7on2GDs5E+kboVQkr5/2BiMoPLRxaw80b8JtXl1iafoPvfF3wtWcfZfu2AexcJnDdJ9i5+MakrxSu26BcLnPyzHHePXyJP7+jOXXe7CeiVHnBZr7ZrFKtLtKqLlBrCsolaDZrqzoaxSjAVFOvLlGrLICwqVWX8dw6nhv8Dpw8Dr/818P4zTO8+OIjjAxbFPJ9SNsGy8Zp+bi+x6WLl3n9tbO4DXjpxUGKhSFqdZ9atY5Wron87gUBjhpVatVFdGWBSjlPrarx3EY0Z6G7YBg1Wyto1EtUyvNUKzYZ26JeXaHVqkUbj1D4yNhwawpe/bdprl2c5tkvw76H8/T02ORyBZSWVGseN28sceqUx7UrMDoIzz/t4zh2EDhJ4AdulGF7ZCD0Tk3Cr391jeXZa/zgu/089dQOhkZ6sZ3AzVTIYAPq4bWq3Jgsc+zUIq+/Ocnb75q2+YEZUNCpfAoRnpQ2sIQRAI981ODfhl/H1hMceGQIJ5PHsnqwchlUS+M1W5RLVdxWM9oEt5pQqy5Qqy5QrXmUSz6NRiUeaxGrHEKvELcFteoy5fI8PeUM1fIC9dpK2/UqsN5cuQL//PMrlBau8O2XR3j00R3092fIWTmEkDiOZdL/+Q1qlRpTM9McPnKD/3h9iUPvm7gJ4TpZdz2Fxxe0cWM99jE46hil2WN848UJ9uzZzsBgn1GGSSsyV2uvQb3mceX6Fd5+/xK/fWOZD4+ZesOgiQJDZ5YEIUzkbMuCZqPEoUPnuXQZXnopx1e/9jS9PQ7CtkD7CKlQXo1ms871m1f4w5vXePU/ljhzATw3FJiTErSZy+PH4Nf/9gH57BRPPvUwuZyLFAInY5vz8tJnaWmBer0WpUBzPajWSlQrS0jqVCtVGvWyidMQwHWhWl2hUl4ga0OlPE+9XsL33LZjA+GoKhXyjSXqlRpNF+q1LK7biPlFeH3QDq3NuFQr81QLTSoNm1q1jBseug5oo9WsUK0uoNwGvtVDvV7GbTUjvthq1CitLFDKKzJiIUjfaSNEBi2E8VgSmICGwcFhhY+vfZquR7VSwnNbCKABfHwE/rn4J5rlAV54/nG2jhYQlkBkbLAslAeV6gqnTl3iyIeX0C586xvjDA6OU6s2qFZLkTAYyhvh8Zv3311g99ZfIFr7eGhPD4XePNi9ICR+S6GUx8rKMr7n4djhGJWpVRapVYt4ZChXXJqNWhR8U2uzpnM2HDsK/+C9x/zke7z41TEefmiCXLEPy8oQDAIoH9+rUa3Mc/7CDG+/f4P/eLPC0VOGbn0XMMnXjIu6C5XKCvXKIpYQVMuLNBoVc75fJwQxTRRXwfMaNOrLVCuCnNekXoOW24gzMNwGoXJJaajXS1RKc3gVqDY05VKNRqPWdZ1HngC+cX//4LCLbr3Pyjx8/cVHmNg+hpU1ylXQSKFwVQPlVbh2ZZE/vjXJq78rcfx44jhfrEc1Z+orS7jVJVzPp1pZpNmsgl4dGyO0wnteg3ptmWrZJeO2qNdyeG4rOh4XyL1UK3DoHXCrh1mc/pBvff0xdu4YIl/MEeVUFQKlWjQbdabnZjl1dorX/3yVN/5snidugkUobbyGZmfg0KEZdoz9ir/6/pNs3+ZQzOUQdgaERPmKer3GysqS4fdhX+tl6tVFalXAGqJa9Wk2m1G/VKDgqFXg6EegGodZmTvMi1/Zw97dQ2RzPdiWZSbEMjSFW2d5cZGLlxb486Er/P5Nl+OnjMLGC9JOWkED3FaVamWRWtXGcTS16hKtZnUNjzdTjes2qFWXoeRQLVdo1LxoP5AMcJgiRYoUKVLcVgEQPVChLcZZaPWMlMrhruWeqZnjMoI4d8Yd3ofJGfj17+HcRc3ho2d46oldbB3fwuDwAI4tsR2J8j1c16dcqbO4VOPCpRk+Pj7NRx9DqWI2dm4U2Mj0p+nChSvwr7++yqHDSzS9XmYXMhw7OUOj1eGeS7CfFHD6Ivzy36/y/rEmTraXuYUmZy6UaPmxAt7FuHpPzZU5deEUBx/fwfi4g215NJotqlWXufkVzp27zOH3TfcvTy2xe/cZWq0M07Mtzl+u4mtTXr0JZy7CP/7iIsNDi5SreWYXbM5cmKXpxpYCEYyfr6HagA+OlXD9MwwN3qSQ7+XajUWuTTbo3Fe0PJOBYaUB038y0bQnttfZuhWKxTItF+o1kw7p7BlQLvzoBzA8ugNhZfC1hadsSlWPRtMzHtEqnkvtwoWrcGMKLl1f4dkvezz00Db6+7NkMlksKVFKU29qZudKnDk3yUdHa1y+AuVqnCUiPhbRub0J7eDSCEHBTl17MD0Hr/wGbt6a5MUXmmzfvoNisQHMU2ssUKlKTp+d4/CR61RqgITrU/DL301y/Kyi3ixQrhU5fW6JSj1wj02ky/KUoaWr1+H1P01y5ZpPX+955ubLHDm+QKUee9AozN621oRL1+Ef/gVOnJvn2S/77NgxzOBgv/H8kAK3pfDcFtPTi5w+O82HR5ucvWiEWs+PPXOUXmsNGunVV35Ey7UWvHfEBA77+Mwkzzyj2LVrG9mMSasHGt+DSqXJ9PQyx05c5+gJl8s3DI0QWMNEILDYFlhWFhHGSRc9ND2b85fP85t/h/NXG5y7cpWxrYP09RfI5TK4nke5org1XeLI0Su8dchjftEEnfMDLxsduVErFFB3Yb4E//4GzJcmeelFm507BsjmPIRsUG+2WClXOXWmwQcf3WSxZJoztwC/f/0y164bt+f5RZ8zF6tmngO6n5qDN966xc1bLsWiZm6+ztFTNZYrYZyQeK6NlRpOnSnzT784xR9HBEoJZhbynDw9H7lRR3EwMDxjfhn+dGiG2YUGxaJD0xvg5NkmswuNKJXjSgn+/M4kszPLOHYLj1nOX2kyv+AjgXIdjpwokcmep6/HA38WhI3WMjgGYqK2SymjoHxGAZDH1wV8VeDi1RLXp5q0fMhaUKrBG2/B5PQyp86f48Bju8jnM1iOTcv1qDU8pm4tceLUJc6cMorCK9O32PPBURaXHS5erjE902zzilGYKOhXbsI//gIuXL7A889uY3x8lExe4vkNypUaS8tXOHVmhpNnZmh5IG04d8njld9e590PF/HFNSZnBGfOTlNvxLzb01DXhp+/dwQuX4UjJ2d44iDs2KkpFPPY0jbO6p5PreZx5do0J05d5fARww8arilHJea10YJLV+DffnuZj4+XERpu3Cxz5twyzVZ7ys0w04QPnD5f5ee/PM+WYQfHybKw5HDqzDStRByLdrTzrrD+chUOH63iqXOMjNyk5fVz8Zrm8tUSnkeb0jPU6/kQZfGZX4Y334Gbk3D8zAWeftpiYLBANusER4U8Gg3F3NwKHx+7xFvvaG7NmmdLkre6vnl2nLkEr7x6iSPHy/i+4sq1CucurlBvga8DAgut1AJ8ASfPVvj5ry4yPAjSyrG4nOfUuRmEFSsrwqCblSa88xHcmld8fPoUTz+1m63jI9iZDLZtPDg812Nhocy5izN88NEcFy7Dctn02wvXWDAWnjDHB89dhP/+C5crN47x1MHt7Ng5huV4uK6mWnOZmrrByRO3OHtpCYmhhfeOzFJvVOnvU2RyJa7fkly/vmzaGzxOwuwVSyV490MzzkdPXOGZp5qMbhmlp6cQRe73Wx6VisuFS7OcODXJR0dM3CSCo4UqoGXLNscdPzjWoumfY3DgJrl8gSvXyly+YTKtJNeWxtBh04fTF+AfXznN+LtFGs0mU7OCk2eXcH2jy73nIYRSpEiRIsUDi03sFNZuajNWs/bz91kHinkYGYIto0VGRwYZ6O8hk3VQSlOtNphfKDMzW2J+sU65YjYyRmAx2v8kbGmiavfkjSXTbCok1bqmWjWBp0RwcDG0SAqgtwd6ikQuo76SlCqKahVAGGtRUH4mAwN9sGVUsmVsiHw+i+t6VKseCwtVZmcbVKpGkCoUTc5jgbFKVipB2jvivvcUTFs9ZdpaqZl6TdfCZHqm/oxt2lrIm7ZIac7nrlRMij6lzB2ONPX298HOHTY9vXmmZ8tMTUOlavoZeoVIZdwXt43B//w/buVnP3mCsdEcvhjn5IUMf/+P7/JP//IRi8txQKkwVZZSCilMe3qLMDQIo8MFBgZ6sWxJs9lipdxiZq7C/KKmUo0twqs30kl6ifvcTkNhOiWNJSGfg5Fh2DKSp7+viJCSSq3F8kqduYUmS8vQbJr25jOmjflcKPRJGg1BuexHEcmTDsGWgN6Cif6ccYwRy/XM/FVq4Hoy2sCHFlMwY5nJQF+/advoSD89+TxojedJFlfqzM6VWVzyqdRNmeu6Fse97/gbj5MlDb3lc4Y2R0YkgwMFMpkMluXQbCkWF2vMzVdZXjGCUctNnmU3Y+QIcGz42Y97+N//l2/x7JM9eK061yf7+P/+2wn+n78/Sr0Bo2MwOGjRP9RLvuDQcD0WlxrMzTVYWjbz7Htmvto9OyRxQj8XEYxXbxGGB2F0OMfAQA+WLalU6ywuN5lfbLFcgkbd3JnPmGjimawp0Qh6kkpV0WwZK3AuF8xbJrBi+kZBU62ZaPKholOgkcK47IdrMZsxzW14gkodqnVtFDKhZBkgnzXX57JB7ASg1pRUawq3ZRSd4XrN58w9noama1GtKZotjWUZvlPImTKS6fOS8xJOdZh9IFTYCCmpNQWLJd/EQdHBcSZp+Et/P4yNZRkZHiSbzdByXUqlBnOLVeYWWsbl2jHj5VjGk8VtmuwOtWYivZ8IhJsgBV+xYHj2yHCRvr4iIKjWPBYWK8zNNymVDI3ZdrCGcoY+tYCWJ6hUNdVaUgCPOykwioxiAfp6YWg4w+BADz3FPCio1xosrzSYW6iyXDZ8L1QEBz4sgXeO8ULIBfOasQU6CLJXrWsqNcNzBRZhks0w61+xYO4Jj8J4vkW1pqlUVaT0i+k5CbMew2NNGSuY/+B5hIBmy6JS1dTrKphHO7D8e9GhhHi1mLIyFvT0wOiIYGioQF9/AdvdV0dMAAAgAElEQVSxaTRblEoNFhaqLC+ZWD5ND7SWCY5k1IqObdrRE/IzbXhPpQaVmsDXJu2l77uGpwR0WMxDsRjcI6DlCioVTa0BWphz9klGYgXP9VwOBvphy2iegYFeMhkbz/Wp113mF8osLLqUKub55anQS6idX4TcWGLWWV+vecaMjPbT25tDaUW57DE7W2NhMfDUaJk131M08xiECMF1BeWyNoonvfrpEu5HCgWTqWV4OMPAQJFsNoNWmnrDPN/n5pqUyoa+YyVOaDgx4+AE81XIBcplaeiuXIF6Q+Cr8DS/H421FTxHiz1h9hPTl2rNvMKUq7A6U06KFClSpPjiYVMrAIQQwTZbxcJ/sC8JN6oos1m2pNl8ZzNE6ZB8H+oNc0YUjHDiE7rbich3UwQPRbP9C6xKiZZYMraIiDBnt/bNGd2gDT6ssqKH7sKhwCoDAYkgmHwmY1IVKm02A25g8Qzvc9Vq0Sesw5Lm3J/ScVstgr4HfdDaCh72KvJYCAX38J5QiFKJcsfHBnns0d08+eRDPPP0fnp6cnx45AS/+8Ofee/wTBvFOBih8Uc/3M7/9j+9xKMPSyyxTN3bwqEPS/yf/9cfeP1P5SjwXQgR+EHbtmlXMzgu0RPMIcRWuIYXbORC2U8Hm9Q2n9q1FQAmx7qJUh666VphOaHSw5zEwPVNW8xZ3sDaos31vp/cvMeiqKlRBK9AqE60yCe+zxHmB08FwobWgB8dCwjnJKSXbMYIggLT1loDmoG10XIMjahOwuuKcJOZ/BwILgFduq5pZwYjdIbtUdooQlo6dvNXtAdgFJj1aEv46Y+L/B//63d49ukevGadG1P9/P1/O8n//f9+yGIpGHsBThZE4Apcrcdnd+Mo+eEIq+DoQhAUS2vANe64wXRrDC1mHZNOLhTaFcaSrJURUE2aQuORA8YFSsbe8dFRAd8zAnc014EAqj3TWyEspFCRaV8H1uOEvG3WnA0qiI8SKnoid9wOvhGOrdDmJYmDRaqOa7Q2f6UwG31F+4GXkP46ZzxsW8RXpImxEB6FcuwgdZ9n6rUxPCrjGCGi0TKxQmSwXnzPKINCZIMxDK3pCBGkUjPzYmGUeAoTaC+bITqa0Qy+D2NJaG14XJIfy+B3DdGZ6KQAJTFzLHWQXhXIOWYNyYDPNkyWQ3OXFZxFj3itjZQCgRsJ9J4bz5ETjJmrwvm2jZ+R1Eip2tLGJp8hCdYVzFHnegzmSKj4yLaOPWsivi/MuJvAiCLwtAGtjLrF8CBDCQJtzpYr4x4vgJxFcMwqsBw3As8dO5gHBb4KAs4BkZApgyMSXtyWnGXooOGCxsGyjOedUn70rGnj+cFLYnirD2gRKBsCZmLL+KiWwsRJyWZM+8LMRCbQJOigD+HzNaYFSPJ/KUy5yjd1OsIoGDRm7YRxgEK+Gx7tCEXyaO6DDviKIACjDJ4pOnLd14HnjS3NmgmV5b5vPCt8gme3FSsAhLCD57Qfeep0U2E7gaLQV0EMCqEQQbphi5hXtNNTvB8yDZRBXZt025ciRYoUKT4V3PYIwGcHHfzfrs0Pd9ahq7UVSO2eBr9lXJrR7Y+3UODwVOweaJ6BwVVByOVwEy8FZJKbTB1fGgrUYR2CwM0/KJfwvtjrPGpMqJQQwmw8XR9a1VVdjix0loy/i6wZOlE+geIjbKdICv+0CchhX8IzjBni9oUbmtASPDQAf/GtR/nRXz/PllFJs7nMjm0TPLz7qzy88y0uX1lkZdlcPzYKX3p6Ky9/4wA7JjJI4aLop97Ic+bcZS5fKRt33s7ZDRQuSsUbPYERLtx6YryJLaTJsWyf4W56rOR3KnqnlXFNRQTCXrA5avlGuNPhd+G4JDaCUiYiNZOkCUOnyRaEIy+FWWThvCidNHhpVKc4EGz6Q2VHMxCMkt0K9vSRR8XGkNweB2fDozUWn0G1AWSwqU90SItYORYLS4lmiXizKYRCa+Pbq7URVLSQ0WY6nBmvGQqJ5j4Zru1Em2OrXtjSuN2hK6wVHLNR2gh3BJvwkOjCFGYi7CdGkAvnOXTBDc/26mD9OcH6i3hAQvtjjiLoeM4wNCwTfERHisOYIcXKDaK5tILv/KCtgljIJUE/0QiouF9JuhSCWABNCDQhX0ryxXAOfB2PT1hmcNza+A8JQwtNN9GvgAb8Vjz+4RgoEhZSgcn5TqLsRHsVUG+F4xnXmZzbbvw4pKGu6RRFTJ+hx0PTM7w2PAIRBlP3w8lvozllIqkLga/MKhESbB3PiZew4utQ5Op4TkgLnLbnRrvycC0BTGui6P7J54uV6L9Z94G/UaiAaisl5imhks4O5tTTRoiGoJ7gez8cm2g8k/wisS5kHAJRQZA5x9SpfI1KKMSCR3PMG8J+6aQVvZ2ZqOBZFNGINkon4cb3htoUpWM6aeMZHeOhgzGTwoyDxigHwxt18m847gFPsoXxcotoP5wURPx8DedWx0f+NGbd4MZjKAPlntZm3OL2+Qhhsg1orSIlgEyMGeGY6XB+w8Uer+PkPIczGD2n2nhod9pLkSJFihRfHGxqBUDoqiaiV5h2LUxtEyabSl5l7l31kFv1zEtsGRK/hZkP1ntG6mgXEp47TEoGa9epo+tXQyT+RhsSHX8nOq4Pm9h2imGdPoaffN1ulYnrD3bTGiqlJcpLR7CVg3TrFK0Vdo1l2DaUYdeW/Zw7P830rRUyGYddu3p4+qktDA95CFGm3iziq34OfzTLn966wux8d/E8ak+7Y0d0lr6zB6vvX2ugk6Nltqm682fd3VqyRkVtG6z1odveRbTU9bLgimhTLGKrmyawmrYLNqvatl6bOq4XwQ3h3+TtupMm7kSxICRCqyhtmdl8xkJ6KAZobHxtLO862Lh3XQq6/YPWicZoReddRnjvWCFdLVwi4h9ByeiO9BHrelLozg86WC6JunXQxrApHR4SoUCeFK90JH3G32pEEMehvb6129TJIcwAt/GUVYJSdyidrDvBhDqxERrp5H9reEqFbVyLe6/ix6JbswJxMhjfJAVqaL+/8/0qmlMJC7huv3YV4nqTHVOhlmLN+9b+oS2VrtZr8GtDwwK/g0fGFydXStdnmoBIC9DWJrV6PnSHDLkK/qo5CT+GCrSu6PjeCNLCxBQARNCWUEBfNZdduhSttY6X6jYGbe3ouDsatG5jFPM3HaX7FAmFV/fKOtsWXmuUCQKQQRl6rSJIzmw4N12btnZHU6RIkSLFFxybWAHQHZ2bnM8O4cbgs2vLvaxZa22EMt9ETn7jjXNsHZ3nB997hOGhHBmniGXlefzgAfbsPUijkcOSUCzW6e0pI0WFWrUByuP4yQv8+leHef89TaMZuI6uofj4VNGpRdkMCMlo9YfVuFNy+zTIs9uuXydMypHpuftm+NNaPaHiQ39GRLBWrZ8tB3kAcT+nb9NNxn1sTNdxvK30eEdFf1ZDmRTZ76wN612dfN53Xncbvp0iRYoUKVJsMmx6BUD7Y1UnrHh3ahLtVnZc+kYUC502gHuzxYlFk7VKTNoh7g8Ce1JgofOkyZ/8T/+6QKV+kW+//CQ7tveRzw/SXygyuHUAsj3BIdJl3PoitXqJ2aUSp05e59V/P8Lv/6ipNoKzsm2Wyu69jL9pv+ZOZ2TdOzpk0s8cq4bjNh4sd0IAa9zeYUi9d8MgjDHR16DEMNgT4Iyh/SbazqLlDULn3NV2/LvF7VeIDniHeXevJ79jvroUnyS9ZJtuPwMbGanu5WxgRdxlvetjI4Jgkgcr2rnAOgb3NS4SETddq/Xr0nxgXg5tz3dNJXdYQDcvr41WccdtbTPnJ9dONx+hO6skWdpGbgnnpH3cP9kT9m7V8vHTuNOs3nlVJyGG163PYTt9CuK9TLKee82fPmuVTIoUKVKk2GzY9AqA1dv6tR6SHZ9v88wTwb/2Szo1/LHrXxypfT1RvaOYNX7qvKQ9a/ba5XbbhqwjMt4BTEkKjac1vgstBUdPwc3ZWY6cOM43vubx6L4mg30OxcItbMtCKag1BNWG5vpkmSPHrvPOu2c4c85leSV0wzVBh9o3Omv3ZvV2aY3m6vYNa/v1txmJdX++d6O6bhXrtmONC+6yKZ1b041R3WqItvdmzhTGVVlYMLtY4PDHTVYqddxWi5m5KhevV2kpCxKHdu491i/5ngr+0RRtrMzbU2anm3Hi+6QP9DpNuWOq7cqn7g3Nd3OaXn1Nkge3i26rOXCXMYxuia+K62mvcT1usbrd8Rjc8Uh8QlmrW/u6KQQ+kYi4IYk4KZYm61h940Y45J20r71m80m3tWMtauhey90K/2vTyFo9Xa1A6XzCr9/G+ymYb2QlpkiRIkWKLxo2iy10XXwikWzDCoDO7d5aCoD4yttuwm6jAGh/HCc3OxvffH/iTX9XmKhKQgBao1EmirFtjgT05GHfXti9HbaMmNRcGce49VfrsLACt2ZNzuybt6Dux0G+QsFfIDtGbj11xm161LHpvxcj0L0dn6YC4H71Z+0mfNJeCkAmtsthIEMpTPrI0WHYNSEo5o3QWm9mmJpW3LzlmbSFd1jfpsQ955xJlQyJwvX9UQDcZ6PgRuirUwnbzSPitqtig7xgI2N0T3jqXSgAuql/kvjE62bDtHpn4/iJlBEbqHntZ+L95c13z4GTJYR/k9EoPgt8Cs+zFClSpEjxwOGBUQAkcW82HO2ldtfIt1+TtE/fTRs6FQDt2HjJ925chEnLB1GKoDBVnlYmpZETRDB2rDhHuu9Do2lyQbd8Y/3VBHmZ6XT97yS1texv4buNjPX9oYx7X+Ynqfv+1ns3vRQQpdGM0tMJHRnDrQTtCDApv7SJQC6CAuL813da++cV64l/t18Bd0I566+8jZezHjZCX6t5cPcab9+39Vu/kb7d6/7fKW4n/If4dLlC9xrvP9ddyxPs/vPmu+PAouP9vVSRfFKk1v8UKVKkSLEaD4QCIMVng27CxXroEjv6ruvdDFuoBx7pKv/c4U7X5p3i87DuNspHOtWTD3KfU6RIkSJFihQpbofO9OwpUrSh00rX9psIXsF1Ipns+S630fdbwPnCYVMM5KZoRIoN4PMyU7fjI5022xQpUqRIkSJFis87Ple2wfaAUutdd+cuz/cbm83ddC2ny7YykrK+MOc2dZSDfaOKgO4uiqnj4ubA54pBfM7weeNL9wMb4SOf5aGfFClSpEiRIkWKTxufm/396oBSIbQ5vK7D6+JOr+p4x2h8mlboT8P9dCOBppK45yGDVlHb3YddSrEGNrKyb3NN17XyueEYKVKkSJEiRYoUKVJ88fC5OALQ7qYuWE/UXdPlMyntizWuSZHiQcI9Il6x6k2KFClSpEiRIkWKFCkeRDzQ9rzOxm/U6BlidTqp1deFzuwi+Pae5hLvwP2eiE8iv91/4mgPwRXGf96sRPlAL5g7gInyf7dZL9Io/ylSpEiRIkWKFClSbCbYn3UDPimECOz+WkdC+kbEjDWvSRwR6LzGZCwL0+TdaUs3DzZN09u0MMbBvDNi9/0StNvTHd7++7BN90Yg3rwQQkR9j8Yi+Tt3mt+hmxfO523U7hzr0VmKFClSpEiRIkWKFPcbD7xBMylmxDnJISl8rLXZ7rYZl0F+81AMNcKONoWmm/Z7gy5uGPczGsBGha6kELzqN0QiO7XxBNF3UPaDh3bWcPcKgC9GfIf1aChFihQpUqRIkSJFis8aD64HALFQZiy0IBPCZChsaB2LHp2B9rTWkQAX3ac1ErCQaAGeVoE+QD/42pLNgjVM/J/22HYKa8n3q/U9IV0YNYCPUTgJrdGi09L9YEDSPSCm8XjRiQ+r3t4hPt/Cfycdhd4iAjPGmtU8KMWni/B5ESruwu8gnZMUKVKkSJEixRcLD5QCICkzSkAG4f8sNJZORDRMyC4qePnEQlsSOtiom3LMyw5eSgtcwCXcvN/fGABfKKwj/Icbc5n4/l6PuriN0C4S0oEEnOAl0SjAC16KB8/6bxQZ8V+I14gCtDAviJ1h7ryHXyxxN1QChPwk5CEW3fnQF2dkPju0x3UVkXeXityORKAgTmcjRYoUKVKkSPHFwQOlAOi03Ag0trCwpAAJwhJIKZHSbOxc1wVfYQtphEnPQwFSSiOeKKMOEEKgtEYi6e0bYGhgkFwmi0bTcFssryyzVFrGVf6n3+kvIEIHgXtWntYJiR5AIC0LIQS+58UCfMLsr1RwiwApBYV8D6ODw+RzOVzfw1U+5WqF+cVFfP/BogshBT29fQwPDpPLZvE8D9dzKZVWWFpZxlcJb5dUNtoQ2jxJBCghkLZDIZ/Hsixc16XWaKA8Lx3YTwlJ5aElJNKSoBRa+YH3zmfYuBQpUqRIkSJFis8ID5QCAIxFzQmkkwyaQRvGBnoZKBYY7Ouhp5ADQGlouC7lap3FcoXZ5RWWfY+6Bh+NQuAFZcrAatcj4ZHRAZ59ZD8jAwPUfcVcpcLpK1c5US1RVX50z8ZxpwcHNptj6v1oz8bKvKc1ao0D5ByLjGVHWR18KWl4Hi2lUWi0FGgVBMPTht5ywK6+Ii8e2Mfo0DA116XcanFpaoqPymXKWtMKlEmbZdY6EbqjS6Ag4JHhAZ59/BEG+/upNhqUaw3OX7vG8WqZiuvhbtaO3GesDk+RDEvZ/kv0ScdXWkKQk5KhrMOj2yfYu2M7WlrMLK1waXKSyYUFyi0X93524lPHWuv5/vGyjZQsgYwU5GwbR1pIrUFKfGwayqfp+3jp0a7PFGnMjBQpHnyk6zjF7ZDSyObDplYAGDdtHZ3FtjHCWE7DVgv29uV4ausWHhkdYryvyHAhR8GxjWsngobSLNdbTJerXFpc5szcEueXVpisNakoTUsYt1xLG/fuEaX4suPzsz7YNSiZUxZnnDzutMMNbaxGVVa7pXePdx5GJ2j/dp3edvztfn170rzbb1zvPHjbWnd3b1Nn9P7bt0cEBzcS14rADfeenDdfXSMY4X8Y2Nvfy/bhYfoKBSxpMV+ucGFunmulKmXfi+qWGHpzgAFfc0B6/KhHsm8kz0LTYcrN8c7yIje1QmvNCiJyLb7b4ICdYwobHI91JBkr6EsG2KI0z8gmP+7V7N6SZb6iuJWHwjRMKY+mZrWAKmQcsNEEy+ieMSHR71VjsE771utzNypM4m6PiXSWLwJX8VCsj9Zx1B+1qrZwfHMaBpTmpcE+/tPDO3h8xzZWfM3k2AjvSHh9ZZkbLZcSn0ZcgE9MSXdYRzeeFX9v3umufb0TftaNQ67FdySCPJphW7JzqJ+do6MMZHM0G02mqzUuLS5yvVzB+4Tr836O6OcNnXwg+TndEKZI8WCh23r+/AZD3jzoPLa62ca6G1100shma/MXHZtaAQBxIDYBWBKkZdFTyPHQtq18bc9OnhweYMyGAakZtKBoBeKl5VBqeeRth4GhIUZ27qZvuUxueh4xOc3l6Wk8z0MpFVlHbQFZATk0We2T0YIsGkcYLwFYHUMAVh9NIPFZd7xbp6esvZ1tL/NOoNd4f+eldL/7bpazCIXm+8gUwsj9DmBZMDY6wlMHDrBtdAuOk+Hy1C2Wjp3gRqWG9DV+0JTknEogIyCrNVnlk9GKjNbYWpuYANrEBUiO0t0wuqRgccfWydsI2eH59IyALIqs9slqRZZgjHQHjUVSlwjKVev2rTOo4qpYC2u0r/OrTrq9Hd3fDQUl583oNnTie1O7QAZKgdXCP4l7JZqCk2XX2Bh7xkbJC2gCQ4UCu8a20HfpMqrWWFXv/cP6CsV7V3YnEnTQRRW6+qo755BrKYYCtbFZt5kME9vGefaJJxkfHKS0XOLc1C3mz56FchkLE5PhTnBveOoXC902gsn33ZQDKVKk2HxYFfAWUKrbzjjF3aBbkOrbxa76LNFJF0KYI9ndfk+xObCpFQChJTYMzNcDjPcUeObhvTy/dxe7eguM2pI8CpTPiu+x3GihNUhbm4BbtkPGcRgQFg8ND9I3MMj42BbeOSE5eukqjgTLN/Uobax7QivjLp0w0RkRQEdR4EPRANZ2R9VtW9Z2iMRdIvp/tW2pM0BVvPHtzgiiGoVxe1/LA2CjS1Ek2iQSJei2a9rr7jYi7Zvm7sqOdstePM7c5aZQCoGDpiAEWwp5dvb1sq2niONkaBYLDGYcstKiLixIWHfbBAylDV0E9GGihylQOgoeqSESDzs3shsf79WWzrZRSgzSquHYYCVaG9qQ2tC4RCP0GoqYWKPRMbfJH1fTYki3bXO2pmIipLK4vFj4Xk1Naz0Co4ej1gla7I5QrO9WnhFYBTL5SzAxSotwgs2VyQc0Rph0MUJ/RWkySlMBKkpRUxov8UBci290tiluZcwNNjbVq0esm/W88+q2HwUIvbqkmKrXnA3auZRO3NvuGZAsqRtfCT8kz+yvJfgLBEKY9xk0RUuwpZhne18PE71FykpRrfQwkMtiSwuFDzpQ/N2Gz8TeS6t5VpJP64672kfvi7cJ6hTuVTL2TofgkCoAUqR4MJCu1fuLbuP6oIy11ppMJoPjOCbWlu/TarVSr69Nhk2tAEBrMkAR6Ad22/Cd7SO8vGOUEdsn26qS8SSutKgima0rlmoevoKsBUVbMJwRjArNIJoRX+FLi6eGcozv2kp2ZZErSyWqQItgA6l8bN8nqzSOFthaY4XCEiCFBaggSrqOxWLduTjX3qpLBDISL5K5BUSwCZWxACXMglE63iglXZRFaJ0ksR0XGiECC0sg3IVbbk2g6FhHgZHc3gokMiwHFW3Y28oI9rUiuicU6EybTQT00HbafVxksGkXgbwfKgA0glDmMiSxceYRCtMSTV7DkKfZUauwt7LCRMbCyWRpVMuMNOsUlE/NtAQdaF4lPqEHgKMVOeWTU4qsUjgaLK2x0NFRgTCCfnJLqxFtPY760tGPsB4pZFeRwQQyDO9PiBtdhiOpRFCJssPvLcBWkFWQU5BRGkf72NpHRvMYCqrhLITzEr9Hg9aivUYRC++R03dHX5OfJBIrEtoMhZignCGNtY9ZKOR1imBSgJDBilJJml9LRI1HZLXo1n6AR6AjwjRxIgVamzYme6Mwwn/Jb3F+fp4zi1vYN76VFd9n1m1weXGJ5UbLlKPDsoP6RbuyT2CuMXMX1BtwCi0Cm7rSHbTWDbH6KJw3SdCdiAMlX4m0lgnXTqEDOoh0LBGHamu3uS0uuV15EP8jujfgotEch9caxV3U9oDEdFxYxHdD3hPOptTm3h4NQ60647USO6tL7HKgUquw3KjS77awNfgB1amw/qDt7Xwm5IMySvGoUTE9xnonQ6s6zDTQsTZuM1OfR4T0I6Ukm80ipaTVaqGUIp/P4zgOjUaDWq32Gbc0RYoUG0WnJTpVBqSAmM9v3bqViYkJxsbGyGazLC4ucvHiRSYnJ6nX6591M1ME2NwKAMzWSQF5Gw7uf5hnHtvPaM6hoFxs5WN5LrVmi2vzy1yYX2ahUsd1fRwpGco57B3qobh1kN5inqydxdMKG8XeiW0cbHgsnjrD0nKVCjCIESTQGikIBN94ExduSrWQwVY8EK8ShrCNMMBoM5nYmIeiVVIEMNt8iU44qQohot9ABJttc6/QRmEQ6hFEVGrC1qnDVHarUxp2s08JIYJxAKFFtFEPy2i7ORqtUMCJhbNuQm+yDhFcJ4TpswhSdIWh9XRwXdv4btSgJoyl2wbjvu97ZHwPx7fJaD9Q8KhAxksKKDEkAkvELymJxsUI7oF1S5AY66RoGc61aG9yog9RqrLET2E5IhD+hQwoL7DYr5qvDX4OlVBSgCVI0PsaQxgIv0LH8xSrAyQhTYbzBBqlEsqDaBzaWyMjGg7oNHmesLPRQf3xj/G6bGu4iN/Izq8IlRYShEx+G/WhXWzT8eoRYdpH80ESppEz4l6Y5s/zFdenbnEEj8r8HHVhcb1c5/zMHNVaFVdrtJBoJGiFEBKEStBI3LPwvQwUK4pAEYFABbwqVARuZDGEcyiEQOiIwtoVV0FdUe3CjEOomkoGPVxFfzIWkkNlXlJVKTCEHCo0lFZRh8Pgm6YJYdtEzM+ECdAZqx7iPmndxoaNIgCjpLOVj6N8Mr552UpFgV+THgPtvKV9/UZ8QQftQQa8KkE1Im6E0MmoB0ll2loj9/mEDOihv7+fF154gZGREY4ePcr8/DzPPfcc+/fv59SpU7zzzjssLy+v6Ur8Sc6PfhGEkm59vN1YbZZx6WznZmrXnbZjs7R9o9hoe5OCfnitlLLNkus4DkqpKBvSp3HWe7Ofh98IPgnN2LaNUqrNi+rTGutuZ/uTkFKSy+V45pln+PGPf8zBgwfZs2cPuVyOqakp3n77bV555RVOnDhBo9FIj41sAmxaBUC4vDNAAXho6xhP7N3LcF8vwm2gpIVGM1Nv8OHZCxy9eoNrVWPJD62eReCcBTcm+nj2wCOMjm8zArCdoS/fy4HHitxqusweP85KK9xUGncVrTUohVAKSysyGG8ET2ssKzi7CHi+j6/Dzb9ABdbLbsJ1KCo5KDIi/mxZFlJKlNK4vsJVrtmMC6stz3zScmYRiF9aofGNQCeswHqq0FphS4FjWcY9XWk8pfC0USdIRGD96p4F27RN46CwEQjlI9HYYZpFJL5SuMoPNr9mw2wsgzra9goR1KNXly8I86UbYUECjiWxbRuBwPN9Wq5n8qZLYYQrEjbN2/C9sHwneNmYKO2WFIHLux/FfXC0xsEHLRFCooIxDrfuSgdCd4hAiAjLzmht0ozJgC6UwlM6yhqhhcALH5pt0mjcVuNNYI6foDWWENiWbdqjlaExrfC0QmnwhcDXq63ASfEiKRQlh8w8wJVRsmjdxYMlvloAlvZNLAwABbYFtm1GSCDxlMb1fCOkCoGnVERbelWJcX8zqCDugDb06lgIIfGVpuX5tJTpK1JGSqvw0Ezof2MJM5+hACkBSwYKNhX3wdQfeJQE/Y/lNh8dCLmRwisoXxZ+IQYAACAASURBVEqBZUkQ4Hoebqj3ExJPx4KzH9Tiolnx4Pj1Oa5fn8MDloBFoEGcjSEsX2uTGtAWIGWg5FDmN8eSONICrXGVj6e0sVZL8EjOfXd+YyXoQQBZbdZYyEt8X+HrQPkR0JOvDI8QgCUttKaNzjppLFmnVMooiIIfk8oxYzHXoT4hohUfja/MtSHfcLSOfDRsKQxPEMZ93PV8XBXUL80Ue4n+2omXo8EREgtA+Qjt40iz5jPaj9Z0qFCJvAESdCPR2FoF2WcM3Ti2bdYmxjvL83x8pdBSGj4V8NnuOQYevM3qJ4GUkkwmQ19fHy+//DJ/+7d/i+/7LCws0Gq1eOGFF/jJT37Ca6+9xqVLl1heXu5azkY2ud0ElfuBzSborXUu+HZj9lm3f62zzJu1XRvBnShhHgSsp1zq7e1lYmICKSVTU1OUSqVV8TxCdCoM7lW7Or970MZ7IzxNa002m2V0dJRcLsf8/Hwbn/w0+txZx1rxWpRSjI6O8sMf/pC/+7u/o7+/n1arBcCePXs4cOAASimmpqa4cePGfW93ittjUyoAwgjsFjAEPOT8/+y9+ZNc5XX//3ru2rf3dfZdGmm0IiEDAhkQGINJTGzLpJyljF1FUpW/KfnBVSm77Hj5uPC34pQxBoQB44CDDMhCM5oZafZep/fuu39+uN2tGSGBvCTx1x8/VVPTy7332c7z9PM+533Ogc+NZnk4HSPku6hA1Ze4bjr8dGWHiys7VDtBhP6+rVwQADPdhV+u1fm1usUTepLjo8OB1cfzSYZ0xlMJkuEwBavVMyoGFHB8HwUf3XOIORYjvkcSiCUNkrEouhIAjIZpUWl1KbU7lCyXBtDtget+S4IDv4+Kjw5E8UkLl1zMIBOJENE0QlqgRW10OhRbbfKtLru2S90LQANIAUTxg6CEURmSikRSllGFwBESputid20kH+I6DKXipMNRQqqG47jsttqU2h3yrTa7rk8DMNnreX3ztYJPCB/Dd4j7kNEFuUiYdCSMrqogSbRsm3KrS6HVod6x8ICIDCFdwxUCRwg6vs9ux6Q+wL0BiOtndIgQMC8yYYVMxCBu6MTCYQQSzU6Hcrv3Z9rsOtAkoFn3gbXcA3TeLZuU6D0/CmR1lRF85mQYCWnEBGiejeT4RHybSV3mnliIouNiShJdH1qOQ63r0u091iMA9Z7nIjwPxXEJ2xY530UCDidCpBNxQoqKLEnUu13K7S7FVpui6dLsAQIPwO9v7sGbgawCUc8nKUHGkMiGw6RjMTRNw3Jcuq4TzGGrTanrUPV8WoA9AMZBubufBH/wT/RAfN8iLiCwbvo37fsRIOJBSoZMWCYXixELGaiyAkg0TItio0ml06FkOdQI5srdX1tPkgPFngHE8MmqkAmrZGNxorqOqqo4rku13aHY7rDT7rJreTT8wLfel8RgvmUgjk9Gk0kqgbXRRMZ0XOyuhQrEVAgZGrIawhFy0NZWm7bnE1ZkUqpCpGfRN31odkx8HxKyIBeNkIqGMfQAgDYti2KrS7HjUDYtani0e/PaV771XUFcGdoCbCHwhIriAbaFDxi+R1yRSCoyhizhC4mO62JaNpIXrO9sLEQ6FiVmhHBdl3rXotLuUOqYlE2XXZ8eyPzo+PazEugECtS4gOGwQi4WJW4YARXbdal1LQqtDpV2l47rocoQ0iWQZXxkHF9Qtxx2LTfYh6TACv6RQ15vTnUgIcskQxohAhkyXZ96N9gfkoogFVJRNQVTKNRdKLZaVG134IalA3EgLUM2YjAUjxMPG0gCLMem0e1S6nTItzrs2j51/2b/dSApBBldYwyX+ZjBqCRhmCZKqIvm26Qlh/mQoBSRaXkCS1IwhUTVcth1bFqej9UbU7nXrwgeSd8jqUmkDYNMLErU0AEwXYfddpdiq0O5a1O1XVoE+7b7/wjYv7UIIZBlmWw2y2c/+1n+/u//npMnT/Liiy+Sz+dxHCcI0Dg+zvz8PNlsdt+9n2Rt+l3aA3c+MN8tsL/bQ/vvU8ed7t0bM+FO9dwu2vbeoIt7679dEMa77c/vq3D5bdrwP1nuisF5m3m89b4/NkXR7conZfG50/eyLHPkyBG+9rWvEYvF+O53v8srr7wycOPZe58sy8iyPGAI3Kqwuh0D5HZtu1WuP+n7u3nm7fp8N5/fqfyh5vzW9ZBOp/nSl77E0aNHee2113jxxRepVCp/cNn6fdovyzKqqnLs2DHOnTtHMpnk6tWr/PKXv6RSqXD//ffz0EMPcfr0aYaHh/+sAPgjKX+UCgBxy//xTJpD42NIvofsAp6H5/n8ZvU6/3l1iXLHpkn/wHXTItePHyABv7mxyZAkGBKCSEhnbbfKUrNNvrKLb9mocJMRHGgCAquQ5xHSdKYnxjAScUbHx0lEw4TkgDradHzK7Q6r+RLv3VjDqTcwHfcmG1QEdHhZgCIkYqrERDLOobFhpnJZMoaBIQl0TQOga9uUuhbXq3U+3Mpzo1TBbrWx9oBFACOkMzGU5djUJOlYjGqrxfrODrVKhYShMzs2ylgmSzxkEJIDu3LNtCg0Wyzu5LmyuYXZaGI5Ln4PkN7sd2AJVWVIhHVmMkkOj44wnU6RMkI9Nwho2w6Vrs1mrcH1nSLF/A6j2QwzM1PIuk7TstiuVPhgeZVWq9sDKz1qrgjmJxsNc2RijIOjwwzFIkRlga6q+D50LZtdy6HQ7rBarvCbtQ2sWhO310a/97xeQIZ98tO3smqGztzcLCfTSaYkGI+GAmuy6+D5LrqqMDs9hRgdp+R4mELQ9j22d6u8f/0Gu/UW8Z5IOI7Ts4T62I6DoiiMjuQYCxuMT0+RjsUwegqAputR6nS5XizxwfoGG7s1TMvGc72BXOw9BMn4GIogE4twdGyUuVyGYcMgYhhoiorne7Qdl13TothssZQvspwvYTc7eI6D69+Jy3H7crsr++wEWWIQoULCR/YhJMNkLsHh8RGmslkyuk5E09EUFdeDRteibFls1xss7hS4urlF17Rx91l/A2uw5IMiQUKXmc4kODQ6xFQmQzYSJSQkZEXB9X3ajku+Y7Jc2uXDrR3WK7vYnc4gdVvfQhw2QsxNjHF0chxdD1GsN9nYybNbKpCLGszPTBKNJZBUHdsXrBeKvH3lCt16i6FshoXJcUZiUWQhUazWWVq9geL7LExNMplJkYwYhHUVRRG0HY/tZpeVcpXFzR26Ozu0e+kjpd6oegJimRTHDs6RTSToOj4Ny2GrXOHKygq73Q4xCXKZFIfGxpgaHsLxfdbzBfKFPCHfZ3o4y/RQjmQkjKEqCKDh+lQ6JuuVKpfXNjBLZUzLGczfXks/CFThE9ZkRhNRFsbHOJjLkTNC6KqKEIGrQt12KbRNVvNFVjY30DWJubkZ4skkluWyW29xbWOT+k5+nz//raXPOIjqGlOjoyxMT5I0QrRbLbYLJda2Cxi6zvG5KYaTEXRNpStkNncbvLu0RKdQxPcCBkRSk5nOZJgfHWUqkyYbjhBRFYQEjufScRzKls1yeZerm9us5ov4loPlB3MQicU5MTfLwbDOlC4xElLxfB/HMvF9l4ihc2B2BjEyStMTWJJKF4nFnTwfrq/RbneCwJj03IaAmK4wPzbKgdFhxhJxkrqGoan4AizXpWo5FNsm18tVFrd2WCuWsDz3t84w8KdQJElClmUikQgPPvggX//61zlz5gyvv/463/72t7l8+TIjIyOYpollWaRSKdLpNLquY9s2vu8Pokf/tofyO0XNvtVqdafvP6l8Eh32v8sSeWv779bCf6f+9t/fjavAre/79/13RST//5s193bt/UMrsP5Q5ZOULXczr7quMzMzwxNPPMHQ0BCXL1/mzTffpNVq7avHMAxmZ2cZGRlhd3eXlZUVqtXqoI7bre1b23a7z243th/X7t/FdWivjH+SUu/WNvw2SrPbfXZr/zRNY35+ngsXLjAxMUE+n+cXv/jFH8yX/nbr/G7GrN9fSZKQJIlsNsvx48c5dOgQ1WqVH/zgB/yf//N/KJfLfOYzn6HVarG6uvrnGAB/ROWPUgEAN61YMU1mbHiIVCIOAizfw3c9tkoVrq6sUm3bWNwE/jY3D8EONyNy7zrw3soGkmWhqiprtTrrnS6lrk3bCSzFfVOaLwJDl+J7GJJgMpNiOJchOTREMpNGVxRk38XzXFq2Q9NyGM9mCYcN3r62jF2u0nV61HUR0Kc1H+KaxuHxEe6ZmeLIxCi5WBxDUVDw0VQloMT6HpWuxXDHZDiX49LKDd5dWsbpdrnp7R9QWCfTKe6dm2E0naZUqzFkhGgPZcnEY8xMjJOMRNAQyF5w2G87LuO2w0g2SzQa4T+XVsjXG7RtG08IEAGFVxGCkIDhcIjjs5OcmpthKp0mGzaIKApIwaI33SCy+UzHYjJbYCMWZjSb5uD8AYQeotxqY6xprK5tUBddLP8mJV8XgulMitNzM5w5MMdkNk1IkdFFQOUOLLyCluvRdj2m6g1S8QS/WlzmermC1KPX9wMMDqwc3FQAqFIASBZmpnno4BxZ2yTbbRFybIRr47kQDekcSKRJKTpNSaYtBA3XZWUnz/VCCeqtgXXXcT1ct0/99xhLxggZ80SyGbIjw4QUNQgG2AOvo7bLeC5DIhHn7cVlruWLtCwroHETUL5lBAqQUGQm0nHuWzjEwsQ4I/EYaU1DkiQUScIDLN+n6zjUuyZjIyOkbmzyzrVV8tUaphtYLT3/o2qAve9vVa7R0/sMfnR88HtAqh/g0JDh2PQ49x0+yJGJMVJhA01IqEIgSwq+D5br0XQ9DlgW46MjhMMhLq2usdsxA9eH3o+M4vvoAhK6zomZCU7OTnJ4ZIh0NIKhqKg+iF5/PSDX6ZLL5RjKZnhn8RpXbqxTd1z6cQPwIaIqzA5l+dTBWWLRKGv5EilFwkzHGMskmRkfRY/EQA3RcQFJ5vK1ayhALhbl2NQkc+kkuiKzU6kRlwSGqnHswBzDyTghWUKWQfSUMKmOycjQCEPpDEjw/vrGICgoBKkUs+EQJ6fGOTQxTrVjUezYqJLEjbUbeIAqBEOxGEcnxjk2M4XlugxFDEqJKDFdY2pkiJFUkpCioAiB7zq0HI+W4zI9NkoyHkdeXOLq1g5tywkYMUJC+F5vjfkkVIUDIzk+degAB0aGyYXDJDQNRZaRpSCkZ9eHuu0xPjTEcCSE8B0OH5gllR2i2TFZK5SpVmtsykUsz8f+mP1aAkKKzGQuw+mDc4zFYzQqu6xoGsORKIlEnIWZSZKREKqm0vAlvLUNrt5YQ/aD/TolwcLUJGcOHODw2BjZaISQJKOKgJXi+T6O71ExLUaGhxnJZJDeu8xKvkjTDOiGuViUk4cPcXokS7zbIt1tIvsurm0j4RMPGRyIp8joBl2h0BEyLV/C0zRWtrbwvMDdSwFUEczl6YNznDk4x4GRYcKaSkgIZNFjeng+Hc+n5XjMtLoMZzO8s7jE1fVNOp43+G36f8HjsX8g1DSNEydOcOHCBe655x4WFxf55je/yauvvkqr1cK2bTqdDq7rkkqlSKVSGIYxSM2rKMHRxLYDievTiO9U562v72Qp7Jc70Vjv9PxPAvkfZ4G8W4DwSWXv/XuffSv42etbezsL629zwL9TuRvw//uwLv63gfPHte12n+2luX+cRfmPoU93+vxWOb3dGukr5zRNQ1GUweu91/TvTaVSfO5zn+ORRx7h8uXL/Nu//Rvtdnuwpm8td1pTt/tu7zUft9Z/Wznfu0buVN/ee243drcqL+/ksnC3pdPpUCgUADh69CgLCwu88847/2NA+m7mQFVVRkZGOHLkCLFYjHfffZeLFy9y+fJlLMvi5ZdfplKp0Gw22dra+l9fC38uQfmtFAC3E9r/jkns08MNYDpicCSdYEQWaEJQ92TySLy92+Vy02KHm9R/r+fT3reF9RUDHaAKbLnwq80ysiRo24HFyOOmv2jYJ3iKJOh02qi+YF7xmE0bKJqGboAwq4guKLKEbduYlhn40UqCA5NZhpw2L3bbLFYDqq9JQHGPAw+kdJ6eH2dhKM2wZCG6dXxJ6bkL+Ciyjyw82raN6Xuczejcq4zz/3Xq/Pz6Jl3XC3yOfUiYJrNuh1N2nWSlzWHP4/6YjJxIoesaEclC7tr4ThDZ3XVcHDfwp67rMgcmh0l2W7y22GTH8mj6wUE1AiR8GNfhMwdHeGR+komIRogOesdGk2R8SeBLgU87QkYoEs2ETmMqS1hXCVlVGn6Ibd+n5VrEbIu6H4xFojev90RUnpyf4sG5aYY1oNvAExK27+M4wYioqtrzh/dwNZ/7ZkY54rv8zDa5XG3QBBoAiH2H677yyPBgyGlzwOtwwGsT9x2ironsWCiui4cgjE9S6TIhXDoo1IXMrh8oYtIEYMoHXEnBQ8YyLQzhMys7zMRVhBJCNVRkqw5dUBC9WA4Onu9jIVgYSTNhdfmPVpPFYpcO0PZ9DAJ6dgS4N2nw9NE5To1nCKkOqt1A9SRs18Pq+RYbioKMD55NJSJzanaUA67Nax92WGlYlAWYIpCPW8FGf5X2FSS3lh7BZBAhXscnCgwDp4eT/MXhKU6PpQjRRVgethf4Odu23fOHDgARuJzL6pxkipeEx8tXltl0AsWMh0QCn4wP54YS/OXCLHOpOElh43Xq2ELgECjMdEkgC58p26Er+TyU0znqjfHvnQb/tVPBcj3s3vpOWm0OOm3us+okOiazbo2TEZ9oNk04pBPymjiWT8ez2PUE+XadeLtBG5hwOhzz2py0QTU9bNnjkckUqqoRD7noXhvfdpB7ChHTdgLALak8MJJkuD2BUt9lo9mm6wZuHgow5rQ4Ytc44UTJOw4Rz6PkmSRcizAQc30mbJPjdpvj9QL4HvdoNt5QmJBhEDIEit1EsgSarOA6Dl3HxvE9XAGHRpOMmmO8VK/zQaWOBTRQMLCIAGkBZ0cSPHV0ltPDSWTfRLFsNE9FSHIQt0QKYLskZKywRH0ii211ibod3EaZJjKGY7Jid4m7gauDLSQGZCG/HyBRoOIF7jxmh2mrxSm3y4Guj23WOan5eJNZ1FCIEBay6WK6CmVJ5Xq7hdFpkfVhDDgzlORzC7Mcz6VJyBa+6eL6AscD4dloEggCRZiD4Fw2yuyBSV50Hd7bzOMAU67JAbfDnGcSwSGGi+fZgdLW9wjjkXIFtuXTUVQakkodwZZnkcAn39s/UsCcDI/NDvPowiSzcQ3ZruH5Cqbr47guwnPRFRlEEBzWVn0enExzXJrlp3aXS1tF6r3fKEtIuAL4Ew5+5Ps+nueRTCZ5/PHH+cxnPkO9XudHP/oRr776Ks1mEwgOta1WC8uyUBQFXdcHgGJ4eJipqSkUReH69esUi8UBaLgTWOxboYQIYvgM4vjcpn39e/rvPwnoKoqCLMuD/67r0u12cV13H6C/NajVnYDA73pmut39/fpvbcPtDtg3Yw19lI59t236bfy571bhsfe7OzE/+n261SL8h6Jv3+7e2z3rTvT/fWy+nqwEcUsCeXQcB9d1B/PzPw1+Pm48+vTtvtLNdV1s2x6099Z57MuO53nYtj1g7dxaYrEYJ06c4MknnySZTPLzn/+cDz/88BPZB/16bpXXfj8+jn1zp+febelf23dd8H0fx3Fuew0E8qooCqqqAgzmun/P3bJsPk5Z1Gq12N7eplqtEg6HSSaThMNh6vX6Xffr48onjc/dKPAURWFqaorDhw8jhODy5ctcvXqVbreLEILr16+Tz+cRQtDtdgeKkj8HAvzfLb+1AuB2m/AfejPrUy91IBOLkY3HgkBtgPAFtXaXzXKVhungCIHt99Mu9e++CXgcApAgI3AF2D4I1w/8cnvWdMkfGP+DvoggOrrkuoQkgaxIKJJPe7dIpVyi2+6gaTqRaBQ9FEKoKq4sk9YM5ifGWWy0uVFfwvYCJkFYgpmYykPHDnNmdpKU4xBtNmiZNWotk53yLo1GlXBIJptNEk1nSIQjmJLMaDLOqSOHWe06vL+xjUkvoJ0HIcch5trEZJB8HxQJTZbQJWgXd6iUSjimia5pxKJxwuEoQlZxZY1hQ+fw5ASrtQaV1bXgGO8HB1+Ao7PT3HfsCFkZoq6N7tkolovftag1ajS6HYSiEIvFSSfTxFUVOxrGwcOzTSwkokJBc12E4wzo2jowokvcu3CYew8eIKvKxM0O7UadSqPJVrFEvd5ACEEykWB8ZJhINEpIkUkqKsdnZyjYHsUPlzAbAfz3+hHFuAlw+zIkOi719eusdRukZYlRVSWuh9B0HWSJbqdNvVigY1m0fKgpGhVPUKk18NrtgQLA80H0UvSpvkdEkdAkCVVV6LYblEslWo0WspCIRmNEYjGEpqHJCgklxMHRUQ7V22w3W9gdaxCwzAPGE2HO3nOSoxNDpLHRHItus05td5edYpFKs4Gs6eSSCSaGcqTicXwljGeEODV/kF0P8r+5QrnbHUSLF7dhAuxdX7f7qRwcHrkZTG1qKM7ZE8c4PDFGxOmidTu0TZtKpUa+VKLVbqGqCsNDOWZGcihaCElRGUvEOb1wmC3LZ3f5BpYThJWLAgujaR4+cYwTo8NEzQ5as0HN7FBtNMlXKzidFsmQRjadIpLKEDLCtIXC7HCOU45g3bzCYqmMTaBMkl2PkGsT82xoWeQUSMfDhA0dRYBldmjaNh1fwXUF9m4ZOm6wx3guUd8jhYvsOXj45MI6sqxgNWrUqlWa9RqagEQsih6JkdANup5PVygcnppkodFi58qHmK6NCWQA3XcJuzYxz6HlO4QR6HjInnvTR9+xiXg2cc9B+C7IwaFHVwRup0GlVKHVaKIKmWg0hhYNo2kKjiwTk3TmR0dY222yXl9i1wlCe8oEgVDHMjHuP36U6VyKiGuh+h6y7SFaLrV6nXKtjotEOBwhk0yTi0TJhkN01SAUX8u2kBSdCB6q6yD19aoQKAD2CFefcSMDwgHNsQh5DjRMUhKEY2GEqoEs49hdnK4bBPOUdbxWC7fdxgCODMU5f+oe7pkYJ2110ZpVGl2L3VqTQrmCa3aIhzTS6WCPDIcMOpLMoYkx8pJGvt2lslvDre5SXllmvZwno0rIqiASNgiFQzi2S7vVoNks0Oqa1IVMXVaoCZnyZh7fMpF6vxlJFU4vzHH/wgHGIgZxu4PbNSk326yXylR3d8GxiRkhhkdGiKezGCEDV9E5PDHOri9R8n7D0k7hJvPmY9bln0Lpg/G5uTkefvhhstksP/zhD/nZz37G5ubm4LpOp0O328U0TRzHodPp0Ol0mJqa4umnn+b8+fPous7Pf/5zfvSjH3Ht2rWPHMT3uhpMTU2RyWSoVqusr69TrVY/ogTYe+DsAwxgAC5uLX3r5uHDh1lYWCCRSCDLMpVKhaWlJTY2NqjVaoND/+3G4daz0e96VuqDoX6fDMMYMCaazeZH+tCvp68YicfjzMzMEI/HyefzbG1t0W6394HSW8veA35/rCFwhfs4ynVfSdK/V9O0O4LE/hj129Bvb7+Ofjv2ArPbgbI7tf+TKO+3K3vrgv3ycTcKkImJCY4cOcLIyAiGYVCtVrlx4wYbGxsUCgVM07yjguPWNtz63e+itLnTtX3l1tTUFEePHmVsbAxVValUKiwvL3Pjxg2q1eogf3u/9AF5f922Wq1987F3vvpKMl3XB2lAb5WbW9eoLMvous7k5CRDQ0PUajU2NjaoVquDevpy0ldI3FrvraygvTJ+J6ZOvy2yLHPgwAGmpqao1+ssLS3RaDT27Sf9Pk1MTHD48GEmJiZQFIVyuczq6io3btxgd3cX27Zvu776srn3uzspvxzHoVKpUKvVCIfD6Lo+kM1+u/t7Q7+oqjpQmv421vbbyfetmQf6pS+LnuehaRoLCwvMzs5SLBa5fPnyQEHRv840zX0Kyj+X//3ysQqA/sGuP1UKPpqiIEkyTl+rCb3I93+4g00foKgCotEIISMEBBuP43rU6w2q1SomveBvQvTSLvVb6u97lg+9iOT9tF3+IMd4//t+X/FvRq12hej5m8tUqjWWVlfZ2N6mXrdQZRgfzXFsfo5UIo4iBKoiM5ROMz02RmJtk0IjCIriSZDIZInnhmgLmZDkg6pT2G1w6doq1zbyVK2A9TA3VuT0PQapUBRZEsgIRtIZpkdHuVEss2NawUFb6rW712UPAZJM03FZ3y2zurbOxuYm3baHrsDBqXEOzc6SjmuosoyuqIwNDTE+VGZxe4eaGThPhATMZhMszM6QicZQrA625dC1PRq1Ohsb22zsbFOpWygaDGVTTI1PMDEyQjKiI++Lei3wfQ/h+3QIAIIsw8GpSY4dmicSjeJZJnXXo1hv8v7KKovr2zS6wXwk9C0WGg1OHzlMMh5DU2QShsHC3CxrnS7FD68iOe6+Gr09r9vArguXVteob2wwpircMznBkclJfFVFUlXqzSa/WVtnNV9g13Fpqzp1IbNlOpQ71kCG8DwUOdignd7A2z40ag1ubG6xurbGbqWNa8PEaIIT8wcZzmYQskCTZXLpGFOjI6Q3N6mZZSQ/oIonFMGh6Ulmx0bRVRkcl4brUG11+PXydT5crVEDVBpktRJnj3U5On8IS/YRikQqEmJ+eoqlapXC+gZuL07BJ5XbXeF73sA4qQjIxsOcOrLA/OwMiu+AotAxJVbyRd5dXGazYNLxA4XU0HaRs848R+dmEbKMKmRGs1lOzB/k+m6dlUIRGw9XUUjmhtATSXYdDyFkTEVlLV/g3eVl1vItOlbAFDk0W+fUiRi6ZiCrgSV8YniYqZEK6+UKbd8nBEhSL6a97wcR/iUFOaTS7lkoao0mW80OhY5DxVdYLpao0wug18vtLkkyvhS4lXR9Qb3eZGN7h+vr65TLDTQBuVSYYwsLDI1G6MdKiCgaM2NjjJZKVDe2cfyevAhp/xiLm3vN4HMhEL3AIx4C+7OgdwAAIABJREFUIRRsfMq1Jhv5PDc2tygXa3g2TI5lODI/RyaTQpElVFkml4kzMzFBZjNPa7eG5HloSKR1iWMH5pgeHSUk+XimTccTWJbL2tY2KzfW2Cm1cX1IJXWmxyaYGhtnJJ1E03SEayP6oSElqbdn7pGT2wiPv/dPkm5mzRACKWTQ9QUd16PWbFGq1SiZJkVZ50a5Rt0M2FLpkVFiuRwtBCFZxlQ0VitF3r16jc2dOrYfuGodmktxMhwhouoIIRPWNKZHhpkaHaW5W2Oz6/LO0jU2ZZiKGhwfyXFoZpqQFsJ2PQrNNotrG1wvlNl1XFqySlNRWay3aZhB56LA1PAQJ+YPkU4l8DyHugXNdpcPbqzz66VNWt2gvxFRY7JS49RRicmJCRRJEFJkDk5NcqTVZbtapd61egP3pwz/g4NdMpnk5MmTzM/PUywWefPNN7l69eogGJgQYgDwXNel1WrRarWIRqM8/vjjPP/885w6dQqA6elp6vU6m5ubNBqNfRRdRVHI5XI88sgjPPPMM4yPj7O4uMgLL7zA66+/vs9CJoQgFAoxMjJCLpfDcRx2dnaoVCoDi1T/uj7gFUJw/PhxvvrVr/LEE09gGAYAzWaT999/n/fee4+lpSXK5TKLi4uUSqUBQNlrFbQs645Khn7pA9uPA+OxWIzh4WFGR0cZHx8nm81Sq9W4fPkyS0tLA2XE3mdqmsbQ0BCf/exn+Yu/+AvS6TQffPABL7zwAm+//fYdMy/c2rZ4PM7c3BzpdJrNzU2WlpZuq/SA4JyWSqUYGRnBcRzy+fwdad9CBCkik8kkmqbR7XapVqvUarV91/RBhNZzi+t0OvusrLe24XcF/3ufoygKyWSS4eFhNE2jUqlQKpUGwe76sryX9j4xMcGFCxf44he/yNjYGIqi0Ol0uHr1KpcvX+bKlSsUi8VBTvRutzuo807t3AsM+8Dvd+3X3v6pqsqhQ4e4cOECTz75JOPj4yiKQrVaZWlpiUuXLnH16lXy+TyLi4v71orjOFiWRbfbpd1u71PY9P/X63V2d3exLGufoufjLMqKopDJZDh79izPPPMMBw8eZH19nRdeeIGXX36Zcrk8kINQKITnebRarYGioT8v/bHq7zn98fo44NmXxTNnznDhwgXuu+8+1tbWeOGFF3jppZcG67vP8jh06BDPPvssjzzyCHNzcwghKBQKrKys8N5777G4uMjOzg7Xr19na2tr3xgBhMNhhoeHyWazWJbFzs4OtVoN0zT3sYscx6HRaNBqtQbz1peD/rgmEgnS6TSyLP9OmQL2KkCi0SjpdBrDMLBtm0ajMWhX/9q9+2Xf///AgQOEQqGB9b/dbu9bg3v3pj+7APxxlP0KABFYOfG8fVGdw0BSwEQixnAyjh7SaVkWhVqNrUabkunQ4GYKvt+39C2QuoCYJtAkH8+zcZBoCYkdyyRvWXQH9Qn8AfT7SKZ16F1n+z4uHoiblPF+fvi9d8s94N+RZTq+RM0TXNws8crKNjttC8cN7slslHlEj/DMsRijMiSEh+07LBg67xka3Uab3Z52odbu8pv1bRrNLqlIBLtr8d52hdc3ChSsnv8skN2xWI8XeDqUZCpiMK4pOI7D8ajBpqFSN61BbAF8b5DOzxYCSwi2TZdX14u8daNEqeXh2EFbR1cLPKXFeTqRIyRkVMcl4zksGBpXdI1SJziEDwt4JJ3kwUScEdtGFzJtNcx7u2Ve3yzxzo0dSi0L1wfZhqy1y5zpca/rc252krQqEQ8QEEJIyEImJAKAlgTmDZ3HsinOqDLCNGnZNoWuzc838vxsZZtN96Y1UTFhbmWDatjg4flZlJBPHJdjustuyuCGKth1AnnxBHiSwHX9nsIniEK/BpRa8CEe05KFyDokZA1fN9B0jQ2lyeu24JWGS9kBCxMbBn99BZjsu+hKAOq6QsJF0BUyb+zs8NpKkeVyl7YdXJvaqPGQvM3njThTahjD84l1WixogkVDY8ML1lUE+FTM4PFMgsMypBWFliWz2nZ45UaRn2/V2eJmpPecBdeXt3gslOSBwymGZUHCbCMZMpuZJDe2ttjppbM077C2+mOz7zMffM9H6c2TS+AGciZm8HgqypRtYvmwafusNR1+eqPAm3mTTu95KhCuwvrVG3w+Emd2KEc4pDDhdBFRjfV4iErBpwzYvkup1uDX1zcppRJk41HqdYu3Nir8Yr1FszfeBjC+1aaQrvLZQ2lyvmBalnAVj3sSEbY0mYbZOwDu+THxELhC4CFRkVQuVZv8YiXPUmmXpu3RRsbqtLF76w3RT5+p4olgzRdtl3eKdV69tsHlYgOHYA0lu23uD+/wZDTBiUyKpADTNTkcUrgR0sn7gcz5vXYEZ/negcP3gj2q/7Y39ook4/sSti+wCDKIvFEocnE5z9Juk243WAuJzTIPKSpPRyPMhXQMXGyzzeGoxsFYiJ1yGZ1Ark5HQ5zPxZlXJVTPw5RClPD5ebHMxZU814ttTDeQg0TBZLK7wQnL57FQhJmoQcJzgkCgEkHITqkfHRVuJlnt92A/qA0UqaKXBtDDRtAQEhUkluot3lxe40qxTMnzMBHUOkFskIQCG80G716/wXYiTi6eoNW0eX29wC+367R6e4IBjGzs8nh0m6cWIgwpEmMyOJpgMxlhXYayCy82LEaBqZaFn0kT10NIeoSGDctSmJc6Pm9UHVoedLGwJQvXC3pnADOa4NPZJPfqMinXpWN7rJnwXqHJT1bzfNC9+Tsl+5Db6lIIb/J0PIFhuIQ1jzHX5/6kwUpYo9i1sPtBIvnTUwPs9dfNZrMcOXKETCbD1atXWVxcpFqtDgBTH9D0qce2bSNJEidOnOCv/uqvOHHixIBGOz4+zv33388rr7zC1atXB4d4VVWJx+M8/fTTfPWrX+WBBx5AURQWFhbQNI3d3V3eeustPM8b1HPo0CG+/OUvc/bsWUzT5M033+TixYu8//77tFqtfaBKlmXGx8d56qmn+NKXvsTk5CTtdptOp0M0GmVoaIgHH3yQ3d1dlpeX+da3vsWPf/xjfN9HVdUBHbbb7XL58mVKpdJHAJIkSRiGwcTEBIlEgu3tbba3t/cd/iGw5g0NDfHoo4/y6U9/mhMnTjA8PEwikaBer/Paa6/xrW99i4sXL+67V1VVRkdHeeaZZ3juuec4efIkEPgR9wHtr371qzvO6d6xHhkZ4XOf+xwPPPAAr7/+Ot/4xjcoFosfub4vC6dPn+bZZ5/Ftm2+973v8c477wysoX1w1m/fI488wr333svQ0BCFQoG33nqL1157beD60acY91OJdTod3n33XSqVym3dLiKRCNlslkgkQqlUYmdnZx9I3yuzd1IeaJrGxMQEjz32GJ/97GdJpVL8+te/5o033uDSpUtsbW0N+tMHrqFQiPvuu48LFy5w7tw5gAFt++zZs9xzzz20Wi2KxSI/+MEP+P73v8/Ozg4AoVCIXC43SJO5F2xJkkQ4HCabzQ4s4qurq4MUa59k3b51nfbHP5fL8eSTT/KVr3yFw4cP4zgO7XZ7MN/33nsv5XKZjY0Nvvvd7/LTn/50n7Ksv15uHcNYLIYkSUxMTBCLxQYyHI/HSSaTmKa5D5w3m80ByyCZTPLUU0/xd3/3d5w9e5ZoNEq73UbX9YFs2LbNyZMnOXToEIVCgf/6r/+iVCrtG6t4PM7Y2BiJRIJCoTAIPnc7BUR/3iORCJ/+9Kd57rnneOKJJ0ilUhw/fpxUKkWj0eDFF18cyGMmk+Gxxx7jK1/5CrOzs/i+T6vVYmRkhImJCe6//34KhQIbGxu88MIL/PCHPxwotfpMpOPHj/OFL3yBM2fO0Gw2eeutt3jrrbd45513aLfb+8a50WhQr9f3uUZAEJAxmUzy6KOP8sQTT2BZFhcvXhwoLH4buegrX+6//37OnTvHzMwM5XKZ999/nzfeeIPFxcXBPEl7zgSyLDM6OsrU1BSu63Lt2jVu3LiBaZr79rF+X/b+/3P53y37FQA+gcWWm6n4DCEzlohzanaaYxOjJDUFoap0fY9ivc5vtgtc2dzh+m4Nz7EHQfh+n9IXFwnQlV7eec/FlSQ8IdF2XJpWr64+XWBAAff3PSMw1vb84wgYA4KbAujt+QvuC/KAa7KE4wnaCDbKFS6trHKtYVHjJr283vWILV/nRCZKbnYySPnkOGTCIbLRKH6hivDBtKBQ3OXtWpVrsRhhI0LHtLhaKLPmBn7s/cN70QNteY35WJSJg3NEJImIEOQiBtmwgVJt9QJ+9X4chAjiEXhg2i43iiX+a+U6l+v2ADgKoNqyyS4uc3p0lOFUEqGq6PjkwgZxIwTVwDczHdaZHx4iKgIw3XIcGpbF+9fXeWvlBmsdF5PAtUICLBs6OzXsTovxsMb47CSa5xKRBBUfJCGjyTI+LiFgZniI6Uwao3dQ6Uoy1ytV3lnbYN2FTUCTQPF7LgkWXF7f4NhQmrloGFkRSK7PUCzMUCrBNasa5OHujYnXoyd7CBwC5oFNAFJjHtR8n6YQmLKMkGU6QqLqQ9GHUu/aveMmDV77wVhLAscHy3HYbtb59coql3bK1Pbc0/Tg0uoWC4k4uXAETdUwBGRCWi+QIoPAkwdyGWZTSTTPw7YsbMdlaWuH/1xd40PTHwSy7LuyUPdJrdxgbmSEsKIQ8hyiisxULks6GmGzE1CYb1f2QjX/lm+CHxZpsJRSIYnZ4RyjEYO0IlHq2nRcnw+2Cvxqq8Q2AdhVCUBQFLhSsji0tc1UJkXCd0noBh1NYSKdJBMv0Kp38V2f9Y1N2qUSyXgMQ9eotttcLlQH8TyM3lrYNSG9ssaxVILR8RFkIYhLEqPRCJmwgWo2epZ/etZ0ASJg+Tiey1atzuuXr/LaWp6mR09JJiN7DiECBedNSqKELqu0fMFuq8lv1jdZLtapECg2daDrwQeb2xxIxjiaipE0DGptm5SqMhSNEpFBcve4EtF3G/mI7X8wCRICqRe8z3E9Co0m7y1f573tCv2fbxnYtUBf2mE+GWUiOo8jZMAlpWvkYlFUWSC7QVyJ2Vya6WQcx7JwfDAthw+38vz88of8utyk498MmmoCZt2kc3WFnKYxND9HRpHQCBQSQkgISULsbfde/L/no8G+LYIMKaLHtrJ9n2bH5N3Fa7x5dZmCgF1JwvPB9LwBIF5e26JRzJOOxYkYEeqdLr/eKrFDkOFF78lb0YLYtRWOZRKMTI4REj5RAbmwQSSkkW9ZVHrXR9xgzbeEjCkpWJJCC5myJ8j3UqyagOPdTPmnAeOZDAeHh0hrCobnYQLltsmvN/MsNh2KgCsClprfe85vNgqcmRzlcNhACB/D0KlFI4ykkoTrbUzX/0i60j+lIkkSqqoOaLG6rg+oxH1A0y+KogwCidm2zdjYGOfPn+exxx5jZWWFV155hXQ6zblz5zhx4gQHDx5kaWlpAHZUVeWBBx7gH//xH7n//vspl8tsbm6SyWQ4deoUp0+f5t133x2Ah9nZWZ599lmef/55RkZGADh9+jQnTpzgG9/4Bq+//voA3AghsG2bhYUFnn76aSYnJ1laWuJnP/sZGxsbDA8Pc+zYMebm5jh+/Dijo6P88pe/HPQlnU7z8MMP89d//ddsbW3xL//yL1QqlX0WwL6f+OHDh/nKV77CyMgI//Ef/8H3vvc94Ob+EYlEuOeee3jmmWf4zGc+w6lTp3AcZwAGxsfHueeee3jllVcGgLBPB1YUhfPnz/MP//APHD9+nK2tLUqlEsPDw5w4cYKjR4/ywQcffGRubldyuRxnz57l85//PIqi8JOf/OQjCoB+3YlEgpMnT/LFL36RcDhMqVRieXmZQqGwjxo+MjLCF77wBZ5//nkmJyeJRCJ0Oh3uv/9+pqam+OEPf8jy8jKu6xKJRDh//jwXLlxgc3OTcrn8kfr7SoWjR4/y5S9/mWQyyUsvvcQLL7ywD7h+XNkLBh9//HH+6Z/+idOnTwNw5swZzp07x3e+8x2+853vkM/nB3PlOA6jo6OcP3+e06dP02w2+clPfsKlS5eIRCIcPHiQ+fl5jh8/zrFjx7hy5QqxWIx8Po/v+wP5FELw7//+71y6dGnQp0gkwokTJ/jCF77AyZMnefvtt/nmN7/5sf70H9e3vovF5OQkjz76KEePHmVzc5OXXnqJq1evEo/Hue+++5idneXIkSPMzc1x5coVLl68CICmaei9dL39WAH9oigKJ06c4Ny5cxw5coQzZ84QDocHcz0/P4/jOITDYWRZplqtcvHiRd544w0APvWpT/Hcc89x/vz5AVNiZGSEY8eOcfToUS5duoRhGDz++OM888wzvPvuuxSLRUql0oDtct999/HAAw+wsLBAOp3m5Zdf5hvf+AbLy8v7mCH9seiD6uPHj/P1r3+dhx56iFarRa1Ww/M85ufnOXXqFBcvXhxYtaenpzl//jyHDh1ieXmZN954g6tXrxIOh3n00Uc5ePAghw4dYnp6mg8//BCtl+WrX+fCwgLPPfcczz77LLlcDoB7772XEydOAPDLX/5yXyyTZrM5cLXoz58kSdx777088cQTfP7zn+fMmTO0222mpqao1Wq8/PLLd3RBuLV4nkc4HB7sF2fOnCGRSNBoNNjY2ODkyZP867/+K7/4xS8GsVD6jA5FURgdHWVsbAzf96nVaoPPfN8fuHv1XUc+KZXpn8v/XLmpANhzqAsssAJdQDYR48zRI3zq0AGGDJ2ICECJhU8ukyY+PIISjdO+eo21YhGFO0eK/l2K2+PqS5KELAmEFwTg01UF2bICpcWe02gfhO0tHxEyv3+VH9Dp2X+A9TwPTVFwHA+7Y7NTKlGpthAEQCw4egev610olss0h7OIWAghSSiKSiikBzR9L2hTy4GC41Nr14lRR5Mgo8uouoGl6yi2jWRZyGaXCGA1m3iO0zuACxRVRVHVWw7ZAdpN6BrCtKl5LoVyhXo9sDXZe/qlALWmRbFcZiqVQMbHM0JBsBpZGViz4vEYiUQcwzAQbpBerlyrsbaxwW7HHQDR/qHd6v0Vaw7rm5tU0wnC8SgIgeO6gaJCCiznqoBMOk00EkHgIfkeZsfEabXIGCHmFJWUEcZ3XWTPQxcw4prENIVmo4FtZQiFQiiOhBEyiMfjqJUWHcsKfJT2TvEeqdgLvYKo+wLJv5nnHhG4j/Tv6F8/8NulxyvxfSK6hjBNLAGl3V3yxfI+tgC9sekClWqVTrtNPBZBDoVQLBtVUVFkBclxCMkQTyQwwmFsBI5l4zo2wrYYjUawojJ2bz25QpBxLXKuRUSR8EyTrmWhCYEvBOFImHA4jKAymPO73lp7a0j0mDE+QQCfbCaDrmk9FoRPp15HdNtMJCIoSHRkJdgrPJ+Y7zKBheQ4NOt1YqFwkElDlkkkk8RjcdRGwJluuOC0TKotkxhBSsAxQyaqGziajurYKHawFlTbotto4Lm54AdD+EiqiqJpN9duj7kw8EnDp2VaLN+4wfXr+UG2CMf3sX3nIzEQAiuGh5Alum2L7UKBfKlEl5sKIbf3utb2KZZKtDrTJMIRkCRkVSIUNpAVGdz9md/9XnrGvTtU/7UQAs/3CCkyiu3T8TwKpRKFcnmwfvsyJREA1XKlQrvdJpYMgaTS8dxB8DTJdYlFdFKJJCE9RFhRsCyHcqfD+tYWhVJzX8YUj5uKpboLaxvrNHJJ5OEhwopCYw9tcp8sfYxgCXrrvUf/dz2PrmWzvLbG4soKTcD0g6wkXq/u/tGo6QANl2Zjlwi7yDKMhhViehhXUVAcG8m20G2TsARWK/B9DvzqfSRFRlbkAWtH0FMiiiDN5mDNi2A998egz4rp36cJSCYSJBIJVFkJ9nvXwWw1CQuf6bhBRAvhCoHke4G7jGeTkz2sThfhOhiyhBfSCYVsEvE4ul6Gdpc/5dIHnblcjlQqhWma5PP5j9DM+z7skUgE3/cJhUKcOnWKkydP0ul0+P73v8+3v/1tjh07xvj4OMPDwxw+fJjXX3+dWq3G0NAQp0+f5ktf+hILCwtcu3aNn/3sZ/i+z5NPPhkEj+35CEMA5h5++GH+8i//kkgkwurqKo7jMD09zVNPPcX777/Pr371K9rt9uBgK8sys7OzjI2NsbOzw7e//W2+//3vUygUiMViPProozz//PPMzMywubnJ9evXBwfbUCjEzMwMZ86cIZlMDqyg/dIHIbFYjLNnz3LhwgVUVeWDDz4Y1N8/XI+OjnLhwgX+9m//Fl3XWV1d5YMPPuDSpUsD67Pruly5cgVN0wZBFfttvHDhAtPT03zwwQe8/PLLRCIRnnzySQzDQJbljwCiO5W9zI2+hVVRlI/4RfddQOLxOMDAEmsYxj6gGAqFOH/+PF/84hc5fvw46+vrvP3220QiEebn5/nqV7+KaZp897vfZWtri2g0yvT0NMeOHcMwjMHz97avn1HioYce4m/+5m/wPI9r166hquo+qv3Hlb4S69SpU3z+85/n4MGDFItFisUiiUSChYUFzp07x6uvvko+n98XeDKXyw0A7o9//GP++Z//mQ8//BBJkjh+/Dhf+9rXOHnyJDs7OywtLdHpdAb+1ZOTkzz99NNEo1EKhQLLy8tUq1Xi8TgPPvjgwK0gk8kwMTHB/2Xvvb/jqu/8/8f7lulFM9JIo2ZJllwkW+7ggsHgsDa9BgjkkE042bN/057dc5JDNglZSjYQA8aAgQUMBHdsy5YtyVavMypTb3l/frhzr2ZsU/L5lt3NyTsotkfS3Hvfbd7P1+v5ej6vXr3KzMwMmUympl+/axzdvVwI4TFPmpqayGQyvP322/zrv/4rV69eJRaLceHCBV588UW6uroYHR2tYRzouk40GvX0DVwxT7dFo1G2bdvG3r17aWpq8ubB/v372bRpU432xPDwMBcuXKC+vp6+vj6eeuopent7GR4e5ujRo5RKJR566CEPQJumSSwWI5VK0dPTQ7FYJJ1OEwgE6Onp4fDhwzz66KOsWbMGRVEoFouEQiGvHKe6D9x5EwwGvWvv378fIQTvvfce8/Pz3HfffbS3t3vMHoC6ujo6OjpobW1lZmaGd955h5dffpnBwUGi0SjDw8P87Gc/Y9euXYyOjnqZc7fV19dz8OBBHn74YQKBAJcuXcLv95NOpzl48CBfffUVFy5c8HQH3PtWFIVyuexl1nt6enjmmWd45JFHaGlpYWVlBSklGzZsoK+vjxMnTnjBve+aF64I65133skTTzzB/v37yefzfPbZZxSLRS+gtrKy4pXedHd3e/fm8/m48847nfO4rtPf38+LL75IsVjEMAwymQzDw8OcPHmyhgn29/bf31YDANIBlaqUjk0bkg4VftSS4MG2OK0ihz+/RNA2vQOxKRTafWGaOtKoK4tYi/PMly2WuG2+6wc39/dswLBMBDaaqiMQCGnh0wQ+fTVbefPk/rZrV2saOERW4fk9K1XfQ4IlVFZUjQlpM2Q4mekFnGy9K5BmVf49W7RZNgQNqk5E1QkUDUKqil4JAFg4IFnDocG314XobmogkUygBYNIVUEaJlapjJEvECwX6YiECAqBYlv4pCQsICAEOhV6txCOmrSUmEIlK2DUsrhuKcwJyEvH/cB9Ln/l/seNEl3SIqL4CSkacUWlTgjCOAfxdNBPg0+jzqeyXLJY0XxcypW4UnDYDxmqyyWcv5dx6u0vZlfYnMuTSsSxFIWy7WwQmnCuX6crpEIBIioEbAPbtghJmw0NDSSiEaeMRFMxK4d2HxC0yiQUaPTrmJakXDYQEkI+H/FAkKCqOOrkUAPivfnDav8bgCEkppBYisASCqYQlIVCWVEoWasBDirjrLt9KJzZJhWFgqozZ6uM2ioTUrCC9Kjr4ICqRWDKtJk2LeKo+IVGWGjEVI0wTllNvU8l5dOpU0CRNkgbW1HY0pwmEY2T0wMYQmDYJqoiCCIJGWWiiiAdieC3nZmuqJKQqpIIBgipghXrh688KcEWCk4xiTO/wkDKr9MUDhLERhTyBKSg0adxR0sz3ckkK0LBUlUQCoqEABZR2yAV0IkGgo5dWylPQEAs4COgaqhCwZZONlUAjUB3KkZHfZJYXQIlFHL0CywTaRjYpQLhcoEmv45m29iWhS4hICSakN78k4qThpXSwufzk5UKwzmTCzmDSQUyNh5rxapc26zMYYRjY2ghKSoqM0LhimEzZAvmcVgOLvg3KvN/pmiwaFjEbRtTEShCEtAUNCG99eZ07u37XNT8XYCqU0ZlrmQzakimLMEykhyr61fHYUfMlyTLRZt6RUfXVHLFMmFsgrbDsEn5dZr9OnHbQld8ZFWdwZLkUsFkBliqenYpwJLOv4vA5XyBy9kM7ekGIn6NctHClhL1r/iwFmI1IOPTdQzbZiZv8PVKgW9MySzOWBQr9+CORxlnv3JLzroaAnSkGqhLpND8YWwpsC0Dyyxjl/KESjkaQwFU4ZSH+aQggI1aCZi51zAUR/jVxAmUSRRMBCWhUBSCkpQVho0TJLAr10/5VaIq+CwDn5REhaAjFsXX08VW06aoqhgIUARC2oRsg6QqaAkHKEsFxQK7UMYvVGKBAEFVQRfScV/49qnxv7q5wNk9cLv1ozfbVbkBgGAwiKIo1NfXs3fvXoLBIFeuXOHYsWOcP38eIQSjo6Meo8ClP/f09PD888/z+OOPEwwGGR0d9cTMwuEwg4ODTExMeAfUjo4O7r77brZu3co333zD7373OwKBAP/8z/9MOp0mnU4TCoWYn5/3smtNTU309vYSj8cZHBzk9OnTDAwMOM4/lUN1OBzGsizGxsYYHx+voby6AN40TS9LWg083PKGu+66i56eHi5fvszU1JRXDuHex4YNGzhw4ADpdJrjx4/z5z//ma+//prr16/XKLTPzMx4IMM0Tfr7+/nZz37Ggw8+yPLyMuPj40SjUXp6egiHw5w9e5bBF1UeAAAgAElEQVSpqakfJKYHUCqVPJ93Fwh9Wz23rutOoF5zyhddoUc3uOHz+di1axfPPvss+/btA+Dzzz/n9ddfJxKJ8Mtf/tJjGwwMDDA5OVlT310sFm8RnXPbmjVr2LdvH21tbVy4cIHJycka8OX+/O2o666gWTKZ5L777uPee++lWCzy2muvcfXqVQ4fPsyhQ4doa2ujoaEBqBUK7OzspLu7m1KpxJkzZzh9+jTZbBZN0+ju7kbXdYQQZLNZJiYmPKFKn8/nsReampro7OwkGo2SzWbp6Ojw5robSOrs7GTt2rXEYrGa4Fp1Hfd3NbdmfP369V62+OzZs5w7d45SqeTZc0YiEUzT9AQMC4UCrvhdPB4nGAwyMzNDNpv1NB5s2+bChQt89NFHJBIJr5a8UCgwOzvLjRs3mJ6e9r4mJiY4d+4cbW1tvPDCC/zkJz9B13WuXbuG3+9nzZo1xGIxrl275tXgF4tFlpeXKZfLXr369u3beeqpp3j00UdpaWnh7NmzfPnll572ghusqdYCcL/S6TQPPfQQzz33HE1NTVy6dIlcLse6devo6Oggk8l46xucAIfbd8vLy5w/f54LFy54JUKGYRCLxVAUhZGRkVsYUBs3buS+++5jzZo1nD17ll//+tc0Njby0ksv0dLSQktLC4FAwGP5VK8rKSWlUolYLMa+fft4+umnaW5u5ty5c8zPz9Pa2uoFVV1Xhx/Surq6eOKJJzh8+DA+n4/PPvuMl19+mWw2y09/+lOefPJJ7r//fgqFAo2NjezYscMLtOq67o01wF133cXOnTsxDINisUihUODLL79kcXGREydO/KA5+vf2/0+7aYbU+qinwj7WNyZpC+hErTJhyyBoGRW7PeGAJ0WlNRhkfXOai9dHWS7/v2NNUSlxp1goYBkGasgRAlRUhVAkTDAcQmRXbsn2f997ChxlfnCEAx2/c3s12yscSq4UAgNBQSjkFIW8UChhe0Be4hzKDaBoSQwJqqISUFXHrcB2Uv8WDkDUgcZEim3tLWxpa6IzHiIa9BPwaeiKQBUKlikp5fLYuRWi0kJTFPKFIkIo6AJUaVeBC+llPx0/b0EOlWWpOLR3xaG1wmqwoiwgb9uUpCRUAdh+IQi4fwdCqoKvki2zECyZJnNlg0XbOaDfHEevppsvFMsslw1MhBMkkg4cd3UW/KpCQHGeRcemiCDq0wk2p+n06RgKWAoomoYiVLAtNNPAb5moRomiZZMvlTGFgqqo+DQNXQgPoDuCanaF4eG06kynC3xsHCqu8z1RyQyv/owLSm6m0iuiYvUlFAoCVlDISwUDy6FLV77ceVHAEZSzhIJAxSdU/EJBsW2nnllVCCgCn6wAeSFQdI21zWnaND9lVcdWVYRwMtSaZeGzLVTTxCqVnGyzlCBUVCDs8+FXFXLfIzgFt2HJVO5ercyDgCoIaSrCMpG2jQ+VpmiUhmQ9ZQS2poKqOQEAIVAsE80oERQ2tlmmYBqUymUQCrqioCmq18d1Aprr49zRs5ZNqUaaA34ioSBBvx9dVSpgXmIUcthLWWKKREGSNwxU4WRkqQSXHBDv9J8QIDSVQlkyWyozWzbIA+UKCLRw3ByqGSxu0ZCNA4gLwDKCZZx15OqauPOhDBRMm6JtY0j3PWwUp1q+hjXi3R+3+wer81QILEXFUDWKikYBQakCZBUcMT4AA5uSBaWKnacTiJToSFS7oiOiCEKKwCdtpISCDfOmzYJpe4yGsnsrNYwvyBg2C4U8BWkR0hRsYTrMkEoRww9pinDeVpM2IZ+fZcMkX86xYJjkFWXVvrFSqgHuGpVoAprrY9zZ3cmm5hStkRAxf4SAHsQnNCxpUrZNSrklyC9S71PQVIUVy0SRKqobRINappIQVZ9sYEunjMdAYCArP7saOvQJZ/7rQqBKC8sGn6LS3pCkOZ3GAGxVBU2r7CUWqmXity18loFhWhRNE8sGIRV8moam3Lqf/C02N7vjilfdTv3drbH2+/0Eg0FaWlpYWlryBAMvXLgAwPLyMpOTkywsLHhZZ4DW1la2bdtGPB6nUCiQTqfZsGEDqVSKhYUFPv/8c7744gsKhQLxeJy+vj42bNhALpfjgw8+4I9//COxWIz+/n4OHjzoWJlWQC04B+3Nmzezbds2LMvim2++4fr164Bz+N+5cyf3338/69evZ2lpienpaU8Yzn1W9/2KxaJHf3WzxW6t7YEDB9i7dy/5fJ4PP/yQM2fO1DgHaJpGOBwmFAoxOTnJW2+9xe9//3vm5+c98H07eq+iKKxZs4YtW7Z4quqdnZ3s2LGDVCrF9PQ0n3/+Od988813BgCqQZIbzLAsi6WlJZaWlm6pPXfBQGtrK2vXriUcDnvBD/d3Xd2D/v5+du3aha7rHD16lFdffZUPPvgAn89HPB6noaHBo16fPHnSE17TNM3LLN583YaGBv7hH/6B3bt3k81mOXr0KKdOnbo1QfQtNeBu33V1dbFr1y4ikQiffvopr7/+Ojdu3CAUCtHX10cmk7mlrrmjo4M77riDxsZGLl26xODgoMc62LhxIw888AA7duwAHF2AlZUV8vm8R4s2DMOjdbvZ3kgk4tV2+3w+zp49SzKZJBKJUFdXRzAYvIV94daXf5vyvDsfOjo62LZtG7FYzKvvdsent7eXQ4cOsWPHDsrlMpOTkywtLXlrORAIkEgk8Pv9lMtlz9rTnSfT09O88sorzM3Noes6u3bt4tSpU/zpT3/i7NmzZLNZpqamamrUH3roIbZv304oFMIwDBobG+ns7KSpqYmVlRU+/fRTvvrqKy84MTExQbFYJJlM0tvby549e3jsscewLIs33niDN954g5MnT9Y4j1Rn/d0/XS2Evr4+j60QjUa599576evro1Qq8dprr3Hy5EmKxSKKotDc3Mz27duJxWKcOnWKK1euYBgGwWCQTZs2cfDgQbZt20ahUGBqaspjPIDDHujv72fjxo2USiXeffddXn/9dbq7u9m6dSs7d+70goXVjgmRSIREIuGxbtasWeMJN3766ae8/PLLqKrKc8895zEWfijIllLS3d3N7t27icfjnD59mj/84Q8cOXKEpaUlj87vrgshBM3NzTQ0NNTMCV3XyefzZLNZj52Sy+UolUrcuHHDEzH8O/j/n9NqAgCyKjuhAKFwhHAkiubTwViNorq1527NLYpCMBwmEAwis0sgv+UA/Fc0l16+nMuTyxcwo2EHTGgayViMRDSGzgyKIlAk31lbKVyQWDmkO/dnowgVVQrvaOhSvSv/AY69nnrTAfhminV1VFFRVYTiUMLcYIMioTEaZ8emjdyxtpNUUCMubGxpk7dMSoUS0rJRUAioGnWJBAGzjDQNDGkjhXC83SuA2gE9wqnNrWTbVAGqkJVM8upNKrKW+eDUJDhgSSKxbIktVkGQaTv+1pZtISqBC52Kpd5Nz11NtVVw6N6qEA7NVjroSFbds8SZK5ZtYyGxFYEhbZYLBQqlIiXhBClkBcyrUuKzTYLSxl9hnpgITKGQN2yKhoFlS68Ugur7qwyYuOn5vSyMXAWNqnB0JoRwSgPsque6dS45kFGRFUpxFbRwr+NS06kqMxAVYGRJiW1X+qQSaLJuGo+lQpEVDAqqDwOJJS0UAT5po5smPtvGJyr197ZNEYWSBWXL4q9I/tc+V9WitStjZUnpfOF4xhdMk5xhUZCSsqJgCqdXBRLNtgnYBkFho0jLcQYB8giKhuGAXGmjAR3Njezp3cD2jjUkFEHItpBCYcU0MYom0nbWTlBVqEsk8FkGWAYWzvqiMnzeWnDHWFGc9W3bSMPAKpcdIT6lMvdus0dUf1A6+4SzV4jq7BCr4M1hHNlg2/g0Fc1atcJxO3B1jX57f3trQjrBKJeqrinipmu77yndGwb3nivOJ3bVvm3ZNqZtY0snaKILJ8inV92OO1er57nAKcXQVQ1NKJU1oXj0/79qWrn1lZW9yXZt0tySG7cDKsEFXQhCAtpSSe7c3MuOrjU06CpRIbEtwYphYJolDNPEliYBVSGZSOCTJkgTCwUUZ77a0inrctehUsVIcPtQUSq+8UKgSFFZw+6fzi8LRcWuMCQAyrYkXy6TKxnkbRtT1RyXGGk7+6S0CFT2KllhkNmKpCAFZdPEkn9lH/4vbW49dLVA2O2E1lwhK5dWrus6V65c4fTp0yxX7F2Xlpa82vnqWl2Xfg4QDAY97+mhoSHeeecdjh075omruYKE6XSaS5cucfz4cUZGRqivr+e9995jeXmZq1evYts2gUAAVwV7y5YtrF271lPZHxkZ8aivBw4c4I477iAQCDA3N0cmk6kB0q5Xt6IonsAZ4AkSJpNJHnjgAZ5//nm6urq4dOkSX3/9NePj46iqimEYXgAlk8mwuLjoqepv2LCB0dFRZmZmvKDDzX3r9/uJRqNeECISibB+/XqEEFy+fJm3336b9957j4WFhR80ptXAsVQqsbCw4I2Re6B3afDd3d0cOnSI/fv3EwqFWFhY8LLbbkskEjQ3N+Pz+RgZGfFcG5aXl1EUhZMnTzIyMsKePXuor6/3ykUSiQSBQKDGAcCdS3V1dTz00EM888wzXvb/1KlTHhPkh4iguWUZ69ato7Oz0wuUDAwMMDc3x4kTJ2hvb2dycpLl5WUikYgHgDZu3Mj27dsRQnDu3DkGBgYoFoukUil2797N/fffz9q1az1F92pLtGrveF3XvWfr7+/n8OHDpFIpjh8/zocffsiWLVu45557vH6ptrV0A2uWZdVY99387OFwmN7eXjZu3EixWOTMmTMMDAxgmibr169n//797N27l0AgQC6XY2lpqUaUzufzEQqFPM2LaoaFlNILEp0/f57r16+zYcMGT9fj8uXLt6jBu/3uzhFd1+nu7kZKyejoqKfjMDY2BjiuGq49YVtbGwcOHKCjowO/38+vfvUrfv/73zMwMFAjpOh+Rt8cuHHLZaLRqCdKmE6nqa+vJ5/Pc+TIEV577TUGBwcplUpe323ZsoV8Ps+ZM2cYGhrCMAzWrVvHvffey549e7z3dwMnbkulUmzevJlUKsXp06d5//33GR0dxe/3c+zYMW7cuOGVKLlgX1VVGhsbSSQSCCFIJpPs3r2bzZs3Mzs7y6uvvsp//ud/0tvbSzabpaWl5bZ2i9/WotEoLS0txGIxlpaWeO+997z9wQ2ADgwM0Nvbi23bHD16lA8//JBUKkWpVCIQCHDgwAG2bNnCwMAAb731lpfxd1kRKysrzM/Pr5YU/j0I8D+i3cIREaxS3IOaQliV+KWJhkPFdzCcxMauUFNNfNIgqkgiqoIGaCiOHRfSywJXA8fvaxZOplkA07kyk7kiBaHgRxC0TNYokv5YkCG/YLEkMYVbp1vxQBfCAbq4NG6JLiEuIB0N4FNVlvNFChaUTcsTLnQoqRbStisAQ2AJFQsF217tG8CrXzVxaOWGwFF5ls7TaoAuISQlaRUOtSY43BwloRbxWQpIyWQuz+B8htHsIsVC0dFcCAZZG4+xLhal2edDF27+z6biGOaJGbpgwAk0OMrbLuB2QQE4h2GbCt1XmtjCAmGDsJGYVLwRKtlNg7KUTkYOm5gmSIf8JH0q46aFzirYcEWzQji2bY3BIAl/AB+O8JdWCRRV37OiCqQKEhtLkeQs+Or6DYYzWZakpKTrjmWjdII1agU0qgCKhq2olKVg3rIZySyRtUyWrQrgrKYkOvjo1qYoIBQHkSMqQS/pAUrX0rIaIDmA3snCywqykyjY3AqOJKs14yaVcgOXa+BmKIUDqi0FpKo42XQBJdNiqVjk3NgkVxdXWFA0rEoNuaIIsCWiwh7wabonUFjU/EwbFldnM+RRKWJ971qr3X9XQzRu9tQWCrZQUXQ/qrTJW5KhlRUuTs4wubzCshSYlUO8tJ06bEXa6BVwJSsskKKE2aLJjcwiQWBtQOORtibuSMWI2gVU29GKGF/Jc3VhkamVPLZh4ENS7/exvj7B+roIAU1FFZWxw5lXLihXqQB2WyKEc21TqlhSdea9vToXhBugYhWuV/IBzpgK4WSE5a3j6n0Jl05emVJejtxllfzA5gZQhaNb4K7R2tp029s7nT1H4sq0SimQViU8oYJlQtG2KUscK0QEIWGT8qukgj6CrLKX3D1Zw2F8BIH6gJ+GSAS/UBCWjVbZcCz7+xklXj95gRnh9KWEspttl6ssHId55ezNQSnp1uGhNWn2NyWIY6CbTib9enaFq3OLzCznMIyyY8cYDtCTiNITD+HzqegalIRaWdeK17VSrvanM/4Sib06X0U1t8EpH3LHHlUgFRWpCaQtKZg2ZyenuDwzy0LZoKDpmMINHVAJCFrolcCsVBRsRSVrSm4srpAt2xRtV2Pjb+vwc3NNrQtmwDnM346K6vP5aoSxisUi58+f5/z5896BuTor6n6FQiESiQTxeNz7vZmZGQYHB/njH//I0aNHuX79uneATqVSdHV1EQwGOXPmDH/5y18olUosLi7yxhtvcPz4cRRFIZlM0tPTw9zcHCsrKzQ3NxOPx72a+0wmQzKZ5JFHHuHxxx+nvb3du0c3m+u2YDBIKBTCsiwymYxXAuE6Czz66KP8/Oc/Z9euXQCMj49z7do1T3SsOrN/5coVTp48SXd3N8888ww7d+7kyy+/5NSpUwwODnLt2jVyuVzNgd9VjHcZEy79emBggNdee43jx49z/fr1HwSMYVUgLBaLUS6XmZubqynrcMFVX18fzzzzDC+++CKtra2Aw2KIxWL4/X7vZ+vq6mhvb0fXdS5dusQXX3zB9PS0F0Rw7dBcK0VVVWs0I5aXl73+1jSN9vZ2Hn74Yf7xH//Ry7LPzMwwMjJSk62vftab6fJCOG4HdXV1dHV10dTUxOXLl/niiy+YmZnBNE1OnDjhqf+Hw2F+9KMfeRaQbW1ttLe3e5Twy5cvA3Dw4EGeffZZNm/eXDNf3HIKt39dYTXDMDAMg87OTh544AHuueceCoUCx48f54MPPkDXdfbt20cqlSIcDnsZfzeTvXXrVubn5xkYGPAy89XK65Zl4ff76ejooLGxkcnJSc6ePcvo6CjhcJgHHniAp59+mp6eHu/eyuUyhULBex83GOQ+T3UAoFodXtd1/H4/rqjmzQJw7hgEg0ESiYRX4mCaJnNzc1y+fJk//vGPHDt2jIsXL9bMN7esJBaLsXv3bqSUHrvn7Nmzt4z3zX+6c7YaXLvlGG7w4uOPP/ZYC+6eFAqF6O7uprm5maGhIU6dOsXU1BTRaJT777+fH//4x6xfv97rm1wu5zE9wGEv9fX1oaoqX3zxhXevMzMzvPHGG/j9fgKBAGvWrEEIweTkJHNzc6RSKRRF8cRJXdu/zz//nPfff5/Z2Vk2bdrkjYHf7/fG6PvWeDQapa2tjXA4zMjICF988QXDw8PeWM7OznrBwlKpxF/+8hcvWOn239q1a9mwYYMXADh9+vR3shB+aLnK39v/t63mk9nNdLnZUqNQwCjkwQojpEP8lxVwhnCOPoq08UmJLBaRpaJDVWdVYEmBHwBHapsLokxgfqnA+Mwcyy2NGJqGJTTCqsL6ljSds3OMjE9StBy8b8tVDwBZeTgNR1E+qEA6FmZP30bSDfXMLmSZyiwxs5BhemGesZJJHDcjV/ENrYACFy5UZ4XdA7lNBTSKykGzUpevVmIQPqA9GaW3uYG2kI4uLIxymcVcjqEbY3x27Tpj+SLScDzN6/yChXiM6NouWtasIeIPsFQqIqVds7lSudearBpUgC01EZdV4AJSyEpa3K5Qyy0PbJs4HseFYoHFQhFL0zGlpKUhSVN9kov5WbRKBt8FxxpOJjqsCNY0t9BYX+8gLmz0irigG5QwTJNiqYgqo6CA369TzBvcmJ/n5LUxlmzI+RxpA1tSEZFz2N4lA0/MzVLA1HQKQM40nX6XtzlW3/SCqEnVCy9L6zBZVgdXiArYrvrxqrhx5feE94bu/98sIugAxdVMrxNAcD4IbKBUKlMyyljSQlU0bEVhqWxwdXqaU+OzTK5aU1TeYxXYmGZtf5SFSl4KirIaMt6+ycpTrGapK69U7k0CJcNwDnmRAKqmY2GRNQ0Gpqa4ND5HToLhUh1cNAlYFhiWQzW33T5XBKYl8QFdqXp60ynaAj6EkJTKJZZXVhgcvsEn124wb9holiQgIKoJcql6Ur3rqW9KEdR9LNoVx4KKMn3N+FSCbwg3QKOsjhXC/a9mPFeXi/uBJJyv2ilR05tCcb7pMnJcNkkt28UbuqpfvOWVqiCAM+elNyir73Xze8jKfQqpICr3KxTHaSNfKJLLFyibBjkpKCCIh0M0N9QTnpxGKxhe8NIpTHE1X6AxWU9zqhFNUTDKZYTQKxl8u3Y2fU80t5qd4V6r1mllNUPvWvt11CfoTTfQEtBRpUWpZJBfWWHg8jW+GJlgvmwiTAhqkAxorNRFqN/YTX06ha6qFVaNWwa0OmbumnHHTEobhHACarcZIw1n3y6VStiWCZoPzadTskqML2Y5MzzMTF6yrDouAJLKdloJHJrWarkJAkzVcZ4o2AIh1Moa+9s89LiHOtf3PhqNkkgkPKDvft89oLqgEBxa9KVLlxgeHq7JNNbV1REOh73sZn19PY2NjYRCIcbGxnjnnXf46quvGBwc5Ny5c2QyGe9auq6zdu1aenp6KJVKDA0NecA1l8t5lmyNjY088cQT7N69m2PHjnHq1CnPY3x8fJzr16+jaRoPPfQQL774Ii0tLeTzeXK5HLZtUygUagIALrXYBTzu4X/t2rU89NBD/PSnP6W7u5tisUggEPCAQrWXOTgBg9nZWd566y2vbn7jxo1s3LiRRx99lJGRES97e/nyZYaHh1lcXCQajdLU1ISmaZ4N2enTpxkcHOSbb77xDvM/VPzPtm2amppIpVIUCgUPBPt8Pi+L2trayksvvcQTTzyBbdtcv36dQCDgCNNWXScUCtHZ2UlPTw8rKyt88sknXLlyhWAwCODZLIZCIYrFItlslnw+T0NDA4FAoEZ0EKC7u5tHH33Us7LL5XKEw2EPIN4s+ub+u/r53ICLEIKmpia6u7s9bYnh4WEP/OXzeS5dugTA008/zUsvvcSFCxf47W9/SygUIhwOe8Eoy7LYv38/P//5z9m+fTvlilBxsVgkl8t54NxtkUiEYDCIaZokEgkOHz7M448/jt/v5/333+e//uu/uHz5Mj09PWQyGdrb2+no6ODkyZOUy2Wam5s5dOgQhw4d4tSpU8zMzHiicDePtWsrGQqFGB0d5dq1awSDQe6//36ef/551q1b52kXWJZFqVS6hfEBePX41eKAbsCmWCx6GXX3ey7rp9oOVErH+s/V4ZidneXtt9/m66+/5vLly5w9e5aZmRlv33DvoVQq1Vz3q6++4s9//rMXeLk5039zqy6zqa+vJ5FIkM1mOXXqFMePH/c0P0ZHR2vmikvFdwUMr127RjQa5b777uP555+nt7eXxcVFjwnljrdbAtTZ2cmaNWtYWlri6tWrGIaBqqpeWY07p5988km6u7t58803+eqrr6ivrycWixGLxfD5fESjUUZHR3nvvfe84Ijbx6qq4vf7awKvt1vriqKgaRptbW309fWh6zpffvklp0+f9p51aWkJv9/vBf9mZ2eZmZnxbE2LxSKJRAJwsIMbsHCDWdXXr9bxuHmM/t7+e1ptCUDVlwUsZHPMzS9QSEbRNPUm8SJRoS/DSiHPxMwMmaWlSrZt9TCMoGIH9dc19/Cdt2F8YoKZ1kZ6WprRVQWhKjQ2NbFxg8GAabM8u4A0LGzp+k87x2aX8q8pgng0TN/GDWzb0k88HKa5UGJNoczw2ARL587B9EzlwhWBGFbBtUBwu7nqgQmxGhywpXRf9GrJ43V1xOJxNE0jpKrkLIuxiUnOfTPAVAGylYEwgHJeEs0vkkutVEB/dXblB3Tad7zs3qv7L2dTcDNyFfG65RzzmSztiTp0TUPx+6jTfazt7OKqpVDILFIsl71MtAYoisrajnY6O9ZgKgpl26Cg1H64AhRNmJufp9AQQUQCKIBPVUlEowQ0mC9B/iZHIsWoWPipoAc1yhZkCybF8qrN4c1Z+G9rDnA2MU3LC9Q4Noqqx6AQVKzhVIlifTeUFojv3MREFeBbPYBQcUWwWSlKsouL5AtF/IEgEgjqOvFwGNucpVRBTNXP6ArC1QUVfLqPlXyRjAkmVk1t+w9db6vAd9UiE5z62/mFDEYiitA1hJTEgiHqImGkNed41tu1U07BCXiF/SBUjZWCSUGCYTnZbRWIx+NEIlGCgQCqbVIqFhm5Mcr5b4bJ2o54oh+HjVIyJTPTc+TWtCBEygFxlr0atLlNh8vK+hfcfr18b78Idz2Lm1+u+dN9XjfkWP3Z+q0zwtubbnqx6pDmWeh92+2JVbaBogqEIpByldq4XJKOK8lKCyIsELqfUCBAe2srXUs5ZscmyRZKCNtGKgo+bKRt01CfoLurEzUUpmCY2LZAVg4Qt4TWvqcTb75/xX02RSCs2iAZgKYJ4nV1zrzw+RBmmbJtMTo+wYWLN8iyajlpmlBeMUmUspQ6C6gVm0Iqa9UrWagKflrWKjNIURR0TUVT1SomiPM/d21Z0nHwyK+sgD/plIEJQTIWJxYMMZHLUTRXtUKcQIfDaAgLSIQ0yrbNStGmZEoMTOwKM0Xe2pt/c61QKFAulwkEArS3t5NOp7lx44Z3CHRBgCsWB3Dx4kWPiu9ms+PxOI2NjUSjUY8mHYlEPNusTz/9lH/7t3/jwoULnt6A68fuMgwSiQS6rjMxMcGNGzdq3t+yLOLxuJfVj8fjHD9+nHg8Tn19PaVSiZmZGQKBAA899BAvvPACPT09DAwMMDIywh133IFlWV6dv9tc1oIbhIjFYmzevJmnnnqKhx9+mObmZk6cOIFhGOzevbtmL6sO8gshKCO2xsAAACAASURBVJfLXo22q6y+b98+urq6vGzi7Ows165d86j0sViMhoYG8vk8b7/9Nv/yL//C4OCgB0p0Xff6x7Xo+rYmpcTv99Pc3Ex9fT0LCwtMTk56Nf3BYJDe3l4efPBBXnjhBQKBAMeOHePSpUvce++99Pb21liRxeNxNmzYQFNTE1NTU1y8eJFcLkcgEPAYHv39/aTTaaanpxkcHGRhYYE1a9Z4Inq6rhOJRNi8eTM/+clPePjhhwH4+uuvKZVKdHR0YJpmTeZ/tUyrNgvs/ulmK4PBIIFAgGw2y+joqAfK3ECNpmls2bKFxx57jD179jA2NkY4HCYej6MoCvPz8xSLRbZv384LL7zAXXfdxfT0NFeuXKG7u5toNOoFj9zmAjpXPLOnp4fm5mY6Ojr44osv+Pd//3fOnz9PPp9nfHycq1evsm/fPnbu3OmB/b1793pBkJGREU9w8WbWgzuedXV1XoZZSsmBAwd44YUX6O/v58aNGwwNDdHf34+maTX3Ww3CXWaAC8RjsRibNm2iq6uL69evMz8/z+LiIoCXkb5dACAej9Pc3IwQghMnTvDrX/+aM2fOUCqVvECCu1eUSiWPyeACzOnpad5//30++eQTlpaWasT+vq25faFpmie6d/r0aX7961/z6aefeqwPIRyXANdhIxwOk0wmEUJ4gbT9+/fz4osv0tHRwejoKLOzs/T09NyyN7ilQaqqMjY2xtjYmCeO6fZtMBj0gj+KovDhhx8SCASIRqP4fD5isZhnrXn8+HG+/PLLmr3D5/N5NqA/JLvu9/vp6emhq6uLXC7HpUuXPLtOl0XV29tLd3c3uVyO4eFhFhYWvNIXdz4Fg0HK5bJH+79ZW+R24/H37P9/f6sEAFY/gEykI3SnCqZtyedzSyRbLTYkI0SlTVRaWELBEoIygjE0zixmOTE1y3DRchTZKwDa5v8O/Luq1AYOvfz8YpmOqQyRVDNRASGrTJNp8XC6kbpiiffzBUYXlsjgUI7dTFMQiAFpVbJ3TT37uxppLC6glBfJ6UHmdQ3DrxI0yjVgHnC8uRUQipMxXwVhq7WiXjKZKls+p+i0Yj0FASCmacQVhYBloagaZTRmy5LrBcddIFO51xAQBWLJIPWNSRTVxraK6JojEkgV4PIym4pwVNCFAhUarMCp/XeZHLLqd1zQqiBQFQ0UDUvRKOCAr9EynJ1fJN1m0h4E3SjRaEsebE/Tqql8dmGA6/NFCtKx9WuN6mxubmXX2k76wj4CdhldWghp4cgrQlEI8sAscCW7xPV8iVQsApaNLqC/Nc1UJsONoSmWqu7ZwnFNaFVhR08z7W3tLBdNBscmuJpd4vpKgUIFXH5XczORJmDYTs20IgV+JFEB9Qo0CqdcpQDYtlXjdACVzAHOOCjC9mqLq3PK7rxYFYOr9HVFtFAIFVuomKqPAkVmgGuLOSZKJutifuqEQtAS9Ld1MLpUYPLGNIs4iuZGZY5EgPYA3LGph+ZUI1OzcwxMzjK4mGe8YGBYrkTnd687waqOhyIEquL8VglHbX40X+ZqdokZ06qoSQrSgQB3tLczNjbF2FKJUtU1fEAS6E342dzTTSAcY2Ihy/XpWcYyGYbLtuPLrgl8dhlpKJiqwpKQjJZKDNnOWliqrINIZezr0wlSqTo0YVI2iwhFx6HM1wYjV8FFBfiLHx4GEUJxMsdCRaB4hAGP4YMTvFh9R2eNC1Wpuqb3nUqryPcJFSEsFOFknqv3DCc+VFm/lSzy90X5nPd0vhRFQQqJhcQSCiVgCji7kGH9So7t9Un80iZhlIiGVep6Wmm3C3xzfZxcCaRlE9NgXTrJ7p4edjY3ERM2EUuSEzblqpKavzZWLxRn3itVZRtItxjJAdsaEj8QUSChC2LCxmeXMaVNUQpmSxbXgUmcAEAQZz+tA5JNcRpSKXRFYCLxqaoTjJGrbAULKNtQsgW2FOgCwopNUhc0+lUaVMmK7YgjumDedXa5vrjC0OISa5IJgrZEU1TWpxrJrFlhZO4iWWotBMM48/+OjiTr13ZRtGB4apYrM/OMLOeZsSRlaSP/6p7839FcsGHbNplMxhP4ampqorGx8RZ7u1Kp5NVBuxlw9zW3hv3OO+9ky5Yt3oF3cXHRA1tSSq5eveopdrt2anV1dTz66KP4fD7OnTsH1B6M3Yx8XV0dbW1t3H333bz00kts3LiRY8eOcfLkSU+EzlUZf+SRR3jwwQfZt28fs7OzvPvuuywuLnp19dXOAG5fuMJ0bW1tXv33U089RSAQ4LPPPuPNN9+kpaWF7du3U19f7wmQuWDDBR7pdJq5uTmGhoYYGhris88+Y/Pmzaxfv57e3l62bt3Ktm3b2LNnD8FgkMXFRRRFIR6PY5omly5d4sKFCx7d2bIsWlpaOHDgAH6/n5MnT36vGKCqqkQiESKRCPPz86ysrKBpGmvXrmXbtm089thjHDhwgObmZj7++GP+8Ic/MD8/T39/v3fdas2Grq4u4vE4165dY2JiwrtOIBBgw4YNPPDAA7S0tPDVV195zguwyqxw73/9+vX85Cc/QVVVjhw5wrFjx+jp6aGvr6+mTETXdU9crlQq1YCX6qCUO39dYFitUREKhYhEImzbto1nn32W+++/n9nZWf7yl79gmib19fXe7911112sWbOGJ598kmg0ypEjRzh58iR+v5/e3l4vq+42lz2gaRqRSIR9+/aRTCaZnJzkyJEjvP/++57a/9jYGCMjIxw6dIiHH36YxcVFJicnefLJJzl48CADAwOcP3+e6elp7/2rdRoAkskkdXV1gKMHcM8993DXXXdx+PBhLMvixIkTXLt2jVQqRVNTkwfE3b50S3zcgI1LIb/nnnt44okn6Ovr4/XXX+eVV15hcnISXde9sorz588D0NbWRjwe9wT/3DU9MjLCpUuXyGazNQGCffv20dnZyddff83AwACapnnPMzc3x8WLF70An/vMP4ThEgwGPTbE1NQU58+fZ2Jiwvu9SCTC/v37vftz9xLbtonH4xw4cIBDhw7x4IMPMjs7yyeffEI2myWRSNRoRLjNFVp014S7L7o6HXv27OEXv/gFGzZs4OjRo1y8eJFisYjf7/e0EwKBgCeYeuXKFe953fHQdb2m3AJuD7Zt28bn83muFvPz84yOjmJZlle61dHRwcMPP8zWrVu5evUqFy9eJJPJ1JRv+f1+fD6fV95yO+HXv7f/ma2KAeBkJSVUwD1kLTg/PkvMdwXZ08XGZB16hdZYsBz69ZVMhi+vXWdwerZKNXt18P9vpoGNUzNqAitIpm04PzpOV0M9W9pa0C0LFRspbO5Ip4n4ApwaG2NgYYFMsUTZNJzMu66yPhFhW1M9m9MpWlSbuJFHCgXVtJhbKTM3dI38QnY1YygUJyvuRqxkLZCQVdDKg35SVh1upJdJ1SrPYheLYJRRZdDRF9B8RJqaqe/IMjg2QalKuL4nHmbt+nVEkgksaWIYJVD9QK3ir0tbl5LKNR0KMbL6vmqpuK4uA+792g4/1hZKxQoLliRcmZyiO1VPU6SLkLQJ2DZC0djZWE9S6eXa7AzLRgld12gLh9mUamRtoo6gLINtISrka5cUb9gOSC8AN2bnGZmdpbcxiRBOPXMyEmZDdzdTmg9jZp58qYhpWwgFUj6NnWs72dfdRSqZpGgL0vX1aEPXmRkcQlomKtwECG8/p0ygUCxhmjZCSmzDIKRrtDem6FgpYi5kyNs2SjCIISUr+SKFYtnJvCsqSIltWUhbenOE2pngZYQreXWvn90MuxROnbmFY504Or/AyNQMLdEYIb+foBA0JJJs6t3EuBbg/Pg4tm0hFYgpkp54iG3tLezc0ENjXR2LjfWk0s2I4QnmhsbQikVMl4L8Lc3LlFbKElzwaVm254Qwb8KN2VlmFlsJ6zqapuNXJE11dfRv2kRmbJqhzCKFYhFFgbACGxrquGvdWta3pBGan87mVlpSs3x6cYCJyRlHi6Jcwi6XkAEVU2iIYJBoayuJzApDk4uUxKprRHtzgg19vQRiUaRtULQUlIoVjmVVrwXnqdz1J701+8PglrfM3QXEagr75jCCs0U4o2zZjpCnXaF1O9lnN9vigF73flzNDjd/Xx1sdL5P1X6zeq1vu1e3VMm2LS8g4mqn3FiyuDQxQXsyTjocJiYdJ4e1IZ3A+i7WNdQxu5zDtKFO99GTSLIp3URK11DMEr5KcLcoq/URqvpA1DIeavpGVFaBLVf7RkrvqVdXh/PeKqCYErtYRJglhK07Nfg+P/F0M/UT81ybzbCCA/RVoK05wdr164jGYlhW2bFO05w9Eilr1PbLQLFYdsoYTBNhGSSjYbpammnNLDGzkscUAsUfoFR2DrrlkslEpsjI1DTLrc1Inx9bKIR0nc7WNrYYNisTU8zkcpRNA0UV1OkKW9ua2L+xh47GRgoWtDe3EBy6wcLAIJNL+cpT/+0ejNys0czMDAMDA9x99910dXWxefNmPvvsM8/WSkpJJpNhZmbGU89ub2/nwIEDRCIRcrkcvb29/PjHP6a3t5erV69y9uxZ5ufnPWV527Y9P/jl5WXvwH3w4EF++ctfemrU4+PjzMzMsGnTJvbt2+f5lvf29tLX18f+/ftZt24d586d45VXXuHkyZPce++9BAIB/H4/mzZtYs+ePfT29pLJZHj11Vf505/+RHt7O7lcjkQiQSqVoq6uzgNduq57TIPe3l6am5tZt24dPp+Po0eP8pvf/IbPPvuMPXv2sLKywrp163jwwQcRQnhgyAUYXV1dzM/P89FHH3Ht2jUMw2B2dtYDs4lEgi1btgAOdTgWi3n12m5NczweJ5PJeOUThw4d4tlnn2Vubo7p6WnOnDnzreMJTjmMq+jt1ppv3ryZu+66i0cffZQdO3awuLjIsWPHeOWVV/jss89obm72KNCwmjl2wc/S0hKTk5NehjidTrNjxw4ee+wx7r33Xm7cuMHRo0cZGhoCVi0H/X6/5/iwdetWVFXlrbfe4uWXX+abb76hVCoxOztLV1cXDzzwgEdfbm5u5saNG3z++ec1tG73Od3Pw7m5OUZHRymXy2zZsoXDhw8zPDxMR0cHXV1dHDhwgJ07d5LJZPjDH/7Au+++SzweJxAIMDk5STKZ5Oc//7lXsvDRRx/x+uuvk8lk2LVrF4qiUFdXR0NDg6dQ7wJKtz7f7/ezuLjIm2++ydtvv10D5m/cuMGVK1eYnZ2lu7ubX/7yl2QyGfr6+pienubVV1/lo48+qqFf39wCgYBHFe/r66Onp4etW7dSLpc5cuQIf/rTn1BVlfvuu4+WlhYaGho89whXl6PaD/7xxx8nEAjwox/9iE2bNnkK/8vLywwPDzM9PU1fXx/PPvusB+rvvfde0uk0Z8+eZWxszLN2dLPJ4AjmRaNR9u3bx3PPPeexWlyav9uuX7/OyMhITVmFC9a/DYje7nVd1z17UnAU+/fv389zzz1HOp3myJEjXLx40WMGbN68mba2Nu68805KpRJvvfUWf/rTn2hsbOSee+4hHo9TV1dHMpkkm81SLBYZHx9nfn6edDrN/v37PYZDR0cH/f397N27l66uLk6dOsVrr73G2bNnPfq9u34ymQynT5/mzJkz5PN5r6TKZVa4OgKuqOL3MSF8Ph/FYtGj71uWRSqVor+/n0OHDvHkk09imibHjx/3NAuqA4au5eDy8vItgqh/b/+zW1UAYDXfaUmJbVUAkwmXByfRZqfJpVO0RYKgahQsm8mlFU7OZRjKGORk7WH5/+kxpzrLrgHzmTyXLl6kQxM01icoKRq2quILBGiP12E1NRFdXGQml6NkmihAQ8BHdyLKumiQKBaqVUaYZYSU5PN5Lg4Oc3HwGsuV67gHa6VSL4q8FQBUt9u9Liq1pVZFydwCFjIZstlF7LoYy2WTPJKm+iRbejeyFA4TyxfANOmKxdne2kJPYwKfZmMbeUq2xFbsytm2Et2EVQCPvCVpeAtgqXzdcsPeYd153yBOZnIhZzM4OEhPLMTahoTDKtA0fH4frdE6QmvaKWCjqwoJRSWBoFwuYRfLaFj4tAoVWzj0ZCkljTiZZbsEly9fZXMsRF9nJ0Whoag6rW2t3FGfIrCQZSqToWyWiQQDrEvWsSlVT33QjyVUJArxhhTR+UWEquHIdv2wZuEoS+fyOfKyHlk2MIVCczpNfyiOb36BkhCE6+LkSmXOXxkkOz7l9dXtaUxux35Xzl16tGgBWKbl1UDP5iyuXbvKhmQCPZEkrijogQBtrWHujMVJrmljcmkJQ9o0+FU2p5Ksa0jgDwQoCpVgJEaDFiIyv+K4T0j7e9eeQ5G2V8GYwAOvISCBk2mdnV3h0qVLtG7fSqghhaooBFUf69eto9jUSmI+w/JKDoFNYyTEpsYknXUx/JqKIVR8PkmdLfGFgig4LIZMNsPyygqlkI8cjpNAR0sLWyyFQmSKBVPisy3WJuLsbG+hvSmBsMvIUgmTVaGrm6Pb7tq43bP+NW01+Lf62s1AXNq3oRdKlyVSdU+3CUBU60TYVfOphtlT9fcfEsBwgjcV0TWcQNvw0BjXAjqN69ej+RxbzYA/SKqunlBbB62GhS0hLBQaEGCarJQK+GwTXVMqZSpOcPHmXvy284SsfO92IFdy+9dtnFKS+YUFlpdXyAf9FBUdC2hpbGTb5k0Ux6eZKpTwC+hJxtjammZNQxxDOPofebu672uvUQSWVpYpFItM53XiEspCob29jX50JpZWUPx+ApEoU3OzDA4NUSxlyAHXr08wlIyzs6cH2xcEoZOs97MtGkO2tjGazZIvFtE1hY5EjP6mJKlIEENRkLpOUA2QqK9H913HJs/faqvOLkopWVhY4OLFi4yPj9Pf38+ePXv48ssv+eSTT7x1Oz09zZdffsmmTZu455572LhxI//0T//E4cOHyWazdHV1sW7dOubn5zly5AgnTpzwxNNcCvru3bt55JFHuHjxIuvWrWPXrl0cOHCAtrY2PvnkE2ZmZpiYmODkyZNs2LCBp59+mu3bt2NZFq2trZ7o2EcffcSbb77JRx99RLFYJJ/Ps7i46NHRwRHqe+211/jNb37D5cuXvcDD+vXr2bt3L5988okH1Obn57lw4QJ79+6lu7ubpqYmFhcX+eCDD/jd737Hhx9+6KnIf/755zzxxBM89thjbNu2jWg0imEYTE1NEQgE2LZtG4qisGXLFoaGhjzavVsKkU6nPdX1r7/+2vuZmZkZfD4f+/fvZ3Jy0qN079+/n7vvvptEIsG7777L/Pz8946vW/c/OzvL+vXr+cUvfsHi4iJ9fX3U19czPDzMm2++yYcffsipU6eYnp4mnU6jKArlcplcLucB0nK5zMLCAvl8npaWFu655x62bt3K1q1bufvuu+np6WF6epr/+I//4J133vEo+NPT03zzzTds376dzs5OGhsbWVhY4IMPPuBXv/oVH3/8MaVSibq6Ok6dOsXTTz/N008/zd69e/H5fKiqyscff3xLXbe7/7o2h2NjY5w5c4aDBw+yY8cOkskky8vLNDQ0EA6Hqaur4+rVq7z77ru8+uqrjI2NoSgK2WyWhoYG6uvr0TSNlZUVjh49ym9/+1veffddOjo6WFxcxO/309fXx6ZNmxgZGWFxcRHTNFn6P+ydaXcc13nnf1XVezcaO8AF4L6JqyiJkkhJlmxaUeQ1Y0bO5DiOM5PJR5hXOSdnXuUbZN5kZs44x5nJmFK0mpa1UJbEVaTAHSQAgliIHeh9rX1eVN9CodEAQYoSKan/Oq1Gs6tuPffe596+z57Nul4BY2NjvP322/zbv/0b/f39C0IVRJWEP/zhDxw5coT29nZ8Ph+9vb289dZb/Pa3v3XDbWqtTXDOQHNzc8iyzO7du9F1nXQ6ze9+9zt+/etfc+HCBfbs2UM+n6ehoYEnnniCPXv2kEwmKZfLZDIZBgYGSKVSbN26lV/+8pcEg0EaGxu5dOkS//qv/8pbb73lekgcO3aMv/iLv+AHP/gB27ZtcxPZpdNpBgcHSSaTTExMYFkW+/bt46WXXuLq1avs3LmTJ554goMHD9LZ2cn169ddRZRIKijiztPpNH6/f0H1g5VYoUulEiMjI5RKJR555BF++MMf0tnZSTAY5NChQ3zve99j3bp1XLlyhampKVKpFOl0Gtu22b59u/v8d999l//1v/4XV65c4amnnnI9hPbv309PTw9jY2MUCgX6+vo4efKkmwvkySefxOfzsWrVKmKxGJZlcfz4cV577TX++Mc/omkahmGQTqfdEIrLly/z3nvvuZ4KwqtJVGwIBAKsWbOG1tZWxsbGFoWCCF4SSkIxps3NzTz55JM0NTWxbds2XnjhBbZt24ZlWbz++uu88cYbjI+PLwjjEJ5K4XAYXdfJ5XILFAD1ZH8PNyoKAK/Y7mRvLttOpnLhGj6Ytvg0P01jOIisKGiGRU7VSOgW2cp1IvHX/YBoJ1/5uwikZ7JkBkd53h9kXXOciGzTIWm0Wirr/AYHO6MYdhRdM5CQCCqKW2vdMCRKpo8pyU/atjkzM8axsWluG07bwlovSTbIspPUr+Kea0uVTPELxsozchW/Y0GzZdtotoQhQd6GwUyZnrk0q7u6aArJNGLRYhi0xgM8tnUt6XIZy4bGhjjtjU00+CT8atFx75WduvOOhX4+67wNlfKAlUzUkl1x/Z6n0pYqntACwsNBcg73kowTR+zxa0jjWM1m58qkrt/i+Z3b2NTaQlSWifhlmnwya5QIlqJgV1yRtbLG7VSK8vgEXbEgqzo6CPr8mAaVTNo+TNWgCEwDJ3LgGxyj3NjG2uYmWiVYLxmsDsNTq+IUmvxOkqFggFgkTMAv4ccgh1OV4XYiSd/EFAVNc8eilgDlhVbpW39R43qmSIdu0IlJs2QR9Nl0NQcoNq2mIClYoShTZQ3GJ8h62tVt260bbstO/PV8zrH5BHqux4X4WwJLsrFkQHFivG2c9TIDHJ8rI41McTjcwNpwkAbZYodis6lBohhsJlcKYVgmkUCAWChEWJHRkCiaMKcZDIxPMjA+TkYtY0oVQ/YycI3dklPJwLRsJ+u97EOXQLXn1/ObIwmKzWM8H2+kRbZplGwe8clsbFQoRZtQyxFsyyYSChIPB/ApJqYMSUkibdhcnZjgxmyCOZwwgd5kjq3JPI3tnTTKPtpsi1Zbo7M9xjMNXeQ1HUlWaIw30haP0yjZ+MoGmu14JhlU+NdjoXcScTpJ/yxJccYaBduW59nesyZse6FPjy1ZmJKJJFsg264V21WceZaPK7i78+s49M/bysV1JiYmlmxjS477uy1ewkeqYjL3tul8lpbkY0lRsGQn6aiz5zilJC3JCRWRgTngZAlmeoeY8oV4etMGIsEAAb+fVaEAyD7siIItK2BLGLpBOpVmZGaWuK2zac0qlEgIVdXRJQtb8fZNqqkVdX9BpMq+JDueRbasgCxXeN7yrAkZzTbd+bueLXM+kSXa2kar30+jYdBoGTR3NHCoMUimVMaWJJricdobG4jLNoqqotkWliJjKApmhZ8BLCTK2OhAf15jMFempSFOMzIdlknMMulub6TQFkfz+7HCEa4GJPSpSS4nUiSAnjJIg+MUoi3s6O6iCZsOTJoCJrs7IxSbFdSyiiL7iIXDBAI+AqZFyZLJyJDMleifmCaZLVQqiXhThX6z4BU00uk0vb299Pf3s2fPHg4dOsTNmzfdmG5xeD9z5gzlcpm5uTkOHz7Mtm3bWL9+vRvDms1mOXbsGK+++io3btxAlmUmJia4fv06uVyOZ5991s1k3t3dTVdXFz6fj1OnTvHuu+/S19fH1NQUx48fZ/Pmzbz44os8/vjj+CteRH19fXzyySe8+uqrXL9+ndnZWcCxKJ44cYJNmzaxZs0apqeneeONN/h//+//cf36dYrFIpOTkwwNDbF//36ampqIxWLuwXhmZoZPPvmETZs2IUkS2WyWM2fO8Oqrr3LhwgU3nnpgYIDf/va3xONxDh06xI4dO8jlcly7do2zZ88SDodpbW1l/fr17Ny5k02bNrkWYm+s782bN/nss884duwYg4ODAFy9epXDhw/z8ssvs3HjRpLJpJuADODkyZN88MEH9Pf34/P5lrXaiWSC165d49FHH+Wpp54CnDwxZ86c4fe//z1vv/02k5OTrsVfWJjBSbgoLJjC0ihJEt/73vfYvn07qqoSiURQFIVbt27x2muv8eqrrzI9Pb1AYfThhx/S1dXFs88+SyqV4tSpU7zxxhucO3fOLZd28+ZNXnvtNdrb2zlw4AC7du1idnaWvr4++vr6FtSer+Zf0zTJZDJ8/vnnfPzxx7zyyits27bNDS+ZmZlxM8OfPXvWTb4mlC979+7l4MGDSJLE+++/z7/+679y8uRJ8vk86XTaFQJFLLiYw1KpxPT0NKOjo7S3t/Phhx9y9OhRLl686M6LMD7ous7AwAD/9m//RqlUYufOnYyPj3PhwgVOnDjBwMCAy4fevnkxNTXFqVOn2L59O3v37iWTyfDOO+/w61//mp6eHnK5HNPT09y+fRvLsmhubnaTOYp5v3z5MufOnWP16tVEo1ESiQSnT5/m7bffXqBYunnzJm+88QZNTU28/PLLPProoxQKBdLpNJ9++iknT57k6tWrbNiwgVwux4EDB1zviNWrV7NhwwYCgQCfffYZb731FpcuXULTNFRVpVgsumskHA4vintfSQ6AcrnM5cuXGR0d5cCBA6xfv56BgQEURWH37t2EQiH6+vp47733OH36tMsfu3fvZv/+/aRSKY4dO8ZvfvMbLl++jKqqrsLt0UcfpaWlxQ3pAdxSpR0dHfzoRz9yc4CYpsmNGzc4ceIEr7/+OhcvXnSVX0IBkM/nmZiY4NNPP+X06dOUSiW3XaFESiaThMNhNmzY4JY+reWSL8JpDMNgfHycTCbDP0HgoQAAIABJREFUgQMH2LhxI7Ozs0SjUWKxGGNjY/zhD39w9z7vGNu2TSAQcKueiPwMdWH/64MqD4DKu13JUo4jBAgBedYAX0FDkmQsS8KwJQwUDCynBN6XAJWKJwJOKLI0Oo5h6hza2M2uVe10hAOEbRPbMgkpAfD7RHAt2DaaoWHojiBetCQm8wXOjk1ycmiY3lQejfls1K61XCTekxzNsGl7s50tdNF15T/bRpJsZOFmL8uYFWFqzoZLwyN0NcY4tGUjMZ9MzFRZHQ0SbAoj2U4Mr+0PkCmWmZ2YxjA1Qk1NhIN+cpqJblqOICEokNz/4cRzA7ZT4grmywAqlcuEIsCquEm7CcdkJzmXIuG6jquV8e4Zn8WwbUob17Gtsw3J70MWNdUlhbJhktV0prMFJqamIDFDdN1aVq/yI8v+eUFHVtBxeKlQoalnIkk0eJ0Xtm+mpbGBRgmiikwkqEA46vTSsilZFmWjTNmUyZsat6YS9NwYZGBknKK1UND2CmzV3ChCAJKqxfWxCXa2xNm4toOoYdCEQSTkx1b8FHwhsrZMVJfpjoSIKxK6abuNW9g1hchqN+n5sXZSFUqS5FYfVBS5Em8/Hxpx+uYQYdviO1s2sD3QSNi2iEsGhCSIRCtlERQ006akqyRMi6IFg6OTnL/ez9hcEs10BJ+lfLS93iBOHXSHey3LwrQsRyEgOetaBxQsJiz4pG+AqGLz/OZuGv0yTbJMzOcnEPJD1O/MqGlSsk0006SAwlg2zdXb03x+fYCxbJ5AZZSyZYsLN4dZFQ5zYGM3Ickkhsm6eBh/SxTbNjEVP6YvSDpfZHZigrBkE2hqIqQo5EwT2xYu9pWRrwjsVOLjsS1PKEAVT9gLecWpgmFWFGgOJzk5EUSVAWnB7Dr7g1xJv1Epc1kxfTulCW2hZ0OU2hSXWGYlHETMhwjjqfznuPTPqxrnlQ+id5USn9a894azDUjIioKJE88u9u5bJZD7BtB0jV1rV9MZi6EUiygVgixksmWNuWKZiUSSxNQkG+JRVq3uJOz3oauaU8JSmh+7O0GRcZL9IXIACFcqC0WSKlVhqCSQlTEr5WQTGpy/OURbwM/BLZuI2xYR22BdPIxPiQG2ExYmK6RzeRJz0wR9EvGmRgJ+hZJpVsqMKm74i46TUHIyX+Lq0CjbIiG6YmGaLIN2WSYUDqApPgqyQlGRKIeDdIYdd0YMgzxwbSaL/8p1Asg8tqqdODohySAe9kE4BNEASAq6YVMwdNSKx0R/MkHPwBBXhkbIa7pHSbmcp9DXG96D39jYGOfPn+fAgQOsXbuW559/3o2vFfHMyWSSjz/+mGQyya1bt9i/f7+bDE6SJD777DPee+89rl696h4sc7kc586d43e/+x0/+tGPWLVqFVu2bEGSJMbHx12h8PTp02728LNnz+Lz+RgcHKS1tdW12F65coXz58+7WdvFc2dmZjh27BilUon169czMTHBBx984Lr/iv4dP36cUqnEwMAAQ0NDrgVS0zQ3O3xPTw/5vONJNTAw4NZTl2UZwzBc4fX8+fM0NTUxNTXlxu2Hw2GuXbvGjh07iEajrsAoQi2Ei/3AwAA9PT2Mjo66LvUnTpxg586dvPTSS2zatMktQzc0NMTp06fd7OIr8QAQScs+/PBDmpubWbNmjZt/4fz581y5coXx8XHXIgi4yonqhGz5fJ7PP/+cdevWEY1GaW9vJ51Ou+198MEHC8oCeq2XPT097nxmMhmuXbvG0NAQpVLJtUiqqsr58+f5p3/6Jx5//HFaWloYHh7mxo0b9Pf3Mzc3t2xsuM/nY2hoiKNHjzI9PU13dzeRSIR8Pk9fXx8XL17k6tWr5PN51yIvFCF+v9+tc//BBx+4QpqiKC7ftrS0uCUvy+WyK/wNDw/z+uuvc/LkSXp6erh8+TLlcnmRUGtZFrlcjs8++4xkMklnZyeJRIKxsTG35vxyAphwIf/ggw/QdZ19+/a5n0USRXAULidPniQQCDA+Pu7mYhChHP39/Rw9etQNS5mYmHCVfsVi0Y1tVxSFGzdu8C//8i/09vaybt06SqUSN27c4PLlywwNDbk8cezYMXw+n1slQoQTXbp0iaNHj/Lxxx8zNjYG4JY6bGlpYXBwkFKptKhK1p0gyzLlcpmenh7eeustAoEAjz32mFtWsFAo8P7773Ps2DHeffddbt68iWmafPTRR1iWxblz50gkEnz88ceu8C+8SIS3k1BYCgVYqVTi9OnTSJLE6OgoTU1NWJZFMpnkypUr9PT0MDIyQrlcdsOINE3j+vXr/Pu//zsA7733HjMzM+7aErkrpqenOXPmDF1dXW4JTME/SyXg03Wd3t5e/vCHPxCNRtm5cye2bTMwMMDt27d5//33+fTTTxkaGqo5hoJ/bdt280Hc7TzU8eCwuECvB6IkIDhHFhMqbudmlQXMdmuS38+jTbUFzgSKOgwOzxCYnaG0tp3imlWsbooTCoUoWTaypDsCgi1jW06ssGYYzBWKDMwl6Z2Y4tpsmjkd9zDqhaqqpFNpEthk5AC5ooFaVhf1y0ubqqqkMxkCfj/4g+QKJTRVxbIqMa5AqmRz5dJVItkUe9d344+GMSwLSXXKR+kWlHSDqbkEg/19hCWT7du2EFstk9NtCsUCum645fcsy6ZcLpHOZPAhOZ4Yeac0ipfWimziWEkt0FSNXD6H3zAoFh13LlXVFvXLBPImDN2eQ56cY64jRldLE03hELLiw5RkiqrOdDrDrckZiiXY2igTDAYqIQkOZ+iGURGC59uXgbIOff2T+GYm0Td0s76jncZolGjAj+JzLAeGZaFaNiVdZzqX5+rkHD3j0wymNLeeOCzkuaWO1+IArgPjk3NcsC7QkNvA5tZGAqEQqmVhyAZ5dJK6ze1MgWyp5Hp1aJqT4CSdCZE2IG1Kbummar4QzzcMg0KxSDqdwdZ1UukshWLREbaZD3GRgbxmcO36IIHZScobu+hub6UQ9uGvJIqh4t+h6QaFsspQJk/v9Cw949OM5U1KleeakmPNrwXveKmqSjqdpsEnkykUyZV1yuUS2DYKjmAmciukCjYXegbwTY+xe80qVrW1UgxFCPn9KJIPSVIwTJOSoVEolxhOZzg3NkXPVIpE2RHCRJ5pHZhJF7nw+eeEckkeWbcGOehHNQyQnfAj1YKCZjAxPcNQXx+toQDbt23F3yaTMiSyuawThyfG2TQpFIuk0ikCukFakygWSwvyBFSPgtirdN0gm8uRkEzkUIRc2aJUOXgtNYaGrpPN5ZienSNnWCR15x43yzSgaxr5fIFUKk2qbJEuO2FHpmW5e6qm6+TzBTKZDHnDJqeaqJrqKBNhkSLHAjRNJV/Ik0lnKAfKpDK5Ssyv5fKS4EEVmEsbXOwZJDU4yPr2VjrjccLBkJNnxbRJ5PKMziSYTJSI+2BzU8xJeGhayMJN0JhPinknGCYUiyVSmQwzWpmsZpDN5SmrTspI9/ekkqdBEfcB08kyly5cJlbIsad7LUowgFFwFF82UDZMcuUyYxOTjN4aoCUWYvPWrfhbLDKWvKBWtddfywBu3RzmfClDcH0XGzvaUQMBypZFSZLJA0ndZDyZoaiW8a5NDRidTnI6dwpj3Vq2rm6nOR6hoCkEFMVRotkyqmlR1HRSxRL9s0k+G5+mdzrrhD0hfj9rBYV8M5HP5zlz5gyPPPIIR44c4YknnuDw4cP09va6lk3hCXD16lVGR0dpa2tzLekilnt2dhZN01yhzefz0dfXx69//WsuX77Mjh07aG9vR9M0rl69ypkzZ7hx4wblctk9HKfTaY4fP86FCxeIRCLYtk0+nyeXy7lCloA4TF+9epXx8XE3J0EymXStzOAIIO+99x4nT54knU6TTqddN3fhCnvmzBlXwDcMw41jh/kDeC6X4+TJk5w7dw6fz+dmVhd7yeTkJA0NDW7ctojrFSXuSqWSK/iJMoKKotDb28v//J//k3PnzrF161Y6OzsplUqcP3+es2fP0t/fv2z2fwHbttE0jZmZGY4fP87ExATNzc2uB0QymXTdrr1uwaJ+fLUAUiqVuHz5MolEgosXL9Le3k42m3UrK8zOzi4oqShoMAyDXC7HiRMnOH36tGuxr7ZIappGIpHg008/5dy5c0iSRKlUchNOijmu5ZrsVaycO3eOvr4+YrEYiqK44+wt1+gqmCWJiYkJ/vCHP/DZZ5+5OROEMG2apqsAuHnzJpqmMTc3R7FYdNsZHx/n3//9312PAFVVa2ZyF7RrmkZvby/Xrl1b0Jc7WV9FAs6bN2+SSCRcJVYikUDTNFd4y+VyfPzxx1y8eNGpCJRIuMoFwzDIZDIcP36c06dPu+UNRanDaoWF8JC4fPmymzxOVA8Qa/rWrVv85je/ob+/n127dtHW1oaqqvT19fHZZ59x+fJlt5ye3+/n9u3b/N//+385fvw4o6OjjI6OLvmbXQuCRsMwmJyc5PXXX+f27dvs2bOH9vZ2FEVhdHSUTz75hEuXLi1wbb99+zZvvPEGH374IeVymVQq5Y6dUFJ++umnXLp0yQ23EEkTLcsikUjw4Ycf8vnnnxMOh939KJPJuGvGC7G3CaWYqDQh+EH0J51O8/vf/57+/n4KhQL9/f1LVgMQ68e2bW7fvs1rr73GwMAAmzZtolQq0dfXx/DwMBMTE+Tz+QUeJQKiP5lMhkwmQ0dHB/F4fEH5wbo3wMONO5ojpBovPDcJF84vY5q9z5KolBhjPlt+mwzrW6Ks72ynpamReCxKMBAAyxF2DcumrGqkcznGkymG5pLczpVI4hzscjgCiYjHbgG2xINsbogQDwYoygFmTRjO5hlLpclY9gKFQQgnXnpz1Ed3POaUNFL85A2LW8kMY7kiRWRk2yAANAJrg7CxrYWN7W20NMbx+RR03aCg6aQKJSbmEkxNJvEDqzrCBONNlJFJqDqjiTRjRY0y0OKDzdEQW+NRQoEAWRMShsVoJs/tXIEcuNHxUoXWNmBLS4TV8RghxYciKaTLKv2pLKNFjVwljlrBEdpiFZobcfIDBP0QigSRfH5My8YwTfRimYzhfP+D9Y38eP9euppbyATCXFdt3rtxk2MXLzNd1t1yh4FK++FK290RhXVtraxqbqQpEiISDiNLFWFXN0gUitxOphieSzJVtigw76LuJIt0uM+rrKLqb8nz3CiwCtjYGGRTRyvtTY00xqIgK6TLOolimdF0loFkmrFcHixYF/GxvTFGcyRM0ZbJmjCeKzKcSpGyQUOEgDiZzRuBdWEfaxsbaI1ECPr8FFSN4UyOwXyBpGmjVTbHYIWnoxV+WtfgZ117K50NUZpiUULBILbteGhkS2VmszlGEmlup7JM6xZ5HAFblST0JTZcIRz6cLKob4j42draRCwUpGiaZA2T8UyeoUyRLE5/RI34aOWeVqC7yU9XayudTU3EI2GnVKQsU9R00sUic7k8I4kUw6kCc5YzT6rk1EYXVTFEe10RhU0dbaxrayEWjSD7FDRDd6zS+TwTM3MkZgs0+mBVRyNSJEbBlpkr6wwlEoyXnVKQqwIS22IRNjdEkXwB0rbEVFFjJJ1lulxCxYcuS1iWozZScGLlY8CGxhAbYxHafBL4AszZMreyRUbTObKGgeoZPzF23WGFrc2NNIVDaEiULJjKFxhMpkmYTnWM9SGJ7c0NdMaiFC2ZlG4znSsylsqQtm1CwLpIgK2NDbRFQmi2TNq0mSwUuZVMMWvZqEjuDu0HmrHZEFbY0NhAPBzGr/gp6ga3sjkGcwVmDAurwufhynsDzr4meD8WVvCHw26yR71YpFS20IH9EZkjTz7GvvVdWKEwt3WLkxPTvHPhCpenE2SQKLsHX+/KAj9O/ogmYF1jlI2NMZp8MpplM6GZXM8WGMsX0ZGwJRnTbcPGx3wVlDZgTVRhc0cr3a0tNDbEUBQ/mmGSLakkcnnGp2dIJHJEfNDeEUcJR9BsmURJ41YyzW3VoFBxtvcx/3uxFtja2sCGznbampsI+f2YkkxOcxSMQ+ks/YkUY8USJduZb7FPxYHVfljf1sza1iZaG6JEQwEUWcGyHYVVIl9kKp1lJJFiLFeeD42TJFT7brKVfH0hBBRJkmhoaOBnP/sZ//AP/8D69euZnJzkH//xH3nttdeYm5urmajMW6LP21517WjbtonH43R2dhKPx9F1nbm5uQXlu7yHz1qlwYSV0tu2+L7aLV7URBdWzepDerXbtZd2oOYB2nudlz6vYCks6cuheoy8Frh4PO4ezIUgLwSSlWRJF+0rikIgEGD37t3s3r2bYrHIxYsXGRoaWpDRXuDxxx/nv/7X/8oTTzzB0aNH+e///b8zMTHh9kWWZUKhENFo1BXuBf3LjZW3f0td5y2rKBQ2Yu682eGX67uoYe+9xssDgg7vmHvp8d6/0nH29q+aD2rFby/1eSlU87eIHa/uW621Uou/xVoFFvFurWeLdmutE3FfPB5n1apVNDQ0YBgGqVSKqakp14Lu9QoRNN3LWNSiLxaL0dzcTHNzMz6fj0Qi4SogRZJGca3oMyzkMa9rvcCdQmwEBF+vRJFTrYCqvr7WPuqluRZEwkxgQU6KpcZU/Pt3vvMd/v7v/54tW7bwz//8z/zzP/8zyWSyLvx/DbCsBwDcf6v+3aBakFNxBPcsTum8OQtG5wp8nigQCys0xKJEQiGwJUzLKRmeL5dJ5/PkdLNSjk6iTCVOtSLwWlSssMDNrMpkVkXBETA1WaKERNHyxm5W4m6wyQNDBYPJQtoZKwkMCQoWlJGxFQXTgoJtUAAyGgxNJIlOJWlpiBINhzAMg6Kqk1N1CpqOUaHnxkwJe7aELYEpQcl0DpQWkDHgRqbMWKaMTOUwL1UELpdKyVWemNhkgL5UkeF0EbmyB2vgCtQCARkaAn46w2HWN7cQDQQYTyW5PjvHXEbFcEQTZOYP7o80QOfmzUSamjBtC8O2yaplZjMZt09m5aUhUUQmj0kOSBZNro/OEB2foTHs1C33yTKaYZAtqWRVjYINRXv+QC0K3ck4Jf2qQzMEz4hvbBxBVJVlyliUTZjLqlzPTRDxT9IQDePz+SmouvNMzaFNrbQxVDRIFNMESLtjrSJRsBd6kUhIWNgUgNGSwWw5hY8U2POhLEVEXgDHwFvEEeDzOPk2ZnI613JTRBVojAaJhkLYlo1qWWTKKpmyTsECFYUyPnRsbMkNuFgSIgwiC9ws6kwWZ+fL2/mgZDk0GJVBNG0JE6csaAknh8JEWudSeorGwAwN4RCBgA9kiYKqki6WKZtQrIxLETBk2c2ub+G0V6r0NVUyGRydJjo+Q0M0QjgUQjcNcqpKVlUp6U5/AgZcn8hgkMGUnPkvWLZThlCWmNVt1GSBoWRhfp+QZcqWhIEPkJFscBz0TXccihKM5MvMZssEbWccipITLuQtDSf4x6rQPVIySZaSbt4QU3bKjxZshy8MYKRkkyxlCZF1rO2Ss5+UbOfdBIaLGoliwqk9T0WhJTt9M10Olt3Qk6LtPHuulMYnOW7Uuu0oMnOAXQl/kJHw+3y0BgN0NTXS2RCjUFa5NTnFlZJKruRkSzaZL63XDazavJmmSo11y7RQDZOZdI5kvkglkMUzIvMcT+U7FYsEUMwUGMsUCFbGpyRBWgJNEtlG5u+D+X20VHklyib9IzPEJmZojkUJB0PohkmhrJNXDQqqhgnIBiiTWWw76+xxlbmb9zVwKslkJVBtEw2b2WSOnnSOaNBHNOR4MxXKGtlymZxhuXMvFCRiXeaAlA63JlNEplM0R/xEQ0EUWcK0bXJljXRJo2hCGYkyTiUdQwgbSy3KbyDEAbZUKvHZZ59x9OhRjhw5wszMTE23Zi+qhYOlXFclSaJYLDIyMuIenIX1ttZ9tYRFcWCvJRBWH9i9n2sJ5LXar25zqYO0sMbV+ndhVV/uMF39HHEP4FqtfT6fa72ttmAvBTE2oVCIDRs28Nxzz3H48GHWrFnDhQsX3HrxteDz+dzkYH6/f1FGdsuyXEu3+LxS3Ilu7/diXKs9L+4EMUYCXldnAS/N1fR753MpK36t+5b6Ny+WE8ZWep9QAHk/L/f85f5tJcJlLcG/mi5Jcrwqh4eH3TUtvGdq9aH6+V8EwuW/XC67oUNirVQ/t7qfXl4Ra8yLlWbF967bWqhWtiw37osqhlWhlpJJ13WSyeSi++8EUSYyGAzS0tJCJBJxk1vW8XDjjgqAhxFCsINKvKsNZtGkUMwik13wnYFzsHZu9C5iQKokwPOsH3GPXblPtZzEb9VLzOsNYeAI0qJdwxY0ih/2+SR7VkVg1E1Ipgtk04VK2cP5nAuifaNyvV0RHi3Pc4VQIpQFemUcvEvOO07is26DVLHGUrmvImY4FmIJWltb2b5+HTvXrmVTaytBWWZ4apLwzZv0DQ+TLxvuPTGgOe5n544trO/upixB2DRJlcpkUmkSc3Oonr1EKCVsj3huVvpRMsHOq+TzjoLBwjmAl1mYYFKyHe9obGrMzMI5WvCtDZJlufNt2hXeUW1UteiGCIi8E9UQ86RXxtHLF/ai0a4oO+x5ui1PH6oT9XmVFqKkm2pCOquSy6ouP2qesbAxQfKB7VRbkCQqCeeWHxPhJi6UMgCWUbvP4h4vXQZQ0Cx0reiG/mjMz5OBvTAZqOQpfYeEXKHPqqyVkmWjpwtIFNw5VyvPEkK2a7G2nWSMgv+syqCJa6wKLZplYSFV/BjAW/XAFUNt3GonItzB8MxXtZjr/Sz2CAsnN4nX20ZcKPjFrNAt6PNCKBnEHqJXhH+Xk2zbHT8814kpFm0qlXH3IRGNRNi4dg27N6xn++rVNAV8FEplWm4OcvFGH1OZDFrl2VEgJsPW9d1s2bwFfzSKYRnkVI1iocTM9BTZQqnS/wqPSzLY3rAeZ7VKsMClX4ypbldSWEhC8Vo9ugv3Ncus7OsqJFSHLwT/i3Kl4m7Lnv/btOf3MpF3ARsU20apUK/bTsfNokG5mF/wGyHGXZGcv8Ua9f6emIBmQTqvU8jr7j7l5X/THSmxFr894r/X4qmqKv39/fzv//2/uXLlCrquc/78eZLJZM3DYa0D7Z2EZq8Vs/qgu1KhyKsEuBvcTYZrbyb35ayk1e2tlD5v370HeyF4CYGvWjBYiRKgu7ubn/3sZxw5coQdO3bQ29vL7du3XWGhFnw+H8FgkEgkQjgcdi3OXlQrPrxj5L2mFryCy3LXLXdv9XOr+U68ewWuu+GT5Xh3pdcudX319/ciBN9NP7zXV3+uNTZL8fKdsJyl/W5ovxe+EN4ES8XNL4e72QPupCi5G9Sam5WumVrfL6XIXOrZtm27pSEjkQitra3EYrG69f9rgq+dAkAcuoWAUKQqgZ/nJa4VL0eIkCrCkyulV+Iz59ssIazm86+FYQ5OLKeouy0Ou14anfucXOAi8tMG1107jyeBoIdG8XPoFQi9/TaZF/yXo1VYEN3DMfMHVDFeeK41cJghCnQoMk+uaufZDWuIqCUCWpkd7Y3s92+hN+RnfG6OrKoiS9AZDbF9dQc71qxitSwRkaDk85NWLa7NzDGcL1LGoyCpUGRhu8oHlflcCV7aBN3VL4vFm7O0xCd7wSg653FBi8b8PIi5EOPhfYl/1yotz8f0zr/mraPi2vkqGt7QBK8w6+2BEBbFu0iW6I3prhbCLcCyrYpN27nAFXyq4ApMlX5YLPT6EP1x6fIIacI6LdadSJrppc3Lv14lmmRZzthIlfKinjHz9tPL76anPdnzHKvqZYJrXTUrbeEdG2xsnPGZ946Yv168lys0eNdV9ZoX7xrzPFur7yL/Qol55Zx33sS1Ys2WmVdkePep+Z9hG2x7wfoV9FaPlwI0yDaN6GxvDPPipi46fQqxUgHNZ7Jr4xoeVUwGJyZIFovo2DT4FDa1NLOray3rogFitkVZkskpPq6lZ7ieypFj3vNonhPn6bOxK1lhFiYRFXwvlBZOxRIbe0Eb82sG5vdT777uGQl3TmrxuJe3wAJbKBjtBTzv5V1xn/deh3fnVT5mhX7Tc79ow0uXl2+cz1WKsG8BvAdQkcDq2rVrjI2NIUlORvzlLIF3K8gsl+18pfgi962UXq9i5G7pWAl9d2P9XSmEO/PevXt54YUXiMfjnDhxgtdee4333nuP8fHxxTlwKn2MRCLE43H8fr+bn6CWG3k1jXcruN0P4bjWNUvN1/0SCpfzbLmXufqyBa6VCPJflIZ7VWTcT9ytp8i9tv9VtrWUAqWWonGlENeKRIqlUolAIEB7ezvNzc13lY+hjgeHu1cALDKrfvWwmbcG1YLXOj9/WKxm7opNyxbXSa5QulIqxEHPa7X3HipdCiqGIHG4XxwxtwyWGG8hQFV7BNSmdKHQtRQUwG+DlUqi3R4lGA+xyifRJFkYkp/VkRBd67uZaGkipZbwKTJdsTCbGhtoCvgpWSaqJJO14crtcS4OjTJb1hYI0tV9uF/bhEd3z2KxYfG1Knc3D8IduPoJtmtPlhbwnGNVvNNCmZ9c7xxpy9yxGNaCpu70m1DNs0tjYUNCaXE3mB8n7zpzIEJBaqu67gL2nfpTQ6PNQmXMSvnAlhwB31xih/FC487zeDfjKXjKS6937fvAydlggVzU0KbGMMeaaWxpYq3teEOUFZtVa9p5pCHEbLGIIUFTMMDGhgZWR0LokkXegrys0Deb4LPBIYayOYqVvjghK9XjaS+grzY84yUs4i7rz4/dnXjzzqPuJWvhFfP861VbeftgL/y4QN27/O9NHfNYykVaZKeHu7PsfRFr2VdhhbrfVsIvE3crzIo4646ODh555BE0TeP48eO8+eabTE1N1RRaZVmmpaWF3bt3s2bNmgXl73w+3x2z1N8PZcf9avOLCP/3igfNI7VwL+N3P5RxX2QsHtS9X2a794tH74cCRygQRIWLVCqFJEl0dHTQ1tZWM09KHQ8x56luAAAgAElEQVQfvnYeAPcOm8VHSO9B8P4u+gVHzHtt+g4KuWpR937ABEqqyeWrN+hQ80Q2ryfc2IAd8CEHAzSGwgQ72ulQFGQs4raJYqjohoZh2aCVuTU6xrXeAeYyxn0T8O8OYm6/+mcu9kRYbvLvI889ZOeGux/9h0CzeCc8xOTZODKvWG9DY0nO6udpfGQ7nZ0dWIoPfH7CDSFWNTUTl2UsRSYqQUxTMXQN3TDwmxpjc0ku9/YxOpF2Le4SD+fh9O5QrWyq40Hg689H3w4Il+ByuUyhUCAcDtPR0UFnZ2elepC6IPO/bTuJGZ999ll+8pOf0NbWxh//+Ed6enrIZrNu5YI66qjjmwHbdqoP9PT08OSTT1Iul90EmAL36tVSx5cPBfhvD5qIWqh2579b3NFC9CUdAu/83If7ecJNNmPDXKnMnGGjh2PY0Tiaz4/s9xEMh4lHwgT8PmxFIScpTNky13Nljo9O8d7gGBeSJaZxXOw1vNbBWsEa9xvLewDcD9Qed++/PpiCX8uP7Jc97oufdmfYfLmr5svq85e90ldGs/A+sRBeTI6HQAFIlXQSukFO8WNEGzBDYSR/AH8wSDQcJhwIIMk+ipKPOVtiUDM5MZXg2M1hzswkGTNtUsyHHty5t5L7Xy1KvT1b3Me745Z7h13j9eXiq111ddRxf9HU1MSmTZvYunUrW7duJRgMks1m3bJlkiS5yoGnn36av/qrv+JP//RPKZfLvP3227z//vv1rOB11PENhMiZoGkahmFw+/Ztzp8/z8TExIMmrY4V4KE1u92Vu+fXFLWc1R98PyW3DGADNi0BH1uaG9nbtYaNTY20BnwEFQm/ImMBOdsmaZhMFIrcmJplcDrBWK5IzjQr8bzVLPZw9noe94fz7oNz+z0/1/s+3wPvN7XG/2Gag/uFB8drX4yLVkL3UvNpoQA+bBqARhm6YmF2rV7F9s42VoWCxPw+/LIMFqiyQsaymSqWGUgkuTE9w1AyRVI3VxTG4JJgO3/I80Ef1ErQWTt8Zp72rwPm+7Bwta2sz9/MlVbHNxOSJLFq1SoOHz7Mz3/+c55//nmy2SwnT57k4sWLDA8Po2kajY2NbN++nSeeeIKnn34awzD4/e9/z//4H/+DM2fOUCqVFsUd1y2DddTx9YYI54pEInR2dhIIBJiYmCCbzS4qRVjHw4e6AuABYmlh7cHAYQYJGQhiE8Opn90KdACdCrQGIazI+Pw+p+yWYZLUTWZUmDKd8owiaZjIpm8vekpdAfBl4e4UAPaiq75Z+DYoALzXC5Haxo9TnjOGs37bgE6c9dsYkAkoCjYSqiST0Q1mSgYTJszirGFRDnJFlv/7ogD4KlfJF8PC2Zn/VFcA1PFNgyRJ+Hw+AoEABw8e5Be/+AXf+c538Pv9qKpKoVCgVCrR2NhIS0sLgUCAbDbLsWPHeO211zh16hTlctltry7w11HHNwd3U4WgjocPD7UCQOChJPA+4WHtpwL4cTwBwpWXr+ol3I2FoCBK9gmXf5FpvfaRWOBh6jUsdtK9d/oeVC+Xfu5SDsgP2xzcTzw4XvtiEed3Q/fia2Wc9evHWbuhysvP/PqF+dKSIsllEWdNi6z5d2eTl6r6XJvuhdc8zHvB0pBq/LXyPtdRx8rwoA/U3nJ4sizz+OOP89xzz7Fnzx527dpFR0cHgUAARVHQdZ3r169z9uxZ3nzzTS5cuFAz6d+D7lM17qVkXB111LEYy5UYrHVdfc09WDy0CoA6Hg5IciVvtrWwJJtY5m5ZLtmpBG7ZYNXd/Oqo48FDmhfIJUCxQZYcK71UyZLvDQARAr8tLVzDddQhUD+4fbV4mH4/ZVnG7/cTCoVYvXo1O3bsYMOGDUQiEUzTJJVKMTw8zI0bN5iennaF/4fh8L/cONZ5uo6HEV83vlyO3ur193Xr2zcVdQVAHctDqgj99nz96+qoXVdooCJI1DmqjjoeOLzaeLGGHSWehOTxzfEK/65C76smto46vmH4IodcWZbdex/GQ7JQBgSDQXw+H6Zpouu6+4Kl+++tGvBl9205Gmr9ex11PCh83XlSrGlJkojFYkSjUWzbdsOE6rkAHj7UFQB1rAgSi63/8CByatdRRx13C2fdSlXr117wl1AE1FGHwEos0Cs5uD5MluyvCis90HvHRgj+ooxW9eevGrX6sECx6FFUiJKASyX687b1VQk7d7JKfhU01FHHSrHcevu68GlDQwPPPvsszz33HIqi8O6773L69Gl0Xa8rAR4y+O58SR11OMLBSpbu122zqqOObwPmHf7rqGPlWEnWdq9AJ8syHR0dbNiwAVmWGRoaYnJy8lurHPAK9l4h3vvZKyCHQiG6u7tZvXo1iUSC/v5+t9TeVz1GK4nnrT7Q1xL2xWdvH77qvvh8PtauXUtXVxeFQoHh4WHS6bRL2zeV/+r4euFO++vDDLGOwuEwjz/+OH/1V39Fa2srDQ0NZDIZrl27hmVZ9bX2EEEB/tuDJqKOOuqoo4466ng4oSgKgUCAUCiEoigL3Le9wn8gEGDPnj384he/4OWXX8a2bYaHhxdkgq/G1+Fw+0Xh8/kIhUL4fD5X+K/llt7W1sbLL7/M3/7t37JlyxbGxsaYmZl5KBIB3u09gl+CwaDb5wfhySBJEuFwmOeee46/+Zu/4cknn6RYLDIxMYGmae413wY+rOPhh1AEhkKhBWX0Hnb+FGvI5/OxY8cO9u3bx5o1a+jo6KBYLDI8PEwul3tg3kx1LMa3SgHwsC+ghxGS51VHHXXUUce3C4qiEIvF2LVrF88++yxr164lm81SLpddt2+YzxTf3d3ND37wA77//e8jSRK9vb1MT0+v+HnVwthywtmdftPvRrD7soRARVFobW3l2WefZf/+/ciyzOzs7KKDsCRJRCIRnnzySX7+85+zZcsWhoaGGBoaQlXVBdffLZ2ib0v18U5jLMvyikIZJElylUUbN27k+9//PgcPHiQcDpNMJpdVBK20H7X+Xg5CMbVz505++tOfugqAvr4+EonEPdOx1Diu5N+Wu+ZeFS7Lze/dPP9eUOu51TR9ER5c6fO9e9HdjslXJR9UrycvfT6fj8bGRh577DGeeeYZ2trayGQy6Lq+YK9dru2V9PlueWWpua3VL/He0NDAzp07aW9vR1EULl++zM2bN1f0vDq+GtQVAHUsibrwX0cdC1G3FNXxbYKw6LS2tvLjH/+Yv/3bv2XdunX09/czMjKy4DrvIXbDhg3s3bsXgJ6eHkZGRlYc/1ntLq4oCrDYnVz8fad2asWhe68R8Pl8C4Tc6kP6vUAIn7t37+Y//af/xOHDh5EkiYGBAXK53IK+CCt5PB7n8ccfZ82aNQwODtLb20s2m12kALgXxYZwJ66lYFnqUC/uW+653vv9fj/t7e386Z/+Kf/lv/wXnnvuOSRJ4tatW8zOzi5qe6X01xKc7jRH4hoxD1u2bGH79u0UCgUuXbrE7du3l+3Xneip9V31s1fa3lJ9WAm8uRhWorCp9cyV8sRS7dWah2r+EQLivSpKluuDlwbxLO/4LzcX9yoIL0XPndoQXlTis6BNlmW6urp45ZVX+NWvfkVbWxvXr19nfHx8Rc8QfRYeWvdzrKv7WYt/xHPz+TyWZbFp0ya6u7tRFIXh4WFGRkYoFAr3REMd9x/fqhwAd+tGV72hPEyo3ljrqKOOby7q672OB4lAIEBnZyf79u2jsbGR1atXEwgEFtR5F4e/ZDLJ0NAQ+XyeaDRKKBRaIKDAwrABkUBOoDq8QJZlVwkgfpNFQqnqHAXeQ6X3MOx9thfe5/h8PoLBoKuoEO3f65rzCp/xeJyNGzeye/duJiYmaG9vZ3x8fNEhvVgsMjk5ydzcHNu3b6ehocF1Bfb20bsfLOdSK/oVCASQJAnDMDAMY5Eypvow7qWrVvteIUNcL9pRVZW1a9dy+PBhnn76aUqlEg0NDQSDwQXPWS5ZYK0xF0K8lybTNBflUqjuh2VZGIbB9PQ0o6OjaJpGPB4nHA4vEpS847qUYkFRFJcGce+dchvUUqSIdyEUC1rvlt/EuIhqDJZlLeLd6nG3bXuR0sArRAshFVgQurHSEm+KohAMBmlqaiIUClEqlSgWi+i67vJfLYWgGI/qcailpPAmygwEAkSjUSKRCADlchlVVRfw+1JhN973O1WL+CKlJL3PEmtS9KG6L6tXr2bPnj2YpklnZ+eCMVlOoBfeN7IsYxhGzcR7K1VSePvjVSp5ecM7j+JawzBIJpOcOnWKPXv2sGPHDjo7O3nmmWe4dOkSqVSqnhDwIcG3SgGwHGr96DyIw/bDpHSoZ/Wvo46FeFjW5hdFdSWPOuqoBcHvlmWRz+fJ5/NIkuOqHggEMAxjwbW2baOqKvl8Hk3T8Pl8+P1+V2gSh0dxwDQM445rKhQKsWXLFjZv3kwwGKSvr4++vr6apaUsy8Lv9xOLxWhoaCAcDqOqKolEglwut+Daaqthd3c3e/fuxe/3c/v2bQYHB0kkEguEzHsZP9u2KZVK5HI5dF0nEAgsEoarlQDZbBZd192xq7agirET99YaQyEMxONx9u3bR1dXF5OTk1y5coWZmRk3/l1cJwRiMXdL9cf7Xus7v9/PunXr2LVrFwDXrl3j1KlTC5JBVgt6XoFDCKbeuRXfr1mzhr179xKNRhkdHXXd+KuVQdWwLItyuUyhUMA0Tfx+P4FAwB1bL18KBVMtyLJMNBolGAxSLpfJ5/OLlADe8aglxIIz5oLm5uZmgsEgiUSCUqnkeqKYprnsedCrHNuyZQu7du1yE2/29/eTTqdrJmGspbQRLyHkCVd0gLm5OfffhDJgOYFXURTa29s5dOgQjz32GC0tLeRyOUZHR+nt7eX27duk02mKxeKCNSx4eynhf6nPsiyzd+9enn76abq7u2loaGB2dpZLly4xMjLCzMwMhUKBYrHohi2JdmzbduddrCdv5Q2vcmQp5Ye4/0486FXytLe3s3fvXhobG7l16xYjIyPkcjmKxSKappHNZikWi0iSk7/C7/cvWJPVCjNFUdx9b+fOnaxbt465uTmuX7/O1NTUgtAbscZkWa6ZX6Ba8SeeJcsykUjEVbQoikI2myWZTC4o/SnoSqVSfPLJJzz66KP85Cc/4YknnmDbtm2cO3duyf2ljq8W31oFgNftpprRHxZ4f+yrN8WvjE6xLzw8w1JHHQ8ciqIssi5+mRrt+7nepap3qC/vOhbDK7Cbpkkul3Nj0UulEqVSCVjofgyOYFoqldB1nVAohN/vX9BuIBBgzZo1bNiwgXK5zODgIFNTUzWt+cJy9KMf/Yh9+/YRCoX4/e9/z29/+1suXLiwSKBcu3YtGzZsYOPGjXR3d9PR0cHMzAw9PT2cO3fOjb333heNRnn00Ud55ZVX+O53v4tpmly9epU33niDjz76iFQqdc/jJ8ZGCB+maS4aO69l0DRNVFUll8uhaRp+v3+RV0MkEmH79u3E43EmJye5desW5XJ5kSAaDAbZsmUL3/ve9/jZz37G1q1buXTpEr/97W959913mZ2ddWOLt2/fzpNPPkkqleLDDz8kkUjU9H6QZZmmpiY2bdpEY2MjIyMjbniHEKa6urp47LHHaG5uZmxsjNdff52PPvqI2dlZwuEwTU1NGIZBPp+nWCwuEPwEf/h8PgzDQNM0LMsiFAqxd+9e/sN/+A8cPnyYSCRCb28vR48e5f33318g7FZDCF2qqlIoFNA0zRWYvOMVjUbp7u5m1apVJBIJRkZGSKVSC7wEgsEgBw4cYOvWrQwMDHD69GmKxeKS89/R0cHmzZvx+/1uRQxd113Brru7m2eeeYaOjg76+/u5dOkSs7OzqKrq0r5Uv2RZJhaLceDAAV555RWeeeYZTNPk0qVLHD16lOPHj1MoFAgEAjQ3NyNJEuVyeUE4iRDsAoEAfr8fv9/v8s3+/fsBuHjxIjdu3HB5WMDbhleB1dHRwQ9/+EP+43/8jxw6dAi/3086nSabzdLb28u1a9cYHx/n+vXr9PT0uHMXDAaJx+P4/X5mZmZQVdXlDdM0kWXZpVF4mpimyb59+/jrv/5rfvrTn9LU1ITf70dVVa5du+aGKo2Pj3Py5Elu3ryJqqpIksSaNWvYsmULqqoyMDBAMplcYEnv6Oigra2NYrHI7OzsIgUiOGFDkUgEn8+HqqoUi8UllYWCf3bs2MGf/dmf8Sd/8ic0NTVx9epV3nnnHY4fP065XMYwDDKZDLlczlWoikog1Z4q4ll+v59Nmzbxve99j5/85Cds3LiRwcFB3nnnHd59910GBgYAiMVitLS0UCgUyGaz7vwLHhPKQJ/Ph67rrodXPB5n/fr1bNq0iU2bNrlx/aOjo5w6dYqrV6+6e4mgS1VVent7OXXqFE8//TRdXV1s3bqVWCxGJpNZkSdCHV8uvjYKAK/VYCk3mGp4rRdeDbrf7ycSiRAOhzEMg2w2i6ZpS2r4qturRcdKXH+q21mOZuHSFA6H0XWdQqHgHr4eJiVFHXV8myAEhpaWFoLBoLse8/m8a4mqo45vAmzbpr29nc2bN7N582a3tJ8QXLZt24Zt225lAFmWmZubY2pqimKxiKqq+P1+fD6fK2i1tLTw3HPP8eKLL7J9+3ay2SxvvfUWb7755gJBW1EU4vE4L774In/zN3/Dvn37CAQCxGIxJElienqakZERJicn3YRT+/fv56WXXuLZZ5+lra2N9vZ2WlpamJ2d5eOPP0bTND799FNXYBPC1d69e/m7v/s7jhw5QjgcJpfLsXnzZjduNZFI3LVxQJKcLPgbNmygu7ubjRs3usJNe3s7W7duRdM0AoGA+yoUCoyNjVEul0mlUhQKBffco6oqoVCIHTt28NRTT/Hiiy+yevVqTp06xW9+8xsuXbrk9knQunHjRn7xi1/wox/9iO3bt6MoCpFIxHWH/+Mf/4iu67S0tPDUU0/xn//zf2ZycpKRkZGayfEkyYnv37JlC7/85S/ZtWsX77zzDv/n//wf5ubmXO+LHTt2cOjQIXRd5+jRo7z55ptMTk6iKAq7d+/mhz/8IZqm8bvf/Y6rV6+6LtHhcJi2trYF3gpnz55laGiInTt38qtf/YojR47Q0NCAYRhs3rwZ27YZHBzk/Pnzd5wTTdMoFAquFVhUZADo7OzkpZde4vvf/z6rVq1ifHycV199lY8//tjN1QDQ2trKSy+9xOHDhzlx4gRjY2PcunXL9WTxutCHQiGeeOIJ/vIv/5JgMMgbb7zBW2+9hd/vZ/fu3ezdu5f9+/dz8OBBWltbGRsb49KlS1y7do2+vj5u3LjB3NycqwTxQghtTzzxBH/3d3/Hj3/8Y1cI7e7uRtd1+vr66O/vZ9u2bfzJn/wJDQ0NnD17lk8//dQVroPBII2Njezfv59169YRj8dpaGjgkUceYe/evei6Tn9/P1euXGFgYICenh5u3brlCoe1FAmHDh3iL/7iLzh48CDBYJChoSFmZmbo7u7m0KFD7N+/H03T+Oijj5ibm2Nubo5gMMju3bv5/ve/j9/v54033uDSpUsoioKiKDQ0NLB27Vq2bNnC1q1b3TVtmiYvv/wyP/3pT+nq6mJ6eprbt28Tj8fp7u5m+/bt2LbNyMgIfr+fRCLB1NQUgUCAgwcP8ud//ufkcjn+5V/+hZMnT2JZlpvA8vDhwzzzzDNMTk7y9ttvc/78eTd+XcgRa9as4eDBg3R3d3Pt2jVOnDhBJpOp6RUiSRJbt27ll7/8JX/5l39JW1sbhmGwbt06YrEYuq4zNDTEpk2bWLNmDbZtE4lE2LBhAzt27HCVf5Ikoes64+PjJJNJbNumo6ODP//zP+eVV15h586dWJZFR0cHkUiEbDbL6Ogouq5z+PBhDhw4wK1bt/joo48YHh52FWzNzc10dXWxb98+otEoV69e5cqVK8TjcV544QWef/55duzYwdq1a4nFYvh8PsbHx2ltbWVqaoqxsbFFay6Xy3Hr1i3Gxsbo7Oxk/fr17vqqyzEPHg+9AkBRFMLhMNFodEGSHq/m3IvqRSdcF0X8UTAYpL29na6uLuLxOIVCgfHxcWZnZ8nn8wvaEtpQcYCxLAtd113No8BSjCzczERMjtDuiw19qfvC4TDt7e2sXbuWxsZGcrkc09PTzM7Okslk7noMvxC+5Wt0JQqe+/GMuz1c1jfPBwPhGrl+/XpisRi2bVMul5mZmSGTyXzpCoBgMOiW1fJaDL0udXfiDRvH+l/noDpqwbvnrVu3jp///Od897vfJR6PE41GaWxs5Fe/+hUvvPAC+Xze/W3L5/N8/PHH/O53v0NVVUqlEtFo1P3NXL16NS+99BJ//dd/zdNPP00wGHSfeeXKFT7//HMA1/q7fft2jhw5wne/+12mp6c5e/YsW7ZsobW1lR07dtDa2srk5CRNTU385Cc/4ec//zmHDh2isbGRZDLJ1NQUqVTKdW8Xv+Oij5Ik0dXVxZEjR/jpT3+KoiicPXsWwzB49tlnefzxx+nq6lqRcFmN/8/el343eSXpP15kydosyZvkfcFggzEGQ8weCAmBQCB7etLrdLpnPvQfM59mus/p6U46v0knaQgJmM0Ysxi8YWNsvOB9lWXJsnbJkmVb/n3gVOXqRQZDb+lu1zkcwJbe9773vbdu1VNPVZFDtGvXLnzwwQfIzc1FZmYmlEoldu/eDZ1Oh7GxsajvjI+P449//CMsFgscDgcCgQDbHOQ0/vjHP8brr7+OTZs2AXhMiR8dHcXY2Bi8Xi8zNvR6PY4fP453330XWq0WHR0dHOmvrKzEhg0bcPfuXQCAXq+H0WhEcXExjEYjNm/ejJ6eHnZ2xHURiUQ4v7+srAyBQICd5EAgwFHvhIQENDY24uzZs+jt7UV8fDxSUlKwadMmfPDBBwiHwxgdHcXQ0BAWFxeRn5+PvXv3orq6Gi+99BJSU1PR2toKh8OBhIQEnDhxAu+99x70ej3u3buH5eVl7N+/HxUVFWt6RysrK1haWkIgEEAwGMTS0hIWFhYQCoVgMpnw4YcfMtAEAAsLC/B4PBgYGOBIbFxcHNLT0xnQ8fl8KCkpgdlsfiIPemVlBUlJSSguLsaJEyegUqkwPj6O4eFhFBQU4NSpU9ixYwc2btzIIEReXh727t0Li8WCwcFB1NbW4tq1a+jo6Ih6FrHLwvvvv49Tp05BJpOhsbGR2SxbtmyByWTC4OAg389kMiESieD+/fsIBALIzc3F7t27sXfvXuzfvx8mkwkKhYLrdgCP7eeSkhIcP34cIyMjaGpqwpUrV9Da2oqpqSlO46CzSKVSoaqqCtXV1QiFQjh37hxqa2vhcrmwbds2VFdXY8+ePTCZTCgtLWUdkJycjC1btuCdd96BUqnk4pdUFO/gwYN4+eWXsWHDBpSWlqKxsREjIyMIh8M4cOAAcnJy0NbWhosXL6KjowOpqamoqKjAiRMnmC1jNBqRlJQE4PE5mpqaiq1bt2JlZQVtbW24d+8eFhYWkJaWhvfeew8fffQRNm/eDIfDgXA4jMnJSd6z9MxVVVX4+OOPsWnTJnzxxRfo7u6G2+2OWgsEcKWnp+P48eN47733YDQace/ePczPz+PgwYPYvn07pqensbS0hMrKSqSnp0OpVEKr1eLjjz/GsWPHmC2zvLyM2dlZnD9/Ho2NjdBqtTh8+DDefPNNZGZm4uHDh/B4PNi6dSu2bt2KsrIyqFQqLC8vY/fu3fjggw/Q1dWFyclJTE1NYWVlBZs3b8bx48dRWVmJ7du3IxgM4vz581CpVHjppZfw7rvvYtOmTVhYWIDNZsPIyAgDmjqdjmsCSPXFysoKrFYrxsfHUVlZibS0NOh0Otbx6/L3le89AEAbNTs7G8nJyew4k+KRivhzUvpms5nzaRQKBTIyMmA0GiGXy6FWqxEfH49wOIxQKMS5LPHx8VAoFEhLS4NWqwUApkFardYnFH4sUSqVSEtLg0ajQWJiIsLhMBwOx1Pb4cTFxUGj0cBoNLLBQBQjyjlbjzL+88g6DeofTxITE6HRaJCSkoKlpSXIZDL4fD7Oq/tr9bmlYmLp6elcDGthYQF2ux0ul+u52EGxPvW3ALvW5R9DRJCRilKlpKTwGsnPz4fBYIDX64XH44HH42EW3dLSUpReC4fD7Pj+4Ac/QHV1NVwuFxYWFqDT6ZCdnQ2TycSfV6lUKCkpwbvvvouysjLMzc2hvr4eQ0ND0Ov1DIoHAgHI5XJs3rwZr7/+Onbs2AGXy4V79+7h/v376O/vx/LyMkeoenp6+NxNTExEcXEx3nzzTbz++utYWFhAS0sL2tvbUVRUxKC7yBZ4ERHps8SUkMlkKCwshMFg4Lmj3G8xMh0fH8/FzLKzs/Hmm2/igw8+gEwmw/j4ODIyMqBWq5GXlwedTscAQFpaGg4fPozXXnsN+fn56O7uRn19PdLS0mA0GuHz+ZjaTu8aeGzfUM0AYiSIv19ZWWEKNtkgSqUSGo0mKm9/dHQUX375JcbGxtj5p6Jk5Ejr9Xqkp6dDo9EgLS0Np0+fxokTJ2AwGBCJRDA2NoapqSmkpaWhrKwMr732GlZWVtDQ0IDm5mYUFBTA4/Ew22QtEolEGDil9ILMzEwcO3YMP/jBD1BaWoqZmRmEw2FoNBrk5+cjPT2d6dM0F3QdAmOlQnuHUl/ouZOSkmA0GlFVVYWDBw9Cq9UywEG0dWJ5lpWVwWQyITU1FSsrK3jw4AFfPyEhARUVFXj11Vfx8ssvw+v1or29HR0dHaisrER2djZT6AFgcXGR0wU0Gg3UajUA4PTp0zh16hRHoJOTk5GUlMQ56EqlEjKZDB6PBwsLC9BqtXjllVeQn5+PjIwMnDt3jusD0DOnpaUhMzMTkUgEXV1d+OKLL3Dr1i1EIhEGe8rLy6FSqdDV1cVMk+XlZZ4nKjKakZEBg8GAkydPMoDhcDgwNjbGrPqbGWgAACAASURBVAuaI4fDgatXr+Ls2bMYGxuDSqXCxMQEswCIDUGAJe2tWGlKhw4dwqlTp5CZmYlgMAi5XI4tW7agqKiIAYCEhASUlZVh//79KC8v5z0g1RO0d3Jzc/Hqq6/i5MmTSEpKQnNzM27cuIH09HSUlpbCZrPB7XZDr9djw4YN0Gq1PK8bNmxAeno63G436z2at5ycHOzevRtvvPEGioqKMDExgevXryMxMRE5OTkAvqvhQPtWoVAgMzMTOp0OKpUKpaWl+OEPf4gjR44gPj4ewWAQIyMj8Pv9qKiowBtvvIHs7Gx0dXWho6MDPT09sFqtHJSdmpqCy+VCQkLCEzU9IpEInE4nzGYzwuEw1Gp1zD2zLn8f+V4DAITSq9VqdthjFTGRfod+R8aI1+uF1Wpl+qJarebNEIlEoNFooFKpkJCQwEqIqEAmkwmZmZlsbM/OzsLpdD41ZYBy4ZRKJSsyuVzOCLnf7+ccQKnQGFNSUjgPh/LFCAhYTwP428lfe55f5Prr7/7vK9L2QmJO3l8T0ElMTIRWq0VOTg6Sk5MBAMFgEKFQCD6f78/usR3LeFlfa/96Iub0Tk5OoqamBnFxcThw4AA2bNgAh8OBzs5OjI+Pw2KxYG5uDna7HW63G6Ojo/D7/VAqlVAoFJxDunnzZrz55ps4ePAgQqEQLl26hMXFRbz11ltMHSbRaDQ4evQofvKTnyA9PR2jo6PQ6XTYt28fCgsLYbPZMDQ0hNnZWSQlJaGiogKlpaXwer24cuUKrly5gv7+fmbkEMBPESeKoO7YsQM//OEPsXnzZgb1KSpLdQDE9lvPy9KKRCJob29nRsLhw4extLSEkZERdHd3Y3JyEna7nYuUWa1W9Pf3Iysri1OMFhYW2Cl4++23YTQaUV9fj5aWFhw7dgwFBQUMBgKPdQRFUl9++WUOHBQVFWH79u1ITU1FZ2cnhoeHeT6IIUnATax6Q1TPQKFQsL1Ev6Nq48BjZ7ejowO9vb0crKD6KH6/n8GOjIwMmEwmVFZW4siRI3j//fehVCpRV1eHe/fu4dGjR/B4PCgvL8dbb72Fffv2wW63IxwOY/PmzSgvL4dMJsPw8DC/o2cJpYpQAb+4uDhUV1fjww8/RFVVFcxmM86fP4+UlBQcPXqU7S3xnQYCAfh8vqgCfavl6ScnJ8NgMEClUvEcud1ujI2NYWBgAIFAAGNjYyguLsb+/fvhcDhw/fp1uFwu7NmzB3v37sUPfvADKJVKfPbZZ2hra+M2kbt378b777+P0tJSWCwWxMXFYfv27aisrAQAjI6OYmZmBgDgdru5FkBqaio2btyI0tJS/OpXv0JaWhrq6+sxMTERZWMvLi6irKwMGzZswMOHD9Ha2orU1FQcOHAAhw4dQnp6Oqd40HzEx8ejsLAQmzZtQlJSEoaGhvDo0SNm1mo0GhQVFUGtVsNut2N8fJzz6ik4RukWqampqK6uxr59+/DOO+9AoVCgqakJN2/ehMViwdjYGObn53HkyBFkZ2fD6XRiZGQEIyMjWFhYgFKpRE5ODnJzcwEANpsNFouFbXBieASDQWbyaTQa7N69Gz//+c+xbds2dHR0wOl0oqysDHl5edi0aRPXfDCZTDh9+jROnjyJjIwMzMzMxKwTQPtm48aN+PDDD7F//34OAJaWlqKsrAwajQa3b9/GjRs3eF0dPHgQaWlpcLlc6Orqwvj4OMxmM5xOJ5xOJywWC4aGhrBt2zZ89NFHeO211yCTyTAwMICCggIUFBTAYDCgtbUVg4ODnE5kt9sRCoWQkpKCgoICHD58GB9++CFeffVVzM3N4erVq+jt7cXk5CQA4N1330VpaSkmJibw29/+Frdv34bT6cT8/Dz7SdJ0ENEHo3oxBBATYLjOAPh+yPcaAJBS+UnREkou9geWVrGkzxK6Ss790tISI3/0uXA4zIaKeE8yTIgOBTxmJFBe0moLmIwnaiukUCggl8uxuLgYVXU21qFBynd+fp4R2OXl5agxrsu6rMvfR0j/iIaf1Fj+a4moUwgAWFlZeaJ/+V9K1nXNv67QGeVyudjoS0xMhNFoRH9/P37961+jpaUF4XD4CaNXJpMhJSUFarWaz7EDBw7g4MGDmJ+fxzfffIPPPvsMRUVFOHTo0BPnNxVjS09PB/CY5p6dnc2O25UrV3D37l0EAgGOvFFLwu7ubjQ0NKwaFaYIsFwuR1ZWFjIzM7G8vAyNRoN9+/YhOTkZCQkJqK+vR21tLcxmMxdBfN75C4VCGB4eZoZOcXExDAYDrl69ik8++QQOhwN+v5+BO2IPqVQqmEwmjgIWFxfjyJEjKCwshNlsxieffIJHjx5hw4YNMJlMbI8Aj3VEdnY2SkpKONK2ZcsWVFVVISkpCf39/bh8+TK6u7vZYCdnOCEhAR6Ph4vQSYsPxsfHY9OmTdi+fTv0ej0/p5iCtLy8jPn5+aj5F/WIy+WCx+NBYmIip3G88sorSE5Oxvnz5/Hb3/4Wjx49gs/ng1qtxp49e2A0GhEKhaBWq1FdXc2R6paWFly/fh1TU1PPBGgoYq/X6znfWqPRMF19ZmYGX3zxBb755hvs378f+/fvj3p+mUzGzg61PnO73XA4HFF2IDl8SqUSpaWlKC8vR3JyMjueVquVqdfUbeH06dOorq5GMBhEc3Mz6urqcOPGDfzyl7/EoUOHcOzYMdhsNoyOjsJut0Oj0XCBy3A4DL1ej/379/M4a2trcePGDczOzgJ4DAC43W5EIhHk5+fjjTfewKFDh5CTk4Oamhr813/9F2w2G0wmEwwGA5xOJ3JycnhvjIyM4JtvvkEgEEBHRwc+/vhjbNu2De+88w5mZmZw69Yt+Hw+ZGZmoqKiAgUFBXA4HOju7ua6HkajEUePHsWxY8egVqvZGae5Iyab1+tFQkICiouLkZWVhYMHD0KpVOLs2bP4/PPPOR1CLpejrKwM27Zt4xSX8fFxvl5lZSXeeecdlJeXM6OB2DTEACG9k5CQAIVCgbKyMgbOqAZEJBKB0WiERqNhQIiAo7feegvFxcUAgNnZWbhcrphrISkpCRkZGcjMzEQoFEJycjKqqqr4eh0dHaitrcXdu3fh9Xo5dWrfvn14+PAh/ud//gf379+H3+9nVgeJwWBAUVERMxg2btyIl156CfHx8RgaGsKFCxdw//59ZrwQSCGXy7F7927s3r0bR48ehdVqxe9+9zucPXsWNpsNoVAIOTk5bO+Mj4+jubkZvb29MfeXtFYa+UBiC0mqi0IpjOvy95fvNQAg0kjoD6HJYh9g0YCQHgRUkZiuQ8W61Go1tFotQqEQ02/E1i9ib1axL/CzegOLYyF0fGlpCQkJCWvqfbmysgKfzweHwwGlUomUlBQEg0E4HA5uDfS8kQi67p8j4ryudtj+M0UM/9Z06FiR46fd+3k/vy5rF+m7f56Co3/tMVFPa4oUPK038PNee339rAsJrQWK7LlcLo4kOp1OLhQnXXdk8KakpCApKQlerxc5OTmoqqqCVqvF7du38cc//hFtbW0wGAxsiBOgv7y8DLVaDZ1Ox9ckAP7Ro0dobm7Gt99+i+HhYQCPHYfp6WnMzs5iw4YN2LdvH9xuN4aGhjAzM8M9p4HotmkiE5B6lhMF+9atWzhz5gzn6L5oSg8ZuYFAAHa7HfPz81Cr1ZwTK2UR0r9VKhWMRiMXGtu+fTt27NiB6elpnD9/HlevXoVMJuNCi/Q5AFwwTYxca7VauN1udHd34/z587hz5w58Ph8XGKSe5ImJifD7/XC5XFFsIsrvzs/Px9tvv43XX38dGo0GwHc1SWJF/2LZA4FAgCnM5eXlDF6cOXMGv//976M6OyiVSqSmpiIlJQUymSwqleDOnTv405/+hKamJgQCgWfqLpFZmZycDLlcjoKCAs75r6urw7lz59Db24vt27czO5TmkWw+qgtFAACxTEQdvLy8jIqKCpw+fRq7d+/mMcjlcoTDYW5NNz8/D6PRiMXFRWYIhMNhzM3NobGxEQqFAvHx8Thw4ACqq6tRX18Pu90OpVLJVGqxxeb8/Dzq6+vxhz/8AS0tLfwOFxcX2QbetGkTcnJyuJvGb37zG7S0tEAmk2FmZoafgdpUxsfHc0DKbDbj6tWrSEhIwC9/+Uts2bIFR44cQU9PD3w+H3Jzc7F582bI5XJ0dXXh4cOHcDqdSElJwd69e7Fnzx7k5eUBALPWRJubKtMvLy/zdRISEnDu3Dn85je/4Zx/4Luq9xs3boTf70dHRwcGBweRkJCATZs2Yf/+/di+fTvUajWzNsTOCpFIhIGk5eVlpKSkcD2EYDCIq1evoq6uDiUlJRwxJ7CgsrISb7zxBjZu3AgA3F0iGAxG7QNarwqFAikpKdBoNFAoFJzCHA6H0dLSgj/+8Y9obGxk8GBubo4ZfWJRTqmPo1AoYDAYopxpet6RkRHU1NTg2rVrmJ6e5s+EQiEEg0GkpaVh+/btiI+Ph8Viwaeffoovv/wSZrOZdcLCwgKPpbCwEK+//jpUKhVmZmaYtSTqRnG/i+CKWGwzEomspzB/j+R7DwBIqbWRSAThcBhutxt2u/2JKDzl4dB3qaUGOc7BYBAWi4VRtoWFBTidTvj9/qjFLObzSBe2+PdqYxZZCOL4n3VQrayscGHCQCAAlUqFUCjExtfzzN1a7rdWkQIbsa7/93Ig/poOzN8C1KC1Jt7naQ5drFyzP1dizeHfE9BZbQ/9PccTiyIv/vlzrg083/pd61p5nmv9MwF46/LniwgCiO2uyGGhz0jXjUajgU6nY2d769at2LlzJzweD65cucLFtoi5Qs4nGYtpaWlITU1FJBKB3W6H2WzGwMAA6urqcOfOHT6/gcfU4c7OTty9exdGoxFvvPEGtm/fju7ubvT19aG/vx/Dw8N49OgRR+8SExOh0+k4NQ94XISQ2rDdvHkTnZ2dWFpaemHnn3SCCDgQa0cMXsQSchZWVlZgMpmwe/duFBUV4cKFC7h8+TIcDgeysrLYeSZWEADO7zUYDBzc6O3tRVtbG5qbm9HR0QG73R7l6Ol0Ouh0OiQlJcHn83Fve+A7EKO0tBQfffQRfvaznyE9PZ2NeLlczpXJ18KGouJ72dnZkMlkWFlZQW1tLb7++mt0dHSw0xQfHw+DwYCMjAym0A8NDWFychLt7e2or6/HvXv3nqi+L86/+AxUP0Wn03FdqV27dqG8vBzT09O4cuUKenp6AHzXcYqKONO44+Ie1y4wGAxYWVmB2+1+wm5Uq9XYvn07/vM//xOvvfYas1ioq4VCoUAkEmEKtXjOxcXFMZU6HA6jsbERqampKCkpQVlZGcrKynD//n2un6BUKuFyuTA6Oorx8XG0tbXh1q1buHfvHnflIFuB2Kc5OTkIhULo7OzEmTNn0N7ejsTERA5u0XqNj4+PApHIabZYLLh69SqKi4vx4x//GHv27MGFCxcwNTWF1NRUZGVlIRgMoqurC4ODgwCAAwcO4Cc/+QleeuklvtbCwgIcDkdURJvmJTU1FSaTCfPz87h58ybOnTuHhw8fRjHdqJVoSkoKZmdn0dnZiZmZGeTm5uKHP/whTp06haysLN5v1IaQhN6HUqkEAGRnZyMnJwebN29GX18fLl26hP7+fu6eEQwGucMCUfltNhuDZ8QOoX1FzOPExEQYDAZ+XwAwMDCA0dFR3L9/H7du3UJjYyOWl5f5O7QnlUolpy6Ja0Rca+np6ZyOYzab0dnZie7ubrS0tODevXuwWq28ByiIurS0hOzsbADA1NQUrl+/jvPnz7PzT4Df7OwsmpqaUFFRgZdffhn/8R//gZdffhn9/f0YGhpCf38/+vr6uK0krSGxBhvNBeleCoj+teokrcvzyfcaACChg5QUQCQSgdfr5YItUtRJ/B5F4cWifYRCr2bUi5tXBCDIeKA/4kKncYkKlP5IjQH6vpSpQBKJRODz+aLaz4hGuvRwo/+L6CPdh5Bzsaeu+Nm1CkUZCM0jJUEKSjo+cczSf7+ISOeOnomAnbUgi/QOxLGIcya+WwCsrESl9qIidRJpzYjPREVUqBAQgJjPJKa1UFVYMspfBF2l64i9kQHwmllLwUvgO2ORnlfaflMK5q1mBNP6pWgipc3QXhbH9JcWMqppfkX9IeZ9ioyktdTkkD4T6Q/RGRD3kSji2qdriMCDdN2SHnza/NI7oKJe9O7IQJce4uvyryni2UYGrkKhYMdICoDFxcWxc63RaKKKyjU1NaGpqQk+nw8qlYqj1kQJpTWempoKg8EAh8OBS5cu4caNGxgcHMTIyAicTiePjdb+9PQ0zp07h+XlZRw6dAgbN27E6dOncezYMZjNZvT09KC3txddXV3o6emB2WyGUqlEZmYm4uPj0dLSgt///ve4f/8+ZmdnY7azIokFvsbaIyJzkBwsKsYm9rmXBgzIYaA0n/Lycqb+NzQ0oL+/HwA4NZB0As2lSqXiNl09PT04d+4c7t+/j4GBAUxMTESNj2yqtLQ05ObmQiaTwWazcUoHnfm5ubn42c9+hg8++AAKhQK9vb0IBALYtWtXlG5eTUR7hRiZpG+mp6dx584ddHZ28rhIV6akpCA1NRVKpRLd3d345JNP8ODBA5jNZkxNTa16JkuDN7S2UlNTodFokJCQgMLCQmRkZAAAmpqa0NbWhlAoBIPBEOUA03fJQTOZTDCZTAiHw7DZbMw+oPtt27YNv/jFL/Dhhx9iYWEBnZ2d0Ov1DLBIA0iirUn3ofnyer3o6+uD1WrF1q1bUV5ejqysLGg0Guj1eshkMrS0tODLL79ET08P57kD4OvQuguHw7xGXC4Xbt26FcWeEN8fPTudJ+Q80pqemZlBb28vrFYrd4948OABZDIZVCoVfD4fBgYGEA6HsXPnTq5iHwwG4Xa7kZSUxLW5xHM8EokgFAqxbhkbG0NdXR0ePnzI653GSk6yXC7negcKhQInTpzAT3/6U2g0Gng8Ho7wh0KhqLSUxMRETs3VarWorKxEbm4uvF4vrl27hnv37jEYQ7ZMSkoK9u/fj1OnTqGwsBBXr17F5OQk9u3bx20saU3q9XpkZ2cjFAqxPlOpVBgeHsb//u//orGxkVvnke1Pf5OjTKwV0VcQHXSxVtjY2Bj+9Kc/oa6uDiMjI7BYLFGdgajuibSDWW9vL27duoXR0VH+mbgWGhoaoFKpuB5HVVUVXnnlFa7D0tPTg56eHrS2tmJgYIDni9YNgZ9arRaJiYnwer1wu93r+f/fE/leAwBSB1LqMFPu2fMYqbTxqSIvoa2EepNSoA4BUqUsk8mg0WiiDB5ySkKhEGQyGUdKlEolO2i04MkgEg9OAiUIDaUxUj4iKXFCIYHvWhTSc5CSC4fDfG+tVsttDAldDQQCnEtEiuBp0U0as1qt5kqxdHhTX13KY1xZWUFycjIUCgXPC7XaedENT7l7KpWKaW/iobywsMDPJXZxWO06SqUyyrGj71A/XKVSyUWV6J36fD7Mz89HKdS1SlxcHBtzYlXghYUFLC0tRc0tFeCh9ej3+5lmRUZNUlISNBoNRxPoHdE4xXexGvtEBCJkMhkXmKRnp/VClNj5+Xlee+JeoGuR4apUKvn90HokiioVBSOjIhQKwev1PpHTBjxebyqVCkqlEiqVig9xckLENSfmmL3IuyER1xndm+Y8GAzyGluNARQLAKOfE8VYrVZDqVTyvqa1MD8/z++b1q9oINLc0XWk96e1S1RpcthozUojY2RYqFQqLopF7zEcDvOzBoPB59av6/LPJeSMhUIhboclFoETP0OGMlUbJ+NaLpdjeHgY9fX1GB8fB/Bdlx3RoKU+8qmpqVCpVBgdHcWlS5dw/fp11pcUlU1LS0MwGOTo09DQEH7961+jvr4ee/fuxY4dO5CVlQW9Xo+9e/di7969GBsbw+eff46LFy9ymsHk5CS++eYbXLlyhXvV09jIaXM6nZybTLngIgD4tLkDwCxEj8fDXYEUCkVU7j2BBGKRLOpY5PP5cOfOHbS0tHBeNwUnxMrbwGMAgObm9u3bOHfuHCwWC+vhSCTC1b8XFhawsvK4S0FqaipCoRBX9AYAnU6HDRs24OjRo3j//fehUqlw69Yt1NbWorCwECUlJXyOis/8NN1IOpyiqi0tLWhqauIOBvT5SCTCjjN1gbh48SLMZjPbH5QiKZPJOMIrDZCQxMfHs44kcIFaFV67do0jpfSO6QyLRCJRAIDBYIBarUYwGITVauWq8unp6SguLsZHH32Eo0ePYmFhAd9++y1aW1uxb98+HDhwIKpYIl2T2Btiu2m6NwDMz88z6KXT6bgLRnJyMiYnJ3HlyhVcvnyZWxXSesjKykJcXBzT+smGAIDOzk40Nzdjdnb2CQo3/U02sljwlsZGDNxgMIjc3FzeJ1qtFhqNBsFgEIFAAOXl5Th9+jQOHToEj8eD27dvw2Qyoby8HMvLywgGg1HOqPS93bt3D42NjbDb7U/Y/3K5HBkZGUhMTITdbodWq8WJEyfw7rvvIjs7Gy0tLRgeHsa+ffu45oOY1kKgC9nr+fn5nEJx4cIFrrJPQTO5XI78/HyUl5cjLy8PPT09+Pbbb+FwOFBcXIz8/HyYTCbI5XLMz8/j8OHD2LVrFyYnJ+FyuaDVamGz2XDt2jVcuHABQ0NDDAhRSodarYbX64XX6+Wq+QSiiutYTC2gNKqmpiZ8/fXX6OvriwIulEol9Hp9VPoDyfT0NO7evcvMF6lQ2nJdXR3a2tq4ewV1ccjLy0NVVRUsFgsuX76ML774Ao8ePXqi/kpmZiYKCwsRHx+PyclJzMzMrAMA3xP5hwEApD9/UaNULpfDZDIhKyuLETGXy4WJiQn4/X5ulUPOv+jwkvO/YcMGhMPhqBy/2dlZ2Gw26HQ6FBQUcJSEvk8HCbUVFKtmLi0tYXJyEtPT0wxCUPcBhUKBhYUFuN1uPsiBx4dfeno6MjMzodFo4Pf7MTMzg1AoBJ1Ox0aUmH9DzpPdbofVao3KX1ttrohmRC17RFoY9Xf2er1c0Eiv1yMrKwuJiYnw+Xyw2+3c3/RF3hXRAPV6PT8PgCeKOvp8PszNzfE4pE5hQkICVCoVCgsLodFosLy8zC2swuEwUlNTkZaWxhFnERxyu92w2Wyw2Wyrdm9YTcjYoHY1cXGPC2s5nU6mFOp0uijnmA5Hl8sFs9mMubk5pqxlZmYiLS2N81cBcJ6e1+vF3Nxc1LslkYJpiYmJUKlUyMjIQHp6OtRqNT+7SBskR3Jubg42mw1erzdmpDo5ORm5ubnQ6/WcT2uz2eDxeKDVapnKSYaP1+vF4OBg1D6gMZlMJqSlpTEgQUY3RSBCoRBcLhdmZ2eZhvkiQtEmiiZkZGQgNTWVc0RJz9A693g8cLlcvJ+B6IKjUmCEjElaW/SeycCkz9P6nZ2dxdzcXFRkRKFQcLEyMliIpUE0VaPRCL1eH1UXIBAIYHx8nI1HMt4UCgVSU1ORmZkJrVb7RISBwEYaDxUNWqfs/evKysrjujRTU1MIBALYtGkTdu3ahb6+Pvj9fmzYsAFVVVXw+/2oq6tj43NpaYn3UWtrKxobG3mv0l4XjVsCOClaNjk5CYvFwo4dAaknTpzAzp07MT09jaGhISgUCszMzKCxsZGjyQUFBVEt1w4ePIiioiLMz89zO0GdTodQKISRkRHMzc3xnktJSUFVVRWOHDkCr9eLuro6tLe3c+Eso9GI2dlZDAwMcMG8p9kqS0tLsNvtGBkZQXFxMbZt24by8nLcvXsXSqUSe/bsQUFBAZqbmzE3Nwfgu2ggtUu7e/cuhoeH+T7kMNL5TvqHwJmFhQWOMFIF8Pj4eFRWVuLQoUPIzs5GbW0tV5Yn8JDON5PJhOPHj+PIkSPYv38/8vLycP36dXz++efo7OzEe++9x1ReKeAZS0SmA9kjTqcTDx48wMjISJR+IX1KoD9FnclxkMlkMBgM2LJlC1577TWEw2Fcu3YNHR0dT9RZEm1FiiIvLy9zDYU7d+6gtbWV7SoCRwkUFZ+NrkH6kqLqJSUleOONN3D48GG8/PLLkMvlqK2txaeffgqn04mKigo+uwj4JSef9C11o9q2bRuDr5QLn5+fzwEfchYVCgUCgQDMZjM7qwkJCUhPT0dZWRmOHTsGu92Ob775hpkmcrkcc3Nz6O3txdjYGL87KagtBkcobaC6uhp5eXnci3779u0wGAzcOpIKLBoMBo78Hz9+HMeOHYNWq8X58+dx6dIlVFdXo7i4mFkGUtYqzY/P58PIyAgmJib4XBNFq9UiKysLOp2O20iWl5dj165dsFqtuHDhAiwWC4qLi7Fx48YnGLei3qEz+eHDh7h06RKn/9B+oPZ11BlicXERjY2NaG5uhsfjweuvv46dO3fi5ZdfRk9PDxYXF/GrX/0KBQUFqKmpQV9fH3Q6HRYXFzExMQGbzcZ7XKlUorCwEKdPn4ZCocD169fR39+P8fFxRCIRbN68GRUVFXj06BHkcjm2bt2K3NxcDsyQbWSz2TAyMhLVurO8vBxHjhxBVlYWbty4gfb29qg5npqaQl9fHywWS5R9vrKywnVb5HI52tvbMTo6isnJSTx48ABGoxEFBQU4cuQI3njjDZSVlUGn0/EYaI3QeystLUVFRQWWl5cxODgIu90eU0esy99evtcAgHTT/yWEopHkqBDCl5SUhPj4eK6wSgePSKsmRE3shwyAo/dUXDA7OxtKpZJp6fQ35aGJThZFWt1uN7ezkclkUKvV0Ov1UCqVHNElRU+f0Wq17BiL9DLK6aMcOzLGQqEQMxwoCu52u2Me2mSI5eTkMCWRIrw0j+Qc6fV6LjSkUqmg0+nYWVlrj15RCIFOS0tDQUEBdDodgzFiRwaa14WFBY5mKpVKTE9Pw+PxPBHxFlFqAlq0Wi2Wlpa42BChq/Re5HI5H3AAYLVan6vdmrhmqLAVorQsJAAAIABJREFURcuTkpKg0+mgVqujaPHhcBhJSUkchQYeK2Wj0Yj8/HxotVp2IikSFQ6HmeZF79bj8cSMUhHN1Gg0ci9pYihIAQCxdQvN7dzcHLMhaH1RizqDwcC9hKllUWpqKgMM0nxDEpoLk8kEo9EYxV4hp5ZAn2AwyOwAi8XCDJoXEblcjrS0NGRnZ/N+o3dOxirNsU6ng0ajYaaPKLEMWHLO8/LyoFKpmNVD+5LmORwO89pWKpUYHx+Hx+MB8Nio0+l0yMnJ4eenuaV51+v1UelGABgIopxtcv5NJhNycnKQmpoaVfxLTBsIBoNcJE0ul2N6ehput/uF5ndd/rGFHBefz4ehoSEMDw/jzTffxL//+79Dr9fDZrOhqqoKu3btwp07d9DR0cHReop2Tk9Po7GxkenrAKKYWnTe0Z6jc1GtViMnJ4ejtUVFRaisrMRPf/pTlJaWoru7G9u2bUNJSQlcLhfOnz+P3t5e7nVN0TMCEQEwdZoM3uTkZGRkZCAnJwc2mw1paWnYuXMnPvzwQxw8eBAtLS1obW0FABQWFuLkyZM4cOAApqamcObMGVy5cuWp5wHpAsrFP3z4MI4ePYpIJIItW7YgIyMDx48fZ8r37du3mTUHPC4w1tbWhvb29icK8xETjvQ36Ur6XGZmJrKzs2G325GSkoLCwkK89dZbePPNN7miO7Xnm5ubg9/vR15eHo4cOYKCggJ8+OGH2LBhAzweDy5fvowzZ86gubmZr08671ngoNSOo89T/vrs7OxT0yooLSQ7OxszMzMwGo2orq7Gu+++i4MHD+LBgwcMZDwLiBHzj0dGRtDS0oKpqSkeJ6UUxsXFMUtKPJsJBE5NTUVpaSlOnjyJyspKvP/++zAajXA6naipqcFXX32FlpYWLuZI+0ia2kdn7PLyMjIyMvDuu+/i8OHDrOMNBgPKy8vh9/sxNjbGLByaFwrOBAIBZGVlYf/+/dw2sba2FtevX+daWXFxcXA4HHj06BFmZmZiBn9ovS4tLcHn80Emk2HXrl0wGo3MtllaWkJhYSGKioowODjIHQ0InFCpVHjzzTeRm5uLxMRE1NfX46uvvkJXVxdycnIQDoeRmZmJjRs3ore3l3Pzad4XFhZgsVhgNpvZfpTacomJidBoNPD5fNi6dSt27doFmUwGp9OJs2fP4vLly1Cr1XA6nUhKSkJBQQHy8/O5kDalkJJMT0/j6tWraGlp4U4BdDbHxcUhJycHwGNGwJUrV3Dp0iVMTk4iFArh4cOHOHnyJI4cOcJ2XVlZGcxmM/r6+mCz2dg20+v1yMnJwejoKAwGAyoqKnDy5EmcPHmS05Xa2trQ39+PyclJ7Nq1Cx9//DEyMjKQkJCAvXv3Ii8vD1euXOFinisrKxy4pPSI/Px8vPPOO5yK0tfX98Q7np6ehtlsjmLfAI+Di9XV1fjFL36BzMxMNDQ04Pbt25ySTLapaAORvUY2HdkjWVlZqKysRHp6OgYHB9Hd3Q2/3/9CnVXW5S8v32sAYDWR5hyKQkqEnAapiNRaKt4hGs5LS0tcH0C8F20asRMAXS8QCDCKSxVTycAXxyhGFOn75GiK9HJ6BmnOe6znpGggoeIUdSTKkzgf9NyUB0eRTdFJpw1O7UXS09PZQRBz4qXvgOjzNG76+Yvkz1MhI+plKt6fFB7NH707cqAokj4+Po5gMMiGplgtXXSWkpOTo2iu4nzROySnjQCH56EwkTEr5tSJqRQJCQmYn5+PApnEaK3RaOQWVwaDgQvDEKWTaH/kcBIdjyIL0uh4fHw89Ho98vPzkZmZyYWpxAIu0kq2BL5kZWVxZMRqtUYZXLQnaD0mJCRAr9czxY0caWpnSU4COfYpKSnIzc1FVlYWU4NpbdJ+ESseKxQKpKenMyA0MzODYDC4ZmYQ7Zn09HQUFBQgLS2N3w/VU5AWBaU80sXFRQYyRF1Dnxdza/Py8pCens7PT1V4KZ9aLExG75f2GaV/EC2f9pV0jRJNn/Yj3YfWAPAd6JOXl8cA3crKCkeaCJChPwQwiukyf05F9HX5xxU6s/r7+3H16lXk5+ejqKgIP//5z+Hz+aDVauH1ejE5OYmFhQUEg0FmYfl8PjQ2NuLhw4dsTAOPqc0WiwU+n4+Nc2pBNjo6CpvNhqKiIrz99tu8N1966SXs3r0bGRkZGBgYQFdXF3Q6HQoLC1FZWYm0tDSYzWZOa9JoNMy8CQaDGBkZQV1dHYaGhmAwGDA6Oop9+/bh7bffhl6vx9zcHLZs2YK9e/diw4YNcDqd6O7uxsTEBHQ6HXbv3o2DBw+iqqoKOp0Ozc3NTwCB0nkjHRoKhdDc3IytW7cyLbq8vJyjuc3Nzdxf2+fzsT3Q29uLhoYGDAwMRBnMbreb2QK5ubnIyclBW1sbZmZmMDU1hZ07d+LAgQPw+Xyw2WzIz89HdXU1R6Nv3LiBoaEh+Hw+OJ1OjI+Po7q6Gu+88w527NjBoP7AwAAuXbrERfIcDgcXtqNnjJXGJZ0H4Dt7IBgMck62eEaLQvT16elpFBUV4fDhw5ifn4fdbkdJSQkOHz6MiooKWCwWtLW1YWxsLKa9Jf47EAhEdbW4c+cOhoaGou5J7ejm5+eRlZWFkpISZlTExcXBZrNhYmICxcXF+Ld/+zecOnWKgaampibcuHEDNTU16O3tRSgUQlZWFgdf6I8opGsJ0CVGJ50JSUlJsFqtaG9v51ztrKwsuFwubNmyBSdPnmSbYMuWLTh06BDXjOjo6MD09DSDQtR28GmpXTRfNJcUzaXCkqJN+vDhQ1y5cgUdHR3weDyYmprC0NAQqqqqUFBQAKfTiaamJnz++ee4fv06FhcXuVVeSUkJdu7cidu3b8Pj8XCQisAvSomTnjc0ZpfLhUePHnFLyri4OAwMDOCbb77BmTNn0N3djYqKCm4nuXXrVpSWlmJkZIRZn16vF06nExkZGairq0N9fT3PF52tc3NzGBsbw+7duxEKhXD79m18+umnaGxs5KBDe3s7rl27hpMnT2Ljxo2Yn59HT08PvvnmG+7YMT4+joqKCrz66qsIhUIwm80oLCzEgQMHeJydnZ0YGhpCIBBAd3c3Lly4gJSUFI76Ly8vQ6VSwWw2Y3JyErOzs5idnUVcXBx27dqFH/3oRxgdHUVmZiZeeukl7Nq1C8nJybh58yaGh4c5bWNhYYHTS6W2P71/jUYDg8GArVu3Ii0tDRUVFQgEAhyk0Gg0zB51OByoq6tDQ0MD7xPq5rJjxw5s27aNz4He3l7WF7FSddblbytrBgBi0bxE5frXEik9iSQhIYHzuaT0Zjp0yZAXHUbReBafiZwpn8+H6elpLlKUkpLC+Y4UbfZ4PAiFQqwkKZ+Z0HQqSCKXy6HRaDjnl3Lm5+fnow4CaS9l8eBajQUhfQfkzJJj73K5eEwU+aYoAUWgKb+QcqlpHjQaDfLy8ph2TI6vmK9MThC1U6Rri472i6yLxMREZGRkoKCggKOUhDpTbjzl7SsUCs6rJseTiiAtLCxgfHz8mZEFinjPz8/D4/EweEM1FIgZQs4fUfOl+WvPEqlRQuOdn5+Hy+XC/Pw8z6dKpWLGAUWoCNmNRCLweDzw+Xz8bsU1Fh8fD7VaDZPJxOtULOJH82M0GtnRJhCKDHda25TLS1Fiyr0lp1NsnUnvXdx/BMbQ2qeoBrXNEWmueXl5DDAA4Hdtt9vZQKCcN51Oxy18KDoeDofXDMzQ3ifQQQS5yOGmfUo0T41Gwzmk4joX/9Bc0rUJQKPIPekJt9vNhhXldarVat6XWVlZmJ+fx9TUFMLhMKcdEG1azNsnQ4ZAJJFVJB60BPqkpaVx9IPeIVVjpuroxISg6KLJZGKQU4yOrMs/v4gOgdvtxqVLlwAAx44dQ0FBAUKhEIaGhtDU1ITLly/D5XJheXkZ/f396O/vh9frRU1NDUZHRzmtivaJxWLhHFpKSZmcnMTDhw9x//59psYeOHAAcXFxnJ7T0tKCzz//HHfu3MHGjRshl8u5iF1+fj7rT4rojo+Po7u7Gw0NDWhpaYHZbIbb7cbdu3exbds2HDhwAKWlpYhEIsjOzkZiYiIGBgZw7tw51NTUwO12Y8+ePXjvvfdQVVWFSCSCBw8e4NGjR89MP6J9Eg6H0dvbi88++wxerxfV1dVQKpXweDzo6OhAfX09Hj16BK/Xi+npaYyPj0OlUuHChQu4c+fOE0y6+fl5TExMwOVysSEOPO5H3tLSgs2bN2Pnzp0oKSmB0+lkIGRubg6XL1/Gp59+isHBQY4Etra24vDhw8jMzMSWLVswMTGBuro61NXV4dq1a5icnIxqd0f2AgG6a11LYv0bMQ1KKpFIBCMjI2hqasKWLVtQVlaG3NxcRCIRZGRkIDk5GVNTUzh79ixqamowPDwcdc6JThzZD1NTU+jt7UVRURH6+vpw5swZTE5O8tgIAJiamoLFYsGmTZug1+ujiqsODg6iubkZu3btQlFRERYXF/HgwQPcv38fNTU16OjoYIo37RsCSaTpblSvidr5mc1m3LhxA2NjY1H27fDwMNrb29Hf34/FxUUMDg7i5s2bMJlMOHjwIEpKSpCYmAiTyQSZTIaenh58+eWXOHfuHOx2OwwGA7csFINYTxM68xITH/epJwYKsUcXFxfR2dmJ9vZ2TE9PY3l5GW1tbfjqq684WHH37l386U9/YoAAAIaHh9HT04NIJML2gwhk07goGBFrbSQkJMBut6OmpgYqlQo7duyA1+vF2bNncfXqVfT39yMSedxB5OHDh9iyZQtmZmY4VYfsru7ubpw9exY6nQ61tbV49OhRVMHD+Ph4WK1W1NfXIz4+HoFAANeuXcPNmzfh9/t5zVCBysnJSWRlZcHtdqOtrQ2dnZ0YHR2FQqHAvXv3sHv3bmzatAkmkwlLS0tIS0uDSqWCy+XClStX8PXXX3M+vs1mw5kzZxAOh/Hqq68iNzcXoVAIHR0daGhoQF1dHWZnZ9HV1YWhoSHs3r0bv/rVr2C1WmEwGPidX758ma8rFvgVA5Ti/gQe65be3l5cuXIFgUCAHX5KFZXL5VhaWoLL5cLw8DDa2tpw+fLlqFQamUyGrVu34v3338eOHTvQ1dXFoONa9cW6/PVlzQAAIZUUsRJzl55VDOfPEdEBpgOIaLHk4EuBCHJAqEiQWMBN6lCLEdeEhAR4vV6uREqGthglpRZ9dPCTkUEHIeVlETWXohGkWLxeL2w2G6ObNGaqjCtG4sSxSgEL6bPQ74PBIJxOJ6xWK9OdkpKSkJ6ezrUN6PparRZarZYp3RT91+v1HHUh559aEdrtdni9Xj68UlJSkJaWxspMqkClz/E0oWh7ZmYm0z4JeKAiVITOLy8vc+42fZ7WJlV4FvsZS0Ef+jdFWmdnZ+F0OjlKoNVqOf1BzNkmpsPzpAFI3xWtJb/fj9nZWTgcjiiH0Gg0Rt1XLA7ocDgwNzfH/a0pEp6ZmQm1Ws3OKEXAnE4nvw/KR6fWMaLDSzn1tP5pLJQXT89PkeT09PSo6Lx0fkXjzuv1wufzIRAI8D4RC97RehOdWo/Hw3U1iJGTmJjIhrBYvd5gMHAkiwycp8nKygrPm16v5/QZWudOpxN2u53BEAIaaC4IpBCvJ67z+Ph4Bo7EPE8CB+fm5niOSQ+I9RySk5ORmprKiD3Rc2UyGTIzM6FUKqMYSfTuxFxkiu4DYAZHYuLj3r7EEPH5fLBYLLDb7VyYi+h5Yj0ISu1wOp0vVAhzXf7xhRx3m82Gr7/+GgMDA9xSzGq1ctSeCt41NTUhEolwFFBK5QUAi8WC69evw2w24/79+5xmMjo6ipqaGiQmJmL//v0oKioCAIyPj6O3txc1NTW4efMmJiYmMDU1Bbvdzl0HUlJSOLUvGAxy5fGxsTGu8wMAfr8f9fX1yMrKwsmTJ1nv+nw+3Lt3j/uAT0xMoKioCKdPn8bevXvh9/tRU1ODzz77DG1tbc+MfovzFwgE0NraCofDgdu3b0OtVsPv92NgYABTU1N8rampKVy+fBl37txBQ0MDLBZLlE4jRkF7ezvOnj0LpVKJ0dFR1jNNTU3cOq+yshKZmZmIRCLo7u7GxYsXuRUjic/nQ2trK/7whz+gqqoKVquVW3wNDQ3B4XCwviEdLTKknud89/v96OzsRE1NDaxWK0cwpfYj5TXX19fDYDDg9ddfR2ZmJnJzcxEMBnH9+nVcvXqVo5tSG1TKfFxeXobb7caDBw+wtLSE/v5+blMntR8tFgsaGxths9kwNjbGc0/r+fbt29BoNNi8eTPsdjuDQYODg/D5fFH55mJghWwpAFEsSQKIJycnUVtbi3v37vE5EB8fz7WdqIbA7OwsGhsbkZubiyNHjsBkMjHL5datW7h48SIaGho413phYQGTk5Nobm5mm1jKliARz3G5XA6/34/m5mZ89tlncLvdDOgDj9vOkV6Ii4vDyMgIzp07h9nZWeh0OnR1daGjo4OZeTKZDIODg/jqq69gMBjQ0dHBtZAo+Nbb24vLly/DYrHAZrNFpWSKa8Pv96OhoYFTALxeL5qamjA1NcU+gsvlQkNDA1wuF1wuF7q7uzlAsLy8jOHhYXz11VdYWlpiG1h6H6/Xi1u3bmFsbAyhUAjDw8Ps/JP9tLi4iLa2NoyOjkKr1XKQjGz6UCiEpqYm5OXl4cSJE5yGR7UEbt++jdraWnR2dkY5xxaLBWfOnEFvby+ysrLg9/ujov8rKyvo6urC2bNnEQwGsXPnTm5t2tfXh8uXL+PixYsMLAKPgQViL/T29rI+lAZvuru74fP50NHRwQEKKgq5srKC+fl5ro01NTWFmZmZqLTEnJwcHD16lBkPdXV1uH///lNrjq3L317WBABQZIooqkR/9fl88Hg87DT9tZkAdP2kpCSkpqZCq9XGjPCSUvV6vZiamopyAsloFqPUIo1ZbBG4vLzM1VRJyDmhCKx0bETnJ6oUIZzEVJifn+dCdeKmE/9N11zt+aXPKo7N5XJxUSOxRy45HBQpJkVHTAeK7CUnJzPVi5Tl4uIit0dyOByMzsbHx7NzFw6HkZeXx84UHQprBYfoOaiuAeVJk1NGSoby0EjJezweBINB5OXlsaO6srICtVqN1NRUjoKLcypGBxYWFjAzM8O5UPROCeQg9gS9QyrsKF7jWSJ9x+TMW61WTExM8P4BwA4hgRuiIUEOG9UhoHdA7BGxkCBF4MVuE9T/WK1W8zzQ4UcF48QKsn6/n+lyRM0nIFCv17ODSmtJaoBRJNpqtcJisUQVnaQ1RIWDqPASRa5nZ2cxMTERxWAggIuK5xBoBzwGETQazZoMcmpXlJqays4wAQ9WqxVTU1PweDyc7kJz7Pf7sbS0BKPRyGATzbWUTUQRfJ/Px8wNh8MBi8XCqSYAeL6p6CgBG7Qv3W43p0JQdwRx/xG11el0PgFKiTm6fr8fFosFbrcbarUakUgE09PTDBzQO6f5o6gUGYoUVaX5X5d/DZHu6cXFRTidTrS0tDBoJbJ7aB8MDQ3BbDYz0BlLT1KUKzk5GR6Phx2WUCiElpYWzMzM4Pbt2ygpKWEabV9fH/r7++F2u5GQkMAOOzFkKE1IZMMQ20XUbeSw/OEPf0BTUxNX8aaoWn9/P7c5O378OA4fPozZ2dmonvVrTYkRn31xcRHDw8OYmJjg81FkKgKAw+HAxYsXkZiYyECpeI1IJMK91mdmZpCYmAibzcafMZvNqKmpwcjICEpLS2EwGDiF4/79+5y+RXpvZWWFaxpQT3Kr1cr55rEAVWnNE+DZlN7FxUV4PB5cv34dDx48QCgUioqWk9AaSkxMxPDwMP7f//t/aGpqQlFREQoKCuByudDS0oKenh643e4nHDdxXOTQ0Pl59+5d3L9/H6FQCIFAIKrGDv0ZHR3FJ598gqSkJDgcDvh8Pta1wWAQw8PD+PLLL5GRkYFwOMw1UqSRTZoPsb2b9BnFc5IKPc/MzPBnxFpRNO9LS0vo6OiA2+1GbW0t8vPzkZWVBbvdjqamJvT39zPdn861W7duob+/H0tLS5xbL9owsd4b2UcExrtcrpjPIAJBtPboDCQQms4Wq9WK2tpatoXFte3z+XDz5k10d3dzserVUhUIMGhra+PotphKSXP68OFDZk4Qc5TeCdVVAL5jHEglEonAarVyJ4JYzATawxSwENce6ZvJyUl89dVXaGtrQ0FBAYqKihAMBtHe3o6enh7Mzs5G2QXA4/0yNzeHpqYmDsaJ+5EA2ZqaGgwMDGDTpk1IS0uDTCZDf38/WlpaMD09HRWQm56exhdffIGLFy/C5XI9sf9oLRDYMTU1FdUOk1IwCWykNuC0xuPj42EymXDq1Cm89tprCIVC+Pbbb/Htt99y3Yl1+f7IMwEAcrazsrKionSkDJ1OJ2ZmZphG+peWWJufnBByxKTOMzlrCQkJmJubi1Ja4vWkEWHx96R0pQYQ/VzM+ZWOV3T4xHuJ1xWvLX3GWEpWKtJoK6UnOBwOjtSJ13W73VAqlTCZTFEbmqjUJCqVigt6kINILW8cDkfUIUcKiYwxrVbLxQelkfa1CLVmojFRlMHj8TCjQXQ+yEEjI4hQSmqXRgX2SGlKx0KHBNHMpbUdqFo/OT80JnF8axFpdJxYBwQEidchpkNaWhoXm6SDhyjxotO9vLzMoBJFwUTmAClsSu2gfDkyAMkxdLlcT0SQyTG0WCy8dgiRT0lJgV6v530v0slozGTwTU9PM7ggGhtUyIei8GTseL3eqPHQeqLDw+PxcNEhMaVFr9c/sUZWexdarZaLPpJB4PV6GagQ9w/l1DudzijwQDzg6ZmJXu/1ejl6T44Std8EENVlwuVywe12M4uF3h3pN9IVot6Q6pOn1dqgPRQIBLi9GBW0IgaVOB5qe0bFJgkYFNtOrsu/ppAuIsNPek7S/qZWYEA0G4g+Qw4BtQUUhVgtLpcLQ0NDXASW8uNFO4P2BEXaxHEC0U6KqHvIyO3r68Pg4CCn9xBrgK5ZWFiIV155BSkpKfi///s//N///R/Xl6G9/zyBD3IWxMrm9AwiK426d5D+juVkU2tBqQSDQUxNTcFqtaK1tZWZYW63O+qd0PWSkpKgUChQUFCAffv2IT4+Hvfu3UNra+sTOcL0XbEey/NIOByG2WyG2Wx+4rp0bXpPZHv09/djYGCAgz6UNkd6Ppbek9qF1PGJ2qyJItZzIaaGWBtAnC86szZs2ICKigp4vV4EAgF22qVjEG1RsZaTyAwg+432jPg8UoeJzhe3242Ojg50dHRAoVBApVI9kUoKfNfKzWq1cqtDErG7Dn1WnDsa52oBM6nQmU9Mnlg2NbWqlgIbwGOHd2pqiosySueeriHen3LaxYg8zTsFKcU1JYp4ZkqDaeL9RKf/aWCJ+K5oLYnzMjg4yB1IUlJS2HYmOyfWtckGFlMtxTlbWFiA2WyGzWZDR0cHp+5RhysAUUGgYDD4xNoWxyy+Ywq+xdJxYoBPXMtKpRJHjhzBz3/+c+j1ely7dg2/+93v8ODBg6jW4+vy/ZCnAgBEY8/OzmbnQkRMyUglBepwOP4m0SFanNJNSwtVRNZjIdXi/1dzwul60us+7fOxvvu0Z1iLPO1zNKaEhASOElJv9Vgblgp/kJNMf8TDjToKUGR0ZWUFTqcTTqcz5rslR9HpdGJubo5zhEQF+Ky5IAdV7BtNlZr9fj+3k1vt/oSUpqencwtCAjdUKhU8Hk8UcEEHBbU7kxoE9BkqOjg/P8/Mibi4OE6FeR4h55DWnN/vj2KRSOeTcq7FAoj0bqUGD6HpgUCA92hcXFxU4UGxvoDYxsjlcrETH2ut0YE+OzsLg8HATiAZQiJ7RHxOAKwTnE7nE+AgRezIsRQPuZWVFY6AkwEiHmJipwO6Hxl5z3ov9H3qxU0FM8nxpbUSS1cQCOBwOKDVanncwJM1Uoj6TwcoVUgmAIYMfeooQAAepRvR/MQS6b3WoksoSgs8BiJUKhX30KZ1KRYDpP/T72ktrQMA6wJEG6LS9SfVT6sB5SRPW88iI0/8vBSoX20fxvq39GdLS0tRHXbEa1BBr56eHnz22Wd4+PDhqg7FWkV0+GONRxxHrCBELJE6W3Fxcay7pR08RHsmOTkZxcXFOHToEN555x1s3boVHR0dGBwcXNVYp3owxFaSpkStNj7pO49lS8Vy0ujnc3NzXPjwWSLaa0lJSdyilnQqzavYRpHGRXqQznpRMjIysH37dhw+fBjbt29ngIoq8QPRvdqLi4tRUFDAKYV79uyBzWbjnu85OTnIycmBWq2G0WjEjh07uOaUOB80FlE3i5+h5xXnlYI8IhOBdLkIXtP1gsEgZmZm4Ha7n2AfrHWti+t6NdtbCsaRrAamPeveseyhp/1e+lnp3on1mbXY/U/zD0RdSeCm9HPS90cigoWr+SkECsXq1iPdx6sFJ6XXp3URKyApnRPRV5LJZJiZmcHdu3fx1VdfobW19YWKga/LX19WtZbpcEhPT+eiK7EOWmqjRQXE/tIAgDRCD4ApfZRbJKLZovKjvGPpwnteIzbWwfW0a6yGJNLvVtvoLyqkqBcXF58APcQxia2Z6GfiRiZkX9zkVBBtNSoWCUWiQ6FQVFu7tQoBGdQKihQGVYSVoqvSA4WKxoXD4ageviKNWYxgiFFqKSND+lyiEbJWUEMcK32X/i+NoEkjPHRfcUwiEi8V+p20u4Q0Mk2MAIoi0KG/Wl43jYWqxlJbRDIOKAokHQvdlyo9xzIk6bnFa9DniP0gHYto6Ijt60QgbC0ik8mY9ULPuLi4yBWpn7bOaZ1J039irQcq8JSWlgaDwcAFFWmcdM9IJPJEEU26JtFXaU6lIv350/QKsUAMBgNSU1O55aEI2NB60Gq1UQaguO7/krprXf4xJZYB+bxr4lkRRen9VrvPWhzkZ41D/K54r5GREfz3f/83M6HEcf+seULjAAAgAElEQVS58qxrPM89pOfHs4Q+p9FocPjwYfzsZz/Dxo0bMTg4iDt37jBdPJazQOe0CAKs9Z6ioxrrGf+SeoUcfL1ej9deew179uyJYjvSmGJ9TwouEyMkOzubCyQnJCQgPz8fJ0+eRFVVVcxofWpqKkpKSpCSkoLKykooFAp4vV52zFUqFYqLi6FUKrFx40b86Ec/YudQHIsIKkjtEJpXqW1C5wcQ3QVJ/I74fi0WC86fP4+mpiaO1kpZkWvdq2v5TKx9FOtnT7terO+vdQxruf7zXGs151z6u9V05/OAe2sd4/PcfzV5ln6l9UT2w82bN9HX1weHw4Hx8fGo7i/r8v2Sp4bLkpOTuc888GSuF21iuVwOvV6P5ORkrvD6lxTpgUF5iFar9Ql0TFR+FEmVOo9rXYyxFBH9eRaquJpiepojF0ueNVYpsLDauEQkdzX0jw4MsRe8mDv5NKHnWuu4pUKGBeX+k9MhAj3SZ5Y+m1iROC4uLqpgjfRe4rhXc/7F9/00Bfs8h81qCKr0nlKq11oPX/E+UgCAjBmie4t01GdF6Whul5eXOYJADJLV7k3vZLVrUzRCpPjFx8dDpVJF0RGlETfKg5SOXfq+V3s3NHaaE+A7UFHMxY0lVElX3BPSd0PgiMFgQGZmJjIyMrg/MFFB6TnE/F8puBhrXYj/j/W71cYul8thMBiQnZ3NVf6TkpKiAADSrdKCqX+ug7Uu/3wSy2l+XnnWd2IBo2s1sp93HNLzivRTIBBghphI1/6+ymqOlfQzwOPnMRqNqK6uRklJCbq6uvDrX/8aDQ0NT3RUIZ1ORVepY4vP5+M87+d1Ip72Lp91Pfrs875zsa4LBTukDi6dLysrK2yTkI1bUlICjUaDoaEhjI+Pc6FlsumoDgWdRdQ2LS4uLup8Ee9FhY6loL9oY9P/6ffic4gRfXpndM7QNcQ8bXomuia9V9GuX1lZ4aAC0dClduPz2LB/rqO/1j0eay+/qPy5wOZarv0sibWfpTb/s/ZdrM+tBr6+KLhJthDVOBkeHl713uvy/ZFVAQCqZE1G67MiQPRZ0Zj/S4josBPtNxJ5XNBldnb2CWo3fQf4rmvAag7vs+5LSlFqmD9rUUu/KzVk/hJztBbkcLXPr3bISp0s4DsqsrgGYgkBBy9iEK6m3J7nOqKTK3XGYkVIY73TWAfSi47naeNcyzWkn3seGt7T3q8YTX4RxSwaCM8C054FdsX6LhXilLYXlM4/Ofr0OyoCtNY2gOJ7FY2xZ8nTdAldIz7+ceX8rKwsmEwmdrIjkQgXCRXfA0XRpHtaei9xvtcSFSBJSEiAXq9HTk4Ot3+k7xJrhoBUsZDas/bEuvxry1p1/Yvqzqfp3lh778+RWN+X0vS/7xTW1Yz6p32e2nslJiZiYmICDx484AKFUn1D4Gx5eTk2b96MYDCIvr4+zM7OPnNMax3jswAMqcP+rDOMulI0NDTg0aNHHGAQn026jqXnPtnClZWVyMrKglqtRnd3N7799lvMzc0hEomwvhSDLEajEadPn0ZVVRUXdrx58yaCwSCSkpIQCASQl5eHH/3oR0hJ+f/svWdzJMl57/vLLNfeoOHN7Hi3jrv056yOQvdQcY1IRUgfQG/0Re7XkQmFpFAoeG7o8B6GeEVyRbeOu+N2LHwD3Wjf5fK+qM5CoQfAYNZxhszfBhYYoLsqKyuruh73f6q89957/OM//uMRITk9Bjj6TJZ1BmQ/1/XnYva5Z/q49HPSdMZAv9/n008/BUj1Z7R43rQzKPv9LIb7Sefwy+B5n4e/DM56LX5ep8dZ9zH9vHfcs8X0M9HzcNJYzbPCi82pGQD6Af6kSGT2+/MYKJ+VacNFpyidJgLzefcHxz94PI8HL0s2EnuWC+6sv3+eD/7jDG44TKXPen2z7RBPq+PR+gH5fP5MRsk02nuta9H1HHmeR6FQODGVXK+HbD/drBNjOqX7uBvfaQ6Z44yyz+LkyHLa/Bz34JW9gZ/0nuntTz/E6CiDnmdtqHqel6aen3RudSRjuvY+G1XIjvU443V6rvTDkr6GdUQijuO03aOORJ/ksMn+HMcxg8HgiNbASecnOxd6Ten1Y9v2qVkAWjBr2mCffs38/Hzask9HUgaDQdrCUc+/dhbMzs5SKpXOXGefvUZOc8RIedhac2FhITX+tWDU3t5e2v1CR8Wq1WraLeKLdugafj94nnvfl2Gcf1UPli/TA+zzGP76fqpFYIfDIRcvXuTtt99OdVuyWgX6PvL222/z/e9/n/Pnz/PJJ5/w05/+lP39/bTzwrPGdJwz93mO47MYGIPBgI8//phbt26d2fCb/ozWHSfeeecdVlZW8DyPfr/Pe++9R7fbPbJdy7JSjZV6vY5Sivfff59//dd/5d13300/10ajEa+++ip//ud/nvZe/9GPfvSUQ+Wke/tpxtxpx3XS3/X5dl031YfpdrtPtVM+y/xNj/FZv/ss2/k8nGV7n/f57st+zRd1D/68Tn1j9L+8nOgAOC49Ncv0Sdapo1+0l/xZi/OzfIg8z76zH5Zn9ZBNR9un5+4s0YuzXpQnRXtP2t5xzgyNFi3LqhTbtk2tVqNSqaSt56ZxHCetLdYPAsfN27OOQadh6weJ6RS67Ouz29TK5tnU8axDIVuv/Txzpv9+XLTgs/K87/88N+fsdZtNM8yeW50Kflp/d91+TjsBdHQ+W+4z7SjRP59G1hkBpK0ndScE3RZHf+kHUe38yzods7Wap6GdIXqN67lwXZdCoZAK8p00ds/zKJVKx9a96jkoFotHBBOBVCl6c3OTbrebOgCEEKnhr+c3a9gft4/p+8uzjPRcLketVkuN/yAI6Pf7rK+vs7W1xWAwSB0Ktm2n/Z5154vsfp/HqWcwGF4spj/7tre3+eUvf8nbb7/Nt771LSzLYmlpiX//93/n1q1baYeXtbU1bt68yV/+5V/yF3/xFwyHQ37+85/z7rvvpq1rX1S0s3r6/nXW5xJIPut0hsTbb7/NO++8g1KKubk5fvGLX6T94WdnZ1lbW+Ptt9/mz/7sz3jnnXfY29vjxz/+MR9//HGq+ZJ9FtGfE61WKxU7/ixBlM/DdDBPlxDEcXxiq1+DwfByc2oGwHA4pNVqUalUyOfzT9Xq6gdzrY591hTc5+WLvhmeFEWcJmug6Adt/XCeTaE6brzam6oNFZ2eddYI33GR4LO89qTXTb9m2qDV57Pb7dLtdo/ULHuex+LiInEcp+13piOGurbYdd0j83KWTAxtuGmBtazjqVgsMj8/T7vdTkUms9vT6XlaOE6pQ2E/3VZHj/WkfT9rXs/6+mcd43Hr7qzvOetrj1sHQiSpfL1eL00/1Gnn1WqVmZkZxuPxU0r9Qoj0NXNzc7iue+Sa1/WPWbLXyLMiEbod4nA4TLsTBEFApVKhUqnQ7/dPvJ9UKhWKxWK6jeO6I2SPI7tmsqKG+lp2XZeZmZm0rGjaiSFEko2iozq6Q0F2+/q1uVwuVfPXvxsMBjx+/PjYtl26VjOre3DSdZ+NymV1DE5zFmQFu7QzTEf+pnu0+75/xIk3PQbzAGgwvPxo52G73eaHP/whQgj+6q/+iuvXr/PXf/3XfPe7303T++v1OpcvX+bq1au89tprAPzbv/0b//RP/8Tdu3efWxPhq76HHHcvP20cx/3dtm12dnb4u7/7O5RS/OAHP+B73/seV69e5Ve/+hV37tyh0+nQaDS4fv06b7zxBufOnaPf7/PP//zP/PCHP2R9ff2pz6JOp8MHH3xAp9Ph1q1bqWj1WYNNXwZxHKctJNvtdip+aTAYfr840QGgH/KbzWbaA3w6vVupwxZwu7u7TxkQXxRfVPT1rPvRD876YTtb46UVxPVrsobltDL4dAmFNqa1x1cfj26j+FXf6I8zLobDIQcHB8zOzqZODs/zWFhYSNv/6F7rurXcwsICi4uLTymrnzUqoA0a3edZK/lDMjczMzMsLS2l0dOsUei6LnNzc2l6sx6zdiboKPJZxOF+XzgpA6Xf79Pr9ajVamkGQKlUYmlpKb2Os9ew4zhpe6J6vZ4+mMRx0is5ey6e9TB1HDptv9vtUqvVUudYtVplcXGRXq93RBFZUywWUyXmIAjSVobtdjs931my/9bXpnY86DUDUCqVWF5eJo5j2u32U+usVquxuLhIuVxOI0rH7SMrLqizFU4qn7Esi1qtlnY9OK2UKpv5kBXr1KJTWf2L43RbjpuTaVEzx3Go1+vUarUjZQ4Gg+Hl57jntzt37qTCpt///ve5cuUK3/72t/nud79LGIZptxAhBPv7+/zkJz/hb//2b/n5z3/+Un6OfpbUaq1w/uGHHzIcDul0OvzgBz9gZWWF733ve/zpn/5p6pTVDuAHDx7wL//yL/zN3/wNd+7cScvL4PCe3G63+Yd/+AeKxSK3b99O78dnzZ78osg+M4RhmDolxuMx9+/fP/LZ8jKec4PB8DSnZgCEYUir1UqNqkajkbYS02JdrVaL7e3ttK71q+DzpKIe99B+XHq5vhFq5VYdZSsWiywtLWFZVtoWTUrJaDSi1WodeZjWZRE6/VopRblcTo0Mbeh6nsfBwQGdTuepOTwpZf+4KP7zzMlJ3nDdD71SqaRRYikluVwuVTPX9fiWZVEoFKhUKhQKBeBQePF5nTb6de12m729vVShXKepr62tkc/naTabDIdDwjBMlXkXFxepVCpHHDjdbpfd3d2natemedacnZQF8Dxzfdx5etY2jpu/s4w1+56sEQpJ5LvZbFIqlWg0GkBiKM7OzmLbNtvb27TbbYIgwLZtKpUKc3Nz6XUvxGGrl2azSbvdfio1MHv9nCULoNPp0Gw2aTQaqeGso/EXL15ka2uLbrebvqdQKDA/P8/S0lK65srlMsVi8YjA3mmEYZjWv+t1riP8y8vL5PN5tre302wUx3HSOv25uTlyudyx5TR6vnUGS9ZJWCqVWFtbY3NzM+1rrjMKtLCUzrA4ybGg7xlZ54MQgnq9ThAE7O3tEQRBet3o2k3tNAiCIH2f3u/29nbqNNHzvrq6SrlcPjZrxjgEDIaXG32P1kEOgIcPH/L3f//33L59mzfffJNXX32Va9euUSwWKRaLdLtd7t27x29+8xt+/OMf89FHH6WlQy8bnyUAoB3fvu/z0UcfpZH7mzdvcvnyZW7cuEGj0aDb7dLr9Xj8+DE///nP+dGPfsSjR4+OlDbq7UHilP/lL3/5VJDiszxDfVHEccz6+jobGxtHxnxa1qvBYHj5ONUBAIlBuLu7m5YD6FTdKIrodru02+1UROqr4vPWRZ/2u+nImFYk1+nwruuysLBAsVhkNBqlWRGtVotut3vEe5ttQ6g9v7lcLlXdjaIoTc998uTJkfSv7Ndxx/ysv5+V6Qf6KIpot9usr69TKBSoVqvYtp1G/8vlcjrGrPK/jiDoyPLzprvrfQ8GA7a2tsjn88zOzqY10dVqlVwuR7VaPeIAKJVKFIvFNL1ZR6c3NzdTISPgSDQ0y7OcJ9PznP3dWTkuIv2sbTxrnZ421pN+F4ZhmtGjM1F0xKLRaKRrU6eBl0olyuVyWu+uHQDNZpPt7e00W2DaMXXaeKbHFoYhe3t77OzspDXnOjPBdV1KpVJ6f9FjqlQq6dj1tTbt7HjWPI1GI7a3t6nVaszNzaXlOfp7LpdLS5r0uq9UKqlewmnrYTAY0G63U00KLQq1tLSUCisJIcjn8zQajbSk4FlrLI5jRqPRkZpMLSKoRTjhsB2iEILHjx8zGAzodDppWY9t2+TzeVZWVsjlcul4isUijUaDmZmZp7ppfJXRKIPB8OVxUiS32Wzyk5/8hF//+tepiKnOzNLZoA8fPkwdjcc5p1+We8RndQLo92xubtJsNvnZz37G3Nwcy8vLVCqV1EG+u7ublnxNl8llt5fVS5p+hp52Bn+ZZB322ePMztPLcm4NBsPZeKYDAA5bqfT7/TTVNNu/9Mv0Cn4ZN8DpG1n2xpd9je/7tFotGo0G+Xw+NQ7K5TKlUgk49IpKKdnc3Dxi7A+HQ9rtNt1u94iBodXys8Zxr9dje3s7rV8/q+F8Uv3v88yDvvnrG7/v+zSbTSzLYmVlhUajcaTFY9bwypYNjMdjyuUy1Wo1fe3zji+KIvb399NWZI1GI+2brg1E/UGpo6s6kqFUomGwsbHB5ubmiUa/5rgsiuNe8zyvn+bzfniede70uci+J/tdP2z0ej02NzdxHCd1ZOnSFp36rec3m8oOpJF//WAzrfWgv0/P02nHrssA1tfXsSyLxcXFVG/E87w0AyFbRpM9777vs7Ozw+PHj+n1emd2RMZxzMHBAY8fP8a27TQDAZI0eG2Y63nVhvNgMKDX6x0R7Jue/8FgwPb2Nvl8PnX2aS2FYrGYlhVpp5oQ4ojzTG8vO6/6d8PhkL29PWZmZtJzp7OIdBkBHDryHMdhOByys7NDoVBIS3tc16Ver1OtVlMBSD0e/X6l1BFnnnkANBh+f9GOUS3CeufOnTQDUD/XnKTJ8jLdG76Iser50Mb+3bt30wj+8z4XP28g4MviWQ7fl+kcGwyGZ3MmBwAkF79ObdX//rLJekCzCvGntel6FtPb0wb3cfsOwzAVQdHRSMdx0rT/rCK5Ftma3peOpluWlabVZh/8dWquNm6na7F0yu90bfD0cWhhvtPmJbs/7XHWzovpY9cRUi2YVq/X0/IP/UE3Ho9TJ0e/309r36bn5nnP1XA4ZHt7O+1KMDMzk86vniOtGK/XZBiGdDodtre32dzcTMXN9DxpgzGKotTg0Urwz2L6XOjtnQVtrGrleb2tZ82JPk96rk/qxqHHp79nu3dM97GGQ8NQSkkQBCwuLlIsFlOjMLsu9bz6vp8a/1tbW0cyK46bpyAI0mM9iwNDO330cc7Pz5PL5dLyD53dIYRIuwToDg97e3s8efLkM2mQ6DWunV61Wi09fl3+oo1z7QTVKfxLS0upLkJ2jet1v7e3l665mZmZ1AmgFf/1+dGZVcPhMC2n0fN4nMMpCAJ2dnYoFossLi6m86THq+dwNBqlTkd9PWnnQqlUIpfLpU6MbBlHt9ul2WwihEg7cOhtfpURKYPB8NUy/ZmUva+ZDKCjTD+L6ecvOF3HxWAwGF4UzuwA0HzVNzadht9ut9OH1eFw+FQ7lbOiI44HBwcMh0PG43EavT7OqNFGghCChYUFqtVqagRqA1pH5bIt5/TfR6MRW1tbKKVYWFhIU6oHg0H6Gm0E6FQxXaPcbrfxPC8dY7ZVWxiG9Ho9ms0mxWKR4XCYCuidNI86PV5HBpVSqdL6cQ/2euztdjsVKsv2StdCe1r74JVXXkmNDD3Xn8VZo8epDRntgNCp/jrlW0dSR6MR7Xab3d1d9vb26Pf76bay+9a9z/W60eM/SaBNlzZ0Op3UQO52uwwGgxPT+o7bhlbM106DXq93Yusk7TTR79HnU6v0n9RrOQxDBoMB+/v7eJ6XrqHpdHVI1s7+/j6j0Yh+v592UNB1/nqc2kjtdrvs7Oywu7ub1sUfN+Zer8f+/n6apaHTH8+SbqlLAXzfZzAYMDMzQ6lUSp0gWodDz4Xe1+7u7qlpls9Cl5yMx2Pm5+fTUoisA8P3/TQqtrGxkWokKJXUbWbvR/qcDodDtra2iOOY8XicOheGwyGQXI/6utbH3Wg00rV9cHBwrKChLr168uQJYRjSaDQolUpHtA90x4dOp5M6EUajUZqhtLCwwMzMDL7vH8nm0joCW1tbaUZIuVzGsiz6/f6X0ubVYDC8mOj7uuF0jHPEYDC8jAjghb5zWZZFPp9PI136Q2k4HH4mERotXKdriHVEeDQanRpB1PXm5XI5LQfQD81aXV2L402j03SLxSLlcjntAiCESHUC+v3+U+J6WndAG6vD4TA1CLVInud5aUsyva2TjCFdfnDc/o9zHOga/2ydtU4J1tFmbSR6nsfNmzdZXV1NMyTa7Ta3bt3i0aNHn7k9pO5HXigU0rHrDAN97obDYdri7qRjz54D7UTQzpvBYHCsYaPT0PXak1KmTonxeHymY9K13oVC4cj61bXcx60XKeWRNa8jDIPBgOFweOya19HybCeE8Xj8TGeF4zgUCgXK5XI6Rh3F9n0f3/fT9T0ej0+83hzHoVgsPpXZos/JWQ1Hy7JwHId8Pp8KUOnzpedBXy/6evi8D6n6Wsjn86mgpe5CoY3nXq+X7hMOo+hwaMxrDY/pedG6Bfq+AaRzo7eplEqj8kC6ro9zAuh5ys6RHq92iOn7yWg0OjImfR/TDh99f9Hj6XQ6DIfDtGOJLsUJgiDdnnnYNRgMBoPBYHh5eeEdABptCE2L5H0WdAp5Nvp1lm3p92TT4LP1XqcZOfp92e0AR7QUpseQ1Vs4ydic1mR41nFM92nXLcqyc6MN7nK5TL1eB2B7e5udnZ1jjS3HcVhdXeXq1asUCoW0Bdne3h4ff/wxu7u7n8toyAoLZtufZcse9PE/azvaoQGHKfPTtfNZTYTs+7TT4bMYnNnzr/f5rHKN6bGepcQjW7d/UmbD9Hv0vvRXdj3p72eZW/2VzSA4TkzoLGSvMz0mPQfZ6+2LNEaz60zvV+9z+hqdvoazGgDHbVMfU/Y+prep5za7zbOcu6yDTv+cvQ+ctA09jun7WPZ8a4ff9Lo3xr/BYDAYDAbDy81L4wD4ojCCVqdjWRbz8/OsrKwwNzeH53lEUUSr1WJra4vd3d0jqcCu69JoNFheXmZ+fv5Imcbjx4+5d+/eEdXyF53jlHC/jH3Ai78GP4tSsuH3i5dlrRoMBoPBYDAYzsZzawC87JgH2Wej+5bXarU0PXhubo5isUitVktryx3HSbMEdMszOOzvvru7+1QK8ovOV1HP97KswZdlnIYvD7MGDAaDwWAwGH6/+INzABhORkd8dbQ/W1Oue7NrcTCtVZDP59N2aHEcp0J7GxsbqTigwWAwGAwGg8FgMBh+9/zBlQAYTkc7AYrFIufOnWN5eZlKpZLWAmc1BHR0UNcHB0HAwcEB6+vrbGxsHFHjNxgMBoPBYDAYDAbD7xYL+L9/14MwvDjoml+tdq/r/bOGP3BElE2302s2mzx58oStra1ULd1gMBgMBoPBYDAYDC8GJgPAABxG/qfV73Wd/8zMDJVKBdd1AY4ovWsHwP7+Pp1O5zP3ZDcYDAaDwWAwGAwGw5eHcQAYgNPVvnUrM90XXLcdU0oRhiFhGBIEQdqezWAwGAwGg8FgMBgMLx7GAWA4E9pBMP1zNmvAKIYbDAaDwWAwGAwGw4uLcQC8aGjb2pwVg8FgMBgMBoPBYDB8gcjf9QAMx2CMf4PBYDAYDAaDwWAwfMGYDACDwWAwGAwGg8FgMBj+ADAZAAaDwWAwGAwGg8FgMPwBYBwABoPBYDAYDAaDwWAw/AHw0jsABIe6eYY/cMxCMBgMBoPBYDAYDIYTeakdAGLq6w+NbDu+32eEEEfbECa/POHF/GEuBoPBYDAYDAaDwWB4BvbvegCGz8YfivEPoNShTuWxxv/0VBhZS4PBYDAYDAaDwWB4ihfWAaBtOikmIV2lJsFdAcSnvOPQGlQTS1ChECRRZKGS32RtxhiBEopIqSO2o2ASfUZoyxOFQil1xCg9+Rgm7wWUmIzkGe8TgERgIdL0DJV+CWKhiDNH9vuMBGwkNgIbiYXExkYIQaQUAQE+EZFSk3nhTOflRUAAFmAjsDhcKzEKn5gIUEK8NMdjMBgMBoPBYDAYXnxeWAeARimFBKSUWEIiUBAnDgG0Ya7g2NxvATGKUIWAQiKQE4NeSoEUEgSEShHE0WSbmX1Dum8hJm6HzEvOZpwJhAAhBUrFJ74n249RIrCFTJwAUgKCUMVESoGIE2dAfJwT5PeLxAEgcLHI41ItVqiUyliWTaBC+v6QzrhHzx8yCn0CFR8uhRfcbk4cAIKC7ZJ3XRzLRkhBEEf0xmMGgU+AeimOxWAwGAwGg8FgMLwcvPAOACkElmVjWxaWjuAfa0Tr/IAkSs/EPxCjUKEijhPjW0hJpVxmaXGRaqVCt9djc2ebdrdLFPiQyQKQIjHApRQgBFKpNPfgbBkAEkvKxPgXijhOshCOe2/2N1JKKuUKC7PzVCsVev0+27u7tLsHhGGEeKmVG86GPpuu4zFXneHcwgori8vUqlUcyyFQId1Rn63WLp8+fsDG9hahP874gF5cq1m7qhzbZmFhgQtr5yiVSggpGYyG3Hv0kCfbWwSj4Yt8GAaDwWAwGAwGg+El44V2AFhIZqwSa/V5ztcXKds5CCMsJXAsK6kFn9SDK6UmkX2ZGPtCEViKNmPubD1ia3cbm4h5WeXrK6/x3Te+zkp9gZ3WHj+99wE/u/8RD/Y3GauACIWFRd0pMl+oUXLzxELhE9IZD9jttuiqEZE2NjNGmhACqQQugoZbZq5cJ+d6CCEZhyH7gwOagwMGsU+UKWWwSdLdPSRr3hx/dO5rfPvKGzRmZ3myv8OvH3zCu7ff50FnkwExsXzxsgBE5lyc+T2T7yrzbxdBAYcaBV5tXOSbF17ljeUr1CsVLNfGsiQDGTAQAU/mmvx4JBjsHuArP3H6TJVyvEjIiZPKQtKIirxduMifrH6Hhdk5sCRbrV3+5x60gia9yXvOlmdyyMmvP0ks4TQ9iS9nJk9yhH1BW8/8/KKuBIPBYDAYDAaD4avnhXQAyEnNt42kbOW4Pn+eP772dSrSw1ECJxZpFFVpQTilEAqUUCgUsYC+CNiRQ2Kg12zhqYir5UX+y+oNvjFziQoey+UinFdsd1ps7O8QEJAkkkc0vDLfvPwa5+dXCIk48Ps83N3gF7c+wI9CBio8Mm4BCJWMv4DDcmmGNy5cY2VhmZxXoNXr8MGDO7z/6BbDkX8kuztr+F6uL/NHa6/xdu0yrnSZq+TJrUk6ey1a3QPGDAhU9BWdjefjeY1/HemPMo6zfSAAACAASURBVLoMHjYOgnOlef63a9/kG6vXWaGCG1vYflJS0XdC+m6EdEIa5MlFEhuLSEU6B+Szc4xj54tjUoKCpKBcGnGR1bjGkqqDksh4TD3Ok4utyTCSVXJWJ8CzFSY0aurn49onfAYH05c6d8/DKQMxZRUGg8FgMBgMhj9QXkgHABwK3wlLkisWqMzWqdr5xAGgQKpJOn3mPUJpgTyFEuCIgIAhpXKSXq2iGCfv4RRyxCgG4ZiQGCfn4rgOMTrFPzGG3LzHyitr3Lx6kyAKaY06BJ8KvEd3kMEAEUdTBq9I/7OkRbFSYuWVNa5evEKxWGar2WRrdIC78wBGYiLzl9R5S5XsUwFe3sPL54lQjKIAbImT93ALObAEURi9kK3unjeiq83O5PizGggW5VyFC1cvcf7SBfJOAdWHkT8mDgO6gx5dy2fgRjwe77PV3CHwgyQD4aUx7FRGUDLWywCldLnK4euel+PtW/3b4xbOSb0TP4OlfNIupl/2lYkbTh3DC3jdGAwGg8FgMBgMXxUvpANAAg4CB0Exsqj7NvMDm4ptYSGwhEDaFsK1CKQW65NIBLGKE0NeKKQMGAqBIx2EtAgin+agw5NOk6WFJapWgW4wZqvXZn/YIxYiEQpE4GEzE+RYGhVYHRTw4wDXD9gMPAqhjRtL+lPjFhOhQRsoxTZzQY7VcZG1YYG88JAjl0bgUIjkRPk96UCQOB4UIYoxEbvDDo96O9RLZTw3z17QZ3PYojnq4KsIIQXEarLPhOnuBYc/i0kTheOjyGcN2GZNxMNtajP2uNcfOmcO9/H0K2MSx41WxZcIKthcz8/xrfp5ztllytgE0me7t8/t7Yd8uH6XthoR5iRdfG7vPaJJj7FSxBLiONM2UGjByKNzceoxp394/v6Cx9mXJ71LIJAKLJWIHYrJz9ZknPo4TjtvJ+3z2aOYzgA47m/ixG2fLGU5/Ud13CsyW1enjuSzII5s6XCLCu0gOsN5FFOvnayjl8a/ZDAYDAaDwWAwHMML6QDQsXEHQS6SlEJJLXAoKRuhYgLfpzce0hr1GImIWEikSmrvk+T9mFjE9K2QXWvMfnOPOI4JidhuN/no01sUvQLLtUWanTa/efgJT3a3CWOFnLSb87AoRg61wGVm7DGOBWPfpuBbeJHAUomRNl3LLFBYQA5JybepjRxmxg4Fy2Ho25RCiRcnzgoFqZmcOABiBIL1vW3e//RjXCWYmZ1lvdPk/cd3eby7ST8aEguVlD5kDVumWxhOyiTExOhFTGrj1RkNxuy2Ds9JErGfGKhwJOKrjownMeb1S04zutTktZLE+PWQrObrXCzOkg9BCZ9hNOJBe4P/efs/eX/vUwZEifPHsxiEY8ZCEU0lACQtHA9HND0XpxuCYuq7PtBnV9ifzQmQuEiEUthC4goJQmCTdKrQOpYncZi0/7SRfvp8P+P3R6oE1FPbPzSrT3ZrHHJ8u87kXOhrR4CKM3+dMt0z6/xZaA0KceRQdEHIYYbN4V5OcGMIMdmWApWUnDxrtRgMBoPBYDAYDC8DL6QDQKPQRptASEEtX2I0GjIMBjy4f58P791mEPvECoQSycM6gFKJA8CN2bZHPBjvEUQBAhgx4sGD+/i7PRpelV4w5nZvi7ZqExOlIm2SidS+yBqOkzxtcdQoOjQ81JGxq0lk/ylRumMsxHjyLgdFf9zjzp3bBOst8oUie36fR/092tEBMYnIHUKRdCbQ2xNHNi+0ISlACpkY5yomDY6fNQV7cqxykh2hjWolJvOsjhpth2M4ajqelvIthECow3cooFAokMvnUAKCKGQ4GtLc2WV/r4kiSvImYsV46BMQpeOKM8aktvukNugECDEpu4hj4vi0iO7Tuexiap4PX/kMa/2E7SsmmRlKof0Rz/RLZMcDSCnS9adHHcfquVPsUwFHvWGl/TyH60gTa72NU/cx9bfMttLvYuKUig/nMHtG0uPS+1enzLXIGO6T8QmZWO6xSkoqsvMEzxi/dmZl3mIcAAaDwWAwGAyGl50X2gEAyUO7JSSWkGBLRo5i3/X5JNzl/xveYZsOQZJIjm4BqA1PP1QMCBlOZP28Sc19QJdmv4vXt4gRdAjxCfGwKQqPnLIp4TJnlyjhYIURThxTUEl6+rzMM6CArSSRUEQyKTlQYYyDRQGPOiUqskBJenixhRMo8pFkRhRYFhU69AiICURMKBWjyMcnJAaGhGzQojPoIgaCEYo+EePJnFiAKxzywsaKJu0NsVEkRrqFwBGSopenVCjiuA6j8Zh2v0t/PGRMiE+ET0iYmWdtEOltWEg8ZWMjcZSg5OSplkp4rosSgv5wSKvXYRgFIOUkop0UNEQolJDElsBXIX6kiI5JB1eAraAkHPLKJo9khSqLdpUKBap2iaEaMw5b9IYDLCRFckhipIiJRYgfj4lViFIKC4GNhTv5cpQkJxzK+SKFfB7HtonimO5wQLvbZYhPhGJMSECEkpIojmFSziEAF5kIE6Yp4SJx2IhkjoRSWEhs1yEiph+MGauAkJjwGbFy7bBKHQ6TX+oAtJh6bQ4LBytZA9iU7SLlYgnHcUApIhXT6fdoDzv4RMRCMFbJ+T4cPZPzK3CxsbGQ2reFJFIxApVs381TzBfwHBcpBL3RgINBj0Ec4BNN1lI4mQ+OeDAESUaDg8RTDh42HhalfIFSPo9j2QRhSG84oDsa0GdMPMnAkSSGewSEKHwVEYmku0dMopkgSTpnOEhsJckpm6KTo5gvkHNcbNsmDCN6gz6dUZ++GuMT4xMTTu4JGgl40iKHg4xVeh9RCCwpkTEwGZ3lOERSMQjGjGKfIBmRwWAwGAwGg8HwwvPCOwAmITziOMaPQ3oiYM8as2kP2GTEJmNGhJlXJyaOVpbXXxaCGAfHyTNXnWWh3sCzHIIgYG/U4XFzi3AcslCdZbUwy1KuzsXCLBU7jxr7IAKsIGQ2V+C1lQs0hg26MsK3ku4A+702vVaPcqHChdlVluIS52srlJ0iVghiHJGPLZbydV5fvEyt1mBsRfgyZojPo71NNg/2GBFgu3ka5TkWyzM4rstIRewPe2zt79Ab7CFQ1NwCy5UGS6UGeSdHfzxmZ2+f8WBItVBkaWaW+ZkGlVKJnJcjiEN2Oy02200e7m2yedDkII4IdcL4kTIGcLDwcCgJj8Vyg7W5BZZqDaqFIo7tJJ0VRgO2Oy3WW0122/vE44DFap2ZmTqhpWgHA5q9NpvtJn7kn3iGLaDuFVkrz7JWnGXFqnGhvkyZPLEf40ch2BZzCwtcigbUwj4DO6KnQprjLhvtXYZ+BwU4SHLYlPCYL9RYacwzV67TKFcpeB6e6xKEEZ3RgPagz2Znj0f7m2x2m4kAn5BERIDWg1DUvCKvzC4yn6vgWQ6D0Gdjb4eDToeZYpWlmTmq5QpW3mUQ+Wy2m9zbfERr1CXk9G4NaalG5t+HqeqH50MicIACNlWrwHJtnuXGPI1SnWqxhOc4SZmLiukO++x22jxpbbN+sMveqJuUxUyuDzkxzHNYLNXmWKovULYLECm6wx67ezuIWLE6u8hqY4F6uULey+HYNj1/xPbBPo/2t3m8v83uoA0oAhETKzVxxR2WdCQOMYdZp8pafYHVxjxz1Sol10NKydj36QwHbHfafLq9Qavfo5QrMFdrUC4WGcuI7UGbx/tbHAw7+HGAlAKlYmwSg72AzWy+yrmZBRbrs9RLFfKOh2M7hFFIp99jZ9Dmwf4Gjzs77I96KJU4C1Vmjmv5Iufqi8zla7iWS98fsrW3y3AwoF4ssVCfpVQqIXIOI0K2D/a5/fg+bb83cUKaLAGDwWAwGAwGw4vNS+AASEjT2pXAVgIZa0NDppH/w1dqcbp4UoeeRDsVMTnP4/LlS7z12ptU80W6/T53Nh7Q+fWIveYei+dWePvq1zhXmGU2csmTJ4hDfBlhuw4zc3N8rVHkPAFdO8YXEXvDNh9+8ltu9W8xuzjPN7/5bc7ZNRZUkZIqMIh98GOwJIury7BSY0WOCa2YIQEdv4//3i94crBLRESpXOLqtau8fvEa5XKF1rDH/a11xh+FrA92CIF8ucT5K5d449J1GtUZtpt7fHL7DuPBkLWlZV5ZXqEyMQwtKQmJWYp8zo361J/cR33yAYP1R0RRQKTiI7MnEAgpKRaKnF9+hZsXr3JpeY1avkDOciYvFIzDgLVgxMrBPncfPmBva5sLq+e4eeM6OJL1/R0+vn+XnQ8PkL41MayPnlOLJC2/UC1z7fXXeGvtKnNRgYWoiBQW4zjElhaFYoGLly9RubBIVwb0ZEgn9rm39Zjue7+k3xwSiAjHcnBtj6W5ZW5evMrl1VeYLVXJWy62TDJJYhSjOGIYBZwbdJnZuI99/xMebW/QHw6RwkpSxgHHsinVytx84zWuLJ2jmCuw1zvgP9//NXazyc3L17iydoFSoYh0bXxiPv70NpudJgd+0ikiWY/PWt2T9P1JV4CsUGGaKWG5VCszXF47z43zV1idX6LqlXAtG0sIVBwTiaRzRG88Yml/m/KTT/n4wR3C9j5+4E+OSyCFxHJcZubneP31r7E4swBxzObOFrfu3iLnOLx1/XWW63O4lo1tWQgh8OOQxWDEYqdF/t4nDG99RDA4IIx8hFK6cGZybi0c26ZRnePmxWvcPH+FpXqDou3gWTZKKaIoIogjWqMBxYf3ebDxhGKuwJXzF1laWCRyBB89uE37NwP2Bm0EECmFjYUlJJ7nsTK/zI3zl7m2doGZUpW87eIgkVISKYUfhRyEA2b3Nig8vsvtR/dptltEgQ9xnIxVQKla5sqNa1xZvUijNsPG7jbvffQ+vU6PK+cucHHtPLlcDuEmuhP3njxkvb3D/l7n+W5mBoPBYDAYDAbD74hTHQDZilmZ/maqNlpwpMb9dJm05yctWRcKJRRCJHHMJDn30AmgR3BUpEy/Iol6FrCYjXJcEDVeteaZkSUORJeINnciD6UcLhXqfHflIq8U5/AGMXR9GARYysJTkkq+yLnSEoEjGNoxfRmwMWoxXN+lxSPO52b45so1zuVmcDshXi8iDAKkH1G0HEqlEisFC98TDOyQnhWwNdjn0b17/HYSdW7EHpdEjTfsBUp2mS3pEsoOj5RHHgiARuxxWc7wdbnMIg3aboWr84nRvDA3x9zsLK7jpKblcDikO+ojrAXeXF1iZVzk33qKB/ub9ElSo5MUc5lEz2WVb66+xneuv8VabR4Xh5IoUHQLSMtCWpIwjhlHAT1vwI5cZT+/w0yxwjwLjCwou9CWWxQiyQiR5mnoc2SRqN/nlGTRK/N6Y5X/snqNcuBidyKsTkQ0aYlnWQVmSzUu5S1CR9CxfJrxACeIuGd9xDYBBSVZjEu8PnuZP77+TW6sXaKQ8yi4Hq6dGLG6qDuKInq9Pj1vzFvnFvhGcY2f8Et+9ekn7KsBYyJcBPnIYSbMcYEaX5NLNCjRt2dYbSjG5YArqxepl6tgWYzzgpEd07a3yIcWTizSso3scWfF+1TmC1TaEQGlJmn+ghw2BRxWnQb/7fxbvH3xJnOVGQp2gbJXxrZtbMtOOmAoxWg0ojvuc7M2y9v5Nd6zF/iPj3/Fo9YWLYZIIK8sSqHNcpznVWuWiyzgCYtBpcE3zs/hOS7n589RKZYQ8eQaC2NGsU876BGU5rl+aY563+I/7v6G3aDDmJAwc61V8biYX+K/Xf0W37zxJg2vjAV4tkve8w41AAQMCj431By7xUtYSlB3y5SjMgcyYGDVuGsV2CSR2AxURBWPqnJ5s36Vd659gwtLq9TdIvl8AcuzCVWUlIMosGLo+ENuzNR521vml3KOH3/0S+6NN0mKCMBSkrqf46qY5esssRDU2VUOr9TBalisLa4wU64jPJuho2iJEYPtNgVlZ+4yX/z9z2AwGAwGg8Fg+CJ5ZgZAYmAfKrqntfaCVLxMcphO+2U8/Kr0v3iyl3jSkitK/+PIvgXRpA7dmmjX25NU5GpgM+e7rIQF5sMKrSBmK8wxE7sMYnBafaKHW4zyPsQOBTw84RDHkjiK8f2QcWuAIkDIiMgOGPv7iFaf0hjynRD/UZOO41NVLnnlkUPiCJswDAlbY/x9H0VE4Pj0rSGDsIs66JNHIrEpBxazvstqUKAUFSEasRU5lAJJDoGFouhL5sYeF/wy5bZFI6xwrpDHsV1yKke0FTEYtFAoXNchLwUzFBFC0JUO8dw1Wqstur0e8ThCESIRlHGp4/GdxWv8n9e+y6XKIqXQRcYSaygRRPjBiCCKsIUi7zos5YtcctYY1RtIIbD6DvuhTz8qUA0d8rHERTLgqJGkU9EdwO4HxFttRtYmxC4FlaNIDlcIhLCwAwgGI0aRnzidHJ9AdIl2DyiMFWWgSIFvrN7gv1/7Fl+fu0IpcPFCiaViVOwzHI/xowjXtsnbDhUsAplnYDk0yg616y5E8L8e/CZNuc9jURwL5sI8F6MqhY4kCiVrlWtYQlKlTHyg8EXM/iCgJX3k/hg5CHEyRn72ekq+ZwQjxeHfEkFEgBgbiYUih2DNqvPfr3yd//3at1iyKziBg+1LZCciigJG/hghIO+4FKVkVhQZSY8lq8DiWoGiL/nhh//BwegROVwKSEqxpDqyWAuLXA0riFFEFLrcKNdxHYe4HTPa7hCMAzzpUvKKhMKiJkr4lmI2XyC49BadQZefPfiIQEWTmnyLOh6XnQX+9NK3eWf1TWaCMhXfJY5jVBwTR338IAAV4zoOpZzHiruMX5/FH46wlMAZOawHfRqBTd4Hm6RVpo1FGZdv1q/wf135L7y1cA0rluT6kkFnxEE0oDXqgh/QcAs08iVyrsOMXWDByVE75xGOQ4JPQlqjHgEBNpLiyGZxnOeyX6YUWMwGdS6VC3iuR0EWkF3JYBDRlj5DGaD2hoh+SA6bwcS9ZYx/g8FgMBgMBsOLzJlKAASHSuNSJOnhSinCODHEE+HtLzf2pUvUFQohJV4hR7lco4qLJybycmJSCjBRBA+ikCCM8H0fwsR1oDUBYlQifJfZZkTMxuYm73b+k5XCDHOFOlfXLlGozyFQjMdj9g/2uffwU9r9A3xH0XVD1oMDnrS2GDOmudvkV7/6NTMUWCs1uLFygZlqHWlZqHHA1uYm67tb7A0POJBj2u6Ylhyzvb2dER4jMXIn86utxmy0WIvQCSESOTNBIkIXRbQ7Bzx58oStzU2CMKBSKbO2ukqjMYtlOcRSkS8WuXDpIh9319n9tIN29VjYLCyscO2NV5lbWoCxhQoVQRjQ6Q7Y3WmyvbNDt9cjXywwvzjH4vIC1UoFN5+DiYBarJI5FVIr2j2tnh+hGKHwEPS6XT7++BN41KbhVHhldo3zy+exHZcwjhiNRjzZeML61iZjFdB2AnZkn/ujXQ66HVxyLM4uc+O1m6zMryBCQRzHRCqm2+uyubHO1s4Og9GIYqHIQmOWpYVFZNkjsiVWzmX5/DletXvcGTdZ390iCH3GBIQqOlTrFyAsiVfMY1s24yBgNBzRGw/ZYsAeQw46B4ThafJ/T63uyffD7AQ5EQQcK0UZi3OXLnD9tZt4xSIikMk5CQJazV02NjbZ3W8iLYtqpcri4iKNRoMwbxHZ4OWLXLx5lavxPusfHRCM/fQaiFSUutWEEAhbIqXFOA5oNps8evSQ9n6LkltgobHA/NIihXolaVsZBczMzXLu/Cv8cvsu40F/kpsDXq7I5RvXuPr6TXJuCQJB6IeMhmNa+/vs7u7SarUIo4hKtcry2grzS4s4rovtuYhYEceKSMREcZyOcUCYaFNUq1x57TrLF88xIsb1Y+JhyMb2Jh88usV2Z49wMGSxWOXK6iu8cukiuVoFy7Iolktcv3Gd+/4+zTsf0Q18PATIwy4EMQphSzyngG1ZhCpmNOiz7/fZCbtsqB77+/sEvj9xMhoMBoPBYDAYDC8+xzsARNJlTiuNeyTp7zW7RL1cwbYdBsGYzrBHxx8yUD6jSfpvVo3/i3AIqFilet29wRAbyYIq8ycrb3Ihv0BXBIRWEjUVCEIiAhmDJ9kZtPnwyaf8dv0+/bA/kQLUWgKT+nMSQzSwwRcWdzo7bHZbFJXNzforFOZnqeUWkjplFXFr1OR/bXzI5qBFV4wZW4qe8unHPgLFwWiT9Ycd5uMCbyxeojpfJ5+rkc/Z7EU+Hww2eHf9fR71dxnIkIEVMLRChuMx8WREQlhY0gEh0QnjasqGFggsYWFLByVgLCNGcUDT7/Dhw7t88PAOO609AuVTaOa4GV7mj3Jf51pjjYJwKCubi7UFrtaXeSIfEsQBDoI5u8h3lq7y1twFSoHEBoZ2yOPeDh9s3+W9e5+wc7DHiDH5Vo7l7hw3/Eu8fuEqV2ZWsEKFFSfnX0pAxCgVH7sW9G8HxDz2O/Sb97nb3GDFqvMntsvi8hrSk/Rin81xl5+37/Hexie0oyEDK2QoAvrCx4pgVczwX5dv8lbtFWrSQ0roREOaowPe37jFB3c/Zr/TZhiPyeOy1l7g1fAKr168SskpkceGUPFG/RyPFi4y3j+gFfoMGKbCfEJJYiUIZIyyFb4Y8XBvgwc76zxsbbMXDThQY9YH+zQZ0GVMNHXkKvN9ekaSVo0KFavEFaMkDoKbpVX+6/INrhQWKCibQMW0GPGov8O7jz7g9oP79MIBFhaFbY9rwwu8Ia9zqfgKbuxQHdu84tT5xtp1Hm894e7GA0IihgQgLISSWLEgFIq+DOlEXZ50dvnVpx/y8cO7DMIhRXLMNCt8ndf5euk1SjJPTlqUhcO5yjzn6wv0Bh06+JSxuVJd4Jtzl1gSRVQYMYgDDgi53X7IB49uc3/7CQfDDgpFuV3i4miVr6lXubx4jppTwJMSKzp00EkhyGMTEDBLnq8tXeZrC5doqBw522Xg+txubfHuxnv8ev23tOghiMh1BFfu7/JHVcn14mUqskhVeFwozPK1hQu0t3b5ZL9HjEIKmbSjVBIlIBQKbOhLn0etbW5vPORBe5u9oE8HnyfdJvuM6OkeCyb/32AwGAwGg8HwgnO8A0AxaREm8bCYlWUuNVa4vniOhdIM0rUZRD47By0+2X7Ap/ub7IZdFJNo4qQX9xeBjiYrBU4sKSibhlVgrVznzdIrRFbSsFxHaAMZMbRDxk7Mg/4ug06HO48/TbelJinIEoEtJu3GBPiWoiXG7KgAqcBB4IZl3mZE34oZy4hm5PNI9vkw2uNx3GSfIXEEEYkTwZ6ktLthny4lZsIZdhkw6wSEnkvL8XkkOrwfbXNHbRFGEUEUEZIomjuTlmba2pdCJtkWHEb906iyAqkklrBxLJsBAZ1oyPvNe/zr3Z/yUfdJmk/gRhZPHnaxXZflSoOSl8dVgqIveaXYoOYV2Bruk8dipdTgtdoaFV+CChnGMd1oxL8/+g0/+vTXPO43GU1a59lYPDjY597tLfbjHsVcnhmnSBkPJZI+bZHSsebjHQAAQxQ7DGnHY9aR9OKIV8M+vlR4nqQXKzbdAbfFPr+KNmgyIIz0bChmyXGjtMq35i5z0Z7BjiShiGkFPX50/9f8v/d+zWZvj3HsExLhYXO73eSj3jrfY8Q7V99iza1Rkg7ImDdmz7Ff3+ajrT4+IC0LIZLmiDHgi5huMGJn3OZH93/Bzx7+lu1xh2Ec4IuYsYombQBPWtPTtf+Haz3tZQ9YSGbI8Xr9Fd6uX6TkWwihGIU+t9tP+B8fv8t/rH9MLxwREBEjqMQutx83uT3Y5P+w3+HV+QvMUSCKbC4W5rg6u0q7uc+Ov09AjLAcpJLIWOAKm44dsh50+LcHv+ZnD95jK0o6COSwqIz32H8UUKiX+ONzr5OzXXwVM+eWWS01eMRDhvjMyQI3GitcLy2yqAr0VUBbjbnT3eBfb/+UX2zcImlSmJTu2IHk7pNdtv0OgYj4zoXXCSKQSoAUCCFBJXoIFSzWcjO8sXCBZa9GNXLpioD10T7/z4Nf8dMnv6FJhz4BDpI8kq3hPUa3bYrFEl9bvMSck0cpxY3aCpv1Zbb2NzhgkNyz4kTDIFaKgIhh4LM5avE/7vwn//HwI7bHHUZRSCiS1oRjddhK0xj/BoPBYDAYDIYXnWMdAEn6cRIJ83IFLl2+xrevv8nluRWKwiWyYKxi1qKAys4y6pP3GDy8Q9TvJQrmHO0r/0WQREfRjdNBiESMzpYTIcJ4UlguCWxBZEdYtoWUUuu+pdvR4xLo9PSn27GhdzP5nVCJQWIpELHWJMiIt029N5tpICc6CUl0UaQbn97GUwKLUxzZ/qTcQcWKgpdjFI0IhiM21zc46O7jYDEiRAIRMd24y+bGBp3zHfKzLsKRSCHJF/K4OY94CK5wmZ2fpVavUc4XiYOIcRSzub7Bndt32B/sERCkY4iJCQkYjXrcv3WX7dpFXrn4Gq6yKEh3kpUBR07AKcf11PwpPe/J3Et12OEhG0uPiKk36tRmZvBFRKhixqMRG+vr3P7kFnvDXSLCzBzHSBTjsM/9T+5wo7DE5UuzSNtGiBH1RoP5xQU+2bpPBMkamhiFectDxIqQgMcPH3L31h3a4T4jfIJJjXo4cXicKSA8tTaFEEgpiIhQKEqFMrML85QqJVzLIfB9er0en969x937d+jTm8g3TpxlRKBCms1tHty6x6v5ZbxaFVwbzx2xsLRIffcJW5tNYgSObSfvi2McaREFAdvrGzx59IhB1EudN4LkmFvtfTY3NhnOXaaYyycCjY5NsVxGCkmooFSpML+4QL5QwEbiKQs1Dnl47z5PNh6jtTsO0+1jxox4vPOQe1adV2vnqBbKiCQnH2klKfaJo8yhMlOjOlMjl8/BCMIgorXfYmd3B4C8nSe2XdxYkAslXgydgwN2d5sEjXMEtiCwIorlEo25WXL38okDQGsxCEHeclFhRN8PefTgYbKOol38ZIYJYeJ0iQ/Po3EAGAwGg8FgMBhecI44UQKFbgAAIABJREFUAA77dwscJZkXJd5aus6fXvkOl6vLFH2HQuwQS4hEInzWmHGoXXUQQ5/37t9iRMCIaKLwnTwVf1G5AJFIMgzGKmSswknZgSBKLUhBKGLGKsSPY3aCAZ0wwE+f0TNGvpoY4EonGSftxULixHBHECeqbJMviMXEwJt8DyaP/4eReZn+PyTpiR6LJKCvjdZYxEREBCSRf61JIFFY2ikgDuvotd/j6FlKdBe0EKKyFb3xmCeDPTbGLbr4qbJ/ErdOBO12xwc0xwfMWDNYtsSLbfLCoSBsHKAoXeaKNSpOgZx0GcoRnWjI3dY6jwdN+oT0JoUeST95SZcAEMigxe29dS4trLFcbmBJSRTEiaPmGQ6AxCRP5kygJoY0RCIxtKLJXEYiq+Ggz6ekYpWZLzeoOkVqXpleMKStRtxqrfN42KRPwHCSnZK8HyAgRHFvvMtvtx9yde0ic8UZbF9SdwsslesUpJu0m5SJk0lFEbgwlorHvTYftzd4FLbpEtEnJpxs/6Tq/9NmIW0BiG5tqXCRzJfqLJVnKEmPnOMxiH0eDPa41drgAJ8xiWGs1+Fg4uiIibl3sMGj1hZL9Tk8y6EYOKwWGywXZrhH0g5RSZGMWSikLeiMfR53m2wMWgwIGU3mjcmx7TNku9+iOx7SEAJHWOSkQ9Hy8JSNB9TyFWbKdWxhEaHoWyH3uzt8uPeQHXr0CBhN1hEk2UY9QnYZ8OHeQ97s7nAtnycnkvaGljgs2SmSY6FQp+6UKAgXL4Z8AHWV4635S1yaXcG3k3uEimJywiaHzYzIJdlLwiJSChmDh0XBcik4LnZgYcnEYahQSMdihGJ92OG3B+tsRAcMgf7EdfH/t3dnT5JcV57fv/e6e6y5b7VXoVAsgAS4oNlNdatHI5nJZmwe9ah/Z/4gPelNNpoZk6ml6Sa7CRALsdS+Z2blGrsv9955cPeIyEQCKAAFEuz8fWCJXCrCw7dIy3PuuefWVT++Tr986X0qIiIiIvLjc6oCwBBhq07ecDFe4u82b/Ob9jVW0jZdF9PMDcGWga2zsNC0tBavcXTlbfZ3dnk23CelKEduT80E+C5/IE9XIZgG4DmjPOXlpMfT4Uv6cU4egwkWY2wVgHmIDDvDQ3aHfbyp0xq2ChnnkgD1EoZmlgCgTgBAOZ3BmCqYD3gbyI0nw5Maf+KgyoSArUZLqySAmSUIgikTALlxpPMBqQEbQjUm6qvHMv2YP3knR8kDGI+LPH2bsWMG7Nghx6QMycjxWGyVADAcuhGHYUQelU0TG1ja3tIuDC2gEyIWTYNOSEiw9IznwA94XhzxkiHH5AzmCtttlcBIgZwhT0cHHKVDLi2tlxUKvqq0eIUEQL2OQyCQ4cmr8xKswVdJnqIKvIrqceUqAhGdRoeVZJEFGsRYJsbxnAGP3CH7jBlQJovqngN1gmGMx9Pj0WiP/XzIIsvlEnY+Yi3qsGAbRJ7pCHgIHmdhYAse50fcTffZZsyQggl+tjLG/DHPvQHOaoVo5u4fX119a2w1BSdiJemyGnfphBgPHJiMB8URD90x+2QMmDXxK+8eW/bBoOBZesD28ICJL1ek6LiI9dBm3XRokzCiKM+rCfjIUCSGflbw0o3Y8+Vxjavz5qrrkpBy7CaMXI4LAYMl9oaGK6cLtYG2adAyDWwok2i9kPEkO+ReuscuIzJClVgoRdSJR8szjnmeHfF2dBMbLJ24WVYBUE7L6ZCwarsshiY29TSKiAXb5Pb6FS5tbOIips1Ay+tgyyk9wZD4clqF957IGJrB0vCGpomJsFhbrdoQPFkcOAgpd/KXfJrtss2IHjlpfbbn3pfz11RJABERERH5MfvSFIB67DIiZmV1hbX1dZrtNmR1Sf+pEMZAo9NibXOD7uICZnQAlKOZr+PP4XpOtDGGlWaXwWTMMBvy9P5D/uXeHzk2EzJ8OUJblWl7Gwix4aAYs58NiR20aUzL8qfB2anAdPZd4Kwx3Pn52a+07/Xrzf+wOi0nf3byvJovhYmzfz5jr2ZfhXoJubMeZaZLsJkTRzp7tLWGKIqqYzTTaRz1c07vVX2O6upn5325ckH1w29b+3F6CsBZDyiLrv30Vctmg5Y4jsu54tUTfeEo8ryqFQhz25w1lgPKaowsxztH4Yqyy781JElCFMeYgrmpLGVZv3eebJKSpdl022U1Sb3d+VB//rXPOLbTbydTl/NXjR6jalS62ofgPHmaUeR1ncFsKglzzwTI85zxeDxdkcBX26gD3XnB+1kTwuC/sodHIOCcg1B1mPC+XPHBfPkOmd+C9x5fuJPHOve5fq94Vz5u9m9m7kyWx2bjGGOj6jUhjiLaSUTUbOHjsm9AAKIoqm7MQBIMIc0oxineB4Lx01U2jK3OuS+nQnhfTd/w5XUu0ny6fydPc3ncr6vfiYiIiIjID+1UAqAOOyDGstBqs9hs0QgGG0IZXE7nzIMJoZyb7aCTNGknzeoP9lnp//dOA0wDCwtRRBYHjsyER+k+X4zLhnCzcmI7DYk8MK6mI2RVOXXAVv31zPzm57422GBnZ6Ea/Z+Gf75qEmamfeFPhF6Gk6FfvUzfNEKuAwVjqlBy7omnA/cwHxZVgf184sDUm5yNdILBu/lwsA5Zyv/7MAvW6iUH6/0pR3nNrOQ+lEF/0zZoxy2aJiEOZXE61FMAzLRZZIeYpWaHdtKqHlM2MQS+RS+IufNqqKonysDamnJ7dY3EfMeG8meeYEJ1rgyRN8QhquofqnqO+rinvR2qYzDl+bX1nWtMdQ5CtdwiYGz1UY4Q50VGXqTV3tRJiTnTPhPVt6cv9Sn19ZglAML0uOoxfgPEBhJrSYxh1h5ytt3Z+w9MNeJtq5qXYAw+tvjITvfWVPe4A/B+ukX/FUmwetpMoLxF/VwVTfm88j6rO/dbY2iYiG7UZCFp0SCiwDG7N8uv6kqVbtxkodkulycMjtTnhOr9Uk6PMBgTMFEgRIbcBvazAdvDYx4Ndxn4FCJLqJaftMbincO6QIKlYSMKG5jYcmWCB8M9jouqHqFKgJSnxOB9KJt0enfinMw34jw7UyUiIiIi8uP0pSkAdWAEnjDJYJwR547YV3+w1zFjqP5w95B4A5McsoLE2Gnpbx2gfn9l8JWbwCQODNuB/VbGczNkOwwY406Os1bRkCdMR7EtEZ5oui79dK9O7d580qKcVx2mZfj1tIH62E+bjd1Wzwx14FamCmYj/ZYyWVGHYXUTwdkW6sfVTQNn12V+X+f665uyW7o1s6kOJ0edy+M21lal22Ea8IRqDsSkyOkNh6SuqAJCWGwvcmF1k4VmBzsZENVVAdWrJBhaRKzEba6sbbKyuETwZbLEWjudZvHNpkXb5Rk05Vl0VSXJfDqkDgY9ZYCbZhmjyYjClyPdEYZua4Gl7hIN28D4cXXOZxO1q7NLmwZLCwu0Gk2aUUK/GJMXBf3xiEleLu8WqvulnJJhqiqB8qOuMDjZ9PLs4L++r86KGadJszALMD2O0WTEJB3jgicKjmYSs7a4yGKnTdKrlrU0cymfUM6pj7AsdBZYWVqhESd4X05JmRQ54yKbzuyfng1jy/Nqyq/Lke2T4951oG4iW/W1oEqIBLx3VbICJtmESTomXipXtWibmAsra1zduMCjo21SJlWiI0z3OcYQ8GwtrbO+tEoeClxwjIusut7lvjhyxpMBuctpJg1ym5FFnjt7z/jP93/HIE/JcOQm4EL53j0xHSNU8/cNFCEwHo44KkblnWTstA9AnRjBGoKdW9bUnHzvv85GpyIiIiIiP7QvNQEsP5d/jA+HA/q9HvlKRmKbVVAw94Rq2SxXFAwHQ9LxpKoS4DVPhq2D57ryYPb55KOqEHJugI4wFxydsdkTLzE3vlcXO0xLm235YSILkT25sTooCLMR2Pmxd1MHkICxZtrV/PSunD0y/C3MHevs2dXo/1zwa6v9MXY2Tz8mIiPl6PCQ0XBIrz1kkpRL2l24comLLy7x4PEhcXAUzpUd68utkRnYvHKRrSuXGJuCSZExjNLZaPZrCJLMia/q9n/lxySf0O/1ybOcfjYmtZ643WB1Y51Gu4kfVmXeoQzayxUFLIlJWF1e4/LlK3S6narqAYosZ9jrk/t8el598HOrR8yf7+95bPNPr6rJg/dEVRJnPBwxGo7wzpH7gI9gaW2Z1Y01zMvH4OfqbeqpG1gapsHm1iabW5tEUUzwHnxg2B8y6A2mFQX16hpl9YE9Y6f48jGe+NZ86f0+Ggw5PjwmX8oIzSYBWF5f5drNG6zsP2bQ38PWUw0oq1diEjYWNrh+8w2WV1eIiAlZuT1fTU8wmLIHSH9IPklxzhEbQxTHYODg4JDdwX7VQ6KsnHD4KvlXvsMs9kQDz1kVSzxNMjFfiVFV7pz53lTwLyIiIiJ/YU4kAOpwpvwDObA97vHp/jNuXLzOtYVNnPe0qcqzCWQ4+jbnyfCAT3cesT08YhSyWSD9WgK/qgeANdXotqmCpGo0NsyC67OC6NOl16Ea7TTWliN909G+068cyvnIzoH3JN7QNQlLUYsl26QRbDWtYPa69tTreAKFc3jnSIKhYxIWoyYLtkGLaFpuH4zFhnLkevpfnXOwZcBeJyJOTAwwJz+oj2Xu7M1/NU1oVMdrTdkJ3tlyYbweE54c7fKkv8/K+joJMcu0aHcv8u9u/4aWbfCHR19wVPRxOJokXEhW+enlN/jb27/kraVLdFyMqeZSz+bDv+qVPvmdne5rPTINdcm9qaZzFMEzJuN5f4+X6TEXu00SY1mnw7vrN3hy+TbDB2OOimEZEAZPg4guCWu2wy82bvCzSzfo2AZ5lpPi2J30eNLfY0hWJZGq6QKmGm03lM0JrZlbAeKscvlXOuzpNSmXGwzV6Lwhw7M7POJJb48DN8bkMdYbrjXW+fWlt9l+sct4/yF5vQJBCCyS0CXhWnuDX166zfriGoXzjCjo+ZRHvR2eDfbIqmA4+FDdZ4bIlksQ1j0gvnwX1aPgVZm8LSuAYhtB9TshB/bSPg/2n/N88yYmiclMQTeL+PvL7xBup/zTnY/YGRwwzidAICHm6sIGf3frV/zNtXfYirrEWSAOBmvAubKywxE4ZsLz0SHb4yMup8dsmS4ueK6ubnF76xoHg0N6jKvVEEqWnAVa3Ohc5ubVa2TB8Wh/m93+AeM8xeGq1p319WC68sN8ErD+73X9bhMRERER+VOLYX7kn7lO9IZdP+Yfnt8hWVrm395+j0uNRbAWH5VrYKeh4MnkkH968hm/f3GPbdefdjKH11MEUE8jCL4qj57+lV6WLDsM7lQjrrNH0usi+vJ55YBoVaY/Hdk1VSBQFpjn6YQiy8jTlEAgdrDVXOJCe5n7vWd0iMvzYQ3eBPKiIARfdff3jIuUcT4heE/sAp1g2WovcWlhhQfHL0gxOBMwSUzIyxHaOolgQgDvwLtT+zj3Eary6xCmc7GnUwK+6nyGgPN+GrA5ylUNJnhyCp5Ojvho9xFXr1zjenOdqPCQev528RZb1zr8LGzxZPcFvdGAbrPNG5uX+dX1t/jJ6lWWiw6RL69FFCw+MFe+/SpXejr+Sj3dop5C4KvR9joE86ZeTR4KYp4MX/L5wRM21jZYCk1WaLPQbTC68SsoHL978Ak5OWMKusRs0uGXazf599d/xfX2GlHmyKxnGOfcPd7mztE2A/Ly/vO+PApTLlbocDgT8HOVHWcdzasK1Wi4CWWCw+HKcn0cO/S4c/SCh8MD3upeYzlEeF8Qb95mfGsAPvDw8DkpBTmBdVrcbF/g76//gv/x4jusRF1MiBj4jN1iyGeHz3g83icDWthyacPq9X1ws/vsS1U8c6kuU3U9qB5vKStJ6tUVXjLks70n/PTwGQuLi3RosEWHy3aB1cu/5g2/xN0Xj9k73Mc7z+byGm9dfoNfXL3NlfYG0dgQV3MMbDBlbwLjSQmMyXmSHXPv6AU/37pJMJ6NpEuI4ddvvMsgTXn/+V0GYUCMoU1Mm4SbCxf4n95+j1/dfAsXBz7YvsenOw+4++IJD49elD0kAD9tBOjngvy5qp7w2subRERERET+ZKYVAHXQ5abhWrnk3mBwxMfvf8jCXk507W1MY4E4SZj4jGdHL3l/9w6fv7zH0fCwXIKNvJx/X40Sft+BspOzkM8SvsWLVKPK9fbmnjY/cl4mAiDLcwb9AaPxiKiVEAysrK7wzi9/zv4Tw9PimM7yInEcc3B4yN379zBFvWnPqD9gPBiB80yyFANsXr7ALxbfY3vZsTfqsbiyyMLSEs+ePOPxg0c0KEui613zX3FsZ56RaaXAVx//6e9sZKspCp6IiDykPLhzlzuNTbbefY92nBBHlmbS4sr1qyxe3eRm/4hROqGTNNlqL3G5tcIiTcjCdGqAMWXgfGKpxW8wS8N89TEYAyaY6Tbr6Sr9yTEPvrjL7c5FzIXLdEyTIglcu/UGf3MhofXmJo8OX3A87rMYt/jF6nX+5tJbrDdWyt4J3tCOmxzuP+PR/QccHx5ggCZ2WiZvbZWemZvM/3X7+k1OP6++B62ZTREpKNjeecGje/e51lyFTtWUs93knV/9gvRql/XnD3nSe4mxlovJMr++eJu/3nqLhBbeB5x3WB94+vgJL569IPbQpUGb1pdeu7x29syrcGIcvJ4jXz+3OhfLNLEY+oeH3Pv8Dj/tXmJj/SLelpUSqxtr/Hz9F2zdvkZvOCB4z1Kzy6XuGhcayySFhdxRLexBPYWmTvxYYJKNeHT/Ic/a19m8eIsxnrEtuHztCr9eNhTPFmgcPGcwGrFom9xYu8hfXb3N21vXWWks4WJ4d7VBvhjxon9IOCqbOM6X/ddTDsrqjPkzoPBfRERERP5yxTCb717Hmo5yLvSAbFrGfvSwz2f7D7m0uEajkTDOU3Z6+9zr7/CcHj1yJhQUVfXA61COw5ej6d5SNRYM05FhE5gG9N9ckltWNhQUFKbARR4XBZwNhKqpgMNX+w+WmAEpTwd7DHzKpm1jvCE2ll9v/oSLCxs8S49JVjuEVsQfH97h+Nku/WJAhiPF8Tw/5MHxDj9L+3gDXROzarq8t/QGyz9p0/cT7EID223y+7xB/8kuo2KECw4XPM5QNiyjaopnmC5q5wizn5nyGE71KGcapdY/N9XIeZWc8QaIDHW3+YQGI1Ie8pL/9MU/ES01+KubP6UbNQmRZamzyEprnUsbFyjwJFFMjMENx+wcHGEGOStxh267Q2RjcBZroiqd8s3qxJOvxvadcQTryrvAuGlTxfpquur4hhTsMuT3L++x9mKLv11Z4EJ7lcTGbMRdou4VLl5dord5m3E2phM1uLqwwXrSpeEtvnAMI8dR2uO3Dz/ho2d3GZFhgEW604Z3wVh8vWKC99P+Cd9Onbaov/bTIy6nOgSCLZcn9EBO4AE7/NPjT1jdWuf2lRssmSYLUZM4adDaeJu3Whc5ngzBGFabC1zurLEWd/G5J80Lhibnj9v3+ce7H/J4tE2gXOWjgQcLznqKyGGqr11V5eDn1gKYvRer96PxBFt9jsopEfX1SHHs0OcfXn5E8kWbf/PuX7OxvErXNomSJmuNJmur6+V7LXhiG5M4Q//gmJeHAzq2STdq0kqaBGuJ4gSMqaY6GI6Z8PHePa4/3mB1eZnlxhLNOOFio0Wn0WaztcqvN/YZjcd04yaby2tsLa6w1OzQCIZ+yMh8wUH/mKNRn4KylWOBp4gMRWRw1lCYMF0NYrYmw/fu+iAiIiIi8mczrQA4PdJcVMHwCMchKY/p8dFgh2QcYa3BBU/uCzJTzT8+MS82fO9hsmnQYaCwkJtAYapC3ar54Ku0YJuVzJd/vhemILM5eVSQxgVZ5ChsWWKMBefKUmaP44AxH+7d59rOJf6H9s9Z8k26RYtNuvysuUXeCvSaBUdJRmgc8WlzifvDAUMcfXIm5Pxh/yE392/xm0tvsUKLSz7hql/ivc4FhklOL844ZkI/XuNessDjYkTuc5wJFAYyE8pjJ0yTAXVCoLCBwpYl/AXVMXypKH12TbwJFKZ8DhaKahu+6pqYVgmcIZ6X+YT8foM9xrx39Tabi6vEo5R4WHZmS4yhYMzAZ+z09tjd2aEzgnc33mBpcZFmZPBjT3BV5/hXngZQ9pIvTE5uMgqTUZDiQ0o5w9xTT1Kp59/3ycnxjDkgPPmAccvwb2+9x5ZZZsG1WC0WeTsskUQG2y73JM8cLguMbM6xcTwr9vhvDz7ivz5+n/vsYYhpYukQgbXTJRKLUCVhpqsbVKsSvOL9Xt+LZrrGRNlxw4WMECyFcWVATZmQiokYY/n98BH+i//Gv48D7268wfI4YmOScNmtEtsNbLvMUgRryMfldTyyBf0o5eP9R/yXB7/lk6OHHJNXqx9EtIzHx4HcFkyiHBt78rjARQXOuqqPQ72mBXN77HCmTKQV1uFswMVQmEAWAiM8jowx8H/tfMhR2/ObW+9yc+USCxk0s4gYSxQ8uXekJnCUTXj4/AlHB4fcWL3EzfWrJFFM0mgRgMI7MjyWmGNTkISU//vZB6Qd+J9/9tdciTZZGyWs+QVu2SWi5TcxS0DVsyErHJn3TGxBWoz5w8NP+N2nH/DicK/qKGFJjSeLDGlsmUTle6/A4Y2n/m+2coeIiIiIyF+e+JsfUs+ID7jgMEVZKusJ0/W+qUaXX6cT89wLh8tyXJaTZxlp1QG8nJP7ammAuqzfYjAu4NIcn+S4NCNPM7zz0+kGZjreV7B7+ILPP/ojl1nizbUrtJMu3c4CURxRGHDRiKEpiLAkcTKtfzAEOjR5ebjLxx98yI18ga3NN2iahFajSafRpNVwwIBRlmF9tSY9FhPA50V5zGlOnmakaUZRFFXnewg+4LOiPI6soMhysuoxYXrVTp2BAEWa4dIcExkKm+OyAkO9CkD9zHIU+PHOI6KdEf2tbX5y+Trriyt0kibWWpz3jNIxu709vnj+gOGgz083b2A2bhJFMVHkqjXYPa/eCLDcz8jYcnWJrNw/53KyNMUV7sznhOk+Ow6P9/no9x/Q2c34za2f09i8RGQTGo023UaLBIv3jszlDNMJk8GQJwdP+f3Tz/jw6ecc5nu0SEjxs3J3X563YpLjQoRzOaG6X757pqtMRPjCkacZRZYTnCVPM0yARhSXmR4CjoI0wNPnj/mXnsVeG/Crm2/TWV4jiRp0Gi2acYPgAoV3TPKMQTqiPzjis90H/P7RH3mwd5+MyXTlhPoD5ynSnJAWeF9+bTBlY7/pnp4q/w/gswKf5ri8vDZFljNrUVlXaDiORz0+/OOHjB/vsX/xJtc2LrHSWaBhYjyBUTpmMB6ye7jHF4/uEcUxW++t0owbRLZcls9gKPJi1qiPconENBvy6Scf097P4PYvWdx6g257kU6zTcs2MMaQuxznHYN8QjaacNjf46Onn/LBg9/zYvwcA7SJgYjgPEWa4efeUy4rwIfvMdFDREREROTH4xsTAPNl+GDqmASYjQhOl5ibX2/7e3B4supljtyYzw6e0L7/Pq1Gg2HI2J92aS9Hfr9p/0M1zjrBc+BGfLz7iOIzy2qjQ28y5G5/m53hMSOXk9Ud1XEcU452//PhfXp/LHjn0i1urF9iobsA1jJ2GXtuwJPRSz5/+Zi94XE5Og9MqsLinJzf7X5Kmqfcv/4W1zcv02w2ibH0mXDohjwf7vOHZ/d4mQ2Y4Nkvhnz48gETHM12i72sz+PeLruTY3LKuPAoH/Hhywe44FnoLvAiP+Le4QsOJgPGuGryxqweIMVz4Me8v3OPF+kxcTMm8wU7g312xz0gwlEGcWU5tOOIPncYcrC7z+e7D1hfW6fb7WKsJStyJumE/vExz/PndGjwbuctWssLFHgyXzAJGf1sSOqzE6XTZ90dvqpwAE+fnE8Pn9F6+CG2GTPyE/bGxzzp7TOpCs393HbqUnlDwT5jCv+S3uN/4X5vh7euv8nFlU2W212acUJsLD44JnlOfzzg8f4LPn3xgHuHz9ilR79qFOgo73ZPyl7W54PtewyGQ1pxwr4Zc/f4GQeTflUpc3Zi4ix1g0yPZ0DG/eFL/uHxJ3QOHhKsZZCOuXe4TUq5TF1ajTwXBLYZUgwe8vyzQz7tPePW1RtcWFqnlTSJo4jgA0VwjCZj9gfH3N19wqe7j3g0eskBQ8YUZDjqSRn9kPLweIf/79FH3Nt+TIgM+2HEw/1tsuDI68oewFTj3xMcT0b7/L+PP+az4+f0Q87LfMDdvWcMQ0ZaLbBXECgwZGQ8Z5f+4JAXd1+w+XSD5ZVlGo1Gub0sZTyZcHx0xD673HTXaHXapJEj8hnHaZ+MnInPpvsSDIyDY48JOZ7+9ic8GO7x7tXbXFm/yEp3kVZULlvqvCMvcvrFiO3DPe5tP+bu/lMe53sM8WTV7zWL5zAb8MH2HQbjEd1Omxf5EV8cPuEwHU6nN4mIiIiI/CX7zj2tTq/xXi9lNiuN/n47BRBhaJGwYFssJC0iY3E4cjyjYkK/mJBWAeE3sUCCpUVEN2rRScogvCAwChm9YszQZSe2ZauPFjELNFlrLrLWWWKpu0ij0SQtco7TAfujY44mfXr5mPRUmBBRNpJbos1ac5H1hRWWOwtEJiILBUfZkP3hMYejHgM/wQNNYhajNp24MZ37PAk543zCxJdJiSYJC1GLhaiJsZY0FIxDzsilTFx2IjFiMCRY2iQsRR1acTLtHTDxOb1sxCikVdO7mBYJLSzLts3WUjmXfn9wzGFW9jdwtqzMIASawAIJb3Yu8b//3X/gb678jI5J2G9k/PbgDv/n+/8Pv33wCWNyhq8QKFugQcSK6bDY6GCtoQiOHMeoSBkUE7IqHXXWjRMFO13XvUOD5bjDSqvLameRdqNJksQU3tGbDDkc9Tkc9+m5McNQhq5hrhdGXW3RNg2W4jZd28SaMrkz9BP6xZjc+xPJiFcUCKHiAAANHklEQVRhpvdFxKJp0W20iWxUlqp7Rz8bM/DjMji1UB+sxdDAVssYNlhtLbLeWWKp3aUVNwghkPqCw3G/vCezIQOXMiEvExqmvG716H8MdGyLbtykaWOCMUwo6OcTRkV5J/vpkZVj4A0sCzRYS9o0opiMQIpn6FIG+ZgURwS0SOgQ06VZnv/FJYoi5+XxPn0/wRuDq377mACLxKzR4W+v/IL/7e/+V26sXCBkOU/p8V+efsD/8bv/xNPBPgWQxeXKAN57YgwJhjYJK3GHldYiq50lFpptkjgpR//TMUfpgJfDI47zEeOQUeCnd2NUnY82DZbiFm3bKN9TFAx9yrCYkPlimoAQEREREflL9QpTAM52Osivv39d62PXJbcOx8RPCGlezeMvZ+FmVZOy6sGvEIHVqxw4xm5M4dKylB5DRqCYWze83iTMKgg8juP0iGF6RPOwSUKDgoIRGSmObDozfW4Dc/vkKDhOjxmnPXb3ExKiMpFRNU9McdMnFBSM3YjCpdTN7sq5/7Ow1+NJ3YTgylfOpx+eaes/U45t2mnFhmPiJuRugsOXSwDipimLsojDsrG+wZWNC1zdvMibl65hQuDjO5/x/ucf0xvvkU8D0jJwW04WeOOtW2xdvkRuPXnh6I8GHB8dc3R4RE7GK00DqM6ZxzMJE0JaYKbHXx/bq1R8zK7ZqBiSDQYcD/ZokhBhKHCMKUgpSKfVLdXzz7iPyoqBCZ4UCGR4JuQU3yEgnBXJl+0Os5Bj0np2eahG/d1sn8LJ584qWgp6kyPGk2OaxDRJAJhU99Nk7p6cNoIM9SZnQX3hc0ZZQVqV16f4udc/3fXeVPdaxiB32NxQEMigXjBxOl2g0+5wbf0S1y5c4vLWBS5vXeDw8IDfvv/P7D65wzgUuKqfQpn06XL54jVuvf0TukuLRKasNkqHI17uviSbZCRE1GH4iX4jVX3CqBiTD8b0Bvu0aBATVdVExfR9djpdaOeuiMMxKSbVXVFe57R6fyjwFxEREZF/Db5zAuAsryv4B6bhRFneXRaQG2ZTDk4EX6/4suUSh2XY7/DTwdWiCobng51Z/3yqQL2ggSXGMCGFqsh+FkSHacgU6ikR1fZdVTrtCGQYInyVjKDqbF6+fj2lgmrr9Yhj/Tr1sdchj6mOI0wTBLPHza8EUJfMl9MgyiZw8wFnoBwFTUxE1yRcXlrnf/n5b3jn0k06PsJNMi7fXuR6e4OP737G4bBH4RyJtWx1Vnjn2i3+6ubP2Ggt0Q5NspAzmEy4//IZu8MjAnYaUM4W+zvjsoXZvxbTo5p1/Hdzo7Yzp7c06+heBunlCHGKw1ZTOsLcucrxVdPHk8H8fAKo3FaBq35anLkfr65OUjjqYL+eFjA7VlPfnWH+eeV+5tUji6qyY4LHVMdWJ4rqZNBZSYr6fnDU91kdCFOdi/o+/vKelxMtYFy9f+pt1KF/mWKB5UaXX77xNn//7q/ZapeLA/ajDTbfaXKze4Enuy8YjIb4AK044cbSRf7N23/F25s3sD5wFMZ4Cu7vP+fBzhP6xXhakRB8mGZq6vdXPUEgr67yiEn1+4LpOavPSf1eq99b9fshx2EIRNi5e27WbFJERERE5C/da00AvC51MFEHM+lr+OO7DnbzbzVfu5QRyE5VCACvVHlQjqoG0rOe/zXPSr9hpLvAMfnmzVC3SCyTJl+9TYshCoZ2sLSPC9aOAj9ZW6CTWRpFl5utRW5dWeOX7au8ONilPx6w2OpyY/UCb6xcZL2zTJEFemZMjwl/eHmfD3fus+sGTAjV0ddrzZ9cKPL0mgXZdG52/Zyvqh4wcx9lUFh3PnDVeP13Nd9I0b3C9fg22y23WW+3Xtfhm5XBrCeHb772X/P6s/vh27yvQpUMK9diGJ36VwPTJpYtYtoTw8KR5/Kgyc2wSJQHorzFzdVFfpZc5MnqNke9HsYH1rrL3Fy/zPWlLRZMi4HPOTYpT9J9/nn7C744eMagqrhwBOYvRVkNFKoGlrOqhfkExnwybPZd3aqTKgFTno/XdZ1FRERERH6MfpQJgNn4+4/Yj2n3vmsnh7nnza/2vr+/y91Pv+BWss6t1csYm9BKmqw2IxrLXTauXCBzOa0oYSNZYC20aYeIfjEhzh0vdp7y2aefsr37goJiGpCdDL6+yw5/OYCTH4fZaHqZ3EnTEQ8+v8udeJ2tt1osNMqi/HarzVZri/baEmmeEZmIrm2wSpsuTbohYZRnjPrH3H38OY8fPALv5+7Pr2dOfa1xexERERGRmQj4j9/mCX/akEsB3p9SPYobCBz3e6R5RrPdpLnQgXYCzZhmu8nK0jLr6+ssdLpEcUxuAgMydtMeHz2/x/9/5wM+3nnAAWNGVY/8+VnUp6/qN1/lrwvjFOb9mMwvApj6lN7xACJDd2mR0LAUCcTtJovLi6wur7K2skKr2aTAkwZHj5T7/R3+8d5H/OP9j7iXvqhWZnBVBcRZr/dls8VB59fCOP1M3TsiIiIicr688l/AZu7zq43FyXd3enT7Fc/494xnDBAbiw2BFhHr8QJvblzl3au3+OnlN7jYXWEpahPbmDiKyYPnuJhw6EZsDw/47MVDvnj2gIf7L+hlIyYhx5mv7g1x+p6C13NfnWy0p3v19fv6M2yAGEuCYYEWlxfWeevSDd659CY3Ny6z0VpkwTaw1oKB1Occuwl76ZDHx7t89PgL7mw/Ymd4wNjl5coTZ7xG/fl13jsiIiIiIv+afasEwPyf/POf5XX7HgmA+uHfgTWGKLKEwtEiYokmXSIussRPNq5wdXGDlbhNM2rSiBtMfMFRMeZlMeDpYI97+8946XqMKKYd1L+uf/p3PMpvpATAD+2bfxvEGGIMLWK6RKzS4UZrizfXLnOps8KCbZJYC9YwchlHfsJO2udRb5d7R884ZEBGueRifsYV/KHuHRERERGRf82+dQVATX9s/9BOlyj/8GfcGoM1huA9SRW8NTF0iVmiSYeYFnG1xFpCimPAhCEFQ3L6pIzJyZgtXehNVYz9Fbv/Vc0Avw/dq9/Fq2aPXm3s3VKuLNEgooWlScQiDRZo0CGmTUyjakEyJmdIzgjHkII+KRPyaTPIadn/3EueVfqv6ywiIiIi8vU0CVbONOuvXy5IZ6vPs/BvtpRg3X+97pyv0dgfj1dLI71KzcR3q6uo76G6v4Tl5L1Vbm12H83uJd1HIiIiIiKv2490FQD5c6uDLzMXiIXpEmvlI+pgbT5gq58rPy5/rkxfnRQy1PeIwU7vo1mbvvI+mr/XRERERETkdVMCQL7WfFAfpimB+mcnAzYFbT9OX39d/jQrbdQLe86WC/zyfVSnm3QfiYiIiIj8MDQFQF7ZVy+5Jn95/nytEnUfiYiIiIj8eagCQF6ZArR/LU730P/T0n0kIiIiIvLnYf/cOyAif2qasCEiIiIich5pCoCI/KBOLxz4VWsMzD+Gr3iciIiIiIh8d6oAEJEf3KtMOPjzTUoQERERETkflAAQkR/cq4zmh6/4WkREREREXg9NARARERERERE5B1QBICIiIiIiInIOKAEgIiIiIiIicg4oASAiIiIiIiJyDigBICIiIiIiInIOKAEgIiIiIiIicg4oASAiIiIiIiJyDigBICIiIiIiInIOKAEgIiIiIiIicg4oASAiIiIiIiJyDigBICIiIiIiInIOKAEgIiIiIiIicg4oASAiIiIiIiJyDigBICIiIiIiInIOKAEgIiIiIiIicg4oASAiIiIiIiJyDigBICIiIiIiInIOKAEgIiIiIiIicg4oASAiIiIiIiJyDigBICIiIiIiInIOKAEgIiIiIiIicg4oASAiIiIiIiJyDigBICIiIiIiInIOKAEgIiIiIiIicg4oASAiIiIiIiJyDigBICIiIiIiInIOKAEgIiIiIiIicg4oASAiIiIiIiJyDigBICIiIiIiInIOKAEgIiIiIiIicg4oASAiIiIiIiJyDigBICIiIiIiInIOKAEgIiIiIiIicg4oASAiIiIiIiJyDigBICIiIiIiInIOKAEgIiIiIiIicg4oASAiIiIiIiJyDigBICIiIiIiInIOKAEgIiIiIiIicg4oASAiIiIiIiJyDigBICIiIiIiInIOKAEgIiIiIiIicg4oASAiIiIiIiJyDigBICIiIiIiInIOKAEgIiIiIiIicg4oASAiIiIiIiJyDigBICIiIiIiInIOKAEgIiIiIiIicg4oASAiIiIiIiJyDigBICIiIiIiInIOKAEgIiIiIiIicg4oASAiIiIiIiJyDigBICIiIiIiInIOKAEgIiIiIiIicg4oASAiIiIiIiJyDigBICIiIiIiInIOKAEgIiIiIiIicg4oASAiIiIiIiJyDigBICIiIiIiInIOKAEgIiIiIiIicg4oASAiIiIiIiJyDigBICIiIiIiInIOKAEgIiIiIiIicg4oASAiIiIiIiJyDigBICIiIiIiInIO/HcdTt04c18kKQAAAABJRU5ErkJggg==)"
      ]
    },
    {
      "cell_type": "code",
      "execution_count": null,
      "metadata": {
        "id": "3pPJM0udKMNL"
      },
      "outputs": [],
      "source": [
        "# Mke a bigger Data Set\n",
        "\n",
        "x= tf.range(-100,100,4)\n",
        "\n",
        "# Make a labels for the dataset\n",
        "y=x+10\n",
        "\n"
      ]
    },
    {
      "cell_type": "code",
      "execution_count": null,
      "metadata": {
        "colab": {
          "base_uri": "https://localhost:8080/",
          "height": 282
        },
        "id": "VEaQni9jLzNL",
        "outputId": "08d3ebb9-6bd0-4673-bdb9-3dcc360807b0"
      },
      "outputs": [
        {
          "data": {
            "text/plain": [
              "<matplotlib.collections.PathCollection at 0x7fddf38e4f50>"
            ]
          },
          "execution_count": 11,
          "metadata": {},
          "output_type": "execute_result"
        },
        {
          "data": {
            "image/png": "[encoded data removed]",
            "text/plain": [
              "<Figure size 432x288 with 1 Axes>"
            ]
          },
          "metadata": {},
          "output_type": "display_data"
        }
      ],
      "source": [
        "#Visualize the data\n",
        "\n",
        "plt.scatter(x,y)"
      ]
    },
    {
      "cell_type": "code",
      "execution_count": null,
      "metadata": {
        "id": "Rd3-ALlML9Ri"
      },
      "outputs": [],
      "source": [
        "# Split data into train and test sets\n",
        "\n",
        "x_train = x[:40]\n",
        "y_train = y[:40]\n",
        "\n",
        "x_test = x[40:]\n",
        "y_test = y[40:]"
      ]
    },
    {
      "cell_type": "code",
      "execution_count": null,
      "metadata": {
        "colab": {
          "base_uri": "https://localhost:8080/",
          "height": 428
        },
        "id": "DR7PMMM0MgEN",
        "outputId": "081814f2-43c4-41e8-a240-8ee8f7a40159"
      },
      "outputs": [
        {
          "data": {
            "image/png": "[encoded data removed]",
            "text/plain": [
              "<Figure size 720x504 with 1 Axes>"
            ]
          },
          "metadata": {},
          "output_type": "display_data"
        }
      ],
      "source": [
        "#### Visualizng the data\n",
        "\n",
        "plt.figure(figsize=(10,7))\n",
        "\n",
        "# plot training data in blue\n",
        "\n",
        "plt.scatter(x_train,y_train , c=\"b\",label=\"Training Data\")\n",
        "\n",
        "# plot the test data in green\n",
        "\n",
        "plt.scatter(x_test,y_test,c=\"g\",label=\"Test Data\")\n",
        "\n",
        "# Show a legend\n",
        "plt.legend();\n"
      ]
    },
    {
      "cell_type": "code",
      "execution_count": null,
      "metadata": {
        "colab": {
          "base_uri": "https://localhost:8080/"
        },
        "id": "kmpmj4PcNeHB",
        "outputId": "6d16fa8d-8503-4cbe-8179-a0eac490f548"
      },
      "outputs": [
        {
          "name": "stdout",
          "output_type": "stream",
          "text": [
            "Model: \"Our_Model\"\n",
            "_________________________________________________________________\n",
            " Layer (type)                Output Shape              Param #   \n",
            "=================================================================\n",
            " Input_layer (Dense)         (None, 10)                20        \n",
            "                                                                 \n",
            " Output_Layer (Dense)        (None, 1)                 11        \n",
            "                                                                 \n",
            "=================================================================\n",
            "Total params: 31\n",
            "Trainable params: 31\n",
            "Non-trainable params: 0\n",
            "_________________________________________________________________\n"
          ]
        }
      ],
      "source": [
        "# set seed\n",
        "tf.random.set_seed(42)\n",
        "\n",
        "#1 . Create the model\n",
        "\n",
        "\n",
        "model3 = tf.keras.Sequential([\n",
        "                                     tf.keras.layers.Dense(10,input_shape=[1],name=\"Input_layer\"),\n",
        "                                     tf.keras.layers.Dense(1,name = \"Output_Layer\")\n",
        "],name = \"Our_Model\")\n",
        "# Visualize the model\n",
        "model3.summary()"
      ]
    },
    {
      "cell_type": "code",
      "execution_count": null,
      "metadata": {
        "colab": {
          "base_uri": "https://localhost:8080/"
        },
        "id": "q1Nrm8GlQH60",
        "outputId": "4e69a7c5-967d-40c9-92bc-2e36c6b8ff48"
      },
      "outputs": [
        {
          "data": {
            "text/plain": [
              "array([[21.23416]], dtype=float32)"
            ]
          },
          "execution_count": 15,
          "metadata": {},
          "output_type": "execute_result"
        }
      ],
      "source": [
        "\n",
        "#2 . compile the model\n",
        "\n",
        "model3.compile(loss = tf.keras.losses.mae,\n",
        "              optimizer = tf.keras.optimizers.SGD(),\n",
        "              metrics = [\"mae\"])\n",
        "\n",
        "\n",
        "#3. fit the model\n",
        "\n",
        "model3.fit(tf.expand_dims(x_train,1),y_train,epochs=100,verbose=0)\n",
        "\n",
        "## predict\n",
        "\n",
        "model3.predict([17.0])"
      ]
    },
    {
      "cell_type": "code",
      "execution_count": null,
      "metadata": {
        "colab": {
          "base_uri": "https://localhost:8080/"
        },
        "id": "EONyIqhQSvAf",
        "outputId": "3249091c-564a-46e6-f1d3-e8928710d712"
      },
      "outputs": [
        {
          "name": "stdout",
          "output_type": "stream",
          "text": [
            "Model: \"Our_Model\"\n",
            "_________________________________________________________________\n",
            " Layer (type)                Output Shape              Param #   \n",
            "=================================================================\n",
            " Input_layer (Dense)         (None, 10)                20        \n",
            "                                                                 \n",
            " Output_Layer (Dense)        (None, 1)                 11        \n",
            "                                                                 \n",
            "=================================================================\n",
            "Total params: 31\n",
            "Trainable params: 31\n",
            "Non-trainable params: 0\n",
            "_________________________________________________________________\n"
          ]
        }
      ],
      "source": [
        "# Get a summary of our model\n",
        "\n",
        "model3.summary()"
      ]
    },
    {
      "cell_type": "code",
      "execution_count": null,
      "metadata": {
        "colab": {
          "base_uri": "https://localhost:8080/",
          "height": 312
        },
        "id": "m6E9GnPFG_Wd",
        "outputId": "8f01ce46-20b6-46fd-a870-4409df1b53da"
      },
      "outputs": [
        {
          "data": {
            "image/png": "[encoded data removed]",
            "text/plain": [
              "<IPython.core.display.Image object>"
            ]
          },
          "execution_count": 17,
          "metadata": {},
          "output_type": "execute_result"
        }
      ],
      "source": [
        "from tensorflow.keras.utils import plot_model\n",
        "\n",
        "plot_model(model3,show_shapes\n",
        "=True)"
      ]
    },
    {
      "cell_type": "markdown",
      "metadata": {
        "id": "y3qHXnOQIHtW"
      },
      "source": [
        "### Visualizing our Model's Predictions"
      ]
    },
    {
      "cell_type": "code",
      "execution_count": null,
      "metadata": {
        "colab": {
          "base_uri": "https://localhost:8080/"
        },
        "id": "Fcxwhl4CICIm",
        "outputId": "822872bd-d2af-44fa-8e21-295d60ea981c"
      },
      "outputs": [
        {
          "name": "stdout",
          "output_type": "stream",
          "text": [
            "WARNING:tensorflow:5 out of the last 5 calls to <function Model.make_predict_function.<locals>.predict_function at 0x7fddf4665200> triggered tf.function retracing. Tracing is expensive and the excessive number of tracings could be due to (1) creating @tf.function repeatedly in a loop, (2) passing tensors with different shapes, (3) passing Python objects instead of tensors. For (1), please define your @tf.function outside of the loop. For (2), @tf.function has experimental_relax_shapes=True option that relaxes argument shapes that can avoid unnecessary retracing. For (3), please refer to https://www.tensorflow.org/guide/function#controlling_retracing and https://www.tensorflow.org/api_docs/python/tf/function for  more details.\n"
          ]
        },
        {
          "data": {
            "text/plain": [
              "array([[ 70.55218 ],\n",
              "       [ 75.13991 ],\n",
              "       [ 79.72763 ],\n",
              "       [ 84.31535 ],\n",
              "       [ 88.903076],\n",
              "       [ 93.49081 ],\n",
              "       [ 98.07853 ],\n",
              "       [102.66625 ],\n",
              "       [107.253975],\n",
              "       [111.8417  ]], dtype=float32)"
            ]
          },
          "execution_count": 18,
          "metadata": {},
          "output_type": "execute_result"
        }
      ],
      "source": [
        "# Make Some Predictions\n",
        "\n",
        "y_pred = model3.predict(x_test)\n",
        "y_pred"
      ]
    },
    {
      "cell_type": "code",
      "execution_count": null,
      "metadata": {
        "id": "Xo8rkueRJhdc"
      },
      "outputs": [],
      "source": [
        "# Let's create a plotting function\n",
        "\n",
        "def plot_prediction (train_data = x_train,train_labels = y_train ,test_data = x_test , test_labels = y_test,predictions = y_pred) :\n",
        "  \" \"\"Plot train data and test data and compare predictions\"\" \"\n",
        "  plt.figure(figsize=(10,7))\n",
        "  # Plot training data in blue\n",
        "  plt.scatter(train_data,train_labels,c=\"b\",label=\"Training data\")\n",
        "  # Plot testing data\n",
        "  plt.scatter(test_data,test_labels,c=\"g\",label=\"Testing data\")\n",
        "  # Plot model's predictions\n",
        "  plt.scatter(test_data,predictions,c=\"r\",label=\"Predictions\")\n",
        "  # Show legand\n",
        "  plt.legend()\n",
        "\n",
        "\n",
        "\n"
      ]
    },
    {
      "cell_type": "code",
      "execution_count": null,
      "metadata": {
        "colab": {
          "base_uri": "https://localhost:8080/",
          "height": 428
        },
        "id": "BatpaAdUMJ46",
        "outputId": "72c87e43-dc34-4cd4-b956-8e69248ed005"
      },
      "outputs": [
        {
          "data": {
            "image/png": "[encoded data removed]",
            "text/plain": [
              "<Figure size 720x504 with 1 Axes>"
            ]
          },
          "metadata": {},
          "output_type": "display_data"
        }
      ],
      "source": [
        "# Plotpredictions\n",
        "plot_prediction(train_data=x_train,train_labels=y_train,test_data=x_test,test_labels=y_test,predictions=y_pred)"
      ]
    },
    {
      "cell_type": "markdown",
      "metadata": {
        "id": "dqsFW-DqMnt3"
      },
      "source": [
        "### Evaluating our model's predictions with regression evaluation metrics"
      ]
    },
    {
      "cell_type": "code",
      "execution_count": null,
      "metadata": {
        "colab": {
          "base_uri": "https://localhost:8080/"
        },
        "id": "nlydtVH-MJvA",
        "outputId": "c06b2bfe-12b5-4501-ddb9-173b2f1aec3e"
      },
      "outputs": [
        {
          "name": "stdout",
          "output_type": "stream",
          "text": [
            "1/1 [==============================] - 0s 344ms/step - loss: 3.1969 - mae: 3.1969\n"
          ]
        },
        {
          "data": {
            "text/plain": [
              "[3.196942090988159, 3.196942090988159]"
            ]
          },
          "execution_count": 21,
          "metadata": {},
          "output_type": "execute_result"
        }
      ],
      "source": [
        "# Evaluate the model on the test\n",
        "\n",
        "model3.evaluate(x_test,y_test)\n"
      ]
    },
    {
      "cell_type": "code",
      "execution_count": null,
      "metadata": {
        "colab": {
          "base_uri": "https://localhost:8080/"
        },
        "id": "DGTUwnNjNfYD",
        "outputId": "c25e690a-e008-4a5a-e34e-27521fa7a539"
      },
      "outputs": [
        {
          "data": {
            "text/plain": [
              "<tf.Tensor: shape=(), dtype=float32, numpy=3.1969407>"
            ]
          },
          "execution_count": 22,
          "metadata": {},
          "output_type": "execute_result"
        }
      ],
      "source": [
        "### Calculate the mean abolute error\n",
        "\n",
        "# we need to reshape our inputs\n",
        "y_pred.shape == y_test.shape\n",
        "\n",
        "y_pred.shape ,y_test.shape\n",
        "y_pred = tf.squeeze(y_pred)\n",
        "\n",
        "y_pred.shape ,y_test.shape\n",
        "# MAE\n",
        "mae = tf.metrics.mean_absolute_error(y_test,y_pred)\n",
        "mae\n",
        "\n",
        "\n"
      ]
    },
    {
      "cell_type": "code",
      "execution_count": null,
      "metadata": {
        "colab": {
          "base_uri": "https://localhost:8080/"
        },
        "id": "uaUn5NYmRSw2",
        "outputId": "206ee567-5197-48a7-a36e-4eb2fdd5efa6"
      },
      "outputs": [
        {
          "data": {
            "text/plain": [
              "<tf.Tensor: shape=(), dtype=float32, numpy=13.070143>"
            ]
          },
          "execution_count": 23,
          "metadata": {},
          "output_type": "execute_result"
        }
      ],
      "source": [
        "# Calculate the mean square error\n",
        "\n",
        "mse = tf.keras.losses.MSE(y_test,y_pred)\n",
        "mse"
      ]
    },
    {
      "cell_type": "code",
      "execution_count": null,
      "metadata": {
        "id": "W4XrkR6jRr9U"
      },
      "outputs": [],
      "source": [
        "# calculate HUBER\n",
        "\n",
        "#huber = tf.keras.losses.Huber()\n",
        "#huber"
      ]
    },
    {
      "cell_type": "code",
      "execution_count": null,
      "metadata": {
        "id": "bCtQjJC2SbeP"
      },
      "outputs": [],
      "source": [
        "# Make some functions to reuse MAE abd MSE\n",
        "\n",
        "def mae(y_true,y_pred):\n",
        "  return tf.metrics.mean_absolute_error(y_true,tf.squeeze(y_pred))\n",
        "def mse(y_true,y_pred):\n",
        "  return tf.metrics.mean_squared_error(y_true,tf.squeeze(y_pred))  "
      ]
    },
    {
      "cell_type": "markdown",
      "metadata": {
        "id": "hhuzBAGETNdk"
      },
      "source": [
        "### Running experiments to improve our model\n"
      ]
    },
    {
      "cell_type": "markdown",
      "metadata": {
        "id": "e3wCoQVzTlMl"
      },
      "source": [
        "# 1. Build model_13 "
      ]
    },
    {
      "cell_type": "code",
      "execution_count": null,
      "metadata": {
        "colab": {
          "base_uri": "https://localhost:8080/"
        },
        "id": "2nZZkNCpTAna",
        "outputId": "084a8979-7936-485d-d2bd-c675f651c8f5"
      },
      "outputs": [
        {
          "name": "stdout",
          "output_type": "stream",
          "text": [
            "Epoch 1/100\n",
            "2/2 [==============================] - 1s 7ms/step - loss: 15.9024 - mae: 15.9024\n",
            "Epoch 2/100\n",
            "2/2 [==============================] - 0s 4ms/step - loss: 11.2837 - mae: 11.2837\n",
            "Epoch 3/100\n",
            "2/2 [==============================] - 0s 10ms/step - loss: 11.1074 - mae: 11.1074\n",
            "Epoch 4/100\n",
            "2/2 [==============================] - 0s 6ms/step - loss: 9.2991 - mae: 9.2991\n",
            "Epoch 5/100\n",
            "2/2 [==============================] - 0s 8ms/step - loss: 10.1677 - mae: 10.1677\n",
            "Epoch 6/100\n",
            "2/2 [==============================] - 0s 6ms/step - loss: 9.4303 - mae: 9.4303\n",
            "Epoch 7/100\n",
            "2/2 [==============================] - 0s 10ms/step - loss: 8.5704 - mae: 8.5704\n",
            "Epoch 8/100\n",
            "2/2 [==============================] - 0s 8ms/step - loss: 9.0442 - mae: 9.0442\n",
            "Epoch 9/100\n",
            "2/2 [==============================] - 0s 5ms/step - loss: 18.7517 - mae: 18.7517\n",
            "Epoch 10/100\n",
            "2/2 [==============================] - 0s 9ms/step - loss: 10.1142 - mae: 10.1142\n",
            "Epoch 11/100\n",
            "2/2 [==============================] - 0s 17ms/step - loss: 8.3980 - mae: 8.3980\n",
            "Epoch 12/100\n",
            "2/2 [==============================] - 0s 11ms/step - loss: 10.6639 - mae: 10.6639\n",
            "Epoch 13/100\n",
            "2/2 [==============================] - 0s 14ms/step - loss: 9.7977 - mae: 9.7977\n",
            "Epoch 14/100\n",
            "2/2 [==============================] - 0s 14ms/step - loss: 16.0103 - mae: 16.0103\n",
            "Epoch 15/100\n",
            "2/2 [==============================] - 0s 12ms/step - loss: 11.4068 - mae: 11.4068\n",
            "Epoch 16/100\n",
            "2/2 [==============================] - 0s 10ms/step - loss: 8.5393 - mae: 8.5393\n",
            "Epoch 17/100\n",
            "2/2 [==============================] - 0s 17ms/step - loss: 13.6348 - mae: 13.6348\n",
            "Epoch 18/100\n",
            "2/2 [==============================] - 0s 4ms/step - loss: 11.4629 - mae: 11.4629\n",
            "Epoch 19/100\n",
            "2/2 [==============================] - 0s 24ms/step - loss: 17.9148 - mae: 17.9148\n",
            "Epoch 20/100\n",
            "2/2 [==============================] - 0s 15ms/step - loss: 15.0494 - mae: 15.0494\n",
            "Epoch 21/100\n",
            "2/2 [==============================] - 0s 10ms/step - loss: 11.0216 - mae: 11.0216\n",
            "Epoch 22/100\n",
            "2/2 [==============================] - 0s 15ms/step - loss: 8.1558 - mae: 8.1558\n",
            "Epoch 23/100\n",
            "2/2 [==============================] - 0s 10ms/step - loss: 9.5138 - mae: 9.5138\n",
            "Epoch 24/100\n",
            "2/2 [==============================] - 0s 10ms/step - loss: 7.6617 - mae: 7.6617\n",
            "Epoch 25/100\n",
            "2/2 [==============================] - 0s 14ms/step - loss: 13.1859 - mae: 13.1859\n",
            "Epoch 26/100\n",
            "2/2 [==============================] - 0s 5ms/step - loss: 16.4211 - mae: 16.4211\n",
            "Epoch 27/100\n",
            "2/2 [==============================] - 0s 9ms/step - loss: 13.1660 - mae: 13.1660\n",
            "Epoch 28/100\n",
            "2/2 [==============================] - 0s 10ms/step - loss: 14.2559 - mae: 14.2559\n",
            "Epoch 29/100\n",
            "2/2 [==============================] - 0s 9ms/step - loss: 10.0670 - mae: 10.0670\n",
            "Epoch 30/100\n",
            "2/2 [==============================] - 0s 4ms/step - loss: 16.3409 - mae: 16.3409\n",
            "Epoch 31/100\n",
            "2/2 [==============================] - 0s 10ms/step - loss: 23.6444 - mae: 23.6444\n",
            "Epoch 32/100\n",
            "2/2 [==============================] - 0s 13ms/step - loss: 7.6215 - mae: 7.6215\n",
            "Epoch 33/100\n",
            "2/2 [==============================] - 0s 6ms/step - loss: 9.3221 - mae: 9.3221\n",
            "Epoch 34/100\n",
            "2/2 [==============================] - 0s 6ms/step - loss: 13.7313 - mae: 13.7313\n",
            "Epoch 35/100\n",
            "2/2 [==============================] - 0s 7ms/step - loss: 11.1276 - mae: 11.1276\n",
            "Epoch 36/100\n",
            "2/2 [==============================] - 0s 9ms/step - loss: 13.3222 - mae: 13.3222\n",
            "Epoch 37/100\n",
            "2/2 [==============================] - 0s 5ms/step - loss: 9.4763 - mae: 9.4763\n",
            "Epoch 38/100\n",
            "2/2 [==============================] - 0s 7ms/step - loss: 10.1381 - mae: 10.1381\n",
            "Epoch 39/100\n",
            "2/2 [==============================] - 0s 12ms/step - loss: 10.1793 - mae: 10.1793\n",
            "Epoch 40/100\n",
            "2/2 [==============================] - 0s 10ms/step - loss: 10.9137 - mae: 10.9137\n",
            "Epoch 41/100\n",
            "2/2 [==============================] - 0s 7ms/step - loss: 7.9063 - mae: 7.9063\n",
            "Epoch 42/100\n",
            "2/2 [==============================] - 0s 7ms/step - loss: 10.0914 - mae: 10.0914\n",
            "Epoch 43/100\n",
            "2/2 [==============================] - 0s 22ms/step - loss: 8.7006 - mae: 8.7006\n",
            "Epoch 44/100\n",
            "2/2 [==============================] - 0s 16ms/step - loss: 12.2047 - mae: 12.2047\n",
            "Epoch 45/100\n",
            "2/2 [==============================] - 0s 7ms/step - loss: 13.7970 - mae: 13.7970\n",
            "Epoch 46/100\n",
            "2/2 [==============================] - 0s 11ms/step - loss: 8.4687 - mae: 8.4687\n",
            "Epoch 47/100\n",
            "2/2 [==============================] - 0s 11ms/step - loss: 9.1330 - mae: 9.1330\n",
            "Epoch 48/100\n",
            "2/2 [==============================] - 0s 13ms/step - loss: 10.6190 - mae: 10.6190\n",
            "Epoch 49/100\n",
            "2/2 [==============================] - 0s 9ms/step - loss: 7.7503 - mae: 7.7503\n",
            "Epoch 50/100\n",
            "2/2 [==============================] - 0s 4ms/step - loss: 9.5407 - mae: 9.5407\n",
            "Epoch 51/100\n",
            "2/2 [==============================] - 0s 7ms/step - loss: 9.1584 - mae: 9.1584\n",
            "Epoch 52/100\n",
            "2/2 [==============================] - 0s 7ms/step - loss: 16.3630 - mae: 16.3630\n",
            "Epoch 53/100\n",
            "2/2 [==============================] - 0s 6ms/step - loss: 14.1299 - mae: 14.1299\n",
            "Epoch 54/100\n",
            "2/2 [==============================] - 0s 7ms/step - loss: 21.1247 - mae: 21.1247\n",
            "Epoch 55/100\n",
            "2/2 [==============================] - 0s 7ms/step - loss: 16.3961 - mae: 16.3961\n",
            "Epoch 56/100\n",
            "2/2 [==============================] - 0s 7ms/step - loss: 9.9806 - mae: 9.9806\n",
            "Epoch 57/100\n",
            "2/2 [==============================] - 0s 7ms/step - loss: 9.9606 - mae: 9.9606\n",
            "Epoch 58/100\n",
            "2/2 [==============================] - 0s 5ms/step - loss: 9.2209 - mae: 9.2209\n",
            "Epoch 59/100\n",
            "2/2 [==============================] - 0s 11ms/step - loss: 8.4239 - mae: 8.4239\n",
            "Epoch 60/100\n",
            "2/2 [==============================] - 0s 11ms/step - loss: 9.4869 - mae: 9.4869\n",
            "Epoch 61/100\n",
            "2/2 [==============================] - 0s 8ms/step - loss: 11.4355 - mae: 11.4355\n",
            "Epoch 62/100\n",
            "2/2 [==============================] - 0s 17ms/step - loss: 11.6887 - mae: 11.6887\n",
            "Epoch 63/100\n",
            "2/2 [==============================] - 0s 7ms/step - loss: 7.0838 - mae: 7.0838\n",
            "Epoch 64/100\n",
            "2/2 [==============================] - 0s 10ms/step - loss: 16.9675 - mae: 16.9675\n",
            "Epoch 65/100\n",
            "2/2 [==============================] - 0s 8ms/step - loss: 12.4599 - mae: 12.4599\n",
            "Epoch 66/100\n",
            "2/2 [==============================] - 0s 9ms/step - loss: 13.0184 - mae: 13.0184\n",
            "Epoch 67/100\n",
            "2/2 [==============================] - 0s 5ms/step - loss: 8.0600 - mae: 8.0600\n",
            "Epoch 68/100\n",
            "2/2 [==============================] - 0s 8ms/step - loss: 10.1888 - mae: 10.1888\n",
            "Epoch 69/100\n",
            "2/2 [==============================] - 0s 14ms/step - loss: 12.3633 - mae: 12.3633\n",
            "Epoch 70/100\n",
            "2/2 [==============================] - 0s 8ms/step - loss: 9.0516 - mae: 9.0516\n",
            "Epoch 71/100\n",
            "2/2 [==============================] - 0s 8ms/step - loss: 10.0378 - mae: 10.0378\n",
            "Epoch 72/100\n",
            "2/2 [==============================] - 0s 8ms/step - loss: 10.0516 - mae: 10.0516\n",
            "Epoch 73/100\n",
            "2/2 [==============================] - 0s 8ms/step - loss: 12.6151 - mae: 12.6151\n",
            "Epoch 74/100\n",
            "2/2 [==============================] - 0s 8ms/step - loss: 10.3819 - mae: 10.3819\n",
            "Epoch 75/100\n",
            "2/2 [==============================] - 0s 8ms/step - loss: 9.7229 - mae: 9.7229\n",
            "Epoch 76/100\n",
            "2/2 [==============================] - 0s 5ms/step - loss: 11.2252 - mae: 11.2252\n",
            "Epoch 77/100\n",
            "2/2 [==============================] - 0s 11ms/step - loss: 8.3642 - mae: 8.3642\n",
            "Epoch 78/100\n",
            "2/2 [==============================] - 0s 28ms/step - loss: 9.1274 - mae: 9.1274\n",
            "Epoch 79/100\n",
            "2/2 [==============================] - 0s 7ms/step - loss: 19.5039 - mae: 19.5039\n",
            "Epoch 80/100\n",
            "2/2 [==============================] - 0s 7ms/step - loss: 14.8945 - mae: 14.8945\n",
            "Epoch 81/100\n",
            "2/2 [==============================] - 0s 5ms/step - loss: 9.0034 - mae: 9.0034\n",
            "Epoch 82/100\n",
            "2/2 [==============================] - 0s 6ms/step - loss: 13.0206 - mae: 13.0206\n",
            "Epoch 83/100\n",
            "2/2 [==============================] - 0s 12ms/step - loss: 7.9299 - mae: 7.9299\n",
            "Epoch 84/100\n",
            "2/2 [==============================] - 0s 16ms/step - loss: 7.6872 - mae: 7.6872\n",
            "Epoch 85/100\n",
            "2/2 [==============================] - 0s 8ms/step - loss: 10.0328 - mae: 10.0328\n",
            "Epoch 86/100\n",
            "2/2 [==============================] - 0s 9ms/step - loss: 9.2433 - mae: 9.2433\n",
            "Epoch 87/100\n",
            "2/2 [==============================] - 0s 8ms/step - loss: 12.0209 - mae: 12.0209\n",
            "Epoch 88/100\n",
            "2/2 [==============================] - 0s 11ms/step - loss: 10.6389 - mae: 10.6389\n",
            "Epoch 89/100\n",
            "2/2 [==============================] - 0s 10ms/step - loss: 7.2667 - mae: 7.2667\n",
            "Epoch 90/100\n",
            "2/2 [==============================] - 0s 9ms/step - loss: 12.7786 - mae: 12.7786\n",
            "Epoch 91/100\n",
            "2/2 [==============================] - 0s 13ms/step - loss: 7.3481 - mae: 7.3481\n",
            "Epoch 92/100\n",
            "2/2 [==============================] - 0s 9ms/step - loss: 7.7175 - mae: 7.7175\n",
            "Epoch 93/100\n",
            "2/2 [==============================] - 0s 12ms/step - loss: 7.1263 - mae: 7.1263\n",
            "Epoch 94/100\n",
            "2/2 [==============================] - 0s 14ms/step - loss: 12.6190 - mae: 12.6190\n",
            "Epoch 95/100\n",
            "2/2 [==============================] - 0s 9ms/step - loss: 10.0912 - mae: 10.0912\n",
            "Epoch 96/100\n",
            "2/2 [==============================] - 0s 9ms/step - loss: 9.3558 - mae: 9.3558\n",
            "Epoch 97/100\n",
            "2/2 [==============================] - 0s 8ms/step - loss: 12.6834 - mae: 12.6834\n",
            "Epoch 98/100\n",
            "2/2 [==============================] - 0s 14ms/step - loss: 8.6762 - mae: 8.6762\n",
            "Epoch 99/100\n",
            "2/2 [==============================] - 0s 13ms/step - loss: 9.4693 - mae: 9.4693\n",
            "Epoch 100/100\n",
            "2/2 [==============================] - 0s 4ms/step - loss: 8.7067 - mae: 8.7067\n"
          ]
        },
        {
          "data": {
            "text/plain": [
              "<keras.callbacks.History at 0x7fde793b86d0>"
            ]
          },
          "execution_count": 26,
          "metadata": {},
          "output_type": "execute_result"
        }
      ],
      "source": [
        "# Set ranndom seed\n",
        "tf.random.set_seed(42)\n",
        "\n",
        "# 1. Create the model\n",
        "model_1 = tf.keras.Sequential([\n",
        "                               tf.keras.layers.Dense(1)\n",
        "])\n",
        "#2. Compile the model\n",
        "\n",
        "model_1.compile(loss = tf.keras.losses.mae,\n",
        "                optimizer = tf.keras.optimizers.SGD(),\n",
        "                metrics = [\"mae\"])\n",
        "# Fit the model\n",
        "model_1.fit(tf.expand_dims(x_train,-1),y_train,epochs=100)"
      ]
    },
    {
      "cell_type": "code",
      "execution_count": null,
      "metadata": {
        "colab": {
          "base_uri": "https://localhost:8080/",
          "height": 465
        },
        "id": "oqdRUwF1VAAH",
        "outputId": "8c3c41bf-91bc-4572-f45f-f784c2ec74d0"
      },
      "outputs": [
        {
          "name": "stdout",
          "output_type": "stream",
          "text": [
            "WARNING:tensorflow:6 out of the last 6 calls to <function Model.make_predict_function.<locals>.predict_function at 0x7fddf36e2950> triggered tf.function retracing. Tracing is expensive and the excessive number of tracings could be due to (1) creating @tf.function repeatedly in a loop, (2) passing tensors with different shapes, (3) passing Python objects instead of tensors. For (1), please define your @tf.function outside of the loop. For (2), @tf.function has experimental_relax_shapes=True option that relaxes argument shapes that can avoid unnecessary retracing. For (3), please refer to https://www.tensorflow.org/guide/function#controlling_retracing and https://www.tensorflow.org/api_docs/python/tf/function for  more details.\n"
          ]
        },
        {
          "data": {
            "image/png": "[encoded data removed]",
            "text/plain": [
              "<Figure size 720x504 with 1 Axes>"
            ]
          },
          "metadata": {},
          "output_type": "display_data"
        }
      ],
      "source": [
        "# Make and plot prediction for model_1\n",
        "\n",
        "y_pred_1 = model_1.predict(x_test)\n",
        "plot_prediction(predictions = y_pred_1)"
      ]
    },
    {
      "cell_type": "code",
      "execution_count": null,
      "metadata": {
        "colab": {
          "base_uri": "https://localhost:8080/"
        },
        "id": "CRUFF3f_Vfjf",
        "outputId": "7894e6f2-d1fc-47b4-dc62-1c97879ab540"
      },
      "outputs": [
        {
          "data": {
            "text/plain": [
              "(<tf.Tensor: shape=(), dtype=float32, numpy=18.745327>,\n",
              " <tf.Tensor: shape=(), dtype=float32, numpy=353.57336>)"
            ]
          },
          "execution_count": 28,
          "metadata": {},
          "output_type": "execute_result"
        }
      ],
      "source": [
        "# Calculate model_1 evaluation\n",
        "\n",
        "mae_1 = mae(y_test,y_pred_1)\n",
        "mse_1 = mse(y_test,y_pred_1)\n",
        "\n",
        "mae_1 , mse_1"
      ]
    },
    {
      "cell_type": "markdown",
      "metadata": {
        "id": "MD-M9PMxWNS4"
      },
      "source": [
        "*** Build \"model_2\"\n",
        "- 2 dense layers, trained for 100 epochs"
      ]
    },
    {
      "cell_type": "code",
      "execution_count": null,
      "metadata": {
        "colab": {
          "base_uri": "https://localhost:8080/"
        },
        "id": "EA6JKgfrWf5S",
        "outputId": "e32625c7-8acc-4857-9319-5db71b36b267"
      },
      "outputs": [
        {
          "name": "stdout",
          "output_type": "stream",
          "text": [
            "Epoch 1/100\n",
            "2/2 [==============================] - 1s 12ms/step - loss: 27.4058 - mse: 1084.1482\n",
            "Epoch 2/100\n",
            "2/2 [==============================] - 0s 5ms/step - loss: 24.6339 - mse: 777.9203\n",
            "Epoch 3/100\n",
            "2/2 [==============================] - 0s 7ms/step - loss: 29.8935 - mse: 1334.8955\n",
            "Epoch 4/100\n",
            "2/2 [==============================] - 0s 10ms/step - loss: 27.4055 - mse: 1106.8035\n",
            "Epoch 5/100\n",
            "2/2 [==============================] - 0s 10ms/step - loss: 14.9463 - mse: 281.1077\n",
            "Epoch 6/100\n",
            "2/2 [==============================] - 0s 10ms/step - loss: 11.8819 - mse: 168.6621\n",
            "Epoch 7/100\n",
            "2/2 [==============================] - 0s 9ms/step - loss: 11.1988 - mse: 151.3509\n",
            "Epoch 8/100\n",
            "2/2 [==============================] - 0s 6ms/step - loss: 11.0910 - mse: 160.3745\n",
            "Epoch 9/100\n",
            "2/2 [==============================] - 0s 7ms/step - loss: 40.4763 - mse: 2586.0090\n",
            "Epoch 10/100\n",
            "2/2 [==============================] - 0s 5ms/step - loss: 27.8688 - mse: 1094.4382\n",
            "Epoch 11/100\n",
            "2/2 [==============================] - 0s 8ms/step - loss: 10.2473 - mse: 147.9359\n",
            "Epoch 12/100\n",
            "2/2 [==============================] - 0s 7ms/step - loss: 25.2803 - mse: 890.3867\n",
            "Epoch 13/100\n",
            "2/2 [==============================] - 0s 5ms/step - loss: 16.9897 - mse: 399.9678\n",
            "Epoch 14/100\n",
            "2/2 [==============================] - 0s 9ms/step - loss: 25.9217 - mse: 1049.5515\n",
            "Epoch 15/100\n",
            "2/2 [==============================] - 0s 15ms/step - loss: 17.9948 - mse: 450.2580\n",
            "Epoch 16/100\n",
            "2/2 [==============================] - 0s 13ms/step - loss: 7.3510 - mse: 80.6206\n",
            "Epoch 17/100\n",
            "2/2 [==============================] - 0s 25ms/step - loss: 10.8636 - mse: 174.7868\n",
            "Epoch 18/100\n",
            "2/2 [==============================] - 0s 8ms/step - loss: 19.5304 - mse: 565.8053\n",
            "Epoch 19/100\n",
            "2/2 [==============================] - 0s 14ms/step - loss: 10.3469 - mse: 167.7749\n",
            "Epoch 20/100\n",
            "2/2 [==============================] - 0s 6ms/step - loss: 17.6985 - mse: 455.7096\n",
            "Epoch 21/100\n",
            "2/2 [==============================] - 0s 7ms/step - loss: 15.8984 - mse: 347.1929\n",
            "Epoch 22/100\n",
            "2/2 [==============================] - 0s 19ms/step - loss: 14.1991 - mse: 285.1767\n",
            "Epoch 23/100\n",
            "2/2 [==============================] - 0s 8ms/step - loss: 8.7720 - mse: 91.7852\n",
            "Epoch 24/100\n",
            "2/2 [==============================] - 0s 8ms/step - loss: 11.0570 - mse: 153.7430\n",
            "Epoch 25/100\n",
            "2/2 [==============================] - 0s 5ms/step - loss: 12.6838 - mse: 233.2949\n",
            "Epoch 26/100\n",
            "2/2 [==============================] - 0s 9ms/step - loss: 26.1877 - mse: 1024.6091\n",
            "Epoch 27/100\n",
            "2/2 [==============================] - 0s 6ms/step - loss: 11.7432 - mse: 194.8454\n",
            "Epoch 28/100\n",
            "2/2 [==============================] - 0s 8ms/step - loss: 22.8730 - mse: 835.6074\n",
            "Epoch 29/100\n",
            "2/2 [==============================] - 0s 14ms/step - loss: 9.2459 - mse: 96.7786\n",
            "Epoch 30/100\n",
            "2/2 [==============================] - 0s 17ms/step - loss: 29.2641 - mse: 1535.1349\n",
            "Epoch 31/100\n",
            "2/2 [==============================] - 0s 4ms/step - loss: 53.0225 - mse: 5030.2988\n",
            "Epoch 32/100\n",
            "2/2 [==============================] - 0s 9ms/step - loss: 11.9951 - mse: 211.7025\n",
            "Epoch 33/100\n",
            "2/2 [==============================] - 0s 9ms/step - loss: 15.6357 - mse: 337.3666\n",
            "Epoch 34/100\n",
            "2/2 [==============================] - 0s 31ms/step - loss: 12.6925 - mse: 214.4823\n",
            "Epoch 35/100\n",
            "2/2 [==============================] - 0s 8ms/step - loss: 9.2398 - mse: 92.9126\n",
            "Epoch 36/100\n",
            "2/2 [==============================] - 0s 6ms/step - loss: 16.6497 - mse: 403.6573\n",
            "Epoch 37/100\n",
            "2/2 [==============================] - 0s 9ms/step - loss: 11.0382 - mse: 192.3919\n",
            "Epoch 38/100\n",
            "2/2 [==============================] - 0s 9ms/step - loss: 18.1634 - mse: 433.6717\n",
            "Epoch 39/100\n",
            "2/2 [==============================] - 0s 25ms/step - loss: 19.1013 - mse: 529.6439\n",
            "Epoch 40/100\n",
            "2/2 [==============================] - 0s 9ms/step - loss: 20.4324 - mse: 610.1324\n",
            "Epoch 41/100\n",
            "2/2 [==============================] - 0s 10ms/step - loss: 14.9102 - mse: 279.6183\n",
            "Epoch 42/100\n",
            "2/2 [==============================] - 0s 7ms/step - loss: 12.2809 - mse: 186.6180\n",
            "Epoch 43/100\n",
            "2/2 [==============================] - 0s 9ms/step - loss: 10.7333 - mse: 167.0952\n",
            "Epoch 44/100\n",
            "2/2 [==============================] - 0s 10ms/step - loss: 23.0260 - mse: 830.4244\n",
            "Epoch 45/100\n",
            "2/2 [==============================] - 0s 19ms/step - loss: 10.3897 - mse: 128.9549\n",
            "Epoch 46/100\n",
            "2/2 [==============================] - 0s 20ms/step - loss: 11.7904 - mse: 181.9212\n",
            "Epoch 47/100\n",
            "2/2 [==============================] - 0s 9ms/step - loss: 9.6438 - mse: 153.8708\n",
            "Epoch 48/100\n",
            "2/2 [==============================] - 0s 6ms/step - loss: 17.2335 - mse: 402.8494\n",
            "Epoch 49/100\n",
            "2/2 [==============================] - 0s 11ms/step - loss: 9.5729 - mse: 99.8337\n",
            "Epoch 50/100\n",
            "2/2 [==============================] - 0s 8ms/step - loss: 13.8185 - mse: 260.3670\n",
            "Epoch 51/100\n",
            "2/2 [==============================] - 0s 7ms/step - loss: 11.5958 - mse: 154.7956\n",
            "Epoch 52/100\n",
            "2/2 [==============================] - 0s 11ms/step - loss: 30.5538 - mse: 1613.0886\n",
            "Epoch 53/100\n",
            "2/2 [==============================] - 0s 8ms/step - loss: 14.3541 - mse: 302.5293\n",
            "Epoch 54/100\n",
            "2/2 [==============================] - 0s 12ms/step - loss: 23.9713 - mse: 859.3983\n",
            "Epoch 55/100\n",
            "2/2 [==============================] - 0s 10ms/step - loss: 23.1938 - mse: 805.5452\n",
            "Epoch 56/100\n",
            "2/2 [==============================] - 0s 10ms/step - loss: 10.8837 - mse: 170.9834\n",
            "Epoch 57/100\n",
            "2/2 [==============================] - 0s 25ms/step - loss: 12.7445 - mse: 198.7015\n",
            "Epoch 58/100\n",
            "2/2 [==============================] - 0s 8ms/step - loss: 9.5995 - mse: 102.5890\n",
            "Epoch 59/100\n",
            "2/2 [==============================] - 0s 14ms/step - loss: 12.5172 - mse: 216.3367\n",
            "Epoch 60/100\n",
            "2/2 [==============================] - 0s 11ms/step - loss: 12.3200 - mse: 208.6371\n",
            "Epoch 61/100\n",
            "2/2 [==============================] - 0s 20ms/step - loss: 17.4604 - mse: 428.6393\n",
            "Epoch 62/100\n",
            "2/2 [==============================] - 0s 10ms/step - loss: 10.6052 - mse: 136.9777\n",
            "Epoch 63/100\n",
            "2/2 [==============================] - 0s 9ms/step - loss: 10.4893 - mse: 152.4555\n",
            "Epoch 64/100\n",
            "2/2 [==============================] - 0s 8ms/step - loss: 24.8450 - mse: 911.7511\n",
            "Epoch 65/100\n",
            "2/2 [==============================] - 0s 9ms/step - loss: 10.6761 - mse: 142.7374\n",
            "Epoch 66/100\n",
            "2/2 [==============================] - 0s 16ms/step - loss: 21.7809 - mse: 704.4492\n",
            "Epoch 67/100\n",
            "2/2 [==============================] - 0s 11ms/step - loss: 10.7136 - mse: 136.0194\n",
            "Epoch 68/100\n",
            "2/2 [==============================] - 0s 10ms/step - loss: 10.6397 - mse: 149.2300\n",
            "Epoch 69/100\n",
            "2/2 [==============================] - 0s 10ms/step - loss: 22.6914 - mse: 742.1761\n",
            "Epoch 70/100\n",
            "2/2 [==============================] - 0s 11ms/step - loss: 9.3316 - mse: 166.1628\n",
            "Epoch 71/100\n",
            "2/2 [==============================] - 0s 10ms/step - loss: 15.4355 - mse: 323.0843\n",
            "Epoch 72/100\n",
            "2/2 [==============================] - 0s 6ms/step - loss: 6.7437 - mse: 67.0210\n",
            "Epoch 73/100\n",
            "2/2 [==============================] - 0s 15ms/step - loss: 11.6891 - mse: 183.7296\n",
            "Epoch 74/100\n",
            "2/2 [==============================] - 0s 10ms/step - loss: 24.0400 - mse: 908.8992\n",
            "Epoch 75/100\n",
            "2/2 [==============================] - 0s 9ms/step - loss: 9.5896 - mse: 149.3948\n",
            "Epoch 76/100\n",
            "2/2 [==============================] - 0s 10ms/step - loss: 12.4371 - mse: 188.3310\n",
            "Epoch 77/100\n",
            "2/2 [==============================] - 0s 7ms/step - loss: 16.6489 - mse: 429.2708\n",
            "Epoch 78/100\n",
            "2/2 [==============================] - 0s 9ms/step - loss: 9.0614 - mse: 95.4870\n",
            "Epoch 79/100\n",
            "2/2 [==============================] - 0s 9ms/step - loss: 23.9675 - mse: 864.0864\n",
            "Epoch 80/100\n",
            "2/2 [==============================] - 0s 9ms/step - loss: 26.7463 - mse: 1104.4032\n",
            "Epoch 81/100\n",
            "2/2 [==============================] - 0s 5ms/step - loss: 11.6714 - mse: 170.7055\n",
            "Epoch 82/100\n",
            "2/2 [==============================] - 0s 5ms/step - loss: 12.0228 - mse: 211.9191\n",
            "Epoch 83/100\n",
            "2/2 [==============================] - 0s 7ms/step - loss: 17.4218 - mse: 395.5589\n",
            "Epoch 84/100\n",
            "2/2 [==============================] - 0s 13ms/step - loss: 7.2629 - mse: 73.0935\n",
            "Epoch 85/100\n",
            "2/2 [==============================] - 0s 6ms/step - loss: 14.9650 - mse: 312.8361\n",
            "Epoch 86/100\n",
            "2/2 [==============================] - 0s 7ms/step - loss: 15.2862 - mse: 315.3605\n",
            "Epoch 87/100\n",
            "2/2 [==============================] - 0s 13ms/step - loss: 19.1086 - mse: 521.2534\n",
            "Epoch 88/100\n",
            "2/2 [==============================] - 0s 7ms/step - loss: 29.8229 - mse: 1287.1907\n",
            "Epoch 89/100\n",
            "2/2 [==============================] - 0s 8ms/step - loss: 10.1742 - mse: 124.1342\n",
            "Epoch 90/100\n",
            "2/2 [==============================] - 0s 11ms/step - loss: 21.5240 - mse: 663.8611\n",
            "Epoch 91/100\n",
            "2/2 [==============================] - 0s 23ms/step - loss: 10.5716 - mse: 161.7467\n",
            "Epoch 92/100\n",
            "2/2 [==============================] - 0s 11ms/step - loss: 18.3977 - mse: 464.1326\n",
            "Epoch 93/100\n",
            "2/2 [==============================] - 0s 12ms/step - loss: 7.4138 - mse: 81.9820\n",
            "Epoch 94/100\n",
            "2/2 [==============================] - 0s 6ms/step - loss: 17.7380 - mse: 445.7379\n",
            "Epoch 95/100\n",
            "2/2 [==============================] - 0s 10ms/step - loss: 11.1144 - mse: 164.0820\n",
            "Epoch 96/100\n",
            "2/2 [==============================] - 0s 12ms/step - loss: 19.4346 - mse: 510.5842\n",
            "Epoch 97/100\n",
            "2/2 [==============================] - 0s 14ms/step - loss: 12.1593 - mse: 209.9755\n",
            "Epoch 98/100\n",
            "2/2 [==============================] - 0s 5ms/step - loss: 11.5653 - mse: 169.4052\n",
            "Epoch 99/100\n",
            "2/2 [==============================] - 0s 13ms/step - loss: 13.8827 - mse: 265.4630\n",
            "Epoch 100/100\n",
            "2/2 [==============================] - 0s 10ms/step - loss: 20.2277 - mse: 608.8218\n"
          ]
        },
        {
          "data": {
            "text/plain": [
              "<keras.callbacks.History at 0x7fde793b8050>"
            ]
          },
          "execution_count": 29,
          "metadata": {},
          "output_type": "execute_result"
        }
      ],
      "source": [
        "# Set the random seed\n",
        "tf.random.set_seed(42)\n",
        "# 1. Create the model\n",
        "model_2 = tf.keras.Sequential([\n",
        "                               tf.keras.layers.Dense(10),\n",
        "                               tf.keras.layers.Dense(1)\n",
        "])\n",
        "#2. Compile the model\n",
        "\n",
        "model_2.compile(loss = tf.keras.losses.mae,\n",
        "                optimizer = tf.keras.optimizers.SGD(),\n",
        "                metrics = [\"mse\"])\n",
        "# Fit the model\n",
        "model_2.fit(tf.expand_dims(x_train,-1),y_train,epochs=100)"
      ]
    },
    {
      "cell_type": "code",
      "execution_count": null,
      "metadata": {
        "colab": {
          "base_uri": "https://localhost:8080/",
          "height": 428
        },
        "id": "YT1ns2N3XDNZ",
        "outputId": "c6fee121-b45b-418c-818c-6f5c8999dc91"
      },
      "outputs": [
        {
          "data": {
            "image/png": "[encoded data removed]",
            "text/plain": [
              "<Figure size 720x504 with 1 Axes>"
            ]
          },
          "metadata": {},
          "output_type": "display_data"
        }
      ],
      "source": [
        "# Make and plot prediction for model_1\n",
        "\n",
        "y_pred_2 = model_2.predict(x_test)\n",
        "plot_prediction(predictions = y_pred_2)"
      ]
    },
    {
      "cell_type": "code",
      "execution_count": null,
      "metadata": {
        "colab": {
          "base_uri": "https://localhost:8080/"
        },
        "id": "Fj3-bSjGYLBi",
        "outputId": "cd37bc4b-0301-4c26-fc3f-bc16f8eab074"
      },
      "outputs": [
        {
          "data": {
            "text/plain": [
              "(<tf.Tensor: shape=(), dtype=float32, numpy=3.1969407>,\n",
              " <tf.Tensor: shape=(), dtype=float32, numpy=13.070143>)"
            ]
          },
          "execution_count": 31,
          "metadata": {},
          "output_type": "execute_result"
        }
      ],
      "source": [
        "# Calculate model_2  evaluation metrics\n",
        "\n",
        "mae_2 = mae(y_test,y_pred_2)\n",
        "mse_2 = mse(y_test,y_pred_2)\n",
        "\n",
        "mae_2 , mse_2"
      ]
    },
    {
      "cell_type": "code",
      "execution_count": null,
      "metadata": {
        "id": "vmK7oYAmg9MF"
      },
      "outputs": [],
      "source": [
        "# Build  model 3 evaluation"
      ]
    },
    {
      "cell_type": "code",
      "execution_count": null,
      "metadata": {
        "colab": {
          "base_uri": "https://localhost:8080/"
        },
        "id": "XaRRDyvqjgP7",
        "outputId": "38bfc1a3-ed20-4324-b44d-7ef07e9a4cd4"
      },
      "outputs": [
        {
          "data": {
            "text/plain": [
              "<tf.Tensor: shape=(40,), dtype=int32, numpy=\n",
              "array([-90, -86, -82, -78, -74, -70, -66, -62, -58, -54, -50, -46, -42,\n",
              "       -38, -34, -30, -26, -22, -18, -14, -10,  -6,  -2,   2,   6,  10,\n",
              "        14,  18,  22,  26,  30,  34,  38,  42,  46,  50,  54,  58,  62,\n",
              "        66], dtype=int32)>"
            ]
          },
          "execution_count": 33,
          "metadata": {},
          "output_type": "execute_result"
        }
      ],
      "source": [
        "y_train"
      ]
    },
    {
      "cell_type": "code",
      "execution_count": null,
      "metadata": {
        "id": "o1w32foIkeDv"
      },
      "outputs": [],
      "source": [
        ""
      ]
    },
    {
      "cell_type": "code",
      "execution_count": null,
      "metadata": {
        "colab": {
          "base_uri": "https://localhost:8080/"
        },
        "id": "-dZTXryAhGrv",
        "outputId": "c647ce4a-4edc-4b51-cb91-c70798afcd55"
      },
      "outputs": [
        {
          "name": "stdout",
          "output_type": "stream",
          "text": [
            "Epoch 1/500\n",
            "2/2 [==============================] - 0s 8ms/step - loss: 27.4058 - mse: 1084.1482\n",
            "Epoch 2/500\n",
            "2/2 [==============================] - 0s 12ms/step - loss: 24.6339 - mse: 777.9203\n",
            "Epoch 3/500\n",
            "2/2 [==============================] - 0s 8ms/step - loss: 29.8935 - mse: 1334.8955\n",
            "Epoch 4/500\n",
            "2/2 [==============================] - 0s 7ms/step - loss: 27.4055 - mse: 1106.8035\n",
            "Epoch 5/500\n",
            "2/2 [==============================] - 0s 7ms/step - loss: 14.9463 - mse: 281.1077\n",
            "Epoch 6/500\n",
            "2/2 [==============================] - 0s 5ms/step - loss: 11.8819 - mse: 168.6621\n",
            "Epoch 7/500\n",
            "2/2 [==============================] - 0s 5ms/step - loss: 11.1988 - mse: 151.3509\n",
            "Epoch 8/500\n",
            "2/2 [==============================] - 0s 6ms/step - loss: 11.0910 - mse: 160.3745\n",
            "Epoch 9/500\n",
            "2/2 [==============================] - 0s 6ms/step - loss: 40.4763 - mse: 2586.0090\n",
            "Epoch 10/500\n",
            "2/2 [==============================] - 0s 6ms/step - loss: 27.8688 - mse: 1094.4382\n",
            "Epoch 11/500\n",
            "2/2 [==============================] - 0s 6ms/step - loss: 10.2473 - mse: 147.9359\n",
            "Epoch 12/500\n",
            "2/2 [==============================] - 0s 6ms/step - loss: 25.2803 - mse: 890.3867\n",
            "Epoch 13/500\n",
            "2/2 [==============================] - 0s 8ms/step - loss: 16.9897 - mse: 399.9678\n",
            "Epoch 14/500\n",
            "2/2 [==============================] - 0s 6ms/step - loss: 25.9217 - mse: 1049.5515\n",
            "Epoch 15/500\n",
            "2/2 [==============================] - 0s 11ms/step - loss: 17.9948 - mse: 450.2580\n",
            "Epoch 16/500\n",
            "2/2 [==============================] - 0s 9ms/step - loss: 7.3510 - mse: 80.6206\n",
            "Epoch 17/500\n",
            "2/2 [==============================] - 0s 7ms/step - loss: 10.8636 - mse: 174.7868\n",
            "Epoch 18/500\n",
            "2/2 [==============================] - 0s 10ms/step - loss: 19.5304 - mse: 565.8053\n",
            "Epoch 19/500\n",
            "2/2 [==============================] - 0s 6ms/step - loss: 10.3469 - mse: 167.7749\n",
            "Epoch 20/500\n",
            "2/2 [==============================] - 0s 4ms/step - loss: 17.6985 - mse: 455.7096\n",
            "Epoch 21/500\n",
            "2/2 [==============================] - 0s 6ms/step - loss: 15.8984 - mse: 347.1929\n",
            "Epoch 22/500\n",
            "2/2 [==============================] - 0s 7ms/step - loss: 14.1991 - mse: 285.1767\n",
            "Epoch 23/500\n",
            "2/2 [==============================] - 0s 7ms/step - loss: 8.7720 - mse: 91.7852\n",
            "Epoch 24/500\n",
            "2/2 [==============================] - 0s 7ms/step - loss: 11.0570 - mse: 153.7430\n",
            "Epoch 25/500\n",
            "2/2 [==============================] - 0s 7ms/step - loss: 12.6838 - mse: 233.2949\n",
            "Epoch 26/500\n",
            "2/2 [==============================] - 0s 10ms/step - loss: 26.1877 - mse: 1024.6091\n",
            "Epoch 27/500\n",
            "2/2 [==============================] - 0s 7ms/step - loss: 11.7432 - mse: 194.8454\n",
            "Epoch 28/500\n",
            "2/2 [==============================] - 0s 6ms/step - loss: 22.8730 - mse: 835.6074\n",
            "Epoch 29/500\n",
            "2/2 [==============================] - 0s 7ms/step - loss: 9.2459 - mse: 96.7786\n",
            "Epoch 30/500\n",
            "2/2 [==============================] - 0s 6ms/step - loss: 29.2641 - mse: 1535.1349\n",
            "Epoch 31/500\n",
            "2/2 [==============================] - 0s 6ms/step - loss: 53.0225 - mse: 5030.2988\n",
            "Epoch 32/500\n",
            "2/2 [==============================] - 0s 5ms/step - loss: 11.9951 - mse: 211.7025\n",
            "Epoch 33/500\n",
            "2/2 [==============================] - 0s 4ms/step - loss: 15.6357 - mse: 337.3666\n",
            "Epoch 34/500\n",
            "2/2 [==============================] - 0s 8ms/step - loss: 12.6925 - mse: 214.4823\n",
            "Epoch 35/500\n",
            "2/2 [==============================] - 0s 8ms/step - loss: 9.2398 - mse: 92.9126\n",
            "Epoch 36/500\n",
            "2/2 [==============================] - 0s 5ms/step - loss: 16.6497 - mse: 403.6573\n",
            "Epoch 37/500\n",
            "2/2 [==============================] - 0s 12ms/step - loss: 11.0382 - mse: 192.3919\n",
            "Epoch 38/500\n",
            "2/2 [==============================] - 0s 8ms/step - loss: 18.1634 - mse: 433.6717\n",
            "Epoch 39/500\n",
            "2/2 [==============================] - 0s 4ms/step - loss: 19.1013 - mse: 529.6439\n",
            "Epoch 40/500\n",
            "2/2 [==============================] - 0s 6ms/step - loss: 20.4324 - mse: 610.1324\n",
            "Epoch 41/500\n",
            "2/2 [==============================] - 0s 6ms/step - loss: 14.9102 - mse: 279.6183\n",
            "Epoch 42/500\n",
            "2/2 [==============================] - 0s 3ms/step - loss: 12.2809 - mse: 186.6180\n",
            "Epoch 43/500\n",
            "2/2 [==============================] - 0s 8ms/step - loss: 10.7333 - mse: 167.0952\n",
            "Epoch 44/500\n",
            "2/2 [==============================] - 0s 9ms/step - loss: 23.0260 - mse: 830.4244\n",
            "Epoch 45/500\n",
            "2/2 [==============================] - 0s 6ms/step - loss: 10.3897 - mse: 128.9549\n",
            "Epoch 46/500\n",
            "2/2 [==============================] - 0s 8ms/step - loss: 11.7904 - mse: 181.9212\n",
            "Epoch 47/500\n",
            "2/2 [==============================] - 0s 7ms/step - loss: 9.6438 - mse: 153.8708\n",
            "Epoch 48/500\n",
            "2/2 [==============================] - 0s 6ms/step - loss: 17.2335 - mse: 402.8494\n",
            "Epoch 49/500\n",
            "2/2 [==============================] - 0s 8ms/step - loss: 9.5729 - mse: 99.8337\n",
            "Epoch 50/500\n",
            "2/2 [==============================] - 0s 5ms/step - loss: 13.8185 - mse: 260.3670\n",
            "Epoch 51/500\n",
            "2/2 [==============================] - 0s 6ms/step - loss: 11.5958 - mse: 154.7956\n",
            "Epoch 52/500\n",
            "2/2 [==============================] - 0s 6ms/step - loss: 30.5538 - mse: 1613.0886\n",
            "Epoch 53/500\n",
            "2/2 [==============================] - 0s 6ms/step - loss: 14.3541 - mse: 302.5293\n",
            "Epoch 54/500\n",
            "2/2 [==============================] - 0s 10ms/step - loss: 23.9713 - mse: 859.3983\n",
            "Epoch 55/500\n",
            "2/2 [==============================] - 0s 8ms/step - loss: 23.1938 - mse: 805.5452\n",
            "Epoch 56/500\n",
            "2/2 [==============================] - 0s 7ms/step - loss: 10.8837 - mse: 170.9834\n",
            "Epoch 57/500\n",
            "2/2 [==============================] - 0s 6ms/step - loss: 12.7445 - mse: 198.7015\n",
            "Epoch 58/500\n",
            "2/2 [==============================] - 0s 7ms/step - loss: 9.5995 - mse: 102.5890\n",
            "Epoch 59/500\n",
            "2/2 [==============================] - 0s 5ms/step - loss: 12.5172 - mse: 216.3367\n",
            "Epoch 60/500\n",
            "2/2 [==============================] - 0s 4ms/step - loss: 12.3200 - mse: 208.6371\n",
            "Epoch 61/500\n",
            "2/2 [==============================] - 0s 4ms/step - loss: 17.4604 - mse: 428.6393\n",
            "Epoch 62/500\n",
            "2/2 [==============================] - 0s 4ms/step - loss: 10.6052 - mse: 136.9777\n",
            "Epoch 63/500\n",
            "2/2 [==============================] - 0s 4ms/step - loss: 10.4893 - mse: 152.4555\n",
            "Epoch 64/500\n",
            "2/2 [==============================] - 0s 4ms/step - loss: 24.8450 - mse: 911.7511\n",
            "Epoch 65/500\n",
            "2/2 [==============================] - 0s 4ms/step - loss: 10.6761 - mse: 142.7374\n",
            "Epoch 66/500\n",
            "2/2 [==============================] - 0s 4ms/step - loss: 21.7809 - mse: 704.4492\n",
            "Epoch 67/500\n",
            "2/2 [==============================] - 0s 4ms/step - loss: 10.7136 - mse: 136.0194\n",
            "Epoch 68/500\n",
            "2/2 [==============================] - 0s 4ms/step - loss: 10.6397 - mse: 149.2300\n",
            "Epoch 69/500\n",
            "2/2 [==============================] - 0s 8ms/step - loss: 22.6914 - mse: 742.1761\n",
            "Epoch 70/500\n",
            "2/2 [==============================] - 0s 5ms/step - loss: 9.3316 - mse: 166.1628\n",
            "Epoch 71/500\n",
            "2/2 [==============================] - 0s 4ms/step - loss: 15.4355 - mse: 323.0843\n",
            "Epoch 72/500\n",
            "2/2 [==============================] - 0s 4ms/step - loss: 6.7437 - mse: 67.0210\n",
            "Epoch 73/500\n",
            "2/2 [==============================] - 0s 4ms/step - loss: 11.6891 - mse: 183.7296\n",
            "Epoch 74/500\n",
            "2/2 [==============================] - 0s 4ms/step - loss: 24.0400 - mse: 908.8992\n",
            "Epoch 75/500\n",
            "2/2 [==============================] - 0s 4ms/step - loss: 9.5896 - mse: 149.3948\n",
            "Epoch 76/500\n",
            "2/2 [==============================] - 0s 4ms/step - loss: 12.4371 - mse: 188.3310\n",
            "Epoch 77/500\n",
            "2/2 [==============================] - 0s 4ms/step - loss: 16.6489 - mse: 429.2708\n",
            "Epoch 78/500\n",
            "2/2 [==============================] - 0s 4ms/step - loss: 9.0614 - mse: 95.4870\n",
            "Epoch 79/500\n",
            "2/2 [==============================] - 0s 4ms/step - loss: 23.9675 - mse: 864.0864\n",
            "Epoch 80/500\n",
            "2/2 [==============================] - 0s 4ms/step - loss: 26.7463 - mse: 1104.4032\n",
            "Epoch 81/500\n",
            "2/2 [==============================] - 0s 4ms/step - loss: 11.6714 - mse: 170.7055\n",
            "Epoch 82/500\n",
            "2/2 [==============================] - 0s 4ms/step - loss: 12.0228 - mse: 211.9191\n",
            "Epoch 83/500\n",
            "2/2 [==============================] - 0s 5ms/step - loss: 17.4218 - mse: 395.5589\n",
            "Epoch 84/500\n",
            "2/2 [==============================] - 0s 4ms/step - loss: 7.2629 - mse: 73.0935\n",
            "Epoch 85/500\n",
            "2/2 [==============================] - 0s 4ms/step - loss: 14.9650 - mse: 312.8361\n",
            "Epoch 86/500\n",
            "2/2 [==============================] - 0s 4ms/step - loss: 15.2862 - mse: 315.3605\n",
            "Epoch 87/500\n",
            "2/2 [==============================] - 0s 4ms/step - loss: 19.1086 - mse: 521.2534\n",
            "Epoch 88/500\n",
            "2/2 [==============================] - 0s 4ms/step - loss: 29.8229 - mse: 1287.1907\n",
            "Epoch 89/500\n",
            "2/2 [==============================] - 0s 8ms/step - loss: 10.1742 - mse: 124.1342\n",
            "Epoch 90/500\n",
            "2/2 [==============================] - 0s 5ms/step - loss: 21.5240 - mse: 663.8611\n",
            "Epoch 91/500\n",
            "2/2 [==============================] - 0s 4ms/step - loss: 10.5716 - mse: 161.7467\n",
            "Epoch 92/500\n",
            "2/2 [==============================] - 0s 4ms/step - loss: 18.3977 - mse: 464.1326\n",
            "Epoch 93/500\n",
            "2/2 [==============================] - 0s 4ms/step - loss: 7.4138 - mse: 81.9820\n",
            "Epoch 94/500\n",
            "2/2 [==============================] - 0s 5ms/step - loss: 17.7380 - mse: 445.7379\n",
            "Epoch 95/500\n",
            "2/2 [==============================] - 0s 5ms/step - loss: 11.1144 - mse: 164.0820\n",
            "Epoch 96/500\n",
            "2/2 [==============================] - 0s 7ms/step - loss: 19.4346 - mse: 510.5842\n",
            "Epoch 97/500\n",
            "2/2 [==============================] - 0s 4ms/step - loss: 12.1593 - mse: 209.9755\n",
            "Epoch 98/500\n",
            "2/2 [==============================] - 0s 5ms/step - loss: 11.5653 - mse: 169.4052\n",
            "Epoch 99/500\n",
            "2/2 [==============================] - 0s 4ms/step - loss: 13.8827 - mse: 265.4630\n",
            "Epoch 100/500\n",
            "2/2 [==============================] - 0s 4ms/step - loss: 20.2277 - mse: 608.8218\n",
            "Epoch 101/500\n",
            "2/2 [==============================] - 0s 7ms/step - loss: 11.4479 - mse: 177.1446\n",
            "Epoch 102/500\n",
            "2/2 [==============================] - 0s 4ms/step - loss: 17.4842 - mse: 426.5329\n",
            "Epoch 103/500\n",
            "2/2 [==============================] - 0s 4ms/step - loss: 7.0217 - mse: 65.2649\n",
            "Epoch 104/500\n",
            "2/2 [==============================] - 0s 8ms/step - loss: 23.5789 - mse: 757.4911\n",
            "Epoch 105/500\n",
            "2/2 [==============================] - 0s 11ms/step - loss: 16.8932 - mse: 443.0951\n",
            "Epoch 106/500\n",
            "2/2 [==============================] - 0s 9ms/step - loss: 9.2954 - mse: 144.6570\n",
            "Epoch 107/500\n",
            "2/2 [==============================] - 0s 10ms/step - loss: 25.3749 - mse: 934.2098\n",
            "Epoch 108/500\n",
            "2/2 [==============================] - 0s 11ms/step - loss: 13.4621 - mse: 269.8598\n",
            "Epoch 109/500\n",
            "2/2 [==============================] - 0s 12ms/step - loss: 9.5238 - mse: 108.7908\n",
            "Epoch 110/500\n",
            "2/2 [==============================] - 0s 7ms/step - loss: 9.6722 - mse: 128.8767\n",
            "Epoch 111/500\n",
            "2/2 [==============================] - 0s 4ms/step - loss: 14.5987 - mse: 295.9862\n",
            "Epoch 112/500\n",
            "2/2 [==============================] - 0s 9ms/step - loss: 9.5670 - mse: 123.4113\n",
            "Epoch 113/500\n",
            "2/2 [==============================] - 0s 9ms/step - loss: 17.8092 - mse: 460.3867\n",
            "Epoch 114/500\n",
            "2/2 [==============================] - 0s 5ms/step - loss: 17.1782 - mse: 441.2208\n",
            "Epoch 115/500\n",
            "2/2 [==============================] - 0s 8ms/step - loss: 11.1182 - mse: 155.0961\n",
            "Epoch 116/500\n",
            "2/2 [==============================] - 0s 6ms/step - loss: 23.3071 - mse: 791.7657\n",
            "Epoch 117/500\n",
            "2/2 [==============================] - 0s 6ms/step - loss: 9.6144 - mse: 126.1895\n",
            "Epoch 118/500\n",
            "2/2 [==============================] - 0s 6ms/step - loss: 10.6899 - mse: 140.2945\n",
            "Epoch 119/500\n",
            "2/2 [==============================] - 0s 5ms/step - loss: 8.0355 - mse: 78.3508\n",
            "Epoch 120/500\n",
            "2/2 [==============================] - 0s 5ms/step - loss: 29.6859 - mse: 1315.8644\n",
            "Epoch 121/500\n",
            "2/2 [==============================] - 0s 5ms/step - loss: 8.0714 - mse: 70.6648\n",
            "Epoch 122/500\n",
            "2/2 [==============================] - 0s 5ms/step - loss: 28.3086 - mse: 1233.3849\n",
            "Epoch 123/500\n",
            "2/2 [==============================] - 0s 5ms/step - loss: 32.9014 - mse: 1591.9503\n",
            "Epoch 124/500\n",
            "2/2 [==============================] - 0s 5ms/step - loss: 19.6291 - mse: 571.6959\n",
            "Epoch 125/500\n",
            "2/2 [==============================] - 0s 4ms/step - loss: 7.0095 - mse: 72.1091\n",
            "Epoch 126/500\n",
            "2/2 [==============================] - 0s 5ms/step - loss: 21.8056 - mse: 666.4340\n",
            "Epoch 127/500\n",
            "2/2 [==============================] - 0s 5ms/step - loss: 7.9812 - mse: 69.5627\n",
            "Epoch 128/500\n",
            "2/2 [==============================] - 0s 8ms/step - loss: 21.0585 - mse: 653.6486\n",
            "Epoch 129/500\n",
            "2/2 [==============================] - 0s 4ms/step - loss: 9.0107 - mse: 120.8763\n",
            "Epoch 130/500\n",
            "2/2 [==============================] - 0s 5ms/step - loss: 24.0502 - mse: 815.7742\n",
            "Epoch 131/500\n",
            "2/2 [==============================] - 0s 18ms/step - loss: 9.7537 - mse: 133.0194\n",
            "Epoch 132/500\n",
            "2/2 [==============================] - 0s 7ms/step - loss: 18.3052 - mse: 500.9213\n",
            "Epoch 133/500\n",
            "2/2 [==============================] - 0s 6ms/step - loss: 7.5833 - mse: 80.1913\n",
            "Epoch 134/500\n",
            "2/2 [==============================] - 0s 8ms/step - loss: 18.5755 - mse: 506.3341\n",
            "Epoch 135/500\n",
            "2/2 [==============================] - 0s 10ms/step - loss: 10.5360 - mse: 148.5977\n",
            "Epoch 136/500\n",
            "2/2 [==============================] - 0s 9ms/step - loss: 18.2694 - mse: 472.4460\n",
            "Epoch 137/500\n",
            "2/2 [==============================] - 0s 6ms/step - loss: 23.1658 - mse: 724.0381\n",
            "Epoch 138/500\n",
            "2/2 [==============================] - 0s 11ms/step - loss: 9.1362 - mse: 139.5299\n",
            "Epoch 139/500\n",
            "2/2 [==============================] - 0s 8ms/step - loss: 8.9181 - mse: 144.6079\n",
            "Epoch 140/500\n",
            "2/2 [==============================] - 0s 7ms/step - loss: 16.4732 - mse: 389.2471\n",
            "Epoch 141/500\n",
            "2/2 [==============================] - 0s 15ms/step - loss: 8.4208 - mse: 91.7413\n",
            "Epoch 142/500\n",
            "2/2 [==============================] - 0s 5ms/step - loss: 36.9540 - mse: 2404.8647\n",
            "Epoch 143/500\n",
            "2/2 [==============================] - 0s 4ms/step - loss: 25.5820 - mse: 927.2342\n",
            "Epoch 144/500\n",
            "2/2 [==============================] - 0s 5ms/step - loss: 9.5392 - mse: 144.3266\n",
            "Epoch 145/500\n",
            "2/2 [==============================] - 0s 11ms/step - loss: 26.6058 - mse: 957.1338\n",
            "Epoch 146/500\n",
            "2/2 [==============================] - 0s 12ms/step - loss: 8.7248 - mse: 109.2954\n",
            "Epoch 147/500\n",
            "2/2 [==============================] - 0s 8ms/step - loss: 15.6172 - mse: 311.2310\n",
            "Epoch 148/500\n",
            "2/2 [==============================] - 0s 7ms/step - loss: 18.3065 - mse: 464.7855\n",
            "Epoch 149/500\n",
            "2/2 [==============================] - 0s 7ms/step - loss: 8.1994 - mse: 106.4583\n",
            "Epoch 150/500\n",
            "2/2 [==============================] - 0s 6ms/step - loss: 7.4964 - mse: 66.4456\n",
            "Epoch 151/500\n",
            "2/2 [==============================] - 0s 4ms/step - loss: 18.3374 - mse: 485.9982\n",
            "Epoch 152/500\n",
            "2/2 [==============================] - 0s 5ms/step - loss: 10.2895 - mse: 130.5616\n",
            "Epoch 153/500\n",
            "2/2 [==============================] - 0s 5ms/step - loss: 29.6425 - mse: 1268.4631\n",
            "Epoch 154/500\n",
            "2/2 [==============================] - 0s 5ms/step - loss: 10.5556 - mse: 201.2335\n",
            "Epoch 155/500\n",
            "2/2 [==============================] - 0s 7ms/step - loss: 15.4537 - mse: 347.2169\n",
            "Epoch 156/500\n",
            "2/2 [==============================] - 0s 9ms/step - loss: 17.0174 - mse: 438.8495\n",
            "Epoch 157/500\n",
            "2/2 [==============================] - 0s 7ms/step - loss: 32.8218 - mse: 1744.8142\n",
            "Epoch 158/500\n",
            "2/2 [==============================] - 0s 9ms/step - loss: 10.7038 - mse: 151.0813\n",
            "Epoch 159/500\n",
            "2/2 [==============================] - 0s 6ms/step - loss: 8.9054 - mse: 97.7705\n",
            "Epoch 160/500\n",
            "2/2 [==============================] - 0s 16ms/step - loss: 22.1321 - mse: 709.4396\n",
            "Epoch 161/500\n",
            "2/2 [==============================] - 0s 12ms/step - loss: 11.7113 - mse: 202.9613\n",
            "Epoch 162/500\n",
            "2/2 [==============================] - 0s 11ms/step - loss: 21.5734 - mse: 670.2861\n",
            "Epoch 163/500\n",
            "2/2 [==============================] - 0s 9ms/step - loss: 19.2485 - mse: 533.4074\n",
            "Epoch 164/500\n",
            "2/2 [==============================] - 0s 10ms/step - loss: 11.0156 - mse: 177.6826\n",
            "Epoch 165/500\n",
            "2/2 [==============================] - 0s 10ms/step - loss: 9.6187 - mse: 179.8633\n",
            "Epoch 166/500\n",
            "2/2 [==============================] - 0s 10ms/step - loss: 21.5908 - mse: 681.9667\n",
            "Epoch 167/500\n",
            "2/2 [==============================] - 0s 10ms/step - loss: 26.2851 - mse: 1048.8446\n",
            "Epoch 168/500\n",
            "2/2 [==============================] - 0s 10ms/step - loss: 9.8525 - mse: 118.2892\n",
            "Epoch 169/500\n",
            "2/2 [==============================] - 0s 9ms/step - loss: 22.5630 - mse: 787.0588\n",
            "Epoch 170/500\n",
            "2/2 [==============================] - 0s 8ms/step - loss: 10.1499 - mse: 195.9051\n",
            "Epoch 171/500\n",
            "2/2 [==============================] - 0s 11ms/step - loss: 18.0464 - mse: 503.4533\n",
            "Epoch 172/500\n",
            "2/2 [==============================] - 0s 5ms/step - loss: 28.8377 - mse: 1305.7986\n",
            "Epoch 173/500\n",
            "2/2 [==============================] - 0s 5ms/step - loss: 16.5279 - mse: 432.1444\n",
            "Epoch 174/500\n",
            "2/2 [==============================] - 0s 5ms/step - loss: 11.2115 - mse: 199.9691\n",
            "Epoch 175/500\n",
            "2/2 [==============================] - 0s 5ms/step - loss: 27.5839 - mse: 1097.8187\n",
            "Epoch 176/500\n",
            "2/2 [==============================] - 0s 20ms/step - loss: 8.2680 - mse: 77.5372\n",
            "Epoch 177/500\n",
            "2/2 [==============================] - 0s 8ms/step - loss: 9.2580 - mse: 108.9075\n",
            "Epoch 178/500\n",
            "2/2 [==============================] - 0s 12ms/step - loss: 18.1440 - mse: 466.0513\n",
            "Epoch 179/500\n",
            "2/2 [==============================] - 0s 10ms/step - loss: 10.5995 - mse: 147.8543\n",
            "Epoch 180/500\n",
            "2/2 [==============================] - 0s 6ms/step - loss: 7.8992 - mse: 100.6932\n",
            "Epoch 181/500\n",
            "2/2 [==============================] - 0s 5ms/step - loss: 17.4015 - mse: 438.6035\n",
            "Epoch 182/500\n",
            "2/2 [==============================] - 0s 7ms/step - loss: 11.0089 - mse: 157.1596\n",
            "Epoch 183/500\n",
            "2/2 [==============================] - 0s 6ms/step - loss: 11.7027 - mse: 203.9956\n",
            "Epoch 184/500\n",
            "2/2 [==============================] - 0s 6ms/step - loss: 30.4062 - mse: 1387.3850\n",
            "Epoch 185/500\n",
            "2/2 [==============================] - 0s 4ms/step - loss: 7.5557 - mse: 98.6847\n",
            "Epoch 186/500\n",
            "2/2 [==============================] - 0s 5ms/step - loss: 15.9905 - mse: 369.3699\n",
            "Epoch 187/500\n",
            "2/2 [==============================] - 0s 6ms/step - loss: 8.5579 - mse: 85.4846\n",
            "Epoch 188/500\n",
            "2/2 [==============================] - 0s 7ms/step - loss: 28.7339 - mse: 1175.7068\n",
            "Epoch 189/500\n",
            "2/2 [==============================] - 0s 6ms/step - loss: 13.1689 - mse: 271.3447\n",
            "Epoch 190/500\n",
            "2/2 [==============================] - 0s 6ms/step - loss: 18.3101 - mse: 512.5546\n",
            "Epoch 191/500\n",
            "2/2 [==============================] - 0s 5ms/step - loss: 13.7376 - mse: 264.9675\n",
            "Epoch 192/500\n",
            "2/2 [==============================] - 0s 7ms/step - loss: 13.7104 - mse: 261.0630\n",
            "Epoch 193/500\n",
            "2/2 [==============================] - 0s 4ms/step - loss: 28.5842 - mse: 1135.1304\n",
            "Epoch 194/500\n",
            "2/2 [==============================] - 0s 4ms/step - loss: 7.0707 - mse: 78.6824\n",
            "Epoch 195/500\n",
            "2/2 [==============================] - 0s 4ms/step - loss: 7.0550 - mse: 74.9454\n",
            "Epoch 196/500\n",
            "2/2 [==============================] - 0s 6ms/step - loss: 22.0067 - mse: 709.4537\n",
            "Epoch 197/500\n",
            "2/2 [==============================] - 0s 8ms/step - loss: 20.8443 - mse: 643.6125\n",
            "Epoch 198/500\n",
            "2/2 [==============================] - 0s 9ms/step - loss: 12.4713 - mse: 236.5511\n",
            "Epoch 199/500\n",
            "2/2 [==============================] - 0s 8ms/step - loss: 17.9099 - mse: 460.3531\n",
            "Epoch 200/500\n",
            "2/2 [==============================] - 0s 12ms/step - loss: 13.7494 - mse: 282.2669\n",
            "Epoch 201/500\n",
            "2/2 [==============================] - 0s 5ms/step - loss: 5.4687 - mse: 41.0882\n",
            "Epoch 202/500\n",
            "2/2 [==============================] - 0s 5ms/step - loss: 13.7006 - mse: 293.8446\n",
            "Epoch 203/500\n",
            "2/2 [==============================] - 0s 4ms/step - loss: 9.4142 - mse: 139.9066\n",
            "Epoch 204/500\n",
            "2/2 [==============================] - 0s 5ms/step - loss: 20.9796 - mse: 656.2629\n",
            "Epoch 205/500\n",
            "2/2 [==============================] - 0s 16ms/step - loss: 9.5470 - mse: 127.9146\n",
            "Epoch 206/500\n",
            "2/2 [==============================] - 0s 5ms/step - loss: 11.7256 - mse: 195.6241\n",
            "Epoch 207/500\n",
            "2/2 [==============================] - 0s 6ms/step - loss: 14.3772 - mse: 317.1679\n",
            "Epoch 208/500\n",
            "2/2 [==============================] - 0s 9ms/step - loss: 14.8579 - mse: 323.1455\n",
            "Epoch 209/500\n",
            "2/2 [==============================] - 0s 7ms/step - loss: 14.9706 - mse: 345.7380\n",
            "Epoch 210/500\n",
            "2/2 [==============================] - 0s 8ms/step - loss: 17.8998 - mse: 467.4648\n",
            "Epoch 211/500\n",
            "2/2 [==============================] - 0s 9ms/step - loss: 9.8327 - mse: 145.8636\n",
            "Epoch 212/500\n",
            "2/2 [==============================] - 0s 8ms/step - loss: 18.3352 - mse: 507.7770\n",
            "Epoch 213/500\n",
            "2/2 [==============================] - 0s 6ms/step - loss: 15.0383 - mse: 307.6406\n",
            "Epoch 214/500\n",
            "2/2 [==============================] - 0s 5ms/step - loss: 14.5874 - mse: 293.5642\n",
            "Epoch 215/500\n",
            "2/2 [==============================] - 0s 5ms/step - loss: 23.3015 - mse: 799.4147\n",
            "Epoch 216/500\n",
            "2/2 [==============================] - 0s 5ms/step - loss: 13.3613 - mse: 278.0950\n",
            "Epoch 217/500\n",
            "2/2 [==============================] - 0s 8ms/step - loss: 9.8517 - mse: 136.3093\n",
            "Epoch 218/500\n",
            "2/2 [==============================] - 0s 4ms/step - loss: 12.5451 - mse: 206.5809\n",
            "Epoch 219/500\n",
            "2/2 [==============================] - 0s 4ms/step - loss: 4.9472 - mse: 37.4063\n",
            "Epoch 220/500\n",
            "2/2 [==============================] - 0s 5ms/step - loss: 7.1130 - mse: 57.5579\n",
            "Epoch 221/500\n",
            "2/2 [==============================] - 0s 4ms/step - loss: 35.4567 - mse: 2108.1023\n",
            "Epoch 222/500\n",
            "2/2 [==============================] - 0s 4ms/step - loss: 34.8634 - mse: 1966.9613\n",
            "Epoch 223/500\n",
            "2/2 [==============================] - 0s 4ms/step - loss: 7.9846 - mse: 119.7548\n",
            "Epoch 224/500\n",
            "2/2 [==============================] - 0s 5ms/step - loss: 14.7004 - mse: 318.5025\n",
            "Epoch 225/500\n",
            "2/2 [==============================] - 0s 4ms/step - loss: 16.7196 - mse: 360.6416\n",
            "Epoch 226/500\n",
            "2/2 [==============================] - 0s 5ms/step - loss: 15.9329 - mse: 369.8890\n",
            "Epoch 227/500\n",
            "2/2 [==============================] - 0s 4ms/step - loss: 16.1644 - mse: 369.5817\n",
            "Epoch 228/500\n",
            "2/2 [==============================] - 0s 6ms/step - loss: 13.9324 - mse: 282.1421\n",
            "Epoch 229/500\n",
            "2/2 [==============================] - 0s 4ms/step - loss: 18.0504 - mse: 457.4227\n",
            "Epoch 230/500\n",
            "2/2 [==============================] - 0s 5ms/step - loss: 15.6120 - mse: 314.6217\n",
            "Epoch 231/500\n",
            "2/2 [==============================] - 0s 10ms/step - loss: 21.2041 - mse: 670.7587\n",
            "Epoch 232/500\n",
            "2/2 [==============================] - 0s 5ms/step - loss: 25.2732 - mse: 913.5804\n",
            "Epoch 233/500\n",
            "2/2 [==============================] - 0s 5ms/step - loss: 16.3176 - mse: 387.7160\n",
            "Epoch 234/500\n",
            "2/2 [==============================] - 0s 5ms/step - loss: 7.2729 - mse: 66.5098\n",
            "Epoch 235/500\n",
            "2/2 [==============================] - 0s 4ms/step - loss: 16.9688 - mse: 403.1298\n",
            "Epoch 236/500\n",
            "2/2 [==============================] - 0s 4ms/step - loss: 7.1225 - mse: 69.7516\n",
            "Epoch 237/500\n",
            "2/2 [==============================] - 0s 5ms/step - loss: 9.2058 - mse: 118.9100\n",
            "Epoch 238/500\n",
            "2/2 [==============================] - 0s 9ms/step - loss: 8.0961 - mse: 86.7115\n",
            "Epoch 239/500\n",
            "2/2 [==============================] - 0s 5ms/step - loss: 17.0538 - mse: 438.0269\n",
            "Epoch 240/500\n",
            "2/2 [==============================] - 0s 4ms/step - loss: 8.8627 - mse: 107.8192\n",
            "Epoch 241/500\n",
            "2/2 [==============================] - 0s 5ms/step - loss: 13.1711 - mse: 273.2422\n",
            "Epoch 242/500\n",
            "2/2 [==============================] - 0s 5ms/step - loss: 8.7886 - mse: 104.8366\n",
            "Epoch 243/500\n",
            "2/2 [==============================] - 0s 12ms/step - loss: 18.8161 - mse: 541.4716\n",
            "Epoch 244/500\n",
            "2/2 [==============================] - 0s 10ms/step - loss: 14.0531 - mse: 275.3817\n",
            "Epoch 245/500\n",
            "2/2 [==============================] - 0s 12ms/step - loss: 14.6831 - mse: 290.1828\n",
            "Epoch 246/500\n",
            "2/2 [==============================] - 0s 7ms/step - loss: 15.8045 - mse: 370.7154\n",
            "Epoch 247/500\n",
            "2/2 [==============================] - 0s 8ms/step - loss: 17.6810 - mse: 421.4945\n",
            "Epoch 248/500\n",
            "2/2 [==============================] - 0s 5ms/step - loss: 13.2367 - mse: 251.7197\n",
            "Epoch 249/500\n",
            "2/2 [==============================] - 0s 5ms/step - loss: 14.5070 - mse: 288.7692\n",
            "Epoch 250/500\n",
            "2/2 [==============================] - 0s 6ms/step - loss: 23.2322 - mse: 793.2501\n",
            "Epoch 251/500\n",
            "2/2 [==============================] - 0s 9ms/step - loss: 9.3009 - mse: 119.0357\n",
            "Epoch 252/500\n",
            "2/2 [==============================] - 0s 8ms/step - loss: 36.6569 - mse: 2195.6194\n",
            "Epoch 253/500\n",
            "2/2 [==============================] - 0s 4ms/step - loss: 21.8205 - mse: 667.9635\n",
            "Epoch 254/500\n",
            "2/2 [==============================] - 0s 6ms/step - loss: 7.2792 - mse: 77.8093\n",
            "Epoch 255/500\n",
            "2/2 [==============================] - 0s 7ms/step - loss: 24.7127 - mse: 882.9670\n",
            "Epoch 256/500\n",
            "2/2 [==============================] - 0s 17ms/step - loss: 12.4220 - mse: 220.3517\n",
            "Epoch 257/500\n",
            "2/2 [==============================] - 0s 4ms/step - loss: 10.5823 - mse: 164.0441\n",
            "Epoch 258/500\n",
            "2/2 [==============================] - 0s 4ms/step - loss: 14.4883 - mse: 322.3513\n",
            "Epoch 259/500\n",
            "2/2 [==============================] - 0s 4ms/step - loss: 8.6132 - mse: 98.6933\n",
            "Epoch 260/500\n",
            "2/2 [==============================] - 0s 5ms/step - loss: 43.0580 - mse: 2975.2341\n",
            "Epoch 261/500\n",
            "2/2 [==============================] - 0s 7ms/step - loss: 18.4611 - mse: 493.6667\n",
            "Epoch 262/500\n",
            "2/2 [==============================] - 0s 7ms/step - loss: 6.8820 - mse: 94.3408\n",
            "Epoch 263/500\n",
            "2/2 [==============================] - 0s 5ms/step - loss: 13.7211 - mse: 268.5678\n",
            "Epoch 264/500\n",
            "2/2 [==============================] - 0s 8ms/step - loss: 21.0154 - mse: 653.9614\n",
            "Epoch 265/500\n",
            "2/2 [==============================] - 0s 7ms/step - loss: 19.3731 - mse: 545.6253\n",
            "Epoch 266/500\n",
            "2/2 [==============================] - 0s 18ms/step - loss: 11.4735 - mse: 234.7203\n",
            "Epoch 267/500\n",
            "2/2 [==============================] - 0s 6ms/step - loss: 7.5302 - mse: 112.0908\n",
            "Epoch 268/500\n",
            "2/2 [==============================] - 0s 4ms/step - loss: 21.6453 - mse: 670.2252\n",
            "Epoch 269/500\n",
            "2/2 [==============================] - 0s 5ms/step - loss: 33.1785 - mse: 1653.7379\n",
            "Epoch 270/500\n",
            "2/2 [==============================] - 0s 8ms/step - loss: 10.0833 - mse: 148.7353\n",
            "Epoch 271/500\n",
            "2/2 [==============================] - 0s 8ms/step - loss: 12.1012 - mse: 303.1726\n",
            "Epoch 272/500\n",
            "2/2 [==============================] - 0s 5ms/step - loss: 26.1372 - mse: 944.6777\n",
            "Epoch 273/500\n",
            "2/2 [==============================] - 0s 7ms/step - loss: 12.1751 - mse: 228.8034\n",
            "Epoch 274/500\n",
            "2/2 [==============================] - 0s 10ms/step - loss: 13.3272 - mse: 282.3035\n",
            "Epoch 275/500\n",
            "2/2 [==============================] - 0s 10ms/step - loss: 29.3775 - mse: 1229.1163\n",
            "Epoch 276/500\n",
            "2/2 [==============================] - 0s 9ms/step - loss: 7.3329 - mse: 104.3417\n",
            "Epoch 277/500\n",
            "2/2 [==============================] - 0s 4ms/step - loss: 31.1362 - mse: 1360.7679\n",
            "Epoch 278/500\n",
            "2/2 [==============================] - 0s 9ms/step - loss: 12.3015 - mse: 234.6620\n",
            "Epoch 279/500\n",
            "2/2 [==============================] - 0s 7ms/step - loss: 16.4103 - mse: 416.9113\n",
            "Epoch 280/500\n",
            "2/2 [==============================] - 0s 6ms/step - loss: 21.9118 - mse: 716.7842\n",
            "Epoch 281/500\n",
            "2/2 [==============================] - 0s 5ms/step - loss: 22.1501 - mse: 745.2065\n",
            "Epoch 282/500\n",
            "2/2 [==============================] - 0s 10ms/step - loss: 7.7429 - mse: 90.5224\n",
            "Epoch 283/500\n",
            "2/2 [==============================] - 0s 6ms/step - loss: 8.1429 - mse: 87.9050\n",
            "Epoch 284/500\n",
            "2/2 [==============================] - 0s 4ms/step - loss: 24.9435 - mse: 936.1608\n",
            "Epoch 285/500\n",
            "2/2 [==============================] - 0s 4ms/step - loss: 13.6958 - mse: 299.3615\n",
            "Epoch 286/500\n",
            "2/2 [==============================] - 0s 8ms/step - loss: 6.8926 - mse: 81.2999\n",
            "Epoch 287/500\n",
            "2/2 [==============================] - 0s 6ms/step - loss: 24.5352 - mse: 862.2879\n",
            "Epoch 288/500\n",
            "2/2 [==============================] - 0s 6ms/step - loss: 20.1721 - mse: 605.2875\n",
            "Epoch 289/500\n",
            "2/2 [==============================] - 0s 7ms/step - loss: 11.9658 - mse: 244.8306\n",
            "Epoch 290/500\n",
            "2/2 [==============================] - 0s 5ms/step - loss: 16.5391 - mse: 366.5719\n",
            "Epoch 291/500\n",
            "2/2 [==============================] - 0s 6ms/step - loss: 16.8017 - mse: 414.8176\n",
            "Epoch 292/500\n",
            "2/2 [==============================] - 0s 5ms/step - loss: 9.4642 - mse: 213.4544\n",
            "Epoch 293/500\n",
            "2/2 [==============================] - 0s 6ms/step - loss: 15.2711 - mse: 318.1684\n",
            "Epoch 294/500\n",
            "2/2 [==============================] - 0s 8ms/step - loss: 22.7179 - mse: 780.8712\n",
            "Epoch 295/500\n",
            "2/2 [==============================] - 0s 5ms/step - loss: 17.9234 - mse: 458.5733\n",
            "Epoch 296/500\n",
            "2/2 [==============================] - 0s 11ms/step - loss: 6.1743 - mse: 59.0634\n",
            "Epoch 297/500\n",
            "2/2 [==============================] - 0s 8ms/step - loss: 10.9440 - mse: 254.2861\n",
            "Epoch 298/500\n",
            "2/2 [==============================] - 0s 5ms/step - loss: 23.1530 - mse: 785.9867\n",
            "Epoch 299/500\n",
            "2/2 [==============================] - 0s 8ms/step - loss: 17.7331 - mse: 469.9268\n",
            "Epoch 300/500\n",
            "2/2 [==============================] - 0s 6ms/step - loss: 6.9824 - mse: 65.0503\n",
            "Epoch 301/500\n",
            "2/2 [==============================] - 0s 7ms/step - loss: 25.1857 - mse: 898.2788\n",
            "Epoch 302/500\n",
            "2/2 [==============================] - 0s 5ms/step - loss: 8.9025 - mse: 116.0077\n",
            "Epoch 303/500\n",
            "2/2 [==============================] - 0s 6ms/step - loss: 17.7668 - mse: 461.9373\n",
            "Epoch 304/500\n",
            "2/2 [==============================] - 0s 9ms/step - loss: 11.0002 - mse: 173.9248\n",
            "Epoch 305/500\n",
            "2/2 [==============================] - 0s 6ms/step - loss: 12.9191 - mse: 271.8381\n",
            "Epoch 306/500\n",
            "2/2 [==============================] - 0s 9ms/step - loss: 8.4033 - mse: 94.4444\n",
            "Epoch 307/500\n",
            "2/2 [==============================] - 0s 7ms/step - loss: 13.6094 - mse: 279.1173\n",
            "Epoch 308/500\n",
            "2/2 [==============================] - 0s 5ms/step - loss: 7.4404 - mse: 78.3839\n",
            "Epoch 309/500\n",
            "2/2 [==============================] - 0s 7ms/step - loss: 9.4642 - mse: 138.8858\n",
            "Epoch 310/500\n",
            "2/2 [==============================] - 0s 5ms/step - loss: 10.7099 - mse: 198.2187\n",
            "Epoch 311/500\n",
            "2/2 [==============================] - 0s 4ms/step - loss: 13.2814 - mse: 254.2447\n",
            "Epoch 312/500\n",
            "2/2 [==============================] - 0s 8ms/step - loss: 29.9763 - mse: 1241.6272\n",
            "Epoch 313/500\n",
            "2/2 [==============================] - 0s 10ms/step - loss: 7.6304 - mse: 104.4100\n",
            "Epoch 314/500\n",
            "2/2 [==============================] - 0s 10ms/step - loss: 9.9106 - mse: 239.5556\n",
            "Epoch 315/500\n",
            "2/2 [==============================] - 0s 6ms/step - loss: 23.7669 - mse: 820.7438\n",
            "Epoch 316/500\n",
            "2/2 [==============================] - 0s 5ms/step - loss: 16.3937 - mse: 404.4796\n",
            "Epoch 317/500\n",
            "2/2 [==============================] - 0s 5ms/step - loss: 21.0758 - mse: 606.4604\n",
            "Epoch 318/500\n",
            "2/2 [==============================] - 0s 7ms/step - loss: 7.9367 - mse: 81.3765\n",
            "Epoch 319/500\n",
            "2/2 [==============================] - 0s 7ms/step - loss: 17.9731 - mse: 479.6092\n",
            "Epoch 320/500\n",
            "2/2 [==============================] - 0s 7ms/step - loss: 10.2375 - mse: 174.0454\n",
            "Epoch 321/500\n",
            "2/2 [==============================] - 0s 12ms/step - loss: 8.3338 - mse: 110.8493\n",
            "Epoch 322/500\n",
            "2/2 [==============================] - 0s 5ms/step - loss: 5.0621 - mse: 39.6195\n",
            "Epoch 323/500\n",
            "2/2 [==============================] - 0s 10ms/step - loss: 23.5109 - mse: 802.4891\n",
            "Epoch 324/500\n",
            "2/2 [==============================] - 0s 6ms/step - loss: 6.8309 - mse: 57.6746\n",
            "Epoch 325/500\n",
            "2/2 [==============================] - 0s 5ms/step - loss: 16.3863 - mse: 384.4404\n",
            "Epoch 326/500\n",
            "2/2 [==============================] - 0s 5ms/step - loss: 7.5019 - mse: 78.7650\n",
            "Epoch 327/500\n",
            "2/2 [==============================] - 0s 10ms/step - loss: 20.0573 - mse: 568.8239\n",
            "Epoch 328/500\n",
            "2/2 [==============================] - 0s 9ms/step - loss: 13.7661 - mse: 265.8646\n",
            "Epoch 329/500\n",
            "2/2 [==============================] - 0s 6ms/step - loss: 16.8282 - mse: 430.9922\n",
            "Epoch 330/500\n",
            "2/2 [==============================] - 0s 6ms/step - loss: 7.0514 - mse: 81.9922\n",
            "Epoch 331/500\n",
            "2/2 [==============================] - 0s 7ms/step - loss: 21.4846 - mse: 704.3917\n",
            "Epoch 332/500\n",
            "2/2 [==============================] - 0s 4ms/step - loss: 12.2880 - mse: 236.5700\n",
            "Epoch 333/500\n",
            "2/2 [==============================] - 0s 4ms/step - loss: 11.8117 - mse: 222.0919\n",
            "Epoch 334/500\n",
            "2/2 [==============================] - 0s 6ms/step - loss: 8.3600 - mse: 169.8893\n",
            "Epoch 335/500\n",
            "2/2 [==============================] - 0s 8ms/step - loss: 12.4833 - mse: 276.8587\n",
            "Epoch 336/500\n",
            "2/2 [==============================] - 0s 5ms/step - loss: 32.2171 - mse: 1416.1729\n",
            "Epoch 337/500\n",
            "2/2 [==============================] - 0s 7ms/step - loss: 10.4477 - mse: 180.3260\n",
            "Epoch 338/500\n",
            "2/2 [==============================] - 0s 6ms/step - loss: 19.6832 - mse: 573.4711\n",
            "Epoch 339/500\n",
            "2/2 [==============================] - 0s 13ms/step - loss: 35.0762 - mse: 1849.1539\n",
            "Epoch 340/500\n",
            "2/2 [==============================] - 0s 9ms/step - loss: 10.4192 - mse: 181.4144\n",
            "Epoch 341/500\n",
            "2/2 [==============================] - 0s 6ms/step - loss: 9.7625 - mse: 156.3229\n",
            "Epoch 342/500\n",
            "2/2 [==============================] - 0s 4ms/step - loss: 11.9500 - mse: 188.5579\n",
            "Epoch 343/500\n",
            "2/2 [==============================] - 0s 4ms/step - loss: 9.3943 - mse: 145.3949\n",
            "Epoch 344/500\n",
            "2/2 [==============================] - 0s 4ms/step - loss: 5.6071 - mse: 44.6760\n",
            "Epoch 345/500\n",
            "2/2 [==============================] - 0s 4ms/step - loss: 37.4876 - mse: 2291.7795\n",
            "Epoch 346/500\n",
            "2/2 [==============================] - 0s 20ms/step - loss: 16.8830 - mse: 411.1353\n",
            "Epoch 347/500\n",
            "2/2 [==============================] - 0s 13ms/step - loss: 12.8748 - mse: 281.5983\n",
            "Epoch 348/500\n",
            "2/2 [==============================] - 0s 11ms/step - loss: 8.1960 - mse: 162.6964\n",
            "Epoch 349/500\n",
            "2/2 [==============================] - 0s 6ms/step - loss: 13.5568 - mse: 261.1368\n",
            "Epoch 350/500\n",
            "2/2 [==============================] - 0s 7ms/step - loss: 15.4354 - mse: 333.2080\n",
            "Epoch 351/500\n",
            "2/2 [==============================] - 0s 6ms/step - loss: 32.9626 - mse: 1524.7932\n",
            "Epoch 352/500\n",
            "2/2 [==============================] - 0s 9ms/step - loss: 14.2040 - mse: 282.7506\n",
            "Epoch 353/500\n",
            "2/2 [==============================] - 0s 7ms/step - loss: 15.9196 - mse: 374.1915\n",
            "Epoch 354/500\n",
            "2/2 [==============================] - 0s 7ms/step - loss: 19.0878 - mse: 534.9771\n",
            "Epoch 355/500\n",
            "2/2 [==============================] - 0s 4ms/step - loss: 34.1178 - mse: 1782.7025\n",
            "Epoch 356/500\n",
            "2/2 [==============================] - 0s 7ms/step - loss: 7.6798 - mse: 90.9118\n",
            "Epoch 357/500\n",
            "2/2 [==============================] - 0s 7ms/step - loss: 25.2287 - mse: 974.0947\n",
            "Epoch 358/500\n",
            "2/2 [==============================] - 0s 9ms/step - loss: 22.6759 - mse: 742.0939\n",
            "Epoch 359/500\n",
            "2/2 [==============================] - 0s 8ms/step - loss: 8.8765 - mse: 198.2591\n",
            "Epoch 360/500\n",
            "2/2 [==============================] - 0s 9ms/step - loss: 21.4709 - mse: 687.3278\n",
            "Epoch 361/500\n",
            "2/2 [==============================] - 0s 6ms/step - loss: 20.6073 - mse: 616.7942\n",
            "Epoch 362/500\n",
            "2/2 [==============================] - 0s 8ms/step - loss: 7.0611 - mse: 69.3817\n",
            "Epoch 363/500\n",
            "2/2 [==============================] - 0s 8ms/step - loss: 25.8117 - mse: 994.8184\n",
            "Epoch 364/500\n",
            "2/2 [==============================] - 0s 6ms/step - loss: 32.2247 - mse: 1527.6050\n",
            "Epoch 365/500\n",
            "2/2 [==============================] - 0s 4ms/step - loss: 10.0204 - mse: 161.6848\n",
            "Epoch 366/500\n",
            "2/2 [==============================] - 0s 6ms/step - loss: 9.6722 - mse: 227.5722\n",
            "Epoch 367/500\n",
            "2/2 [==============================] - 0s 9ms/step - loss: 30.4171 - mse: 1294.6045\n",
            "Epoch 368/500\n",
            "2/2 [==============================] - 0s 11ms/step - loss: 10.5020 - mse: 236.3134\n",
            "Epoch 369/500\n",
            "2/2 [==============================] - 0s 7ms/step - loss: 14.9909 - mse: 330.8544\n",
            "Epoch 370/500\n",
            "2/2 [==============================] - 0s 9ms/step - loss: 14.6580 - mse: 308.0736\n",
            "Epoch 371/500\n",
            "2/2 [==============================] - 0s 7ms/step - loss: 23.3672 - mse: 789.0358\n",
            "Epoch 372/500\n",
            "2/2 [==============================] - 0s 5ms/step - loss: 13.1025 - mse: 290.2268\n",
            "Epoch 373/500\n",
            "2/2 [==============================] - 0s 4ms/step - loss: 9.2586 - mse: 140.7053\n",
            "Epoch 374/500\n",
            "2/2 [==============================] - 0s 5ms/step - loss: 9.6648 - mse: 194.1147\n",
            "Epoch 375/500\n",
            "2/2 [==============================] - 0s 4ms/step - loss: 13.0041 - mse: 237.9867\n",
            "Epoch 376/500\n",
            "2/2 [==============================] - 0s 6ms/step - loss: 14.8863 - mse: 324.7536\n",
            "Epoch 377/500\n",
            "2/2 [==============================] - 0s 6ms/step - loss: 14.7932 - mse: 297.2056\n",
            "Epoch 378/500\n",
            "2/2 [==============================] - 0s 4ms/step - loss: 16.2751 - mse: 418.5632\n",
            "Epoch 379/500\n",
            "2/2 [==============================] - 0s 6ms/step - loss: 20.8307 - mse: 596.8133\n",
            "Epoch 380/500\n",
            "2/2 [==============================] - 0s 5ms/step - loss: 33.5317 - mse: 1684.8943\n",
            "Epoch 381/500\n",
            "2/2 [==============================] - 0s 4ms/step - loss: 8.2166 - mse: 100.6385\n",
            "Epoch 382/500\n",
            "2/2 [==============================] - 0s 4ms/step - loss: 13.0960 - mse: 282.0384\n",
            "Epoch 383/500\n",
            "2/2 [==============================] - 0s 5ms/step - loss: 8.3999 - mse: 126.0928\n",
            "Epoch 384/500\n",
            "2/2 [==============================] - 0s 8ms/step - loss: 7.1283 - mse: 72.4399\n",
            "Epoch 385/500\n",
            "2/2 [==============================] - 0s 5ms/step - loss: 10.9390 - mse: 249.4376\n",
            "Epoch 386/500\n",
            "2/2 [==============================] - 0s 8ms/step - loss: 19.7654 - mse: 601.5795\n",
            "Epoch 387/500\n",
            "2/2 [==============================] - 0s 7ms/step - loss: 24.8625 - mse: 896.3691\n",
            "Epoch 388/500\n",
            "2/2 [==============================] - 0s 11ms/step - loss: 8.7422 - mse: 128.0917\n",
            "Epoch 389/500\n",
            "2/2 [==============================] - 0s 11ms/step - loss: 5.9488 - mse: 48.1568\n",
            "Epoch 390/500\n",
            "2/2 [==============================] - 0s 11ms/step - loss: 24.4400 - mse: 881.1036\n",
            "Epoch 391/500\n",
            "2/2 [==============================] - 0s 10ms/step - loss: 5.9771 - mse: 73.2800\n",
            "Epoch 392/500\n",
            "2/2 [==============================] - 0s 5ms/step - loss: 16.3250 - mse: 379.2592\n",
            "Epoch 393/500\n",
            "2/2 [==============================] - 0s 5ms/step - loss: 6.0917 - mse: 76.7833\n",
            "Epoch 394/500\n",
            "2/2 [==============================] - 0s 6ms/step - loss: 11.0963 - mse: 204.7650\n",
            "Epoch 395/500\n",
            "2/2 [==============================] - 0s 7ms/step - loss: 14.9601 - mse: 336.1563\n",
            "Epoch 396/500\n",
            "2/2 [==============================] - 0s 6ms/step - loss: 7.6462 - mse: 103.3247\n",
            "Epoch 397/500\n",
            "2/2 [==============================] - 0s 10ms/step - loss: 8.7654 - mse: 136.5433\n",
            "Epoch 398/500\n",
            "2/2 [==============================] - 0s 10ms/step - loss: 14.5991 - mse: 320.4537\n",
            "Epoch 399/500\n",
            "2/2 [==============================] - 0s 8ms/step - loss: 11.3166 - mse: 280.6889\n",
            "Epoch 400/500\n",
            "2/2 [==============================] - 0s 7ms/step - loss: 21.9080 - mse: 741.3461\n",
            "Epoch 401/500\n",
            "2/2 [==============================] - 0s 8ms/step - loss: 14.8653 - mse: 348.6721\n",
            "Epoch 402/500\n",
            "2/2 [==============================] - 0s 10ms/step - loss: 8.4970 - mse: 115.5853\n",
            "Epoch 403/500\n",
            "2/2 [==============================] - 0s 9ms/step - loss: 10.3957 - mse: 191.0402\n",
            "Epoch 404/500\n",
            "2/2 [==============================] - 0s 7ms/step - loss: 10.2556 - mse: 207.5718\n",
            "Epoch 405/500\n",
            "2/2 [==============================] - 0s 7ms/step - loss: 6.3392 - mse: 68.2857\n",
            "Epoch 406/500\n",
            "2/2 [==============================] - 0s 11ms/step - loss: 17.4602 - mse: 460.2048\n",
            "Epoch 407/500\n",
            "2/2 [==============================] - 0s 10ms/step - loss: 11.4627 - mse: 284.7277\n",
            "Epoch 408/500\n",
            "2/2 [==============================] - 0s 7ms/step - loss: 20.7294 - mse: 662.1500\n",
            "Epoch 409/500\n",
            "2/2 [==============================] - 0s 10ms/step - loss: 31.3338 - mse: 1522.7683\n",
            "Epoch 410/500\n",
            "2/2 [==============================] - 0s 9ms/step - loss: 9.2542 - mse: 221.9487\n",
            "Epoch 411/500\n",
            "2/2 [==============================] - 0s 5ms/step - loss: 14.8621 - mse: 285.8415\n",
            "Epoch 412/500\n",
            "2/2 [==============================] - 0s 5ms/step - loss: 21.7182 - mse: 721.0389\n",
            "Epoch 413/500\n",
            "2/2 [==============================] - 0s 10ms/step - loss: 12.6615 - mse: 248.9694\n",
            "Epoch 414/500\n",
            "2/2 [==============================] - 0s 6ms/step - loss: 6.0687 - mse: 88.3708\n",
            "Epoch 415/500\n",
            "2/2 [==============================] - 0s 10ms/step - loss: 13.2201 - mse: 239.8954\n",
            "Epoch 416/500\n",
            "2/2 [==============================] - 0s 4ms/step - loss: 27.4244 - mse: 1037.9579\n",
            "Epoch 417/500\n",
            "2/2 [==============================] - 0s 9ms/step - loss: 10.6407 - mse: 207.4821\n",
            "Epoch 418/500\n",
            "2/2 [==============================] - 0s 10ms/step - loss: 12.8230 - mse: 236.7907\n",
            "Epoch 419/500\n",
            "2/2 [==============================] - 0s 5ms/step - loss: 15.8836 - mse: 374.5482\n",
            "Epoch 420/500\n",
            "2/2 [==============================] - 0s 8ms/step - loss: 24.7510 - mse: 849.5329\n",
            "Epoch 421/500\n",
            "2/2 [==============================] - 0s 8ms/step - loss: 17.3753 - mse: 444.1830\n",
            "Epoch 422/500\n",
            "2/2 [==============================] - 0s 4ms/step - loss: 7.8241 - mse: 157.5328\n",
            "Epoch 423/500\n",
            "2/2 [==============================] - 0s 4ms/step - loss: 25.3789 - mse: 907.6139\n",
            "Epoch 424/500\n",
            "2/2 [==============================] - 0s 4ms/step - loss: 15.1031 - mse: 369.3289\n",
            "Epoch 425/500\n",
            "2/2 [==============================] - 0s 4ms/step - loss: 7.1643 - mse: 75.3718\n",
            "Epoch 426/500\n",
            "2/2 [==============================] - 0s 9ms/step - loss: 20.3318 - mse: 572.0355\n",
            "Epoch 427/500\n",
            "2/2 [==============================] - 0s 6ms/step - loss: 6.3283 - mse: 84.9745\n",
            "Epoch 428/500\n",
            "2/2 [==============================] - 0s 12ms/step - loss: 12.9961 - mse: 288.4218\n",
            "Epoch 429/500\n",
            "2/2 [==============================] - 0s 10ms/step - loss: 10.7869 - mse: 192.7742\n",
            "Epoch 430/500\n",
            "2/2 [==============================] - 0s 8ms/step - loss: 11.4007 - mse: 248.2724\n",
            "Epoch 431/500\n",
            "2/2 [==============================] - 0s 8ms/step - loss: 10.6152 - mse: 218.3398\n",
            "Epoch 432/500\n",
            "2/2 [==============================] - 0s 4ms/step - loss: 11.4582 - mse: 239.2198\n",
            "Epoch 433/500\n",
            "2/2 [==============================] - 0s 9ms/step - loss: 11.3851 - mse: 296.6783\n",
            "Epoch 434/500\n",
            "2/2 [==============================] - 0s 5ms/step - loss: 30.3986 - mse: 1296.5632\n",
            "Epoch 435/500\n",
            "2/2 [==============================] - 0s 5ms/step - loss: 10.5052 - mse: 283.6812\n",
            "Epoch 436/500\n",
            "2/2 [==============================] - 0s 8ms/step - loss: 28.8810 - mse: 1216.2336\n",
            "Epoch 437/500\n",
            "2/2 [==============================] - 0s 5ms/step - loss: 8.5916 - mse: 209.5433\n",
            "Epoch 438/500\n",
            "2/2 [==============================] - 0s 11ms/step - loss: 12.7378 - mse: 264.4510\n",
            "Epoch 439/500\n",
            "2/2 [==============================] - 0s 7ms/step - loss: 33.6754 - mse: 1570.2361\n",
            "Epoch 440/500\n",
            "2/2 [==============================] - 0s 9ms/step - loss: 15.0963 - mse: 294.7132\n",
            "Epoch 441/500\n",
            "2/2 [==============================] - 0s 11ms/step - loss: 17.4813 - mse: 487.0573\n",
            "Epoch 442/500\n",
            "2/2 [==============================] - 0s 5ms/step - loss: 22.3049 - mse: 750.9305\n",
            "Epoch 443/500\n",
            "2/2 [==============================] - 0s 7ms/step - loss: 23.5841 - mse: 784.1378\n",
            "Epoch 444/500\n",
            "2/2 [==============================] - 0s 7ms/step - loss: 11.0008 - mse: 203.7582\n",
            "Epoch 445/500\n",
            "2/2 [==============================] - 0s 6ms/step - loss: 14.9175 - mse: 316.4790\n",
            "Epoch 446/500\n",
            "2/2 [==============================] - 0s 7ms/step - loss: 17.9979 - mse: 515.1713\n",
            "Epoch 447/500\n",
            "2/2 [==============================] - 0s 7ms/step - loss: 5.4482 - mse: 51.4485\n",
            "Epoch 448/500\n",
            "2/2 [==============================] - 0s 8ms/step - loss: 10.0527 - mse: 253.4828\n",
            "Epoch 449/500\n",
            "2/2 [==============================] - 0s 4ms/step - loss: 14.0052 - mse: 277.3353\n",
            "Epoch 450/500\n",
            "2/2 [==============================] - 0s 7ms/step - loss: 16.7782 - mse: 424.4229\n",
            "Epoch 451/500\n",
            "2/2 [==============================] - 0s 5ms/step - loss: 14.2937 - mse: 303.4478\n",
            "Epoch 452/500\n",
            "2/2 [==============================] - 0s 7ms/step - loss: 30.6193 - mse: 1329.8268\n",
            "Epoch 453/500\n",
            "2/2 [==============================] - 0s 4ms/step - loss: 7.6541 - mse: 159.0376\n",
            "Epoch 454/500\n",
            "2/2 [==============================] - 0s 5ms/step - loss: 28.1428 - mse: 1104.4142\n",
            "Epoch 455/500\n",
            "2/2 [==============================] - 0s 7ms/step - loss: 8.0017 - mse: 119.3274\n",
            "Epoch 456/500\n",
            "2/2 [==============================] - 0s 6ms/step - loss: 10.3933 - mse: 289.6392\n",
            "Epoch 457/500\n",
            "2/2 [==============================] - 0s 7ms/step - loss: 15.0242 - mse: 318.3536\n",
            "Epoch 458/500\n",
            "2/2 [==============================] - 0s 5ms/step - loss: 16.5653 - mse: 439.8007\n",
            "Epoch 459/500\n",
            "2/2 [==============================] - 0s 5ms/step - loss: 26.8566 - mse: 1033.5485\n",
            "Epoch 460/500\n",
            "2/2 [==============================] - 0s 6ms/step - loss: 12.4852 - mse: 251.1162\n",
            "Epoch 461/500\n",
            "2/2 [==============================] - 0s 7ms/step - loss: 12.4784 - mse: 272.9071\n",
            "Epoch 462/500\n",
            "2/2 [==============================] - 0s 5ms/step - loss: 13.3186 - mse: 245.2335\n",
            "Epoch 463/500\n",
            "2/2 [==============================] - 0s 8ms/step - loss: 29.5524 - mse: 1219.8660\n",
            "Epoch 464/500\n",
            "2/2 [==============================] - 0s 5ms/step - loss: 3.4664 - mse: 22.0145\n",
            "Epoch 465/500\n",
            "2/2 [==============================] - 0s 8ms/step - loss: 15.2136 - mse: 352.9369\n",
            "Epoch 466/500\n",
            "2/2 [==============================] - 0s 6ms/step - loss: 20.8327 - mse: 651.1593\n",
            "Epoch 467/500\n",
            "2/2 [==============================] - 0s 8ms/step - loss: 30.5108 - mse: 1421.0010\n",
            "Epoch 468/500\n",
            "2/2 [==============================] - 0s 10ms/step - loss: 11.0597 - mse: 236.2266\n",
            "Epoch 469/500\n",
            "2/2 [==============================] - 0s 9ms/step - loss: 12.8372 - mse: 278.2045\n",
            "Epoch 470/500\n",
            "2/2 [==============================] - 0s 4ms/step - loss: 3.2398 - mse: 14.0655\n",
            "Epoch 471/500\n",
            "2/2 [==============================] - 0s 7ms/step - loss: 16.6964 - mse: 372.9566\n",
            "Epoch 472/500\n",
            "2/2 [==============================] - 0s 12ms/step - loss: 13.3883 - mse: 253.4232\n",
            "Epoch 473/500\n",
            "2/2 [==============================] - 0s 10ms/step - loss: 15.2771 - mse: 396.6107\n",
            "Epoch 474/500\n",
            "2/2 [==============================] - 0s 6ms/step - loss: 11.7448 - mse: 305.3250\n",
            "Epoch 475/500\n",
            "2/2 [==============================] - 0s 8ms/step - loss: 16.4113 - mse: 397.1613\n",
            "Epoch 476/500\n",
            "2/2 [==============================] - 0s 8ms/step - loss: 13.8785 - mse: 273.7976\n",
            "Epoch 477/500\n",
            "2/2 [==============================] - 0s 6ms/step - loss: 30.6702 - mse: 1309.4625\n",
            "Epoch 478/500\n",
            "2/2 [==============================] - 0s 10ms/step - loss: 8.5880 - mse: 188.9073\n",
            "Epoch 479/500\n",
            "2/2 [==============================] - 0s 8ms/step - loss: 10.7384 - mse: 261.5203\n",
            "Epoch 480/500\n",
            "2/2 [==============================] - 0s 8ms/step - loss: 17.9051 - mse: 484.4154\n",
            "Epoch 481/500\n",
            "2/2 [==============================] - 0s 17ms/step - loss: 15.8095 - mse: 368.1044\n",
            "Epoch 482/500\n",
            "2/2 [==============================] - 0s 13ms/step - loss: 21.3054 - mse: 698.1635\n",
            "Epoch 483/500\n",
            "2/2 [==============================] - 0s 11ms/step - loss: 25.3845 - mse: 955.1250\n",
            "Epoch 484/500\n",
            "2/2 [==============================] - 0s 8ms/step - loss: 23.9815 - mse: 811.2781\n",
            "Epoch 485/500\n",
            "2/2 [==============================] - 0s 5ms/step - loss: 5.7734 - mse: 53.7612\n",
            "Epoch 486/500\n",
            "2/2 [==============================] - 0s 12ms/step - loss: 20.0010 - mse: 565.2876\n",
            "Epoch 487/500\n",
            "2/2 [==============================] - 0s 5ms/step - loss: 14.0419 - mse: 286.2684\n",
            "Epoch 488/500\n",
            "2/2 [==============================] - 0s 6ms/step - loss: 30.6088 - mse: 1334.5730\n",
            "Epoch 489/500\n",
            "2/2 [==============================] - 0s 5ms/step - loss: 11.9409 - mse: 237.4729\n",
            "Epoch 490/500\n",
            "2/2 [==============================] - 0s 5ms/step - loss: 12.7352 - mse: 252.5674\n",
            "Epoch 491/500\n",
            "2/2 [==============================] - 0s 10ms/step - loss: 23.6139 - mse: 837.7737\n",
            "Epoch 492/500\n",
            "2/2 [==============================] - 0s 7ms/step - loss: 20.5365 - mse: 592.2181\n",
            "Epoch 493/500\n",
            "2/2 [==============================] - 0s 9ms/step - loss: 4.9942 - mse: 48.0282\n",
            "Epoch 494/500\n",
            "2/2 [==============================] - 0s 10ms/step - loss: 12.7986 - mse: 247.7645\n",
            "Epoch 495/500\n",
            "2/2 [==============================] - 0s 13ms/step - loss: 13.3772 - mse: 239.0901\n",
            "Epoch 496/500\n",
            "2/2 [==============================] - 0s 5ms/step - loss: 12.6727 - mse: 241.5636\n",
            "Epoch 497/500\n",
            "2/2 [==============================] - 0s 8ms/step - loss: 17.6192 - mse: 515.3860\n",
            "Epoch 498/500\n",
            "2/2 [==============================] - 0s 8ms/step - loss: 23.5629 - mse: 816.5500\n",
            "Epoch 499/500\n",
            "2/2 [==============================] - 0s 6ms/step - loss: 9.3755 - mse: 136.1007\n",
            "Epoch 500/500\n",
            "2/2 [==============================] - 0s 5ms/step - loss: 14.6316 - mse: 295.2644\n"
          ]
        },
        {
          "data": {
            "text/plain": [
              "<keras.callbacks.History at 0x7fde792a62d0>"
            ]
          },
          "execution_count": 42,
          "metadata": {},
          "output_type": "execute_result"
        }
      ],
      "source": [
        "# Set the random seed\n",
        "tf.random.set_seed(42)\n",
        "# 1. Create the model\n",
        "model_3 = tf.keras.Sequential([\n",
        "                               tf.keras.layers.Dense(10),\n",
        "                               tf.keras.layers.Dense(1)\n",
        "])\n",
        "#2. Compile the model\n",
        "\n",
        "model_3.compile(loss = tf.keras.losses.mae,\n",
        "                optimizer = tf.keras.optimizers.SGD(),\n",
        "                metrics = [\"mse\"])\n",
        "# Fit the model\n",
        "model_3.fit(tf.expand_dims(x_train,-1),y_train,epochs=500)"
      ]
    },
    {
      "cell_type": "code",
      "execution_count": null,
      "metadata": {
        "colab": {
          "base_uri": "https://localhost:8080/",
          "height": 428
        },
        "id": "YwM4OYFNyvQ8",
        "outputId": "952593e6-01b2-4b78-81b5-a87b3764cce3"
      },
      "outputs": [
        {
          "data": {
            "image/png": "[encoded data removed]",
            "text/plain": [
              "<Figure size 720x504 with 1 Axes>"
            ]
          },
          "metadata": {},
          "output_type": "display_data"
        }
      ],
      "source": [
        "\n",
        "# Make prediction\n",
        "y_pred_3 = model_3.predict(x_test)\n",
        "plot_prediction(predictions = y_pred_3)"
      ]
    },
    {
      "cell_type": "markdown",
      "metadata": {
        "id": "HSHjIvkQDrTY"
      },
      "source": [
        "## Saving our Models\n",
        "\n",
        "```\n",
        "# This is formatted as code\n",
        "```\n",
        "\n"
      ]
    },
    {
      "cell_type": "code",
      "execution_count": null,
      "metadata": {
        "colab": {
          "base_uri": "https://localhost:8080/"
        },
        "id": "IY27gmxYDq-W",
        "outputId": "aad68c33-78e0-45ec-a88a-3b71ee86bb14"
      },
      "outputs": [
        {
          "name": "stdout",
          "output_type": "stream",
          "text": [
            "INFO:tensorflow:Assets written to: SavedModel/assets\n"
          ]
        }
      ],
      "source": [
        "# save our model using the SavedModel\n",
        "model_2.save(\"SavedModel\")\n",
        "\n",
        "# Save a model using hdf5\n",
        "model_2.save(\"HDF5.h5\")"
      ]
    },
    {
      "cell_type": "code",
      "execution_count": null,
      "metadata": {
        "id": "u2GCgLJIEhQW"
      },
      "outputs": [],
      "source": [
        "# Loading in a saved model\n",
        "\n",
        "loaded_SavedModel_format = tf.keras.models.load_model(\"/content/SavedModel\")"
      ]
    },
    {
      "cell_type": "code",
      "execution_count": null,
      "metadata": {
        "colab": {
          "base_uri": "https://localhost:8080/",
          "height": 34
        },
        "id": "kUEa2h3oFH7s",
        "outputId": "a14ee78f-4c5e-4498-ca62-ad5c3e26b23b"
      },
      "outputs": [
        {
          "data": {
            "application/javascript": [
              "\n",
              "    async function download(id, filename, size) {\n",
              "      if (!google.colab.kernel.accessAllowed) {\n",
              "        return;\n",
              "      }\n",
              "      const div = document.createElement('div');\n",
              "      const label = document.createElement('label');\n",
              "      label.textContent = `Downloading \"${filename}\": `;\n",
              "      div.appendChild(label);\n",
              "      const progress = document.createElement('progress');\n",
              "      progress.max = size;\n",
              "      div.appendChild(progress);\n",
              "      document.body.appendChild(div);\n",
              "\n",
              "      const buffers = [];\n",
              "      let downloaded = 0;\n",
              "\n",
              "      const channel = await google.colab.kernel.comms.open(id);\n",
              "      // Send a message to notify the kernel that we're ready.\n",
              "      channel.send({})\n",
              "\n",
              "      for await (const message of channel.messages) {\n",
              "        // Send a message to notify the kernel that we're ready.\n",
              "        channel.send({})\n",
              "        if (message.buffers) {\n",
              "          for (const buffer of message.buffers) {\n",
              "            buffers.push(buffer);\n",
              "            downloaded += buffer.byteLength;\n",
              "            progress.value = downloaded;\n",
              "          }\n",
              "        }\n",
              "      }\n",
              "      const blob = new Blob(buffers, {type: 'application/binary'});\n",
              "      const a = document.createElement('a');\n",
              "      a.href = window.URL.createObjectURL(blob);\n",
              "      a.download = filename;\n",
              "      div.appendChild(a);\n",
              "      a.click();\n",
              "      div.remove();\n",
              "    }\n",
              "  "
            ],
            "text/plain": [
              "<IPython.core.display.Javascript object>"
            ]
          },
          "metadata": {},
          "output_type": "display_data"
        },
        {
          "data": {
            "application/javascript": [
              "download(\"download_8e7f846a-fa56-4f7b-9156-408b703e09ea\", \"SavedModel\", 4096)"
            ],
            "text/plain": [
              "<IPython.core.display.Javascript object>"
            ]
          },
          "metadata": {},
          "output_type": "display_data"
        }
      ],
      "source": [
        "## Download a model (or any other file) from Google Collab\n",
        "from google.colab import files \n",
        "files.download(\"/content/SavedModel\")"
      ]
    },
    {
      "cell_type": "markdown",
      "metadata": {
        "id": "5NhwZUOpF1Zo"
      },
      "source": [
        "### A larger example"
      ]
    },
    {
      "cell_type": "code",
      "execution_count": null,
      "metadata": {
        "id": "QqF7Au_xF6b_"
      },
      "outputs": [],
      "source": [
        "# Import libraries\n",
        "\n",
        "import pandas as pd\n",
        "import matplotlib.pyplot as plt\n"
      ]
    },
    {
      "cell_type": "code",
      "execution_count": null,
      "metadata": {
        "colab": {
          "background_save": true
        },
        "id": "SecuhsbvGE20",
        "outputId": "d690bcae-ae3d-4a41-c1bb-f8618824e149"
      },
      "outputs": [
        {
          "ename": "FileNotFoundError",
          "evalue": "ignored",
          "output_type": "error",
          "traceback": [
            "\u001b[0;31m---------------------------------------------------------------------------\u001b[0m",
            "\u001b[0;31mFileNotFoundError\u001b[0m                         Traceback (most recent call last)",
            "\u001b[0;32m<ipython-input-51-082b4d18adc7>\u001b[0m in \u001b[0;36m<module>\u001b[0;34m()\u001b[0m\n\u001b[1;32m      1\u001b[0m \u001b[0;31m# Read in the insurance dataset\u001b[0m\u001b[0;34m\u001b[0m\u001b[0;34m\u001b[0m\u001b[0;34m\u001b[0m\u001b[0m\n\u001b[0;32m----> 2\u001b[0;31m \u001b[0minsurance\u001b[0m \u001b[0;34m=\u001b[0m \u001b[0mpd\u001b[0m\u001b[0;34m.\u001b[0m\u001b[0mread_csv\u001b[0m\u001b[0;34m(\u001b[0m\u001b[0;34m\"insurance.csv\"\u001b[0m\u001b[0;34m)\u001b[0m\u001b[0;34m\u001b[0m\u001b[0;34m\u001b[0m\u001b[0m\n\u001b[0m",
            "\u001b[0;32m/usr/local/lib/python3.7/dist-packages/pandas/util/_decorators.py\u001b[0m in \u001b[0;36mwrapper\u001b[0;34m(*args, **kwargs)\u001b[0m\n\u001b[1;32m    309\u001b[0m                     \u001b[0mstacklevel\u001b[0m\u001b[0;34m=\u001b[0m\u001b[0mstacklevel\u001b[0m\u001b[0;34m,\u001b[0m\u001b[0;34m\u001b[0m\u001b[0;34m\u001b[0m\u001b[0m\n\u001b[1;32m    310\u001b[0m                 )\n\u001b[0;32m--> 311\u001b[0;31m             \u001b[0;32mreturn\u001b[0m \u001b[0mfunc\u001b[0m\u001b[0;34m(\u001b[0m\u001b[0;34m*\u001b[0m\u001b[0margs\u001b[0m\u001b[0;34m,\u001b[0m \u001b[0;34m**\u001b[0m\u001b[0mkwargs\u001b[0m\u001b[0;34m)\u001b[0m\u001b[0;34m\u001b[0m\u001b[0;34m\u001b[0m\u001b[0m\n\u001b[0m\u001b[1;32m    312\u001b[0m \u001b[0;34m\u001b[0m\u001b[0m\n\u001b[1;32m    313\u001b[0m         \u001b[0;32mreturn\u001b[0m \u001b[0mwrapper\u001b[0m\u001b[0;34m\u001b[0m\u001b[0;34m\u001b[0m\u001b[0m\n",
            "\u001b[0;32m/usr/local/lib/python3.7/dist-packages/pandas/io/parsers/readers.py\u001b[0m in \u001b[0;36mread_csv\u001b[0;34m(filepath_or_buffer, sep, delimiter, header, names, index_col, usecols, squeeze, prefix, mangle_dupe_cols, dtype, engine, converters, true_values, false_values, skipinitialspace, skiprows, skipfooter, nrows, na_values, keep_default_na, na_filter, verbose, skip_blank_lines, parse_dates, infer_datetime_format, keep_date_col, date_parser, dayfirst, cache_dates, iterator, chunksize, compression, thousands, decimal, lineterminator, quotechar, quoting, doublequote, escapechar, comment, encoding, encoding_errors, dialect, error_bad_lines, warn_bad_lines, on_bad_lines, delim_whitespace, low_memory, memory_map, float_precision, storage_options)\u001b[0m\n\u001b[1;32m    584\u001b[0m     \u001b[0mkwds\u001b[0m\u001b[0;34m.\u001b[0m\u001b[0mupdate\u001b[0m\u001b[0;34m(\u001b[0m\u001b[0mkwds_defaults\u001b[0m\u001b[0;34m)\u001b[0m\u001b[0;34m\u001b[0m\u001b[0;34m\u001b[0m\u001b[0m\n\u001b[1;32m    585\u001b[0m \u001b[0;34m\u001b[0m\u001b[0m\n\u001b[0;32m--> 586\u001b[0;31m     \u001b[0;32mreturn\u001b[0m \u001b[0m_read\u001b[0m\u001b[0;34m(\u001b[0m\u001b[0mfilepath_or_buffer\u001b[0m\u001b[0;34m,\u001b[0m \u001b[0mkwds\u001b[0m\u001b[0;34m)\u001b[0m\u001b[0;34m\u001b[0m\u001b[0;34m\u001b[0m\u001b[0m\n\u001b[0m\u001b[1;32m    587\u001b[0m \u001b[0;34m\u001b[0m\u001b[0m\n\u001b[1;32m    588\u001b[0m \u001b[0;34m\u001b[0m\u001b[0m\n",
            "\u001b[0;32m/usr/local/lib/python3.7/dist-packages/pandas/io/parsers/readers.py\u001b[0m in \u001b[0;36m_read\u001b[0;34m(filepath_or_buffer, kwds)\u001b[0m\n\u001b[1;32m    480\u001b[0m \u001b[0;34m\u001b[0m\u001b[0m\n\u001b[1;32m    481\u001b[0m     \u001b[0;31m# Create the parser.\u001b[0m\u001b[0;34m\u001b[0m\u001b[0;34m\u001b[0m\u001b[0;34m\u001b[0m\u001b[0m\n\u001b[0;32m--> 482\u001b[0;31m     \u001b[0mparser\u001b[0m \u001b[0;34m=\u001b[0m \u001b[0mTextFileReader\u001b[0m\u001b[0;34m(\u001b[0m\u001b[0mfilepath_or_buffer\u001b[0m\u001b[0;34m,\u001b[0m \u001b[0;34m**\u001b[0m\u001b[0mkwds\u001b[0m\u001b[0;34m)\u001b[0m\u001b[0;34m\u001b[0m\u001b[0;34m\u001b[0m\u001b[0m\n\u001b[0m\u001b[1;32m    483\u001b[0m \u001b[0;34m\u001b[0m\u001b[0m\n\u001b[1;32m    484\u001b[0m     \u001b[0;32mif\u001b[0m \u001b[0mchunksize\u001b[0m \u001b[0;32mor\u001b[0m \u001b[0miterator\u001b[0m\u001b[0;34m:\u001b[0m\u001b[0;34m\u001b[0m\u001b[0;34m\u001b[0m\u001b[0m\n",
            "\u001b[0;32m/usr/local/lib/python3.7/dist-packages/pandas/io/parsers/readers.py\u001b[0m in \u001b[0;36m__init__\u001b[0;34m(self, f, engine, **kwds)\u001b[0m\n\u001b[1;32m    809\u001b[0m             \u001b[0mself\u001b[0m\u001b[0;34m.\u001b[0m\u001b[0moptions\u001b[0m\u001b[0;34m[\u001b[0m\u001b[0;34m\"has_index_names\"\u001b[0m\u001b[0;34m]\u001b[0m \u001b[0;34m=\u001b[0m \u001b[0mkwds\u001b[0m\u001b[0;34m[\u001b[0m\u001b[0;34m\"has_index_names\"\u001b[0m\u001b[0;34m]\u001b[0m\u001b[0;34m\u001b[0m\u001b[0;34m\u001b[0m\u001b[0m\n\u001b[1;32m    810\u001b[0m \u001b[0;34m\u001b[0m\u001b[0m\n\u001b[0;32m--> 811\u001b[0;31m         \u001b[0mself\u001b[0m\u001b[0;34m.\u001b[0m\u001b[0m_engine\u001b[0m \u001b[0;34m=\u001b[0m \u001b[0mself\u001b[0m\u001b[0;34m.\u001b[0m\u001b[0m_make_engine\u001b[0m\u001b[0;34m(\u001b[0m\u001b[0mself\u001b[0m\u001b[0;34m.\u001b[0m\u001b[0mengine\u001b[0m\u001b[0;34m)\u001b[0m\u001b[0;34m\u001b[0m\u001b[0;34m\u001b[0m\u001b[0m\n\u001b[0m\u001b[1;32m    812\u001b[0m \u001b[0;34m\u001b[0m\u001b[0m\n\u001b[1;32m    813\u001b[0m     \u001b[0;32mdef\u001b[0m \u001b[0mclose\u001b[0m\u001b[0;34m(\u001b[0m\u001b[0mself\u001b[0m\u001b[0;34m)\u001b[0m\u001b[0;34m:\u001b[0m\u001b[0;34m\u001b[0m\u001b[0;34m\u001b[0m\u001b[0m\n",
            "\u001b[0;32m/usr/local/lib/python3.7/dist-packages/pandas/io/parsers/readers.py\u001b[0m in \u001b[0;36m_make_engine\u001b[0;34m(self, engine)\u001b[0m\n\u001b[1;32m   1038\u001b[0m             )\n\u001b[1;32m   1039\u001b[0m         \u001b[0;31m# error: Too many arguments for \"ParserBase\"\u001b[0m\u001b[0;34m\u001b[0m\u001b[0;34m\u001b[0m\u001b[0;34m\u001b[0m\u001b[0m\n\u001b[0;32m-> 1040\u001b[0;31m         \u001b[0;32mreturn\u001b[0m \u001b[0mmapping\u001b[0m\u001b[0;34m[\u001b[0m\u001b[0mengine\u001b[0m\u001b[0;34m]\u001b[0m\u001b[0;34m(\u001b[0m\u001b[0mself\u001b[0m\u001b[0;34m.\u001b[0m\u001b[0mf\u001b[0m\u001b[0;34m,\u001b[0m \u001b[0;34m**\u001b[0m\u001b[0mself\u001b[0m\u001b[0;34m.\u001b[0m\u001b[0moptions\u001b[0m\u001b[0;34m)\u001b[0m  \u001b[0;31m# type: ignore[call-arg]\u001b[0m\u001b[0;34m\u001b[0m\u001b[0;34m\u001b[0m\u001b[0m\n\u001b[0m\u001b[1;32m   1041\u001b[0m \u001b[0;34m\u001b[0m\u001b[0m\n\u001b[1;32m   1042\u001b[0m     \u001b[0;32mdef\u001b[0m \u001b[0m_failover_to_python\u001b[0m\u001b[0;34m(\u001b[0m\u001b[0mself\u001b[0m\u001b[0;34m)\u001b[0m\u001b[0;34m:\u001b[0m\u001b[0;34m\u001b[0m\u001b[0;34m\u001b[0m\u001b[0m\n",
            "\u001b[0;32m/usr/local/lib/python3.7/dist-packages/pandas/io/parsers/c_parser_wrapper.py\u001b[0m in \u001b[0;36m__init__\u001b[0;34m(self, src, **kwds)\u001b[0m\n\u001b[1;32m     49\u001b[0m \u001b[0;34m\u001b[0m\u001b[0m\n\u001b[1;32m     50\u001b[0m         \u001b[0;31m# open handles\u001b[0m\u001b[0;34m\u001b[0m\u001b[0;34m\u001b[0m\u001b[0;34m\u001b[0m\u001b[0m\n\u001b[0;32m---> 51\u001b[0;31m         \u001b[0mself\u001b[0m\u001b[0;34m.\u001b[0m\u001b[0m_open_handles\u001b[0m\u001b[0;34m(\u001b[0m\u001b[0msrc\u001b[0m\u001b[0;34m,\u001b[0m \u001b[0mkwds\u001b[0m\u001b[0;34m)\u001b[0m\u001b[0;34m\u001b[0m\u001b[0;34m\u001b[0m\u001b[0m\n\u001b[0m\u001b[1;32m     52\u001b[0m         \u001b[0;32massert\u001b[0m \u001b[0mself\u001b[0m\u001b[0;34m.\u001b[0m\u001b[0mhandles\u001b[0m \u001b[0;32mis\u001b[0m \u001b[0;32mnot\u001b[0m \u001b[0;32mNone\u001b[0m\u001b[0;34m\u001b[0m\u001b[0;34m\u001b[0m\u001b[0m\n\u001b[1;32m     53\u001b[0m \u001b[0;34m\u001b[0m\u001b[0m\n",
            "\u001b[0;32m/usr/local/lib/python3.7/dist-packages/pandas/io/parsers/base_parser.py\u001b[0m in \u001b[0;36m_open_handles\u001b[0;34m(self, src, kwds)\u001b[0m\n\u001b[1;32m    227\u001b[0m             \u001b[0mmemory_map\u001b[0m\u001b[0;34m=\u001b[0m\u001b[0mkwds\u001b[0m\u001b[0;34m.\u001b[0m\u001b[0mget\u001b[0m\u001b[0;34m(\u001b[0m\u001b[0;34m\"memory_map\"\u001b[0m\u001b[0;34m,\u001b[0m \u001b[0;32mFalse\u001b[0m\u001b[0;34m)\u001b[0m\u001b[0;34m,\u001b[0m\u001b[0;34m\u001b[0m\u001b[0;34m\u001b[0m\u001b[0m\n\u001b[1;32m    228\u001b[0m             \u001b[0mstorage_options\u001b[0m\u001b[0;34m=\u001b[0m\u001b[0mkwds\u001b[0m\u001b[0;34m.\u001b[0m\u001b[0mget\u001b[0m\u001b[0;34m(\u001b[0m\u001b[0;34m\"storage_options\"\u001b[0m\u001b[0;34m,\u001b[0m \u001b[0;32mNone\u001b[0m\u001b[0;34m)\u001b[0m\u001b[0;34m,\u001b[0m\u001b[0;34m\u001b[0m\u001b[0;34m\u001b[0m\u001b[0m\n\u001b[0;32m--> 229\u001b[0;31m             \u001b[0merrors\u001b[0m\u001b[0;34m=\u001b[0m\u001b[0mkwds\u001b[0m\u001b[0;34m.\u001b[0m\u001b[0mget\u001b[0m\u001b[0;34m(\u001b[0m\u001b[0;34m\"encoding_errors\"\u001b[0m\u001b[0;34m,\u001b[0m \u001b[0;34m\"strict\"\u001b[0m\u001b[0;34m)\u001b[0m\u001b[0;34m,\u001b[0m\u001b[0;34m\u001b[0m\u001b[0;34m\u001b[0m\u001b[0m\n\u001b[0m\u001b[1;32m    230\u001b[0m         )\n\u001b[1;32m    231\u001b[0m \u001b[0;34m\u001b[0m\u001b[0m\n",
            "\u001b[0;32m/usr/local/lib/python3.7/dist-packages/pandas/io/common.py\u001b[0m in \u001b[0;36mget_handle\u001b[0;34m(path_or_buf, mode, encoding, compression, memory_map, is_text, errors, storage_options)\u001b[0m\n\u001b[1;32m    705\u001b[0m                 \u001b[0mencoding\u001b[0m\u001b[0;34m=\u001b[0m\u001b[0mioargs\u001b[0m\u001b[0;34m.\u001b[0m\u001b[0mencoding\u001b[0m\u001b[0;34m,\u001b[0m\u001b[0;34m\u001b[0m\u001b[0;34m\u001b[0m\u001b[0m\n\u001b[1;32m    706\u001b[0m                 \u001b[0merrors\u001b[0m\u001b[0;34m=\u001b[0m\u001b[0merrors\u001b[0m\u001b[0;34m,\u001b[0m\u001b[0;34m\u001b[0m\u001b[0;34m\u001b[0m\u001b[0m\n\u001b[0;32m--> 707\u001b[0;31m                 \u001b[0mnewline\u001b[0m\u001b[0;34m=\u001b[0m\u001b[0;34m\"\"\u001b[0m\u001b[0;34m,\u001b[0m\u001b[0;34m\u001b[0m\u001b[0;34m\u001b[0m\u001b[0m\n\u001b[0m\u001b[1;32m    708\u001b[0m             )\n\u001b[1;32m    709\u001b[0m         \u001b[0;32melse\u001b[0m\u001b[0;34m:\u001b[0m\u001b[0;34m\u001b[0m\u001b[0;34m\u001b[0m\u001b[0m\n",
            "\u001b[0;31mFileNotFoundError\u001b[0m: [Errno 2] No such file or directory: 'insurance.csv'"
          ]
        }
      ],
      "source": [
        "# Read in the insurance dataset\n",
        "insurance = pd.read_csv(\"\")"
      ]
    }
  ],
  "metadata": {
    "colab": {
      "collapsed_sections": [],
      "name": "Neural network regression with TensorFlow.ipynb",
      "provenance": [],
      "authorship_tag": "ABX9TyMlsM6wm62MnpzYsuVTiPiO",
      "include_colab_link": true
    },
    "kernelspec": {
      "display_name": "Python 3",
      "name": "python3"
    },
    "language_info": {
      "name": "python"
    }
  },
  "nbformat": 4,
  "nbformat_minor": 0
}