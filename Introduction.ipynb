{
  "nbformat": 4,
  "nbformat_minor": 0,
  "metadata": {
    "colab": {
      "name": "Introduction.ipynb",
      "provenance": [],
      "authorship_tag": "ABX9TyMsZAKMA3L4DkWcG1Xe4ssE",
      "include_colab_link": true
    },
    "kernelspec": {
      "name": "python3",
      "display_name": "Python 3"
    },
    "language_info": {
      "name": "python"
    }
  },
  "cells": [
    {
      "cell_type": "markdown",
      "metadata": {
        "id": "view-in-github",
        "colab_type": "text"
      },
      "source": [
        "<a href=\"https://colab.research.google.com/github/Faouzi-Slimi/Tensorflow-Certification/blob/main/Introduction.ipynb\" target=\"_parent\"><img src=\"https://colab.research.google.com/assets/colab-badge.svg\" alt=\"Open In Colab\"/></a>"
      ]
    },
    {
      "cell_type": "code",
      "execution_count": null,
      "metadata": {
        "id": "JPaBFdpIHMuj"
      },
      "outputs": [],
      "source": [
        "### Cleaning Data\n",
        "pd.set_option('expand_frame_repr', False) # for the format of output\n",
        "data = (Daily_Data,Hourly_Data,Monthly_Data,Weekly_Data,Yearly_Data) # All Data in a tuple\n",
        "data_names = (\"Daily_Data\",\"Hourly_Data\",\"Monthly_Data\",\"Weekly_Data\",\"Yearly_Data\") # thre names of each data\n",
        "\n",
        "   # print the first 20 row for each data\n",
        "\n",
        "for i in range(5) :\n",
        "  print()\n",
        "  print(data_names[i] + \" :\")\n",
        "  print()\n",
        "  print(data[i].head(20))"
      ]
    }
  ]
}